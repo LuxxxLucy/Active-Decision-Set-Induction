{
 "cells": [
  {
   "cell_type": "markdown",
   "metadata": {},
   "source": [
    "# 111"
   ]
  },
  {
   "cell_type": "code",
   "execution_count": 1,
   "metadata": {
    "ExecuteTime": {
     "end_time": "2019-09-15T04:19:40.617249Z",
     "start_time": "2019-09-15T04:19:40.578168Z"
    }
   },
   "outputs": [
    {
     "data": {
      "text/plain": [
       "True"
      ]
     },
     "execution_count": 1,
     "metadata": {},
     "output_type": "execute_result"
    }
   ],
   "source": [
    "# Sanity check of your system and your brain :)\n",
    "\"A\" == \"A\""
   ]
  },
  {
   "cell_type": "code",
   "execution_count": 2,
   "metadata": {
    "ExecuteTime": {
     "end_time": "2019-09-15T04:19:41.052383Z",
     "start_time": "2019-09-15T04:19:40.638616Z"
    }
   },
   "outputs": [],
   "source": [
    "# for reproducibility\n",
    "import numpy as np\n",
    "import random\n",
    "random_seed=42\n",
    "np.random.seed(random_seed)\n",
    "random.seed(random_seed)\n"
   ]
  },
  {
   "cell_type": "markdown",
   "metadata": {
    "ExecuteTime": {
     "end_time": "2019-05-05T21:14:49.104379Z",
     "start_time": "2019-05-05T21:14:48.015227Z"
    }
   },
   "source": [
    "## Preparing data and black (In Orange framework, it is simple and good)"
   ]
  },
  {
   "cell_type": "code",
   "execution_count": 3,
   "metadata": {
    "ExecuteTime": {
     "end_time": "2019-09-15T04:19:44.974813Z",
     "start_time": "2019-09-15T04:19:41.281517Z"
    }
   },
   "outputs": [
    {
     "name": "stderr",
     "output_type": "stream",
     "text": [
      "/Users/lucy/Desktop/workspace/Descriptive-Induction-ML/prepare_dataset.py:153: FutureWarning: elementwise comparison failed; returning scalar instead, but in the future will perform elementwise comparison\n",
      "  if '?' in df[col].unique():\n",
      "/Users/lucy/Desktop/workspace/Descriptive-Induction-ML/prepare_dataset.py:154: SettingWithCopyWarning: \n",
      "A value is trying to be set on a copy of a slice from a DataFrame\n",
      "\n",
      "See the caveats in the documentation: http://pandas.pydata.org/pandas-docs/stable/indexing.html#indexing-view-versus-copy\n",
      "  df[col][df[col] == '?'] = df[col].value_counts().index[0]\n"
     ]
    },
    {
     "name": "stdout",
     "output_type": "stream",
     "text": [
      "shape of train set (43957, 12)\n",
      "shape of test set (4885, 12)\n"
     ]
    }
   ],
   "source": [
    "%load_ext autoreload\n",
    "%autoreload 2\n",
    "import numpy as np\n",
    "\n",
    "from prepare_dataset import prepare_adult_dataset,prepare_german_dataset,prepare_compas_dataset,prepare_pima_dataset,train_test_split_data,prepare_2d_sinusoidal_dataset\n",
    "from utils import encoder_from_datatable\n",
    "\n",
    "\n",
    "data_table,test_data_table = prepare_adult_dataset()\n",
    "# data_table,test_data_table = prepare_2d_sinusoidal_dataset()\n",
    "\n",
    "# data_table,test_data_table = prepare_german_dataset()\n",
    "\n",
    "# data_table,test_data_table = prepare_compas_dataset()\n",
    "\n",
    "# data_table, vali_data_table = train_test_split_data(data_table)\n",
    "# data_table,test_data_table = prepare_pima_dataset()\n",
    "\n",
    "print(\"shape of train set\", data_table.X.shape)\n",
    "# print(\"instances of evaluation set\", vali_data_table.X.shape[0])\n",
    "print(\"shape of test set\", test_data_table.X.shape)\n"
   ]
  },
  {
   "cell_type": "code",
   "execution_count": 4,
   "metadata": {
    "ExecuteTime": {
     "end_time": "2019-09-15T04:22:12.409464Z",
     "start_time": "2019-09-15T04:19:44.991594Z"
    }
   },
   "outputs": [
    {
     "name": "stdout",
     "output_type": "stream",
     "text": [
      "now start sanity-check\n",
      "the first row of the dataset is (orginal form):\n",
      " [20, Private, Some-college, Never-married, Other-service, Own-child, White, Female, 0, 0, 32, United-States | <=50K]\n",
      "the predition of blackbox on the first row:\n",
      " [0.]\n",
      "train set data set size, (43957, 12)\n",
      "test setdata set size, (4885, 12)\n",
      "data set size, [[20, Private, Some-college, Never-married, Other-service, Own-child, White, Female, 0, 0, 32, United-States | <=50K],\n",
      " [47, Private, Bachelors, Never-married, Sales, Own-child, White, Male, 0, 0, 40, United-States | <=50K],\n",
      " [35, Local-gov, HS-grad, Never-married, Adm-clerical, Unmarried, Amer-Indian-Eskimo, Male, 0, 0, 55, United-States | <=50K],\n",
      " [30, Private, Bachelors, Never-married, Sales, Own-child, White, Male, 0, 0, 40, United-States | >50K],\n",
      " [31, Self-emp-not-inc, Assoc-acdm, Married-civ-spouse, Other-service, Wife, White, Female, 0, 0, 35, United-States | >50K]]\n"
     ]
    }
   ],
   "source": [
    "\n",
    "from prepare_blackbox import train_classifier\n",
    "\n",
    "black_box_model = train_classifier(data_table,classifier_method='dnn',random_seed=random_seed)\n",
    "# black_box_model = train_classifier(data_table,classifier_method='rf',random_seed=random_seed)\n",
    "\n",
    "\n",
    "\n",
    "black_box = lambda x: black_box_model.predict(x)\n",
    "# black_box = lambda x:  c.predict(scikit_encoder.transform(x))\n",
    "\n",
    "print(\"now start sanity-check\")\n",
    "print(\"the first row of the dataset is (orginal form):\\n\", data_table[0] )\n",
    "print(\"the predition of blackbox on the first row:\\n\", black_box( [data_table.X[0]]  )   )\n",
    "\n",
    "print(\"train set data set size,\",data_table.X.shape)\n",
    "print(\"test setdata set size,\",test_data_table.X.shape)\n",
    "print(\"data set size,\",data_table[:5])"
   ]
  },
  {
   "cell_type": "markdown",
   "metadata": {},
   "source": [
    "A sanity check of train and test accuracy"
   ]
  },
  {
   "cell_type": "code",
   "execution_count": 5,
   "metadata": {
    "ExecuteTime": {
     "end_time": "2019-09-15T04:22:16.016676Z",
     "start_time": "2019-09-15T04:22:12.414333Z"
    }
   },
   "outputs": [
    {
     "name": "stdout",
     "output_type": "stream",
     "text": [
      "Train acc 0.9280660645630957\n",
      "Test acc 0.8354145342886387\n",
      "acc on training set 0.9280660645630957\n",
      "f1 on training set 0.8416149068322982\n",
      "recall on training set 0.7989538754160723\n",
      "precision on training set 0.8890887924648111\n",
      "acc on test set 0.8354145342886387\n",
      "f1 on test set 0.6375112714156899\n",
      "recall on test set 0.6032423208191127\n",
      "precision on test set 0.6759082217973231\n"
     ]
    }
   ],
   "source": [
    "from sklearn.metrics import accuracy_score,f1_score,precision_score,recall_score\n",
    "import sklearn\n",
    "# predict_fn = lambda x: aml.predict(H2OFrame(x)).as_data_frame().iloc[:,0].to_numpy()\n",
    "\n",
    "predict_fn = black_box\n",
    "\n",
    "print('Train acc', accuracy_score(data_table.Y, predict_fn(data_table.X)))\n",
    "print('Test acc', accuracy_score(test_data_table.Y, predict_fn(test_data_table.X)))\n",
    "\n",
    "print('acc on training set', sklearn.metrics.accuracy_score(data_table.Y, predict_fn(data_table.X)))\n",
    "print('f1 on training set', sklearn.metrics.f1_score(data_table.Y, predict_fn(data_table.X)))\n",
    "print('recall on training set', sklearn.metrics.recall_score(data_table.Y, predict_fn(data_table.X)))\n",
    "print('precision on training set', sklearn.metrics.precision_score(data_table.Y, predict_fn(data_table.X)))\n",
    "\n",
    "print('acc on test set', sklearn.metrics.accuracy_score(test_data_table.Y, predict_fn(test_data_table.X)))\n",
    "print('f1 on test set', sklearn.metrics.f1_score(test_data_table.Y, predict_fn(test_data_table.X)))\n",
    "print('recall on test set', sklearn.metrics.recall_score(test_data_table.Y, predict_fn(test_data_table.X)))\n",
    "print('precision on test set', sklearn.metrics.precision_score(test_data_table.Y, predict_fn(test_data_table.X)))\n",
    "\n",
    "\n",
    "# print('test f1', f1_score(y_test, predict_fn(X_test)))\n",
    "# print('test recall',recall_score(y_test, predict_fn(X_test)))\n",
    "# print('test precision', precision_score(y_test, predict_fn(X_test)))\n"
   ]
  },
  {
   "cell_type": "code",
   "execution_count": 6,
   "metadata": {
    "ExecuteTime": {
     "end_time": "2019-09-15T04:22:18.014996Z",
     "start_time": "2019-09-15T04:22:16.023138Z"
    }
   },
   "outputs": [
    {
     "name": "stdout",
     "output_type": "stream",
     "text": [
      "--\n",
      "[0. 0. 0. 0. 1.]\n",
      "--\n",
      "--\n",
      "[0. 0. 1. 0. 1.]\n",
      "--\n",
      "[[20, Private, Some-college, Never-married, Other-service, Own-child, White, Female, 0, 0, 32, United-States | <=50K],\n",
      " [47, Private, Bachelors, Never-married, Sales, Own-child, White, Male, 0, 0, 40, United-States | <=50K],\n",
      " [35, Local-gov, HS-grad, Never-married, Adm-clerical, Unmarried, Amer-Indian-Eskimo, Male, 0, 0, 55, United-States | <=50K],\n",
      " [30, Private, Bachelors, Never-married, Sales, Own-child, White, Male, 0, 0, 40, United-States | <=50K],\n",
      " [31, Self-emp-not-inc, Assoc-acdm, Married-civ-spouse, Other-service, Wife, White, Female, 0, 0, 35, United-States | >50K]]\n",
      "[[56, Private, HS-grad, Divorced, Other-service, Unmarried, White, Female, 0, 0, 40, United-States | <=50K],\n",
      " [25, Private, HS-grad, Married-civ-spouse, Transport-moving, Own-child, Other, Male, 0, 0, 40, United-States | <=50K],\n",
      " [43, Private, Bachelors, Divorced, Prof-specialty, Not-in-family, White, Female, 14344, 0, 40, United-States | >50K],\n",
      " [32, Private, HS-grad, Married-civ-spouse, Transport-moving, Husband, White, Male, 0, 0, 40, United-States | <=50K],\n",
      " [39, Private, Bachelors, Married-civ-spouse, Sales, Wife, White, Female, 0, 0, 30, United-States | >50K]]\n",
      "4885\n",
      "sanity check, of acc,should be 100 1.0\n"
     ]
    }
   ],
   "source": [
    "black_box = predict_fn\n",
    "\n",
    "from utils import label_with_blackbox\n",
    "\n",
    "predicted_data_table = label_with_blackbox(data_table,black_box)\n",
    "\n",
    "predicted_test_data_table = label_with_blackbox(test_data_table,black_box)\n",
    "\n",
    "\n",
    "print(predicted_data_table[:5])\n",
    "# print(predicted_data_table.X[:5])\n",
    "# print(predicted_data_table.X.shape[0])\n",
    "# print(test_data_table[:5])\n",
    "print(predicted_test_data_table[:5])\n",
    "# print(predicted_test_data_table.X[:5])\n",
    "print(predicted_test_data_table.X.shape[0])\n",
    "\n",
    "print('sanity check, of acc,should be 100', accuracy_score(predicted_data_table.Y, predict_fn(predicted_data_table.X)))"
   ]
  },
  {
   "cell_type": "markdown",
   "metadata": {},
   "source": [
    "## Run once. Our approach Non-active mode ($\\beta=zero$ )"
   ]
  },
  {
   "cell_type": "code",
   "execution_count": 7,
   "metadata": {
    "ExecuteTime": {
     "end_time": "2019-09-15T04:32:07.894245Z",
     "start_time": "2019-09-15T04:22:18.018123Z"
    }
   },
   "outputs": [
    {
     "name": "stdout",
     "output_type": "stream",
     "text": [
      "The autoreload extension is already loaded. To reload it, use:\n",
      "  %reload_ext autoreload\n",
      "init transformer okay!\n",
      "new cached!\n"
     ]
    },
    {
     "data": {
      "application/vnd.jupyter.widget-view+json": {
       "model_id": "b394b4648e7e47a6b212a044ce2e5b38",
       "version_major": 2,
       "version_minor": 0
      },
      "text/plain": [
       "HBox(children=(IntProgress(value=0, max=1000), HTML(value='')))"
      ]
     },
     "metadata": {},
     "output_type": "display_data"
    },
    {
     "name": "stdout",
     "output_type": "stream",
     "text": [
      "\n",
      "best solution found in iteration 411\n",
      "Now print Error Log\n",
      "at iteration: 920 happens the following error\n",
      "('no plausible actions, len length of actions', 0, 'in the mode of ', 'REMOVE_CONDITION')\n"
     ]
    }
   ],
   "source": [
    "%load_ext autoreload\n",
    "%autoreload 2\n",
    "from approach import explain_tabular\n",
    "# l_parameter = 0.0001\n",
    "l_parameter = 0.0003\n",
    "# l_parameter = 0.0005\n",
    "explanations,ADS = explain_tabular(predicted_data_table, black_box, target_class_idx=1, random_seed=random_seed,beta=0,lambda_parameter=l_parameter )"
   ]
  },
  {
   "cell_type": "code",
   "execution_count": 8,
   "metadata": {
    "ExecuteTime": {
     "end_time": "2019-09-15T04:32:08.320461Z",
     "start_time": "2019-09-15T04:32:07.896914Z"
    }
   },
   "outputs": [
    {
     "name": "stdout",
     "output_type": "stream",
     "text": [
      "IF 17.0 <= age <= 27.0 AND education is Doctorate AND 1.0 <= hours-per-week <= 35.300000000000004 AND native-country is Columbia THEN income=>50K \n",
      "IF 17.0 <= age <= 27.0 AND education is Doctorate AND 1.0 <= hours-per-week <= 50.0 AND native-country is Columbia THEN income=>50K \n",
      "IF 17.0 <= age <= 27.0 AND education is Doctorate AND 1.0 <= hours-per-week <= 59.80000000000001 AND native-country is Columbia THEN income=>50K \n",
      "IF 17.0 <= age <= 27.0 AND education is Doctorate AND native-country is Columbia THEN income=>50K \n",
      "IF 17.0 <= age <= 27.0 AND education is Doctorate AND native-country is Dominican-Republic THEN income=>50K \n",
      "IF 17.0 <= age <= 27.0 AND education is Doctorate AND native-country is Ecuador THEN income=>50K \n",
      "IF 17.0 <= age <= 27.0 AND education is Doctorate AND native-country is France THEN income=>50K \n",
      "IF 17.0 <= age <= 27.0 AND education is Doctorate AND native-country is Honduras THEN income=>50K \n",
      "IF 17.0 <= age <= 27.0 AND education is HS-grad,Preschool AND 1.0 <= hours-per-week <= 35.300000000000004 AND native-country is Cuba THEN income=>50K \n",
      "IF 17.0 <= age <= 27.0 AND marital-status is Married-AF-spouse AND 1.0 <= hours-per-week <= 26.0 AND native-country is Cuba THEN income=>50K \n",
      "IF 17.0 <= age <= 27.0 AND marital-status is Married-AF-spouse AND 1.0 <= hours-per-week <= 26.0 AND native-country is Dominican-Republic THEN income=>50K \n",
      "IF 17.0 <= age <= 27.0 AND marital-status is Married-AF-spouse AND 1.0 <= hours-per-week <= 26.0 AND native-country is Honduras THEN income=>50K \n",
      "IF 17.0 <= age <= 27.0 AND marital-status is Married-AF-spouse AND 1.0 <= hours-per-week <= 26.0 AND native-country is Hungary THEN income=>50K \n",
      "IF 17.0 <= age <= 27.0 AND marital-status is Married-AF-spouse AND 1.0 <= hours-per-week <= 26.0 AND native-country is Japan THEN income=>50K \n",
      "IF 17.0 <= age <= 27.0 AND marital-status is Married-AF-spouse AND 1.0 <= hours-per-week <= 26.0 AND native-country is Laos THEN income=>50K \n",
      "IF 17.0 <= age <= 27.0 AND marital-status is Married-AF-spouse AND 1.0 <= hours-per-week <= 26.0 AND native-country is Scotland THEN income=>50K \n",
      "IF 17.0 <= age <= 27.950000000000003 AND education is 9th,Doctorate AND native-country is Columbia THEN income=>50K \n",
      "IF 17.0 <= age <= 27.950000000000003 AND education is Doctorate AND native-country is Japan THEN income=>50K \n",
      "IF 17.0 <= age <= 31.6 AND 1.0 <= hours-per-week <= 26.0 AND native-country is Cuba THEN income=>50K \n",
      "IF 17.0 <= age <= 31.6 AND education is Doctorate AND native-country is Columbia THEN income=>50K \n",
      "IF 17.0 <= age <= 31.6 AND education is Doctorate AND native-country is Dominican-Republic THEN income=>50K \n",
      "IF 17.0 <= age <= 31.6 AND education is Masters AND native-country is Columbia THEN income=>50K \n",
      "IF 17.0 <= age <= 35.25 AND 1.0 <= hours-per-week <= 26.0 AND native-country is Cuba THEN income=>50K \n",
      "IF 17.0 <= age <= 35.25 AND education is Bachelors,Doctorate,Masters AND native-country is Dominican-Republic THEN income=>50K \n",
      "IF 17.0 <= age <= 38.900000000000006 AND education is Assoc-acdm,Doctorate AND 1.0 <= hours-per-week <= 59.80000000000001 AND native-country is Scotland THEN income=>50K \n",
      "IF 17.0 <= age <= 38.900000000000006 AND education is Doctorate AND native-country is Columbia THEN income=>50K \n",
      "IF 17.0 <= age <= 46.2 AND education is Doctorate AND native-country is Honduras THEN income=>50K \n",
      "IF 17.0 <= age <= 49.85 AND education is Doctorate AND 1.0 <= hours-per-week <= 59.80000000000001 AND native-country is Ecuador THEN income=>50K \n",
      "IF 17.0 <= age <= 49.85 AND education is Doctorate AND native-country is Cuba THEN income=>50K \n",
      "IF 17.0 <= age <= 49.85 AND relationship is Own-child AND gender is Female AND 2258.0 <= capital-loss <= 4356.0 THEN income=>50K \n",
      "IF 17.0 <= age <= 57.150000000000006 AND education is Assoc-voc,Bachelors,Doctorate AND 1.0 <= hours-per-week <= 26.0 AND native-country is Cuba THEN income=>50K \n",
      "IF 17.0 <= age <= 57.150000000000006 AND education is Doctorate AND native-country is Cuba THEN income=>50K \n",
      "IF 2444.0 <= capital-loss <= 4356.0 THEN income=>50K \n",
      "IF 38.900000000000006 <= age <= 60.800000000000004 AND 7262.0 <= capital-gain <= 99999.0 THEN income=>50K \n",
      "IF 80.0 <= hours-per-week <= 99.0 AND native-country is Columbia,Japan THEN income=>50K \n",
      "IF 8614.0 <= capital-gain <= 99999.0 THEN income=>50K \n",
      "IF education is Assoc-voc AND native-country is Dominican-Republic THEN income=>50K \n",
      "IF education is Bachelors,Doctorate,Masters AND marital-status is Married-AF-spouse,Married-civ-spouse AND 0.0 <= capital-gain <= 57.0 AND 30.400000000000006 <= hours-per-week <= 99.0 THEN income=>50K \n",
      "IF education is Bachelors,Doctorate,Some-college AND marital-status is Married-AF-spouse AND 39.5 <= hours-per-week <= 40.5 THEN income=>50K \n",
      "IF education is Doctorate AND marital-status is Divorced,Married-AF-spouse THEN income=>50K \n",
      "IF education is Doctorate AND native-country is Columbia THEN income=>50K \n",
      "IF education is Doctorate AND native-country is Dominican-Republic THEN income=>50K \n",
      "IF education is Doctorate AND native-country is Ecuador THEN income=>50K \n",
      "IF education is Doctorate AND native-country is Hungary THEN income=>50K \n",
      "IF education is Doctorate,Prof-school AND marital-status is Married-civ-spouse,Separated THEN income=>50K \n",
      "IF education is Masters AND native-country is Cambodia,England THEN income=>50K \n",
      "IF education is Masters AND native-country is El-Salvador THEN income=>50K \n",
      "IF education is Preschool AND marital-status is Married-AF-spouse THEN income=>50K \n",
      "IF education is Prof-school AND native-country is Columbia THEN income=>50K \n",
      "IF marital-status is Married-civ-spouse AND 1742.4 <= capital-loss <= 4356.0 THEN income=>50K \n",
      "IF marital-status is Married-civ-spouse AND 5178.0 <= capital-gain <= 99999.0 THEN income=>50K \n",
      "IF marital-status is Never-married AND 7896.0 <= capital-gain <= 99999.0 THEN income=>50K \n",
      "IF occupation is Exec-managerial AND native-country is El-Salvador THEN income=>50K \n",
      "IF occupation is Other-service AND 7896.0 <= capital-gain <= 99999.0 THEN income=>50K \n",
      "IF occupation is Tech-support AND native-country is Guatemala THEN income=>50K \n",
      "IF relationship is Other-relative AND native-country is Iran THEN income=>50K \n",
      "IF relationship is Other-relative,Wife AND native-country is Canada THEN income=>50K \n",
      "IF workclass is Self-emp-not-inc AND native-country is Dominican-Republic THEN income=>50K \n",
      "830\n",
      "Blackbox and our, f1 score 0.7142857142857144\n",
      "Blackbox and our, acc 0.8902763561924258\n",
      "Blackbox and our,recall 0.6405353728489483\n",
      "Blackbox and our,precision 0.8072289156626506\n",
      "number of rules: 58\n",
      "new instances 0\n",
      "number of rules 58\n",
      "ave number of conditions 2.8275862068965516\n",
      "max number of conditions 4\n",
      "used features 11\n"
     ]
    }
   ],
   "source": [
    "%matplotlib inline\n",
    "\n",
    "from utils import  rule_to_string,ruleset_predict\n",
    "# ADS.finish()\n",
    "explanations = ADS.output_the_best(0.0003)\n",
    "for e in explanations:\n",
    "    print(rule_to_string(e,data_table.domain,target_class_idx=1))\n",
    "    \n",
    "our_prediction = ruleset_predict(explanations,test_data_table.X)\n",
    "\n",
    "print(sum(our_prediction) )\n",
    "\n",
    "import sklearn\n",
    "print('Blackbox and our, f1 score', sklearn.metrics.f1_score(predicted_test_data_table.Y, our_prediction))\n",
    "print('Blackbox and our, acc', sklearn.metrics.accuracy_score(predicted_test_data_table.Y, our_prediction))\n",
    "print('Blackbox and our,recall', sklearn.metrics.recall_score(predicted_test_data_table.Y, our_prediction))\n",
    "print('Blackbox and our,precision', sklearn.metrics.precision_score(predicted_test_data_table.Y, our_prediction))\n",
    "\n",
    "from utils import  rule_to_string\n",
    "print('number of rules:',len(explanations))\n",
    "print(\"new instances\",ADS.synthetic_data_table.X.shape[0])\n",
    "\n",
    "from utils import compute_metrics\n",
    "\n",
    "compute_metrics(explanations,data_table.domain)\n"
   ]
  },
  {
   "cell_type": "code",
   "execution_count": 9,
   "metadata": {
    "ExecuteTime": {
     "end_time": "2019-09-15T04:33:00.856625Z",
     "start_time": "2019-09-15T04:32:08.324937Z"
    }
   },
   "outputs": [
    {
     "name": "stdout",
     "output_type": "stream",
     "text": [
      "best solution found in iteration 853\n",
      "parameter:  0 0 metrics 80 0.715042372881356 0.8898669396110542 0.6453154875717018 0.8016627078384798 0\n",
      "best solution found in iteration 874\n",
      "parameter:  0 1e-07 metrics 78 0.715042372881356 0.8898669396110542 0.6453154875717018 0.8016627078384798 0\n",
      "best solution found in iteration 874\n",
      "parameter:  0 1e-06 metrics 78 0.715042372881356 0.8898669396110542 0.6453154875717018 0.8016627078384798 0\n",
      "best solution found in iteration 874\n",
      "parameter:  0 1e-05 metrics 78 0.715042372881356 0.8898669396110542 0.6453154875717018 0.8016627078384798 0\n",
      "best solution found in iteration 874\n",
      "parameter:  0 3e-05 metrics 78 0.715042372881356 0.8898669396110542 0.6453154875717018 0.8016627078384798 0\n",
      "best solution found in iteration 411\n",
      "parameter:  0 5e-05 metrics 58 0.7142857142857144 0.8902763561924258 0.6405353728489483 0.8072289156626506 0\n",
      "best solution found in iteration 411\n",
      "parameter:  0 8e-05 metrics 58 0.7142857142857144 0.8902763561924258 0.6405353728489483 0.8072289156626506 0\n",
      "best solution found in iteration 411\n",
      "parameter:  0 0.0001 metrics 58 0.7142857142857144 0.8902763561924258 0.6405353728489483 0.8072289156626506 0\n",
      "best solution found in iteration 411\n",
      "parameter:  0 0.00015 metrics 58 0.7142857142857144 0.8902763561924258 0.6405353728489483 0.8072289156626506 0\n",
      "best solution found in iteration 411\n",
      "parameter:  0 0.0002 metrics 58 0.7142857142857144 0.8902763561924258 0.6405353728489483 0.8072289156626506 0\n",
      "best solution found in iteration 166\n",
      "parameter:  0 0.0003 metrics 29 0.6907894736842105 0.8845445240532241 0.6022944550669216 0.8097686375321337 0\n",
      "best solution found in iteration 925\n",
      "parameter:  0 0.0005 metrics 4 0.6813186813186812 0.8812691914022518 0.5927342256214149 0.8010335917312662 0\n",
      "best solution found in iteration 923\n",
      "parameter:  0 0.001 metrics 3 0.6755260243632337 0.8800409416581372 0.5831739961759083 0.8026315789473685 0\n",
      "best solution found in iteration 923\n",
      "parameter:  0 0.0013 metrics 3 0.6755260243632337 0.8800409416581372 0.5831739961759083 0.8026315789473685 0\n",
      "best solution found in iteration 923\n",
      "parameter:  0 0.0015 metrics 3 0.6755260243632337 0.8800409416581372 0.5831739961759083 0.8026315789473685 0\n",
      "best solution found in iteration 923\n",
      "parameter:  0 0.0018 metrics 3 0.6755260243632337 0.8800409416581372 0.5831739961759083 0.8026315789473685 0\n",
      "best solution found in iteration 923\n",
      "parameter:  0 0.002 metrics 3 0.6755260243632337 0.8800409416581372 0.5831739961759083 0.8026315789473685 0\n",
      "best solution found in iteration 923\n",
      "parameter:  0 0.0025 metrics 3 0.6755260243632337 0.8800409416581372 0.5831739961759083 0.8026315789473685 0\n",
      "best solution found in iteration 923\n",
      "parameter:  0 0.003 metrics 3 0.6755260243632337 0.8800409416581372 0.5831739961759083 0.8026315789473685 0\n",
      "best solution found in iteration 923\n",
      "parameter:  0 0.005 metrics 3 0.6755260243632337 0.8800409416581372 0.5831739961759083 0.8026315789473685 0\n",
      "best solution found in iteration 923\n",
      "parameter:  0 0.006 metrics 3 0.6755260243632337 0.8800409416581372 0.5831739961759083 0.8026315789473685 0\n",
      "best solution found in iteration 923\n",
      "parameter:  0 0.007 metrics 3 0.6755260243632337 0.8800409416581372 0.5831739961759083 0.8026315789473685 0\n",
      "best solution found in iteration 923\n",
      "parameter:  0 0.008 metrics 3 0.6755260243632337 0.8800409416581372 0.5831739961759083 0.8026315789473685 0\n",
      "best solution found in iteration 923\n",
      "parameter:  0 0.01 metrics 3 0.6755260243632337 0.8800409416581372 0.5831739961759083 0.8026315789473685 0\n",
      "best solution found in iteration 923\n",
      "parameter:  0 0.015 metrics 3 0.6755260243632337 0.8800409416581372 0.5831739961759083 0.8026315789473685 0\n",
      "best solution found in iteration 923\n",
      "parameter:  0 0.02 metrics 3 0.6755260243632337 0.8800409416581372 0.5831739961759083 0.8026315789473685 0\n",
      "best solution found in iteration 904\n",
      "parameter:  0 0.03 metrics 0 0.0 0.7858751279426817 0.0 0.0 0\n",
      "best solution found in iteration 904\n",
      "parameter:  0 0.05 metrics 0 0.0 0.7858751279426817 0.0 0.0 0\n",
      "best solution found in iteration 904\n",
      "parameter:  0 0.1 metrics 0 0.0 0.7858751279426817 0.0 0.0 0\n",
      "best solution found in iteration 904\n",
      "parameter:  0 0.15 metrics 0 0.0 0.7858751279426817 0.0 0.0 0\n",
      "best solution found in iteration 904\n",
      "parameter:  0 0.2 metrics 0 0.0 0.7858751279426817 0.0 0.0 0\n",
      "best solution found in iteration 904\n",
      "parameter:  0 0.5 metrics 0 0.0 0.7858751279426817 0.0 0.0 0\n"
     ]
    }
   ],
   "source": [
    "# lambda_candidates = [  0,0.0000001,0.000001,0.00001,0.00003,0.00005,0.00008,0.0001,0.0005,0.001,0.0013,0.0015,0.0018,0.002,0.003,0.004,0.0045,0.005,0.006,0.007,0.008,0.01,0.015,0.02,0.03,0.05,0.1,0.15,0.2,0.5 ]\n",
    "lambda_candidates = [  0,0.0000001,0.000001,0.00001,0.00003,0.00005,0.00008,0.0001,0.00015,0.0002,0.0003,0.0005,0.001,0.0013,0.0015,0.0018,0.002,0.0025,0.003,0.005,0.006,0.007,0.008,0.01,0.015,0.02,0.03,0.05,0.1,0.15,0.2,0.5 ]\n",
    "\n",
    "\n",
    "beta = 0\n",
    "for lambda_parameter in  lambda_candidates:\n",
    "    explanations = ADS.output_the_best(lambda_parameter)\n",
    "    our_prediction = ruleset_predict(explanations,test_data_table.X)\n",
    "    f1_score = sklearn.metrics.f1_score(predicted_test_data_table.Y, our_prediction)\n",
    "    acc_score=sklearn.metrics.accuracy_score(predicted_test_data_table.Y, our_prediction)\n",
    "    rec_score = sklearn.metrics.recall_score(predicted_test_data_table.Y, our_prediction)\n",
    "    pre_score = sklearn.metrics.precision_score(predicted_test_data_table.Y, our_prediction)\n",
    "    num = len(explanations)\n",
    "    num_of_instance = ADS.synthetic_data_table.X.shape[0]\n",
    "\n",
    "    print(\"parameter: \",beta,lambda_parameter,\"metrics\",num,f1_score,acc_score,rec_score,pre_score,num_of_instance)"
   ]
  },
  {
   "cell_type": "markdown",
   "metadata": {
    "heading_collapsed": true
   },
   "source": [
    "## Run once. Our approach active mode"
   ]
  },
  {
   "cell_type": "code",
   "execution_count": 24,
   "metadata": {
    "ExecuteTime": {
     "end_time": "2019-08-13T05:49:56.501590Z",
     "start_time": "2019-08-13T05:49:14.598507Z"
    },
    "hidden": true
   },
   "outputs": [
    {
     "name": "stdout",
     "output_type": "stream",
     "text": [
      "The autoreload extension is already loaded. To reload it, use:\n",
      "  %reload_ext autoreload\n",
      "init transformer okay!\n",
      "new cached!\n"
     ]
    },
    {
     "data": {
      "application/vnd.jupyter.widget-view+json": {
       "model_id": "d5e2edd85b1c49b88d959de1c14e6835",
       "version_major": 2,
       "version_minor": 0
      },
      "text/plain": [
       "HBox(children=(IntProgress(value=0, max=1000), HTML(value='')))"
      ]
     },
     "metadata": {},
     "output_type": "display_data"
    },
    {
     "name": "stdout",
     "output_type": "stream",
     "text": [
      "\r\n",
      "best solution found in iteration 891\n",
      "Now print Error Log\n",
      "at iteration: 15 happens the following error\n",
      "('no plausible actions, len length of actions', 0, 'in the mode of ', 'SPECIFY_CONDITION')\n",
      "at iteration: 16 happens the following error\n",
      "('no plausible actions, len length of actions', 0, 'in the mode of ', 'REMOVE_CONDITION')\n",
      "at iteration: 17 happens the following error\n",
      "('no plausible actions, len length of actions', 0, 'in the mode of ', 'REMOVE_CONDITION')\n",
      "at iteration: 23 happens the following error\n",
      "('no plausible actions, len length of actions', 0, 'in the mode of ', 'REMOVE_CONDITION')\n",
      "at iteration: 31 happens the following error\n",
      "('no plausible actions, len length of actions', 0, 'in the mode of ', 'SPECIFY_CONDITION')\n",
      "at iteration: 34 happens the following error\n",
      "('no plausible actions, len length of actions', 0, 'in the mode of ', 'SPECIFY_CONDITION')\n",
      "at iteration: 65 happens the following error\n",
      "('no plausible actions, len length of actions', 0, 'in the mode of ', 'SPECIFY_CONDITION')\n",
      "at iteration: 79 happens the following error\n",
      "('no plausible actions, len length of actions', 0, 'in the mode of ', 'SPECIFY_CONDITION')\n",
      "at iteration: 84 happens the following error\n",
      "('no plausible actions, len length of actions', 0, 'in the mode of ', 'SPECIFY_CONDITION')\n",
      "at iteration: 93 happens the following error\n",
      "('no plausible actions, len length of actions', 0, 'in the mode of ', 'REMOVE_CONDITION')\n",
      "at iteration: 117 happens the following error\n",
      "('no plausible actions, len length of actions', 0, 'in the mode of ', 'SPECIFY_CONDITION')\n",
      "at iteration: 122 happens the following error\n",
      "('no plausible actions, len length of actions', 0, 'in the mode of ', 'SPECIFY_CONDITION')\n",
      "at iteration: 245 happens the following error\n",
      "('no plausible actions, len length of actions', 0, 'in the mode of ', 'SPECIFY_CONDITION')\n",
      "at iteration: 943 happens the following error\n",
      "('no plausible actions, len length of actions', 0, 'in the mode of ', 'REMOVE_CONDITION')\n",
      "at iteration: 951 happens the following error\n",
      "('no plausible actions, len length of actions', 0, 'in the mode of ', 'SPECIFY_CONDITION')\n",
      "at iteration: 961 happens the following error\n",
      "('no plausible actions, len length of actions', 0, 'in the mode of ', 'SPECIFY_CONDITION')\n"
     ]
    }
   ],
   "source": [
    "%load_ext autoreload\n",
    "%autoreload 2\n",
    "from approach import explain_tabular\n",
    "beta = 1.2e-04\n",
    "# beta = 1e-05\n",
    "# beta = 1.5e-04\n",
    "l_parameter = 0.0003\n",
    "\n",
    "explanations_active,ADS_active = explain_tabular(predicted_data_table, black_box, target_class_idx=1, random_seed=42,beta=beta,lambda_parameter=l_parameter)\n"
   ]
  },
  {
   "cell_type": "code",
   "execution_count": 25,
   "metadata": {
    "ExecuteTime": {
     "end_time": "2019-08-13T05:49:56.737612Z",
     "start_time": "2019-08-13T05:49:56.505915Z"
    },
    "hidden": true
   },
   "outputs": [
    {
     "name": "stdout",
     "output_type": "stream",
     "text": [
      "best solution found in iteration 425\n",
      "num of rules 20\n",
      "IF age is 18-20 AND current-charge-degree is Misdemeanor THEN recidivate-within-two-years=1 \n",
      "IF age is 18-20 AND juvenile-misdemeanors is >0 AND priors is =0 THEN recidivate-within-two-years=1 \n",
      "IF age is 18-20 AND priors is 2-3,>3 THEN recidivate-within-two-years=1 \n",
      "IF age is 21-22 AND juvenile-crimes is =0 AND priors is >3 THEN recidivate-within-two-years=1 \n",
      "IF age is 21-22 AND juvenile-crimes is >0 AND priors is =0,>3 THEN recidivate-within-two-years=1 \n",
      "IF age is 21-22 AND juvenile-felonies is >0 AND juvenile-crimes is =0 AND priors is =0 THEN recidivate-within-two-years=1 \n",
      "IF age is 21-22,23-25 AND juvenile-crimes is =0 AND priors is 2-3,=1,>3 AND current-charge-degree is Misdemeanor THEN recidivate-within-two-years=1 \n",
      "IF age is 23-25 AND priors is 2-3 THEN recidivate-within-two-years=1 \n",
      "IF age is 23-25,26-45 AND juvenile-felonies is =0 AND priors is >3 THEN recidivate-within-two-years=1 \n",
      "IF juvenile-felonies is =0 AND juvenile-crimes is >0 AND priors is >3 THEN recidivate-within-two-years=1 \n",
      "IF juvenile-felonies is =0 AND juvenile-misdemeanors is =0 AND juvenile-crimes is >0 AND priors is 2-3,>3 AND current-charge-degree is Felony THEN recidivate-within-two-years=1 \n",
      "IF juvenile-felonies is >0 AND priors is >3 AND current-charge-degree is Misdemeanor THEN recidivate-within-two-years=1 \n",
      "IF juvenile-misdemeanors is >0 AND priors is 2-3 AND current-charge-degree is Misdemeanor THEN recidivate-within-two-years=1 \n",
      "IF sex is Female AND age is 21-22 AND juvenile-felonies is >0 AND juvenile-crimes is =0,>0 AND priors is =1 THEN recidivate-within-two-years=1 \n",
      "IF sex is Male AND age is 18-20 THEN recidivate-within-two-years=1 \n",
      "IF sex is Male AND age is 18-20,21-22,23-25 AND juvenile-misdemeanors is =0 AND juvenile-crimes is >0 AND priors is =1 THEN recidivate-within-two-years=1 \n",
      "IF sex is Male AND age is 21-22 AND current-charge-degree is Felony THEN recidivate-within-two-years=1 \n",
      "IF sex is Male AND age is 26-45 AND juvenile-felonies is >0 THEN recidivate-within-two-years=1 \n",
      "IF sex is Male AND age is >45 AND juvenile-felonies is >0 AND juvenile-misdemeanors is >0 AND priors is 2-3 THEN recidivate-within-two-years=1 \n",
      "IF sex is Male AND priors is >3 AND current-charge-degree is Felony THEN recidivate-within-two-years=1 \n",
      "330\n",
      "--\n",
      "[1. 1. 1. 1. 0.]\n",
      "--\n",
      "330.0\n",
      "number of rules 20\n",
      "Blackbox and our, f1 score 0.9848484848484849\n",
      "Blackbox and our, acc 0.986130374479889\n",
      "Blackbox and our,recall 0.9848484848484849\n",
      "Blackbox and our,precision 0.9848484848484849\n",
      "number of rules 20\n",
      "ave number of conditions 3.3\n",
      "max number of conditions 5\n",
      "used features 7\n"
     ]
    }
   ],
   "source": [
    "\n",
    "from utils import  rule_to_string,ruleset_predict\n",
    "explanations_active = ADS_active.output_the_best(0.0005)\n",
    "print(\"num of rules\",len(explanations_active))\n",
    "for e in explanations_active:\n",
    "    print(rule_to_string(e,data_table.domain,target_class_idx=1))\n",
    "    \n",
    "our_prediction = ruleset_predict(explanations_active,test_data_table.X)\n",
    "\n",
    "print(sum(our_prediction) )\n",
    "\n",
    "from utils import label_with_blackbox\n",
    "predicted_test_data_table = label_with_blackbox(test_data_table,black_box)\n",
    "print(sum(predicted_test_data_table.Y) )\n",
    "print(\"number of rules\",len(explanations_active))\n",
    "import sklearn\n",
    "print('Blackbox and our, f1 score', sklearn.metrics.f1_score(predicted_test_data_table.Y, our_prediction))\n",
    "print('Blackbox and our, acc', sklearn.metrics.accuracy_score(predicted_test_data_table.Y, our_prediction))\n",
    "print('Blackbox and our,recall', sklearn.metrics.recall_score(predicted_test_data_table.Y, our_prediction))\n",
    "print('Blackbox and our,precision', sklearn.metrics.precision_score(predicted_test_data_table.Y, our_prediction))\n",
    "\n",
    "from utils import compute_metrics\n",
    "\n",
    "compute_metrics(explanations_active,data_table.domain)"
   ]
  },
  {
   "cell_type": "code",
   "execution_count": 26,
   "metadata": {
    "ExecuteTime": {
     "end_time": "2019-08-13T05:50:02.102081Z",
     "start_time": "2019-08-13T05:49:56.741213Z"
    },
    "hidden": true
   },
   "outputs": [
    {
     "name": "stdout",
     "output_type": "stream",
     "text": [
      "best solution found in iteration 884\n",
      "parameter:  1e-05 0 metrics 41 0.9878787878787879 0.9889042995839112 0.9878787878787879 0.9878787878787879 196\n",
      "best solution found in iteration 891\n",
      "parameter:  1e-05 1e-07 metrics 38 0.9878787878787879 0.9889042995839112 0.9878787878787879 0.9878787878787879 196\n",
      "best solution found in iteration 891\n",
      "parameter:  1e-05 1e-06 metrics 38 0.9878787878787879 0.9889042995839112 0.9878787878787879 0.9878787878787879 196\n",
      "best solution found in iteration 891\n",
      "parameter:  1e-05 1e-05 metrics 38 0.9878787878787879 0.9889042995839112 0.9878787878787879 0.9878787878787879 196\n",
      "best solution found in iteration 891\n",
      "parameter:  1e-05 3e-05 metrics 38 0.9878787878787879 0.9889042995839112 0.9878787878787879 0.9878787878787879 196\n",
      "best solution found in iteration 891\n",
      "parameter:  1e-05 5e-05 metrics 38 0.9878787878787879 0.9889042995839112 0.9878787878787879 0.9878787878787879 196\n",
      "best solution found in iteration 891\n",
      "parameter:  1e-05 8e-05 metrics 38 0.9878787878787879 0.9889042995839112 0.9878787878787879 0.9878787878787879 196\n",
      "best solution found in iteration 891\n",
      "parameter:  1e-05 0.0001 metrics 38 0.9878787878787879 0.9889042995839112 0.9878787878787879 0.9878787878787879 196\n",
      "best solution found in iteration 425\n",
      "parameter:  1e-05 0.0005 metrics 20 0.9848484848484849 0.986130374479889 0.9848484848484849 0.9848484848484849 196\n",
      "best solution found in iteration 425\n",
      "parameter:  1e-05 0.001 metrics 20 0.9848484848484849 0.986130374479889 0.9848484848484849 0.9848484848484849 196\n",
      "best solution found in iteration 425\n",
      "parameter:  1e-05 0.0013 metrics 20 0.9848484848484849 0.986130374479889 0.9848484848484849 0.9848484848484849 196\n",
      "best solution found in iteration 425\n",
      "parameter:  1e-05 0.0015 metrics 20 0.9848484848484849 0.986130374479889 0.9848484848484849 0.9848484848484849 196\n",
      "best solution found in iteration 425\n",
      "parameter:  1e-05 0.0018 metrics 20 0.9848484848484849 0.986130374479889 0.9848484848484849 0.9848484848484849 196\n",
      "best solution found in iteration 425\n",
      "parameter:  1e-05 0.002 metrics 20 0.9848484848484849 0.986130374479889 0.9848484848484849 0.9848484848484849 196\n",
      "best solution found in iteration 425\n",
      "parameter:  1e-05 0.0025 metrics 20 0.9848484848484849 0.986130374479889 0.9848484848484849 0.9848484848484849 196\n",
      "best solution found in iteration 39\n",
      "parameter:  1e-05 0.003 metrics 4 0.9355828220858895 0.941747572815534 0.9242424242424242 0.9472049689440993 196\n",
      "best solution found in iteration 59\n",
      "parameter:  1e-05 0.005 metrics 3 0.9337349397590362 0.9389736477115118 0.9393939393939394 0.9281437125748503 196\n",
      "best solution found in iteration 59\n",
      "parameter:  1e-05 0.006 metrics 3 0.9337349397590362 0.9389736477115118 0.9393939393939394 0.9281437125748503 196\n",
      "best solution found in iteration 59\n",
      "parameter:  1e-05 0.007 metrics 3 0.9337349397590362 0.9389736477115118 0.9393939393939394 0.9281437125748503 196\n",
      "best solution found in iteration 59\n",
      "parameter:  1e-05 0.008 metrics 3 0.9337349397590362 0.9389736477115118 0.9393939393939394 0.9281437125748503 196\n",
      "best solution found in iteration 59\n",
      "parameter:  1e-05 0.01 metrics 3 0.9337349397590362 0.9389736477115118 0.9393939393939394 0.9281437125748503 196\n",
      "best solution found in iteration 59\n",
      "parameter:  1e-05 0.015 metrics 3 0.9337349397590362 0.9389736477115118 0.9393939393939394 0.9281437125748503 196\n",
      "best solution found in iteration 59\n",
      "parameter:  1e-05 0.02 metrics 3 0.9337349397590362 0.9389736477115118 0.9393939393939394 0.9281437125748503 196\n",
      "best solution found in iteration 59\n",
      "parameter:  1e-05 0.03 metrics 3 0.9337349397590362 0.9389736477115118 0.9393939393939394 0.9281437125748503 196\n",
      "best solution found in iteration 72\n",
      "parameter:  1e-05 0.05 metrics 2 0.8930817610062893 0.9056865464632455 0.8606060606060606 0.9281045751633987 196\n",
      "best solution found in iteration 6\n",
      "parameter:  1e-05 0.1 metrics 1 0.7964912280701754 0.8391123439667129 0.6878787878787879 0.9458333333333333 196\n",
      "best solution found in iteration 6\n",
      "parameter:  1e-05 0.15 metrics 1 0.7964912280701754 0.8391123439667129 0.6878787878787879 0.9458333333333333 196\n",
      "best solution found in iteration 6\n",
      "parameter:  1e-05 0.2 metrics 1 0.7964912280701754 0.8391123439667129 0.6878787878787879 0.9458333333333333 196\n",
      "best solution found in iteration 925\n",
      "parameter:  1e-05 0.5 metrics 0 0.0 0.5423023578363384 0.0 0.0 196\n"
     ]
    }
   ],
   "source": [
    "lambda_candidates = [  0,0.0000001,0.000001,0.00001,0.00003,0.00005,0.00008,0.0001,0.0005,0.001,0.0013,0.0015,0.0018,0.002,0.0025,0.003,0.005,0.006,0.007,0.008,0.01,0.015,0.02,0.03,0.05,0.1,0.15,0.2,0.5 ]\n",
    "\n",
    "\n",
    "for lambda_parameter in  lambda_candidates:\n",
    "    explanations = ADS_active.output_the_best(lambda_parameter)\n",
    "    our_prediction = ruleset_predict(explanations,test_data_table.X)\n",
    "    f1_score = sklearn.metrics.f1_score(predicted_test_data_table.Y, our_prediction)\n",
    "    acc_score=sklearn.metrics.accuracy_score(predicted_test_data_table.Y, our_prediction)\n",
    "    rec_score = sklearn.metrics.recall_score(predicted_test_data_table.Y, our_prediction)\n",
    "    pre_score = sklearn.metrics.precision_score(predicted_test_data_table.Y, our_prediction)\n",
    "    num = len(explanations)\n",
    "    num_of_instance = ADS_active.synthetic_data_table.X.shape[0]\n",
    "\n",
    "    print(\"parameter: \",beta,lambda_parameter,\"metrics\",num,f1_score,acc_score,rec_score,pre_score,num_of_instance)"
   ]
  },
  {
   "cell_type": "code",
   "execution_count": 28,
   "metadata": {
    "ExecuteTime": {
     "end_time": "2019-08-13T05:52:29.610327Z",
     "start_time": "2019-08-13T05:50:54.098593Z"
    },
    "hidden": true
   },
   "outputs": [
    {
     "name": "stdout",
     "output_type": "stream",
     "text": [
      "The autoreload extension is already loaded. To reload it, use:\n",
      "  %reload_ext autoreload\n",
      "init transformer okay!\n",
      "new cached!\n"
     ]
    },
    {
     "data": {
      "application/vnd.jupyter.widget-view+json": {
       "model_id": "55f95410f6c040e7a95a896223e0ca14",
       "version_major": 2,
       "version_minor": 0
      },
      "text/plain": [
       "HBox(children=(IntProgress(value=0, max=1000), HTML(value='')))"
      ]
     },
     "metadata": {},
     "output_type": "display_data"
    },
    {
     "name": "stdout",
     "output_type": "stream",
     "text": [
      "best solution found in iteration 353\n",
      "Now print Error Log\n",
      "at iteration: 15 happens the following error\n",
      "('no plausible actions, len length of actions', 0, 'in the mode of ', 'SPECIFY_CONDITION')\n",
      "at iteration: 16 happens the following error\n",
      "('no plausible actions, len length of actions', 0, 'in the mode of ', 'REMOVE_CONDITION')\n",
      "at iteration: 17 happens the following error\n",
      "('no plausible actions, len length of actions', 0, 'in the mode of ', 'REMOVE_CONDITION')\n",
      "at iteration: 23 happens the following error\n",
      "('no plausible actions, len length of actions', 0, 'in the mode of ', 'REMOVE_CONDITION')\n",
      "at iteration: 30 happens the following error\n",
      "('no plausible actions, len length of actions', 0, 'in the mode of ', 'REMOVE_CONDITION')\n",
      "at iteration: 46 happens the following error\n",
      "('no plausible actions, len length of actions', 0, 'in the mode of ', 'SPECIFY_CONDITION')\n",
      "at iteration: 51 happens the following error\n",
      "('no plausible actions, len length of actions', 0, 'in the mode of ', 'SPECIFY_CONDITION')\n",
      "at iteration: 53 happens the following error\n",
      "('no plausible actions, len length of actions', 0, 'in the mode of ', 'SPECIFY_CONDITION')\n",
      "at iteration: 330 happens the following error\n",
      "('no plausible actions, len length of actions', 0, 'in the mode of ', 'SPECIFY_CONDITION')\n",
      "at iteration: 339 happens the following error\n",
      "('no plausible actions, len length of actions', 0, 'in the mode of ', 'SPECIFY_CONDITION')\n",
      "at iteration: 348 happens the following error\n",
      "('no plausible actions, len length of actions', 0, 'in the mode of ', 'SPECIFY_CONDITION')\n",
      "at iteration: 357 happens the following error\n",
      "('no plausible actions, len length of actions', 0, 'in the mode of ', 'SPECIFY_CONDITION')\n",
      "at iteration: 570 happens the following error\n",
      "('no plausible actions, len length of actions', 0, 'in the mode of ', 'SPECIFY_CONDITION')\n",
      "at iteration: 645 happens the following error\n",
      "('no plausible actions, len length of actions', 0, 'in the mode of ', 'SPECIFY_CONDITION')\n",
      "at iteration: 647 happens the following error\n",
      "('no plausible actions, len length of actions', 0, 'in the mode of ', 'SPECIFY_CONDITION')\n",
      "at iteration: 655 happens the following error\n",
      "('no plausible actions, len length of actions', 0, 'in the mode of ', 'SPECIFY_CONDITION')\n",
      "at iteration: 692 happens the following error\n",
      "('no plausible actions, len length of actions', 0, 'in the mode of ', 'SPECIFY_CONDITION')\n",
      "at iteration: 732 happens the following error\n",
      "('no plausible actions, len length of actions', 0, 'in the mode of ', 'SPECIFY_CONDITION')\n",
      "at iteration: 737 happens the following error\n",
      "('no plausible actions, len length of actions', 0, 'in the mode of ', 'SPECIFY_CONDITION')\n",
      "at iteration: 759 happens the following error\n",
      "('no plausible actions, len length of actions', 0, 'in the mode of ', 'SPECIFY_CONDITION')\n",
      "at iteration: 786 happens the following error\n",
      "('no plausible actions, len length of actions', 0, 'in the mode of ', 'REMOVE_CONDITION')\n",
      "at iteration: 829 happens the following error\n",
      "('no plausible actions, len length of actions', 0, 'in the mode of ', 'SPECIFY_CONDITION')\n",
      "at iteration: 836 happens the following error\n",
      "('no plausible actions, len length of actions', 0, 'in the mode of ', 'SPECIFY_CONDITION')\n",
      "at iteration: 855 happens the following error\n",
      "('no plausible actions, len length of actions', 0, 'in the mode of ', 'SPECIFY_CONDITION')\n",
      "at iteration: 868 happens the following error\n",
      "('no plausible actions, len length of actions', 0, 'in the mode of ', 'SPECIFY_CONDITION')\n",
      "at iteration: 888 happens the following error\n",
      "('no plausible actions, len length of actions', 0, 'in the mode of ', 'SPECIFY_CONDITION')\n",
      "at iteration: 928 happens the following error\n",
      "('no plausible actions, len length of actions', 0, 'in the mode of ', 'SPECIFY_CONDITION')\n",
      "at iteration: 929 happens the following error\n",
      "('no plausible actions, len length of actions', 0, 'in the mode of ', 'SPECIFY_CONDITION')\n",
      "at iteration: 935 happens the following error\n",
      "('no plausible actions, len length of actions', 0, 'in the mode of ', 'SPECIFY_CONDITION')\n",
      "at iteration: 936 happens the following error\n",
      "('no plausible actions, len length of actions', 0, 'in the mode of ', 'SPECIFY_CONDITION')\n",
      "at iteration: 938 happens the following error\n",
      "('no plausible actions, len length of actions', 0, 'in the mode of ', 'SPECIFY_CONDITION')\n",
      "at iteration: 942 happens the following error\n",
      "('no plausible actions, len length of actions', 0, 'in the mode of ', 'SPECIFY_CONDITION')\n",
      "at iteration: 971 happens the following error\n",
      "('no plausible actions, len length of actions', 0, 'in the mode of ', 'SPECIFY_CONDITION')\n",
      "at iteration: 973 happens the following error\n",
      "('no plausible actions, len length of actions', 0, 'in the mode of ', 'REMOVE_CONDITION')\n",
      "at iteration: 975 happens the following error\n",
      "('no plausible actions, len length of actions', 0, 'in the mode of ', 'REMOVE_CONDITION')\n",
      "at iteration: 988 happens the following error\n",
      "('no plausible actions, len length of actions', 0, 'in the mode of ', 'SPECIFY_CONDITION')\n",
      "num of rules 18\n",
      "IF age is 18-20 AND current-charge-degree is Felony,Misdemeanor THEN recidivate-within-two-years=1 \n",
      "IF age is 21-22 AND juvenile-crimes is >0 THEN recidivate-within-two-years=1 \n",
      "IF age is 21-22 AND juvenile-felonies is =0 AND juvenile-crimes is =0 AND priors is >3 AND current-charge-degree is Felony THEN recidivate-within-two-years=1 \n",
      "IF age is 21-22,23-25 AND juvenile-crimes is =0 AND priors is 2-3,=1,>3 AND current-charge-degree is Misdemeanor THEN recidivate-within-two-years=1 \n",
      "IF age is 21-22,23-25 AND juvenile-felonies is =0 AND juvenile-misdemeanors is =0 AND juvenile-crimes is >0 AND priors is =1 THEN recidivate-within-two-years=1 \n",
      "IF age is 23-25 AND juvenile-misdemeanors is =0 AND priors is 2-3 THEN recidivate-within-two-years=1 \n",
      "IF age is 23-25 AND juvenile-misdemeanors is =0 AND priors is >3 THEN recidivate-within-two-years=1 \n",
      "IF age is 26-45 AND juvenile-felonies is >0 AND juvenile-misdemeanors is =0 AND juvenile-crimes is =0 AND priors is =1 AND current-charge-degree is Felony THEN recidivate-within-two-years=1 \n",
      "IF age is 26-45 AND priors is >3 THEN recidivate-within-two-years=1 \n",
      "IF age is >45 AND juvenile-felonies is =0 AND juvenile-misdemeanors is >0 AND priors is >3 THEN recidivate-within-two-years=1 \n",
      "IF juvenile-crimes is >0 AND priors is >3 AND current-charge-degree is Misdemeanor THEN recidivate-within-two-years=1 \n",
      "IF juvenile-felonies is >0 AND juvenile-crimes is =0 AND priors is 2-3,>3 AND current-charge-degree is Misdemeanor THEN recidivate-within-two-years=1 \n",
      "IF sex is Female AND age is >45 AND priors is >3 AND current-charge-degree is Misdemeanor THEN recidivate-within-two-years=1 \n",
      "IF sex is Male AND age is 21-22 AND juvenile-crimes is =0 AND current-charge-degree is Felony THEN recidivate-within-two-years=1 \n",
      "IF sex is Male AND age is 21-22 AND priors is >3 AND current-charge-degree is Felony THEN recidivate-within-two-years=1 \n",
      "IF sex is Male AND age is 26-45 AND juvenile-felonies is >0 AND juvenile-misdemeanors is =0 THEN recidivate-within-two-years=1 \n",
      "IF sex is Male AND juvenile-misdemeanors is >0 AND priors is 2-3,>3 THEN recidivate-within-two-years=1 \n",
      "IF sex is Male AND priors is >3 AND current-charge-degree is Felony THEN recidivate-within-two-years=1 \n",
      "333\n",
      "--\n",
      "[1. 1. 1. 1. 0.]\n",
      "--\n",
      "330.0\n",
      "number of rules 18\n",
      "Blackbox and our, f1 score 0.9834087481146305\n",
      "Blackbox and our, acc 0.984743411927878\n",
      "Blackbox and our,recall 0.9878787878787879\n",
      "Blackbox and our,precision 0.978978978978979\n",
      "number of rules 18\n",
      "ave number of conditions 3.611111111111111\n",
      "max number of conditions 6\n",
      "used features 7\n",
      "best solution found in iteration 353\n",
      "parameter:  5e-05 0 metrics 18 0.9834087481146305 0.984743411927878 0.9878787878787879 0.978978978978979 5604\n",
      "best solution found in iteration 353\n",
      "parameter:  5e-05 1e-07 metrics 18 0.9834087481146305 0.984743411927878 0.9878787878787879 0.978978978978979 5604\n",
      "best solution found in iteration 353\n",
      "parameter:  5e-05 1e-06 metrics 18 0.9834087481146305 0.984743411927878 0.9878787878787879 0.978978978978979 5604\n",
      "best solution found in iteration 353\n",
      "parameter:  5e-05 1e-05 metrics 18 0.9834087481146305 0.984743411927878 0.9878787878787879 0.978978978978979 5604\n",
      "best solution found in iteration 353\n",
      "parameter:  5e-05 3e-05 metrics 18 0.9834087481146305 0.984743411927878 0.9878787878787879 0.978978978978979 5604\n",
      "best solution found in iteration 353\n",
      "parameter:  5e-05 5e-05 metrics 18 0.9834087481146305 0.984743411927878 0.9878787878787879 0.978978978978979 5604\n"
     ]
    },
    {
     "name": "stdout",
     "output_type": "stream",
     "text": [
      "best solution found in iteration 353\n",
      "parameter:  5e-05 8e-05 metrics 18 0.9834087481146305 0.984743411927878 0.9878787878787879 0.978978978978979 5604\n",
      "best solution found in iteration 353\n",
      "parameter:  5e-05 0.0001 metrics 18 0.9834087481146305 0.984743411927878 0.9878787878787879 0.978978978978979 5604\n",
      "best solution found in iteration 356\n",
      "parameter:  5e-05 0.0005 metrics 17 0.9849397590361446 0.986130374479889 0.990909090909091 0.9790419161676647 5604\n",
      "best solution found in iteration 356\n",
      "parameter:  5e-05 0.001 metrics 17 0.9849397590361446 0.986130374479889 0.990909090909091 0.9790419161676647 5604\n",
      "best solution found in iteration 540\n",
      "parameter:  5e-05 0.0013 metrics 15 0.9676425269645608 0.970873786407767 0.9515151515151515 0.9843260188087775 5604\n",
      "best solution found in iteration 386\n",
      "parameter:  5e-05 0.0015 metrics 13 0.9726443768996961 0.9750346740638003 0.9696969696969697 0.975609756097561 5604\n",
      "best solution found in iteration 386\n",
      "parameter:  5e-05 0.0018 metrics 13 0.9726443768996961 0.9750346740638003 0.9696969696969697 0.975609756097561 5604\n",
      "best solution found in iteration 386\n",
      "parameter:  5e-05 0.002 metrics 13 0.9726443768996961 0.9750346740638003 0.9696969696969697 0.975609756097561 5604\n",
      "best solution found in iteration 386\n",
      "parameter:  5e-05 0.0025 metrics 13 0.9726443768996961 0.9750346740638003 0.9696969696969697 0.975609756097561 5604\n",
      "best solution found in iteration 612\n",
      "parameter:  5e-05 0.003 metrics 7 0.9470499243570348 0.9514563106796117 0.9484848484848485 0.945619335347432 5604\n",
      "best solution found in iteration 612\n",
      "parameter:  5e-05 0.005 metrics 7 0.9470499243570348 0.9514563106796117 0.9484848484848485 0.945619335347432 5604\n",
      "best solution found in iteration 612\n",
      "parameter:  5e-05 0.006 metrics 7 0.9470499243570348 0.9514563106796117 0.9484848484848485 0.945619335347432 5604\n",
      "best solution found in iteration 612\n",
      "parameter:  5e-05 0.007 metrics 7 0.9470499243570348 0.9514563106796117 0.9484848484848485 0.945619335347432 5604\n",
      "best solution found in iteration 676\n",
      "parameter:  5e-05 0.008 metrics 5 0.9406528189910979 0.9445214979195562 0.9606060606060606 0.9215116279069767 5604\n",
      "best solution found in iteration 676\n",
      "parameter:  5e-05 0.01 metrics 5 0.9406528189910979 0.9445214979195562 0.9606060606060606 0.9215116279069767 5604\n",
      "best solution found in iteration 938\n",
      "parameter:  5e-05 0.015 metrics 3 0.8936170212765958 0.9029126213592233 0.8909090909090909 0.8963414634146342 5604\n",
      "best solution found in iteration 938\n",
      "parameter:  5e-05 0.02 metrics 3 0.8936170212765958 0.9029126213592233 0.8909090909090909 0.8963414634146342 5604\n",
      "best solution found in iteration 32\n",
      "parameter:  5e-05 0.03 metrics 2 0.8865030674846625 0.897364771151179 0.8757575757575757 0.8975155279503105 5604\n",
      "best solution found in iteration 32\n",
      "parameter:  5e-05 0.05 metrics 2 0.8865030674846625 0.897364771151179 0.8757575757575757 0.8975155279503105 5604\n",
      "best solution found in iteration 32\n",
      "parameter:  5e-05 0.1 metrics 2 0.8865030674846625 0.897364771151179 0.8757575757575757 0.8975155279503105 5604\n",
      "best solution found in iteration 32\n",
      "parameter:  5e-05 0.15 metrics 2 0.8865030674846625 0.897364771151179 0.8757575757575757 0.8975155279503105 5604\n",
      "best solution found in iteration 768\n",
      "parameter:  5e-05 0.2 metrics 1 0.7448275862068965 0.7434119278779473 0.8181818181818182 0.6835443037974683 5604\n",
      "best solution found in iteration 913\n",
      "parameter:  5e-05 0.5 metrics 0 0.0 0.5423023578363384 0.0 0.0 5604\n"
     ]
    }
   ],
   "source": [
    "%load_ext autoreload\n",
    "%autoreload 2\n",
    "from approach import explain_tabular\n",
    "# beta = 1.2e-04\n",
    "# beta = 1e-4\n",
    "beta = 5e-5\n",
    "\n",
    "\n",
    "# beta = 1.5e-04\n",
    "l_parameter = 0.0001\n",
    "\n",
    "explanations_active,ADS_active = explain_tabular(predicted_data_table, black_box, target_class_idx=1, random_seed=42,beta=beta,lambda_parameter=l_parameter)\n",
    "\n",
    "from utils import  rule_to_string,ruleset_predict\n",
    "# explanations_active = ADS_active.output_the_best(0.0001)\n",
    "print(\"num of rules\",len(explanations_active))\n",
    "for e in explanations_active:\n",
    "    print(rule_to_string(e,data_table.domain,target_class_idx=1))\n",
    "    \n",
    "our_prediction = ruleset_predict(explanations_active,test_data_table.X)\n",
    "\n",
    "print(sum(our_prediction) )\n",
    "\n",
    "from utils import label_with_blackbox\n",
    "predicted_test_data_table = label_with_blackbox(test_data_table,black_box)\n",
    "print(sum(predicted_test_data_table.Y) )\n",
    "print(\"number of rules\",len(explanations_active))\n",
    "import sklearn\n",
    "print('Blackbox and our, f1 score', sklearn.metrics.f1_score(predicted_test_data_table.Y, our_prediction))\n",
    "print('Blackbox and our, acc', sklearn.metrics.accuracy_score(predicted_test_data_table.Y, our_prediction))\n",
    "print('Blackbox and our,recall', sklearn.metrics.recall_score(predicted_test_data_table.Y, our_prediction))\n",
    "print('Blackbox and our,precision', sklearn.metrics.precision_score(predicted_test_data_table.Y, our_prediction))\n",
    "\n",
    "from utils import compute_metrics\n",
    "\n",
    "compute_metrics(explanations_active,data_table.domain)\n",
    "\n",
    "lambda_candidates = [  0,0.0000001,0.000001,0.00001,0.00003,0.00005,0.00008,0.0001,0.0005,0.001,0.0013,0.0015,0.0018,0.002,0.0025,0.003,0.005,0.006,0.007,0.008,0.01,0.015,0.02,0.03,0.05,0.1,0.15,0.2,0.5 ]\n",
    "\n",
    "\n",
    "for lambda_parameter in  lambda_candidates:\n",
    "    explanations = ADS_active.output_the_best(lambda_parameter)\n",
    "    our_prediction = ruleset_predict(explanations,test_data_table.X)\n",
    "    f1_score = sklearn.metrics.f1_score(predicted_test_data_table.Y, our_prediction)\n",
    "    acc_score=sklearn.metrics.accuracy_score(predicted_test_data_table.Y, our_prediction)\n",
    "    rec_score = sklearn.metrics.recall_score(predicted_test_data_table.Y, our_prediction)\n",
    "    pre_score = sklearn.metrics.precision_score(predicted_test_data_table.Y, our_prediction)\n",
    "    num = len(explanations)\n",
    "    num_of_instance = ADS_active.synthetic_data_table.X.shape[0]\n",
    "\n",
    "    print(\"parameter: \",beta,lambda_parameter,\"metrics\",num,f1_score,acc_score,rec_score,pre_score,num_of_instance)\n"
   ]
  },
  {
   "cell_type": "markdown",
   "metadata": {},
   "source": [
    "## Run by enlarge as preprocessing"
   ]
  },
  {
   "cell_type": "code",
   "execution_count": 10,
   "metadata": {
    "ExecuteTime": {
     "end_time": "2019-09-15T04:49:14.522419Z",
     "start_time": "2019-09-15T04:33:00.858785Z"
    }
   },
   "outputs": [
    {
     "name": "stdout",
     "output_type": "stream",
     "text": [
      "The autoreload extension is already loaded. To reload it, use:\n",
      "  %reload_ext autoreload\n",
      "sampling rate 1.116636713151489\n",
      "init transformer okay!\n",
      "new cached!\n"
     ]
    },
    {
     "data": {
      "application/vnd.jupyter.widget-view+json": {
       "model_id": "6324e40297134b06831b7981cb3e56d7",
       "version_major": 2,
       "version_minor": 0
      },
      "text/plain": [
       "HBox(children=(IntProgress(value=0, max=1000), HTML(value='')))"
      ]
     },
     "metadata": {},
     "output_type": "display_data"
    },
    {
     "name": "stdout",
     "output_type": "stream",
     "text": [
      "\n",
      "best solution found in iteration 295\n",
      "Now print Error Log\n",
      "no error happens\n",
      "IF 4264.431509249943 <= capital-gain <= 105497.79781514438 AND native-country is France THEN income=>50K \n",
      "IF 6.675199628250789 <= age <= 21.138506202694412 AND education is Assoc-voc,Doctorate AND native-country is China THEN income=>50K \n",
      "IF 6.675199628250789 <= age <= 21.138506202694412 AND education is Doctorate AND marital-status is Married-civ-spouse AND -6.581068369888139 <= hours-per-week <= 43.21143241879576 AND native-country is Cambodia THEN income=>50K \n",
      "IF 6.675199628250789 <= age <= 21.138506202694412 AND education is Doctorate AND marital-status is Married-civ-spouse AND -6.581068369888139 <= hours-per-week <= 43.21143241879576 AND native-country is China THEN income=>50K \n",
      "IF 6.675199628250789 <= age <= 21.138506202694412 AND education is Doctorate AND marital-status is Married-civ-spouse AND -6.581068369888139 <= hours-per-week <= 50.66997733474689 AND native-country is Ecuador THEN income=>50K \n",
      "IF 6.675199628250789 <= age <= 21.138506202694412 AND education is Doctorate AND native-country is Cambodia THEN income=>50K \n",
      "IF 6.675199628250789 <= age <= 23.844614357992068 AND marital-status is Married-civ-spouse,Widowed AND native-country is Hungary THEN income=>50K \n",
      "IF 6.675199628250789 <= age <= 23.844614357992068 AND marital-status is Widowed AND -6.581068369888139 <= hours-per-week <= 107.78818852821527 AND native-country is France THEN income=>50K \n",
      "IF 6.675199628250789 <= age <= 23.844614357992068 AND marital-status is Widowed AND -6.581068369888139 <= hours-per-week <= 107.78818852821527 AND native-country is Hungary THEN income=>50K \n",
      "IF 6.675199628250789 <= age <= 23.844614357992068 AND marital-status is Widowed AND -6.581068369888139 <= hours-per-week <= 107.78818852821527 AND native-country is Ireland THEN income=>50K \n",
      "IF 6.675199628250789 <= age <= 23.844614357992068 AND marital-status is Widowed AND -6.581068369888139 <= hours-per-week <= 107.78818852821527 AND native-country is Laos THEN income=>50K \n",
      "IF 6.675199628250789 <= age <= 23.844614357992068 AND marital-status is Widowed AND -6.581068369888139 <= hours-per-week <= 107.78818852821527 AND native-country is Portugal THEN income=>50K \n",
      "IF 6.675199628250789 <= age <= 23.844614357992068 AND marital-status is Widowed AND -6.581068369888139 <= hours-per-week <= 107.78818852821527 AND native-country is Scotland THEN income=>50K \n",
      "IF 6.675199628250789 <= age <= 23.844614357992068 AND marital-status is Widowed AND -6.581068369888139 <= hours-per-week <= 107.78818852821527 AND native-country is Trinadad&Tobago THEN income=>50K \n",
      "IF 6.675199628250789 <= age <= 23.844614357992068 AND marital-status is Widowed AND -6.581068369888139 <= hours-per-week <= 34.2526805491686 AND native-country is France THEN income=>50K \n",
      "IF 6.675199628250789 <= age <= 23.844614357992068 AND marital-status is Widowed AND -6.581068369888139 <= hours-per-week <= 34.2526805491686 AND native-country is France,Hungary THEN income=>50K \n",
      "IF 6.675199628250789 <= age <= 23.844614357992068 AND marital-status is Widowed AND -6.581068369888139 <= hours-per-week <= 34.2526805491686 AND native-country is France,Ireland THEN income=>50K \n",
      "IF 6.675199628250789 <= age <= 23.844614357992068 AND marital-status is Widowed AND -6.581068369888139 <= hours-per-week <= 34.2526805491686 AND native-country is France,Laos THEN income=>50K \n",
      "IF 6.675199628250789 <= age <= 23.844614357992068 AND marital-status is Widowed AND -6.581068369888139 <= hours-per-week <= 34.2526805491686 AND native-country is France,Portugal THEN income=>50K \n",
      "IF 6.675199628250789 <= age <= 23.844614357992068 AND marital-status is Widowed AND -6.581068369888139 <= hours-per-week <= 34.2526805491686 AND native-country is France,Scotland THEN income=>50K \n",
      "IF 6.675199628250789 <= age <= 23.844614357992068 AND marital-status is Widowed AND -6.581068369888139 <= hours-per-week <= 34.2526805491686 AND native-country is France,Trinadad&Tobago THEN income=>50K \n",
      "IF 6.675199628250789 <= age <= 23.844614357992068 AND marital-status is Widowed AND -6.581068369888139 <= hours-per-week <= 34.2526805491686 AND native-country is Greece THEN income=>50K \n",
      "IF 6.675199628250789 <= age <= 23.844614357992068 AND marital-status is Widowed AND -6.581068369888139 <= hours-per-week <= 34.2526805491686 AND native-country is Hungary THEN income=>50K \n",
      "IF 6.675199628250789 <= age <= 23.844614357992068 AND marital-status is Widowed AND native-country is France,Hungary THEN income=>50K \n",
      "IF 6.675199628250789 <= age <= 23.844614357992068 AND marital-status is Widowed AND native-country is Greece THEN income=>50K \n",
      "IF 6.675199628250789 <= age <= 23.844614357992068 AND marital-status is Widowed AND native-country is Hungary THEN income=>50K \n",
      "IF 6.675199628250789 <= age <= 23.844614357992068 AND marital-status is Widowed AND native-country is Ireland THEN income=>50K \n",
      "IF 6.675199628250789 <= age <= 23.844614357992068 AND marital-status is Widowed AND native-country is Laos THEN income=>50K \n",
      "IF 6.675199628250789 <= age <= 24.009800933993507 AND education is Assoc-voc AND -6.581068369888139 <= hours-per-week <= 30.0 AND native-country is Columbia THEN income=>50K \n",
      "IF 6.675199628250789 <= age <= 24.68619322110117 AND workclass is Self-emp-not-inc AND -6.581068369888139 <= hours-per-week <= 34.2526805491686 AND native-country is Dominican-Republic THEN income=>50K \n",
      "IF 7195.812907327549 <= capital-gain <= 105497.79781514438 THEN income=>50K \n",
      "IF 80.0 <= hours-per-week <= 107.78818852821527 AND native-country is Columbia THEN income=>50K \n",
      "IF 94663.73445927398 <= capital-gain <= 105497.79781514438 THEN income=>50K \n",
      "IF education is Bachelors,Masters,Prof-school AND marital-status is Married-civ-spouse AND occupation is Adm-clerical,Craft-repair,Exec-managerial,Prof-specialty,Sales,Tech-support THEN income=>50K \n",
      "IF education is Doctorate AND marital-status is Divorced,Married-civ-spouse THEN income=>50K \n",
      "IF education is Prof-school AND native-country is Columbia THEN income=>50K \n",
      "IF gender is Female AND 2282.713581705964 <= capital-loss <= 4375.554904316348 THEN income=>50K \n",
      "IF marital-status is Divorced,Widowed AND 44.8850972342584 <= hours-per-week <= 107.78818852821527 AND native-country is Greece THEN income=>50K \n",
      "IF marital-status is Married-AF-spouse AND native-country is France,Laos THEN income=>50K \n",
      "IF marital-status is Married-AF-spouse,Married-civ-spouse AND -6.581068369888139 <= hours-per-week <= 44.8850972342584 AND native-country is France THEN income=>50K \n",
      "IF marital-status is Married-AF-spouse,Married-civ-spouse AND native-country is France THEN income=>50K \n",
      "IF marital-status is Married-civ-spouse AND 1753.7912179562925 <= capital-loss <= 4375.554904316348 THEN income=>50K \n",
      "IF marital-status is Married-civ-spouse AND 4264.431509249943 <= capital-gain <= 105497.79781514438 THEN income=>50K \n",
      "IF occupation is Tech-support AND native-country is Guatemala THEN income=>50K \n",
      "IF relationship is Husband,Not-in-family,Other-relative,Unmarried AND 2276.0030957582458 <= capital-loss <= 4375.554904316348 THEN income=>50K \n",
      "IF relationship is Husband,Other-relative,Wife AND native-country is Canada THEN income=>50K \n",
      "IF relationship is Other-relative,Wife AND native-country is Iran,Yugoslavia THEN income=>50K \n",
      "873\n",
      "Blackbox and our, f1 score 0.7264200104220948\n",
      "Blackbox and our, acc 0.8925281473899693\n",
      "Blackbox and our,recall 0.6663479923518164\n",
      "Blackbox and our,precision 0.7983963344788088\n",
      "number of rules: 47\n",
      "new instances 0\n",
      "number of rules 47\n",
      "ave number of conditions 3.148936170212766\n",
      "max number of conditions 5\n",
      "used features 11\n"
     ]
    }
   ],
   "source": [
    "%load_ext autoreload\n",
    "%autoreload 2\n",
    "from approach import explain_tabular\n",
    "l_parameter = 0.0003\n",
    "# l_parameter = 0.0005\n",
    "\n",
    "from utils import uniform_enlarge_dataset,estimated_enlarge_dataset\n",
    "rate =  1.116636713151489\n",
    "print(\"sampling rate\",rate)\n",
    "# new_predicted_data_table = uniform_enlarge_dataset(predicted_data_table,black_box,sampling_rate=rate,random_seed=random_seed)\n",
    "new_predicted_data_table = estimated_enlarge_dataset(predicted_data_table,black_box,sampling_rate=rate,random_seed=random_seed)\n",
    "\n",
    "\n",
    "\n",
    "explanations,ADS = explain_tabular(new_predicted_data_table, black_box, target_class_idx=1, random_seed=random_seed,beta=0,lambda_parameter=l_parameter )\n",
    "%matplotlib inline\n"
   ]
  },
  {
   "cell_type": "code",
   "execution_count": 12,
   "metadata": {
    "ExecuteTime": {
     "end_time": "2019-09-15T04:53:24.267908Z",
     "start_time": "2019-09-15T04:53:21.076379Z"
    }
   },
   "outputs": [
    {
     "name": "stdout",
     "output_type": "stream",
     "text": [
      "best solution found in iteration 211\n",
      "IF 4264.431509249943 <= capital-gain <= 105497.79781514438 AND native-country is France THEN income=>50K \n",
      "IF 6.675199628250789 <= age <= 23.202464451046215 AND marital-status is Married-AF-spouse AND -6.581068369888139 <= hours-per-week <= 39.166634389353234 AND native-country is France,Hungary THEN income=>50K \n",
      "IF 6.675199628250789 <= age <= 23.202464451046215 AND marital-status is Married-AF-spouse AND -6.581068369888139 <= hours-per-week <= 39.166634389353234 AND native-country is Laos,Portugal THEN income=>50K \n",
      "IF 6.675199628250789 <= age <= 23.202464451046215 AND marital-status is Married-AF-spouse AND -6.581068369888139 <= hours-per-week <= 44.8850972342584 AND native-country is Laos THEN income=>50K \n",
      "IF 6.675199628250789 <= age <= 23.202464451046215 AND marital-status is Married-AF-spouse AND -6.581068369888139 <= hours-per-week <= 50.60356007916357 AND native-country is Laos,Scotland THEN income=>50K \n",
      "IF 6.675199628250789 <= age <= 23.202464451046215 AND marital-status is Married-AF-spouse AND native-country is France,Laos THEN income=>50K \n",
      "IF 6.675199628250789 <= age <= 23.202464451046215 AND marital-status is Married-AF-spouse,Married-civ-spouse AND -6.581068369888139 <= hours-per-week <= 107.78818852821527 AND native-country is France THEN income=>50K \n",
      "IF 6.675199628250789 <= age <= 23.844614357992068 AND marital-status is Widowed AND -6.581068369888139 <= hours-per-week <= 107.78818852821527 AND native-country is France THEN income=>50K \n",
      "IF 6.675199628250789 <= age <= 23.844614357992068 AND marital-status is Widowed AND -6.581068369888139 <= hours-per-week <= 107.78818852821527 AND native-country is Greece THEN income=>50K \n",
      "IF 6.675199628250789 <= age <= 23.844614357992068 AND marital-status is Widowed AND -6.581068369888139 <= hours-per-week <= 107.78818852821527 AND native-country is Hungary THEN income=>50K \n",
      "IF 6.675199628250789 <= age <= 23.844614357992068 AND marital-status is Widowed AND -6.581068369888139 <= hours-per-week <= 107.78818852821527 AND native-country is Ireland THEN income=>50K \n",
      "IF 6.675199628250789 <= age <= 23.844614357992068 AND marital-status is Widowed AND -6.581068369888139 <= hours-per-week <= 107.78818852821527 AND native-country is Laos THEN income=>50K \n",
      "IF 6.675199628250789 <= age <= 23.844614357992068 AND marital-status is Widowed AND -6.581068369888139 <= hours-per-week <= 107.78818852821527 AND native-country is Portugal THEN income=>50K \n",
      "IF 6.675199628250789 <= age <= 23.844614357992068 AND marital-status is Widowed AND -6.581068369888139 <= hours-per-week <= 107.78818852821527 AND native-country is Scotland THEN income=>50K \n",
      "IF 6.675199628250789 <= age <= 34.4253201736044 AND education is Doctorate THEN income=>50K \n",
      "IF 6097.0 <= capital-gain <= 105497.79781514438 THEN income=>50K \n",
      "IF 7195.812907327549 <= capital-gain <= 105497.79781514438 THEN income=>50K \n",
      "IF 94663.73445927398 <= capital-gain <= 105497.79781514438 THEN income=>50K \n",
      "IF education is Assoc-acdm,Assoc-voc,Bachelors,Masters,Prof-school AND marital-status is Married-civ-spouse AND occupation is Exec-managerial,Prof-specialty,Sales,Tech-support THEN income=>50K \n",
      "IF education is Doctorate AND marital-status is Divorced,Married-civ-spouse THEN income=>50K \n",
      "IF education is Prof-school AND native-country is Columbia THEN income=>50K \n",
      "IF marital-status is Divorced,Widowed AND 44.8850972342584 <= hours-per-week <= 107.78818852821527 AND native-country is Greece THEN income=>50K \n",
      "IF marital-status is Married-AF-spouse,Married-civ-spouse AND -6.581068369888139 <= hours-per-week <= 44.8850972342584 AND native-country is France THEN income=>50K \n",
      "IF marital-status is Married-civ-spouse AND 1753.7912179562925 <= capital-loss <= 4375.554904316348 AND native-country is Iran,United-States THEN income=>50K \n",
      "IF occupation is Tech-support AND native-country is Guatemala THEN income=>50K \n",
      "IF relationship is Husband,Not-in-family,Other-relative,Unmarried AND 2276.0030957582458 <= capital-loss <= 4375.554904316348 THEN income=>50K \n",
      "IF relationship is Husband,Other-relative,Wife AND native-country is Canada THEN income=>50K \n",
      "IF relationship is Other-relative,Wife AND native-country is Iran,Yugoslavia THEN income=>50K \n",
      "885\n",
      "Blackbox and our, f1 score 0.735370274469187\n",
      "Blackbox and our, acc 0.8953940634595701\n",
      "Blackbox and our,recall 0.6787762906309751\n",
      "Blackbox and our,precision 0.8022598870056498\n",
      "number of rules: 28\n",
      "new instances 0\n",
      "number of rules 28\n",
      "ave number of conditions 2.9285714285714284\n",
      "max number of conditions 4\n",
      "used features 9\n"
     ]
    }
   ],
   "source": [
    "\n",
    "from utils import  rule_to_string,ruleset_predict\n",
    "# ADS.finish()\n",
    "explanations = ADS.output_the_best(0.0003)\n",
    "for e in explanations:\n",
    "    print(rule_to_string(e,data_table.domain,target_class_idx=1))\n",
    "    \n",
    "our_prediction = ruleset_predict(explanations,test_data_table.X)\n",
    "\n",
    "print(sum(our_prediction) )\n",
    "\n",
    "import sklearn\n",
    "print('Blackbox and our, f1 score', sklearn.metrics.f1_score(predicted_test_data_table.Y, our_prediction))\n",
    "print('Blackbox and our, acc', sklearn.metrics.accuracy_score(predicted_test_data_table.Y, our_prediction))\n",
    "print('Blackbox and our,recall', sklearn.metrics.recall_score(predicted_test_data_table.Y, our_prediction))\n",
    "print('Blackbox and our,precision', sklearn.metrics.precision_score(predicted_test_data_table.Y, our_prediction))\n",
    "\n",
    "from utils import  rule_to_string\n",
    "print('number of rules:',len(explanations))\n",
    "print(\"new instances\",ADS.synthetic_data_table.X.shape[0])\n",
    "\n",
    "from utils import compute_metrics\n",
    "\n",
    "compute_metrics(explanations,data_table.domain)\n",
    "\n",
    "\n"
   ]
  },
  {
   "cell_type": "code",
   "execution_count": 11,
   "metadata": {
    "ExecuteTime": {
     "end_time": "2019-09-15T04:51:41.704518Z",
     "start_time": "2019-09-15T04:50:09.377899Z"
    }
   },
   "outputs": [
    {
     "name": "stdout",
     "output_type": "stream",
     "text": [
      "best solution found in iteration 920\n",
      "parameter:  0 0 metrics 88 0.728401448525608 0.8925281473899693 0.6730401529636711 0.7936865839909808 0\n",
      "best solution found in iteration 920\n",
      "parameter:  0 1e-07 metrics 88 0.728401448525608 0.8925281473899693 0.6730401529636711 0.7936865839909808 0\n",
      "best solution found in iteration 920\n",
      "parameter:  0 1e-06 metrics 88 0.728401448525608 0.8925281473899693 0.6730401529636711 0.7936865839909808 0\n",
      "best solution found in iteration 773\n",
      "parameter:  0 1e-05 metrics 69 0.7263267429760666 0.8923234390992835 0.6673040152963671 0.7968036529680366 0\n",
      "best solution found in iteration 773\n",
      "parameter:  0 3e-05 metrics 69 0.7263267429760666 0.8923234390992835 0.6673040152963671 0.7968036529680366 0\n",
      "best solution found in iteration 295\n",
      "parameter:  0 5e-05 metrics 47 0.7264200104220948 0.8925281473899693 0.6663479923518164 0.7983963344788088 0\n",
      "best solution found in iteration 295\n",
      "parameter:  0 8e-05 metrics 47 0.7264200104220948 0.8925281473899693 0.6663479923518164 0.7983963344788088 0\n",
      "best solution found in iteration 295\n",
      "parameter:  0 0.0001 metrics 47 0.7264200104220948 0.8925281473899693 0.6663479923518164 0.7983963344788088 0\n",
      "best solution found in iteration 225\n",
      "parameter:  0 0.00015 metrics 31 0.7291005291005291 0.8951893551688843 0.6586998087954111 0.816350710900474 0\n",
      "best solution found in iteration 225\n",
      "parameter:  0 0.0002 metrics 31 0.7291005291005291 0.8951893551688843 0.6586998087954111 0.816350710900474 0\n",
      "best solution found in iteration 211\n",
      "parameter:  0 0.0003 metrics 28 0.735370274469187 0.8953940634595701 0.6787762906309751 0.8022598870056498 0\n",
      "best solution found in iteration 211\n",
      "parameter:  0 0.0005 metrics 28 0.735370274469187 0.8953940634595701 0.6787762906309751 0.8022598870056498 0\n",
      "best solution found in iteration 186\n",
      "parameter:  0 0.001 metrics 25 0.733982573039467 0.893756397134084 0.6845124282982792 0.7911602209944751 0\n",
      "best solution found in iteration 141\n",
      "parameter:  0 0.0013 metrics 20 0.7006369426751593 0.8845445240532241 0.6309751434034416 0.7875894988066826 0\n",
      "best solution found in iteration 110\n",
      "parameter:  0 0.0015 metrics 16 0.6598407281001138 0.8775844421699078 0.5544933078393881 0.8146067415730337 0\n",
      "best solution found in iteration 100\n",
      "parameter:  0 0.0018 metrics 14 0.6515942028985507 0.8769703172978506 0.5372848948374761 0.8276877761413843 0\n",
      "best solution found in iteration 100\n",
      "parameter:  0 0.002 metrics 14 0.6515942028985507 0.8769703172978506 0.5372848948374761 0.8276877761413843 0\n",
      "best solution found in iteration 100\n",
      "parameter:  0 0.0025 metrics 14 0.6515942028985507 0.8769703172978506 0.5372848948374761 0.8276877761413843 0\n",
      "best solution found in iteration 100\n",
      "parameter:  0 0.003 metrics 14 0.6515942028985507 0.8769703172978506 0.5372848948374761 0.8276877761413843 0\n",
      "best solution found in iteration 926\n",
      "parameter:  0 0.005 metrics 1 0.38643067846607665 0.8296827021494371 0.25047801147227533 0.8451612903225807 0\n",
      "best solution found in iteration 926\n",
      "parameter:  0 0.006 metrics 1 0.38643067846607665 0.8296827021494371 0.25047801147227533 0.8451612903225807 0\n",
      "best solution found in iteration 926\n",
      "parameter:  0 0.007 metrics 1 0.38643067846607665 0.8296827021494371 0.25047801147227533 0.8451612903225807 0\n",
      "best solution found in iteration 926\n",
      "parameter:  0 0.008 metrics 1 0.38643067846607665 0.8296827021494371 0.25047801147227533 0.8451612903225807 0\n",
      "best solution found in iteration 926\n",
      "parameter:  0 0.01 metrics 1 0.38643067846607665 0.8296827021494371 0.25047801147227533 0.8451612903225807 0\n",
      "best solution found in iteration 926\n",
      "parameter:  0 0.015 metrics 1 0.38643067846607665 0.8296827021494371 0.25047801147227533 0.8451612903225807 0\n",
      "best solution found in iteration 926\n",
      "parameter:  0 0.02 metrics 1 0.38643067846607665 0.8296827021494371 0.25047801147227533 0.8451612903225807 0\n",
      "best solution found in iteration 926\n",
      "parameter:  0 0.03 metrics 1 0.38643067846607665 0.8296827021494371 0.25047801147227533 0.8451612903225807 0\n",
      "best solution found in iteration 924\n",
      "parameter:  0 0.05 metrics 0 0.0 0.7858751279426817 0.0 0.0 0\n",
      "best solution found in iteration 924\n",
      "parameter:  0 0.1 metrics 0 0.0 0.7858751279426817 0.0 0.0 0\n",
      "best solution found in iteration 924\n",
      "parameter:  0 0.15 metrics 0 0.0 0.7858751279426817 0.0 0.0 0\n",
      "best solution found in iteration 924\n",
      "parameter:  0 0.2 metrics 0 0.0 0.7858751279426817 0.0 0.0 0\n",
      "best solution found in iteration 924\n",
      "parameter:  0 0.5 metrics 0 0.0 0.7858751279426817 0.0 0.0 0\n"
     ]
    }
   ],
   "source": [
    "# lambda_candidates = [  0,0.0000001,0.000001,0.00001,0.00003,0.00005,0.00008,0.0001,0.0005,0.001,0.0013,0.0015,0.0018,0.002,0.003,0.004,0.0045,0.005,0.006,0.007,0.008,0.01,0.015,0.02,0.03,0.05,0.1,0.15,0.2,0.5 ]\n",
    "lambda_candidates = [  0,0.0000001,0.000001,0.00001,0.00003,0.00005,0.00008,0.0001,0.00015,0.0002,0.0003,0.0005,0.001,0.0013,0.0015,0.0018,0.002,0.0025,0.003,0.005,0.006,0.007,0.008,0.01,0.015,0.02,0.03,0.05,0.1,0.15,0.2,0.5 ]\n",
    "\n",
    "\n",
    "beta = 0\n",
    "for lambda_parameter in  lambda_candidates:\n",
    "    explanations = ADS.output_the_best(lambda_parameter)\n",
    "    our_prediction = ruleset_predict(explanations,test_data_table.X)\n",
    "    f1_score = sklearn.metrics.f1_score(predicted_test_data_table.Y, our_prediction)\n",
    "    acc_score=sklearn.metrics.accuracy_score(predicted_test_data_table.Y, our_prediction)\n",
    "    rec_score = sklearn.metrics.recall_score(predicted_test_data_table.Y, our_prediction)\n",
    "    pre_score = sklearn.metrics.precision_score(predicted_test_data_table.Y, our_prediction)\n",
    "    num = len(explanations)\n",
    "    num_of_instance = ADS.synthetic_data_table.X.shape[0]\n",
    "\n",
    "    print(\"parameter: \",beta,lambda_parameter,\"metrics\",num,f1_score,acc_score,rec_score,pre_score,num_of_instance)"
   ]
  },
  {
   "cell_type": "markdown",
   "metadata": {
    "heading_collapsed": true
   },
   "source": [
    "## Baselines"
   ]
  },
  {
   "cell_type": "markdown",
   "metadata": {
    "heading_collapsed": true,
    "hidden": true
   },
   "source": [
    "### IDS"
   ]
  },
  {
   "cell_type": "code",
   "execution_count": 16,
   "metadata": {
    "ExecuteTime": {
     "end_time": "2019-08-07T23:01:24.456172Z",
     "start_time": "2019-08-07T23:01:24.393434Z"
    },
    "hidden": true
   },
   "outputs": [
    {
     "name": "stdout",
     "output_type": "stream",
     "text": [
      "loadad\n"
     ]
    }
   ],
   "source": [
    "print(\"loadad\")"
   ]
  },
  {
   "cell_type": "code",
   "execution_count": 17,
   "metadata": {
    "ExecuteTime": {
     "end_time": "2019-08-07T23:07:42.958313Z",
     "start_time": "2019-08-07T23:01:25.738327Z"
    },
    "hidden": true
   },
   "outputs": [
    {
     "name": "stdout",
     "output_type": "stream",
     "text": [
      "The autoreload extension is already loaded. To reload it, use:\n",
      "  %reload_ext autoreload\n",
      "start Apriori\n",
      "finish Apriori. Converting itemset\n",
      "Pre-mined okay. all pre-mined rules of 9742\n",
      "data set shape 43957\n",
      "init compute\n"
     ]
    },
    {
     "data": {
      "application/vnd.jupyter.widget-view+json": {
       "model_id": "2312cef247f44a608699a5791f8f75a4",
       "version_major": 2,
       "version_minor": 0
      },
      "text/plain": [
       "HBox(children=(IntProgress(value=0, max=9742), HTML(value='')))"
      ]
     },
     "metadata": {},
     "output_type": "display_data"
    },
    {
     "ename": "KeyboardInterrupt",
     "evalue": "",
     "output_type": "error",
     "traceback": [
      "\u001b[0;31m---------------------------------------------------------------------------\u001b[0m",
      "\u001b[0;31mKeyboardInterrupt\u001b[0m                         Traceback (most recent call last)",
      "\u001b[0;32m<ipython-input-17-c7c88d2b24ec>\u001b[0m in \u001b[0;36m<module>\u001b[0;34m\u001b[0m\n\u001b[1;32m     14\u001b[0m \u001b[0;32mfrom\u001b[0m \u001b[0mcompetition_methods_explanation\u001b[0m\u001b[0;34m.\u001b[0m\u001b[0mpassive_methods\u001b[0m\u001b[0;34m.\u001b[0m\u001b[0mids\u001b[0m \u001b[0;32mimport\u001b[0m \u001b[0mexplain_tabular\u001b[0m\u001b[0;34m\u001b[0m\u001b[0;34m\u001b[0m\u001b[0m\n\u001b[1;32m     15\u001b[0m \u001b[0miter_max\u001b[0m \u001b[0;34m=\u001b[0m \u001b[0;36m1000\u001b[0m\u001b[0;34m\u001b[0m\u001b[0;34m\u001b[0m\u001b[0m\n\u001b[0;32m---> 16\u001b[0;31m \u001b[0mexplanations\u001b[0m \u001b[0;34m=\u001b[0m \u001b[0mexplain_tabular\u001b[0m\u001b[0;34m(\u001b[0m\u001b[0mdisc_predicted_data_table\u001b[0m\u001b[0;34m,\u001b[0m \u001b[0mblack_box\u001b[0m\u001b[0;34m,\u001b[0m \u001b[0mtarget_class_idx\u001b[0m\u001b[0;34m=\u001b[0m\u001b[0;36m1\u001b[0m\u001b[0;34m,\u001b[0m \u001b[0mrandom_seed\u001b[0m\u001b[0;34m=\u001b[0m\u001b[0mrandom_seed\u001b[0m\u001b[0;34m)\u001b[0m\u001b[0;34m\u001b[0m\u001b[0;34m\u001b[0m\u001b[0m\n\u001b[0m\u001b[1;32m     17\u001b[0m \u001b[0;31m# explanations = explain_tabular(data_table, black_box, target_class_idx=1, random_seed=random_seed)\u001b[0m\u001b[0;34m\u001b[0m\u001b[0;34m\u001b[0m\u001b[0;34m\u001b[0m\u001b[0m\n\u001b[1;32m     18\u001b[0m \u001b[0;34m\u001b[0m\u001b[0m\n",
      "\u001b[0;32m~/Desktop/workspace/Descriptive-Induction-ML/competition_methods_explanation/passive_methods/ids.py\u001b[0m in \u001b[0;36mexplain_tabular\u001b[0;34m(dataset, blackbox, target_class_idx, pre_label, random_seed)\u001b[0m\n\u001b[1;32m     72\u001b[0m     \u001b[0;31m# lambda_array = [1.0]*7     # use separate hyperparamter search routine\u001b[0m\u001b[0;34m\u001b[0m\u001b[0;34m\u001b[0m\u001b[0;34m\u001b[0m\u001b[0m\n\u001b[1;32m     73\u001b[0m     \u001b[0mlambda_array\u001b[0m \u001b[0;34m=\u001b[0m \u001b[0;34m[\u001b[0m\u001b[0;36m0.5\u001b[0m\u001b[0;34m,\u001b[0m\u001b[0;36m1.0\u001b[0m\u001b[0;34m,\u001b[0m\u001b[0;36m1.0\u001b[0m\u001b[0;34m,\u001b[0m\u001b[0;36m1.0\u001b[0m\u001b[0;34m,\u001b[0m\u001b[0;36m1.0\u001b[0m\u001b[0;34m,\u001b[0m\u001b[0;36m1.5\u001b[0m\u001b[0;34m,\u001b[0m\u001b[0;36m1.0\u001b[0m\u001b[0;34m]\u001b[0m     \u001b[0;31m# use separate hyperparamter search routine\u001b[0m\u001b[0;34m\u001b[0m\u001b[0;34m\u001b[0m\u001b[0m\n\u001b[0;32m---> 74\u001b[0;31m     \u001b[0ms1\u001b[0m \u001b[0;34m=\u001b[0m \u001b[0msmooth_local_search\u001b[0m\u001b[0;34m(\u001b[0m\u001b[0mlist_of_rules\u001b[0m\u001b[0;34m,\u001b[0m \u001b[0mdf\u001b[0m\u001b[0;34m,\u001b[0m \u001b[0mY\u001b[0m\u001b[0;34m,\u001b[0m \u001b[0mlambda_array\u001b[0m\u001b[0;34m,\u001b[0m \u001b[0;36m0.33\u001b[0m\u001b[0;34m,\u001b[0m \u001b[0;36m0.33\u001b[0m\u001b[0;34m)\u001b[0m\u001b[0;34m\u001b[0m\u001b[0;34m\u001b[0m\u001b[0m\n\u001b[0m\u001b[1;32m     75\u001b[0m     \u001b[0ms2\u001b[0m \u001b[0;34m=\u001b[0m \u001b[0msmooth_local_search\u001b[0m\u001b[0;34m(\u001b[0m\u001b[0mlist_of_rules\u001b[0m\u001b[0;34m,\u001b[0m \u001b[0mdf\u001b[0m\u001b[0;34m,\u001b[0m \u001b[0mY\u001b[0m\u001b[0;34m,\u001b[0m \u001b[0mlambda_array\u001b[0m\u001b[0;34m,\u001b[0m \u001b[0;36m0.33\u001b[0m\u001b[0;34m,\u001b[0m \u001b[0;34m-\u001b[0m\u001b[0;36m1.0\u001b[0m\u001b[0;34m)\u001b[0m\u001b[0;34m\u001b[0m\u001b[0;34m\u001b[0m\u001b[0m\n\u001b[1;32m     76\u001b[0m     \u001b[0mf1\u001b[0m \u001b[0;34m=\u001b[0m \u001b[0mfunc_evaluation\u001b[0m\u001b[0;34m(\u001b[0m\u001b[0ms1\u001b[0m\u001b[0;34m,\u001b[0m \u001b[0mlist_of_rules\u001b[0m\u001b[0;34m,\u001b[0m \u001b[0mdf\u001b[0m\u001b[0;34m,\u001b[0m \u001b[0mY\u001b[0m\u001b[0;34m,\u001b[0m \u001b[0mlambda_array\u001b[0m\u001b[0;34m)\u001b[0m\u001b[0;34m\u001b[0m\u001b[0;34m\u001b[0m\u001b[0m\n",
      "\u001b[0;32m~/Desktop/workspace/Descriptive-Induction-ML/competition_methods_explanation/passive_methods/IDS/IDS_smooth_local.py\u001b[0m in \u001b[0;36msmooth_local_search\u001b[0;34m(list_rules, df, Y, lambda_array, delta, delta_prime)\u001b[0m\n\u001b[1;32m    350\u001b[0m \u001b[0;34m\u001b[0m\u001b[0m\n\u001b[1;32m    351\u001b[0m     \u001b[0mprint\u001b[0m\u001b[0;34m(\u001b[0m\u001b[0;34m\"init compute\"\u001b[0m\u001b[0;34m)\u001b[0m\u001b[0;34m\u001b[0m\u001b[0;34m\u001b[0m\u001b[0m\n\u001b[0;32m--> 352\u001b[0;31m     \u001b[0;32mfor\u001b[0m \u001b[0mrule\u001b[0m \u001b[0;32min\u001b[0m \u001b[0mtqdm\u001b[0m\u001b[0;34m(\u001b[0m\u001b[0mlist_rules\u001b[0m\u001b[0;34m)\u001b[0m\u001b[0;34m:\u001b[0m\u001b[0;34m\u001b[0m\u001b[0;34m\u001b[0m\u001b[0m\n\u001b[0m\u001b[1;32m    353\u001b[0m         \u001b[0mrule\u001b[0m\u001b[0;34m.\u001b[0m\u001b[0mget_cover\u001b[0m\u001b[0;34m(\u001b[0m\u001b[0mdf\u001b[0m\u001b[0;34m)\u001b[0m\u001b[0;34m\u001b[0m\u001b[0;34m\u001b[0m\u001b[0m\n\u001b[1;32m    354\u001b[0m         \u001b[0mrule\u001b[0m\u001b[0;34m.\u001b[0m\u001b[0mget_correct_cover\u001b[0m\u001b[0;34m(\u001b[0m\u001b[0mdf\u001b[0m\u001b[0;34m,\u001b[0m\u001b[0mY\u001b[0m\u001b[0;34m)\u001b[0m\u001b[0;34m\u001b[0m\u001b[0;34m\u001b[0m\u001b[0m\n",
      "\u001b[0;32m~/Desktop/workspace/Descriptive-Induction-ML/competition_methods_explanation/passive_methods/IDS/IDS_smooth_local.py\u001b[0m in \u001b[0;36mget_cover\u001b[0;34m(self, df)\u001b[0m\n\u001b[1;32m     79\u001b[0m             \u001b[0;32mreturn\u001b[0m \u001b[0mthis\u001b[0m\u001b[0;34m.\u001b[0m\u001b[0mcache_bit_map_rule_get_cover\u001b[0m\u001b[0;34m[\u001b[0m\u001b[0mself\u001b[0m\u001b[0;34m]\u001b[0m\u001b[0;34m\u001b[0m\u001b[0;34m\u001b[0m\u001b[0m\n\u001b[1;32m     80\u001b[0m         \u001b[0;32melse\u001b[0m\u001b[0;34m:\u001b[0m\u001b[0;34m\u001b[0m\u001b[0;34m\u001b[0m\u001b[0m\n\u001b[0;32m---> 81\u001b[0;31m             \u001b[0mthis\u001b[0m\u001b[0;34m.\u001b[0m\u001b[0mcache_bit_map_rule_get_cover\u001b[0m\u001b[0;34m[\u001b[0m\u001b[0mself\u001b[0m\u001b[0;34m]\u001b[0m \u001b[0;34m=\u001b[0m \u001b[0mself\u001b[0m\u001b[0;34m.\u001b[0m\u001b[0mget_cover_\u001b[0m\u001b[0;34m(\u001b[0m\u001b[0mdf\u001b[0m\u001b[0;34m)\u001b[0m\u001b[0;34m\u001b[0m\u001b[0;34m\u001b[0m\u001b[0m\n\u001b[0m\u001b[1;32m     82\u001b[0m             \u001b[0;32mreturn\u001b[0m \u001b[0mthis\u001b[0m\u001b[0;34m.\u001b[0m\u001b[0mcache_bit_map_rule_get_cover\u001b[0m\u001b[0;34m[\u001b[0m\u001b[0mself\u001b[0m\u001b[0;34m]\u001b[0m\u001b[0;34m\u001b[0m\u001b[0;34m\u001b[0m\u001b[0m\n\u001b[1;32m     83\u001b[0m         \u001b[0;32mreturn\u001b[0m\u001b[0;34m\u001b[0m\u001b[0;34m\u001b[0m\u001b[0m\n",
      "\u001b[0;32m~/Desktop/workspace/Descriptive-Induction-ML/competition_methods_explanation/passive_methods/IDS/IDS_smooth_local.py\u001b[0m in \u001b[0;36mget_cover_\u001b[0;34m(self, df)\u001b[0m\n\u001b[1;32m     92\u001b[0m         \u001b[0;31m# new = df.apply( lambda x: all([ x[pattern[0]] == pattern[1] for pattern in self.itemset ]),axis=1  )\u001b[0m\u001b[0;34m\u001b[0m\u001b[0;34m\u001b[0m\u001b[0;34m\u001b[0m\u001b[0m\n\u001b[1;32m     93\u001b[0m         \u001b[0mset_of_cover_per_condition\u001b[0m \u001b[0;34m=\u001b[0m \u001b[0;34m[\u001b[0m \u001b[0mget_cover_condition\u001b[0m\u001b[0;34m(\u001b[0m\u001b[0mdf\u001b[0m\u001b[0;34m,\u001b[0m\u001b[0mpattern\u001b[0m\u001b[0;34m)\u001b[0m  \u001b[0;32mfor\u001b[0m \u001b[0mpattern\u001b[0m \u001b[0;32min\u001b[0m \u001b[0mself\u001b[0m\u001b[0;34m.\u001b[0m\u001b[0mitemset\u001b[0m\u001b[0;34m]\u001b[0m\u001b[0;34m\u001b[0m\u001b[0;34m\u001b[0m\u001b[0m\n\u001b[0;32m---> 94\u001b[0;31m         \u001b[0mresult\u001b[0m \u001b[0;34m=\u001b[0m \u001b[0msorted\u001b[0m\u001b[0;34m(\u001b[0m\u001b[0mset\u001b[0m\u001b[0;34m.\u001b[0m\u001b[0mintersection\u001b[0m\u001b[0;34m(\u001b[0m\u001b[0;34m*\u001b[0m\u001b[0mset_of_cover_per_condition\u001b[0m\u001b[0;34m)\u001b[0m\u001b[0;34m)\u001b[0m\u001b[0;34m\u001b[0m\u001b[0;34m\u001b[0m\u001b[0m\n\u001b[0m\u001b[1;32m     95\u001b[0m         \u001b[0;31m# print('\\tTook %0.3fs to get the cover' % (time.time() - start_time) )\u001b[0m\u001b[0;34m\u001b[0m\u001b[0;34m\u001b[0m\u001b[0;34m\u001b[0m\u001b[0m\n\u001b[1;32m     96\u001b[0m         \u001b[0;31m# print(list(dfnew.index.values))\u001b[0m\u001b[0;34m\u001b[0m\u001b[0;34m\u001b[0m\u001b[0;34m\u001b[0m\u001b[0m\n",
      "\u001b[0;31mKeyboardInterrupt\u001b[0m: "
     ]
    }
   ],
   "source": [
    "%load_ext autoreload\n",
    "%autoreload 2\n",
    "\n",
    "\n",
    "import Orange\n",
    "disc = Orange.preprocess.Discretize()\n",
    "disc.method = Orange.preprocess.discretize.EntropyMDL()\n",
    "# disc.method = Orange.preprocess.discretize.EqualFreq(n=3)\n",
    "\n",
    "disc_predicted_data_table = disc(predicted_data_table)\n",
    "# disc_predicted_test_data_table = disc(predicted_test_data_table)\n",
    "disc_predicted_test_data_table = Orange.data.Table.from_table(disc_predicted_data_table.domain, predicted_test_data_table)\n",
    "\n",
    "from competition_methods_explanation.passive_methods.ids import explain_tabular\n",
    "iter_max = 1000\n",
    "explanations = explain_tabular(disc_predicted_data_table, black_box, target_class_idx=1, random_seed=random_seed)\n",
    "# explanations = explain_tabular(data_table, black_box, target_class_idx=1, random_seed=random_seed)\n",
    "\n",
    "from utils import  rule_to_string,ruleset_predict\n",
    "our_prediction = ruleset_predict(explanations,disc_predicted_test_data_table.X)\n",
    "\n",
    "import sklearn\n",
    "print('Blackbox and our, acc', sklearn.metrics.accuracy_score(disc_predicted_test_data_table.Y, our_prediction))\n",
    "print('Blackbox and our, f1 score', sklearn.metrics.f1_score(disc_predicted_test_data_table.Y, our_prediction))\n",
    "print('Blackbox and our,recall', sklearn.metrics.recall_score(disc_predicted_test_data_table.Y, our_prediction))\n",
    "print('Blackbox and our,precision', sklearn.metrics.precision_score(disc_predicted_test_data_table.Y, our_prediction))\n",
    "\n",
    "from competition_methods_explanation.passive_methods.ids import compute_metrics_ids\n",
    "compute_metrics_ids(explanations)"
   ]
  },
  {
   "cell_type": "code",
   "execution_count": null,
   "metadata": {
    "ExecuteTime": {
     "end_time": "2019-08-07T23:07:42.961685Z",
     "start_time": "2019-08-07T23:01:26.050Z"
    },
    "hidden": true
   },
   "outputs": [],
   "source": [
    "from tqdm import tqdm_notebook\n",
    "%load_ext autoreload\n",
    "%autoreload 2\n",
    "\n",
    "import Orange\n",
    "\n",
    "disc = Orange.preprocess.Discretize()\n",
    "disc.method = Orange.preprocess.discretize.EntropyMDL()\n",
    "\n",
    "disc_predicted_data_table = disc(predicted_data_table)\n",
    "# disc_predicted_test_data_table = disc(predicted_test_data_table)\n",
    "disc_predicted_test_data_table = Orange.data.Table.from_table(disc_predicted_data_table.domain, predicted_test_data_table)\n",
    "\n",
    "\n",
    "from utils import uniform_enlarge_dataset,estimated_enlarge_dataset\n",
    "\n",
    "rate = 1.0 * 49804 / predicted_data_table.X.shape[0] \n",
    "# rate = 1.13\n",
    "print(\"sampling rate\",rate)\n",
    "new_predicted_data_table = estimated_enlarge_dataset(predicted_data_table,black_box,sampling_rate=rate,random_seed=random_seed)\n",
    "print(new_predicted_data_table.X.shape)\n",
    "disc_new_predicted_data_table =  Orange.data.Table.from_table(disc_predicted_data_table.domain, new_predicted_data_table)\n",
    "\n",
    "\n",
    "from competition_methods_explanation.passive_methods.ids import explain_tabular\n",
    "explanations = explain_tabular(disc_new_predicted_data_table, black_box, target_class_idx=1, random_seed=random_seed)\n",
    "\n",
    "from utils import  rule_to_string,ruleset_predict\n",
    "our_prediction = ruleset_predict(explanations,disc_predicted_test_data_table.X)\n",
    "\n",
    "import sklearn\n",
    "print('Blackbox and our, acc', sklearn.metrics.accuracy_score(disc_predicted_test_data_table.Y, our_prediction))\n",
    "print('Blackbox and our, f1 score', sklearn.metrics.f1_score(disc_predicted_test_data_table.Y, our_prediction))\n",
    "print('Blackbox and our,recall', sklearn.metrics.recall_score(disc_predicted_test_data_table.Y, our_prediction))\n",
    "print('Blackbox and our,precision', sklearn.metrics.precision_score(disc_predicted_test_data_table.Y, our_prediction))\n",
    "\n",
    "from competition_methods_explanation.passive_methods.ids import compute_metrics_ids\n",
    "compute_metrics_ids(explanations)\n"
   ]
  },
  {
   "cell_type": "markdown",
   "metadata": {
    "heading_collapsed": true,
    "hidden": true
   },
   "source": [
    "### BRS"
   ]
  },
  {
   "cell_type": "code",
   "execution_count": 74,
   "metadata": {
    "ExecuteTime": {
     "end_time": "2019-08-13T06:14:45.009653Z",
     "start_time": "2019-08-13T06:14:44.961676Z"
    },
    "hidden": true
   },
   "outputs": [
    {
     "data": {
      "text/plain": [
       "array([ True, False])"
      ]
     },
     "execution_count": 74,
     "metadata": {},
     "output_type": "execute_result"
    }
   ],
   "source": [
    "np.any([[True, False], [False, False],[False, False]], axis=0)\n",
    "# print(\"dasdas\")"
   ]
  },
  {
   "cell_type": "code",
   "execution_count": 75,
   "metadata": {
    "ExecuteTime": {
     "end_time": "2019-08-13T06:15:06.448016Z",
     "start_time": "2019-08-13T06:14:45.473398Z"
    },
    "hidden": true
   },
   "outputs": [
    {
     "name": "stdout",
     "output_type": "stream",
     "text": [
      "The autoreload extension is already loaded. To reload it, use:\n",
      "  %reload_ext autoreload\n",
      "using disc\n",
      "(576, 8)\n",
      "(576, 8)\n",
      "(199,)\n",
      "start BRS algorithm\n",
      "Generating rules using tree-based method \n",
      "\tTook 2.230s to generate 12585 rules\n",
      "Screening rules using information gain\n",
      "1\n",
      "2\n",
      "2.5\n",
      "(576, 128)\n",
      "(128, 12585)\n",
      "3\n",
      "4\n",
      "5\n",
      "(2000,)\n",
      "\tTook 0.827s to generate 2000 rules\n",
      "Computing sizes for pattern space ...\n",
      "\tTook 0.041s to compute patternspace\n",
      "No or wrong input for alpha_l and beta_l. The model will use default parameters!\n",
      "number of rules 8\n"
     ]
    }
   ],
   "source": [
    "%load_ext autoreload\n",
    "%autoreload 2\n",
    "\n",
    "\n",
    "\n",
    "if all([ a.is_discrete for a in predicted_data_table.domain.attributes]) == True:\n",
    "    print(\"not disc\")\n",
    "#     disc_predicted_data_table = Orange.data.Table.from_table(predicted_data_table.domain,predicted_data_table)\n",
    "    disc_predicted_data_table = predicted_data_table\n",
    "    disc_predicted_test_data_table = predicted_test_data_table\n",
    "else:\n",
    "    print(\"using disc\")\n",
    "    import Orange\n",
    "    disc = Orange.preprocess.Discretize()\n",
    "#     disc.method = Orange.preprocess.discretize.EntropyMDL(force=True)\n",
    "    disc.method = Orange.preprocess.discretize.EqualFreq(n=8)\n",
    "    disc_predicted_data_table = disc(predicted_data_table)\n",
    "    print(predicted_data_table.X.shape)\n",
    "    print(disc_predicted_data_table.X.shape)\n",
    "    # disc_predicted_test_data_table = disc(predicted_test_data_table)\n",
    "    disc_predicted_test_data_table = Orange.data.Table.from_table(disc_predicted_data_table.domain, predicted_test_data_table)\n",
    "\n",
    "from competition_methods_explanation.passive_methods.brs import explain_tabular\n",
    "explanations,brs = explain_tabular(disc_predicted_data_table, black_box, target_class_idx=1, random_seed=random_seed)\n",
    "\n",
    "# from approach import explain_tabular\n",
    "# explanations,explainer = explain_tabular(disc_predicted_data_table, black_box, target_class_idx=1, random_seed=random_seed,beta = 0,use_pre_mined=True, objective = 'bayesian')"
   ]
  },
  {
   "cell_type": "code",
   "execution_count": 76,
   "metadata": {
    "ExecuteTime": {
     "end_time": "2019-08-13T06:15:06.590243Z",
     "start_time": "2019-08-13T06:15:06.450872Z"
    },
    "hidden": true
   },
   "outputs": [
    {
     "name": "stdout",
     "output_type": "stream",
     "text": [
      "23\n",
      "23\n"
     ]
    }
   ],
   "source": [
    "from utils import  rule_to_string,ruleset_predict\n",
    "our_prediction = ruleset_predict(explanations,disc_predicted_test_data_table.X)\n",
    "\n",
    "from competition_methods_explanation.passive_methods.BRS.model import predict\n",
    "from competition_methods_explanation.passive_methods.BRS.util import table_to_binary_df\n",
    "brs_prediction = predict(brs.rules,table_to_binary_df(disc_predicted_test_data_table)[1] )\n",
    "\n",
    "print(np.sum(our_prediction) )\n",
    "print(np.sum(brs_prediction) )"
   ]
  },
  {
   "cell_type": "code",
   "execution_count": 77,
   "metadata": {
    "ExecuteTime": {
     "end_time": "2019-08-13T06:15:06.692137Z",
     "start_time": "2019-08-13T06:15:06.602161Z"
    },
    "hidden": true
   },
   "outputs": [
    {
     "name": "stdout",
     "output_type": "stream",
     "text": [
      "Blackbox and our, acc 0.7239583333333334\n",
      "Blackbox and our, f1 score 0.4301075268817204\n",
      "Blackbox and our,recall 0.2857142857142857\n",
      "Blackbox and our,precision 0.8695652173913043\n",
      "number of rules 8\n",
      "ave number of conditions 4.0\n",
      "max number of conditions 7\n",
      "used features 8\n"
     ]
    }
   ],
   "source": [
    "# print(brs.rules)\n",
    "from utils import  rule_to_string,ruleset_predict\n",
    "# for e in explanations:\n",
    "#     try:\n",
    "#         print(rule_to_string(e,predicted_data_table.domain,target_class_idx=1))\n",
    "#     except:\n",
    "#         continue\n",
    "\n",
    "        \n",
    "our_prediction = ruleset_predict(explanations,disc_predicted_test_data_table.X)\n",
    "\n",
    "# from competition_methods_explanation.passive_methods.BRS.model import predict\n",
    "# from competition_methods_explanation.passive_methods.BRS.util import table_to_binary_df\n",
    "# our_prediction = predict(brs.rules,table_to_binary_df(disc_predicted_test_data_table)[1] )\n",
    "# print( sum(our_prediction) )\n",
    "\n",
    "import sklearn\n",
    "print('Blackbox and our, acc', sklearn.metrics.accuracy_score(predicted_test_data_table.Y, our_prediction))\n",
    "print('Blackbox and our, f1 score', sklearn.metrics.f1_score(predicted_test_data_table.Y, our_prediction))\n",
    "print('Blackbox and our,recall', sklearn.metrics.recall_score(predicted_test_data_table.Y, our_prediction))\n",
    "print('Blackbox and our,precision', sklearn.metrics.precision_score(predicted_test_data_table.Y, our_prediction))\n",
    "\n",
    "from competition_methods_explanation.passive_methods.brs import compute_metrics_brs\n",
    "compute_metrics_brs(explanations)"
   ]
  },
  {
   "cell_type": "code",
   "execution_count": 78,
   "metadata": {
    "ExecuteTime": {
     "end_time": "2019-08-13T06:15:47.104965Z",
     "start_time": "2019-08-13T06:15:06.704698Z"
    },
    "hidden": true
   },
   "outputs": [
    {
     "name": "stdout",
     "output_type": "stream",
     "text": [
      "The autoreload extension is already loaded. To reload it, use:\n",
      "  %reload_ext autoreload\n",
      "sampling rate 1\n",
      "(1152, 8)\n",
      "(392,)\n",
      "start BRS algorithm\n",
      "Generating rules using tree-based method \n",
      "\tTook 2.674s to generate 16324 rules\n",
      "Screening rules using information gain\n",
      "1\n",
      "2\n",
      "2.5\n",
      "(1152, 128)\n",
      "(128, 16324)\n",
      "3\n",
      "4\n",
      "5\n",
      "(2000,)\n",
      "\tTook 2.420s to generate 2000 rules\n",
      "Computing sizes for pattern space ...\n",
      "\tTook 0.044s to compute patternspace\n",
      "No or wrong input for alpha_l and beta_l. The model will use default parameters!\n",
      "number of rules 4\n"
     ]
    }
   ],
   "source": [
    "from tqdm import tqdm_notebook\n",
    "%load_ext autoreload\n",
    "%autoreload 2\n",
    "\n",
    "import Orange\n",
    "\n",
    "# disc = Orange.preprocess.Discretize()\n",
    "# disc.method = Orange.preprocess.discretize.EntropyMDL()\n",
    "# # disc.method = Orange.preprocess.discretize.EqualFreq(n=3)\n",
    "\n",
    "# disc_predicted_data_table = disc(predicted_data_table)\n",
    "# # disc_predicted_test_data_table = disc(predicted_test_data_table)\n",
    "# disc_predicted_test_data_table = Orange.data.Table.from_table(disc_predicted_data_table.domain, predicted_test_data_table)\n",
    "    \n",
    "# rate = 1.0 * ADS.synthetic_data_table.X.shape[0] / predicted_data_table.X.shape[0] \n",
    "rate = 1\n",
    "print(\"sampling rate\",rate)\n",
    "if all([ a.is_discrete for a in predicted_data_table.domain.attributes]) == True:\n",
    "    print(\"not disc\")\n",
    "#     disc_predicted_data_table = Orange.data.Table.from_table(predicted_data_table.domain,predicted_data_table)\n",
    "    disc_predicted_data_table = predicted_data_table\n",
    "    disc_predicted_test_data_table = predicted_test_data_table\n",
    "    \n",
    "    from utils import uniform_enlarge_dataset,estimated_enlarge_dataset\n",
    "    new_predicted_data_table = estimated_enlarge_dataset(predicted_data_table,black_box,sampling_rate=rate,random_seed=random_seed)\n",
    "    print(new_predicted_data_table.X.shape)\n",
    "    disc_new_predicted_data_table =  new_predicted_data_table\n",
    "\n",
    "    \n",
    "else:\n",
    "    import Orange\n",
    "    disc = Orange.preprocess.Discretize()\n",
    "#     disc.method = Orange.preprocess.discretize.EntropyMDL()\n",
    "    disc.method = Orange.preprocess.discretize.EqualFreq(n=8)\n",
    "    disc_predicted_data_table = disc(predicted_data_table)\n",
    "    # disc_predicted_test_data_table = disc(predicted_test_data_table)\n",
    "    disc_predicted_test_data_table = Orange.data.Table.from_table(disc_predicted_data_table.domain, predicted_test_data_table)\n",
    "\n",
    "    from utils import uniform_enlarge_dataset,estimated_enlarge_dataset\n",
    "    new_predicted_data_table = estimated_enlarge_dataset(predicted_data_table,black_box,sampling_rate=rate,random_seed=random_seed)\n",
    "    print(new_predicted_data_table.X.shape)\n",
    "    disc_new_predicted_data_table =  Orange.data.Table.from_table(disc_predicted_data_table.domain, new_predicted_data_table)\n",
    "\n",
    "\n",
    "\n",
    "\n",
    "\n",
    "from competition_methods_explanation.passive_methods.brs import explain_tabular\n",
    "explanations,brs = explain_tabular(disc_new_predicted_data_table, black_box, target_class_idx=1, random_seed=random_seed)\n",
    "# from approach import explain_tabular\n",
    "# explanations,explainer = explain_tabular(disc_new_predicted_data_table, black_box, target_class_idx=1, random_seed=random_seed,beta = 0,use_pre_mined=True, objective = 'bayesian')\n"
   ]
  },
  {
   "cell_type": "code",
   "execution_count": 79,
   "metadata": {
    "ExecuteTime": {
     "end_time": "2019-08-13T06:15:47.213135Z",
     "start_time": "2019-08-13T06:15:47.107429Z"
    },
    "hidden": true
   },
   "outputs": [
    {
     "name": "stdout",
     "output_type": "stream",
     "text": [
      "12\n",
      "Blackbox and our, acc 0.6979166666666666\n",
      "Blackbox and our, f1 score 0.2926829268292683\n",
      "Blackbox and our,recall 0.17142857142857143\n",
      "Blackbox and our,precision 1.0\n",
      "number of rules 4\n",
      "ave number of conditions 3.5\n",
      "max number of conditions 5\n",
      "used features 6\n"
     ]
    }
   ],
   "source": [
    "\n",
    "from competition_methods_explanation.passive_methods.BRS.model import predict\n",
    "from competition_methods_explanation.passive_methods.BRS.util import table_to_binary_df\n",
    "our_prediction = predict(brs.rules,table_to_binary_df(disc_predicted_test_data_table)[1] )\n",
    "print( sum(our_prediction) )\n",
    "\n",
    "import sklearn\n",
    "print('Blackbox and our, acc', sklearn.metrics.accuracy_score(predicted_test_data_table.Y, our_prediction))\n",
    "print('Blackbox and our, f1 score', sklearn.metrics.f1_score(predicted_test_data_table.Y, our_prediction))\n",
    "print('Blackbox and our,recall', sklearn.metrics.recall_score(predicted_test_data_table.Y, our_prediction))\n",
    "print('Blackbox and our,precision', sklearn.metrics.precision_score(predicted_test_data_table.Y, our_prediction))\n",
    "\n",
    "\n",
    "\n",
    "from competition_methods_explanation.passive_methods.brs import compute_metrics_brs\n",
    "compute_metrics_brs(explanations)\n",
    "\n",
    "# from competition_methods_explanation.passive_methods.brs import explain_tabular\n",
    "# explanations = explain_tabular(disc_new_predicted_data_table, black_box, target_class_idx=1, random_seed=random_seed)"
   ]
  },
  {
   "cell_type": "markdown",
   "metadata": {
    "heading_collapsed": true,
    "hidden": true
   },
   "source": [
    "### SBRL"
   ]
  },
  {
   "cell_type": "code",
   "execution_count": null,
   "metadata": {
    "ExecuteTime": {
     "end_time": "2019-08-13T02:10:40.396736Z",
     "start_time": "2019-08-13T02:10:16.594Z"
    },
    "hidden": true
   },
   "outputs": [],
   "source": [
    "from tqdm import tqdm_notebook\n",
    "%load_ext autoreload\n",
    "%autoreload 2\n",
    "\n",
    "import Orange\n",
    "disc = Orange.preprocess.Discretize()\n",
    "disc.method = Orange.preprocess.discretize.EntropyMDL()\n",
    "disc_predicted_test_data_table = disc(predicted_test_data_table)\n",
    "\n",
    "disc = Orange.preprocess.Discretize()\n",
    "disc.method = Orange.preprocess.discretize.EntropyMDL()\n",
    "\n",
    "disc_predicted_data_table = disc(predicted_data_table)\n",
    "# disc_predicted_test_data_table = disc(predicted_test_data_table)\n",
    "disc_predicted_test_data_table = Orange.data.Table.from_table(disc_predicted_data_table.domain, predicted_test_data_table)\n",
    "\n",
    "\n",
    "from utils import uniform_enlarge_dataset,estimated_enlarge_dataset\n",
    "\n",
    "from competition_methods_explanation.passive_methods.brl import explain_tabular\n",
    "\n",
    "\n",
    "from utils import ruleset_predict\n",
    "from copy import deepcopy\n",
    "import sklearn\n",
    "sampling_rate_candidates = [0,0.5,1,1.5,2]\n",
    "\n",
    "rate = 1.0 * 49804 / predicted_data_table.X.shape[0] \n",
    "print(\"sampling rate\",rate)\n",
    "# new_predicted_data_table = uniform_enlarge_dataset(predicted_data_table,black_box,sampling_rate=rate,random_seed=random_seed)\n",
    "new_predicted_data_table = estimated_enlarge_dataset(predicted_data_table,black_box,sampling_rate=rate,random_seed=random_seed)\n",
    "        \n",
    "disc_new_predicted_data_table =  Orange.data.Table.from_table(disc_predicted_data_table.domain, new_predicted_data_table)\n",
    "\n",
    "sbrl = explain_tabular(disc_new_predicted_data_table, black_box, target_class_idx=1, random_seed=random_seed)\n",
    "\n",
    "sbrl_prediction = sbrl.predict( (disc_predicted_test_data_table.X).astype(int)  )\n",
    "\n",
    "f1_score = sklearn.metrics.f1_score(predicted_test_data_table.Y, sbrl_prediction)\n",
    "acc_score=sklearn.metrics.accuracy_score(predicted_test_data_table.Y, sbrl_prediction)\n",
    "rec_score = sklearn.metrics.recall_score(predicted_test_data_table.Y, sbrl_prediction)\n",
    "pre_score = sklearn.metrics.precision_score(predicted_test_data_table.Y, sbrl_prediction)\n",
    "num = sbrl.n_rules\n",
    "num_of_instance = rate * predicted_data_table.X.shape[0]\n",
    "\n",
    "print(\"metrics\",num,f1_score,acc_score,rec_score,pre_score,num_of_instance)\n",
    "\n",
    "from competition_methods_explanation.passive_methods.brl import compute_metrics_sbrl\n",
    "compute_metrics_sbrl(sbrl.rule_list)\n"
   ]
  },
  {
   "cell_type": "code",
   "execution_count": null,
   "metadata": {
    "ExecuteTime": {
     "end_time": "2019-08-13T02:10:40.399510Z",
     "start_time": "2019-08-13T02:10:17.038Z"
    },
    "hidden": true
   },
   "outputs": [],
   "source": [
    "from tqdm import tqdm_notebook\n",
    "%load_ext autoreload\n",
    "%autoreload 2\n",
    "\n",
    "import Orange\n",
    "disc = Orange.preprocess.Discretize()\n",
    "disc.method = Orange.preprocess.discretize.EntropyMDL()\n",
    "disc_predicted_test_data_table = disc(predicted_test_data_table)\n",
    "\n",
    "disc = Orange.preprocess.Discretize()\n",
    "disc.method = Orange.preprocess.discretize.EntropyMDL()\n",
    "\n",
    "disc_predicted_data_table = disc(predicted_data_table)\n",
    "# disc_predicted_test_data_table = disc(predicted_test_data_table)\n",
    "disc_predicted_test_data_table = Orange.data.Table.from_table(disc_predicted_data_table.domain, predicted_test_data_table)\n",
    "\n",
    "\n",
    "from utils import uniform_enlarge_dataset,estimated_enlarge_dataset\n",
    "\n",
    "from competition_methods_explanation.passive_methods.brl import explain_tabular\n",
    "\n",
    "\n",
    "from utils import ruleset_predict\n",
    "from copy import deepcopy\n",
    "import sklearn\n",
    "\n",
    "sampling_rate_candidates = [0,0.5,1,1.5,2]\n",
    "\n",
    "rate = 0\n",
    "print(\"sampling rate\",rate)\n",
    "# new_predicted_data_table = uniform_enlarge_dataset(predicted_data_table,black_box,sampling_rate=rate,random_seed=random_seed)\n",
    "new_predicted_data_table = estimated_enlarge_dataset(predicted_data_table,black_box,sampling_rate=rate,random_seed=random_seed)\n",
    "        \n",
    "disc_new_predicted_data_table =  Orange.data.Table.from_table(disc_predicted_data_table.domain, new_predicted_data_table)\n",
    "\n",
    "sbrl = explain_tabular(disc_new_predicted_data_table, black_box, target_class_idx=1, random_seed=random_seed)\n",
    "\n",
    "sbrl_prediction = sbrl.predict( (disc_predicted_test_data_table.X).astype(int)  )\n",
    "\n",
    "f1_score = sklearn.metrics.f1_score(predicted_test_data_table.Y, sbrl_prediction)\n",
    "acc_score=sklearn.metrics.accuracy_score(predicted_test_data_table.Y, sbrl_prediction)\n",
    "rec_score = sklearn.metrics.recall_score(predicted_test_data_table.Y, sbrl_prediction)\n",
    "pre_score = sklearn.metrics.precision_score(predicted_test_data_table.Y, sbrl_prediction)\n",
    "num = sbrl.n_rules\n",
    "num_of_instance = rate * predicted_data_table.X.shape[0]\n",
    "\n",
    "\n",
    "print(\"metrics\",num,f1_score,acc_score,rec_score,pre_score,num_of_instance)\n",
    "from competition_methods_explanation.passive_methods.brl import compute_metrics_sbrl\n",
    "compute_metrics_sbrl(sbrl.rule_list)"
   ]
  },
  {
   "cell_type": "markdown",
   "metadata": {
    "ExecuteTime": {
     "end_time": "2019-08-03T11:58:19.021766Z",
     "start_time": "2019-08-03T10:16:17.708Z"
    },
    "hidden": true
   },
   "source": [
    "### CART"
   ]
  },
  {
   "cell_type": "code",
   "execution_count": 7,
   "metadata": {
    "ExecuteTime": {
     "end_time": "2019-08-10T21:45:11.543644Z",
     "start_time": "2019-08-10T21:45:11.295383Z"
    },
    "hidden": true
   },
   "outputs": [
    {
     "name": "stdout",
     "output_type": "stream",
     "text": [
      "1046.0\n",
      "traning a blackbox to approximate a blackbox, with original dataset\n",
      "Blackbox and our, f1 score 0.7573604060913706\n",
      "Blackbox and our, acc 0.9021494370522006\n",
      "Blackbox and our,recall 0.7131931166347992\n",
      "Blackbox and our,precision 0.8073593073593074\n"
     ]
    }
   ],
   "source": [
    "from sklearn.tree import DecisionTreeClassifier\n",
    "from sklearn.ensemble import  RandomForestClassifier\n",
    "# c_passive = MLPClassifier(solver='adam', alpha=1e-5,  hidden_layer_sizes=(100, 100,50,50,10), random_state=random_seed,verbose=False)\n",
    "# c_passive =RandomForestClassifier(n_estimators=300, n_jobs=5)\n",
    "# c_passive= SVC(gamma='scale')\n",
    "# c_passive= DecisionTreeClassifier(max_depth=10)\n",
    "c_passive= DecisionTreeClassifier(random_state=random_seed,max_leaf_nodes=133)\n",
    "\n",
    "\n",
    "# from sklearn.compose import make_column_transformer\n",
    "# from sklearn.preprocessing import StandardScaler, OneHotEncoder,Normalizer\n",
    "# categorical_features_idx = [i for i,a in enumerate(data_table.domain.attributes) if a.is_discrete]\n",
    "# encoder = make_column_transformer( ( OneHotEncoder(categories='auto',sparse=False),categorical_features_idx),\n",
    "#                             remainder = 'passthrough'\n",
    "#                             )\n",
    "# encoder.fit(predicted_data_table.X)\n",
    "# c_passive.fit(encoder.transform(predicted_data_table.X), predicted_data_table.Y)\n",
    "# black_prediction = c_passive.predict(encoder.transform(predicted_test_data_table.X))\n",
    "\n",
    "c_passive.fit(predicted_data_table.X, predicted_data_table.Y)\n",
    "black_prediction = c_passive.predict(predicted_test_data_table.X)\n",
    "\n",
    "print(sum(predicted_test_data_table.Y) )\n",
    "\n",
    "import sklearn\n",
    "print(\"traning a blackbox to approximate a blackbox, with original dataset\")\n",
    "print('Blackbox and our, f1 score', sklearn.metrics.f1_score(predicted_test_data_table.Y, black_prediction))\n",
    "print('Blackbox and our, acc', sklearn.metrics.accuracy_score(predicted_test_data_table.Y, black_prediction))\n",
    "print('Blackbox and our,recall', sklearn.metrics.recall_score(predicted_test_data_table.Y, black_prediction))\n",
    "print('Blackbox and our,precision', sklearn.metrics.precision_score(predicted_test_data_table.Y, black_prediction))\n"
   ]
  },
  {
   "cell_type": "code",
   "execution_count": 8,
   "metadata": {
    "ExecuteTime": {
     "end_time": "2019-08-10T21:45:11.719025Z",
     "start_time": "2019-08-10T21:45:11.548896Z"
    },
    "hidden": true
   },
   "outputs": [
    {
     "name": "stdout",
     "output_type": "stream",
     "text": [
      "number of leaves 133\n",
      "average number of conditions 6.548872180451128\n",
      "max number of conditions 10\n",
      "feature used 10\n"
     ]
    }
   ],
   "source": [
    "estimator = c_passive\n",
    "n_nodes = estimator.tree_.node_count\n",
    "children_left = estimator.tree_.children_left\n",
    "children_right = estimator.tree_.children_right\n",
    "feature = estimator.tree_.feature\n",
    "threshold = estimator.tree_.threshold\n",
    "\n",
    "# The tree structure can be traversed to compute various properties such\n",
    "# as the depth of each node and whether or not it is a leaf.\n",
    "node_depth = np.zeros(shape=n_nodes, dtype=np.int64)\n",
    "is_leaves = np.zeros(shape=n_nodes, dtype=bool)\n",
    "stack = [(0, -1)]  # seed is the root node id and its parent depth\n",
    "\n",
    "# from collections import defaultdict\n",
    "# defaultdict(list)\n",
    "parents = {}\n",
    "while len(stack) > 0:\n",
    "    node_id, parent_depth = stack.pop()\n",
    "    node_depth[node_id] = parent_depth + 1\n",
    "\n",
    "    # If we have a test node\n",
    "    if (children_left[node_id] != children_right[node_id]):\n",
    "        stack.append((children_left[node_id], parent_depth + 1))\n",
    "        stack.append((children_right[node_id], parent_depth + 1))\n",
    "        parents[ children_left[node_id]  ] = node_id\n",
    "        parents[ children_right[node_id]  ] = node_id\n",
    "    else:\n",
    "        is_leaves[node_id] = True\n",
    "\n",
    "# print( len(parents) )\n",
    "        \n",
    "print(\"number of leaves\",sum(is_leaves) )\n",
    "\n",
    "leave_nodes = [ i for i in range( len(is_leaves) ) if is_leaves[i]==True ] \n",
    "\n",
    "paths_of_leave_nodes = {}\n",
    "for i in range(n_nodes):\n",
    "    if is_leaves[i] == True:\n",
    "        path = []\n",
    "        tmp = i\n",
    "        while( tmp >=0 and tmp in parents) :\n",
    "            tmp_parent = parents[tmp]\n",
    "            path.append(tmp_parent)\n",
    "            tmp = tmp_parent\n",
    "            \n",
    "        paths_of_leave_nodes[i] = path\n",
    "\n",
    "print(\"average number of conditions\", sum ( [   len(set(  feature[n]  for n in paths_of_leave_nodes[i]     ))    for i in leave_nodes] ) / len(leave_nodes)  )\n",
    "print(\"max number of conditions\", max([   len(set(  feature[n]  for n in paths_of_leave_nodes[i]     ))    for i in leave_nodes] )  )\n",
    "\n",
    "features_used = set ( [feature[i] for i in range(n_nodes)  if is_leaves[i]!=True ]  ) # the feature array does not use any feature split\n",
    "print(\"feature used\", len(features_used))\n"
   ]
  },
  {
   "cell_type": "code",
   "execution_count": 132,
   "metadata": {
    "ExecuteTime": {
     "end_time": "2019-08-06T02:00:52.339977Z",
     "start_time": "2019-08-06T02:00:47.877716Z"
    },
    "hidden": true
   },
   "outputs": [
    {
     "name": "stdout",
     "output_type": "stream",
     "text": [
      "sampling rate 1.116636713151489\n",
      "traning a blackbox to approximate a blackbox, with original dataset\n",
      "Blackbox and our, f1 score 0.7967939651107968\n",
      "Blackbox and our, acc 0.9117707267144319\n",
      "Blackbox and our,recall 0.8078393881453155\n",
      "Blackbox and our,precision 0.786046511627907\n",
      "number of leaves 7741\n",
      "average number of conditions 8.66464281100633\n",
      "max number of conditions 12\n",
      "feature used 12\n"
     ]
    }
   ],
   "source": [
    "from sklearn.tree import DecisionTreeClassifier\n",
    "c_passive= DecisionTreeClassifier(random_state=random_seed)\n",
    "\n",
    "from utils import uniform_enlarge_dataset,estimated_enlarge_dataset\n",
    "rate = ADS_active.synthetic_data_table.X.shape[0] / predicted_data_table.X.shape[0]\n",
    "print(\"sampling rate\",rate)\n",
    "# new_predicted_data_table = uniform_enlarge_dataset(predicted_data_table,black_box,sampling_rate=rate,random_seed=random_seed)\n",
    "new_predicted_data_table = estimated_enlarge_dataset(predicted_data_table,black_box,sampling_rate=rate,random_seed=random_seed)\n",
    "\n",
    "\n",
    "c_passive.fit(new_predicted_data_table.X, new_predicted_data_table.Y)\n",
    "black_prediction = c_passive.predict(predicted_test_data_table.X)\n",
    "\n",
    "\n",
    "\n",
    "import sklearn\n",
    "print(\"traning a blackbox to approximate a blackbox, with original dataset\")\n",
    "print('Blackbox and our, f1 score', sklearn.metrics.f1_score(predicted_test_data_table.Y, black_prediction))\n",
    "print('Blackbox and our, acc', sklearn.metrics.accuracy_score(predicted_test_data_table.Y, black_prediction))\n",
    "print('Blackbox and our,recall', sklearn.metrics.recall_score(predicted_test_data_table.Y, black_prediction))\n",
    "print('Blackbox and our,precision', sklearn.metrics.precision_score(predicted_test_data_table.Y, black_prediction))\n",
    "\n",
    "estimator = c_passive\n",
    "n_nodes = estimator.tree_.node_count\n",
    "children_left = estimator.tree_.children_left\n",
    "children_right = estimator.tree_.children_right\n",
    "feature = estimator.tree_.feature\n",
    "threshold = estimator.tree_.threshold\n",
    "\n",
    "# The tree structure can be traversed to compute various properties such\n",
    "# as the depth of each node and whether or not it is a leaf.\n",
    "node_depth = np.zeros(shape=n_nodes, dtype=np.int64)\n",
    "is_leaves = np.zeros(shape=n_nodes, dtype=bool)\n",
    "stack = [(0, -1)]  # seed is the root node id and its parent depth\n",
    "\n",
    "# from collections import defaultdict\n",
    "# defaultdict(list)\n",
    "parents = {}\n",
    "while len(stack) > 0:\n",
    "    node_id, parent_depth = stack.pop()\n",
    "    node_depth[node_id] = parent_depth + 1\n",
    "\n",
    "    # If we have a test node\n",
    "    if (children_left[node_id] != children_right[node_id]):\n",
    "        stack.append((children_left[node_id], parent_depth + 1))\n",
    "        stack.append((children_right[node_id], parent_depth + 1))\n",
    "        parents[ children_left[node_id]  ] = node_id\n",
    "        parents[ children_right[node_id]  ] = node_id\n",
    "    else:\n",
    "        is_leaves[node_id] = True\n",
    "\n",
    "# print( len(parents) )\n",
    "        \n",
    "print(\"number of leaves\",sum(is_leaves) )\n",
    "\n",
    "leave_nodes = [ i for i in range( len(is_leaves) ) if is_leaves[i]==True ] \n",
    "\n",
    "paths_of_leave_nodes = {}\n",
    "for i in range(n_nodes):\n",
    "    if is_leaves[i] == True:\n",
    "        path = []\n",
    "        tmp = i\n",
    "        while( tmp >=0 and tmp in parents) :\n",
    "            tmp_parent = parents[tmp]\n",
    "            path.append(tmp_parent)\n",
    "            tmp = tmp_parent\n",
    "            \n",
    "        paths_of_leave_nodes[i] = path\n",
    "\n",
    "print(\"average number of conditions\", sum ( [   len(set(  feature[n]  for n in paths_of_leave_nodes[i]     ))    for i in leave_nodes] ) / len(leave_nodes)  )\n",
    "print(\"max number of conditions\", max([   len(set(  feature[n]  for n in paths_of_leave_nodes[i]     ))    for i in leave_nodes] )  )\n",
    "\n",
    "features_used = set ( [feature[i] for i in range(n_nodes)  if is_leaves[i]!=True ]  ) # the feature array does not use any feature split\n",
    "print(\"feature used\", len(features_used))\n"
   ]
  },
  {
   "cell_type": "markdown",
   "metadata": {
    "heading_collapsed": true,
    "hidden": true
   },
   "source": [
    "### Random forest"
   ]
  },
  {
   "cell_type": "code",
   "execution_count": 139,
   "metadata": {
    "ExecuteTime": {
     "end_time": "2019-08-06T02:33:34.972176Z",
     "start_time": "2019-08-06T02:33:34.585086Z"
    },
    "hidden": true
   },
   "outputs": [
    {
     "name": "stdout",
     "output_type": "stream",
     "text": [
      "1046.0\n",
      "traning a blackbox to approximate a blackbox, with original dataset\n",
      "Blackbox and our, f1 score 0.8242485990830362\n",
      "Blackbox and our, acc 0.9293756397134084\n",
      "Blackbox and our,recall 0.7734225621414914\n",
      "Blackbox and our,precision 0.8822246455834242\n"
     ]
    }
   ],
   "source": [
    "from sklearn.ensemble import  RandomForestClassifier\n",
    "# c_passive = MLPClassifier(solver='adam', alpha=1e-5,  hidden_layer_sizes=(100, 100,50,50,10), random_state=random_seed,verbose=False)\n",
    "c_passive =RandomForestClassifier(random_state=random_seed)\n",
    "# c_passive= SVC(gamma='scale')\n",
    "# c_passive= DecisionTreeClassifier(max_depth=10)\n",
    "# c_passive= DecisionTreeClassifier(random_state=random_seed)\n",
    "\n",
    "\n",
    "# from sklearn.compose import make_column_transformer\n",
    "# from sklearn.preprocessing import StandardScaler, OneHotEncoder,Normalizer\n",
    "# categorical_features_idx = [i for i,a in enumerate(data_table.domain.attributes) if a.is_discrete]\n",
    "# encoder = make_column_transformer( ( OneHotEncoder(categories='auto',sparse=False),categorical_features_idx),\n",
    "#                             remainder = 'passthrough'\n",
    "#                             )\n",
    "# encoder.fit(predicted_data_table.X)\n",
    "# c_passive.fit(encoder.transform(predicted_data_table.X), predicted_data_table.Y)\n",
    "# black_prediction = c_passive.predict(encoder.transform(predicted_test_data_table.X))\n",
    "\n",
    "c_passive.fit(predicted_data_table.X, predicted_data_table.Y)\n",
    "black_prediction = c_passive.predict(predicted_test_data_table.X)\n",
    "\n",
    "print(sum(predicted_test_data_table.Y) )\n",
    "\n",
    "import sklearn\n",
    "print(\"traning a blackbox to approximate a blackbox, with original dataset\")\n",
    "print('Blackbox and our, f1 score', sklearn.metrics.f1_score(predicted_test_data_table.Y, black_prediction))\n",
    "print('Blackbox and our, acc', sklearn.metrics.accuracy_score(predicted_test_data_table.Y, black_prediction))\n",
    "print('Blackbox and our,recall', sklearn.metrics.recall_score(predicted_test_data_table.Y, black_prediction))\n",
    "print('Blackbox and our,precision', sklearn.metrics.precision_score(predicted_test_data_table.Y, black_prediction))\n",
    "\n"
   ]
  },
  {
   "cell_type": "code",
   "execution_count": 142,
   "metadata": {
    "ExecuteTime": {
     "end_time": "2019-08-06T02:35:14.412769Z",
     "start_time": "2019-08-06T02:35:12.847149Z"
    },
    "hidden": true
   },
   "outputs": [
    {
     "name": "stdout",
     "output_type": "stream",
     "text": [
      "number of all leaves 44687\n",
      "average number of conditions 9.571351847293396\n",
      "max number of conditions 12\n"
     ]
    }
   ],
   "source": [
    "\n",
    "\n",
    "def get_path_from_tree(decision_tree):\n",
    "    \n",
    "    \n",
    "\n",
    "    n_nodes = decision_tree.tree_.node_count\n",
    "    children_left = decision_tree.tree_.children_left\n",
    "    children_right = decision_tree.tree_.children_right\n",
    "    feature = decision_tree.tree_.feature\n",
    "    threshold = decision_tree.tree_.threshold\n",
    "\n",
    "    # The tree structure can be traversed to compute various properties such\n",
    "    # as the depth of each node and whether or not it is a leaf.\n",
    "    node_depth = np.zeros(shape=n_nodes, dtype=np.int64)\n",
    "    is_leaves = np.zeros(shape=n_nodes, dtype=bool)\n",
    "    stack = [(0, -1)]  # seed is the root node id and its parent depth\n",
    "\n",
    "    parents = {}\n",
    "    while len(stack) > 0:\n",
    "        node_id, parent_depth = stack.pop()\n",
    "        node_depth[node_id] = parent_depth + 1\n",
    "\n",
    "        # If we have a test node\n",
    "        if (children_left[node_id] != children_right[node_id]):\n",
    "            stack.append((children_left[node_id], parent_depth + 1))\n",
    "            stack.append((children_right[node_id], parent_depth + 1))\n",
    "            parents[ children_left[node_id]  ] = node_id\n",
    "            parents[ children_right[node_id]  ] = node_id\n",
    "        else:\n",
    "            is_leaves[node_id] = True\n",
    "\n",
    "\n",
    "    leave_nodes = [ i for i in range( len(is_leaves) ) if is_leaves[i]==True ] \n",
    "\n",
    "    paths_of_leave_nodes = {}\n",
    "    for i in range(n_nodes):\n",
    "        if is_leaves[i] == True:\n",
    "            path = []\n",
    "            tmp = i\n",
    "            while( tmp >=0 and tmp in parents) :\n",
    "                tmp_parent = parents[tmp]\n",
    "                path.append(tmp_parent)\n",
    "                tmp = tmp_parent\n",
    "\n",
    "            paths_of_leave_nodes[i] = path\n",
    "    return [   set(  feature[n]  for n in paths_of_leave_nodes[i]  ) for i in leave_nodes]\n",
    "\n",
    "list_of_paths = [ get_path_from_tree(t) for t in c_passive.estimators_ ]\n",
    "import itertools\n",
    "all_paths = list(itertools.chain.from_iterable(list_of_paths))\n",
    "\n",
    "\n",
    "print(\"number of all leaves\", len(all_paths))\n",
    "print(\"average number of conditions\", sum ( [   len(i)    for i in all_paths] ) / len(all_paths)  )\n",
    "print(\"max number of conditions\", max ( [   len(i)    for i in all_paths] ) )\n",
    "\n"
   ]
  },
  {
   "cell_type": "code",
   "execution_count": 143,
   "metadata": {
    "ExecuteTime": {
     "end_time": "2019-08-06T02:36:58.372511Z",
     "start_time": "2019-08-06T02:36:50.473420Z"
    },
    "hidden": true
   },
   "outputs": [
    {
     "name": "stdout",
     "output_type": "stream",
     "text": [
      "sampling rate 1.116636713151489\n",
      "1046.0\n",
      "traning a blackbox to approximate a blackbox, with original dataset\n",
      "Blackbox and our, f1 score 0.8310362429811129\n",
      "Blackbox and our, acc 0.9322415557830092\n",
      "Blackbox and our,recall 0.7782026768642447\n",
      "Blackbox and our,precision 0.891566265060241\n",
      "number of all leaves 82850\n",
      "average number of conditions 9.32267954133977\n",
      "max number of conditions 12\n"
     ]
    }
   ],
   "source": [
    "from sklearn.ensemble import  RandomForestClassifier\n",
    "\n",
    "c_passive =RandomForestClassifier(random_state=random_seed)\n",
    "\n",
    "\n",
    "from utils import uniform_enlarge_dataset,estimated_enlarge_dataset\n",
    "rate = ADS_active.synthetic_data_table.X.shape[0] / predicted_data_table.X.shape[0]\n",
    "print(\"sampling rate\",rate)\n",
    "new_predicted_data_table = estimated_enlarge_dataset(predicted_data_table,black_box,sampling_rate=rate,random_seed=random_seed)\n",
    "\n",
    "\n",
    "c_passive.fit(new_predicted_data_table.X, new_predicted_data_table.Y)\n",
    "black_prediction = c_passive.predict(predicted_test_data_table.X)\n",
    "\n",
    "\n",
    "\n",
    "\n",
    "\n",
    "print(sum(predicted_test_data_table.Y) )\n",
    "\n",
    "import sklearn\n",
    "print(\"traning a blackbox to approximate a blackbox, with original dataset\")\n",
    "print('Blackbox and our, f1 score', sklearn.metrics.f1_score(predicted_test_data_table.Y, black_prediction))\n",
    "print('Blackbox and our, acc', sklearn.metrics.accuracy_score(predicted_test_data_table.Y, black_prediction))\n",
    "print('Blackbox and our,recall', sklearn.metrics.recall_score(predicted_test_data_table.Y, black_prediction))\n",
    "print('Blackbox and our,precision', sklearn.metrics.precision_score(predicted_test_data_table.Y, black_prediction))\n",
    "\n",
    "\n",
    "\n",
    "\n",
    "def get_path_from_tree(decision_tree):\n",
    "    \n",
    "    \n",
    "\n",
    "    n_nodes = decision_tree.tree_.node_count\n",
    "    children_left = decision_tree.tree_.children_left\n",
    "    children_right = decision_tree.tree_.children_right\n",
    "    feature = decision_tree.tree_.feature\n",
    "    threshold = decision_tree.tree_.threshold\n",
    "\n",
    "    # The tree structure can be traversed to compute various properties such\n",
    "    # as the depth of each node and whether or not it is a leaf.\n",
    "    node_depth = np.zeros(shape=n_nodes, dtype=np.int64)\n",
    "    is_leaves = np.zeros(shape=n_nodes, dtype=bool)\n",
    "    stack = [(0, -1)]  # seed is the root node id and its parent depth\n",
    "\n",
    "    parents = {}\n",
    "    while len(stack) > 0:\n",
    "        node_id, parent_depth = stack.pop()\n",
    "        node_depth[node_id] = parent_depth + 1\n",
    "\n",
    "        # If we have a test node\n",
    "        if (children_left[node_id] != children_right[node_id]):\n",
    "            stack.append((children_left[node_id], parent_depth + 1))\n",
    "            stack.append((children_right[node_id], parent_depth + 1))\n",
    "            parents[ children_left[node_id]  ] = node_id\n",
    "            parents[ children_right[node_id]  ] = node_id\n",
    "        else:\n",
    "            is_leaves[node_id] = True\n",
    "\n",
    "\n",
    "    leave_nodes = [ i for i in range( len(is_leaves) ) if is_leaves[i]==True ] \n",
    "\n",
    "    paths_of_leave_nodes = {}\n",
    "    for i in range(n_nodes):\n",
    "        if is_leaves[i] == True:\n",
    "            path = []\n",
    "            tmp = i\n",
    "            while( tmp >=0 and tmp in parents) :\n",
    "                tmp_parent = parents[tmp]\n",
    "                path.append(tmp_parent)\n",
    "                tmp = tmp_parent\n",
    "\n",
    "            paths_of_leave_nodes[i] = path\n",
    "    return [   set(  feature[n]  for n in paths_of_leave_nodes[i]  ) for i in leave_nodes]\n",
    "\n",
    "list_of_paths = [ get_path_from_tree(t) for t in c_passive.estimators_ ]\n",
    "import itertools\n",
    "all_paths = list(itertools.chain.from_iterable(list_of_paths))\n",
    "\n",
    "\n",
    "print(\"number of all leaves\", len(all_paths))\n",
    "print(\"average number of conditions\", sum ( [   len(i)    for i in all_paths] ) / len(all_paths)  )\n",
    "print(\"max number of conditions\", max ( [   len(i)    for i in all_paths] ) )"
   ]
  },
  {
   "cell_type": "markdown",
   "metadata": {
    "heading_collapsed": true,
    "hidden": true
   },
   "source": [
    "### SVM"
   ]
  },
  {
   "cell_type": "code",
   "execution_count": 155,
   "metadata": {
    "ExecuteTime": {
     "end_time": "2019-08-06T07:06:14.164583Z",
     "start_time": "2019-08-06T07:04:39.377058Z"
    },
    "hidden": true
   },
   "outputs": [
    {
     "name": "stdout",
     "output_type": "stream",
     "text": [
      "traning a blackbox to approximate a blackbox, with original dataset\n",
      "Blackbox and our, f1 score 0.7884231536926146\n",
      "Blackbox and our, acc 0.9132036847492323\n",
      "Blackbox and our,recall 0.7552581261950286\n",
      "Blackbox and our,precision 0.824634655532359\n",
      "number of support vectors (10866, 103)\n"
     ]
    }
   ],
   "source": [
    "from sklearn.ensemble import  RandomForestClassifier\n",
    "from sklearn.svm import SVC\n",
    "c_passive = SVC(gamma='scale',random_state=random_seed)\n",
    "\n",
    "# c_passive.fit(predicted_data_table.X, predicted_data_table.Y)\n",
    "# black_prediction = c_passive.predict(predicted_test_data_table.X)\n",
    "\n",
    "\n",
    "from sklearn.preprocessing import OneHotEncoder,StandardScaler\n",
    "from sklearn.compose import make_column_transformer\n",
    "categorical_features_idx = [i for i,a in enumerate(data_table.domain.attributes) if a.is_discrete]\n",
    "continuous_features_idx = [i for i,a in enumerate(data_table.domain.attributes) if a.is_continuous]\n",
    "\n",
    "scikit_encoder = make_column_transformer( ( OneHotEncoder(categories='auto',sparse=False),categorical_features_idx),\n",
    "(StandardScaler(), continuous_features_idx),\n",
    "                    remainder = 'passthrough'\n",
    "                    )\n",
    "\n",
    "scikit_encoder.fit(data_table.X)\n",
    "\n",
    "c_passive.fit(scikit_encoder.transform(predicted_data_table.X), predicted_data_table.Y)\n",
    "black_prediction = c_passive.predict( scikit_encoder.transform(predicted_test_data_table.X ))\n",
    "\n",
    "import sklearn\n",
    "print(\"traning a blackbox to approximate a blackbox, with original dataset\")\n",
    "print('Blackbox and our, f1 score', sklearn.metrics.f1_score(predicted_test_data_table.Y, black_prediction))\n",
    "print('Blackbox and our, acc', sklearn.metrics.accuracy_score(predicted_test_data_table.Y, black_prediction))\n",
    "print('Blackbox and our,recall', sklearn.metrics.recall_score(predicted_test_data_table.Y, black_prediction))\n",
    "print('Blackbox and our,precision', sklearn.metrics.precision_score(predicted_test_data_table.Y, black_prediction))\n",
    "print(\"number of support vectors\",c_passive.support_vectors_.shape)"
   ]
  },
  {
   "cell_type": "code",
   "execution_count": 160,
   "metadata": {
    "ExecuteTime": {
     "end_time": "2019-08-06T07:33:24.677894Z",
     "start_time": "2019-08-06T07:25:19.257572Z"
    },
    "hidden": true
   },
   "outputs": [
    {
     "name": "stdout",
     "output_type": "stream",
     "text": [
      "sampling rate 1.116636713151489\n",
      "traning a blackbox to approximate a blackbox, with original dataset\n",
      "Blackbox and our, f1 score 0.7918987341772152\n",
      "Blackbox and our, acc 0.9158648925281474\n",
      "Blackbox and our,recall 0.7476099426386233\n",
      "Blackbox and our,precision 0.8417653390742734\n",
      "number of support vectors (22689, 103)\n"
     ]
    }
   ],
   "source": [
    "c_passive = SVC(gamma='scale',random_state=random_seed)\n",
    "\n",
    "from utils import uniform_enlarge_dataset,estimated_enlarge_dataset\n",
    "rate = ADS_active.synthetic_data_table.X.shape[0] / predicted_data_table.X.shape[0]\n",
    "print(\"sampling rate\",rate)\n",
    "new_predicted_data_table = estimated_enlarge_dataset(predicted_data_table,black_box,sampling_rate=rate,random_seed=random_seed)\n",
    "\n",
    "\n",
    "\n",
    "from sklearn.preprocessing import OneHotEncoder,StandardScaler\n",
    "from sklearn.compose import make_column_transformer\n",
    "categorical_features_idx = [i for i,a in enumerate(data_table.domain.attributes) if a.is_discrete]\n",
    "continuous_features_idx = [i for i,a in enumerate(data_table.domain.attributes) if a.is_continuous]\n",
    "\n",
    "scikit_encoder = make_column_transformer( ( OneHotEncoder(categories='auto',sparse=False),categorical_features_idx),\n",
    "(StandardScaler(), continuous_features_idx),\n",
    "                    remainder = 'passthrough'\n",
    "                    )\n",
    "\n",
    "scikit_encoder.fit(data_table.X)\n",
    "\n",
    "\n",
    "c_passive.fit(scikit_encoder.transform(new_predicted_data_table.X), new_predicted_data_table.Y)\n",
    "black_prediction = c_passive.predict( scikit_encoder.transform(predicted_test_data_table.X ))\n",
    "\n",
    "\n",
    "import sklearn\n",
    "print(\"traning a blackbox to approximate a blackbox, with original dataset\")\n",
    "print('Blackbox and our, f1 score', sklearn.metrics.f1_score(predicted_test_data_table.Y, black_prediction))\n",
    "print('Blackbox and our, acc', sklearn.metrics.accuracy_score(predicted_test_data_table.Y, black_prediction))\n",
    "print('Blackbox and our,recall', sklearn.metrics.recall_score(predicted_test_data_table.Y, black_prediction))\n",
    "print('Blackbox and our,precision', sklearn.metrics.precision_score(predicted_test_data_table.Y, black_prediction))\n",
    "print(\"number of support vectors\",c_passive.support_vectors_.shape)"
   ]
  },
  {
   "cell_type": "markdown",
   "metadata": {
    "heading_collapsed": true,
    "hidden": true
   },
   "source": [
    "### DNN"
   ]
  },
  {
   "cell_type": "code",
   "execution_count": 167,
   "metadata": {
    "ExecuteTime": {
     "end_time": "2019-08-06T07:48:33.070423Z",
     "start_time": "2019-08-06T07:46:39.183143Z"
    },
    "hidden": true
   },
   "outputs": [
    {
     "name": "stdout",
     "output_type": "stream",
     "text": [
      "traning a blackbox to approximate a blackbox, with original dataset\n",
      "Blackbox and our, f1 score 0.854079254079254\n",
      "Blackbox and our, acc 0.9359263050153531\n",
      "Blackbox and our,recall 0.875717017208413\n",
      "Blackbox and our,precision 0.8334849863512284\n",
      "number of parameter 28310\n"
     ]
    }
   ],
   "source": [
    "from sklearn.neural_network import MLPClassifier\n",
    "c_passive = MLPClassifier(solver='adam', alpha=1e-3,  hidden_layer_sizes=(100,100,50,50,10), random_state=random_seed,verbose=False)\n",
    "\n",
    "from sklearn.preprocessing import OneHotEncoder,StandardScaler\n",
    "from sklearn.compose import make_column_transformer\n",
    "categorical_features_idx = [i for i,a in enumerate(data_table.domain.attributes) if a.is_discrete]\n",
    "continuous_features_idx = [i for i,a in enumerate(data_table.domain.attributes) if a.is_continuous]\n",
    "\n",
    "scikit_encoder = make_column_transformer( ( OneHotEncoder(categories='auto',sparse=False),categorical_features_idx),\n",
    "(StandardScaler(), continuous_features_idx),\n",
    "                    remainder = 'passthrough'\n",
    "                    )\n",
    "\n",
    "scikit_encoder.fit(data_table.X)\n",
    "\n",
    "c_passive.fit(scikit_encoder.transform(predicted_data_table.X), predicted_data_table.Y)\n",
    "black_prediction = c_passive.predict( scikit_encoder.transform(predicted_test_data_table.X ))\n",
    "\n",
    "import sklearn\n",
    "print(\"traning a blackbox to approximate a blackbox, with original dataset\")\n",
    "print('Blackbox and our, f1 score', sklearn.metrics.f1_score(predicted_test_data_table.Y, black_prediction))\n",
    "print('Blackbox and our, acc', sklearn.metrics.accuracy_score(predicted_test_data_table.Y, black_prediction))\n",
    "print('Blackbox and our,recall', sklearn.metrics.recall_score(predicted_test_data_table.Y, black_prediction))\n",
    "print('Blackbox and our,precision', sklearn.metrics.precision_score(predicted_test_data_table.Y, black_prediction))\n",
    "print(\"number of parameter\", sum([  layer.shape[0]*layer.shape[1]  for layer in c_passive.coefs_ ]))"
   ]
  },
  {
   "cell_type": "code",
   "execution_count": 168,
   "metadata": {
    "ExecuteTime": {
     "end_time": "2019-08-06T07:54:42.078837Z",
     "start_time": "2019-08-06T07:48:33.073745Z"
    },
    "hidden": true
   },
   "outputs": [
    {
     "name": "stdout",
     "output_type": "stream",
     "text": [
      "sampling rate 1.116636713151489\n",
      "traning a blackbox to approximate a blackbox, with original dataset\n",
      "Blackbox and our, f1 score 0.8691099476439792\n",
      "Blackbox and our, acc 0.9437052200614124\n",
      "Blackbox and our,recall 0.872848948374761\n",
      "Blackbox and our,precision 0.8654028436018958\n",
      "number of parameter 28310\n"
     ]
    }
   ],
   "source": [
    "from sklearn.neural_network import MLPClassifier\n",
    "c_passive = MLPClassifier(solver='adam', alpha=1e-3,  hidden_layer_sizes=(100,100,50,50,10), random_state=random_seed,verbose=False)\n",
    "\n",
    "\n",
    "from utils import uniform_enlarge_dataset,estimated_enlarge_dataset\n",
    "rate = ADS_active.synthetic_data_table.X.shape[0] / predicted_data_table.X.shape[0]\n",
    "print(\"sampling rate\",rate)\n",
    "new_predicted_data_table = estimated_enlarge_dataset(predicted_data_table,black_box,sampling_rate=rate,random_seed=random_seed)\n",
    "\n",
    "\n",
    "\n",
    "from sklearn.preprocessing import OneHotEncoder,StandardScaler\n",
    "from sklearn.compose import make_column_transformer\n",
    "categorical_features_idx = [i for i,a in enumerate(data_table.domain.attributes) if a.is_discrete]\n",
    "continuous_features_idx = [i for i,a in enumerate(data_table.domain.attributes) if a.is_continuous]\n",
    "\n",
    "scikit_encoder = make_column_transformer( ( OneHotEncoder(categories='auto',sparse=False),categorical_features_idx),\n",
    "(StandardScaler(), continuous_features_idx),\n",
    "                    remainder = 'passthrough'\n",
    "                    )\n",
    "\n",
    "scikit_encoder.fit(data_table.X)\n",
    "\n",
    "\n",
    "c_passive.fit(scikit_encoder.transform(new_predicted_data_table.X), new_predicted_data_table.Y)\n",
    "black_prediction = c_passive.predict( scikit_encoder.transform(predicted_test_data_table.X ))\n",
    "\n",
    "\n",
    "import sklearn\n",
    "print(\"traning a blackbox to approximate a blackbox, with original dataset\")\n",
    "print('Blackbox and our, f1 score', sklearn.metrics.f1_score(predicted_test_data_table.Y, black_prediction))\n",
    "print('Blackbox and our, acc', sklearn.metrics.accuracy_score(predicted_test_data_table.Y, black_prediction))\n",
    "print('Blackbox and our,recall', sklearn.metrics.recall_score(predicted_test_data_table.Y, black_prediction))\n",
    "print('Blackbox and our,precision', sklearn.metrics.precision_score(predicted_test_data_table.Y, black_prediction))\n",
    "print(\"number of parameter\", sum([  layer.shape[0]*layer.shape[1]  for layer in c_passive.coefs_ ]))"
   ]
  },
  {
   "cell_type": "markdown",
   "metadata": {
    "heading_collapsed": true
   },
   "source": [
    "## Active baselines"
   ]
  },
  {
   "cell_type": "markdown",
   "metadata": {
    "ExecuteTime": {
     "end_time": "2019-08-10T22:25:45.344258Z",
     "start_time": "2019-08-10T22:25:45.220165Z"
    },
    "hidden": true
   },
   "source": [
    "### DTExtract"
   ]
  },
  {
   "cell_type": "code",
   "execution_count": 8,
   "metadata": {
    "ExecuteTime": {
     "end_time": "2019-09-02T07:24:46.583948Z",
     "start_time": "2019-09-02T07:24:46.520691Z"
    },
    "hidden": true
   },
   "outputs": [
    {
     "name": "stdout",
     "output_type": "stream",
     "text": [
      "[[ 0.e+000 -2.e+000  0.e+000  0.e+000  0.e+000  0.e+000  0.e+000]\n",
      " [-2.e+000  0.e+000  5.e-324  0.e+000  0.e+000  5.e-324  5.e-324]]\n"
     ]
    }
   ],
   "source": [
    "a = np.array([ [-1.7, -1.5, -0.2, 0.2, 1.5, 1.7, 2.3],[-1.7, -1.5, -0.2, 0.2, 1.5, 1.7, 2.3] ])\n",
    "\n",
    "tmp = np.rint(a,where=[[0,1,0,0,0,0,0], [1,0,0,0,0,0,0]] )\n",
    "print(tmp)"
   ]
  },
  {
   "cell_type": "code",
   "execution_count": 9,
   "metadata": {
    "ExecuteTime": {
     "end_time": "2019-09-02T07:24:54.123399Z",
     "start_time": "2019-09-02T07:24:46.588111Z"
    },
    "hidden": true
   },
   "outputs": [
    {
     "name": "stdout",
     "output_type": "stream",
     "text": [
      "The autoreload extension is already loaded. To reload it, use:\n",
      "  %reload_ext autoreload\n",
      "[age, workclass, education, marital-status, occupation, relationship, race, gender, capital-gain, capital-loss, hours-per-week, native-country | income]\n"
     ]
    },
    {
     "data": {
      "application/vnd.jupyter.widget-view+json": {
       "model_id": "c1ec101f77564327afaec8facdc6de2c",
       "version_major": 2,
       "version_minor": 0
      },
      "text/plain": [
       "HBox(children=(IntProgress(value=0, max=30), HTML(value='')))"
      ]
     },
     "metadata": {},
     "output_type": "display_data"
    },
    {
     "name": "stdout",
     "output_type": "stream",
     "text": [
      "\n",
      "330\n",
      "330.0\n",
      "Blackbox and our, acc 0.8444216990788127\n",
      "Blackbox and our, f1 score 0.4476744186046511\n",
      "Blackbox and our,recall 0.2944550669216061\n",
      "Blackbox and our,precision 0.9333333333333333\n",
      "number of rules 12\n",
      "ave number of conditions 4.75\n",
      "max number of conditions 8\n",
      "used features 9\n"
     ]
    }
   ],
   "source": [
    "%load_ext autoreload\n",
    "%autoreload 2\n",
    "from competition_methods_explanation.active_methods_top_down.dt import explain_tabular\n",
    "print(predicted_data_table.domain)\n",
    "explanations, tree = explain_tabular(\n",
    "    predicted_data_table,  black_box, target_class_idx=1, random_seed=42, active_instance_number = 0,termination_max=30)\n",
    "\n",
    "\n",
    "from utils import  rule_to_string,ruleset_predict\n",
    "# for e in explanations:\n",
    "#     print(rule_to_string(e,predicted_data_table.domain,target_class_idx=1))\n",
    "#     try:\n",
    "#         print(rule_to_string(e,disc_predicted_data_table.domain,target_class_idx=1))\n",
    "#     except:\n",
    "#         continue\n",
    "        \n",
    "\n",
    "our_prediction = ruleset_predict(explanations,predicted_test_data_table.X)\n",
    "tree_our_prediction = tree.predict(predicted_test_data_table.X)\n",
    "\n",
    "print(sum(our_prediction) )\n",
    "print(sum(tree_our_prediction))\n",
    "\n",
    "our_prediction = tree_our_prediction\n",
    "\n",
    "import sklearn\n",
    "print('Blackbox and our, acc', sklearn.metrics.accuracy_score(predicted_test_data_table.Y, our_prediction))\n",
    "print('Blackbox and our, f1 score', sklearn.metrics.f1_score(predicted_test_data_table.Y, our_prediction))\n",
    "print('Blackbox and our,recall', sklearn.metrics.recall_score(predicted_test_data_table.Y, our_prediction))\n",
    "print('Blackbox and our,precision', sklearn.metrics.precision_score(predicted_test_data_table.Y, our_prediction))\n",
    "\n",
    "from competition_methods_explanation.active_methods_top_down.dt import compute_metrics_dt\n",
    "compute_metrics_dt(explanations)"
   ]
  },
  {
   "cell_type": "code",
   "execution_count": 13,
   "metadata": {
    "ExecuteTime": {
     "end_time": "2019-09-02T07:37:38.771204Z",
     "start_time": "2019-09-02T07:35:39.753237Z"
    },
    "hidden": true
   },
   "outputs": [
    {
     "name": "stdout",
     "output_type": "stream",
     "text": [
      "The autoreload extension is already loaded. To reload it, use:\n",
      "  %reload_ext autoreload\n",
      "start estimate the distribution\n",
      "using gaussian distribution\n",
      "finish estimate the distribution\n"
     ]
    },
    {
     "data": {
      "application/vnd.jupyter.widget-view+json": {
       "model_id": "0c194a7c2673415485bcd8651efc18bd",
       "version_major": 2,
       "version_minor": 0
      },
      "text/plain": [
       "HBox(children=(IntProgress(value=0, max=54), HTML(value='')))"
      ]
     },
     "metadata": {},
     "output_type": "display_data"
    },
    {
     "name": "stdout",
     "output_type": "stream",
     "text": [
      "\n",
      "251\n",
      "251.0\n",
      "Blackbox and our, acc 0.8294779938587513\n",
      "Blackbox and our, f1 score 0.35774865073245954\n",
      "Blackbox and our,recall 0.22179732313575526\n",
      "Blackbox and our,precision 0.9243027888446215\n",
      "number of rules 24\n",
      "ave number of conditions 5.375\n",
      "max number of conditions 8\n",
      "used features 11\n"
     ]
    }
   ],
   "source": [
    "%load_ext autoreload\n",
    "%autoreload 2\n",
    "from competition_methods_explanation.active_methods_top_down.dt import explain_tabular\n",
    "\n",
    "explanations, tree = explain_tabular(\n",
    "    predicted_data_table,  black_box, target_class_idx=1, random_seed=42, active_instance_number = 2000,termination_max=54)\n",
    "\n",
    "\n",
    "from utils import  rule_to_string,ruleset_predict\n",
    "# for e in explanations:\n",
    "#     print(rule_to_string(e,predicted_data_table.domain,target_class_idx=1))\n",
    "#     try:\n",
    "#         print(rule_to_string(e,disc_predicted_data_table.domain,target_class_idx=1))\n",
    "#     except:\n",
    "#         continue\n",
    "        \n",
    "our_prediction = ruleset_predict(explanations,predicted_test_data_table.X)\n",
    "tree_our_prediction = tree.predict(predicted_test_data_table.X)\n",
    "\n",
    "print( sum(our_prediction) )\n",
    "print(sum(tree_our_prediction))\n",
    "\n",
    "our_prediction = tree_our_prediction\n",
    "\n",
    "import sklearn\n",
    "print('Blackbox and our, acc', sklearn.metrics.accuracy_score(predicted_test_data_table.Y, our_prediction))\n",
    "print('Blackbox and our, f1 score', sklearn.metrics.f1_score(predicted_test_data_table.Y, our_prediction))\n",
    "print('Blackbox and our,recall', sklearn.metrics.recall_score(predicted_test_data_table.Y, our_prediction))\n",
    "print('Blackbox and our,precision', sklearn.metrics.precision_score(predicted_test_data_table.Y, our_prediction))\n",
    "\n",
    "from competition_methods_explanation.active_methods_top_down.dt import compute_metrics_dt\n",
    "compute_metrics_dt(explanations)"
   ]
  },
  {
   "cell_type": "markdown",
   "metadata": {
    "hidden": true
   },
   "source": [
    "### Anchor global version"
   ]
  },
  {
   "cell_type": "code",
   "execution_count": 7,
   "metadata": {
    "ExecuteTime": {
     "end_time": "2019-09-02T07:24:46.517716Z",
     "start_time": "2019-09-02T07:07:48.253335Z"
    },
    "hidden": true
   },
   "outputs": [
    {
     "name": "stdout",
     "output_type": "stream",
     "text": [
      "The autoreload extension is already loaded. To reload it, use:\n",
      "  %reload_ext autoreload\n"
     ]
    },
    {
     "data": {
      "application/vnd.jupyter.widget-view+json": {
       "model_id": "c8855f2e2b2a48f8924c248b53c5ed87",
       "version_major": 2,
       "version_minor": 0
      },
      "text/plain": [
       "HBox(children=(IntProgress(value=0, max=24), HTML(value='')))"
      ]
     },
     "metadata": {},
     "output_type": "display_data"
    },
    {
     "name": "stderr",
     "output_type": "stream",
     "text": [
      "/Users/lucy/anaconda3/lib/python3.7/site-packages/Orange/classification/rules.py:1081: FutureWarning: elementwise comparison failed; returning scalar instead, but in the future will perform elementwise comparison\n",
      "  examples_to_keep &= Y == new_rule.target_class\n",
      "/Users/lucy/anaconda3/lib/python3.7/site-packages/Orange/classification/rules.py:1081: FutureWarning: elementwise comparison failed; returning scalar instead, but in the future will perform elementwise comparison\n",
      "  examples_to_keep &= Y == new_rule.target_class\n",
      "/Users/lucy/anaconda3/lib/python3.7/site-packages/Orange/classification/rules.py:1081: FutureWarning: elementwise comparison failed; returning scalar instead, but in the future will perform elementwise comparison\n",
      "  examples_to_keep &= Y == new_rule.target_class\n",
      "/Users/lucy/anaconda3/lib/python3.7/site-packages/Orange/classification/rules.py:1081: FutureWarning: elementwise comparison failed; returning scalar instead, but in the future will perform elementwise comparison\n",
      "  examples_to_keep &= Y == new_rule.target_class\n",
      "/Users/lucy/anaconda3/lib/python3.7/site-packages/Orange/classification/rules.py:1081: FutureWarning: elementwise comparison failed; returning scalar instead, but in the future will perform elementwise comparison\n",
      "  examples_to_keep &= Y == new_rule.target_class\n",
      "/Users/lucy/anaconda3/lib/python3.7/site-packages/Orange/classification/rules.py:1081: FutureWarning: elementwise comparison failed; returning scalar instead, but in the future will perform elementwise comparison\n",
      "  examples_to_keep &= Y == new_rule.target_class\n",
      "/Users/lucy/anaconda3/lib/python3.7/site-packages/Orange/classification/rules.py:1081: FutureWarning: elementwise comparison failed; returning scalar instead, but in the future will perform elementwise comparison\n",
      "  examples_to_keep &= Y == new_rule.target_class\n",
      "/Users/lucy/anaconda3/lib/python3.7/site-packages/Orange/classification/rules.py:1081: FutureWarning: elementwise comparison failed; returning scalar instead, but in the future will perform elementwise comparison\n",
      "  examples_to_keep &= Y == new_rule.target_class\n",
      "/Users/lucy/anaconda3/lib/python3.7/site-packages/Orange/classification/rules.py:1081: FutureWarning: elementwise comparison failed; returning scalar instead, but in the future will perform elementwise comparison\n",
      "  examples_to_keep &= Y == new_rule.target_class\n",
      "/Users/lucy/anaconda3/lib/python3.7/site-packages/Orange/classification/rules.py:1081: FutureWarning: elementwise comparison failed; returning scalar instead, but in the future will perform elementwise comparison\n",
      "  examples_to_keep &= Y == new_rule.target_class\n",
      "/Users/lucy/anaconda3/lib/python3.7/site-packages/Orange/classification/rules.py:1081: FutureWarning: elementwise comparison failed; returning scalar instead, but in the future will perform elementwise comparison\n",
      "  examples_to_keep &= Y == new_rule.target_class\n",
      "/Users/lucy/anaconda3/lib/python3.7/site-packages/Orange/classification/rules.py:1081: FutureWarning: elementwise comparison failed; returning scalar instead, but in the future will perform elementwise comparison\n",
      "  examples_to_keep &= Y == new_rule.target_class\n",
      "/Users/lucy/anaconda3/lib/python3.7/site-packages/Orange/classification/rules.py:1081: FutureWarning: elementwise comparison failed; returning scalar instead, but in the future will perform elementwise comparison\n",
      "  examples_to_keep &= Y == new_rule.target_class\n",
      "/Users/lucy/anaconda3/lib/python3.7/site-packages/Orange/classification/rules.py:1081: FutureWarning: elementwise comparison failed; returning scalar instead, but in the future will perform elementwise comparison\n",
      "  examples_to_keep &= Y == new_rule.target_class\n",
      "/Users/lucy/anaconda3/lib/python3.7/site-packages/Orange/classification/rules.py:1081: FutureWarning: elementwise comparison failed; returning scalar instead, but in the future will perform elementwise comparison\n",
      "  examples_to_keep &= Y == new_rule.target_class\n",
      "/Users/lucy/anaconda3/lib/python3.7/site-packages/Orange/classification/rules.py:1081: FutureWarning: elementwise comparison failed; returning scalar instead, but in the future will perform elementwise comparison\n",
      "  examples_to_keep &= Y == new_rule.target_class\n",
      "/Users/lucy/anaconda3/lib/python3.7/site-packages/Orange/classification/rules.py:1081: FutureWarning: elementwise comparison failed; returning scalar instead, but in the future will perform elementwise comparison\n",
      "  examples_to_keep &= Y == new_rule.target_class\n",
      "/Users/lucy/anaconda3/lib/python3.7/site-packages/Orange/classification/rules.py:1081: FutureWarning: elementwise comparison failed; returning scalar instead, but in the future will perform elementwise comparison\n",
      "  examples_to_keep &= Y == new_rule.target_class\n",
      "/Users/lucy/anaconda3/lib/python3.7/site-packages/Orange/classification/rules.py:1081: FutureWarning: elementwise comparison failed; returning scalar instead, but in the future will perform elementwise comparison\n",
      "  examples_to_keep &= Y == new_rule.target_class\n",
      "/Users/lucy/anaconda3/lib/python3.7/site-packages/Orange/classification/rules.py:1081: FutureWarning: elementwise comparison failed; returning scalar instead, but in the future will perform elementwise comparison\n",
      "  examples_to_keep &= Y == new_rule.target_class\n",
      "/Users/lucy/anaconda3/lib/python3.7/site-packages/Orange/classification/rules.py:1081: FutureWarning: elementwise comparison failed; returning scalar instead, but in the future will perform elementwise comparison\n",
      "  examples_to_keep &= Y == new_rule.target_class\n",
      "/Users/lucy/anaconda3/lib/python3.7/site-packages/Orange/classification/rules.py:1081: FutureWarning: elementwise comparison failed; returning scalar instead, but in the future will perform elementwise comparison\n",
      "  examples_to_keep &= Y == new_rule.target_class\n",
      "/Users/lucy/anaconda3/lib/python3.7/site-packages/Orange/classification/rules.py:1081: FutureWarning: elementwise comparison failed; returning scalar instead, but in the future will perform elementwise comparison\n",
      "  examples_to_keep &= Y == new_rule.target_class\n",
      "/Users/lucy/anaconda3/lib/python3.7/site-packages/Orange/classification/rules.py:1081: FutureWarning: elementwise comparison failed; returning scalar instead, but in the future will perform elementwise comparison\n",
      "  examples_to_keep &= Y == new_rule.target_class\n"
     ]
    },
    {
     "name": "stdout",
     "output_type": "stream",
     "text": [
      "max number rule generated. exiting now\n",
      "\n",
      "139\n",
      "Blackbox and our, acc 0.8073694984646879\n",
      "Blackbox and our, f1 score 0.2059071729957806\n",
      "Blackbox and our,recall 0.11663479923518165\n",
      "Blackbox and our,precision 0.8776978417266187\n",
      "number of rules 24\n",
      "ave number of conditions 7.875\n",
      "max number of conditions 12\n",
      "used features 12\n"
     ]
    }
   ],
   "source": [
    "%load_ext autoreload\n",
    "%autoreload 2\n",
    "\n",
    "from competition_methods_explanation.active_methods_bottom_up.cn2anchor import cn2anchor_tabular\n",
    "explanations = cn2anchor_tabular(predicted_data_table, black_box, target_class_idx = 1, random_seed=42,number = 24)\n",
    "\n",
    "from utils import  rule_to_string,ruleset_predict\n",
    "# for e in explanations:\n",
    "#     print(rule_to_string(e,predicted_data_table.domain,target_class_idx=1))\n",
    "#     try:\n",
    "#         print(rule_to_string(e,disc_predicted_data_table.domain,target_class_idx=1))\n",
    "#     except:\n",
    "#         continue\n",
    "        \n",
    "our_prediction = ruleset_predict(explanations,predicted_test_data_table.X)\n",
    "\n",
    "print( sum(our_prediction) )\n",
    "import sklearn\n",
    "print('Blackbox and our, acc', sklearn.metrics.accuracy_score(predicted_test_data_table.Y, our_prediction))\n",
    "print('Blackbox and our, f1 score', sklearn.metrics.f1_score(predicted_test_data_table.Y, our_prediction))\n",
    "print('Blackbox and our,recall', sklearn.metrics.recall_score(predicted_test_data_table.Y, our_prediction))\n",
    "print('Blackbox and our,precision', sklearn.metrics.precision_score(predicted_test_data_table.Y, our_prediction))\n",
    "\n",
    "# from competition_methods_explanation.active_methods_top_down.dt import compute_metrics_dt\n",
    "from utils import compute_metrics\n",
    "compute_metrics(explanations,predicted_data_table.domain)"
   ]
  },
  {
   "cell_type": "markdown",
   "metadata": {
    "heading_collapsed": true
   },
   "source": [
    "# Parameter Tuning"
   ]
  },
  {
   "cell_type": "markdown",
   "metadata": {
    "hidden": true
   },
   "source": [
    "\n",
    "tuing two parameter is relatively easy, we loop $\\lambda$ and $\\beta$ over a range of values and keep record of the resulted faithfulness and interpretability\n"
   ]
  },
  {
   "cell_type": "code",
   "execution_count": 16,
   "metadata": {
    "ExecuteTime": {
     "end_time": "2019-08-11T06:09:26.155760Z",
     "start_time": "2019-08-11T04:22:29.048063Z"
    },
    "hidden": true
   },
   "outputs": [
    {
     "name": "stdout",
     "output_type": "stream",
     "text": [
      "The autoreload extension is already loaded. To reload it, use:\n",
      "  %reload_ext autoreload\n"
     ]
    },
    {
     "data": {
      "application/vnd.jupyter.widget-view+json": {
       "model_id": "9b690e12b3114a0d9aa8d4e8fa68f48f",
       "version_major": 2,
       "version_minor": 0
      },
      "text/plain": [
       "HBox(children=(IntProgress(value=0, max=9), HTML(value='')))"
      ]
     },
     "metadata": {},
     "output_type": "display_data"
    },
    {
     "name": "stdout",
     "output_type": "stream",
     "text": [
      "init transformer okay!\n",
      "new cached!\n"
     ]
    },
    {
     "data": {
      "application/vnd.jupyter.widget-view+json": {
       "model_id": "49305f5bf90b4c0aa6500c94c49189b9",
       "version_major": 2,
       "version_minor": 0
      },
      "text/plain": [
       "HBox(children=(IntProgress(value=0, max=1000), HTML(value='')))"
      ]
     },
     "metadata": {},
     "output_type": "display_data"
    },
    {
     "name": "stdout",
     "output_type": "stream",
     "text": [
      "best solution found in iteration 644\n",
      "Now print Error Log\n",
      "at iteration: 4 happens the following error\n",
      "('no plausible actions, len length of actions', 0, 'in the mode of ', 'REMOVE_CONDITION')\n",
      "at iteration: 5 happens the following error\n",
      "('no plausible actions, len length of actions', 0, 'in the mode of ', 'REMOVE_CONDITION')\n",
      "at iteration: 6 happens the following error\n",
      "('no plausible actions, len length of actions', 0, 'in the mode of ', 'REMOVE_CONDITION')\n",
      "at iteration: 7 happens the following error\n",
      "('no plausible actions, len length of actions', 0, 'in the mode of ', 'REMOVE_CONDITION')\n",
      "at iteration: 33 happens the following error\n",
      "('no plausible actions, len length of actions', 0, 'in the mode of ', 'REMOVE_CONDITION')\n",
      "at iteration: 42 happens the following error\n",
      "('no plausible actions, len length of actions', 0, 'in the mode of ', 'REMOVE_CONDITION')\n",
      "at iteration: 52 happens the following error\n",
      "('no plausible actions, len length of actions', 0, 'in the mode of ', 'REMOVE_CONDITION')\n",
      "at iteration: 53 happens the following error\n",
      "('no plausible actions, len length of actions', 0, 'in the mode of ', 'REMOVE_CONDITION')\n",
      "at iteration: 56 happens the following error\n",
      "('no plausible actions, len length of actions', 0, 'in the mode of ', 'REMOVE_CONDITION')\n",
      "at iteration: 64 happens the following error\n",
      "('no plausible actions, len length of actions', 0, 'in the mode of ', 'REMOVE_CONDITION')\n",
      "at iteration: 67 happens the following error\n",
      "('no plausible actions, len length of actions', 0, 'in the mode of ', 'REMOVE_CONDITION')\n",
      "at iteration: 137 happens the following error\n",
      "('no plausible actions, len length of actions', 0, 'in the mode of ', 'REMOVE_CONDITION')\n",
      "at iteration: 141 happens the following error\n",
      "('no plausible actions, len length of actions', 0, 'in the mode of ', 'REMOVE_CONDITION')\n",
      "at iteration: 148 happens the following error\n",
      "('no plausible actions, len length of actions', 0, 'in the mode of ', 'REMOVE_CONDITION')\n",
      "at iteration: 151 happens the following error\n",
      "('no plausible actions, len length of actions', 0, 'in the mode of ', 'REMOVE_CONDITION')\n",
      "at iteration: 152 happens the following error\n",
      "('no plausible actions, len length of actions', 0, 'in the mode of ', 'REMOVE_CONDITION')\n",
      "at iteration: 162 happens the following error\n",
      "('no plausible actions, len length of actions', 0, 'in the mode of ', 'REMOVE_CONDITION')\n",
      "at iteration: 163 happens the following error\n",
      "('no plausible actions, len length of actions', 0, 'in the mode of ', 'REMOVE_CONDITION')\n",
      "at iteration: 375 happens the following error\n",
      "('no plausible actions, len length of actions', 0, 'in the mode of ', 'REMOVE_CONDITION')\n",
      "at iteration: 382 happens the following error\n",
      "('no plausible actions, len length of actions', 0, 'in the mode of ', 'REMOVE_CONDITION')\n",
      "at iteration: 387 happens the following error\n",
      "('no plausible actions, len length of actions', 0, 'in the mode of ', 'REMOVE_CONDITION')\n",
      "at iteration: 389 happens the following error\n",
      "('no plausible actions, len length of actions', 0, 'in the mode of ', 'REMOVE_CONDITION')\n",
      "at iteration: 390 happens the following error\n",
      "('no plausible actions, len length of actions', 0, 'in the mode of ', 'REMOVE_CONDITION')\n",
      "at iteration: 393 happens the following error\n",
      "('no plausible actions, len length of actions', 0, 'in the mode of ', 'REMOVE_CONDITION')\n",
      "at iteration: 395 happens the following error\n",
      "('no plausible actions, len length of actions', 0, 'in the mode of ', 'REMOVE_CONDITION')\n",
      "at iteration: 396 happens the following error\n",
      "('no plausible actions, len length of actions', 0, 'in the mode of ', 'REMOVE_CONDITION')\n",
      "at iteration: 463 happens the following error\n",
      "('no plausible actions, len length of actions', 0, 'in the mode of ', 'REMOVE_CONDITION')\n",
      "at iteration: 464 happens the following error\n",
      "('no plausible actions, len length of actions', 0, 'in the mode of ', 'REMOVE_CONDITION')\n",
      "at iteration: 468 happens the following error\n",
      "('no plausible actions, len length of actions', 0, 'in the mode of ', 'REMOVE_CONDITION')\n",
      "at iteration: 474 happens the following error\n",
      "('no plausible actions, len length of actions', 0, 'in the mode of ', 'REMOVE_CONDITION')\n",
      "at iteration: 475 happens the following error\n",
      "('no plausible actions, len length of actions', 0, 'in the mode of ', 'REMOVE_CONDITION')\n",
      "at iteration: 476 happens the following error\n",
      "('no plausible actions, len length of actions', 0, 'in the mode of ', 'REMOVE_CONDITION')\n",
      "at iteration: 480 happens the following error\n",
      "('no plausible actions, len length of actions', 0, 'in the mode of ', 'REMOVE_CONDITION')\n",
      "at iteration: 764 happens the following error\n",
      "('no plausible actions, len length of actions', 0, 'in the mode of ', 'REMOVE_CONDITION')\n",
      "at iteration: 773 happens the following error\n",
      "('no plausible actions, len length of actions', 0, 'in the mode of ', 'REMOVE_CONDITION')\n",
      "at iteration: 774 happens the following error\n",
      "('no plausible actions, len length of actions', 0, 'in the mode of ', 'REMOVE_CONDITION')\n",
      "at iteration: 786 happens the following error\n",
      "('no plausible actions, len length of actions', 0, 'in the mode of ', 'REMOVE_CONDITION')\n",
      "at iteration: 788 happens the following error\n",
      "('no plausible actions, len length of actions', 0, 'in the mode of ', 'REMOVE_CONDITION')\n",
      "at iteration: 795 happens the following error\n",
      "('no plausible actions, len length of actions', 0, 'in the mode of ', 'REMOVE_CONDITION')\n",
      "at iteration: 796 happens the following error\n",
      "('no plausible actions, len length of actions', 0, 'in the mode of ', 'REMOVE_CONDITION')\n",
      "at iteration: 818 happens the following error\n",
      "('no plausible actions, len length of actions', 0, 'in the mode of ', 'REMOVE_CONDITION')\n",
      "at iteration: 830 happens the following error\n",
      "('no plausible actions, len length of actions', 0, 'in the mode of ', 'REMOVE_CONDITION')\n",
      "at iteration: 832 happens the following error\n",
      "('no plausible actions, len length of actions', 0, 'in the mode of ', 'REMOVE_CONDITION')\n",
      "at iteration: 913 happens the following error\n",
      "('no plausible actions, len length of actions', 0, 'in the mode of ', 'REMOVE_CONDITION')\n",
      "at iteration: 923 happens the following error\n",
      "('no plausible actions, len length of actions', 0, 'in the mode of ', 'SPECIFY_CONDITION')\n",
      "at iteration: 929 happens the following error\n",
      "('no plausible actions, len length of actions', 0, 'in the mode of ', 'SPECIFY_CONDITION')\n",
      "at iteration: 975 happens the following error\n",
      "('no plausible actions, len length of actions', 0, 'in the mode of ', 'SPECIFY_CONDITION')\n",
      "at iteration: 979 happens the following error\n",
      "('no plausible actions, len length of actions', 0, 'in the mode of ', 'SPECIFY_CONDITION')\n",
      "at iteration: 982 happens the following error\n",
      "('no plausible actions, len length of actions', 0, 'in the mode of ', 'SPECIFY_CONDITION')\n",
      "at iteration: 986 happens the following error\n",
      "('no plausible actions, len length of actions', 0, 'in the mode of ', 'SPECIFY_CONDITION')\n",
      "at iteration: 990 happens the following error\n",
      "('no plausible actions, len length of actions', 0, 'in the mode of ', 'SPECIFY_CONDITION')\n",
      "at iteration: 992 happens the following error\n",
      "('no plausible actions, len length of actions', 0, 'in the mode of ', 'SPECIFY_CONDITION')\n",
      "best solution found in iteration 644\n",
      "parameter:  0.0 0 metrics 16 0.7322953289804119 0.8908904810644831 0.6969407265774379 0.7714285714285715 0\n",
      "best solution found in iteration 644\n",
      "parameter:  0.0 1e-07 metrics 16 0.7322953289804119 0.8908904810644831 0.6969407265774379 0.7714285714285715 0\n",
      "best solution found in iteration 644\n",
      "parameter:  0.0 1e-06 metrics 16 0.7322953289804119 0.8908904810644831 0.6969407265774379 0.7714285714285715 0\n",
      "best solution found in iteration 644\n",
      "parameter:  0.0 1e-05 metrics 16 0.7322953289804119 0.8908904810644831 0.6969407265774379 0.7714285714285715 0\n",
      "best solution found in iteration 644\n",
      "parameter:  0.0 3e-05 metrics 16 0.7322953289804119 0.8908904810644831 0.6969407265774379 0.7714285714285715 0\n",
      "best solution found in iteration 644\n",
      "parameter:  0.0 5e-05 metrics 16 0.7322953289804119 0.8908904810644831 0.6969407265774379 0.7714285714285715 0\n",
      "best solution found in iteration 666\n",
      "parameter:  0.0 8e-05 metrics 14 0.7039337474120082 0.882906857727738 0.6500956022944551 0.7674943566591422 0\n",
      "best solution found in iteration 666\n",
      "parameter:  0.0 0.0001 metrics 14 0.7039337474120082 0.882906857727738 0.6500956022944551 0.7674943566591422 0\n"
     ]
    },
    {
     "name": "stdout",
     "output_type": "stream",
     "text": [
      "best solution found in iteration 279\n",
      "parameter:  0.0 0.0005 metrics 9 0.7193432529502309 0.8880245649948822 0.6701720841300192 0.7763012181616833 0\n",
      "best solution found in iteration 292\n",
      "parameter:  0.0 0.001 metrics 8 0.7035657264502396 0.8859774820880245 0.6319311663479924 0.7935174069627852 0\n",
      "best solution found in iteration 292\n",
      "parameter:  0.0 0.0013 metrics 8 0.7035657264502396 0.8859774820880245 0.6319311663479924 0.7935174069627852 0\n",
      "best solution found in iteration 292\n",
      "parameter:  0.0 0.0015 metrics 8 0.7035657264502396 0.8859774820880245 0.6319311663479924 0.7935174069627852 0\n",
      "best solution found in iteration 294\n",
      "parameter:  0.0 0.0018 metrics 7 0.6926406926406927 0.883725690890481 0.6118546845124283 0.7980049875311721 0\n",
      "best solution found in iteration 294\n",
      "parameter:  0.0 0.002 metrics 7 0.6926406926406927 0.883725690890481 0.6118546845124283 0.7980049875311721 0\n",
      "best solution found in iteration 294\n",
      "parameter:  0.0 0.0025 metrics 7 0.6926406926406927 0.883725690890481 0.6118546845124283 0.7980049875311721 0\n",
      "best solution found in iteration 163\n",
      "parameter:  0.0 0.003 metrics 3 0.6999500748876686 0.8769703172978506 0.6701720841300192 0.7324973876698014 0\n",
      "best solution found in iteration 163\n",
      "parameter:  0.0 0.005 metrics 3 0.6999500748876686 0.8769703172978506 0.6701720841300192 0.7324973876698014 0\n",
      "best solution found in iteration 163\n",
      "parameter:  0.0 0.006 metrics 3 0.6999500748876686 0.8769703172978506 0.6701720841300192 0.7324973876698014 0\n",
      "best solution found in iteration 163\n",
      "parameter:  0.0 0.007 metrics 3 0.6999500748876686 0.8769703172978506 0.6701720841300192 0.7324973876698014 0\n",
      "best solution found in iteration 163\n",
      "parameter:  0.0 0.008 metrics 3 0.6999500748876686 0.8769703172978506 0.6701720841300192 0.7324973876698014 0\n",
      "best solution found in iteration 163\n",
      "parameter:  0.0 0.01 metrics 3 0.6999500748876686 0.8769703172978506 0.6701720841300192 0.7324973876698014 0\n",
      "best solution found in iteration 163\n",
      "parameter:  0.0 0.015 metrics 3 0.6999500748876686 0.8769703172978506 0.6701720841300192 0.7324973876698014 0\n",
      "best solution found in iteration 163\n",
      "parameter:  0.0 0.02 metrics 3 0.6999500748876686 0.8769703172978506 0.6701720841300192 0.7324973876698014 0\n",
      "best solution found in iteration 3\n",
      "parameter:  0.0 0.03 metrics 1 0.37241379310344824 0.832343909928352 0.2323135755258126 0.9382239382239382 0\n",
      "best solution found in iteration 903\n",
      "parameter:  0.0 0.05 metrics 0 0.0 0.7858751279426817 0.0 0.0 0\n",
      "best solution found in iteration 903\n",
      "parameter:  0.0 0.1 metrics 0 0.0 0.7858751279426817 0.0 0.0 0\n",
      "best solution found in iteration 903\n",
      "parameter:  0.0 0.15 metrics 0 0.0 0.7858751279426817 0.0 0.0 0\n",
      "best solution found in iteration 903\n",
      "parameter:  0.0 0.2 metrics 0 0.0 0.7858751279426817 0.0 0.0 0\n",
      "best solution found in iteration 903\n",
      "parameter:  0.0 0.5 metrics 0 0.0 0.7858751279426817 0.0 0.0 0\n",
      "init transformer okay!\n",
      "new cached!\n"
     ]
    },
    {
     "data": {
      "application/vnd.jupyter.widget-view+json": {
       "model_id": "8f6a589c3b1f4e8999a8929e530263e6",
       "version_major": 2,
       "version_minor": 0
      },
      "text/plain": [
       "HBox(children=(IntProgress(value=0, max=1000), HTML(value='')))"
      ]
     },
     "metadata": {},
     "output_type": "display_data"
    },
    {
     "name": "stdout",
     "output_type": "stream",
     "text": [
      "best solution found in iteration 668\n",
      "Now print Error Log\n",
      "at iteration: 4 happens the following error\n",
      "('no plausible actions, len length of actions', 0, 'in the mode of ', 'REMOVE_CONDITION')\n",
      "at iteration: 5 happens the following error\n",
      "('no plausible actions, len length of actions', 0, 'in the mode of ', 'REMOVE_CONDITION')\n",
      "at iteration: 6 happens the following error\n",
      "('no plausible actions, len length of actions', 0, 'in the mode of ', 'REMOVE_CONDITION')\n",
      "at iteration: 7 happens the following error\n",
      "('no plausible actions, len length of actions', 0, 'in the mode of ', 'REMOVE_CONDITION')\n",
      "at iteration: 33 happens the following error\n",
      "('no plausible actions, len length of actions', 0, 'in the mode of ', 'REMOVE_CONDITION')\n",
      "at iteration: 42 happens the following error\n",
      "('no plausible actions, len length of actions', 0, 'in the mode of ', 'REMOVE_CONDITION')\n",
      "at iteration: 52 happens the following error\n",
      "('no plausible actions, len length of actions', 0, 'in the mode of ', 'REMOVE_CONDITION')\n",
      "at iteration: 53 happens the following error\n",
      "('no plausible actions, len length of actions', 0, 'in the mode of ', 'REMOVE_CONDITION')\n",
      "at iteration: 56 happens the following error\n",
      "('no plausible actions, len length of actions', 0, 'in the mode of ', 'REMOVE_CONDITION')\n",
      "at iteration: 64 happens the following error\n",
      "('no plausible actions, len length of actions', 0, 'in the mode of ', 'REMOVE_CONDITION')\n",
      "at iteration: 67 happens the following error\n",
      "('no plausible actions, len length of actions', 0, 'in the mode of ', 'REMOVE_CONDITION')\n",
      "at iteration: 78 happens the following error\n",
      "('no plausible actions, len length of actions', 0, 'in the mode of ', 'REMOVE_CONDITION')\n",
      "at iteration: 99 happens the following error\n",
      "('no plausible actions, len length of actions', 0, 'in the mode of ', 'REMOVE_CONDITION')\n",
      "at iteration: 105 happens the following error\n",
      "('no plausible actions, len length of actions', 0, 'in the mode of ', 'REMOVE_CONDITION')\n",
      "at iteration: 110 happens the following error\n",
      "('no plausible actions, len length of actions', 0, 'in the mode of ', 'REMOVE_CONDITION')\n",
      "at iteration: 111 happens the following error\n",
      "('no plausible actions, len length of actions', 0, 'in the mode of ', 'REMOVE_CONDITION')\n",
      "at iteration: 127 happens the following error\n",
      "('no plausible actions, len length of actions', 0, 'in the mode of ', 'REMOVE_CONDITION')\n",
      "at iteration: 130 happens the following error\n",
      "('no plausible actions, len length of actions', 0, 'in the mode of ', 'REMOVE_CONDITION')\n",
      "at iteration: 173 happens the following error\n",
      "('no plausible actions, len length of actions', 0, 'in the mode of ', 'SPECIFY_CONDITION')\n",
      "at iteration: 177 happens the following error\n",
      "('no plausible actions, len length of actions', 0, 'in the mode of ', 'SPECIFY_CONDITION')\n",
      "at iteration: 202 happens the following error\n",
      "('no plausible actions, len length of actions', 0, 'in the mode of ', 'REMOVE_CONDITION')\n",
      "at iteration: 210 happens the following error\n",
      "('no plausible actions, len length of actions', 0, 'in the mode of ', 'REMOVE_CONDITION')\n",
      "at iteration: 211 happens the following error\n",
      "('no plausible actions, len length of actions', 0, 'in the mode of ', 'REMOVE_CONDITION')\n",
      "at iteration: 224 happens the following error\n",
      "('no plausible actions, len length of actions', 0, 'in the mode of ', 'REMOVE_CONDITION')\n",
      "at iteration: 226 happens the following error\n",
      "('no plausible actions, len length of actions', 0, 'in the mode of ', 'REMOVE_CONDITION')\n",
      "at iteration: 229 happens the following error\n",
      "('no plausible actions, len length of actions', 0, 'in the mode of ', 'REMOVE_CONDITION')\n",
      "at iteration: 230 happens the following error\n",
      "('no plausible actions, len length of actions', 0, 'in the mode of ', 'REMOVE_CONDITION')\n",
      "at iteration: 231 happens the following error\n",
      "('no plausible actions, len length of actions', 0, 'in the mode of ', 'REMOVE_CONDITION')\n",
      "at iteration: 317 happens the following error\n",
      "('no plausible actions, len length of actions', 0, 'in the mode of ', 'SPECIFY_CONDITION')\n",
      "at iteration: 318 happens the following error\n",
      "('no plausible actions, len length of actions', 0, 'in the mode of ', 'REMOVE_CONDITION')\n",
      "at iteration: 319 happens the following error\n",
      "('no plausible actions, len length of actions', 0, 'in the mode of ', 'REMOVE_CONDITION')\n",
      "at iteration: 324 happens the following error\n",
      "('no plausible actions, len length of actions', 0, 'in the mode of ', 'REMOVE_CONDITION')\n",
      "at iteration: 869 happens the following error\n",
      "('no plausible actions, len length of actions', 0, 'in the mode of ', 'REMOVE_CONDITION')\n",
      "at iteration: 875 happens the following error\n",
      "('no plausible actions, len length of actions', 0, 'in the mode of ', 'REMOVE_CONDITION')\n",
      "at iteration: 876 happens the following error\n",
      "('no plausible actions, len length of actions', 0, 'in the mode of ', 'REMOVE_CONDITION')\n",
      "at iteration: 885 happens the following error\n",
      "('no plausible actions, len length of actions', 0, 'in the mode of ', 'REMOVE_CONDITION')\n",
      "at iteration: 900 happens the following error\n",
      "('no plausible actions, len length of actions', 0, 'in the mode of ', 'REMOVE_CONDITION')\n",
      "at iteration: 901 happens the following error\n",
      "('no plausible actions, len length of actions', 0, 'in the mode of ', 'REMOVE_CONDITION')\n",
      "at iteration: 907 happens the following error\n",
      "('no plausible actions, len length of actions', 0, 'in the mode of ', 'REMOVE_CONDITION')\n",
      "at iteration: 908 happens the following error\n",
      "('no plausible actions, len length of actions', 0, 'in the mode of ', 'REMOVE_CONDITION')\n",
      "at iteration: 909 happens the following error\n",
      "('no plausible actions, len length of actions', 0, 'in the mode of ', 'REMOVE_CONDITION')\n",
      "at iteration: 953 happens the following error\n",
      "('no plausible actions, len length of actions', 0, 'in the mode of ', 'REMOVE_CONDITION')\n",
      "at iteration: 956 happens the following error\n",
      "('no plausible actions, len length of actions', 0, 'in the mode of ', 'REMOVE_CONDITION')\n",
      "at iteration: 966 happens the following error\n",
      "('no plausible actions, len length of actions', 0, 'in the mode of ', 'REMOVE_CONDITION')\n",
      "at iteration: 968 happens the following error\n",
      "('no plausible actions, len length of actions', 0, 'in the mode of ', 'REMOVE_CONDITION')\n",
      "best solution found in iteration 668\n",
      "parameter:  2.0000000000000003e-06 0 metrics 9 0.7434146341463415 0.8923234390992835 0.7284894837476099 0.7589641434262948 570\n",
      "best solution found in iteration 668\n",
      "parameter:  2.0000000000000003e-06 1e-07 metrics 9 0.7434146341463415 0.8923234390992835 0.7284894837476099 0.7589641434262948 570\n",
      "best solution found in iteration 668\n",
      "parameter:  2.0000000000000003e-06 1e-06 metrics 9 0.7434146341463415 0.8923234390992835 0.7284894837476099 0.7589641434262948 570\n",
      "best solution found in iteration 668\n",
      "parameter:  2.0000000000000003e-06 1e-05 metrics 9 0.7434146341463415 0.8923234390992835 0.7284894837476099 0.7589641434262948 570\n",
      "best solution found in iteration 668\n",
      "parameter:  2.0000000000000003e-06 3e-05 metrics 9 0.7434146341463415 0.8923234390992835 0.7284894837476099 0.7589641434262948 570\n",
      "best solution found in iteration 668\n",
      "parameter:  2.0000000000000003e-06 5e-05 metrics 9 0.7434146341463415 0.8923234390992835 0.7284894837476099 0.7589641434262948 570\n",
      "best solution found in iteration 668\n",
      "parameter:  2.0000000000000003e-06 8e-05 metrics 9 0.7434146341463415 0.8923234390992835 0.7284894837476099 0.7589641434262948 570\n",
      "best solution found in iteration 668\n",
      "parameter:  2.0000000000000003e-06 0.0001 metrics 9 0.7434146341463415 0.8923234390992835 0.7284894837476099 0.7589641434262948 570\n",
      "best solution found in iteration 668\n",
      "parameter:  2.0000000000000003e-06 0.0005 metrics 9 0.7434146341463415 0.8923234390992835 0.7284894837476099 0.7589641434262948 570\n",
      "best solution found in iteration 668\n",
      "parameter:  2.0000000000000003e-06 0.001 metrics 9 0.7434146341463415 0.8923234390992835 0.7284894837476099 0.7589641434262948 570\n",
      "best solution found in iteration 668\n",
      "parameter:  2.0000000000000003e-06 0.0013 metrics 9 0.7434146341463415 0.8923234390992835 0.7284894837476099 0.7589641434262948 570\n",
      "best solution found in iteration 668\n",
      "parameter:  2.0000000000000003e-06 0.0015 metrics 9 0.7434146341463415 0.8923234390992835 0.7284894837476099 0.7589641434262948 570\n",
      "best solution found in iteration 668\n",
      "parameter:  2.0000000000000003e-06 0.0018 metrics 9 0.7434146341463415 0.8923234390992835 0.7284894837476099 0.7589641434262948 570\n"
     ]
    },
    {
     "name": "stdout",
     "output_type": "stream",
     "text": [
      "best solution found in iteration 668\n",
      "parameter:  2.0000000000000003e-06 0.002 metrics 9 0.7434146341463415 0.8923234390992835 0.7284894837476099 0.7589641434262948 570\n",
      "best solution found in iteration 668\n",
      "parameter:  2.0000000000000003e-06 0.0025 metrics 9 0.7434146341463415 0.8923234390992835 0.7284894837476099 0.7589641434262948 570\n",
      "best solution found in iteration 606\n",
      "parameter:  2.0000000000000003e-06 0.003 metrics 7 0.7305569493226293 0.89007164790174 0.6959847036328872 0.7687434002111933 570\n",
      "best solution found in iteration 606\n",
      "parameter:  2.0000000000000003e-06 0.005 metrics 7 0.7305569493226293 0.89007164790174 0.6959847036328872 0.7687434002111933 570\n",
      "best solution found in iteration 606\n",
      "parameter:  2.0000000000000003e-06 0.006 metrics 7 0.7305569493226293 0.89007164790174 0.6959847036328872 0.7687434002111933 570\n",
      "best solution found in iteration 781\n",
      "parameter:  2.0000000000000003e-06 0.007 metrics 6 0.7160243407707911 0.8853633572159673 0.6749521988527725 0.7624190064794817 570\n",
      "best solution found in iteration 2\n",
      "parameter:  2.0000000000000003e-06 0.008 metrics 2 0.5524518932340162 0.8524053224155578 0.4254302103250478 0.7876106194690266 570\n",
      "best solution found in iteration 2\n",
      "parameter:  2.0000000000000003e-06 0.01 metrics 2 0.5524518932340162 0.8524053224155578 0.4254302103250478 0.7876106194690266 570\n",
      "best solution found in iteration 2\n",
      "parameter:  2.0000000000000003e-06 0.015 metrics 2 0.5524518932340162 0.8524053224155578 0.4254302103250478 0.7876106194690266 570\n",
      "best solution found in iteration 2\n",
      "parameter:  2.0000000000000003e-06 0.02 metrics 2 0.5524518932340162 0.8524053224155578 0.4254302103250478 0.7876106194690266 570\n",
      "best solution found in iteration 3\n",
      "parameter:  2.0000000000000003e-06 0.03 metrics 1 0.37241379310344824 0.832343909928352 0.2323135755258126 0.9382239382239382 570\n",
      "best solution found in iteration 906\n",
      "parameter:  2.0000000000000003e-06 0.05 metrics 0 0.0 0.7858751279426817 0.0 0.0 570\n",
      "best solution found in iteration 906\n",
      "parameter:  2.0000000000000003e-06 0.1 metrics 0 0.0 0.7858751279426817 0.0 0.0 570\n",
      "best solution found in iteration 906\n",
      "parameter:  2.0000000000000003e-06 0.15 metrics 0 0.0 0.7858751279426817 0.0 0.0 570\n",
      "best solution found in iteration 906\n",
      "parameter:  2.0000000000000003e-06 0.2 metrics 0 0.0 0.7858751279426817 0.0 0.0 570\n",
      "best solution found in iteration 906\n",
      "parameter:  2.0000000000000003e-06 0.5 metrics 0 0.0 0.7858751279426817 0.0 0.0 570\n",
      "init transformer okay!\n",
      "new cached!\n"
     ]
    },
    {
     "data": {
      "application/vnd.jupyter.widget-view+json": {
       "model_id": "de0de8233488437ea7d295eac0446d9a",
       "version_major": 2,
       "version_minor": 0
      },
      "text/plain": [
       "HBox(children=(IntProgress(value=0, max=1000), HTML(value='')))"
      ]
     },
     "metadata": {},
     "output_type": "display_data"
    },
    {
     "name": "stdout",
     "output_type": "stream",
     "text": [
      "best solution found in iteration 668\n",
      "Now print Error Log\n",
      "at iteration: 4 happens the following error\n",
      "('no plausible actions, len length of actions', 0, 'in the mode of ', 'REMOVE_CONDITION')\n",
      "at iteration: 5 happens the following error\n",
      "('no plausible actions, len length of actions', 0, 'in the mode of ', 'REMOVE_CONDITION')\n",
      "at iteration: 6 happens the following error\n",
      "('no plausible actions, len length of actions', 0, 'in the mode of ', 'REMOVE_CONDITION')\n",
      "at iteration: 7 happens the following error\n",
      "('no plausible actions, len length of actions', 0, 'in the mode of ', 'REMOVE_CONDITION')\n",
      "at iteration: 33 happens the following error\n",
      "('no plausible actions, len length of actions', 0, 'in the mode of ', 'REMOVE_CONDITION')\n",
      "at iteration: 42 happens the following error\n",
      "('no plausible actions, len length of actions', 0, 'in the mode of ', 'REMOVE_CONDITION')\n",
      "at iteration: 52 happens the following error\n",
      "('no plausible actions, len length of actions', 0, 'in the mode of ', 'REMOVE_CONDITION')\n",
      "at iteration: 53 happens the following error\n",
      "('no plausible actions, len length of actions', 0, 'in the mode of ', 'REMOVE_CONDITION')\n",
      "at iteration: 56 happens the following error\n",
      "('no plausible actions, len length of actions', 0, 'in the mode of ', 'REMOVE_CONDITION')\n",
      "at iteration: 64 happens the following error\n",
      "('no plausible actions, len length of actions', 0, 'in the mode of ', 'REMOVE_CONDITION')\n",
      "at iteration: 67 happens the following error\n",
      "('no plausible actions, len length of actions', 0, 'in the mode of ', 'REMOVE_CONDITION')\n",
      "at iteration: 78 happens the following error\n",
      "('no plausible actions, len length of actions', 0, 'in the mode of ', 'REMOVE_CONDITION')\n",
      "at iteration: 99 happens the following error\n",
      "('no plausible actions, len length of actions', 0, 'in the mode of ', 'REMOVE_CONDITION')\n",
      "at iteration: 105 happens the following error\n",
      "('no plausible actions, len length of actions', 0, 'in the mode of ', 'REMOVE_CONDITION')\n",
      "at iteration: 110 happens the following error\n",
      "('no plausible actions, len length of actions', 0, 'in the mode of ', 'REMOVE_CONDITION')\n",
      "at iteration: 111 happens the following error\n",
      "('no plausible actions, len length of actions', 0, 'in the mode of ', 'REMOVE_CONDITION')\n",
      "at iteration: 127 happens the following error\n",
      "('no plausible actions, len length of actions', 0, 'in the mode of ', 'REMOVE_CONDITION')\n",
      "at iteration: 130 happens the following error\n",
      "('no plausible actions, len length of actions', 0, 'in the mode of ', 'REMOVE_CONDITION')\n",
      "at iteration: 173 happens the following error\n",
      "('no plausible actions, len length of actions', 0, 'in the mode of ', 'SPECIFY_CONDITION')\n",
      "at iteration: 177 happens the following error\n",
      "('no plausible actions, len length of actions', 0, 'in the mode of ', 'SPECIFY_CONDITION')\n",
      "at iteration: 202 happens the following error\n",
      "('no plausible actions, len length of actions', 0, 'in the mode of ', 'REMOVE_CONDITION')\n",
      "at iteration: 210 happens the following error\n",
      "('no plausible actions, len length of actions', 0, 'in the mode of ', 'REMOVE_CONDITION')\n",
      "at iteration: 211 happens the following error\n",
      "('no plausible actions, len length of actions', 0, 'in the mode of ', 'REMOVE_CONDITION')\n",
      "at iteration: 224 happens the following error\n",
      "('no plausible actions, len length of actions', 0, 'in the mode of ', 'REMOVE_CONDITION')\n",
      "at iteration: 226 happens the following error\n",
      "('no plausible actions, len length of actions', 0, 'in the mode of ', 'REMOVE_CONDITION')\n",
      "at iteration: 229 happens the following error\n",
      "('no plausible actions, len length of actions', 0, 'in the mode of ', 'REMOVE_CONDITION')\n",
      "at iteration: 230 happens the following error\n",
      "('no plausible actions, len length of actions', 0, 'in the mode of ', 'REMOVE_CONDITION')\n",
      "at iteration: 231 happens the following error\n",
      "('no plausible actions, len length of actions', 0, 'in the mode of ', 'REMOVE_CONDITION')\n",
      "at iteration: 317 happens the following error\n",
      "('no plausible actions, len length of actions', 0, 'in the mode of ', 'SPECIFY_CONDITION')\n",
      "at iteration: 318 happens the following error\n",
      "('no plausible actions, len length of actions', 0, 'in the mode of ', 'REMOVE_CONDITION')\n",
      "at iteration: 319 happens the following error\n",
      "('no plausible actions, len length of actions', 0, 'in the mode of ', 'REMOVE_CONDITION')\n",
      "at iteration: 324 happens the following error\n",
      "('no plausible actions, len length of actions', 0, 'in the mode of ', 'REMOVE_CONDITION')\n",
      "at iteration: 911 happens the following error\n",
      "('no plausible actions, len length of actions', 0, 'in the mode of ', 'REMOVE_CONDITION')\n",
      "at iteration: 912 happens the following error\n",
      "('no plausible actions, len length of actions', 0, 'in the mode of ', 'REMOVE_CONDITION')\n",
      "at iteration: 953 happens the following error\n",
      "('no plausible actions, len length of actions', 0, 'in the mode of ', 'REMOVE_CONDITION')\n",
      "at iteration: 956 happens the following error\n",
      "('no plausible actions, len length of actions', 0, 'in the mode of ', 'REMOVE_CONDITION')\n",
      "at iteration: 966 happens the following error\n",
      "('no plausible actions, len length of actions', 0, 'in the mode of ', 'REMOVE_CONDITION')\n",
      "at iteration: 968 happens the following error\n",
      "('no plausible actions, len length of actions', 0, 'in the mode of ', 'REMOVE_CONDITION')\n",
      "best solution found in iteration 668\n",
      "parameter:  5e-06 0 metrics 9 0.7434146341463415 0.8923234390992835 0.7284894837476099 0.7589641434262948 708\n",
      "best solution found in iteration 668\n",
      "parameter:  5e-06 1e-07 metrics 9 0.7434146341463415 0.8923234390992835 0.7284894837476099 0.7589641434262948 708\n",
      "best solution found in iteration 668\n",
      "parameter:  5e-06 1e-06 metrics 9 0.7434146341463415 0.8923234390992835 0.7284894837476099 0.7589641434262948 708\n",
      "best solution found in iteration 668\n",
      "parameter:  5e-06 1e-05 metrics 9 0.7434146341463415 0.8923234390992835 0.7284894837476099 0.7589641434262948 708\n",
      "best solution found in iteration 668\n",
      "parameter:  5e-06 3e-05 metrics 9 0.7434146341463415 0.8923234390992835 0.7284894837476099 0.7589641434262948 708\n",
      "best solution found in iteration 668\n",
      "parameter:  5e-06 5e-05 metrics 9 0.7434146341463415 0.8923234390992835 0.7284894837476099 0.7589641434262948 708\n",
      "best solution found in iteration 668\n",
      "parameter:  5e-06 8e-05 metrics 9 0.7434146341463415 0.8923234390992835 0.7284894837476099 0.7589641434262948 708\n",
      "best solution found in iteration 668\n",
      "parameter:  5e-06 0.0001 metrics 9 0.7434146341463415 0.8923234390992835 0.7284894837476099 0.7589641434262948 708\n",
      "best solution found in iteration 668\n",
      "parameter:  5e-06 0.0005 metrics 9 0.7434146341463415 0.8923234390992835 0.7284894837476099 0.7589641434262948 708\n",
      "best solution found in iteration 668\n",
      "parameter:  5e-06 0.001 metrics 9 0.7434146341463415 0.8923234390992835 0.7284894837476099 0.7589641434262948 708\n",
      "best solution found in iteration 668\n",
      "parameter:  5e-06 0.0013 metrics 9 0.7434146341463415 0.8923234390992835 0.7284894837476099 0.7589641434262948 708\n",
      "best solution found in iteration 668\n",
      "parameter:  5e-06 0.0015 metrics 9 0.7434146341463415 0.8923234390992835 0.7284894837476099 0.7589641434262948 708\n",
      "best solution found in iteration 668\n",
      "parameter:  5e-06 0.0018 metrics 9 0.7434146341463415 0.8923234390992835 0.7284894837476099 0.7589641434262948 708\n",
      "best solution found in iteration 668\n",
      "parameter:  5e-06 0.002 metrics 9 0.7434146341463415 0.8923234390992835 0.7284894837476099 0.7589641434262948 708\n",
      "best solution found in iteration 606\n",
      "parameter:  5e-06 0.0025 metrics 7 0.7305569493226293 0.89007164790174 0.6959847036328872 0.7687434002111933 708\n",
      "best solution found in iteration 606\n",
      "parameter:  5e-06 0.003 metrics 7 0.7305569493226293 0.89007164790174 0.6959847036328872 0.7687434002111933 708\n",
      "best solution found in iteration 606\n",
      "parameter:  5e-06 0.005 metrics 7 0.7305569493226293 0.89007164790174 0.6959847036328872 0.7687434002111933 708\n",
      "best solution found in iteration 606\n",
      "parameter:  5e-06 0.006 metrics 7 0.7305569493226293 0.89007164790174 0.6959847036328872 0.7687434002111933 708\n",
      "best solution found in iteration 391\n",
      "parameter:  5e-06 0.007 metrics 5 0.6677685950413224 0.876560900716479 0.5793499043977055 0.788036410923277 708\n",
      "best solution found in iteration 2\n",
      "parameter:  5e-06 0.008 metrics 2 0.5524518932340162 0.8524053224155578 0.4254302103250478 0.7876106194690266 708\n",
      "best solution found in iteration 2\n",
      "parameter:  5e-06 0.01 metrics 2 0.5524518932340162 0.8524053224155578 0.4254302103250478 0.7876106194690266 708\n"
     ]
    },
    {
     "name": "stdout",
     "output_type": "stream",
     "text": [
      "best solution found in iteration 2\n",
      "parameter:  5e-06 0.015 metrics 2 0.5524518932340162 0.8524053224155578 0.4254302103250478 0.7876106194690266 708\n",
      "best solution found in iteration 2\n",
      "parameter:  5e-06 0.02 metrics 2 0.5524518932340162 0.8524053224155578 0.4254302103250478 0.7876106194690266 708\n",
      "best solution found in iteration 3\n",
      "parameter:  5e-06 0.03 metrics 1 0.37241379310344824 0.832343909928352 0.2323135755258126 0.9382239382239382 708\n",
      "best solution found in iteration 913\n",
      "parameter:  5e-06 0.05 metrics 0 0.0 0.7858751279426817 0.0 0.0 708\n",
      "best solution found in iteration 913\n",
      "parameter:  5e-06 0.1 metrics 0 0.0 0.7858751279426817 0.0 0.0 708\n",
      "best solution found in iteration 913\n",
      "parameter:  5e-06 0.15 metrics 0 0.0 0.7858751279426817 0.0 0.0 708\n",
      "best solution found in iteration 913\n",
      "parameter:  5e-06 0.2 metrics 0 0.0 0.7858751279426817 0.0 0.0 708\n",
      "best solution found in iteration 913\n",
      "parameter:  5e-06 0.5 metrics 0 0.0 0.7858751279426817 0.0 0.0 708\n",
      "init transformer okay!\n",
      "new cached!\n"
     ]
    },
    {
     "data": {
      "application/vnd.jupyter.widget-view+json": {
       "model_id": "d75a0f3cc9f749418b391693a93c417d",
       "version_major": 2,
       "version_minor": 0
      },
      "text/plain": [
       "HBox(children=(IntProgress(value=0, max=1000), HTML(value='')))"
      ]
     },
     "metadata": {},
     "output_type": "display_data"
    },
    {
     "name": "stdout",
     "output_type": "stream",
     "text": [
      "best solution found in iteration 896\n",
      "Now print Error Log\n",
      "at iteration: 4 happens the following error\n",
      "('no plausible actions, len length of actions', 0, 'in the mode of ', 'REMOVE_CONDITION')\n",
      "at iteration: 5 happens the following error\n",
      "('no plausible actions, len length of actions', 0, 'in the mode of ', 'REMOVE_CONDITION')\n",
      "at iteration: 6 happens the following error\n",
      "('no plausible actions, len length of actions', 0, 'in the mode of ', 'REMOVE_CONDITION')\n",
      "at iteration: 7 happens the following error\n",
      "('no plausible actions, len length of actions', 0, 'in the mode of ', 'REMOVE_CONDITION')\n",
      "at iteration: 33 happens the following error\n",
      "('no plausible actions, len length of actions', 0, 'in the mode of ', 'REMOVE_CONDITION')\n",
      "at iteration: 42 happens the following error\n",
      "('no plausible actions, len length of actions', 0, 'in the mode of ', 'REMOVE_CONDITION')\n",
      "at iteration: 52 happens the following error\n",
      "('no plausible actions, len length of actions', 0, 'in the mode of ', 'REMOVE_CONDITION')\n",
      "at iteration: 53 happens the following error\n",
      "('no plausible actions, len length of actions', 0, 'in the mode of ', 'REMOVE_CONDITION')\n",
      "at iteration: 56 happens the following error\n",
      "('no plausible actions, len length of actions', 0, 'in the mode of ', 'REMOVE_CONDITION')\n",
      "at iteration: 64 happens the following error\n",
      "('no plausible actions, len length of actions', 0, 'in the mode of ', 'REMOVE_CONDITION')\n",
      "at iteration: 67 happens the following error\n",
      "('no plausible actions, len length of actions', 0, 'in the mode of ', 'REMOVE_CONDITION')\n",
      "at iteration: 95 happens the following error\n",
      "('no plausible actions, len length of actions', 0, 'in the mode of ', 'REMOVE_CONDITION')\n",
      "at iteration: 111 happens the following error\n",
      "('no plausible actions, len length of actions', 0, 'in the mode of ', 'REMOVE_CONDITION')\n",
      "at iteration: 216 happens the following error\n",
      "('no plausible actions, len length of actions', 0, 'in the mode of ', 'REMOVE_CONDITION')\n",
      "at iteration: 228 happens the following error\n",
      "('no plausible actions, len length of actions', 0, 'in the mode of ', 'REMOVE_CONDITION')\n",
      "at iteration: 323 happens the following error\n",
      "('no plausible actions, len length of actions', 0, 'in the mode of ', 'REMOVE_CONDITION')\n",
      "best solution found in iteration 896\n",
      "parameter:  1.5000000000000002e-05 0 metrics 13 0.7473736868434216 0.8966223132036848 0.7141491395793499 0.7838405036726128 4062\n",
      "best solution found in iteration 896\n",
      "parameter:  1.5000000000000002e-05 1e-07 metrics 13 0.7473736868434216 0.8966223132036848 0.7141491395793499 0.7838405036726128 4062\n",
      "best solution found in iteration 896\n",
      "parameter:  1.5000000000000002e-05 1e-06 metrics 13 0.7473736868434216 0.8966223132036848 0.7141491395793499 0.7838405036726128 4062\n",
      "best solution found in iteration 896\n",
      "parameter:  1.5000000000000002e-05 1e-05 metrics 13 0.7473736868434216 0.8966223132036848 0.7141491395793499 0.7838405036726128 4062\n",
      "best solution found in iteration 896\n",
      "parameter:  1.5000000000000002e-05 3e-05 metrics 13 0.7473736868434216 0.8966223132036848 0.7141491395793499 0.7838405036726128 4062\n",
      "best solution found in iteration 896\n",
      "parameter:  1.5000000000000002e-05 5e-05 metrics 13 0.7473736868434216 0.8966223132036848 0.7141491395793499 0.7838405036726128 4062\n",
      "best solution found in iteration 918\n",
      "parameter:  1.5000000000000002e-05 8e-05 metrics 7 0.7503844182470528 0.9003070624360286 0.6998087954110899 0.8088397790055248 4062\n",
      "best solution found in iteration 918\n",
      "parameter:  1.5000000000000002e-05 0.0001 metrics 7 0.7503844182470528 0.9003070624360286 0.6998087954110899 0.8088397790055248 4062\n",
      "best solution found in iteration 921\n",
      "parameter:  1.5000000000000002e-05 0.0005 metrics 6 0.7498741821841973 0.8982599795291709 0.7122370936902486 0.7917109458023379 4062\n",
      "best solution found in iteration 921\n",
      "parameter:  1.5000000000000002e-05 0.001 metrics 6 0.7498741821841973 0.8982599795291709 0.7122370936902486 0.7917109458023379 4062\n",
      "best solution found in iteration 921\n",
      "parameter:  1.5000000000000002e-05 0.0013 metrics 6 0.7498741821841973 0.8982599795291709 0.7122370936902486 0.7917109458023379 4062\n",
      "best solution found in iteration 939\n",
      "parameter:  1.5000000000000002e-05 0.0015 metrics 5 0.7317845828933474 0.8960081883316274 0.6625239005736138 0.8172169811320755 4062\n",
      "best solution found in iteration 939\n",
      "parameter:  1.5000000000000002e-05 0.0018 metrics 5 0.7317845828933474 0.8960081883316274 0.6625239005736138 0.8172169811320755 4062\n",
      "best solution found in iteration 939\n",
      "parameter:  1.5000000000000002e-05 0.002 metrics 5 0.7317845828933474 0.8960081883316274 0.6625239005736138 0.8172169811320755 4062\n",
      "best solution found in iteration 939\n",
      "parameter:  1.5000000000000002e-05 0.0025 metrics 5 0.7317845828933474 0.8960081883316274 0.6625239005736138 0.8172169811320755 4062\n",
      "best solution found in iteration 939\n",
      "parameter:  1.5000000000000002e-05 0.003 metrics 5 0.7317845828933474 0.8960081883316274 0.6625239005736138 0.8172169811320755 4062\n",
      "best solution found in iteration 939\n",
      "parameter:  1.5000000000000002e-05 0.005 metrics 5 0.7317845828933474 0.8960081883316274 0.6625239005736138 0.8172169811320755 4062\n",
      "best solution found in iteration 940\n",
      "parameter:  1.5000000000000002e-05 0.006 metrics 4 0.7027624309392265 0.8898669396110542 0.6080305927342257 0.8324607329842932 4062\n",
      "best solution found in iteration 940\n",
      "parameter:  1.5000000000000002e-05 0.007 metrics 4 0.7027624309392265 0.8898669396110542 0.6080305927342257 0.8324607329842932 4062\n",
      "best solution found in iteration 940\n",
      "parameter:  1.5000000000000002e-05 0.008 metrics 4 0.7027624309392265 0.8898669396110542 0.6080305927342257 0.8324607329842932 4062\n",
      "best solution found in iteration 940\n",
      "parameter:  1.5000000000000002e-05 0.01 metrics 4 0.7027624309392265 0.8898669396110542 0.6080305927342257 0.8324607329842932 4062\n",
      "best solution found in iteration 116\n",
      "parameter:  1.5000000000000002e-05 0.015 metrics 3 0.6976253298153036 0.8827021494370522 0.6319311663479924 0.7785630153121319 4062\n",
      "best solution found in iteration 116\n",
      "parameter:  1.5000000000000002e-05 0.02 metrics 3 0.6976253298153036 0.8827021494370522 0.6319311663479924 0.7785630153121319 4062\n",
      "best solution found in iteration 3\n",
      "parameter:  1.5000000000000002e-05 0.03 metrics 1 0.37241379310344824 0.832343909928352 0.2323135755258126 0.9382239382239382 4062\n",
      "best solution found in iteration 3\n",
      "parameter:  1.5000000000000002e-05 0.05 metrics 1 0.37241379310344824 0.832343909928352 0.2323135755258126 0.9382239382239382 4062\n",
      "best solution found in iteration 3\n",
      "parameter:  1.5000000000000002e-05 0.1 metrics 1 0.37241379310344824 0.832343909928352 0.2323135755258126 0.9382239382239382 4062\n",
      "best solution found in iteration 3\n",
      "parameter:  1.5000000000000002e-05 0.15 metrics 1 0.37241379310344824 0.832343909928352 0.2323135755258126 0.9382239382239382 4062\n",
      "best solution found in iteration 3\n",
      "parameter:  1.5000000000000002e-05 0.2 metrics 1 0.37241379310344824 0.832343909928352 0.2323135755258126 0.9382239382239382 4062\n",
      "best solution found in iteration 3\n",
      "parameter:  1.5000000000000002e-05 0.5 metrics 1 0.37241379310344824 0.832343909928352 0.2323135755258126 0.9382239382239382 4062\n",
      "init transformer okay!\n",
      "new cached!\n"
     ]
    },
    {
     "data": {
      "application/vnd.jupyter.widget-view+json": {
       "model_id": "3b2dd4ae41274d66b1cbb718f34ee30d",
       "version_major": 2,
       "version_minor": 0
      },
      "text/plain": [
       "HBox(children=(IntProgress(value=0, max=1000), HTML(value='')))"
      ]
     },
     "metadata": {},
     "output_type": "display_data"
    },
    {
     "name": "stdout",
     "output_type": "stream",
     "text": [
      "best solution found in iteration 448\n",
      "Now print Error Log\n",
      "at iteration: 4 happens the following error\n",
      "('no plausible actions, len length of actions', 0, 'in the mode of ', 'REMOVE_CONDITION')\n",
      "at iteration: 5 happens the following error\n",
      "('no plausible actions, len length of actions', 0, 'in the mode of ', 'REMOVE_CONDITION')\n",
      "at iteration: 6 happens the following error\n",
      "('no plausible actions, len length of actions', 0, 'in the mode of ', 'REMOVE_CONDITION')\n",
      "at iteration: 7 happens the following error\n",
      "('no plausible actions, len length of actions', 0, 'in the mode of ', 'REMOVE_CONDITION')\n",
      "at iteration: 33 happens the following error\n",
      "('no plausible actions, len length of actions', 0, 'in the mode of ', 'REMOVE_CONDITION')\n",
      "at iteration: 42 happens the following error\n",
      "('no plausible actions, len length of actions', 0, 'in the mode of ', 'REMOVE_CONDITION')\n",
      "at iteration: 52 happens the following error\n",
      "('no plausible actions, len length of actions', 0, 'in the mode of ', 'REMOVE_CONDITION')\n",
      "at iteration: 53 happens the following error\n",
      "('no plausible actions, len length of actions', 0, 'in the mode of ', 'REMOVE_CONDITION')\n",
      "at iteration: 56 happens the following error\n",
      "('no plausible actions, len length of actions', 0, 'in the mode of ', 'REMOVE_CONDITION')\n",
      "at iteration: 64 happens the following error\n",
      "('no plausible actions, len length of actions', 0, 'in the mode of ', 'REMOVE_CONDITION')\n",
      "at iteration: 67 happens the following error\n",
      "('no plausible actions, len length of actions', 0, 'in the mode of ', 'REMOVE_CONDITION')\n",
      "at iteration: 109 happens the following error\n",
      "('no plausible actions, len length of actions', 0, 'in the mode of ', 'REMOVE_CONDITION')\n",
      "at iteration: 110 happens the following error\n",
      "('no plausible actions, len length of actions', 0, 'in the mode of ', 'REMOVE_CONDITION')\n",
      "at iteration: 111 happens the following error\n",
      "('no plausible actions, len length of actions', 0, 'in the mode of ', 'REMOVE_CONDITION')\n",
      "at iteration: 805 happens the following error\n",
      "('no plausible actions, len length of actions', 0, 'in the mode of ', 'REMOVE_CONDITION')\n",
      "at iteration: 808 happens the following error\n",
      "('no plausible actions, len length of actions', 0, 'in the mode of ', 'REMOVE_CONDITION')\n",
      "at iteration: 809 happens the following error\n",
      "('no plausible actions, len length of actions', 0, 'in the mode of ', 'REMOVE_CONDITION')\n",
      "at iteration: 810 happens the following error\n",
      "('no plausible actions, len length of actions', 0, 'in the mode of ', 'REMOVE_CONDITION')\n",
      "at iteration: 829 happens the following error\n",
      "('no plausible actions, len length of actions', 0, 'in the mode of ', 'REMOVE_CONDITION')\n",
      "at iteration: 838 happens the following error\n",
      "('no plausible actions, len length of actions', 0, 'in the mode of ', 'REMOVE_CONDITION')\n",
      "at iteration: 853 happens the following error\n",
      "('no plausible actions, len length of actions', 0, 'in the mode of ', 'REMOVE_CONDITION')\n",
      "at iteration: 880 happens the following error\n",
      "('no plausible actions, len length of actions', 0, 'in the mode of ', 'REMOVE_CONDITION')\n",
      "at iteration: 881 happens the following error\n",
      "('no plausible actions, len length of actions', 0, 'in the mode of ', 'REMOVE_CONDITION')\n",
      "at iteration: 882 happens the following error\n",
      "('no plausible actions, len length of actions', 0, 'in the mode of ', 'REMOVE_CONDITION')\n",
      "at iteration: 883 happens the following error\n",
      "('no plausible actions, len length of actions', 0, 'in the mode of ', 'REMOVE_CONDITION')\n",
      "at iteration: 891 happens the following error\n",
      "('no plausible actions, len length of actions', 0, 'in the mode of ', 'REMOVE_CONDITION')\n",
      "at iteration: 892 happens the following error\n",
      "('no plausible actions, len length of actions', 0, 'in the mode of ', 'REMOVE_CONDITION')\n",
      "at iteration: 959 happens the following error\n",
      "('no plausible actions, len length of actions', 0, 'in the mode of ', 'REMOVE_CONDITION')\n",
      "at iteration: 962 happens the following error\n",
      "('no plausible actions, len length of actions', 0, 'in the mode of ', 'REMOVE_CONDITION')\n",
      "at iteration: 988 happens the following error\n",
      "('no plausible actions, len length of actions', 0, 'in the mode of ', 'REMOVE_CONDITION')\n",
      "at iteration: 989 happens the following error\n",
      "('no plausible actions, len length of actions', 0, 'in the mode of ', 'REMOVE_CONDITION')\n",
      "best solution found in iteration 448\n",
      "parameter:  2e-05 0 metrics 11 0.7397124442240952 0.8925281473899693 0.7131931166347992 0.768280123583934 5798\n",
      "best solution found in iteration 448\n",
      "parameter:  2e-05 1e-07 metrics 11 0.7397124442240952 0.8925281473899693 0.7131931166347992 0.768280123583934 5798\n",
      "best solution found in iteration 448\n",
      "parameter:  2e-05 1e-06 metrics 11 0.7397124442240952 0.8925281473899693 0.7131931166347992 0.768280123583934 5798\n",
      "best solution found in iteration 448\n",
      "parameter:  2e-05 1e-05 metrics 11 0.7397124442240952 0.8925281473899693 0.7131931166347992 0.768280123583934 5798\n",
      "best solution found in iteration 448\n",
      "parameter:  2e-05 3e-05 metrics 11 0.7397124442240952 0.8925281473899693 0.7131931166347992 0.768280123583934 5798\n",
      "best solution found in iteration 448\n",
      "parameter:  2e-05 5e-05 metrics 11 0.7397124442240952 0.8925281473899693 0.7131931166347992 0.768280123583934 5798\n",
      "best solution found in iteration 448\n",
      "parameter:  2e-05 8e-05 metrics 11 0.7397124442240952 0.8925281473899693 0.7131931166347992 0.768280123583934 5798\n",
      "best solution found in iteration 448\n",
      "parameter:  2e-05 0.0001 metrics 11 0.7397124442240952 0.8925281473899693 0.7131931166347992 0.768280123583934 5798\n",
      "best solution found in iteration 448\n",
      "parameter:  2e-05 0.0005 metrics 11 0.7397124442240952 0.8925281473899693 0.7131931166347992 0.768280123583934 5798\n",
      "best solution found in iteration 679\n",
      "parameter:  2e-05 0.001 metrics 7 0.7191245440333508 0.8896622313203685 0.6596558317399618 0.7903780068728522 5798\n",
      "best solution found in iteration 679\n",
      "parameter:  2e-05 0.0013 metrics 7 0.7191245440333508 0.8896622313203685 0.6596558317399618 0.7903780068728522 5798\n",
      "best solution found in iteration 679\n",
      "parameter:  2e-05 0.0015 metrics 7 0.7191245440333508 0.8896622313203685 0.6596558317399618 0.7903780068728522 5798\n",
      "best solution found in iteration 679\n",
      "parameter:  2e-05 0.0018 metrics 7 0.7191245440333508 0.8896622313203685 0.6596558317399618 0.7903780068728522 5798\n",
      "best solution found in iteration 679\n",
      "parameter:  2e-05 0.002 metrics 7 0.7191245440333508 0.8896622313203685 0.6596558317399618 0.7903780068728522 5798\n",
      "best solution found in iteration 679\n",
      "parameter:  2e-05 0.0025 metrics 7 0.7191245440333508 0.8896622313203685 0.6596558317399618 0.7903780068728522 5798\n",
      "best solution found in iteration 679\n",
      "parameter:  2e-05 0.003 metrics 7 0.7191245440333508 0.8896622313203685 0.6596558317399618 0.7903780068728522 5798\n",
      "best solution found in iteration 869\n",
      "parameter:  2e-05 0.005 metrics 2 0.673170731707317 0.876560900716479 0.5936902485659655 0.7772215269086358 5798\n",
      "best solution found in iteration 869\n",
      "parameter:  2e-05 0.006 metrics 2 0.673170731707317 0.876560900716479 0.5936902485659655 0.7772215269086358 5798\n",
      "best solution found in iteration 869\n",
      "parameter:  2e-05 0.007 metrics 2 0.673170731707317 0.876560900716479 0.5936902485659655 0.7772215269086358 5798\n",
      "best solution found in iteration 869\n",
      "parameter:  2e-05 0.008 metrics 2 0.673170731707317 0.876560900716479 0.5936902485659655 0.7772215269086358 5798\n",
      "best solution found in iteration 869\n",
      "parameter:  2e-05 0.01 metrics 2 0.673170731707317 0.876560900716479 0.5936902485659655 0.7772215269086358 5798\n",
      "best solution found in iteration 869\n",
      "parameter:  2e-05 0.015 metrics 2 0.673170731707317 0.876560900716479 0.5936902485659655 0.7772215269086358 5798\n",
      "best solution found in iteration 869\n",
      "parameter:  2e-05 0.02 metrics 2 0.673170731707317 0.876560900716479 0.5936902485659655 0.7772215269086358 5798\n",
      "best solution found in iteration 869\n",
      "parameter:  2e-05 0.03 metrics 2 0.673170731707317 0.876560900716479 0.5936902485659655 0.7772215269086358 5798\n",
      "best solution found in iteration 814\n",
      "parameter:  2e-05 0.05 metrics 1 0.37241379310344824 0.832343909928352 0.2323135755258126 0.9382239382239382 5798\n",
      "best solution found in iteration 928\n",
      "parameter:  2e-05 0.1 metrics 0 0.0 0.7858751279426817 0.0 0.0 5798\n",
      "best solution found in iteration 928\n",
      "parameter:  2e-05 0.15 metrics 0 0.0 0.7858751279426817 0.0 0.0 5798\n",
      "best solution found in iteration 928\n",
      "parameter:  2e-05 0.2 metrics 0 0.0 0.7858751279426817 0.0 0.0 5798\n",
      "best solution found in iteration 928\n",
      "parameter:  2e-05 0.5 metrics 0 0.0 0.7858751279426817 0.0 0.0 5798\n",
      "init transformer okay!\n",
      "new cached!\n"
     ]
    },
    {
     "data": {
      "application/vnd.jupyter.widget-view+json": {
       "model_id": "ff466a5d1e31425d811c6274457cf5ae",
       "version_major": 2,
       "version_minor": 0
      },
      "text/plain": [
       "HBox(children=(IntProgress(value=0, max=1000), HTML(value='')))"
      ]
     },
     "metadata": {},
     "output_type": "display_data"
    },
    {
     "name": "stdout",
     "output_type": "stream",
     "text": [
      "best solution found in iteration 798\n",
      "Now print Error Log\n",
      "at iteration: 4 happens the following error\n",
      "('no plausible actions, len length of actions', 0, 'in the mode of ', 'REMOVE_CONDITION')\n",
      "at iteration: 5 happens the following error\n",
      "('no plausible actions, len length of actions', 0, 'in the mode of ', 'REMOVE_CONDITION')\n",
      "at iteration: 6 happens the following error\n",
      "('no plausible actions, len length of actions', 0, 'in the mode of ', 'REMOVE_CONDITION')\n",
      "at iteration: 7 happens the following error\n",
      "('no plausible actions, len length of actions', 0, 'in the mode of ', 'REMOVE_CONDITION')\n",
      "at iteration: 33 happens the following error\n",
      "('no plausible actions, len length of actions', 0, 'in the mode of ', 'REMOVE_CONDITION')\n",
      "at iteration: 42 happens the following error\n",
      "('no plausible actions, len length of actions', 0, 'in the mode of ', 'REMOVE_CONDITION')\n",
      "at iteration: 52 happens the following error\n",
      "('no plausible actions, len length of actions', 0, 'in the mode of ', 'REMOVE_CONDITION')\n",
      "at iteration: 53 happens the following error\n",
      "('no plausible actions, len length of actions', 0, 'in the mode of ', 'REMOVE_CONDITION')\n",
      "at iteration: 56 happens the following error\n",
      "('no plausible actions, len length of actions', 0, 'in the mode of ', 'REMOVE_CONDITION')\n",
      "at iteration: 64 happens the following error\n",
      "('no plausible actions, len length of actions', 0, 'in the mode of ', 'REMOVE_CONDITION')\n",
      "at iteration: 67 happens the following error\n",
      "('no plausible actions, len length of actions', 0, 'in the mode of ', 'REMOVE_CONDITION')\n",
      "at iteration: 298 happens the following error\n",
      "('no plausible actions, len length of actions', 0, 'in the mode of ', 'REMOVE_CONDITION')\n",
      "at iteration: 299 happens the following error\n",
      "('no plausible actions, len length of actions', 0, 'in the mode of ', 'REMOVE_CONDITION')\n",
      "at iteration: 305 happens the following error\n",
      "('no plausible actions, len length of actions', 0, 'in the mode of ', 'REMOVE_CONDITION')\n",
      "at iteration: 317 happens the following error\n",
      "('no plausible actions, len length of actions', 0, 'in the mode of ', 'REMOVE_CONDITION')\n",
      "at iteration: 323 happens the following error\n",
      "('no plausible actions, len length of actions', 0, 'in the mode of ', 'REMOVE_CONDITION')\n",
      "at iteration: 327 happens the following error\n",
      "('no plausible actions, len length of actions', 0, 'in the mode of ', 'REMOVE_CONDITION')\n",
      "at iteration: 487 happens the following error\n",
      "('no plausible actions, len length of actions', 0, 'in the mode of ', 'REMOVE_CONDITION')\n",
      "at iteration: 692 happens the following error\n",
      "('no plausible actions, len length of actions', 0, 'in the mode of ', 'REMOVE_CONDITION')\n",
      "at iteration: 928 happens the following error\n",
      "('no plausible actions, len length of actions', 0, 'in the mode of ', 'REMOVE_CONDITION')\n",
      "at iteration: 929 happens the following error\n",
      "('no plausible actions, len length of actions', 0, 'in the mode of ', 'SPECIFY_CONDITION')\n",
      "at iteration: 946 happens the following error\n",
      "('no plausible actions, len length of actions', 0, 'in the mode of ', 'REMOVE_CONDITION')\n",
      "at iteration: 947 happens the following error\n",
      "('no plausible actions, len length of actions', 0, 'in the mode of ', 'REMOVE_CONDITION')\n",
      "at iteration: 954 happens the following error\n",
      "('no plausible actions, len length of actions', 0, 'in the mode of ', 'REMOVE_CONDITION')\n",
      "best solution found in iteration 798\n",
      "parameter:  3.0000000000000004e-05 0 metrics 10 0.7132275132275133 0.8890481064483111 0.6443594646271511 0.7985781990521327 9224\n",
      "best solution found in iteration 810\n",
      "parameter:  3.0000000000000004e-05 1e-07 metrics 7 0.7132275132275133 0.8890481064483111 0.6443594646271511 0.7985781990521327 9224\n",
      "best solution found in iteration 810\n",
      "parameter:  3.0000000000000004e-05 1e-06 metrics 7 0.7132275132275133 0.8890481064483111 0.6443594646271511 0.7985781990521327 9224\n",
      "best solution found in iteration 810\n",
      "parameter:  3.0000000000000004e-05 1e-05 metrics 7 0.7132275132275133 0.8890481064483111 0.6443594646271511 0.7985781990521327 9224\n",
      "best solution found in iteration 810\n",
      "parameter:  3.0000000000000004e-05 3e-05 metrics 7 0.7132275132275133 0.8890481064483111 0.6443594646271511 0.7985781990521327 9224\n",
      "best solution found in iteration 810\n",
      "parameter:  3.0000000000000004e-05 5e-05 metrics 7 0.7132275132275133 0.8890481064483111 0.6443594646271511 0.7985781990521327 9224\n",
      "best solution found in iteration 814\n",
      "parameter:  3.0000000000000004e-05 8e-05 metrics 6 0.7132275132275133 0.8890481064483111 0.6443594646271511 0.7985781990521327 9224\n",
      "best solution found in iteration 814\n",
      "parameter:  3.0000000000000004e-05 0.0001 metrics 6 0.7132275132275133 0.8890481064483111 0.6443594646271511 0.7985781990521327 9224\n",
      "best solution found in iteration 814\n",
      "parameter:  3.0000000000000004e-05 0.0005 metrics 6 0.7132275132275133 0.8890481064483111 0.6443594646271511 0.7985781990521327 9224\n",
      "best solution found in iteration 585\n",
      "parameter:  3.0000000000000004e-05 0.001 metrics 4 0.7197125256673512 0.8882292732855681 0.6701720841300192 0.7771618625277162 9224\n",
      "best solution found in iteration 585\n",
      "parameter:  3.0000000000000004e-05 0.0013 metrics 4 0.7197125256673512 0.8882292732855681 0.6701720841300192 0.7771618625277162 9224\n",
      "best solution found in iteration 585\n",
      "parameter:  3.0000000000000004e-05 0.0015 metrics 4 0.7197125256673512 0.8882292732855681 0.6701720841300192 0.7771618625277162 9224\n",
      "best solution found in iteration 585\n",
      "parameter:  3.0000000000000004e-05 0.0018 metrics 4 0.7197125256673512 0.8882292732855681 0.6701720841300192 0.7771618625277162 9224\n",
      "best solution found in iteration 585\n",
      "parameter:  3.0000000000000004e-05 0.002 metrics 4 0.7197125256673512 0.8882292732855681 0.6701720841300192 0.7771618625277162 9224\n",
      "best solution found in iteration 585\n",
      "parameter:  3.0000000000000004e-05 0.0025 metrics 4 0.7197125256673512 0.8882292732855681 0.6701720841300192 0.7771618625277162 9224\n",
      "best solution found in iteration 585\n",
      "parameter:  3.0000000000000004e-05 0.003 metrics 4 0.7197125256673512 0.8882292732855681 0.6701720841300192 0.7771618625277162 9224\n",
      "best solution found in iteration 585\n",
      "parameter:  3.0000000000000004e-05 0.005 metrics 4 0.7197125256673512 0.8882292732855681 0.6701720841300192 0.7771618625277162 9224\n",
      "best solution found in iteration 585\n",
      "parameter:  3.0000000000000004e-05 0.006 metrics 4 0.7197125256673512 0.8882292732855681 0.6701720841300192 0.7771618625277162 9224\n",
      "best solution found in iteration 585\n",
      "parameter:  3.0000000000000004e-05 0.007 metrics 4 0.7197125256673512 0.8882292732855681 0.6701720841300192 0.7771618625277162 9224\n",
      "best solution found in iteration 831\n",
      "parameter:  3.0000000000000004e-05 0.008 metrics 3 0.6890574214517877 0.8824974411463664 0.6080305927342257 0.795 9224\n",
      "best solution found in iteration 831\n",
      "parameter:  3.0000000000000004e-05 0.01 metrics 3 0.6890574214517877 0.8824974411463664 0.6080305927342257 0.795 9224\n",
      "best solution found in iteration 831\n",
      "parameter:  3.0000000000000004e-05 0.015 metrics 3 0.6890574214517877 0.8824974411463664 0.6080305927342257 0.795 9224\n",
      "best solution found in iteration 840\n",
      "parameter:  3.0000000000000004e-05 0.02 metrics 2 0.5832809553739786 0.8642784032753327 0.4435946462715105 0.8513761467889909 9224\n",
      "best solution found in iteration 910\n",
      "parameter:  3.0000000000000004e-05 0.03 metrics 1 0.37241379310344824 0.832343909928352 0.2323135755258126 0.9382239382239382 9224\n",
      "best solution found in iteration 910\n",
      "parameter:  3.0000000000000004e-05 0.05 metrics 1 0.37241379310344824 0.832343909928352 0.2323135755258126 0.9382239382239382 9224\n",
      "best solution found in iteration 910\n",
      "parameter:  3.0000000000000004e-05 0.1 metrics 1 0.37241379310344824 0.832343909928352 0.2323135755258126 0.9382239382239382 9224\n",
      "best solution found in iteration 909\n",
      "parameter:  3.0000000000000004e-05 0.15 metrics 0 0.0 0.7858751279426817 0.0 0.0 9224\n",
      "best solution found in iteration 909\n",
      "parameter:  3.0000000000000004e-05 0.2 metrics 0 0.0 0.7858751279426817 0.0 0.0 9224\n",
      "best solution found in iteration 909\n",
      "parameter:  3.0000000000000004e-05 0.5 metrics 0 0.0 0.7858751279426817 0.0 0.0 9224\n",
      "init transformer okay!\n",
      "new cached!\n"
     ]
    },
    {
     "data": {
      "application/vnd.jupyter.widget-view+json": {
       "model_id": "8ea1ead89e6f4dbfb1c0845fb60eb2c6",
       "version_major": 2,
       "version_minor": 0
      },
      "text/plain": [
       "HBox(children=(IntProgress(value=0, max=1000), HTML(value='')))"
      ]
     },
     "metadata": {},
     "output_type": "display_data"
    },
    {
     "name": "stdout",
     "output_type": "stream",
     "text": [
      "best solution found in iteration 586\n",
      "Now print Error Log\n",
      "at iteration: 4 happens the following error\n",
      "('no plausible actions, len length of actions', 0, 'in the mode of ', 'REMOVE_CONDITION')\n",
      "at iteration: 5 happens the following error\n",
      "('no plausible actions, len length of actions', 0, 'in the mode of ', 'REMOVE_CONDITION')\n",
      "at iteration: 6 happens the following error\n",
      "('no plausible actions, len length of actions', 0, 'in the mode of ', 'REMOVE_CONDITION')\n",
      "at iteration: 7 happens the following error\n",
      "('no plausible actions, len length of actions', 0, 'in the mode of ', 'REMOVE_CONDITION')\n",
      "at iteration: 33 happens the following error\n",
      "('no plausible actions, len length of actions', 0, 'in the mode of ', 'REMOVE_CONDITION')\n",
      "at iteration: 42 happens the following error\n",
      "('no plausible actions, len length of actions', 0, 'in the mode of ', 'REMOVE_CONDITION')\n",
      "at iteration: 52 happens the following error\n",
      "('no plausible actions, len length of actions', 0, 'in the mode of ', 'REMOVE_CONDITION')\n",
      "at iteration: 53 happens the following error\n",
      "('no plausible actions, len length of actions', 0, 'in the mode of ', 'REMOVE_CONDITION')\n",
      "at iteration: 56 happens the following error\n",
      "('no plausible actions, len length of actions', 0, 'in the mode of ', 'REMOVE_CONDITION')\n",
      "at iteration: 64 happens the following error\n",
      "('no plausible actions, len length of actions', 0, 'in the mode of ', 'REMOVE_CONDITION')\n",
      "at iteration: 67 happens the following error\n",
      "('no plausible actions, len length of actions', 0, 'in the mode of ', 'REMOVE_CONDITION')\n",
      "at iteration: 89 happens the following error\n",
      "('no plausible actions, len length of actions', 0, 'in the mode of ', 'REMOVE_CONDITION')\n",
      "at iteration: 92 happens the following error\n",
      "('no plausible actions, len length of actions', 0, 'in the mode of ', 'REMOVE_CONDITION')\n",
      "at iteration: 124 happens the following error\n",
      "('no plausible actions, len length of actions', 0, 'in the mode of ', 'REMOVE_CONDITION')\n",
      "at iteration: 126 happens the following error\n",
      "('no plausible actions, len length of actions', 0, 'in the mode of ', 'REMOVE_CONDITION')\n",
      "at iteration: 128 happens the following error\n",
      "('no plausible actions, len length of actions', 0, 'in the mode of ', 'REMOVE_CONDITION')\n",
      "at iteration: 874 happens the following error\n",
      "('no plausible actions, len length of actions', 0, 'in the mode of ', 'REMOVE_CONDITION')\n",
      "at iteration: 909 happens the following error\n",
      "('no plausible actions, len length of actions', 0, 'in the mode of ', 'REMOVE_CONDITION')\n",
      "at iteration: 924 happens the following error\n",
      "('no plausible actions, len length of actions', 0, 'in the mode of ', 'REMOVE_CONDITION')\n",
      "at iteration: 925 happens the following error\n",
      "('no plausible actions, len length of actions', 0, 'in the mode of ', 'REMOVE_CONDITION')\n",
      "at iteration: 938 happens the following error\n",
      "('no plausible actions, len length of actions', 0, 'in the mode of ', 'REMOVE_CONDITION')\n",
      "at iteration: 959 happens the following error\n",
      "('no plausible actions, len length of actions', 0, 'in the mode of ', 'REMOVE_CONDITION')\n",
      "at iteration: 961 happens the following error\n",
      "('no plausible actions, len length of actions', 0, 'in the mode of ', 'REMOVE_CONDITION')\n",
      "at iteration: 962 happens the following error\n",
      "('no plausible actions, len length of actions', 0, 'in the mode of ', 'REMOVE_CONDITION')\n",
      "at iteration: 981 happens the following error\n",
      "('no plausible actions, len length of actions', 0, 'in the mode of ', 'REMOVE_CONDITION')\n",
      "best solution found in iteration 586\n",
      "parameter:  5e-05 0 metrics 11 0.7313357034027427 0.8917093142272262 0.6883365200764818 0.7800650054171181 14766\n",
      "best solution found in iteration 586\n",
      "parameter:  5e-05 1e-07 metrics 11 0.7313357034027427 0.8917093142272262 0.6883365200764818 0.7800650054171181 14766\n",
      "best solution found in iteration 586\n",
      "parameter:  5e-05 1e-06 metrics 11 0.7313357034027427 0.8917093142272262 0.6883365200764818 0.7800650054171181 14766\n",
      "best solution found in iteration 586\n",
      "parameter:  5e-05 1e-05 metrics 11 0.7313357034027427 0.8917093142272262 0.6883365200764818 0.7800650054171181 14766\n",
      "best solution found in iteration 586\n",
      "parameter:  5e-05 3e-05 metrics 11 0.7313357034027427 0.8917093142272262 0.6883365200764818 0.7800650054171181 14766\n",
      "best solution found in iteration 586\n",
      "parameter:  5e-05 5e-05 metrics 11 0.7313357034027427 0.8917093142272262 0.6883365200764818 0.7800650054171181 14766\n",
      "best solution found in iteration 586\n",
      "parameter:  5e-05 8e-05 metrics 11 0.7313357034027427 0.8917093142272262 0.6883365200764818 0.7800650054171181 14766\n",
      "best solution found in iteration 601\n",
      "parameter:  5e-05 0.0001 metrics 10 0.732623033992897 0.8921187308085977 0.6902485659655831 0.7805405405405406 14766\n",
      "best solution found in iteration 601\n",
      "parameter:  5e-05 0.0005 metrics 10 0.732623033992897 0.8921187308085977 0.6902485659655831 0.7805405405405406 14766\n",
      "best solution found in iteration 602\n",
      "parameter:  5e-05 0.001 metrics 9 0.7311608961303463 0.891914022517912 0.6864244741873805 0.7821350762527233 14766\n",
      "best solution found in iteration 602\n",
      "parameter:  5e-05 0.0013 metrics 9 0.7311608961303463 0.891914022517912 0.6864244741873805 0.7821350762527233 14766\n",
      "best solution found in iteration 634\n",
      "parameter:  5e-05 0.0015 metrics 7 0.7217888715548622 0.8904810644831116 0.6634799235181644 0.7913340935005702 14766\n",
      "best solution found in iteration 634\n",
      "parameter:  5e-05 0.0018 metrics 7 0.7217888715548622 0.8904810644831116 0.6634799235181644 0.7913340935005702 14766\n",
      "best solution found in iteration 634\n",
      "parameter:  5e-05 0.002 metrics 7 0.7217888715548622 0.8904810644831116 0.6634799235181644 0.7913340935005702 14766\n",
      "best solution found in iteration 634\n",
      "parameter:  5e-05 0.0025 metrics 7 0.7217888715548622 0.8904810644831116 0.6634799235181644 0.7913340935005702 14766\n",
      "best solution found in iteration 636\n",
      "parameter:  5e-05 0.003 metrics 6 0.702819956616052 0.8878198567041965 0.6195028680688337 0.8120300751879699 14766\n",
      "best solution found in iteration 755\n",
      "parameter:  5e-05 0.005 metrics 2 0.6928034371643393 0.882906857727738 0.6166347992351816 0.7904411764705882 14766\n",
      "best solution found in iteration 755\n",
      "parameter:  5e-05 0.006 metrics 2 0.6928034371643393 0.882906857727738 0.6166347992351816 0.7904411764705882 14766\n",
      "best solution found in iteration 755\n",
      "parameter:  5e-05 0.007 metrics 2 0.6928034371643393 0.882906857727738 0.6166347992351816 0.7904411764705882 14766\n",
      "best solution found in iteration 755\n",
      "parameter:  5e-05 0.008 metrics 2 0.6928034371643393 0.882906857727738 0.6166347992351816 0.7904411764705882 14766\n",
      "best solution found in iteration 755\n",
      "parameter:  5e-05 0.01 metrics 2 0.6928034371643393 0.882906857727738 0.6166347992351816 0.7904411764705882 14766\n",
      "best solution found in iteration 755\n",
      "parameter:  5e-05 0.015 metrics 2 0.6928034371643393 0.882906857727738 0.6166347992351816 0.7904411764705882 14766\n",
      "best solution found in iteration 755\n",
      "parameter:  5e-05 0.02 metrics 2 0.6928034371643393 0.882906857727738 0.6166347992351816 0.7904411764705882 14766\n",
      "best solution found in iteration 755\n",
      "parameter:  5e-05 0.03 metrics 2 0.6928034371643393 0.882906857727738 0.6166347992351816 0.7904411764705882 14766\n",
      "best solution found in iteration 900\n",
      "parameter:  5e-05 0.05 metrics 1 0.37241379310344824 0.832343909928352 0.2323135755258126 0.9382239382239382 14766\n",
      "best solution found in iteration 900\n",
      "parameter:  5e-05 0.1 metrics 1 0.37241379310344824 0.832343909928352 0.2323135755258126 0.9382239382239382 14766\n",
      "best solution found in iteration 900\n",
      "parameter:  5e-05 0.15 metrics 1 0.37241379310344824 0.832343909928352 0.2323135755258126 0.9382239382239382 14766\n",
      "best solution found in iteration 900\n",
      "parameter:  5e-05 0.2 metrics 1 0.37241379310344824 0.832343909928352 0.2323135755258126 0.9382239382239382 14766\n",
      "best solution found in iteration 900\n",
      "parameter:  5e-05 0.5 metrics 1 0.37241379310344824 0.832343909928352 0.2323135755258126 0.9382239382239382 14766\n",
      "init transformer okay!\n",
      "new cached!\n"
     ]
    },
    {
     "data": {
      "application/vnd.jupyter.widget-view+json": {
       "model_id": "27bb95303e4345878a214ac4ec16c322",
       "version_major": 2,
       "version_minor": 0
      },
      "text/plain": [
       "HBox(children=(IntProgress(value=0, max=1000), HTML(value='')))"
      ]
     },
     "metadata": {},
     "output_type": "display_data"
    },
    {
     "name": "stdout",
     "output_type": "stream",
     "text": [
      "best solution found in iteration 772\n",
      "Now print Error Log\n",
      "at iteration: 4 happens the following error\n",
      "('no plausible actions, len length of actions', 0, 'in the mode of ', 'REMOVE_CONDITION')\n",
      "at iteration: 5 happens the following error\n",
      "('no plausible actions, len length of actions', 0, 'in the mode of ', 'REMOVE_CONDITION')\n",
      "at iteration: 6 happens the following error\n",
      "('no plausible actions, len length of actions', 0, 'in the mode of ', 'REMOVE_CONDITION')\n",
      "at iteration: 7 happens the following error\n",
      "('no plausible actions, len length of actions', 0, 'in the mode of ', 'REMOVE_CONDITION')\n",
      "at iteration: 33 happens the following error\n",
      "('no plausible actions, len length of actions', 0, 'in the mode of ', 'REMOVE_CONDITION')\n",
      "at iteration: 364 happens the following error\n",
      "('no plausible actions, len length of actions', 0, 'in the mode of ', 'REMOVE_CONDITION')\n",
      "at iteration: 368 happens the following error\n",
      "('no plausible actions, len length of actions', 0, 'in the mode of ', 'REMOVE_CONDITION')\n",
      "at iteration: 388 happens the following error\n",
      "('no plausible actions, len length of actions', 0, 'in the mode of ', 'REMOVE_CONDITION')\n",
      "at iteration: 390 happens the following error\n",
      "('no plausible actions, len length of actions', 0, 'in the mode of ', 'REMOVE_CONDITION')\n",
      "at iteration: 391 happens the following error\n",
      "('no plausible actions, len length of actions', 0, 'in the mode of ', 'REMOVE_CONDITION')\n",
      "at iteration: 392 happens the following error\n",
      "('no plausible actions, len length of actions', 0, 'in the mode of ', 'REMOVE_CONDITION')\n",
      "at iteration: 393 happens the following error\n",
      "('no plausible actions, len length of actions', 0, 'in the mode of ', 'REMOVE_CONDITION')\n",
      "at iteration: 428 happens the following error\n",
      "('no plausible actions, len length of actions', 0, 'in the mode of ', 'REMOVE_CONDITION')\n",
      "at iteration: 451 happens the following error\n",
      "('no plausible actions, len length of actions', 0, 'in the mode of ', 'REMOVE_CONDITION')\n",
      "at iteration: 454 happens the following error\n",
      "('no plausible actions, len length of actions', 0, 'in the mode of ', 'REMOVE_CONDITION')\n",
      "at iteration: 455 happens the following error\n",
      "('no plausible actions, len length of actions', 0, 'in the mode of ', 'REMOVE_CONDITION')\n",
      "at iteration: 468 happens the following error\n",
      "('no plausible actions, len length of actions', 0, 'in the mode of ', 'REMOVE_CONDITION')\n",
      "at iteration: 486 happens the following error\n",
      "('no plausible actions, len length of actions', 0, 'in the mode of ', 'REMOVE_CONDITION')\n",
      "at iteration: 502 happens the following error\n",
      "('no plausible actions, len length of actions', 0, 'in the mode of ', 'REMOVE_CONDITION')\n",
      "at iteration: 523 happens the following error\n",
      "('no plausible actions, len length of actions', 0, 'in the mode of ', 'REMOVE_CONDITION')\n",
      "at iteration: 524 happens the following error\n",
      "('no plausible actions, len length of actions', 0, 'in the mode of ', 'REMOVE_CONDITION')\n",
      "at iteration: 531 happens the following error\n",
      "('no plausible actions, len length of actions', 0, 'in the mode of ', 'REMOVE_CONDITION')\n",
      "at iteration: 532 happens the following error\n",
      "('no plausible actions, len length of actions', 0, 'in the mode of ', 'REMOVE_CONDITION')\n",
      "at iteration: 533 happens the following error\n",
      "('no plausible actions, len length of actions', 0, 'in the mode of ', 'REMOVE_CONDITION')\n",
      "at iteration: 534 happens the following error\n",
      "('no plausible actions, len length of actions', 0, 'in the mode of ', 'REMOVE_CONDITION')\n",
      "at iteration: 537 happens the following error\n",
      "('no plausible actions, len length of actions', 0, 'in the mode of ', 'REMOVE_CONDITION')\n",
      "at iteration: 682 happens the following error\n",
      "('no plausible actions, len length of actions', 0, 'in the mode of ', 'REMOVE_CONDITION')\n",
      "at iteration: 683 happens the following error\n",
      "('no plausible actions, len length of actions', 0, 'in the mode of ', 'REMOVE_CONDITION')\n",
      "at iteration: 929 happens the following error\n",
      "('no plausible actions, len length of actions', 0, 'in the mode of ', 'REMOVE_CONDITION')\n",
      "at iteration: 966 happens the following error\n",
      "('no plausible actions, len length of actions', 0, 'in the mode of ', 'REMOVE_CONDITION')\n",
      "best solution found in iteration 772\n",
      "parameter:  0.0001 0 metrics 8 0.7112887112887113 0.8816786079836233 0.6806883365200764 0.7447698744769874 29416\n",
      "best solution found in iteration 772\n",
      "parameter:  0.0001 1e-07 metrics 8 0.7112887112887113 0.8816786079836233 0.6806883365200764 0.7447698744769874 29416\n",
      "best solution found in iteration 772\n",
      "parameter:  0.0001 1e-06 metrics 8 0.7112887112887113 0.8816786079836233 0.6806883365200764 0.7447698744769874 29416\n",
      "best solution found in iteration 772\n",
      "parameter:  0.0001 1e-05 metrics 8 0.7112887112887113 0.8816786079836233 0.6806883365200764 0.7447698744769874 29416\n",
      "best solution found in iteration 772\n",
      "parameter:  0.0001 3e-05 metrics 8 0.7112887112887113 0.8816786079836233 0.6806883365200764 0.7447698744769874 29416\n",
      "best solution found in iteration 772\n",
      "parameter:  0.0001 5e-05 metrics 8 0.7112887112887113 0.8816786079836233 0.6806883365200764 0.7447698744769874 29416\n",
      "best solution found in iteration 772\n",
      "parameter:  0.0001 8e-05 metrics 8 0.7112887112887113 0.8816786079836233 0.6806883365200764 0.7447698744769874 29416\n",
      "best solution found in iteration 772\n",
      "parameter:  0.0001 0.0001 metrics 8 0.7112887112887113 0.8816786079836233 0.6806883365200764 0.7447698744769874 29416\n",
      "best solution found in iteration 775\n",
      "parameter:  0.0001 0.0005 metrics 7 0.6865509761388285 0.8816786079836233 0.6051625239005736 0.793233082706767 29416\n",
      "best solution found in iteration 775\n",
      "parameter:  0.0001 0.001 metrics 7 0.6865509761388285 0.8816786079836233 0.6051625239005736 0.793233082706767 29416\n",
      "best solution found in iteration 775\n",
      "parameter:  0.0001 0.0013 metrics 7 0.6865509761388285 0.8816786079836233 0.6051625239005736 0.793233082706767 29416\n",
      "best solution found in iteration 775\n",
      "parameter:  0.0001 0.0015 metrics 7 0.6865509761388285 0.8816786079836233 0.6051625239005736 0.793233082706767 29416\n",
      "best solution found in iteration 820\n",
      "parameter:  0.0001 0.0018 metrics 4 0.6866485013623979 0.8822927328556807 0.6022944550669216 0.7984790874524715 29416\n",
      "best solution found in iteration 822\n",
      "parameter:  0.0001 0.002 metrics 3 0.6866485013623979 0.8822927328556807 0.6022944550669216 0.7984790874524715 29416\n",
      "best solution found in iteration 822\n",
      "parameter:  0.0001 0.0025 metrics 3 0.6866485013623979 0.8822927328556807 0.6022944550669216 0.7984790874524715 29416\n",
      "best solution found in iteration 822\n",
      "parameter:  0.0001 0.003 metrics 3 0.6866485013623979 0.8822927328556807 0.6022944550669216 0.7984790874524715 29416\n",
      "best solution found in iteration 822\n",
      "parameter:  0.0001 0.005 metrics 3 0.6866485013623979 0.8822927328556807 0.6022944550669216 0.7984790874524715 29416\n",
      "best solution found in iteration 822\n",
      "parameter:  0.0001 0.006 metrics 3 0.6866485013623979 0.8822927328556807 0.6022944550669216 0.7984790874524715 29416\n",
      "best solution found in iteration 822\n",
      "parameter:  0.0001 0.007 metrics 3 0.6866485013623979 0.8822927328556807 0.6022944550669216 0.7984790874524715 29416\n",
      "best solution found in iteration 822\n",
      "parameter:  0.0001 0.008 metrics 3 0.6866485013623979 0.8822927328556807 0.6022944550669216 0.7984790874524715 29416\n",
      "best solution found in iteration 822\n",
      "parameter:  0.0001 0.01 metrics 3 0.6866485013623979 0.8822927328556807 0.6022944550669216 0.7984790874524715 29416\n",
      "best solution found in iteration 895\n",
      "parameter:  0.0001 0.015 metrics 2 0.6694045174537987 0.8681678607983623 0.6233269598470363 0.7228381374722838 29416\n",
      "best solution found in iteration 895\n",
      "parameter:  0.0001 0.02 metrics 2 0.6694045174537987 0.8681678607983623 0.6233269598470363 0.7228381374722838 29416\n",
      "best solution found in iteration 426\n",
      "parameter:  0.0001 0.03 metrics 1 0.3493312352478364 0.8307062436028659 0.21223709369024857 0.9866666666666667 29416\n",
      "best solution found in iteration 426\n",
      "parameter:  0.0001 0.05 metrics 1 0.3493312352478364 0.8307062436028659 0.21223709369024857 0.9866666666666667 29416\n",
      "best solution found in iteration 426\n",
      "parameter:  0.0001 0.1 metrics 1 0.3493312352478364 0.8307062436028659 0.21223709369024857 0.9866666666666667 29416\n",
      "best solution found in iteration 426\n",
      "parameter:  0.0001 0.15 metrics 1 0.3493312352478364 0.8307062436028659 0.21223709369024857 0.9866666666666667 29416\n"
     ]
    },
    {
     "name": "stdout",
     "output_type": "stream",
     "text": [
      "best solution found in iteration 426\n",
      "parameter:  0.0001 0.2 metrics 1 0.3493312352478364 0.8307062436028659 0.21223709369024857 0.9866666666666667 29416\n",
      "best solution found in iteration 37\n",
      "parameter:  0.0001 0.5 metrics 0 0.0 0.7858751279426817 0.0 0.0 29416\n",
      "init transformer okay!\n",
      "new cached!\n"
     ]
    },
    {
     "data": {
      "application/vnd.jupyter.widget-view+json": {
       "model_id": "cba0bbc43cbc42648ec5f943067f5137",
       "version_major": 2,
       "version_minor": 0
      },
      "text/plain": [
       "HBox(children=(IntProgress(value=0, max=1000), HTML(value='')))"
      ]
     },
     "metadata": {},
     "output_type": "display_data"
    },
    {
     "name": "stdout",
     "output_type": "stream",
     "text": [
      "best solution found in iteration 768\n",
      "Now print Error Log\n",
      "at iteration: 4 happens the following error\n",
      "('no plausible actions, len length of actions', 0, 'in the mode of ', 'REMOVE_CONDITION')\n",
      "at iteration: 5 happens the following error\n",
      "('no plausible actions, len length of actions', 0, 'in the mode of ', 'REMOVE_CONDITION')\n",
      "at iteration: 6 happens the following error\n",
      "('no plausible actions, len length of actions', 0, 'in the mode of ', 'REMOVE_CONDITION')\n",
      "at iteration: 7 happens the following error\n",
      "('no plausible actions, len length of actions', 0, 'in the mode of ', 'REMOVE_CONDITION')\n",
      "at iteration: 24 happens the following error\n",
      "('no plausible actions, len length of actions', 0, 'in the mode of ', 'REMOVE_CONDITION')\n",
      "at iteration: 34 happens the following error\n",
      "('no plausible actions, len length of actions', 0, 'in the mode of ', 'REMOVE_CONDITION')\n",
      "at iteration: 39 happens the following error\n",
      "('no plausible actions, len length of actions', 0, 'in the mode of ', 'REMOVE_CONDITION')\n",
      "at iteration: 42 happens the following error\n",
      "('no plausible actions, len length of actions', 0, 'in the mode of ', 'REMOVE_CONDITION')\n",
      "at iteration: 44 happens the following error\n",
      "('no plausible actions, len length of actions', 0, 'in the mode of ', 'REMOVE_CONDITION')\n",
      "at iteration: 45 happens the following error\n",
      "('no plausible actions, len length of actions', 0, 'in the mode of ', 'REMOVE_CONDITION')\n",
      "at iteration: 46 happens the following error\n",
      "('no plausible actions, len length of actions', 0, 'in the mode of ', 'REMOVE_CONDITION')\n",
      "at iteration: 57 happens the following error\n",
      "('no plausible actions, len length of actions', 0, 'in the mode of ', 'REMOVE_CONDITION')\n",
      "at iteration: 70 happens the following error\n",
      "('no plausible actions, len length of actions', 0, 'in the mode of ', 'REMOVE_CONDITION')\n",
      "at iteration: 71 happens the following error\n",
      "('no plausible actions, len length of actions', 0, 'in the mode of ', 'REMOVE_CONDITION')\n",
      "at iteration: 82 happens the following error\n",
      "('no plausible actions, len length of actions', 0, 'in the mode of ', 'REMOVE_CONDITION')\n",
      "at iteration: 88 happens the following error\n",
      "('no plausible actions, len length of actions', 0, 'in the mode of ', 'REMOVE_CONDITION')\n",
      "at iteration: 96 happens the following error\n",
      "('no plausible actions, len length of actions', 0, 'in the mode of ', 'REMOVE_CONDITION')\n",
      "at iteration: 365 happens the following error\n",
      "('no plausible actions, len length of actions', 0, 'in the mode of ', 'SPECIFY_CONDITION')\n",
      "at iteration: 368 happens the following error\n",
      "('no plausible actions, len length of actions', 0, 'in the mode of ', 'REMOVE_CONDITION')\n",
      "at iteration: 398 happens the following error\n",
      "('no plausible actions, len length of actions', 0, 'in the mode of ', 'REMOVE_CONDITION')\n",
      "at iteration: 400 happens the following error\n",
      "('no plausible actions, len length of actions', 0, 'in the mode of ', 'REMOVE_CONDITION')\n",
      "at iteration: 426 happens the following error\n",
      "('no plausible actions, len length of actions', 0, 'in the mode of ', 'REMOVE_CONDITION')\n",
      "at iteration: 516 happens the following error\n",
      "('no plausible actions, len length of actions', 0, 'in the mode of ', 'REMOVE_CONDITION')\n",
      "at iteration: 519 happens the following error\n",
      "('no plausible actions, len length of actions', 0, 'in the mode of ', 'REMOVE_CONDITION')\n",
      "at iteration: 577 happens the following error\n",
      "('no plausible actions, len length of actions', 0, 'in the mode of ', 'REMOVE_CONDITION')\n",
      "at iteration: 583 happens the following error\n",
      "('no plausible actions, len length of actions', 0, 'in the mode of ', 'REMOVE_CONDITION')\n",
      "at iteration: 646 happens the following error\n",
      "('no plausible actions, len length of actions', 0, 'in the mode of ', 'REMOVE_CONDITION')\n",
      "at iteration: 647 happens the following error\n",
      "('no plausible actions, len length of actions', 0, 'in the mode of ', 'REMOVE_CONDITION')\n",
      "at iteration: 664 happens the following error\n",
      "('no plausible actions, len length of actions', 0, 'in the mode of ', 'REMOVE_CONDITION')\n",
      "at iteration: 672 happens the following error\n",
      "('no plausible actions, len length of actions', 0, 'in the mode of ', 'REMOVE_CONDITION')\n",
      "at iteration: 678 happens the following error\n",
      "('no plausible actions, len length of actions', 0, 'in the mode of ', 'REMOVE_CONDITION')\n",
      "at iteration: 679 happens the following error\n",
      "('no plausible actions, len length of actions', 0, 'in the mode of ', 'REMOVE_CONDITION')\n",
      "at iteration: 681 happens the following error\n",
      "('no plausible actions, len length of actions', 0, 'in the mode of ', 'REMOVE_CONDITION')\n",
      "at iteration: 690 happens the following error\n",
      "('no plausible actions, len length of actions', 0, 'in the mode of ', 'REMOVE_CONDITION')\n",
      "at iteration: 698 happens the following error\n",
      "('no plausible actions, len length of actions', 0, 'in the mode of ', 'REMOVE_CONDITION')\n",
      "at iteration: 703 happens the following error\n",
      "('no plausible actions, len length of actions', 0, 'in the mode of ', 'REMOVE_CONDITION')\n",
      "at iteration: 711 happens the following error\n",
      "('no plausible actions, len length of actions', 0, 'in the mode of ', 'REMOVE_CONDITION')\n",
      "at iteration: 823 happens the following error\n",
      "('no plausible actions, len length of actions', 0, 'in the mode of ', 'REMOVE_CONDITION')\n",
      "at iteration: 832 happens the following error\n",
      "('no plausible actions, len length of actions', 0, 'in the mode of ', 'REMOVE_CONDITION')\n",
      "at iteration: 833 happens the following error\n",
      "('no plausible actions, len length of actions', 0, 'in the mode of ', 'REMOVE_CONDITION')\n",
      "at iteration: 886 happens the following error\n",
      "('no plausible actions, len length of actions', 0, 'in the mode of ', 'REMOVE_CONDITION')\n",
      "at iteration: 887 happens the following error\n",
      "('no plausible actions, len length of actions', 0, 'in the mode of ', 'REMOVE_CONDITION')\n",
      "at iteration: 895 happens the following error\n",
      "('no plausible actions, len length of actions', 0, 'in the mode of ', 'REMOVE_CONDITION')\n",
      "at iteration: 994 happens the following error\n",
      "('no plausible actions, len length of actions', 0, 'in the mode of ', 'REMOVE_CONDITION')\n",
      "at iteration: 998 happens the following error\n",
      "('no plausible actions, len length of actions', 0, 'in the mode of ', 'REMOVE_CONDITION')\n",
      "best solution found in iteration 768\n",
      "parameter:  0.00015000000000000001 0 metrics 5 0.7089833243679396 0.889252814738997 0.630019120458891 0.8105781057810578 31374\n",
      "best solution found in iteration 768\n",
      "parameter:  0.00015000000000000001 1e-07 metrics 5 0.7089833243679396 0.889252814738997 0.630019120458891 0.8105781057810578 31374\n",
      "best solution found in iteration 768\n",
      "parameter:  0.00015000000000000001 1e-06 metrics 5 0.7089833243679396 0.889252814738997 0.630019120458891 0.8105781057810578 31374\n",
      "best solution found in iteration 768\n",
      "parameter:  0.00015000000000000001 1e-05 metrics 5 0.7089833243679396 0.889252814738997 0.630019120458891 0.8105781057810578 31374\n",
      "best solution found in iteration 768\n",
      "parameter:  0.00015000000000000001 3e-05 metrics 5 0.7089833243679396 0.889252814738997 0.630019120458891 0.8105781057810578 31374\n",
      "best solution found in iteration 768\n",
      "parameter:  0.00015000000000000001 5e-05 metrics 5 0.7089833243679396 0.889252814738997 0.630019120458891 0.8105781057810578 31374\n",
      "best solution found in iteration 768\n",
      "parameter:  0.00015000000000000001 8e-05 metrics 5 0.7089833243679396 0.889252814738997 0.630019120458891 0.8105781057810578 31374\n",
      "best solution found in iteration 768\n",
      "parameter:  0.00015000000000000001 0.0001 metrics 5 0.7089833243679396 0.889252814738997 0.630019120458891 0.8105781057810578 31374\n",
      "best solution found in iteration 768\n",
      "parameter:  0.00015000000000000001 0.0005 metrics 5 0.7089833243679396 0.889252814738997 0.630019120458891 0.8105781057810578 31374\n",
      "best solution found in iteration 768\n",
      "parameter:  0.00015000000000000001 0.001 metrics 5 0.7089833243679396 0.889252814738997 0.630019120458891 0.8105781057810578 31374\n",
      "best solution found in iteration 768\n",
      "parameter:  0.00015000000000000001 0.0013 metrics 5 0.7089833243679396 0.889252814738997 0.630019120458891 0.8105781057810578 31374\n",
      "best solution found in iteration 768\n",
      "parameter:  0.00015000000000000001 0.0015 metrics 5 0.7089833243679396 0.889252814738997 0.630019120458891 0.8105781057810578 31374\n",
      "best solution found in iteration 768\n",
      "parameter:  0.00015000000000000001 0.0018 metrics 5 0.7089833243679396 0.889252814738997 0.630019120458891 0.8105781057810578 31374\n",
      "best solution found in iteration 769\n"
     ]
    },
    {
     "name": "stdout",
     "output_type": "stream",
     "text": [
      "parameter:  0.00015000000000000001 0.002 metrics 4 0.7082884822389666 0.8890481064483111 0.6290630975143403 0.8103448275862069 31374\n",
      "best solution found in iteration 769\n",
      "parameter:  0.00015000000000000001 0.0025 metrics 4 0.7082884822389666 0.8890481064483111 0.6290630975143403 0.8103448275862069 31374\n",
      "best solution found in iteration 773\n",
      "parameter:  0.00015000000000000001 0.003 metrics 3 0.6887417218543046 0.8845445240532241 0.5965583173996176 0.814621409921671 31374\n",
      "best solution found in iteration 773\n",
      "parameter:  0.00015000000000000001 0.005 metrics 3 0.6887417218543046 0.8845445240532241 0.5965583173996176 0.814621409921671 31374\n",
      "best solution found in iteration 773\n",
      "parameter:  0.00015000000000000001 0.006 metrics 3 0.6887417218543046 0.8845445240532241 0.5965583173996176 0.814621409921671 31374\n",
      "best solution found in iteration 773\n",
      "parameter:  0.00015000000000000001 0.007 metrics 3 0.6887417218543046 0.8845445240532241 0.5965583173996176 0.814621409921671 31374\n",
      "best solution found in iteration 773\n",
      "parameter:  0.00015000000000000001 0.008 metrics 3 0.6887417218543046 0.8845445240532241 0.5965583173996176 0.814621409921671 31374\n",
      "best solution found in iteration 476\n",
      "parameter:  0.00015000000000000001 0.01 metrics 2 0.6931330472103006 0.882906857727738 0.6175908221797323 0.7897310513447433 31374\n",
      "best solution found in iteration 476\n",
      "parameter:  0.00015000000000000001 0.015 metrics 2 0.6931330472103006 0.882906857727738 0.6175908221797323 0.7897310513447433 31374\n",
      "best solution found in iteration 476\n",
      "parameter:  0.00015000000000000001 0.02 metrics 2 0.6931330472103006 0.882906857727738 0.6175908221797323 0.7897310513447433 31374\n",
      "best solution found in iteration 617\n",
      "parameter:  0.00015000000000000001 0.03 metrics 1 0.3493312352478364 0.8307062436028659 0.21223709369024857 0.9866666666666667 31374\n",
      "best solution found in iteration 617\n",
      "parameter:  0.00015000000000000001 0.05 metrics 1 0.3493312352478364 0.8307062436028659 0.21223709369024857 0.9866666666666667 31374\n",
      "best solution found in iteration 617\n",
      "parameter:  0.00015000000000000001 0.1 metrics 1 0.3493312352478364 0.8307062436028659 0.21223709369024857 0.9866666666666667 31374\n",
      "best solution found in iteration 617\n",
      "parameter:  0.00015000000000000001 0.15 metrics 1 0.3493312352478364 0.8307062436028659 0.21223709369024857 0.9866666666666667 31374\n",
      "best solution found in iteration 617\n",
      "parameter:  0.00015000000000000001 0.2 metrics 1 0.3493312352478364 0.8307062436028659 0.21223709369024857 0.9866666666666667 31374\n",
      "best solution found in iteration 900\n",
      "parameter:  0.00015000000000000001 0.5 metrics 0 0.0 0.7858751279426817 0.0 0.0 31374\n"
     ]
    }
   ],
   "source": [
    "from tqdm import tqdm_notebook\n",
    "%load_ext autoreload\n",
    "%autoreload 2\n",
    "from approach import explain_tabular\n",
    "from utils import ruleset_predict\n",
    "from copy import deepcopy\n",
    "\n",
    "lambda_candidates = [  0,0.0000001,0.000001,0.00001,0.00003,0.00005,0.00008,0.0001,0.0005,0.001,0.0013,0.0015,0.0018,0.002,0.0025,0.003,0.005,0.006,0.007,0.008,0.01,0.015,0.02,0.03,0.05,0.1,0.15,0.2,0.5 ]\n",
    "\n",
    "beta_candidates = [0,0.2,0.5,1.5,2,3,5,10,15]\n",
    "beta_candidates = [i * 0.00001 for i in beta_candidates]\n",
    "\n",
    "# lambda_candidates = [  0.01 ]\n",
    "# beta_candidates = [0]\n",
    "results={}\n",
    "for beta in beta_candidates:\n",
    "    results[beta] = []\n",
    "\n",
    "\n",
    "for beta in tqdm_notebook(beta_candidates): \n",
    "    lambda_parameter = lambda_candidates[0]\n",
    "    explanations,ADS = explain_tabular(predicted_data_table, black_box, target_class_idx=1, random_seed=42,beta=beta,lambda_parameter=lambda_parameter)\n",
    "    for lambda_parameter in  lambda_candidates:\n",
    "        explanations = ADS.output_the_best(lambda_parameter)\n",
    "        our_prediction = ruleset_predict(explanations,test_data_table.X)\n",
    "        f1_score = sklearn.metrics.f1_score(predicted_test_data_table.Y, our_prediction)\n",
    "        acc_score=sklearn.metrics.accuracy_score(predicted_test_data_table.Y, our_prediction)\n",
    "        rec_score = sklearn.metrics.recall_score(predicted_test_data_table.Y, our_prediction)\n",
    "        pre_score = sklearn.metrics.precision_score(predicted_test_data_table.Y, our_prediction)\n",
    "        num = len(explanations)\n",
    "        num_of_instance = ADS.synthetic_data_table.X.shape[0]\n",
    "        results[beta].append( (lambda_parameter,(num,f1_score,acc_score,rec_score,pre_score,num_of_instance,deepcopy(explanations) )  ) )\n",
    "        print(\"parameter: \",beta,lambda_parameter,\"metrics\",num,f1_score,acc_score,rec_score,pre_score,num_of_instance)\n",
    "\n"
   ]
  },
  {
   "cell_type": "code",
   "execution_count": 24,
   "metadata": {
    "ExecuteTime": {
     "end_time": "2019-08-11T06:30:34.887265Z",
     "start_time": "2019-08-11T06:30:34.583059Z"
    },
    "hidden": true
   },
   "outputs": [
    {
     "data": {
      "image/png": "[encoded data removed]",
      "text/plain": [
       "<Figure size 432x288 with 1 Axes>"
      ]
     },
     "metadata": {
      "needs_background": "light"
     },
     "output_type": "display_data"
    }
   ],
   "source": [
    "import matplotlib.pyplot as plt\n",
    "from matplotlib.cm import get_cmap\n",
    "import math\n",
    "import numpy as np\n",
    "from sklearn.gaussian_process import GaussianProcessRegressor\n",
    "# name = \"Greys\"\n",
    "# cmap = get_cmap(name)  # type: matplotlib.colors.ListedColormap\n",
    "# colors = cmap  # type: list\n",
    "\n",
    "# # plt.set_prop_cycle(color=colors)\n",
    "\n",
    "# color_map = get_cmap('viridis')\n",
    "color_map = get_cmap('binary')\n",
    "# color_map = get_cmap('winter')\n",
    "# beta_candidates = [0,0.2,0.5,1.5,2,3,5,10]\n",
    "beta_candidates = [0,0.2,0.5,1.5,2,3,5,10,15]\n",
    "# beta_candidates = [0,0.2,0.5,2,3]\n",
    "\n",
    "\n",
    "beta_candidates = [i * 0.00001 for i in beta_candidates]\n",
    "\n",
    "\n",
    "for count,b in enumerate(beta_candidates):\n",
    "#     if count in [3]: \n",
    "#         continue\n",
    "    plot_use_x = []\n",
    "    plot_use_y = []\n",
    "    for i in range(len(lambda_candidates)):\n",
    "        lambda_parameter,(num,f1_score,acc_score,rec_score,pre_score,num_of_instance,explanations) = results[b][i]\n",
    "        plot_use_x.append(num)\n",
    "#         plot_use_y.append(f1_score)\n",
    "        plot_use_y.append(f1_score)\n",
    "        \n",
    "    # for x,y in zip(plot_use_x,plot_use_y):\n",
    "    #     print(x,y)\n",
    "    tmp = [(x,y) for x,y in zip(plot_use_x,plot_use_y) ]\n",
    "#     tmp.append((0,0.5))\n",
    "#     tmp.append((100,1))\n",
    "    tmp = sorted(tmp,key=lambda x:x[0])\n",
    "    X =np.asarray([ t[0] for t in tmp]) .reshape(-1, 1)\n",
    "    y =np.asarray([ t[1] for t in tmp]) .reshape(-1, 1)\n",
    "#     clf = GaussianProcessRegressor()\n",
    "#     clf.fit(X, y) \n",
    "#     x_virtul = [ 0.1 * i for i in range(50)]\n",
    "#     x_for_predict = np.asarray(x_virtul) .reshape(-1, 1)\n",
    "#     plt.plot(x_virtul,clf.predict(x_for_predict).reshape(-1),color=color_map(  math.sqrt(b*1000)  )  )\n",
    "#     plt.plot(X,y  )\n",
    "    plt.plot(X,y,color=color_map(  math.sqrt(b*5000+0.01) )  )\n",
    "\n",
    "#     format(12.456789, '.3e')\n",
    "plt.legend([str(b)for b in beta_candidates],loc=(1.04,0))\n",
    "# plt.legend(loc='center left', bbox_to_anchor=(1, 0.5))\n",
    "# plt.legend([str(b) for b in beta_candidates], loc=5)\n",
    "# plt.xlim([3,10])\n",
    "# plt.ylim([0.8,1])\n",
    "plt.ylabel('f1 score')\n",
    "plt.xlabel('number of rules')\n",
    "plt.show()"
   ]
  },
  {
   "cell_type": "code",
   "execution_count": null,
   "metadata": {
    "ExecuteTime": {
     "end_time": "2019-08-03T11:58:19.032699Z",
     "start_time": "2019-08-03T10:16:17.723Z"
    },
    "hidden": true
   },
   "outputs": [],
   "source": [
    "import matplotlib.pyplot as plt\n",
    "import matplotlib.pyplot as plt\n",
    "from matplotlib.cm import get_cmap\n",
    "import math\n",
    "import numpy as np\n",
    "from sklearn.gaussian_process import GaussianProcessRegressor\n",
    "# name = \"Greys\"\n",
    "# cmap = get_cmap(name)  # type: matplotlib.colors.ListedColormap\n",
    "# colors = cmap  # type: list\n",
    "\n",
    "# # plt.set_prop_cycle(color=colors)\n",
    "\n",
    "# color_map = get_cmap('viridis')\n",
    "color_map = get_cmap('binary')\n",
    "\n",
    "\n",
    "\n",
    "# lambda_candidates = [  0,0.0000001,0.000001,0.00001,0.00003,0.00005,0.00008,0.0001,0.0005,0.001,0.0013,0.0015,0.0018,0.002,0.0025,0.003,0.005,0.006,0.007,0.008,0.01,0.015,0.02,0.03,0.05,0.1,0.15,0.2,0.5 ]\n",
    "\n",
    "\n",
    "# beta_candidates = [0,0.2,0.5,1,1.5,2,3,5,10]\n",
    "# beta_candidates = [i * 0.00001 for i in beta_candidates]\n",
    "\n",
    "for b in beta_candidates:\n",
    "    plot_use_x = []\n",
    "    plot_use_y = []\n",
    "    for i in range(len(lambda_candidates)):\n",
    "        lambda_parameter,(num,f1_score,acc_score,rec_score,pre_score,num_of_instance,explanations) = results[b][i]\n",
    "        plot_use_x.append(lambda_parameter)\n",
    "        plot_use_y.append(f1_score)\n",
    "    # for x,y in zip(plot_use_x,plot_use_y):\n",
    "    #     print(x,y)\n",
    "   \n",
    "    plt.plot(plot_use_x,plot_use_y,color=color_map(  math.sqrt(b*5000)  ))\n",
    "plt.legend([str(b) for b in beta_candidates], loc=(1.04,0))\n",
    "\n",
    "plt.ylabel('f1 score')\n",
    "plt.xlabel('lambda')\n",
    "\n",
    "plt.show()"
   ]
  },
  {
   "cell_type": "code",
   "execution_count": null,
   "metadata": {
    "ExecuteTime": {
     "end_time": "2019-08-03T11:58:19.034224Z",
     "start_time": "2019-08-03T10:16:17.725Z"
    },
    "hidden": true
   },
   "outputs": [],
   "source": [
    "import matplotlib.pyplot as plt\n",
    "\n",
    "color_map = get_cmap('binary')\n",
    "for b in beta_candidates:\n",
    "    plot_use_x = []\n",
    "    plot_use_y = []\n",
    "    for i in range(len(lambda_candidates)):\n",
    "        lambda_parameter,(num,f1_score,acc_score,rec_score,pre_score,num_of_instance,explanations) = results[b][i]\n",
    "        plot_use_x.append(lambda_parameter)\n",
    "        plot_use_y.append(num)\n",
    "    # for x,y in zip(plot_use_x,plot_use_y):\n",
    "    #     print(x,y)\n",
    "    plt.plot(plot_use_x,plot_use_y,color=color_map(  math.sqrt(b*1000)  ))\n",
    "plt.legend([str(b) for b in beta_candidates], loc=(1.04,0))\n",
    "\n",
    "plt.ylabel('num of rules')\n",
    "plt.xlabel('lambda')\n",
    "plt.xlim([0,0.01])\n",
    "plt.show()"
   ]
  },
  {
   "cell_type": "code",
   "execution_count": null,
   "metadata": {
    "ExecuteTime": {
     "end_time": "2019-08-03T11:58:19.036011Z",
     "start_time": "2019-08-03T10:16:17.728Z"
    },
    "hidden": true
   },
   "outputs": [],
   "source": [
    "score_list=[]\n",
    "for i,l in enumerate(lambda_candidates):\n",
    "    for b in beta_candidates:\n",
    "\n",
    "        lambda_parameter,(num,f1_score,acc_score,rec_score,pre_score,num_of_instance,explanations) = results[b][i]\n",
    "        score_list.append(  (l,b,num,f1_score,acc_score,rec_score,pre_score) )\n",
    "\n",
    "score_list = sorted(score_list,reverse=True,key=lambda x:x[4])\n",
    "print(score_list[0])\n",
    "l,b,num,f1_score,acc_score,rec_score,pre_score = score_list[0]\n",
    "print(\"the best lambda: \",l)\n",
    "print(\"the best beta:\",b)\n",
    "print(\"f1:\",f1_score,\" acc: \",acc_score,\" recall: \",rec_score,\" precision: \",pre_score)"
   ]
  },
  {
   "cell_type": "code",
   "execution_count": null,
   "metadata": {
    "ExecuteTime": {
     "end_time": "2019-07-18T04:51:50.665484Z",
     "start_time": "2019-07-18T04:51:50.578505Z"
    },
    "hidden": true
   },
   "outputs": [],
   "source": []
  },
  {
   "cell_type": "code",
   "execution_count": null,
   "metadata": {
    "ExecuteTime": {
     "end_time": "2019-08-03T11:58:19.038786Z",
     "start_time": "2019-08-03T10:16:17.732Z"
    },
    "hidden": true
   },
   "outputs": [],
   "source": [
    "for b in results:\n",
    "    print(b)"
   ]
  },
  {
   "cell_type": "code",
   "execution_count": null,
   "metadata": {
    "ExecuteTime": {
     "end_time": "2019-08-03T11:58:19.041710Z",
     "start_time": "2019-08-03T10:16:17.745Z"
    },
    "hidden": true
   },
   "outputs": [],
   "source": [
    "from pprint import pprint as pr\n",
    "pr(results)"
   ]
  },
  {
   "cell_type": "code",
   "execution_count": null,
   "metadata": {
    "hidden": true
   },
   "outputs": [],
   "source": []
  }
 ],
 "metadata": {
  "kernel_info": {
   "name": "python3"
  },
  "kernelspec": {
   "display_name": "Python 3",
   "language": "python",
   "name": "python3"
  },
  "language_info": {
   "codemirror_mode": {
    "name": "ipython",
    "version": 3
   },
   "file_extension": ".py",
   "mimetype": "text/x-python",
   "name": "python",
   "nbconvert_exporter": "python",
   "pygments_lexer": "ipython3",
   "version": "3.7.3"
  },
  "nteract": {
   "version": "nteract-on-jupyter@2.0.12"
  }
 },
 "nbformat": 4,
 "nbformat_minor": 2
}
