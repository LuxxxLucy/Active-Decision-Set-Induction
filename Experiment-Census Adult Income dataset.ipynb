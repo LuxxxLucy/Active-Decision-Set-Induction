{
 "cells": [
  {
   "cell_type": "markdown",
   "metadata": {},
   "source": [
    "# Experiments\n"
   ]
  },
  {
   "cell_type": "code",
   "execution_count": 1,
   "metadata": {
    "ExecuteTime": {
     "end_time": "2019-09-15T04:18:42.100161Z",
     "start_time": "2019-09-15T04:18:42.085838Z"
    }
   },
   "outputs": [
    {
     "data": {
      "text/plain": [
       "True"
      ]
     },
     "execution_count": 1,
     "metadata": {},
     "output_type": "execute_result"
    }
   ],
   "source": [
    "# Sanity check of your system and your brain :)\n",
    "\"A\" == \"A\""
   ]
  },
  {
   "cell_type": "code",
   "execution_count": 2,
   "metadata": {
    "ExecuteTime": {
     "end_time": "2019-09-15T04:18:42.640380Z",
     "start_time": "2019-09-15T04:18:42.403168Z"
    }
   },
   "outputs": [],
   "source": [
    "# for reproducibility\n",
    "import numpy as np\n",
    "random_seed=42\n",
    "np.random.seed(random_seed)"
   ]
  },
  {
   "cell_type": "markdown",
   "metadata": {
    "ExecuteTime": {
     "end_time": "2019-05-05T21:14:49.104379Z",
     "start_time": "2019-05-05T21:14:48.015227Z"
    }
   },
   "source": [
    "# Preparing data and black (In Orange framework, it is simple and good)\n",
    "\n",
    "import the dataset, train the classfier"
   ]
  },
  {
   "cell_type": "code",
   "execution_count": 3,
   "metadata": {
    "ExecuteTime": {
     "end_time": "2019-09-15T04:18:44.874254Z",
     "start_time": "2019-09-15T04:18:43.138713Z"
    }
   },
   "outputs": [
    {
     "ename": "FileNotFoundError",
     "evalue": "[Errno 2] File b'./datasets/adult/adult_2.csv' does not exist: b'./datasets/adult/adult_2.csv'",
     "output_type": "error",
     "traceback": [
      "\u001b[0;31m---------------------------------------------------------------------------\u001b[0m",
      "\u001b[0;31mFileNotFoundError\u001b[0m                         Traceback (most recent call last)",
      "\u001b[0;32m<ipython-input-3-6fc1d90a8f21>\u001b[0m in \u001b[0;36m<module>\u001b[0;34m\u001b[0m\n\u001b[1;32m      7\u001b[0m \u001b[0;34m\u001b[0m\u001b[0m\n\u001b[1;32m      8\u001b[0m \u001b[0;34m\u001b[0m\u001b[0m\n\u001b[0;32m----> 9\u001b[0;31m \u001b[0mdata_table\u001b[0m\u001b[0;34m,\u001b[0m\u001b[0mtest_data_table\u001b[0m \u001b[0;34m=\u001b[0m \u001b[0mprepare_adult_dataset\u001b[0m\u001b[0;34m(\u001b[0m\u001b[0;34m)\u001b[0m\u001b[0;34m\u001b[0m\u001b[0;34m\u001b[0m\u001b[0m\n\u001b[0m\u001b[1;32m     10\u001b[0m \u001b[0;34m\u001b[0m\u001b[0m\n\u001b[1;32m     11\u001b[0m \u001b[0;31m# data_table,test_data_table = prepare_german_dataset()\u001b[0m\u001b[0;34m\u001b[0m\u001b[0;34m\u001b[0m\u001b[0;34m\u001b[0m\u001b[0m\n",
      "\u001b[0;32m~/Desktop/workspace/Descriptive-Induction-ML/prepare_dataset.py\u001b[0m in \u001b[0;36mprepare_adult_dataset\u001b[0;34m(filename, path_data)\u001b[0m\n\u001b[1;32m    141\u001b[0m     \u001b[0mnp\u001b[0m\u001b[0;34m.\u001b[0m\u001b[0mrandom\u001b[0m\u001b[0;34m.\u001b[0m\u001b[0mseed\u001b[0m\u001b[0;34m(\u001b[0m\u001b[0;36m42\u001b[0m\u001b[0;34m)\u001b[0m\u001b[0;34m\u001b[0m\u001b[0;34m\u001b[0m\u001b[0m\n\u001b[1;32m    142\u001b[0m     \u001b[0;31m# Read Dataset\u001b[0m\u001b[0;34m\u001b[0m\u001b[0;34m\u001b[0m\u001b[0;34m\u001b[0m\u001b[0m\n\u001b[0;32m--> 143\u001b[0;31m     \u001b[0mdf\u001b[0m \u001b[0;34m=\u001b[0m \u001b[0mpd\u001b[0m\u001b[0;34m.\u001b[0m\u001b[0mread_csv\u001b[0m\u001b[0;34m(\u001b[0m\u001b[0mpath_data\u001b[0m \u001b[0;34m+\u001b[0m \u001b[0mfilename\u001b[0m\u001b[0;34m,\u001b[0m \u001b[0mdelimiter\u001b[0m\u001b[0;34m=\u001b[0m\u001b[0;34m','\u001b[0m\u001b[0;34m,\u001b[0m \u001b[0mskipinitialspace\u001b[0m\u001b[0;34m=\u001b[0m\u001b[0;32mTrue\u001b[0m\u001b[0;34m)\u001b[0m\u001b[0;34m\u001b[0m\u001b[0;34m\u001b[0m\u001b[0m\n\u001b[0m\u001b[1;32m    144\u001b[0m \u001b[0;34m\u001b[0m\u001b[0m\n\u001b[1;32m    145\u001b[0m     \u001b[0;31m# Remove useless columns\u001b[0m\u001b[0;34m\u001b[0m\u001b[0;34m\u001b[0m\u001b[0;34m\u001b[0m\u001b[0m\n",
      "\u001b[0;32m~/anaconda3/lib/python3.7/site-packages/pandas/io/parsers.py\u001b[0m in \u001b[0;36mparser_f\u001b[0;34m(filepath_or_buffer, sep, delimiter, header, names, index_col, usecols, squeeze, prefix, mangle_dupe_cols, dtype, engine, converters, true_values, false_values, skipinitialspace, skiprows, skipfooter, nrows, na_values, keep_default_na, na_filter, verbose, skip_blank_lines, parse_dates, infer_datetime_format, keep_date_col, date_parser, dayfirst, iterator, chunksize, compression, thousands, decimal, lineterminator, quotechar, quoting, doublequote, escapechar, comment, encoding, dialect, tupleize_cols, error_bad_lines, warn_bad_lines, delim_whitespace, low_memory, memory_map, float_precision)\u001b[0m\n\u001b[1;32m    700\u001b[0m                     skip_blank_lines=skip_blank_lines)\n\u001b[1;32m    701\u001b[0m \u001b[0;34m\u001b[0m\u001b[0m\n\u001b[0;32m--> 702\u001b[0;31m         \u001b[0;32mreturn\u001b[0m \u001b[0m_read\u001b[0m\u001b[0;34m(\u001b[0m\u001b[0mfilepath_or_buffer\u001b[0m\u001b[0;34m,\u001b[0m \u001b[0mkwds\u001b[0m\u001b[0;34m)\u001b[0m\u001b[0;34m\u001b[0m\u001b[0;34m\u001b[0m\u001b[0m\n\u001b[0m\u001b[1;32m    703\u001b[0m \u001b[0;34m\u001b[0m\u001b[0m\n\u001b[1;32m    704\u001b[0m     \u001b[0mparser_f\u001b[0m\u001b[0;34m.\u001b[0m\u001b[0m__name__\u001b[0m \u001b[0;34m=\u001b[0m \u001b[0mname\u001b[0m\u001b[0;34m\u001b[0m\u001b[0;34m\u001b[0m\u001b[0m\n",
      "\u001b[0;32m~/anaconda3/lib/python3.7/site-packages/pandas/io/parsers.py\u001b[0m in \u001b[0;36m_read\u001b[0;34m(filepath_or_buffer, kwds)\u001b[0m\n\u001b[1;32m    427\u001b[0m \u001b[0;34m\u001b[0m\u001b[0m\n\u001b[1;32m    428\u001b[0m     \u001b[0;31m# Create the parser.\u001b[0m\u001b[0;34m\u001b[0m\u001b[0;34m\u001b[0m\u001b[0;34m\u001b[0m\u001b[0m\n\u001b[0;32m--> 429\u001b[0;31m     \u001b[0mparser\u001b[0m \u001b[0;34m=\u001b[0m \u001b[0mTextFileReader\u001b[0m\u001b[0;34m(\u001b[0m\u001b[0mfilepath_or_buffer\u001b[0m\u001b[0;34m,\u001b[0m \u001b[0;34m**\u001b[0m\u001b[0mkwds\u001b[0m\u001b[0;34m)\u001b[0m\u001b[0;34m\u001b[0m\u001b[0;34m\u001b[0m\u001b[0m\n\u001b[0m\u001b[1;32m    430\u001b[0m \u001b[0;34m\u001b[0m\u001b[0m\n\u001b[1;32m    431\u001b[0m     \u001b[0;32mif\u001b[0m \u001b[0mchunksize\u001b[0m \u001b[0;32mor\u001b[0m \u001b[0miterator\u001b[0m\u001b[0;34m:\u001b[0m\u001b[0;34m\u001b[0m\u001b[0;34m\u001b[0m\u001b[0m\n",
      "\u001b[0;32m~/anaconda3/lib/python3.7/site-packages/pandas/io/parsers.py\u001b[0m in \u001b[0;36m__init__\u001b[0;34m(self, f, engine, **kwds)\u001b[0m\n\u001b[1;32m    893\u001b[0m             \u001b[0mself\u001b[0m\u001b[0;34m.\u001b[0m\u001b[0moptions\u001b[0m\u001b[0;34m[\u001b[0m\u001b[0;34m'has_index_names'\u001b[0m\u001b[0;34m]\u001b[0m \u001b[0;34m=\u001b[0m \u001b[0mkwds\u001b[0m\u001b[0;34m[\u001b[0m\u001b[0;34m'has_index_names'\u001b[0m\u001b[0;34m]\u001b[0m\u001b[0;34m\u001b[0m\u001b[0;34m\u001b[0m\u001b[0m\n\u001b[1;32m    894\u001b[0m \u001b[0;34m\u001b[0m\u001b[0m\n\u001b[0;32m--> 895\u001b[0;31m         \u001b[0mself\u001b[0m\u001b[0;34m.\u001b[0m\u001b[0m_make_engine\u001b[0m\u001b[0;34m(\u001b[0m\u001b[0mself\u001b[0m\u001b[0;34m.\u001b[0m\u001b[0mengine\u001b[0m\u001b[0;34m)\u001b[0m\u001b[0;34m\u001b[0m\u001b[0;34m\u001b[0m\u001b[0m\n\u001b[0m\u001b[1;32m    896\u001b[0m \u001b[0;34m\u001b[0m\u001b[0m\n\u001b[1;32m    897\u001b[0m     \u001b[0;32mdef\u001b[0m \u001b[0mclose\u001b[0m\u001b[0;34m(\u001b[0m\u001b[0mself\u001b[0m\u001b[0;34m)\u001b[0m\u001b[0;34m:\u001b[0m\u001b[0;34m\u001b[0m\u001b[0;34m\u001b[0m\u001b[0m\n",
      "\u001b[0;32m~/anaconda3/lib/python3.7/site-packages/pandas/io/parsers.py\u001b[0m in \u001b[0;36m_make_engine\u001b[0;34m(self, engine)\u001b[0m\n\u001b[1;32m   1120\u001b[0m     \u001b[0;32mdef\u001b[0m \u001b[0m_make_engine\u001b[0m\u001b[0;34m(\u001b[0m\u001b[0mself\u001b[0m\u001b[0;34m,\u001b[0m \u001b[0mengine\u001b[0m\u001b[0;34m=\u001b[0m\u001b[0;34m'c'\u001b[0m\u001b[0;34m)\u001b[0m\u001b[0;34m:\u001b[0m\u001b[0;34m\u001b[0m\u001b[0;34m\u001b[0m\u001b[0m\n\u001b[1;32m   1121\u001b[0m         \u001b[0;32mif\u001b[0m \u001b[0mengine\u001b[0m \u001b[0;34m==\u001b[0m \u001b[0;34m'c'\u001b[0m\u001b[0;34m:\u001b[0m\u001b[0;34m\u001b[0m\u001b[0;34m\u001b[0m\u001b[0m\n\u001b[0;32m-> 1122\u001b[0;31m             \u001b[0mself\u001b[0m\u001b[0;34m.\u001b[0m\u001b[0m_engine\u001b[0m \u001b[0;34m=\u001b[0m \u001b[0mCParserWrapper\u001b[0m\u001b[0;34m(\u001b[0m\u001b[0mself\u001b[0m\u001b[0;34m.\u001b[0m\u001b[0mf\u001b[0m\u001b[0;34m,\u001b[0m \u001b[0;34m**\u001b[0m\u001b[0mself\u001b[0m\u001b[0;34m.\u001b[0m\u001b[0moptions\u001b[0m\u001b[0;34m)\u001b[0m\u001b[0;34m\u001b[0m\u001b[0;34m\u001b[0m\u001b[0m\n\u001b[0m\u001b[1;32m   1123\u001b[0m         \u001b[0;32melse\u001b[0m\u001b[0;34m:\u001b[0m\u001b[0;34m\u001b[0m\u001b[0;34m\u001b[0m\u001b[0m\n\u001b[1;32m   1124\u001b[0m             \u001b[0;32mif\u001b[0m \u001b[0mengine\u001b[0m \u001b[0;34m==\u001b[0m \u001b[0;34m'python'\u001b[0m\u001b[0;34m:\u001b[0m\u001b[0;34m\u001b[0m\u001b[0;34m\u001b[0m\u001b[0m\n",
      "\u001b[0;32m~/anaconda3/lib/python3.7/site-packages/pandas/io/parsers.py\u001b[0m in \u001b[0;36m__init__\u001b[0;34m(self, src, **kwds)\u001b[0m\n\u001b[1;32m   1851\u001b[0m         \u001b[0mkwds\u001b[0m\u001b[0;34m[\u001b[0m\u001b[0;34m'usecols'\u001b[0m\u001b[0;34m]\u001b[0m \u001b[0;34m=\u001b[0m \u001b[0mself\u001b[0m\u001b[0;34m.\u001b[0m\u001b[0musecols\u001b[0m\u001b[0;34m\u001b[0m\u001b[0;34m\u001b[0m\u001b[0m\n\u001b[1;32m   1852\u001b[0m \u001b[0;34m\u001b[0m\u001b[0m\n\u001b[0;32m-> 1853\u001b[0;31m         \u001b[0mself\u001b[0m\u001b[0;34m.\u001b[0m\u001b[0m_reader\u001b[0m \u001b[0;34m=\u001b[0m \u001b[0mparsers\u001b[0m\u001b[0;34m.\u001b[0m\u001b[0mTextReader\u001b[0m\u001b[0;34m(\u001b[0m\u001b[0msrc\u001b[0m\u001b[0;34m,\u001b[0m \u001b[0;34m**\u001b[0m\u001b[0mkwds\u001b[0m\u001b[0;34m)\u001b[0m\u001b[0;34m\u001b[0m\u001b[0;34m\u001b[0m\u001b[0m\n\u001b[0m\u001b[1;32m   1854\u001b[0m         \u001b[0mself\u001b[0m\u001b[0;34m.\u001b[0m\u001b[0munnamed_cols\u001b[0m \u001b[0;34m=\u001b[0m \u001b[0mself\u001b[0m\u001b[0;34m.\u001b[0m\u001b[0m_reader\u001b[0m\u001b[0;34m.\u001b[0m\u001b[0munnamed_cols\u001b[0m\u001b[0;34m\u001b[0m\u001b[0;34m\u001b[0m\u001b[0m\n\u001b[1;32m   1855\u001b[0m \u001b[0;34m\u001b[0m\u001b[0m\n",
      "\u001b[0;32mpandas/_libs/parsers.pyx\u001b[0m in \u001b[0;36mpandas._libs.parsers.TextReader.__cinit__\u001b[0;34m()\u001b[0m\n",
      "\u001b[0;32mpandas/_libs/parsers.pyx\u001b[0m in \u001b[0;36mpandas._libs.parsers.TextReader._setup_parser_source\u001b[0;34m()\u001b[0m\n",
      "\u001b[0;31mFileNotFoundError\u001b[0m: [Errno 2] File b'./datasets/adult/adult_2.csv' does not exist: b'./datasets/adult/adult_2.csv'"
     ]
    }
   ],
   "source": [
    "%load_ext autoreload\n",
    "%autoreload 2\n",
    "import numpy as np\n",
    "\n",
    "from prepare_dataset import prepare_adult_dataset,prepare_german_dataset,prepare_compas_dataset,prepare_pima_dataset,train_test_split_data\n",
    "from utils import encoder_from_datatable\n",
    "\n",
    "\n",
    "data_table,test_data_table = prepare_adult_dataset()\n",
    "\n",
    "# data_table,test_data_table = prepare_german_dataset()\n",
    "\n",
    "# data_table,test_data_table = prepare_compas_dataset()\n",
    "\n",
    "# data_table, vali_data_table = train_test_split_data(data_table)\n",
    "# data_table,test_data_table = prepare_pima_dataset()\n",
    "\n",
    "print(\"shape of train set\", data_table.X.shape)\n",
    "# print(\"instances of evaluation set\", vali_data_table.X.shape[0])\n",
    "print(\"shape of test set\", test_data_table.X.shape)"
   ]
  },
  {
   "cell_type": "code",
   "execution_count": 4,
   "metadata": {
    "ExecuteTime": {
     "end_time": "2019-09-15T04:19:13.294908Z",
     "start_time": "2019-09-15T04:19:13.240972Z"
    }
   },
   "outputs": [
    {
     "ename": "NameError",
     "evalue": "name 'data_table' is not defined",
     "output_type": "error",
     "traceback": [
      "\u001b[0;31m---------------------------------------------------------------------------\u001b[0m",
      "\u001b[0;31mNameError\u001b[0m                                 Traceback (most recent call last)",
      "\u001b[0;32m<ipython-input-4-e1335892c3c0>\u001b[0m in \u001b[0;36m<module>\u001b[0;34m\u001b[0m\n\u001b[0;32m----> 1\u001b[0;31m \u001b[0mprint\u001b[0m\u001b[0;34m(\u001b[0m\u001b[0mdata_table\u001b[0m\u001b[0;34m.\u001b[0m\u001b[0mdomain\u001b[0m\u001b[0;34m)\u001b[0m\u001b[0;34m\u001b[0m\u001b[0;34m\u001b[0m\u001b[0m\n\u001b[0m\u001b[1;32m      2\u001b[0m \u001b[0mprint\u001b[0m\u001b[0;34m(\u001b[0m\u001b[0mdata_table\u001b[0m\u001b[0;34m[\u001b[0m\u001b[0;36m0\u001b[0m\u001b[0;34m:\u001b[0m\u001b[0;36m10\u001b[0m\u001b[0;34m]\u001b[0m\u001b[0;34m)\u001b[0m\u001b[0;34m\u001b[0m\u001b[0;34m\u001b[0m\u001b[0m\n",
      "\u001b[0;31mNameError\u001b[0m: name 'data_table' is not defined"
     ]
    }
   ],
   "source": [
    "print(data_table.domain)\n",
    "print(data_table[0:10])"
   ]
  },
  {
   "cell_type": "code",
   "execution_count": 5,
   "metadata": {
    "ExecuteTime": {
     "end_time": "2019-08-31T09:08:21.177985Z",
     "start_time": "2019-08-31T09:06:26.013021Z"
    }
   },
   "outputs": [
    {
     "name": "stdout",
     "output_type": "stream",
     "text": [
      "now start sanity-check\n",
      "the first row of the dataset is (orginal form):\n",
      " [20, Private, Some-college, Never-married, Other-service, Own-child, White, Female, 0, 0, 32, United-States | <=50K]\n",
      "the predition of blackbox on the first row:\n",
      " [0.]\n",
      "train set data set size, (43957, 12)\n",
      "test setdata set size, (4885, 12)\n",
      "data set size, [[20, Private, Some-college, Never-married, Other-service, Own-child, White, Female, 0, 0, 32, United-States | <=50K],\n",
      " [47, Private, Bachelors, Never-married, Sales, Own-child, White, Male, 0, 0, 40, United-States | <=50K],\n",
      " [35, Local-gov, HS-grad, Never-married, Adm-clerical, Unmarried, Amer-Indian-Eskimo, Male, 0, 0, 55, United-States | <=50K],\n",
      " [30, Private, Bachelors, Never-married, Sales, Own-child, White, Male, 0, 0, 40, United-States | >50K],\n",
      " [31, Self-emp-not-inc, Assoc-acdm, Married-civ-spouse, Other-service, Wife, White, Female, 0, 0, 35, United-States | >50K]]\n"
     ]
    }
   ],
   "source": [
    "\n",
    "from prepare_blackbox import train_classifier\n",
    "\n",
    "black_box_model = train_classifier(data_table,classifier_method='dnn',random_seed=random_seed)\n",
    "# black_box_model = train_classifier(data_table,classifier_method='rf',random_seed=random_seed)\n",
    "\n",
    "\n",
    "black_box = lambda x: black_box_model.predict(x)\n",
    "# black_box = lambda x:  c.predict(scikit_encoder.transform(x))\n",
    "\n",
    "print(\"now start sanity-check\")\n",
    "print(\"the first row of the dataset is (orginal form):\\n\", data_table[0] )\n",
    "print(\"the predition of blackbox on the first row:\\n\", black_box( [data_table.X[0]]  )   )\n",
    "\n",
    "print(\"train set data set size,\",data_table.X.shape)\n",
    "print(\"test setdata set size,\",test_data_table.X.shape)\n",
    "print(\"data set size,\",data_table[:5])"
   ]
  },
  {
   "cell_type": "markdown",
   "metadata": {},
   "source": [
    "A sanity check of train and test accuracy"
   ]
  },
  {
   "cell_type": "code",
   "execution_count": 10,
   "metadata": {
    "ExecuteTime": {
     "end_time": "2019-08-31T10:58:56.318011Z",
     "start_time": "2019-08-31T10:58:53.336113Z"
    }
   },
   "outputs": [
    {
     "name": "stdout",
     "output_type": "stream",
     "text": [
      "Train acc 0.9280660645630957\n",
      "Test acc 0.8354145342886387\n",
      "acc on training set 0.9280660645630957\n",
      "f1 on training set 0.8416149068322982\n",
      "recall on training set 0.7989538754160723\n",
      "precision on training set 0.8890887924648111\n",
      "acc on test set 0.8354145342886387\n",
      "f1 on test set 0.6375112714156899\n",
      "recall on test set 0.6032423208191127\n",
      "precision on test set 0.6759082217973231\n"
     ]
    }
   ],
   "source": [
    "from sklearn.metrics import accuracy_score,f1_score,precision_score,recall_score\n",
    "import sklearn\n",
    "# predict_fn = lambda x: aml.predict(H2OFrame(x)).as_data_frame().iloc[:,0].to_numpy()\n",
    "\n",
    "predict_fn = black_box\n",
    "\n",
    "print('Train acc', accuracy_score(data_table.Y, predict_fn(data_table.X)))\n",
    "print('Test acc', accuracy_score(test_data_table.Y, predict_fn(test_data_table.X)))\n",
    "\n",
    "print('acc on training set', sklearn.metrics.accuracy_score(data_table.Y, predict_fn(data_table.X)))\n",
    "print('f1 on training set', sklearn.metrics.f1_score(data_table.Y, predict_fn(data_table.X)))\n",
    "print('recall on training set', sklearn.metrics.recall_score(data_table.Y, predict_fn(data_table.X)))\n",
    "print('precision on training set', sklearn.metrics.precision_score(data_table.Y, predict_fn(data_table.X)))\n",
    "\n",
    "print('acc on test set', sklearn.metrics.accuracy_score(test_data_table.Y, predict_fn(test_data_table.X)))\n",
    "print('f1 on test set', sklearn.metrics.f1_score(test_data_table.Y, predict_fn(test_data_table.X)))\n",
    "print('recall on test set', sklearn.metrics.recall_score(test_data_table.Y, predict_fn(test_data_table.X)))\n",
    "print('precision on test set', sklearn.metrics.precision_score(test_data_table.Y, predict_fn(test_data_table.X)))\n",
    "\n",
    "\n",
    "# print('test f1', f1_score(y_test, predict_fn(X_test)))\n",
    "# print('test recall',recall_score(y_test, predict_fn(X_test)))\n",
    "# print('test precision', precision_score(y_test, predict_fn(X_test)))\n"
   ]
  },
  {
   "cell_type": "code",
   "execution_count": 11,
   "metadata": {
    "ExecuteTime": {
     "end_time": "2019-08-31T10:58:58.047622Z",
     "start_time": "2019-08-31T10:58:56.321860Z"
    }
   },
   "outputs": [
    {
     "name": "stdout",
     "output_type": "stream",
     "text": [
      "--\n",
      "[0. 0. 0. 0. 1.]\n",
      "--\n",
      "--\n",
      "[0. 0. 1. 0. 1.]\n",
      "--\n",
      "[[20, Private, Some-college, Never-married, Other-service, Own-child, White, Female, 0, 0, 32, United-States | <=50K],\n",
      " [47, Private, Bachelors, Never-married, Sales, Own-child, White, Male, 0, 0, 40, United-States | <=50K],\n",
      " [35, Local-gov, HS-grad, Never-married, Adm-clerical, Unmarried, Amer-Indian-Eskimo, Male, 0, 0, 55, United-States | <=50K],\n",
      " [30, Private, Bachelors, Never-married, Sales, Own-child, White, Male, 0, 0, 40, United-States | <=50K],\n",
      " [31, Self-emp-not-inc, Assoc-acdm, Married-civ-spouse, Other-service, Wife, White, Female, 0, 0, 35, United-States | >50K]]\n",
      "[[20.  3. 15.  4.  7.  3.  4.  0.  0.  0. 32. 38.]\n",
      " [47.  3.  9.  4. 11.  3.  4.  1.  0.  0. 40. 38.]\n",
      " [35.  1. 11.  4.  0.  4.  0.  1.  0.  0. 55. 38.]\n",
      " [30.  3.  9.  4. 11.  3.  4.  1.  0.  0. 40. 38.]\n",
      " [31.  5.  7.  2.  7.  5.  4.  0.  0.  0. 35. 38.]]\n",
      "43957\n",
      "4885\n",
      "sanity check, of acc,should be 100 1.0\n"
     ]
    }
   ],
   "source": [
    "black_box = predict_fn\n",
    "\n",
    "from utils import label_with_blackbox\n",
    "\n",
    "predicted_data_table = label_with_blackbox(data_table,black_box)\n",
    "\n",
    "predicted_test_data_table = label_with_blackbox(test_data_table,black_box)\n",
    "\n",
    "\n",
    "print(predicted_data_table[:5])\n",
    "print(predicted_data_table.X[:5])\n",
    "print(predicted_data_table.X.shape[0])\n",
    "print(predicted_test_data_table.X.shape[0])\n",
    "\n",
    "print('sanity check, of acc,should be 100', accuracy_score(predicted_data_table.Y, predict_fn(predicted_data_table.X)))"
   ]
  },
  {
   "cell_type": "code",
   "execution_count": 14,
   "metadata": {
    "ExecuteTime": {
     "end_time": "2019-08-31T10:59:13.993323Z",
     "start_time": "2019-08-31T10:59:13.925289Z"
    }
   },
   "outputs": [],
   "source": [
    "# from sklearn.svm import SVC\n",
    "\n",
    "# c_passive= SVC(gamma='scale')\n",
    "\n",
    "# # c = xgb.XGBRegressor(objective ='reg:linear', colsample_bytree = 0.3, learning_rate = 0.1, max_depth = 5, alpha = 10, n_estimators = 10fr\n",
    "# # c_passive.fit(scikit_encoder.transform(predicted_data_table.X), predicted_data_table.Y)\n",
    "# from sklearn.compose import make_column_transformer\n",
    "# from sklearn.preprocessing import StandardScaler, OneHotEncoder,Normalizer\n",
    "\n",
    "# categorical_features_idx = [i for i,a in enumerate(data_table.domain.attributes) if a.is_discrete]\n",
    "# continuous_features_idx = [i for i,a in enumerate(data_table.domain.attributes) if a.is_continuous]\n",
    "\n",
    "# scikit_encoder = make_column_transformer( ( OneHotEncoder(categories='auto',sparse=False),categorical_features_idx),\n",
    "# (StandardScaler(), continuous_features_idx),\n",
    "#                     remainder = 'passthrough'\n",
    "#                         )\n",
    "\n",
    "# encoder.fit(predicted_data_table.X)\n",
    "# c_passive.fit(encoder.transform(predicted_data_table.X), predicted_data_table.Y)\n",
    "# black_prediction = c_passive.predict(encoder.transform(predicted_test_data_table.X))\n",
    "\n",
    "\n",
    "# print(sum(predicted_test_data_table.Y) )\n",
    "\n",
    "# import sklearn\n",
    "# print(\"traning a blackbox to approximate a blackbox, with original dataset\")\n",
    "# print('Blackbox and our, f1 score', sklearn.metrics.f1_score(predicted_test_data_table.Y, black_prediction))\n",
    "# print('Blackbox and our, acc', sklearn.metrics.accuracy_score(predicted_test_data_table.Y, black_prediction))\n",
    "# print('Blackbox and our,recall', sklearn.metrics.recall_score(predicted_test_data_table.Y, black_prediction))\n",
    "# print('Blackbox and our,precision', sklearn.metrics.precision_score(predicted_test_data_table.Y, black_prediction))"
   ]
  },
  {
   "cell_type": "markdown",
   "metadata": {
    "heading_collapsed": true
   },
   "source": [
    "# Hyperparameter\n",
    "two parameter, \n",
    "\n",
    "1. $\\beta$ controls how many new instances need to generate and query\n",
    "2. $\\lambda$ controls the interpretability: a weight constant for the number of rules in the objective function"
   ]
  },
  {
   "cell_type": "code",
   "execution_count": 15,
   "metadata": {
    "ExecuteTime": {
     "end_time": "2019-08-31T17:07:52.634047Z",
     "start_time": "2019-08-31T10:59:15.397805Z"
    },
    "hidden": true
   },
   "outputs": [
    {
     "name": "stdout",
     "output_type": "stream",
     "text": [
      "The autoreload extension is already loaded. To reload it, use:\n",
      "  %reload_ext autoreload\n"
     ]
    },
    {
     "data": {
      "application/vnd.jupyter.widget-view+json": {
       "model_id": "427e980b88964ddd9270e7099a3e67c0",
       "version_major": 2,
       "version_minor": 0
      },
      "text/plain": [
       "HBox(children=(IntProgress(value=0, max=11), HTML(value='')))"
      ]
     },
     "metadata": {},
     "output_type": "display_data"
    },
    {
     "name": "stdout",
     "output_type": "stream",
     "text": [
      "init transformer okay!\n",
      "new cached!\n"
     ]
    },
    {
     "data": {
      "application/vnd.jupyter.widget-view+json": {
       "model_id": "218f9d7ef137430cb0247621768d3bb1",
       "version_major": 2,
       "version_minor": 0
      },
      "text/plain": [
       "HBox(children=(IntProgress(value=0, max=1000), HTML(value='')))"
      ]
     },
     "metadata": {},
     "output_type": "display_data"
    },
    {
     "name": "stdout",
     "output_type": "stream",
     "text": [
      "best solution found in iteration 411\n",
      "Now print Error Log\n",
      "at iteration: 920 happens the following error\n",
      "('no plausible actions, len length of actions', 0, 'in the mode of ', 'REMOVE_CONDITION')\n",
      "parameter:  0.0 0 metrics 0 0.0 0.7858751279426817 0.0 0.0 0\n",
      "parameter:  0.0 1 metrics 1 0.07488584474885845 0.7926305015353122 0.03919694072657744 0.8367346938775511 0\n",
      "parameter:  0.0 2 metrics 2 0.11953612845673506 0.7979529170931423 0.06405353728489484 0.8933333333333333 0\n",
      "parameter:  0.0 3 metrics 3 0.6755260243632337 0.8800409416581372 0.5831739961759083 0.8026315789473685 0\n",
      "parameter:  0.0 4 metrics 4 0.6813186813186812 0.8812691914022518 0.5927342256214149 0.8010335917312662 0\n",
      "parameter:  0.0 5 metrics 5 0.6809445359692478 0.881064483111566 0.5927342256214149 0.8 0\n",
      "parameter:  0.0 6 metrics 6 0.6805708013172338 0.8808597748208803 0.5927342256214149 0.7989690721649485 0\n",
      "parameter:  0.0 7 metrics 7 0.6798245614035087 0.8804503582395087 0.5927342256214149 0.7969151670951157 0\n",
      "parameter:  0.0 8 metrics 8 0.6786885245901639 0.8796315250767656 0.5936902485659655 0.7920918367346939 0\n",
      "parameter:  0.0 9 metrics 9 0.6779475982532751 0.8792221084953941 0.5936902485659655 0.7900763358778626 0\n",
      "parameter:  0.0 10 metrics 10 0.6779475982532751 0.8792221084953941 0.5936902485659655 0.7900763358778626 0\n",
      "parameter:  0.0 11 metrics 11 0.6804798255179935 0.8800409416581372 0.5965583173996176 0.7918781725888325 0\n",
      "parameter:  0.0 12 metrics 12 0.680108991825613 0.8798362333674514 0.5965583173996176 0.7908745247148289 0\n",
      "parameter:  0.0 13 metrics 13 0.6748329621380846 0.8804503582395087 0.5793499043977055 0.808 0\n",
      "parameter:  0.0 14 metrics 14 0.6748329621380846 0.8804503582395087 0.5793499043977055 0.808 0\n",
      "parameter:  0.0 15 metrics 15 0.6744704570791528 0.8804503582395087 0.5783938814531548 0.8088235294117647 0\n",
      "parameter:  0.0 16 metrics 16 0.6744704570791528 0.8804503582395087 0.5783938814531548 0.8088235294117647 0\n",
      "parameter:  0.0 17 metrics 17 0.6865186789388197 0.8814738996929375 0.6061185468451242 0.7915106117353309 0\n",
      "parameter:  0.0 18 metrics 18 0.6869565217391305 0.8820880245649949 0.6042065009560229 0.7959697732997482 0\n",
      "parameter:  0.0 19 metrics 19 0.69676048858205 0.8831115660184238 0.627151051625239 0.7837514934289128 0\n",
      "parameter:  0.0 20 metrics 20 0.69676048858205 0.8831115660184238 0.627151051625239 0.7837514934289128 0\n",
      "parameter:  0.0 21 metrics 21 0.6975013290802764 0.8835209825997953 0.627151051625239 0.7856287425149701 0\n",
      "parameter:  0.0 22 metrics 22 0.6975013290802764 0.8835209825997953 0.627151051625239 0.7856287425149701 0\n",
      "parameter:  0.0 23 metrics 23 0.6999468932554433 0.8843398157625384 0.630019120458891 0.7873357228195937 0\n",
      "parameter:  0.0 24 metrics 24 0.6992042440318301 0.8839303991811669 0.630019120458891 0.7854588796185935 0\n",
      "parameter:  0.0 25 metrics 25 0.6992042440318301 0.8839303991811669 0.630019120458891 0.7854588796185935 0\n",
      "parameter:  0.0 26 metrics 26 0.6968085106382979 0.8833162743091095 0.6261950286806883 0.7853717026378897 0\n",
      "parameter:  0.0 27 metrics 27 0.685337726523888 0.8827021494370522 0.5965583173996176 0.8051612903225807 0\n",
      "parameter:  0.0 28 metrics 28 0.6841530054644809 0.8816786079836233 0.5984703632887189 0.798469387755102 0\n",
      "parameter:  0.0 29 metrics 29 0.6907894736842105 0.8845445240532241 0.6022944550669216 0.8097686375321337 0\n",
      "parameter:  0.0 30 metrics 30 0.6907894736842105 0.8845445240532241 0.6022944550669216 0.8097686375321337 0\n",
      "parameter:  0.0 31 metrics 31 0.698051948051948 0.8857727737973388 0.6166347992351816 0.8042394014962594 0\n",
      "parameter:  0.0 32 metrics 32 0.698051948051948 0.8857727737973388 0.6166347992351816 0.8042394014962594 0\n",
      "parameter:  0.0 33 metrics 33 0.698051948051948 0.8857727737973388 0.6166347992351816 0.8042394014962594 0\n",
      "parameter:  0.0 34 metrics 34 0.698051948051948 0.8857727737973388 0.6166347992351816 0.8042394014962594 0\n",
      "parameter:  0.0 35 metrics 35 0.698051948051948 0.8857727737973388 0.6166347992351816 0.8042394014962594 0\n",
      "parameter:  0.0 36 metrics 36 0.698051948051948 0.8857727737973388 0.6166347992351816 0.8042394014962594 0\n",
      "parameter:  0.0 37 metrics 37 0.698051948051948 0.8857727737973388 0.6166347992351816 0.8042394014962594 0\n",
      "parameter:  0.0 38 metrics 38 0.698051948051948 0.8857727737973388 0.6166347992351816 0.8042394014962594 0\n",
      "parameter:  0.0 39 metrics 39 0.698051948051948 0.8857727737973388 0.6166347992351816 0.8042394014962594 0\n",
      "parameter:  0.0 40 metrics 40 0.698051948051948 0.8857727737973388 0.6166347992351816 0.8042394014962594 0\n",
      "parameter:  0.0 41 metrics 41 0.698051948051948 0.8857727737973388 0.6166347992351816 0.8042394014962594 0\n",
      "parameter:  0.0 42 metrics 42 0.698051948051948 0.8857727737973388 0.6166347992351816 0.8042394014962594 0\n",
      "parameter:  0.0 43 metrics 43 0.698051948051948 0.8857727737973388 0.6166347992351816 0.8042394014962594 0\n",
      "parameter:  0.0 44 metrics 44 0.6990815775256618 0.8859774820880245 0.6185468451242829 0.8037267080745342 0\n",
      "parameter:  0.0 45 metrics 45 0.6990815775256618 0.8859774820880245 0.6185468451242829 0.8037267080745342 0\n",
      "parameter:  0.0 46 metrics 46 0.6954148471615722 0.8857727737973388 0.6089866156787763 0.8104325699745547 0\n",
      "parameter:  0.0 47 metrics 47 0.6954148471615722 0.8857727737973388 0.6089866156787763 0.8104325699745547 0\n",
      "parameter:  0.0 48 metrics 48 0.6954148471615722 0.8857727737973388 0.6089866156787763 0.8104325699745547 0\n",
      "parameter:  0.0 49 metrics 49 0.6954148471615722 0.8857727737973388 0.6089866156787763 0.8104325699745547 0\n",
      "parameter:  0.0 50 metrics 50 0.6954148471615722 0.8857727737973388 0.6089866156787763 0.8104325699745547 0\n",
      "parameter:  0.0 51 metrics 51 0.6964577656675749 0.8859774820880245 0.6108986615678776 0.8098859315589354 0\n",
      "parameter:  0.0 52 metrics 52 0.6964577656675749 0.8859774820880245 0.6108986615678776 0.8098859315589354 0\n",
      "parameter:  0.0 53 metrics 53 0.6964577656675749 0.8859774820880245 0.6108986615678776 0.8098859315589354 0\n",
      "parameter:  0.0 54 metrics 54 0.6964577656675749 0.8859774820880245 0.6108986615678776 0.8098859315589354 0\n",
      "parameter:  0.0 55 metrics 55 0.6964577656675749 0.8859774820880245 0.6108986615678776 0.8098859315589354 0\n",
      "parameter:  0.0 56 metrics 56 0.6964577656675749 0.8859774820880245 0.6108986615678776 0.8098859315589354 0\n",
      "parameter:  0.0 57 metrics 57 0.6964577656675749 0.8859774820880245 0.6108986615678776 0.8098859315589354 0\n",
      "parameter:  0.0 58 metrics 58 0.7142857142857144 0.8902763561924258 0.6405353728489483 0.8072289156626506 0\n",
      "parameter:  0.0 59 metrics 59 0.7142857142857144 0.8902763561924258 0.6405353728489483 0.8072289156626506 0\n",
      "parameter:  0.0 60 metrics 60 0.7142857142857144 0.8902763561924258 0.6405353728489483 0.8072289156626506 0\n",
      "parameter:  0.0 61 metrics 61 0.7142857142857144 0.8902763561924258 0.6405353728489483 0.8072289156626506 0\n",
      "parameter:  0.0 62 metrics 62 0.7142857142857144 0.8902763561924258 0.6405353728489483 0.8072289156626506 0\n",
      "parameter:  0.0 63 metrics 63 0.7142857142857144 0.8902763561924258 0.6405353728489483 0.8072289156626506 0\n",
      "parameter:  0.0 64 metrics 64 0.7142857142857144 0.8902763561924258 0.6405353728489483 0.8072289156626506 0\n",
      "parameter:  0.0 65 metrics 65 0.7146666666666667 0.8904810644831116 0.6405353728489483 0.8082026537997588 0\n",
      "parameter:  0.0 66 metrics 66 0.7146666666666667 0.8904810644831116 0.6405353728489483 0.8082026537997588 0\n",
      "parameter:  0.0 67 metrics 67 0.7146666666666667 0.8904810644831116 0.6405353728489483 0.8082026537997588 0\n",
      "parameter:  0.0 68 metrics 68 0.6589057043073341 0.8800409416581372 0.5411089866156787 0.8422619047619048 0\n",
      "parameter:  0.0 69 metrics 69 0.6589057043073341 0.8800409416581372 0.5411089866156787 0.8422619047619048 0\n",
      "parameter:  0.0 70 metrics 70 0.6585223967422921 0.8798362333674514 0.5411089866156787 0.8410104011887073 0\n",
      "parameter:  0.0 71 metrics 71 0.6585223967422921 0.8798362333674514 0.5411089866156787 0.8410104011887073 0\n",
      "parameter:  0.0 72 metrics 72 0.6756302521008404 0.8814738996929375 0.5764818355640535 0.8159675236806495 0\n",
      "parameter:  0.0 73 metrics 73 0.6756302521008404 0.8814738996929375 0.5764818355640535 0.8159675236806495 0\n",
      "parameter:  0.0 74 metrics 74 0.711864406779661 0.8886386898669396 0.6424474187380497 0.7980997624703088 0\n",
      "parameter:  0.0 75 metrics 75 0.711864406779661 0.8886386898669396 0.6424474187380497 0.7980997624703088 0\n",
      "parameter:  0.0 76 metrics 76 0.711864406779661 0.8886386898669396 0.6424474187380497 0.7980997624703088 0\n",
      "parameter:  0.0 77 metrics 77 0.7142857142857144 0.8902763561924258 0.6405353728489483 0.8072289156626506 0\n"
     ]
    },
    {
     "name": "stdout",
     "output_type": "stream",
     "text": [
      "parameter:  0.0 78 metrics 78 0.715042372881356 0.8898669396110542 0.6453154875717018 0.8016627078384798 0\n",
      "parameter:  0.0 79 metrics 79 0.715042372881356 0.8898669396110542 0.6453154875717018 0.8016627078384798 0\n",
      "parameter:  0.0 80 metrics 80 0.715042372881356 0.8898669396110542 0.6453154875717018 0.8016627078384798 0\n",
      "parameter:  0.0 81 metrics 81 0.715042372881356 0.8898669396110542 0.6453154875717018 0.8016627078384798 0\n",
      "parameter:  0.0 82 metrics 82 0.715042372881356 0.8898669396110542 0.6453154875717018 0.8016627078384798 0\n",
      "parameter:  0.0 83 metrics 83 0.715042372881356 0.8898669396110542 0.6453154875717018 0.8016627078384798 0\n",
      "parameter:  0.0 84 metrics 84 0.7165605095541402 0.8906857727737973 0.6453154875717018 0.8054892601431981 0\n",
      "parameter:  0.0 85 metrics 85 0.7165605095541402 0.8906857727737973 0.6453154875717018 0.8054892601431981 0\n",
      "parameter:  0.0 86 metrics 86 0.7138297872340426 0.8898669396110542 0.641491395793499 0.8045563549160671 0\n",
      "parameter:  0.0 87 metrics 87 0.7138297872340426 0.8898669396110542 0.641491395793499 0.8045563549160671 0\n",
      "parameter:  0.0 88 metrics 88 0.7158006362672322 0.8902763561924258 0.6453154875717018 0.8035714285714286 0\n",
      "parameter:  0.0 89 metrics 89 0.7158006362672322 0.8902763561924258 0.6453154875717018 0.8035714285714286 0\n",
      "parameter:  0.0 90 metrics 90 0.7138297872340426 0.8898669396110542 0.641491395793499 0.8045563549160671 0\n",
      "parameter:  0.0 91 metrics 91 0.7138297872340426 0.8898669396110542 0.641491395793499 0.8045563549160671 0\n",
      "parameter:  0.0 92 metrics 92 0.7138297872340426 0.8898669396110542 0.641491395793499 0.8045563549160671 0\n",
      "parameter:  0.0 93 metrics 93 0.7138297872340426 0.8898669396110542 0.641491395793499 0.8045563549160671 0\n",
      "parameter:  0.0 94 metrics 94 0.7138297872340426 0.8898669396110542 0.641491395793499 0.8045563549160671 0\n",
      "parameter:  0.0 95 metrics 95 0.728401448525608 0.8925281473899693 0.6730401529636711 0.7936865839909808 0\n",
      "parameter:  0.0 96 metrics 96 0.728401448525608 0.8925281473899693 0.6730401529636711 0.7936865839909808 0\n",
      "parameter:  0.0 97 metrics 97 0.728401448525608 0.8925281473899693 0.6730401529636711 0.7936865839909808 0\n",
      "init transformer okay!\n",
      "new cached!\n"
     ]
    },
    {
     "data": {
      "application/vnd.jupyter.widget-view+json": {
       "model_id": "8ec0870306524b4d801e232b7b0d3af5",
       "version_major": 2,
       "version_minor": 0
      },
      "text/plain": [
       "HBox(children=(IntProgress(value=0, max=1000), HTML(value='')))"
      ]
     },
     "metadata": {},
     "output_type": "display_data"
    },
    {
     "name": "stdout",
     "output_type": "stream",
     "text": [
      "hopeless, at iter 904 mode ADD_RULE\n",
      "hopeless, at iter 905 mode ADD_RULE\n",
      "hopeless, at iter 906 mode ADD_RULE\n",
      "hopeless, at iter 907 mode ADD_RULE\n",
      "hopeless, at iter 908 mode ADD_RULE\n",
      "hopeless, at iter 909 mode ADD_RULE\n",
      "hopeless, at iter 910 mode ADD_RULE\n",
      "hopeless, at iter 911 mode ADD_RULE\n",
      "hopeless, at iter 912 mode ADD_RULE\n",
      "hopeless, at iter 913 mode ADD_RULE\n",
      "hopeless, at iter 914 mode ADD_RULE\n",
      "hopeless, at iter 915 mode ADD_RULE\n",
      "hopeless, at iter 916 mode ADD_RULE\n",
      "hopeless, at iter 917 mode ADD_RULE\n",
      "hopeless, at iter 918 mode ADD_RULE\n",
      "hopeless, at iter 928 mode ADD_RULE\n",
      "hopeless, at iter 931 mode ADD_RULE\n",
      "hopeless, at iter 934 mode ADD_RULE\n",
      "hopeless, at iter 939 mode ADD_RULE\n",
      "hopeless, at iter 941 mode ADD_RULE\n",
      "hopeless, at iter 942 mode ADD_RULE\n",
      "hopeless, at iter 943 mode ADD_RULE\n",
      "hopeless, at iter 944 mode ADD_RULE\n",
      "hopeless, at iter 945 mode ADD_RULE\n",
      "hopeless, at iter 946 mode ADD_RULE\n",
      "hopeless, at iter 948 mode ADD_RULE\n",
      "hopeless, at iter 951 mode ADD_RULE\n",
      "hopeless, at iter 956 mode ADD_RULE\n",
      "hopeless, at iter 960 mode ADD_RULE\n",
      "hopeless, at iter 961 mode ADD_RULE\n",
      "hopeless, at iter 962 mode ADD_RULE\n",
      "hopeless, at iter 967 mode ADD_RULE\n",
      "hopeless, at iter 973 mode ADD_RULE\n",
      "hopeless, at iter 976 mode ADD_RULE\n",
      "hopeless, at iter 979 mode ADD_RULE\n",
      "hopeless, at iter 982 mode ADD_RULE\n",
      "hopeless, at iter 984 mode ADD_RULE\n",
      "hopeless, at iter 985 mode ADD_RULE\n",
      "hopeless, at iter 990 mode ADD_RULE\n",
      "hopeless, at iter 991 mode ADD_RULE\n",
      "hopeless, at iter 992 mode ADD_RULE\n",
      "hopeless, at iter 997 mode ADD_RULE\n",
      "best solution found in iteration 798\n",
      "Now print Error Log\n",
      "at iteration: 921 happens the following error\n",
      "('no plausible actions, len length of actions', 0, 'in the mode of ', 'SPECIFY_CONDITION')\n",
      "at iteration: 932 happens the following error\n",
      "('no plausible actions, len length of actions', 0, 'in the mode of ', 'SPECIFY_CONDITION')\n",
      "parameter:  2.0000000000000003e-06 0 metrics 0 0.0 0.7858751279426817 0.0 0.0 1528\n",
      "parameter:  2.0000000000000003e-06 1 metrics 1 0.5419987737584304 0.8470829068577277 0.4225621414913958 0.7555555555555555 1528\n",
      "parameter:  2.0000000000000003e-06 2 metrics 2 0.04668534080298786 0.790992835209826 0.02390057361376673 1.0 1528\n",
      "parameter:  2.0000000000000003e-06 3 metrics 3 0.07188940092165898 0.7938587512794268 0.0372848948374761 1.0 1528\n",
      "parameter:  2.0000000000000003e-06 4 metrics 4 0.394578313253012 0.8354145342886387 0.25047801147227533 0.9290780141843972 1528\n",
      "parameter:  2.0000000000000003e-06 5 metrics 5 0.41836734693877553 0.8366427840327533 0.27437858508604207 0.8803680981595092 1528\n",
      "parameter:  2.0000000000000003e-06 6 metrics 6 0.5130960376091337 0.8515864892528148 0.3652007648183556 0.8623024830699775 1528\n",
      "parameter:  2.0000000000000003e-06 7 metrics 7 0.6307956496851745 0.8679631525076765 0.5267686424474187 0.7860199714693296 1528\n",
      "parameter:  2.0000000000000003e-06 8 metrics 8 0.6307956496851745 0.8679631525076765 0.5267686424474187 0.7860199714693296 1528\n",
      "parameter:  2.0000000000000003e-06 9 metrics 9 0.6988335100742311 0.883725690890481 0.630019120458891 0.7845238095238095 1528\n",
      "parameter:  2.0000000000000003e-06 10 metrics 10 0.6988335100742311 0.883725690890481 0.630019120458891 0.7845238095238095 1528\n",
      "parameter:  2.0000000000000003e-06 11 metrics 11 0.6988335100742311 0.883725690890481 0.630019120458891 0.7845238095238095 1528\n",
      "parameter:  2.0000000000000003e-06 12 metrics 12 0.6984631690514044 0.8835209825997953 0.630019120458891 0.7835909631391201 1528\n",
      "parameter:  2.0000000000000003e-06 13 metrics 13 0.5585241730279897 0.8579324462640737 0.4196940726577438 0.8346007604562737 1528\n",
      "parameter:  2.0000000000000003e-06 14 metrics 14 0.6984631690514044 0.8835209825997953 0.630019120458891 0.7835909631391201 1528\n",
      "parameter:  2.0000000000000003e-06 15 metrics 15 0.5676020408163265 0.8612077789150461 0.4254302103250478 0.8524904214559387 1528\n",
      "parameter:  2.0000000000000003e-06 16 metrics 16 0.6681391496410821 0.8769703172978506 0.5783938814531548 0.7908496732026143 1528\n",
      "parameter:  2.0000000000000003e-06 17 metrics 17 0.5479274611398964 0.8571136131013306 0.4043977055449331 0.8493975903614458 1528\n",
      "parameter:  2.0000000000000003e-06 18 metrics 18 0.5479274611398964 0.8571136131013306 0.4043977055449331 0.8493975903614458 1528\n",
      "parameter:  2.0000000000000003e-06 19 metrics 19 0.5479274611398964 0.8571136131013306 0.4043977055449331 0.8493975903614458 1528\n",
      "parameter:  2.0000000000000003e-06 20 metrics 20 0.5479274611398964 0.8571136131013306 0.4043977055449331 0.8493975903614458 1528\n",
      "parameter:  2.0000000000000003e-06 21 metrics 21 0.6681391496410821 0.8769703172978506 0.5783938814531548 0.7908496732026143 1528\n",
      "parameter:  2.0000000000000003e-06 22 metrics 22 0.7183029107054761 0.8831115660184238 0.6959847036328872 0.7420998980632009 1528\n",
      "parameter:  2.0000000000000003e-06 23 metrics 23 0.7031729785056295 0.8812691914022518 0.6567877629063098 0.7566079295154186 1528\n",
      "parameter:  2.0000000000000003e-06 24 metrics 24 0.704312114989733 0.8820880245649949 0.655831739961759 0.7605321507760532 1528\n",
      "parameter:  2.0000000000000003e-06 25 metrics 25 0.704312114989733 0.8820880245649949 0.655831739961759 0.7605321507760532 1528\n",
      "parameter:  2.0000000000000003e-06 26 metrics 26 0.7241926945473796 0.8933469805527123 0.6539196940726577 0.8113879003558719 1528\n",
      "parameter:  2.0000000000000003e-06 27 metrics 27 0.7241926945473796 0.8933469805527123 0.6539196940726577 0.8113879003558719 1528\n",
      "parameter:  2.0000000000000003e-06 28 metrics 28 0.7241926945473796 0.8933469805527123 0.6539196940726577 0.8113879003558719 1528\n",
      "parameter:  2.0000000000000003e-06 29 metrics 29 0.7241926945473796 0.8933469805527123 0.6539196940726577 0.8113879003558719 1528\n",
      "parameter:  2.0000000000000003e-06 30 metrics 30 0.7349896480331262 0.8951893551688843 0.6787762906309751 0.801354401805869 1528\n",
      "parameter:  2.0000000000000003e-06 31 metrics 31 0.6858108108108109 0.8857727737973388 0.5822179732313576 0.8342465753424657 1528\n",
      "parameter:  2.0000000000000003e-06 32 metrics 32 0.7349896480331262 0.8951893551688843 0.6787762906309751 0.801354401805869 1528\n",
      "parameter:  2.0000000000000003e-06 33 metrics 33 0.7349896480331262 0.8951893551688843 0.6787762906309751 0.801354401805869 1528\n",
      "parameter:  2.0000000000000003e-06 34 metrics 34 0.7349896480331262 0.8951893551688843 0.6787762906309751 0.801354401805869 1528\n",
      "parameter:  2.0000000000000003e-06 35 metrics 35 0.7342295760082731 0.8947799385875128 0.6787762906309751 0.7995495495495496 1528\n",
      "parameter:  2.0000000000000003e-06 36 metrics 36 0.7342295760082731 0.8947799385875128 0.6787762906309751 0.7995495495495496 1528\n",
      "parameter:  2.0000000000000003e-06 37 metrics 37 0.7342295760082731 0.8947799385875128 0.6787762906309751 0.7995495495495496 1528\n",
      "parameter:  2.0000000000000003e-06 38 metrics 38 0.7349896480331262 0.8951893551688843 0.6787762906309751 0.801354401805869 1528\n",
      "parameter:  2.0000000000000003e-06 39 metrics 39 0.7349896480331262 0.8951893551688843 0.6787762906309751 0.801354401805869 1528\n",
      "parameter:  2.0000000000000003e-06 40 metrics 40 0.7349896480331262 0.8951893551688843 0.6787762906309751 0.801354401805869 1528\n",
      "parameter:  2.0000000000000003e-06 41 metrics 41 0.7292110874200426 0.8960081883316274 0.6539196940726577 0.8240963855421687 1528\n",
      "parameter:  2.0000000000000003e-06 42 metrics 42 0.735632183908046 0.8964176049129989 0.6730401529636711 0.8110599078341014 1528\n",
      "parameter:  2.0000000000000003e-06 43 metrics 43 0.7330886208704771 0.8958034800409417 0.6682600382409177 0.8118466898954704 1528\n",
      "parameter:  2.0000000000000003e-06 44 metrics 44 0.7330886208704771 0.8958034800409417 0.6682600382409177 0.8118466898954704 1528\n",
      "parameter:  2.0000000000000003e-06 45 metrics 45 0.7362924281984335 0.8966223132036848 0.6739961759082218 0.8112773302646721 1528\n",
      "parameter:  2.0000000000000003e-06 46 metrics 46 0.7313746065057712 0.8951893551688843 0.6663479923518164 0.8104651162790698 1528\n",
      "parameter:  2.0000000000000003e-06 47 metrics 47 0.6742726754135767 0.8831115660184238 0.5650095602294455 0.8359264497878359 1528\n",
      "parameter:  2.0000000000000003e-06 48 metrics 48 0.723267060720043 0.8945752302968271 0.6434034416826003 0.8257668711656442 1528\n",
      "parameter:  2.0000000000000003e-06 49 metrics 49 0.723267060720043 0.8945752302968271 0.6434034416826003 0.8257668711656442 1528\n",
      "parameter:  2.0000000000000003e-06 50 metrics 50 0.723267060720043 0.8945752302968271 0.6434034416826003 0.8257668711656442 1528\n",
      "parameter:  2.0000000000000003e-06 51 metrics 51 0.723267060720043 0.8945752302968271 0.6434034416826003 0.8257668711656442 1528\n"
     ]
    },
    {
     "name": "stdout",
     "output_type": "stream",
     "text": [
      "parameter:  2.0000000000000003e-06 52 metrics 52 0.7235641438539989 0.8945752302968271 0.6443594646271511 0.824969400244798 1528\n",
      "parameter:  2.0000000000000003e-06 53 metrics 53 0.7235641438539989 0.8945752302968271 0.6443594646271511 0.824969400244798 1528\n",
      "parameter:  2.0000000000000003e-06 54 metrics 54 0.7235641438539989 0.8945752302968271 0.6443594646271511 0.824969400244798 1528\n",
      "parameter:  2.0000000000000003e-06 55 metrics 55 0.7235641438539989 0.8945752302968271 0.6443594646271511 0.824969400244798 1528\n",
      "parameter:  2.0000000000000003e-06 56 metrics 56 0.723267060720043 0.8945752302968271 0.6434034416826003 0.8257668711656442 1528\n",
      "parameter:  2.0000000000000003e-06 57 metrics 57 0.723267060720043 0.8945752302968271 0.6434034416826003 0.8257668711656442 1528\n",
      "parameter:  2.0000000000000003e-06 58 metrics 58 0.723267060720043 0.8945752302968271 0.6434034416826003 0.8257668711656442 1528\n",
      "parameter:  2.0000000000000003e-06 59 metrics 59 0.723267060720043 0.8945752302968271 0.6434034416826003 0.8257668711656442 1528\n",
      "parameter:  2.0000000000000003e-06 60 metrics 60 0.7255216693418941 0.8949846468781986 0.6481835564053537 0.8238153098420413 1528\n",
      "parameter:  2.0000000000000003e-06 61 metrics 61 0.7255216693418941 0.8949846468781986 0.6481835564053537 0.8238153098420413 1528\n",
      "parameter:  2.0000000000000003e-06 62 metrics 62 0.7255216693418941 0.8949846468781986 0.6481835564053537 0.8238153098420413 1528\n",
      "parameter:  2.0000000000000003e-06 63 metrics 63 0.7255216693418941 0.8949846468781986 0.6481835564053537 0.8238153098420413 1528\n",
      "parameter:  2.0000000000000003e-06 64 metrics 64 0.7261078483715963 0.8949846468781986 0.6500956022944551 0.8222490931076178 1528\n",
      "parameter:  2.0000000000000003e-06 65 metrics 65 0.7261078483715963 0.8949846468781986 0.6500956022944551 0.8222490931076178 1528\n",
      "parameter:  2.0000000000000003e-06 66 metrics 66 0.7254273504273505 0.8947799385875128 0.6491395793499044 0.8220338983050848 1528\n",
      "parameter:  2.0000000000000003e-06 67 metrics 67 0.724301528729573 0.8929375639713408 0.6567877629063098 0.8072855464159812 1528\n",
      "parameter:  2.0000000000000003e-06 68 metrics 68 0.7246835443037976 0.8931422722620266 0.6567877629063098 0.808235294117647 1528\n",
      "parameter:  2.0000000000000003e-06 69 metrics 69 0.7340031729243787 0.8970317297850563 0.6634799235181644 0.821301775147929 1528\n",
      "parameter:  2.0000000000000003e-06 70 metrics 70 0.7340031729243787 0.8970317297850563 0.6634799235181644 0.821301775147929 1528\n",
      "parameter:  2.0000000000000003e-06 71 metrics 71 0.7340031729243787 0.8970317297850563 0.6634799235181644 0.821301775147929 1528\n",
      "parameter:  2.0000000000000003e-06 72 metrics 72 0.733615221987315 0.8968270214943705 0.6634799235181644 0.8203309692671394 1528\n",
      "parameter:  2.0000000000000003e-06 73 metrics 73 0.733615221987315 0.8968270214943705 0.6634799235181644 0.8203309692671394 1528\n",
      "parameter:  2.0000000000000003e-06 74 metrics 74 0.733721545791424 0.8970317297850563 0.6625239005736138 0.8220640569395018 1528\n",
      "parameter:  2.0000000000000003e-06 75 metrics 75 0.733721545791424 0.8970317297850563 0.6625239005736138 0.8220640569395018 1528\n",
      "parameter:  2.0000000000000003e-06 76 metrics 76 0.733721545791424 0.8970317297850563 0.6625239005736138 0.8220640569395018 1528\n",
      "parameter:  2.0000000000000003e-06 77 metrics 77 0.7340031729243787 0.8970317297850563 0.6634799235181644 0.821301775147929 1528\n",
      "parameter:  2.0000000000000003e-06 78 metrics 78 0.7516918271733471 0.9023541453428864 0.6902485659655831 0.8251428571428572 1528\n",
      "parameter:  2.0000000000000003e-06 79 metrics 79 0.7503924646781789 0.9023541453428864 0.6854684512428298 0.8289017341040462 1528\n",
      "parameter:  2.0000000000000003e-06 80 metrics 80 0.7503924646781789 0.9023541453428864 0.6854684512428298 0.8289017341040462 1528\n",
      "parameter:  2.0000000000000003e-06 81 metrics 81 0.7513061650992685 0.9025588536335721 0.6873804971319312 0.8283410138248848 1528\n",
      "parameter:  2.0000000000000003e-06 82 metrics 82 0.7513061650992685 0.9025588536335721 0.6873804971319312 0.8283410138248848 1528\n",
      "parameter:  2.0000000000000003e-06 83 metrics 83 0.7496046389035318 0.9027635619242579 0.6797323135755258 0.8354876615746181 1528\n",
      "parameter:  2.0000000000000003e-06 84 metrics 84 0.7496046389035318 0.9027635619242579 0.6797323135755258 0.8354876615746181 1528\n",
      "parameter:  2.0000000000000003e-06 85 metrics 85 0.7496046389035318 0.9027635619242579 0.6797323135755258 0.8354876615746181 1528\n",
      "parameter:  2.0000000000000003e-06 86 metrics 86 0.7496046389035318 0.9027635619242579 0.6797323135755258 0.8354876615746181 1528\n",
      "parameter:  2.0000000000000003e-06 87 metrics 87 0.754149377593361 0.9029682702149437 0.6950286806883366 0.8242630385487528 1528\n",
      "parameter:  2.0000000000000003e-06 88 metrics 88 0.7538940809968847 0.9029682702149437 0.6940726577437859 0.825 1528\n",
      "parameter:  2.0000000000000003e-06 89 metrics 89 0.7538940809968847 0.9029682702149437 0.6940726577437859 0.825 1528\n",
      "parameter:  2.0000000000000003e-06 90 metrics 90 0.758230452674897 0.9037871033776868 0.7045889101338432 0.8207126948775055 1528\n",
      "parameter:  2.0000000000000003e-06 91 metrics 91 0.758230452674897 0.9037871033776868 0.7045889101338432 0.8207126948775055 1528\n",
      "parameter:  2.0000000000000003e-06 92 metrics 92 0.758230452674897 0.9037871033776868 0.7045889101338432 0.8207126948775055 1528\n",
      "parameter:  2.0000000000000003e-06 93 metrics 93 0.7583035258048032 0.9031729785056295 0.7093690248565966 0.814489571899012 1528\n",
      "parameter:  2.0000000000000003e-06 94 metrics 94 0.7583035258048032 0.9031729785056295 0.7093690248565966 0.814489571899012 1528\n",
      "parameter:  2.0000000000000003e-06 95 metrics 95 0.7578084997439838 0.9031729785056295 0.7074569789674953 0.8158765159867696 1528\n",
      "parameter:  2.0000000000000003e-06 96 metrics 96 0.7570332480818414 0.9027635619242579 0.7074569789674953 0.8140814081408141 1528\n",
      "parameter:  2.0000000000000003e-06 97 metrics 97 0.7570332480818414 0.9027635619242579 0.7074569789674953 0.8140814081408141 1528\n",
      "parameter:  2.0000000000000003e-06 98 metrics 98 0.7570332480818414 0.9027635619242579 0.7074569789674953 0.8140814081408141 1528\n",
      "parameter:  2.0000000000000003e-06 99 metrics 99 0.7574206755373593 0.9029682702149437 0.7074569789674953 0.8149779735682819 1528\n",
      "init transformer okay!\n",
      "new cached!\n"
     ]
    },
    {
     "data": {
      "application/vnd.jupyter.widget-view+json": {
       "model_id": "f2cdf718b4a24232acfee2333e975966",
       "version_major": 2,
       "version_minor": 0
      },
      "text/plain": [
       "HBox(children=(IntProgress(value=0, max=1000), HTML(value='')))"
      ]
     },
     "metadata": {},
     "output_type": "display_data"
    },
    {
     "name": "stdout",
     "output_type": "stream",
     "text": [
      "best solution found in iteration 334\n",
      "Now print Error Log\n",
      "at iteration: 920 happens the following error\n",
      "('no plausible actions, len length of actions', 0, 'in the mode of ', 'REMOVE_CONDITION')\n",
      "parameter:  5e-06 0 metrics 0 0.0 0.7858751279426817 0.0 0.0 1496\n",
      "parameter:  5e-06 1 metrics 1 0.19655172413793107 0.8092118730808597 0.1089866156787763 1.0 1496\n",
      "parameter:  5e-06 2 metrics 2 0.34308300395256913 0.8298874104401228 0.2074569789674952 0.9908675799086758 1496\n",
      "parameter:  5e-06 3 metrics 3 0.3493312352478364 0.8307062436028659 0.21223709369024857 0.9866666666666667 1496\n",
      "parameter:  5e-06 4 metrics 4 0.394578313253012 0.8354145342886387 0.25047801147227533 0.9290780141843972 1496\n",
      "parameter:  5e-06 5 metrics 5 0.41836734693877553 0.8366427840327533 0.27437858508604207 0.8803680981595092 1496\n",
      "parameter:  5e-06 6 metrics 6 0.5051055139550715 0.8511770726714432 0.3546845124282983 0.8770685579196218 1496\n",
      "parameter:  5e-06 7 metrics 7 0.5051055139550715 0.8511770726714432 0.3546845124282983 0.8770685579196218 1496\n",
      "parameter:  5e-06 8 metrics 8 0.6555183946488295 0.8734902763561925 0.5621414913957935 0.786096256684492 1496\n",
      "parameter:  5e-06 9 metrics 9 0.6998394863563403 0.8851586489252815 0.6252390057361377 0.7946537059538274 1496\n",
      "parameter:  5e-06 10 metrics 10 0.6998394863563403 0.8851586489252815 0.6252390057361377 0.7946537059538274 1496\n",
      "parameter:  5e-06 11 metrics 11 0.6998394863563403 0.8851586489252815 0.6252390057361377 0.7946537059538274 1496\n",
      "parameter:  5e-06 12 metrics 12 0.704 0.8863868986693961 0.6309751434034416 0.7961399276236429 1496\n",
      "parameter:  5e-06 13 metrics 13 0.704 0.8863868986693961 0.6309751434034416 0.7961399276236429 1496\n",
      "parameter:  5e-06 14 metrics 14 0.701229289150187 0.885568065506653 0.627151051625239 0.7951515151515152 1496\n",
      "parameter:  5e-06 15 metrics 15 0.7008547008547008 0.8853633572159673 0.627151051625239 0.7941888619854721 1496\n",
      "parameter:  5e-06 16 metrics 16 0.7008547008547008 0.8853633572159673 0.627151051625239 0.7941888619854721 1496\n",
      "parameter:  5e-06 17 metrics 17 0.7008547008547008 0.8853633572159673 0.627151051625239 0.7941888619854721 1496\n",
      "parameter:  5e-06 18 metrics 18 0.7008547008547008 0.8853633572159673 0.627151051625239 0.7941888619854721 1496\n",
      "parameter:  5e-06 19 metrics 19 0.7008547008547008 0.8853633572159673 0.627151051625239 0.7941888619854721 1496\n",
      "parameter:  5e-06 20 metrics 20 0.6995708154506438 0.8853633572159673 0.6233269598470363 0.7970660146699267 1496\n",
      "parameter:  5e-06 21 metrics 21 0.6995708154506438 0.8853633572159673 0.6233269598470363 0.7970660146699267 1496\n",
      "parameter:  5e-06 22 metrics 22 0.6995708154506438 0.8853633572159673 0.6233269598470363 0.7970660146699267 1496\n",
      "parameter:  5e-06 23 metrics 23 0.701229289150187 0.885568065506653 0.627151051625239 0.7951515151515152 1496\n",
      "parameter:  5e-06 24 metrics 24 0.701229289150187 0.885568065506653 0.627151051625239 0.7951515151515152 1496\n",
      "parameter:  5e-06 25 metrics 25 0.7004856988667026 0.8863868986693961 0.6204588910133844 0.8042131350681536 1496\n",
      "parameter:  5e-06 26 metrics 26 0.7004856988667026 0.8863868986693961 0.6204588910133844 0.8042131350681536 1496\n",
      "parameter:  5e-06 27 metrics 27 0.7004856988667026 0.8863868986693961 0.6204588910133844 0.8042131350681536 1496\n",
      "parameter:  5e-06 28 metrics 28 0.7004856988667026 0.8863868986693961 0.6204588910133844 0.8042131350681536 1496\n",
      "parameter:  5e-06 29 metrics 29 0.7011866235167207 0.8865916069600819 0.621414913957935 0.8044554455445545 1496\n",
      "parameter:  5e-06 30 metrics 30 0.7011866235167207 0.8865916069600819 0.621414913957935 0.8044554455445545 1496\n",
      "parameter:  5e-06 31 metrics 31 0.7008086253369273 0.8863868986693961 0.621414913957935 0.8034610630407911 1496\n",
      "parameter:  5e-06 32 metrics 32 0.7008086253369273 0.8863868986693961 0.621414913957935 0.8034610630407911 1496\n",
      "parameter:  5e-06 33 metrics 33 0.7010869565217392 0.887410440122825 0.6166347992351816 0.8123425692695214 1496\n",
      "parameter:  5e-06 34 metrics 34 0.7010869565217392 0.887410440122825 0.6166347992351816 0.8123425692695214 1496\n",
      "parameter:  5e-06 35 metrics 35 0.7010869565217392 0.887410440122825 0.6166347992351816 0.8123425692695214 1496\n",
      "parameter:  5e-06 36 metrics 36 0.7010869565217392 0.887410440122825 0.6166347992351816 0.8123425692695214 1496\n",
      "parameter:  5e-06 37 metrics 37 0.7010869565217392 0.887410440122825 0.6166347992351816 0.8123425692695214 1496\n",
      "parameter:  5e-06 38 metrics 38 0.702819956616052 0.8878198567041965 0.6195028680688337 0.8120300751879699 1496\n",
      "parameter:  5e-06 39 metrics 39 0.7038440714672443 0.8880245649948822 0.621414913957935 0.8114856429463171 1496\n",
      "parameter:  5e-06 40 metrics 40 0.7038440714672443 0.8880245649948822 0.621414913957935 0.8114856429463171 1496\n",
      "parameter:  5e-06 41 metrics 41 0.7038440714672443 0.8880245649948822 0.621414913957935 0.8114856429463171 1496\n",
      "parameter:  5e-06 42 metrics 42 0.7038440714672443 0.8880245649948822 0.621414913957935 0.8114856429463171 1496\n",
      "parameter:  5e-06 43 metrics 43 0.7038440714672443 0.8880245649948822 0.621414913957935 0.8114856429463171 1496\n",
      "parameter:  5e-06 44 metrics 44 0.7038440714672443 0.8880245649948822 0.621414913957935 0.8114856429463171 1496\n",
      "parameter:  5e-06 45 metrics 45 0.7038440714672443 0.8880245649948822 0.621414913957935 0.8114856429463171 1496\n",
      "parameter:  5e-06 46 metrics 46 0.7038440714672443 0.8880245649948822 0.621414913957935 0.8114856429463171 1496\n",
      "parameter:  5e-06 47 metrics 47 0.7038440714672443 0.8880245649948822 0.621414913957935 0.8114856429463171 1496\n",
      "parameter:  5e-06 48 metrics 48 0.5853658536585366 0.8642784032753327 0.4474187380497132 0.8462929475587704 1496\n",
      "parameter:  5e-06 49 metrics 49 0.6858757062146893 0.8861821903787104 0.5803059273422562 0.8383977900552486 1496\n",
      "parameter:  5e-06 50 metrics 50 0.7049723756906077 0.8906857727737973 0.609942638623327 0.8350785340314136 1496\n",
      "parameter:  5e-06 51 metrics 51 0.7049723756906077 0.8906857727737973 0.609942638623327 0.8350785340314136 1496\n",
      "parameter:  5e-06 52 metrics 52 0.7055586130985141 0.8904810644831116 0.612810707456979 0.8313878080415046 1496\n",
      "parameter:  5e-06 53 metrics 53 0.7055586130985141 0.8904810644831116 0.612810707456979 0.8313878080415046 1496\n",
      "parameter:  5e-06 54 metrics 54 0.7055586130985141 0.8904810644831116 0.612810707456979 0.8313878080415046 1496\n",
      "parameter:  5e-06 55 metrics 55 0.7055586130985141 0.8904810644831116 0.612810707456979 0.8313878080415046 1496\n",
      "parameter:  5e-06 56 metrics 56 0.6865503657850309 0.8859774820880245 0.5831739961759083 0.8344733242134063 1496\n",
      "parameter:  5e-06 57 metrics 57 0.7043956043956044 0.8898669396110542 0.612810707456979 0.8281653746770026 1496\n",
      "parameter:  5e-06 58 metrics 58 0.7040087863811094 0.8896622313203685 0.612810707456979 0.8270967741935484 1496\n",
      "parameter:  5e-06 59 metrics 59 0.7066666666666667 0.891914022517912 0.6080305927342257 0.843501326259947 1496\n",
      "parameter:  5e-06 60 metrics 60 0.7066666666666667 0.891914022517912 0.6080305927342257 0.843501326259947 1496\n",
      "parameter:  5e-06 61 metrics 61 0.7066666666666667 0.891914022517912 0.6080305927342257 0.843501326259947 1496\n",
      "parameter:  5e-06 62 metrics 62 0.7054263565891473 0.8910951893551688 0.6089866156787763 0.8381578947368421 1496\n",
      "parameter:  5e-06 63 metrics 63 0.7054263565891473 0.8910951893551688 0.6089866156787763 0.8381578947368421 1496\n",
      "parameter:  5e-06 64 metrics 64 0.7046460176991152 0.8906857727737973 0.6089866156787763 0.8359580052493438 1496\n",
      "parameter:  5e-06 65 metrics 65 0.7046460176991152 0.8906857727737973 0.6089866156787763 0.8359580052493438 1496\n",
      "parameter:  5e-06 66 metrics 66 0.7046460176991152 0.8906857727737973 0.6089866156787763 0.8359580052493438 1496\n",
      "parameter:  5e-06 67 metrics 67 0.7042564953012714 0.8904810644831116 0.6089866156787763 0.8348623853211009 1496\n",
      "parameter:  5e-06 68 metrics 68 0.7042564953012714 0.8904810644831116 0.6089866156787763 0.8348623853211009 1496\n",
      "parameter:  5e-06 69 metrics 69 0.7042564953012714 0.8904810644831116 0.6089866156787763 0.8348623853211009 1496\n",
      "parameter:  5e-06 70 metrics 70 0.7042564953012714 0.8904810644831116 0.6089866156787763 0.8348623853211009 1496\n",
      "parameter:  5e-06 71 metrics 71 0.7042564953012714 0.8904810644831116 0.6089866156787763 0.8348623853211009 1496\n",
      "parameter:  5e-06 72 metrics 72 0.7018701870187019 0.8890481064483111 0.609942638623327 0.8264248704663213 1496\n",
      "parameter:  5e-06 73 metrics 73 0.7046575342465753 0.8896622313203685 0.6147227533460803 0.8254172015404364 1496\n",
      "parameter:  5e-06 74 metrics 74 0.7046575342465753 0.8896622313203685 0.6147227533460803 0.8254172015404364 1496\n",
      "parameter:  5e-06 75 metrics 75 0.7046575342465753 0.8896622313203685 0.6147227533460803 0.8254172015404364 1496\n",
      "parameter:  5e-06 76 metrics 76 0.7046575342465753 0.8896622313203685 0.6147227533460803 0.8254172015404364 1496\n",
      "parameter:  5e-06 77 metrics 77 0.7046575342465753 0.8896622313203685 0.6147227533460803 0.8254172015404364 1496\n",
      "parameter:  5e-06 78 metrics 78 0.7046575342465753 0.8896622313203685 0.6147227533460803 0.8254172015404364 1496\n",
      "parameter:  5e-06 79 metrics 79 0.7046575342465753 0.8896622313203685 0.6147227533460803 0.8254172015404364 1496\n"
     ]
    },
    {
     "name": "stdout",
     "output_type": "stream",
     "text": [
      "parameter:  5e-06 80 metrics 80 0.7034178610804851 0.8898669396110542 0.609942638623327 0.8307291666666666 1496\n",
      "parameter:  5e-06 81 metrics 81 0.703030303030303 0.8896622313203685 0.609942638623327 0.8296488946684005 1496\n",
      "parameter:  5e-06 82 metrics 82 0.703030303030303 0.8896622313203685 0.609942638623327 0.8296488946684005 1496\n",
      "parameter:  5e-06 83 metrics 83 0.703030303030303 0.8896622313203685 0.609942638623327 0.8296488946684005 1496\n",
      "parameter:  5e-06 84 metrics 84 0.703030303030303 0.8896622313203685 0.609942638623327 0.8296488946684005 1496\n",
      "parameter:  5e-06 85 metrics 85 0.7026431718061674 0.8894575230296827 0.609942638623327 0.8285714285714286 1496\n",
      "parameter:  5e-06 86 metrics 86 0.7026431718061674 0.8894575230296827 0.609942638623327 0.8285714285714286 1496\n",
      "parameter:  5e-06 87 metrics 87 0.7026431718061674 0.8894575230296827 0.609942638623327 0.8285714285714286 1496\n",
      "parameter:  5e-06 88 metrics 88 0.7067176406335336 0.89007164790174 0.6185468451242829 0.824203821656051 1496\n",
      "parameter:  5e-06 89 metrics 89 0.7067176406335336 0.89007164790174 0.6185468451242829 0.824203821656051 1496\n",
      "parameter:  5e-06 90 metrics 90 0.7067176406335336 0.89007164790174 0.6185468451242829 0.824203821656051 1496\n",
      "parameter:  5e-06 91 metrics 91 0.7067176406335336 0.89007164790174 0.6185468451242829 0.824203821656051 1496\n",
      "parameter:  5e-06 92 metrics 92 0.7063318777292577 0.8898669396110542 0.6185468451242829 0.8231552162849872 1496\n",
      "parameter:  5e-06 93 metrics 93 0.7063318777292577 0.8898669396110542 0.6185468451242829 0.8231552162849872 1496\n",
      "parameter:  5e-06 94 metrics 94 0.707037643207856 0.89007164790174 0.6195028680688337 0.8233799237611181 1496\n",
      "parameter:  5e-06 95 metrics 95 0.707037643207856 0.89007164790174 0.6195028680688337 0.8233799237611181 1496\n",
      "parameter:  5e-06 96 metrics 96 0.6559905100830368 0.8812691914022518 0.52868068833652 0.8640625 1496\n",
      "parameter:  5e-06 97 metrics 97 0.6559905100830368 0.8812691914022518 0.52868068833652 0.8640625 1496\n",
      "parameter:  5e-06 98 metrics 98 0.7046575342465753 0.8896622313203685 0.6147227533460803 0.8254172015404364 1496\n",
      "parameter:  5e-06 99 metrics 99 0.7046575342465753 0.8896622313203685 0.6147227533460803 0.8254172015404364 1496\n",
      "init transformer okay!\n",
      "new cached!\n"
     ]
    },
    {
     "data": {
      "application/vnd.jupyter.widget-view+json": {
       "model_id": "6afa44d4e02f42a98534cd799b608cca",
       "version_major": 2,
       "version_minor": 0
      },
      "text/plain": [
       "HBox(children=(IntProgress(value=0, max=1000), HTML(value='')))"
      ]
     },
     "metadata": {},
     "output_type": "display_data"
    },
    {
     "name": "stdout",
     "output_type": "stream",
     "text": [
      "best solution found in iteration 469\n",
      "Now print Error Log\n",
      "at iteration: 948 happens the following error\n",
      "('no plausible actions, len length of actions', 0, 'in the mode of ', 'REMOVE_CONDITION')\n",
      "parameter:  1e-05 0 metrics 0 0.0 0.7858751279426817 0.0 0.0 2228\n",
      "parameter:  1e-05 1 metrics 1 0.07474931631722881 0.7922210849539406 0.03919694072657744 0.803921568627451 2228\n",
      "parameter:  1e-05 2 metrics 2 0.1658119658119658 0.8002047082906858 0.09273422562141491 0.782258064516129 2228\n",
      "parameter:  1e-05 3 metrics 3 0.25598678777869527 0.8155578300921187 0.14818355640535372 0.9393939393939394 2228\n",
      "parameter:  1e-05 4 metrics 4 0.394578313253012 0.8354145342886387 0.25047801147227533 0.9290780141843972 2228\n",
      "parameter:  1e-05 5 metrics 5 0.41836734693877553 0.8366427840327533 0.27437858508604207 0.8803680981595092 2228\n",
      "parameter:  1e-05 6 metrics 6 0.42151162790697677 0.8370522006141249 0.27724665391969405 0.8787878787878788 2228\n",
      "parameter:  1e-05 7 metrics 7 0.49245541838134427 0.8485158648925282 0.34321223709369025 0.8713592233009708 2228\n",
      "parameter:  1e-05 8 metrics 8 0.4941820670773442 0.8487205731832139 0.3451242829827916 0.8698795180722891 2228\n",
      "parameter:  1e-05 9 metrics 9 0.4941820670773442 0.8487205731832139 0.3451242829827916 0.8698795180722891 2228\n",
      "parameter:  1e-05 10 metrics 10 0.4941820670773442 0.8487205731832139 0.3451242829827916 0.8698795180722891 2228\n",
      "parameter:  1e-05 11 metrics 11 0.4941820670773442 0.8487205731832139 0.3451242829827916 0.8698795180722891 2228\n",
      "parameter:  1e-05 12 metrics 12 0.4941820670773442 0.8487205731832139 0.3451242829827916 0.8698795180722891 2228\n",
      "parameter:  1e-05 13 metrics 13 0.4941820670773442 0.8487205731832139 0.3451242829827916 0.8698795180722891 2228\n",
      "parameter:  1e-05 14 metrics 14 0.4941820670773442 0.8487205731832139 0.3451242829827916 0.8698795180722891 2228\n",
      "parameter:  1e-05 15 metrics 15 0.4941820670773442 0.8487205731832139 0.3451242829827916 0.8698795180722891 2228\n",
      "parameter:  1e-05 16 metrics 16 0.4941820670773442 0.8487205731832139 0.3451242829827916 0.8698795180722891 2228\n",
      "parameter:  1e-05 17 metrics 17 0.4941820670773442 0.8487205731832139 0.3451242829827916 0.8698795180722891 2228\n",
      "parameter:  1e-05 18 metrics 18 0.4941820670773442 0.8487205731832139 0.3451242829827916 0.8698795180722891 2228\n",
      "parameter:  1e-05 19 metrics 19 0.4941820670773442 0.8487205731832139 0.3451242829827916 0.8698795180722891 2228\n",
      "parameter:  1e-05 20 metrics 20 0.4941820670773442 0.8487205731832139 0.3451242829827916 0.8698795180722891 2228\n",
      "parameter:  1e-05 21 metrics 21 0.4941820670773442 0.8487205731832139 0.3451242829827916 0.8698795180722891 2228\n",
      "parameter:  1e-05 22 metrics 22 0.4941820670773442 0.8487205731832139 0.3451242829827916 0.8698795180722891 2228\n",
      "parameter:  1e-05 23 metrics 23 0.4941820670773442 0.8487205731832139 0.3451242829827916 0.8698795180722891 2228\n",
      "parameter:  1e-05 24 metrics 24 0.4941820670773442 0.8487205731832139 0.3451242829827916 0.8698795180722891 2228\n",
      "parameter:  1e-05 25 metrics 25 0.4941820670773442 0.8487205731832139 0.3451242829827916 0.8698795180722891 2228\n",
      "parameter:  1e-05 26 metrics 26 0.6915584415584415 0.8833162743091095 0.6108986615678776 0.7967581047381546 2228\n",
      "parameter:  1e-05 27 metrics 27 0.6898047722342733 0.882906857727738 0.6080305927342257 0.7969924812030075 2228\n",
      "parameter:  1e-05 28 metrics 28 0.6898047722342733 0.882906857727738 0.6080305927342257 0.7969924812030075 2228\n",
      "parameter:  1e-05 29 metrics 29 0.6896180742334588 0.8818833162743092 0.612810707456979 0.7884378843788438 2228\n",
      "parameter:  1e-05 30 metrics 30 0.6896180742334588 0.8818833162743092 0.612810707456979 0.7884378843788438 2228\n",
      "parameter:  1e-05 31 metrics 31 0.6896180742334588 0.8818833162743092 0.612810707456979 0.7884378843788438 2228\n",
      "parameter:  1e-05 32 metrics 32 0.6925985953538628 0.8835209825997953 0.612810707456979 0.7962732919254658 2228\n",
      "parameter:  1e-05 33 metrics 33 0.6925985953538628 0.8835209825997953 0.612810707456979 0.7962732919254658 2228\n",
      "parameter:  1e-05 34 metrics 34 0.6915584415584415 0.8833162743091095 0.6108986615678776 0.7967581047381546 2228\n",
      "parameter:  1e-05 35 metrics 35 0.6814897165091718 0.8827021494370522 0.5860420650095602 0.8140770252324038 2228\n",
      "parameter:  1e-05 36 metrics 36 0.6814897165091718 0.8827021494370522 0.5860420650095602 0.8140770252324038 2228\n",
      "parameter:  1e-05 37 metrics 37 0.681135225375626 0.8827021494370522 0.5850860420650096 0.8149134487350199 2228\n",
      "parameter:  1e-05 38 metrics 38 0.6931880108991826 0.8847492323439099 0.6080305927342257 0.8060836501901141 2228\n",
      "parameter:  1e-05 39 metrics 39 0.6857772877618522 0.8833162743091095 0.5946462715105163 0.8098958333333334 2228\n",
      "parameter:  1e-05 40 metrics 40 0.6415981198589894 0.8751279426816786 0.5219885277246654 0.8323170731707317 2228\n",
      "parameter:  1e-05 41 metrics 41 0.6415981198589894 0.8751279426816786 0.5219885277246654 0.8323170731707317 2228\n",
      "parameter:  1e-05 42 metrics 42 0.6539351851851852 0.8775844421699078 0.5401529636711281 0.8284457478005866 2228\n",
      "parameter:  1e-05 43 metrics 43 0.6539351851851852 0.8775844421699078 0.5401529636711281 0.8284457478005866 2228\n",
      "parameter:  1e-05 44 metrics 44 0.6741573033707865 0.8812691914022518 0.5736137667304015 0.8174386920980926 2228\n",
      "parameter:  1e-05 45 metrics 45 0.6153846153846153 0.8700102354145343 0.48565965583174 0.8396694214876033 2228\n",
      "parameter:  1e-05 46 metrics 46 0.6984815618221257 0.8861821903787104 0.615678776290631 0.8070175438596491 2228\n",
      "parameter:  1e-05 47 metrics 47 0.7016216216216217 0.8870010235414534 0.6204588910133844 0.8072139303482587 2228\n",
      "parameter:  1e-05 48 metrics 48 0.7037236913113869 0.8876151484135107 0.6233269598470363 0.8079306071871127 2228\n",
      "parameter:  1e-05 49 metrics 49 0.7037236913113869 0.8876151484135107 0.6233269598470363 0.8079306071871127 2228\n",
      "parameter:  1e-05 50 metrics 50 0.7041644131963225 0.8880245649948822 0.6223709369024857 0.8107098381070984 2228\n",
      "parameter:  1e-05 51 metrics 51 0.6282595512431777 0.8745138178096213 0.49521988527724664 0.8590381426202321 2228\n",
      "parameter:  1e-05 52 metrics 52 0.6876379690949228 0.8841351074718526 0.595602294455067 0.8133159268929504 2228\n",
      "parameter:  1e-05 53 metrics 53 0.6897309170785283 0.8843398157625384 0.6003824091778203 0.8103225806451613 2228\n",
      "parameter:  1e-05 54 metrics 54 0.6910480349344977 0.8841351074718526 0.6051625239005736 0.8053435114503816 2228\n",
      "parameter:  1e-05 55 metrics 55 0.7119536598209584 0.8880245649948822 0.6462715105162524 0.7924970691676436 2228\n",
      "parameter:  1e-05 56 metrics 56 0.7119536598209584 0.8880245649948822 0.6462715105162524 0.7924970691676436 2228\n",
      "parameter:  1e-05 57 metrics 57 0.7119536598209584 0.8880245649948822 0.6462715105162524 0.7924970691676436 2228\n",
      "parameter:  1e-05 58 metrics 58 0.7020453289110006 0.8896622313203685 0.607074569789675 0.8322411533420708 2228\n",
      "parameter:  1e-05 59 metrics 59 0.710412147505423 0.8906857727737973 0.6261950286806883 0.8208020050125313 2228\n",
      "parameter:  1e-05 60 metrics 60 0.7159029649595687 0.8921187308085977 0.6347992351816444 0.8207663782447466 2228\n",
      "parameter:  1e-05 61 metrics 61 0.7159029649595687 0.8921187308085977 0.6347992351816444 0.8207663782447466 2228\n",
      "parameter:  1e-05 62 metrics 62 0.7224906065485776 0.8941658137154554 0.6434034416826003 0.8237454100367197 2228\n",
      "parameter:  1e-05 63 metrics 63 0.7224906065485776 0.8941658137154554 0.6434034416826003 0.8237454100367197 2228\n",
      "parameter:  1e-05 64 metrics 64 0.7224906065485776 0.8941658137154554 0.6434034416826003 0.8237454100367197 2228\n",
      "parameter:  1e-05 65 metrics 65 0.7254381306425915 0.8941658137154554 0.652963671128107 0.8160095579450418 2228\n",
      "parameter:  1e-05 66 metrics 66 0.7285187137585661 0.8945752302968271 0.6606118546845124 0.8119858989424207 2228\n",
      "parameter:  1e-05 67 metrics 67 0.7285187137585661 0.8945752302968271 0.6606118546845124 0.8119858989424207 2228\n",
      "parameter:  1e-05 68 metrics 68 0.7294736842105264 0.8947799385875128 0.6625239005736138 0.8114754098360656 2228\n",
      "parameter:  1e-05 69 metrics 69 0.7294736842105264 0.8947799385875128 0.6625239005736138 0.8114754098360656 2228\n",
      "parameter:  1e-05 70 metrics 70 0.7119386637458928 0.8923234390992835 0.621414913957935 0.8333333333333334 2228\n",
      "parameter:  1e-05 71 metrics 71 0.6987818383167219 0.8886386898669396 0.6032504780114722 0.8302631578947368 2228\n",
      "parameter:  1e-05 72 metrics 72 0.7119386637458928 0.8923234390992835 0.621414913957935 0.8333333333333334 2228\n"
     ]
    },
    {
     "name": "stdout",
     "output_type": "stream",
     "text": [
      "parameter:  1e-05 73 metrics 73 0.7260201377848438 0.8941658137154554 0.6548757170172084 0.8145065398335315 2228\n",
      "parameter:  1e-05 74 metrics 74 0.7260201377848438 0.8941658137154554 0.6548757170172084 0.8145065398335315 2228\n",
      "parameter:  1e-05 75 metrics 75 0.7260201377848438 0.8941658137154554 0.6548757170172084 0.8145065398335315 2228\n",
      "parameter:  1e-05 76 metrics 76 0.7256355932203389 0.8939611054247697 0.6548757170172084 0.8135391923990499 2228\n",
      "parameter:  1e-05 77 metrics 77 0.7256355932203389 0.8939611054247697 0.6548757170172084 0.8135391923990499 2228\n",
      "parameter:  1e-05 78 metrics 78 0.7278481012658228 0.8943705220061412 0.6596558317399618 0.8117647058823529 2228\n",
      "parameter:  1e-05 79 metrics 79 0.7278481012658228 0.8943705220061412 0.6596558317399618 0.8117647058823529 2228\n",
      "parameter:  1e-05 80 metrics 80 0.7278481012658228 0.8943705220061412 0.6596558317399618 0.8117647058823529 2228\n",
      "parameter:  1e-05 81 metrics 81 0.7436823104693141 0.8982599795291709 0.6892925430210325 0.8073908174692049 2228\n",
      "parameter:  1e-05 82 metrics 82 0.7429160226687275 0.8978505629477994 0.6892925430210325 0.8055865921787709 2228\n",
      "parameter:  1e-05 83 metrics 83 0.7396841569027001 0.8953940634595701 0.6940726577437859 0.7917121046892039 2228\n",
      "parameter:  1e-05 84 metrics 84 0.7396841569027001 0.8953940634595701 0.6940726577437859 0.7917121046892039 2228\n",
      "parameter:  1e-05 85 metrics 85 0.7110371602884082 0.8933469805527123 0.612810707456979 0.8467635402906208 2228\n",
      "parameter:  1e-05 86 metrics 86 0.7217391304347825 0.8951893551688843 0.6347992351816444 0.836272040302267 2228\n",
      "parameter:  1e-05 87 metrics 87 0.723267060720043 0.8945752302968271 0.6434034416826003 0.8257668711656442 2228\n",
      "parameter:  1e-05 88 metrics 88 0.723267060720043 0.8945752302968271 0.6434034416826003 0.8257668711656442 2228\n",
      "parameter:  1e-05 89 metrics 89 0.7233814874264313 0.8941658137154554 0.6462715105162524 0.8213851761846902 2228\n",
      "parameter:  1e-05 90 metrics 90 0.7275624004248539 0.8949846468781986 0.6548757170172084 0.8183990442054958 2228\n",
      "parameter:  1e-05 91 metrics 91 0.7326315789473684 0.8960081883316274 0.6653919694072657 0.8149882903981265 2228\n",
      "parameter:  1e-05 92 metrics 92 0.7322794492605813 0.8925281473899693 0.6864244741873805 0.7846994535519126 2228\n",
      "parameter:  1e-05 93 metrics 93 0.7319062181447503 0.8923234390992835 0.6864244741873805 0.7838427947598253 2228\n",
      "parameter:  1e-05 94 metrics 94 0.731194108364019 0.8953940634595701 0.6644359464627151 0.8128654970760234 2228\n",
      "parameter:  1e-05 95 metrics 95 0.731194108364019 0.8953940634595701 0.6644359464627151 0.8128654970760234 2228\n",
      "parameter:  1e-05 96 metrics 96 0.7318611987381703 0.8955987717502559 0.6653919694072657 0.8130841121495327 2228\n",
      "parameter:  1e-05 97 metrics 97 0.7257203842049093 0.8947799385875128 0.6500956022944551 0.821256038647343 2228\n",
      "parameter:  1e-05 98 metrics 98 0.7257203842049093 0.8947799385875128 0.6500956022944551 0.821256038647343 2228\n",
      "parameter:  1e-05 99 metrics 99 0.7266112266112266 0.8923234390992835 0.6682600382409177 0.7961275626423691 2228\n",
      "init transformer okay!\n",
      "new cached!\n"
     ]
    },
    {
     "data": {
      "application/vnd.jupyter.widget-view+json": {
       "model_id": "ebae1a4751e44885bdf3ea3c10fc2fa8",
       "version_major": 2,
       "version_minor": 0
      },
      "text/plain": [
       "HBox(children=(IntProgress(value=0, max=1000), HTML(value='')))"
      ]
     },
     "metadata": {},
     "output_type": "display_data"
    },
    {
     "name": "stdout",
     "output_type": "stream",
     "text": [
      "hopeless, at iter 913 mode ADD_RULE\n",
      "hopeless, at iter 914 mode ADD_RULE\n",
      "hopeless, at iter 915 mode ADD_RULE\n",
      "hopeless, at iter 916 mode ADD_RULE\n",
      "hopeless, at iter 917 mode ADD_RULE\n",
      "hopeless, at iter 918 mode ADD_RULE\n",
      "hopeless, at iter 919 mode ADD_RULE\n",
      "hopeless, at iter 920 mode ADD_RULE\n",
      "hopeless, at iter 921 mode ADD_RULE\n",
      "hopeless, at iter 922 mode ADD_RULE\n",
      "hopeless, at iter 923 mode ADD_RULE\n",
      "hopeless, at iter 924 mode ADD_RULE\n",
      "hopeless, at iter 925 mode ADD_RULE\n",
      "hopeless, at iter 926 mode ADD_RULE\n",
      "hopeless, at iter 927 mode ADD_RULE\n",
      "hopeless, at iter 931 mode ADD_RULE\n",
      "hopeless, at iter 933 mode ADD_RULE\n",
      "hopeless, at iter 934 mode ADD_RULE\n",
      "hopeless, at iter 936 mode ADD_RULE\n",
      "hopeless, at iter 944 mode ADD_RULE\n",
      "hopeless, at iter 945 mode ADD_RULE\n",
      "best solution found in iteration 157\n",
      "Now print Error Log\n",
      "at iteration: 930 happens the following error\n",
      "('no plausible actions, len length of actions', 0, 'in the mode of ', 'SPECIFY_CONDITION')\n",
      "at iteration: 931 happens the following error\n",
      "('no plausible actions, len length of actions', 0, 'in the mode of ', 'REMOVE_CONDITION')\n",
      "at iteration: 934 happens the following error\n",
      "('no plausible actions, len length of actions', 0, 'in the mode of ', 'REMOVE_CONDITION')\n",
      "at iteration: 946 happens the following error\n",
      "('no plausible actions, len length of actions', 0, 'in the mode of ', 'REMOVE_CONDITION')\n",
      "at iteration: 950 happens the following error\n",
      "('no plausible actions, len length of actions', 0, 'in the mode of ', 'REMOVE_CONDITION')\n",
      "at iteration: 953 happens the following error\n",
      "('no plausible actions, len length of actions', 0, 'in the mode of ', 'REMOVE_CONDITION')\n",
      "at iteration: 956 happens the following error\n",
      "('no plausible actions, len length of actions', 0, 'in the mode of ', 'REMOVE_CONDITION')\n",
      "at iteration: 961 happens the following error\n",
      "('no plausible actions, len length of actions', 0, 'in the mode of ', 'REMOVE_CONDITION')\n",
      "parameter:  1.5000000000000002e-05 0 metrics 0 0.0 0.7858751279426817 0.0 0.0 2672\n",
      "parameter:  1.5000000000000002e-05 1 metrics 1 0.17611159546643418 0.8065506653019447 0.0965583173996176 1.0 2672\n",
      "parameter:  1.5000000000000002e-05 2 metrics 2 0.18560277536860365 0.8077789150460594 0.1022944550669216 1.0 2672\n",
      "parameter:  1.5000000000000002e-05 3 metrics 3 0.19965576592082618 0.8096212896622313 0.11089866156787763 1.0 2672\n",
      "parameter:  1.5000000000000002e-05 4 metrics 4 0.394578313253012 0.8354145342886387 0.25047801147227533 0.9290780141843972 2672\n",
      "parameter:  1.5000000000000002e-05 5 metrics 5 0.41836734693877553 0.8366427840327533 0.27437858508604207 0.8803680981595092 2672\n",
      "parameter:  1.5000000000000002e-05 6 metrics 6 0.42235123367198846 0.8370522006141249 0.27820267686424477 0.8765060240963856 2672\n",
      "parameter:  1.5000000000000002e-05 7 metrics 7 0.49245541838134427 0.8485158648925282 0.34321223709369025 0.8713592233009708 2672\n",
      "parameter:  1.5000000000000002e-05 8 metrics 8 0.49245541838134427 0.8485158648925282 0.34321223709369025 0.8713592233009708 2672\n",
      "parameter:  1.5000000000000002e-05 9 metrics 9 0.49245541838134427 0.8485158648925282 0.34321223709369025 0.8713592233009708 2672\n",
      "parameter:  1.5000000000000002e-05 10 metrics 10 0.49245541838134427 0.8485158648925282 0.34321223709369025 0.8713592233009708 2672\n",
      "parameter:  1.5000000000000002e-05 11 metrics 11 0.49245541838134427 0.8485158648925282 0.34321223709369025 0.8713592233009708 2672\n",
      "parameter:  1.5000000000000002e-05 12 metrics 12 0.49245541838134427 0.8485158648925282 0.34321223709369025 0.8713592233009708 2672\n",
      "parameter:  1.5000000000000002e-05 13 metrics 13 0.49245541838134427 0.8485158648925282 0.34321223709369025 0.8713592233009708 2672\n",
      "parameter:  1.5000000000000002e-05 14 metrics 14 0.49245541838134427 0.8485158648925282 0.34321223709369025 0.8713592233009708 2672\n",
      "parameter:  1.5000000000000002e-05 15 metrics 15 0.49245541838134427 0.8485158648925282 0.34321223709369025 0.8713592233009708 2672\n",
      "parameter:  1.5000000000000002e-05 16 metrics 16 0.49245541838134427 0.8485158648925282 0.34321223709369025 0.8713592233009708 2672\n",
      "parameter:  1.5000000000000002e-05 17 metrics 17 0.49245541838134427 0.8485158648925282 0.34321223709369025 0.8713592233009708 2672\n",
      "parameter:  1.5000000000000002e-05 18 metrics 18 0.49245541838134427 0.8485158648925282 0.34321223709369025 0.8713592233009708 2672\n",
      "parameter:  1.5000000000000002e-05 19 metrics 19 0.49245541838134427 0.8485158648925282 0.34321223709369025 0.8713592233009708 2672\n",
      "parameter:  1.5000000000000002e-05 20 metrics 20 0.49245541838134427 0.8485158648925282 0.34321223709369025 0.8713592233009708 2672\n",
      "parameter:  1.5000000000000002e-05 21 metrics 21 0.4906444906444906 0.849539406345957 0.3384321223709369 0.8916876574307305 2672\n",
      "parameter:  1.5000000000000002e-05 22 metrics 22 0.4906444906444906 0.849539406345957 0.3384321223709369 0.8916876574307305 2672\n",
      "parameter:  1.5000000000000002e-05 23 metrics 23 0.4906444906444906 0.849539406345957 0.3384321223709369 0.8916876574307305 2672\n",
      "parameter:  1.5000000000000002e-05 24 metrics 24 0.4906444906444906 0.849539406345957 0.3384321223709369 0.8916876574307305 2672\n",
      "parameter:  1.5000000000000002e-05 25 metrics 25 0.7062532842879664 0.885568065506653 0.6424474187380497 0.7841306884480747 2672\n",
      "parameter:  1.5000000000000002e-05 26 metrics 26 0.7062532842879664 0.885568065506653 0.6424474187380497 0.7841306884480747 2672\n",
      "parameter:  1.5000000000000002e-05 27 metrics 27 0.7062532842879664 0.885568065506653 0.6424474187380497 0.7841306884480747 2672\n",
      "parameter:  1.5000000000000002e-05 28 metrics 28 0.7095744680851063 0.8882292732855681 0.6376673040152964 0.7997601918465228 2672\n",
      "parameter:  1.5000000000000002e-05 29 metrics 29 0.7095744680851063 0.8882292732855681 0.6376673040152964 0.7997601918465228 2672\n",
      "parameter:  1.5000000000000002e-05 30 metrics 30 0.7095744680851063 0.8882292732855681 0.6376673040152964 0.7997601918465228 2672\n",
      "parameter:  1.5000000000000002e-05 31 metrics 31 0.709539121114684 0.8890481064483111 0.6328871892925431 0.8073170731707318 2672\n",
      "parameter:  1.5000000000000002e-05 32 metrics 32 0.7088877062267164 0.8880245649948822 0.6367112810707457 0.7995198079231692 2672\n",
      "parameter:  1.5000000000000002e-05 33 metrics 33 0.7088877062267164 0.8880245649948822 0.6367112810707457 0.7995198079231692 2672\n",
      "parameter:  1.5000000000000002e-05 34 metrics 34 0.7088877062267164 0.8880245649948822 0.6367112810707457 0.7995198079231692 2672\n",
      "parameter:  1.5000000000000002e-05 35 metrics 35 0.7088877062267164 0.8880245649948822 0.6367112810707457 0.7995198079231692 2672\n",
      "parameter:  1.5000000000000002e-05 36 metrics 36 0.720954356846473 0.8898669396110542 0.6644359464627151 0.7879818594104309 2672\n",
      "parameter:  1.5000000000000002e-05 37 metrics 37 0.7114666666666667 0.889252814738997 0.6376673040152964 0.804583835946924 2672\n",
      "parameter:  1.5000000000000002e-05 38 metrics 38 0.7110874200426438 0.8890481064483111 0.6376673040152964 0.8036144578313253 2672\n",
      "parameter:  1.5000000000000002e-05 39 metrics 39 0.7110874200426438 0.8890481064483111 0.6376673040152964 0.8036144578313253 2672\n",
      "parameter:  1.5000000000000002e-05 40 metrics 40 0.7121535181236673 0.8894575230296827 0.638623326959847 0.8048192771084337 2672\n",
      "parameter:  1.5000000000000002e-05 41 metrics 41 0.7121535181236673 0.8894575230296827 0.638623326959847 0.8048192771084337 2672\n",
      "parameter:  1.5000000000000002e-05 42 metrics 42 0.7094017094017093 0.8886386898669396 0.6347992351816444 0.8038740920096852 2672\n",
      "parameter:  1.5000000000000002e-05 43 metrics 43 0.7121535181236673 0.8894575230296827 0.638623326959847 0.8048192771084337 2672\n",
      "parameter:  1.5000000000000002e-05 44 metrics 44 0.7121535181236673 0.8894575230296827 0.638623326959847 0.8048192771084337 2672\n",
      "parameter:  1.5000000000000002e-05 45 metrics 45 0.7121535181236673 0.8894575230296827 0.638623326959847 0.8048192771084337 2672\n",
      "parameter:  1.5000000000000002e-05 46 metrics 46 0.6840317100792752 0.8857727737973388 0.5774378585086042 0.8388888888888889 2672\n",
      "parameter:  1.5000000000000002e-05 47 metrics 47 0.6884507042253522 0.8867963152507676 0.5841300191204589 0.8381344307270233 2672\n",
      "parameter:  1.5000000000000002e-05 48 metrics 48 0.6884507042253522 0.8867963152507676 0.5841300191204589 0.8381344307270233 2672\n",
      "parameter:  1.5000000000000002e-05 49 metrics 49 0.7128396377197656 0.8896622313203685 0.6395793499043977 0.8050541516245487 2672\n",
      "parameter:  1.5000000000000002e-05 50 metrics 50 0.7128396377197656 0.8896622313203685 0.6395793499043977 0.8050541516245487 2672\n",
      "parameter:  1.5000000000000002e-05 51 metrics 51 0.7138297872340426 0.8898669396110542 0.641491395793499 0.8045563549160671 2672\n",
      "parameter:  1.5000000000000002e-05 52 metrics 52 0.7151193633952254 0.89007164790174 0.6443594646271511 0.8033373063170441 2672\n",
      "parameter:  1.5000000000000002e-05 53 metrics 53 0.7151193633952254 0.89007164790174 0.6443594646271511 0.8033373063170441 2672\n",
      "parameter:  1.5000000000000002e-05 54 metrics 54 0.7130528586839268 0.8910951893551688 0.6319311663479924 0.818069306930693 2672\n",
      "parameter:  1.5000000000000002e-05 55 metrics 55 0.7130528586839268 0.8910951893551688 0.6319311663479924 0.818069306930693 2672\n",
      "parameter:  1.5000000000000002e-05 56 metrics 56 0.7130528586839268 0.8910951893551688 0.6319311663479924 0.818069306930693 2672\n",
      "parameter:  1.5000000000000002e-05 57 metrics 57 0.7130528586839268 0.8910951893551688 0.6319311663479924 0.818069306930693 2672\n",
      "parameter:  1.5000000000000002e-05 58 metrics 58 0.7130528586839268 0.8910951893551688 0.6319311663479924 0.818069306930693 2672\n",
      "parameter:  1.5000000000000002e-05 59 metrics 59 0.7162740899357601 0.8915046059365405 0.6395793499043977 0.8138686131386861 2672\n"
     ]
    },
    {
     "name": "stdout",
     "output_type": "stream",
     "text": [
      "parameter:  1.5000000000000002e-05 60 metrics 60 0.7162740899357601 0.8915046059365405 0.6395793499043977 0.8138686131386861 2672\n",
      "parameter:  1.5000000000000002e-05 61 metrics 61 0.7162740899357601 0.8915046059365405 0.6395793499043977 0.8138686131386861 2672\n",
      "parameter:  1.5000000000000002e-05 62 metrics 62 0.7192699946323136 0.8929375639713408 0.6405353728489483 0.8200734394124847 2672\n",
      "parameter:  1.5000000000000002e-05 63 metrics 63 0.7192699946323136 0.8929375639713408 0.6405353728489483 0.8200734394124847 2672\n",
      "parameter:  1.5000000000000002e-05 64 metrics 64 0.7192699946323136 0.8929375639713408 0.6405353728489483 0.8200734394124847 2672\n",
      "parameter:  1.5000000000000002e-05 65 metrics 65 0.7192699946323136 0.8929375639713408 0.6405353728489483 0.8200734394124847 2672\n",
      "parameter:  1.5000000000000002e-05 66 metrics 66 0.7181425485961123 0.8931422722620266 0.635755258126195 0.825062034739454 2672\n",
      "parameter:  1.5000000000000002e-05 67 metrics 67 0.7181425485961123 0.8931422722620266 0.635755258126195 0.825062034739454 2672\n",
      "parameter:  1.5000000000000002e-05 68 metrics 68 0.7177549919050188 0.8929375639713408 0.635755258126195 0.8240396530359355 2672\n",
      "parameter:  1.5000000000000002e-05 69 metrics 69 0.7181425485961123 0.8931422722620266 0.635755258126195 0.825062034739454 2672\n",
      "parameter:  1.5000000000000002e-05 70 metrics 70 0.7165311653116531 0.8929375639713408 0.6319311663479924 0.8272841051314143 2672\n",
      "parameter:  1.5000000000000002e-05 71 metrics 71 0.7165311653116531 0.8929375639713408 0.6319311663479924 0.8272841051314143 2672\n",
      "parameter:  1.5000000000000002e-05 72 metrics 72 0.715755278830536 0.8925281473899693 0.6319311663479924 0.8252184769038702 2672\n",
      "parameter:  1.5000000000000002e-05 73 metrics 73 0.715755278830536 0.8925281473899693 0.6319311663479924 0.8252184769038702 2672\n",
      "parameter:  1.5000000000000002e-05 74 metrics 74 0.7156756756756757 0.8923234390992835 0.6328871892925431 0.8233830845771144 2672\n",
      "parameter:  1.5000000000000002e-05 75 metrics 75 0.7156756756756757 0.8923234390992835 0.6328871892925431 0.8233830845771144 2672\n",
      "parameter:  1.5000000000000002e-05 76 metrics 76 0.7156756756756757 0.8923234390992835 0.6328871892925431 0.8233830845771144 2672\n",
      "parameter:  1.5000000000000002e-05 77 metrics 77 0.7156756756756757 0.8923234390992835 0.6328871892925431 0.8233830845771144 2672\n",
      "parameter:  1.5000000000000002e-05 78 metrics 78 0.7138994050838291 0.8917093142272262 0.6309751434034416 0.821917808219178 2672\n",
      "parameter:  1.5000000000000002e-05 79 metrics 79 0.713128038897893 0.8912998976458547 0.6309751434034416 0.8198757763975155 2672\n",
      "parameter:  1.5000000000000002e-05 80 metrics 80 0.712742980561555 0.8910951893551688 0.6309751434034416 0.8188585607940446 2672\n",
      "parameter:  1.5000000000000002e-05 81 metrics 81 0.712742980561555 0.8910951893551688 0.6309751434034416 0.8188585607940446 2672\n",
      "parameter:  1.5000000000000002e-05 82 metrics 82 0.712742980561555 0.8910951893551688 0.6309751434034416 0.8188585607940446 2672\n",
      "parameter:  1.5000000000000002e-05 83 metrics 83 0.712742980561555 0.8910951893551688 0.6309751434034416 0.8188585607940446 2672\n",
      "parameter:  1.5000000000000002e-05 84 metrics 84 0.7156756756756757 0.8923234390992835 0.6328871892925431 0.8233830845771144 2672\n",
      "parameter:  1.5000000000000002e-05 85 metrics 85 0.7156756756756757 0.8923234390992835 0.6328871892925431 0.8233830845771144 2672\n",
      "parameter:  1.5000000000000002e-05 86 metrics 86 0.715755278830536 0.8925281473899693 0.6319311663479924 0.8252184769038702 2672\n",
      "parameter:  1.5000000000000002e-05 87 metrics 87 0.715755278830536 0.8925281473899693 0.6319311663479924 0.8252184769038702 2672\n",
      "parameter:  1.5000000000000002e-05 88 metrics 88 0.715755278830536 0.8925281473899693 0.6319311663479924 0.8252184769038702 2672\n",
      "parameter:  1.5000000000000002e-05 89 metrics 89 0.715755278830536 0.8925281473899693 0.6319311663479924 0.8252184769038702 2672\n",
      "parameter:  1.5000000000000002e-05 90 metrics 90 0.715755278830536 0.8925281473899693 0.6319311663479924 0.8252184769038702 2672\n",
      "parameter:  1.5000000000000002e-05 91 metrics 91 0.715755278830536 0.8925281473899693 0.6319311663479924 0.8252184769038702 2672\n",
      "parameter:  1.5000000000000002e-05 92 metrics 92 0.715755278830536 0.8925281473899693 0.6319311663479924 0.8252184769038702 2672\n",
      "parameter:  1.5000000000000002e-05 93 metrics 93 0.7154471544715446 0.8925281473899693 0.6309751434034416 0.8260325406758448 2672\n",
      "parameter:  1.5000000000000002e-05 94 metrics 94 0.721205597416577 0.8939611054247697 0.6405353728489483 0.8251231527093597 2672\n",
      "parameter:  1.5000000000000002e-05 95 metrics 95 0.721205597416577 0.8939611054247697 0.6405353728489483 0.8251231527093597 2672\n",
      "parameter:  1.5000000000000002e-05 96 metrics 96 0.7221923696937129 0.8941658137154554 0.6424474187380497 0.8245398773006135 2672\n",
      "parameter:  1.5000000000000002e-05 97 metrics 97 0.721205597416577 0.8939611054247697 0.6405353728489483 0.8251231527093597 2672\n",
      "parameter:  1.5000000000000002e-05 98 metrics 98 0.7251336898395722 0.8947799385875128 0.6481835564053537 0.8228155339805825 2672\n",
      "parameter:  1.5000000000000002e-05 99 metrics 99 0.7251336898395722 0.8947799385875128 0.6481835564053537 0.8228155339805825 2672\n",
      "init transformer okay!\n",
      "new cached!\n"
     ]
    },
    {
     "data": {
      "application/vnd.jupyter.widget-view+json": {
       "model_id": "a22e7f8739b1454a8cf362651aeda6e5",
       "version_major": 2,
       "version_minor": 0
      },
      "text/plain": [
       "HBox(children=(IntProgress(value=0, max=1000), HTML(value='')))"
      ]
     },
     "metadata": {},
     "output_type": "display_data"
    },
    {
     "name": "stdout",
     "output_type": "stream",
     "text": [
      "best solution found in iteration 863\n",
      "Now print Error Log\n",
      "no error happens\n",
      "parameter:  2e-05 0 metrics 0 0.0 0.7858751279426817 0.0 0.0 6620\n",
      "parameter:  2e-05 1 metrics 1 0.03198494825964252 0.7893551688843398 0.016252390057361378 1.0 6620\n",
      "parameter:  2e-05 2 metrics 2 0.04668534080298786 0.790992835209826 0.02390057361376673 1.0 6620\n",
      "parameter:  2e-05 3 metrics 3 0.07188940092165898 0.7938587512794268 0.0372848948374761 1.0 6620\n",
      "parameter:  2e-05 4 metrics 4 0.394578313253012 0.8354145342886387 0.25047801147227533 0.9290780141843972 6620\n",
      "parameter:  2e-05 5 metrics 5 0.41836734693877553 0.8366427840327533 0.27437858508604207 0.8803680981595092 6620\n",
      "parameter:  2e-05 6 metrics 6 0.5098554533508541 0.8472876151484136 0.37093690248565964 0.8151260504201681 6620\n",
      "parameter:  2e-05 7 metrics 7 0.4932795698924731 0.8456499488229273 0.3508604206500956 0.830316742081448 6620\n",
      "parameter:  2e-05 8 metrics 8 0.38333333333333336 0.8333674513817809 0.2418738049713193 0.9233576642335767 6620\n",
      "parameter:  2e-05 9 metrics 9 0.38333333333333336 0.8333674513817809 0.2418738049713193 0.9233576642335767 6620\n",
      "parameter:  2e-05 10 metrics 10 0.5095962938451357 0.8483111566018424 0.36806883365200765 0.8279569892473119 6620\n",
      "parameter:  2e-05 11 metrics 11 0.5095962938451357 0.8483111566018424 0.36806883365200765 0.8279569892473119 6620\n",
      "parameter:  2e-05 12 metrics 12 0.5095962938451357 0.8483111566018424 0.36806883365200765 0.8279569892473119 6620\n",
      "parameter:  2e-05 13 metrics 13 0.5095962938451357 0.8483111566018424 0.36806883365200765 0.8279569892473119 6620\n",
      "parameter:  2e-05 14 metrics 14 0.5095962938451357 0.8483111566018424 0.36806883365200765 0.8279569892473119 6620\n",
      "parameter:  2e-05 15 metrics 15 0.5095962938451357 0.8483111566018424 0.36806883365200765 0.8279569892473119 6620\n",
      "parameter:  2e-05 16 metrics 16 0.7114300358790364 0.8847492323439099 0.6634799235181644 0.7668508287292818 6620\n",
      "parameter:  2e-05 17 metrics 17 0.7114300358790364 0.8847492323439099 0.6634799235181644 0.7668508287292818 6620\n",
      "parameter:  2e-05 18 metrics 18 0.7114300358790364 0.8847492323439099 0.6634799235181644 0.7668508287292818 6620\n",
      "parameter:  2e-05 19 metrics 19 0.7114300358790364 0.8847492323439099 0.6634799235181644 0.7668508287292818 6620\n",
      "parameter:  2e-05 20 metrics 20 0.7114300358790364 0.8847492323439099 0.6634799235181644 0.7668508287292818 6620\n",
      "parameter:  2e-05 21 metrics 21 0.6161369193154034 0.8714431934493347 0.4818355640535373 0.8542372881355932 6620\n",
      "parameter:  2e-05 22 metrics 22 0.7045576407506703 0.8872057318321392 0.6281070745697896 0.8021978021978022 6620\n",
      "parameter:  2e-05 23 metrics 23 0.7023484434735119 0.8884339815762539 0.6147227533460803 0.8191082802547771 6620\n",
      "parameter:  2e-05 24 metrics 24 0.7038861521620142 0.889252814738997 0.6147227533460803 0.8233034571062741 6620\n",
      "parameter:  2e-05 25 metrics 25 0.7023484434735119 0.8884339815762539 0.6147227533460803 0.8191082802547771 6620\n",
      "parameter:  2e-05 26 metrics 26 0.7023484434735119 0.8884339815762539 0.6147227533460803 0.8191082802547771 6620\n",
      "parameter:  2e-05 27 metrics 27 0.7023484434735119 0.8884339815762539 0.6147227533460803 0.8191082802547771 6620\n",
      "parameter:  2e-05 28 metrics 28 0.6995614035087719 0.8878198567041965 0.609942638623327 0.8200514138817481 6620\n",
      "parameter:  2e-05 29 metrics 29 0.6995614035087719 0.8878198567041965 0.609942638623327 0.8200514138817481 6620\n",
      "parameter:  2e-05 30 metrics 30 0.6995614035087719 0.8878198567041965 0.609942638623327 0.8200514138817481 6620\n",
      "parameter:  2e-05 31 metrics 31 0.7028788701792503 0.8880245649948822 0.6185468451242829 0.8138364779874214 6620\n",
      "parameter:  2e-05 32 metrics 32 0.6988480526604498 0.8876151484135107 0.6089866156787763 0.8198198198198198 6620\n",
      "parameter:  2e-05 33 metrics 33 0.6988480526604498 0.8876151484135107 0.6089866156787763 0.8198198198198198 6620\n",
      "parameter:  2e-05 34 metrics 34 0.6995614035087719 0.8878198567041965 0.609942638623327 0.8200514138817481 6620\n",
      "parameter:  2e-05 35 metrics 35 0.6995614035087719 0.8878198567041965 0.609942638623327 0.8200514138817481 6620\n",
      "parameter:  2e-05 36 metrics 36 0.6995614035087719 0.8878198567041965 0.609942638623327 0.8200514138817481 6620\n",
      "parameter:  2e-05 37 metrics 37 0.6995614035087719 0.8878198567041965 0.609942638623327 0.8200514138817481 6620\n",
      "parameter:  2e-05 38 metrics 38 0.6995614035087719 0.8878198567041965 0.609942638623327 0.8200514138817481 6620\n",
      "parameter:  2e-05 39 metrics 39 0.6995614035087719 0.8878198567041965 0.609942638623327 0.8200514138817481 6620\n",
      "parameter:  2e-05 40 metrics 40 0.6995614035087719 0.8878198567041965 0.609942638623327 0.8200514138817481 6620\n",
      "parameter:  2e-05 41 metrics 41 0.6995614035087719 0.8878198567041965 0.609942638623327 0.8200514138817481 6620\n",
      "parameter:  2e-05 42 metrics 42 0.6995614035087719 0.8878198567041965 0.609942638623327 0.8200514138817481 6620\n",
      "parameter:  2e-05 43 metrics 43 0.7135193133047211 0.8906857727737973 0.635755258126195 0.812958435207824 6620\n",
      "parameter:  2e-05 44 metrics 44 0.7168 0.8912998976458547 0.6424474187380497 0.8106151990349819 6620\n",
      "parameter:  2e-05 45 metrics 45 0.7042253521126761 0.8882292732855681 0.621414913957935 0.8125 6620\n",
      "parameter:  2e-05 46 metrics 46 0.7041644131963225 0.8880245649948822 0.6223709369024857 0.8107098381070984 6620\n",
      "parameter:  2e-05 47 metrics 47 0.7148981779206859 0.8910951893551688 0.6376673040152964 0.8134146341463414 6620\n",
      "parameter:  2e-05 48 metrics 48 0.7148981779206859 0.8910951893551688 0.6376673040152964 0.8134146341463414 6620\n",
      "parameter:  2e-05 49 metrics 49 0.7221333333333333 0.8933469805527123 0.6472275334608031 0.8166465621230398 6620\n",
      "parameter:  2e-05 50 metrics 50 0.7221333333333333 0.8933469805527123 0.6472275334608031 0.8166465621230398 6620\n",
      "parameter:  2e-05 51 metrics 51 0.7221333333333333 0.8933469805527123 0.6472275334608031 0.8166465621230398 6620\n",
      "parameter:  2e-05 52 metrics 52 0.724853645556147 0.8941658137154554 0.6510516252390057 0.8175270108043218 6620\n",
      "parameter:  2e-05 53 metrics 53 0.724853645556147 0.8941658137154554 0.6510516252390057 0.8175270108043218 6620\n",
      "parameter:  2e-05 54 metrics 54 0.7289915966386555 0.8943705220061412 0.6634799235181644 0.8088578088578089 6620\n",
      "parameter:  2e-05 55 metrics 55 0.7289915966386555 0.8943705220061412 0.6634799235181644 0.8088578088578089 6620\n",
      "parameter:  2e-05 56 metrics 56 0.7286089238845145 0.8941658137154554 0.6634799235181644 0.8079161816065192 6620\n",
      "parameter:  2e-05 57 metrics 57 0.7286089238845145 0.8941658137154554 0.6634799235181644 0.8079161816065192 6620\n",
      "parameter:  2e-05 58 metrics 58 0.7286089238845145 0.8941658137154554 0.6634799235181644 0.8079161816065192 6620\n",
      "parameter:  2e-05 59 metrics 59 0.7286089238845145 0.8941658137154554 0.6634799235181644 0.8079161816065192 6620\n",
      "parameter:  2e-05 60 metrics 60 0.600250626566416 0.869396110542477 0.45793499043977054 0.8709090909090909 6620\n",
      "parameter:  2e-05 61 metrics 61 0.600250626566416 0.869396110542477 0.45793499043977054 0.8709090909090909 6620\n",
      "parameter:  2e-05 62 metrics 62 0.600250626566416 0.869396110542477 0.45793499043977054 0.8709090909090909 6620\n",
      "parameter:  2e-05 63 metrics 63 0.7286089238845145 0.8941658137154554 0.6634799235181644 0.8079161816065192 6620\n",
      "parameter:  2e-05 64 metrics 64 0.7282266526757607 0.8939611054247697 0.6634799235181644 0.8069767441860465 6620\n",
      "parameter:  2e-05 65 metrics 65 0.7370600414078675 0.8960081883316274 0.6806883365200764 0.8036117381489842 6620\n",
      "parameter:  2e-05 66 metrics 66 0.7370600414078675 0.8960081883316274 0.6806883365200764 0.8036117381489842 6620\n",
      "parameter:  2e-05 67 metrics 67 0.7370600414078675 0.8960081883316274 0.6806883365200764 0.8036117381489842 6620\n",
      "parameter:  2e-05 68 metrics 68 0.7370600414078675 0.8960081883316274 0.6806883365200764 0.8036117381489842 6620\n",
      "parameter:  2e-05 69 metrics 69 0.7416193914388861 0.8974411463664278 0.6873804971319312 0.8051511758118701 6620\n",
      "parameter:  2e-05 70 metrics 70 0.7341772151898734 0.8968270214943705 0.6653919694072657 0.8188235294117647 6620\n",
      "parameter:  2e-05 71 metrics 71 0.7356805044666317 0.8970317297850563 0.6692160611854685 0.8168028004667445 6620\n",
      "parameter:  2e-05 72 metrics 72 0.7413526071244192 0.8974411463664278 0.6864244741873805 0.8058361391694725 6620\n",
      "parameter:  2e-05 73 metrics 73 0.7413526071244192 0.8974411463664278 0.6864244741873805 0.8058361391694725 6620\n",
      "parameter:  2e-05 74 metrics 74 0.7413526071244192 0.8974411463664278 0.6864244741873805 0.8058361391694725 6620\n",
      "parameter:  2e-05 75 metrics 75 0.7413526071244192 0.8974411463664278 0.6864244741873805 0.8058361391694725 6620\n",
      "parameter:  2e-05 76 metrics 76 0.7413526071244192 0.8974411463664278 0.6864244741873805 0.8058361391694725 6620\n",
      "parameter:  2e-05 77 metrics 77 0.7212413055109685 0.8933469805527123 0.6443594646271511 0.818955042527339 6620\n",
      "parameter:  2e-05 78 metrics 78 0.7413526071244192 0.8974411463664278 0.6864244741873805 0.8058361391694725 6620\n",
      "parameter:  2e-05 79 metrics 79 0.7413526071244192 0.8974411463664278 0.6864244741873805 0.8058361391694725 6620\n",
      "parameter:  2e-05 80 metrics 80 0.7413526071244192 0.8974411463664278 0.6864244741873805 0.8058361391694725 6620\n",
      "parameter:  2e-05 81 metrics 81 0.7413526071244192 0.8974411463664278 0.6864244741873805 0.8058361391694725 6620\n",
      "parameter:  2e-05 82 metrics 82 0.7431806484817293 0.8978505629477994 0.6902485659655831 0.8049052396878483 6620\n"
     ]
    },
    {
     "name": "stdout",
     "output_type": "stream",
     "text": [
      "parameter:  2e-05 83 metrics 83 0.7438271604938271 0.8980552712384852 0.6912045889101338 0.8051224944320713 6620\n",
      "parameter:  2e-05 84 metrics 84 0.7438271604938271 0.8980552712384852 0.6912045889101338 0.8051224944320713 6620\n",
      "parameter:  2e-05 85 metrics 85 0.7438271604938271 0.8980552712384852 0.6912045889101338 0.8051224944320713 6620\n",
      "parameter:  2e-05 86 metrics 86 0.7391304347826089 0.8968270214943705 0.6826003824091779 0.8058690744920993 6620\n",
      "parameter:  2e-05 87 metrics 87 0.7520325203252033 0.9001023541453429 0.7074569789674953 0.8026030368763557 6620\n",
      "parameter:  2e-05 88 metrics 88 0.7548125633232016 0.900921187308086 0.7122370936902486 0.802801724137931 6620\n",
      "parameter:  2e-05 89 metrics 89 0.757788944723618 0.9013306038894575 0.7208413001912046 0.798728813559322 6620\n",
      "parameter:  2e-05 90 metrics 90 0.757788944723618 0.9013306038894575 0.7208413001912046 0.798728813559322 6620\n",
      "parameter:  2e-05 91 metrics 91 0.757788944723618 0.9013306038894575 0.7208413001912046 0.798728813559322 6620\n",
      "parameter:  2e-05 92 metrics 92 0.757788944723618 0.9013306038894575 0.7208413001912046 0.798728813559322 6620\n",
      "parameter:  2e-05 93 metrics 93 0.757788944723618 0.9013306038894575 0.7208413001912046 0.798728813559322 6620\n",
      "parameter:  2e-05 94 metrics 94 0.757788944723618 0.9013306038894575 0.7208413001912046 0.798728813559322 6620\n",
      "init transformer okay!\n",
      "new cached!\n"
     ]
    },
    {
     "data": {
      "application/vnd.jupyter.widget-view+json": {
       "model_id": "1ab3f8f3bdcd4436992792d7b3aa36fa",
       "version_major": 2,
       "version_minor": 0
      },
      "text/plain": [
       "HBox(children=(IntProgress(value=0, max=1000), HTML(value='')))"
      ]
     },
     "metadata": {},
     "output_type": "display_data"
    },
    {
     "name": "stdout",
     "output_type": "stream",
     "text": [
      "best solution found in iteration 906\n",
      "Now print Error Log\n",
      "no error happens\n",
      "parameter:  3.0000000000000004e-05 1 metrics 1 0.03198494825964252 0.7893551688843398 0.016252390057361378 1.0 5810\n",
      "parameter:  3.0000000000000004e-05 2 metrics 2 0.04668534080298786 0.790992835209826 0.02390057361376673 1.0 5810\n",
      "parameter:  3.0000000000000004e-05 3 metrics 3 0.07188940092165898 0.7938587512794268 0.0372848948374761 1.0 5810\n",
      "parameter:  3.0000000000000004e-05 4 metrics 4 0.394578313253012 0.8354145342886387 0.25047801147227533 0.9290780141843972 5810\n",
      "parameter:  3.0000000000000004e-05 5 metrics 5 0.41836734693877553 0.8366427840327533 0.27437858508604207 0.8803680981595092 5810\n",
      "parameter:  3.0000000000000004e-05 6 metrics 6 0.49245541838134427 0.8485158648925282 0.34321223709369025 0.8713592233009708 5810\n",
      "parameter:  3.0000000000000004e-05 7 metrics 7 0.49245541838134427 0.8485158648925282 0.34321223709369025 0.8713592233009708 5810\n",
      "parameter:  3.0000000000000004e-05 8 metrics 8 0.49245541838134427 0.8485158648925282 0.34321223709369025 0.8713592233009708 5810\n",
      "parameter:  3.0000000000000004e-05 9 metrics 9 0.49245541838134427 0.8485158648925282 0.34321223709369025 0.8713592233009708 5810\n",
      "parameter:  3.0000000000000004e-05 10 metrics 10 0.49245541838134427 0.8485158648925282 0.34321223709369025 0.8713592233009708 5810\n",
      "parameter:  3.0000000000000004e-05 11 metrics 11 0.49245541838134427 0.8485158648925282 0.34321223709369025 0.8713592233009708 5810\n",
      "parameter:  3.0000000000000004e-05 12 metrics 12 0.49245541838134427 0.8485158648925282 0.34321223709369025 0.8713592233009708 5810\n",
      "parameter:  3.0000000000000004e-05 13 metrics 13 0.49012933968686184 0.8466734902763562 0.3441682600382409 0.851063829787234 5810\n",
      "parameter:  3.0000000000000004e-05 14 metrics 14 0.5615826419910658 0.8593654042988741 0.42065009560229444 0.8445297504798465 5810\n",
      "parameter:  3.0000000000000004e-05 15 metrics 15 0.5615826419910658 0.8593654042988741 0.42065009560229444 0.8445297504798465 5810\n",
      "parameter:  3.0000000000000004e-05 16 metrics 16 0.5615826419910658 0.8593654042988741 0.42065009560229444 0.8445297504798465 5810\n",
      "parameter:  3.0000000000000004e-05 17 metrics 17 0.70199370409234 0.883725690890481 0.6395793499043977 0.7779069767441861 5810\n",
      "parameter:  3.0000000000000004e-05 18 metrics 18 0.70199370409234 0.883725690890481 0.6395793499043977 0.7779069767441861 5810\n",
      "parameter:  3.0000000000000004e-05 19 metrics 19 0.7021052631578947 0.8841351074718526 0.6376673040152964 0.7810304449648712 5810\n",
      "parameter:  3.0000000000000004e-05 20 metrics 20 0.7021052631578947 0.8841351074718526 0.6376673040152964 0.7810304449648712 5810\n",
      "parameter:  3.0000000000000004e-05 21 metrics 21 0.6981029810298103 0.8859774820880245 0.615678776290631 0.8060075093867334 5810\n",
      "parameter:  3.0000000000000004e-05 22 metrics 22 0.6991341991341992 0.8861821903787104 0.6175908221797323 0.8054862842892768 5810\n",
      "parameter:  3.0000000000000004e-05 23 metrics 23 0.6991341991341992 0.8861821903787104 0.6175908221797323 0.8054862842892768 5810\n",
      "parameter:  3.0000000000000004e-05 24 metrics 24 0.7015650296815974 0.8867963152507676 0.621414913957935 0.80545229244114 5810\n",
      "parameter:  3.0000000000000004e-05 25 metrics 25 0.7015650296815974 0.8867963152507676 0.621414913957935 0.80545229244114 5810\n",
      "parameter:  3.0000000000000004e-05 26 metrics 26 0.7015650296815974 0.8867963152507676 0.621414913957935 0.80545229244114 5810\n",
      "parameter:  3.0000000000000004e-05 27 metrics 27 0.7015650296815974 0.8867963152507676 0.621414913957935 0.80545229244114 5810\n",
      "parameter:  3.0000000000000004e-05 28 metrics 28 0.7020933977455717 0.8863868986693961 0.6252390057361377 0.8004895960832313 5810\n",
      "parameter:  3.0000000000000004e-05 29 metrics 29 0.6981029810298103 0.8859774820880245 0.615678776290631 0.8060075093867334 5810\n",
      "parameter:  3.0000000000000004e-05 30 metrics 30 0.6981029810298103 0.8859774820880245 0.615678776290631 0.8060075093867334 5810\n",
      "parameter:  3.0000000000000004e-05 31 metrics 31 0.7015650296815974 0.8867963152507676 0.621414913957935 0.80545229244114 5810\n",
      "parameter:  3.0000000000000004e-05 32 metrics 32 0.7015650296815974 0.8867963152507676 0.621414913957935 0.80545229244114 5810\n",
      "parameter:  3.0000000000000004e-05 33 metrics 33 0.7015650296815974 0.8867963152507676 0.621414913957935 0.80545229244114 5810\n",
      "parameter:  3.0000000000000004e-05 34 metrics 34 0.7015650296815974 0.8867963152507676 0.621414913957935 0.80545229244114 5810\n",
      "parameter:  3.0000000000000004e-05 35 metrics 35 0.6697247706422018 0.8820880245649949 0.5583173996175909 0.836676217765043 5810\n",
      "parameter:  3.0000000000000004e-05 36 metrics 36 0.6697247706422018 0.8820880245649949 0.5583173996175909 0.836676217765043 5810\n",
      "parameter:  3.0000000000000004e-05 37 metrics 37 0.7046186895810956 0.887410440122825 0.627151051625239 0.803921568627451 5810\n",
      "parameter:  3.0000000000000004e-05 38 metrics 38 0.7070166041778253 0.8880245649948822 0.6309751434034416 0.8038976857490865 5810\n",
      "parameter:  3.0000000000000004e-05 39 metrics 39 0.5982800982800983 0.8661207778915047 0.4655831739961759 0.8367697594501718 5810\n",
      "parameter:  3.0000000000000004e-05 40 metrics 40 0.7077087794432549 0.8882292732855681 0.6319311663479924 0.8041362530413625 5810\n",
      "parameter:  3.0000000000000004e-05 41 metrics 41 0.7077087794432549 0.8882292732855681 0.6319311663479924 0.8041362530413625 5810\n",
      "parameter:  3.0000000000000004e-05 42 metrics 42 0.7077087794432549 0.8882292732855681 0.6319311663479924 0.8041362530413625 5810\n",
      "parameter:  3.0000000000000004e-05 43 metrics 43 0.7077087794432549 0.8882292732855681 0.6319311663479924 0.8041362530413625 5810\n",
      "parameter:  3.0000000000000004e-05 44 metrics 44 0.7106382978723405 0.8886386898669396 0.638623326959847 0.8009592326139089 5810\n",
      "parameter:  3.0000000000000004e-05 45 metrics 45 0.7106382978723405 0.8886386898669396 0.638623326959847 0.8009592326139089 5810\n",
      "parameter:  3.0000000000000004e-05 46 metrics 46 0.710260499734184 0.8884339815762539 0.638623326959847 0.8 5810\n",
      "parameter:  3.0000000000000004e-05 47 metrics 47 0.710260499734184 0.8884339815762539 0.638623326959847 0.8 5810\n",
      "parameter:  3.0000000000000004e-05 48 metrics 48 0.710260499734184 0.8884339815762539 0.638623326959847 0.8 5810\n",
      "parameter:  3.0000000000000004e-05 49 metrics 49 0.710260499734184 0.8884339815762539 0.638623326959847 0.8 5810\n",
      "parameter:  3.0000000000000004e-05 50 metrics 50 0.710260499734184 0.8884339815762539 0.638623326959847 0.8 5810\n",
      "parameter:  3.0000000000000004e-05 51 metrics 51 0.710260499734184 0.8884339815762539 0.638623326959847 0.8 5810\n",
      "parameter:  3.0000000000000004e-05 52 metrics 52 0.716010498687664 0.889252814738997 0.6520076481835564 0.7939464493597206 5810\n",
      "parameter:  3.0000000000000004e-05 53 metrics 53 0.716010498687664 0.889252814738997 0.6520076481835564 0.7939464493597206 5810\n",
      "parameter:  3.0000000000000004e-05 54 metrics 54 0.716010498687664 0.889252814738997 0.6520076481835564 0.7939464493597206 5810\n",
      "parameter:  3.0000000000000004e-05 55 metrics 55 0.710260499734184 0.8884339815762539 0.638623326959847 0.8 5810\n",
      "parameter:  3.0000000000000004e-05 56 metrics 56 0.710260499734184 0.8884339815762539 0.638623326959847 0.8 5810\n",
      "parameter:  3.0000000000000004e-05 57 metrics 57 0.710260499734184 0.8884339815762539 0.638623326959847 0.8 5810\n",
      "parameter:  3.0000000000000004e-05 58 metrics 58 0.7208333333333333 0.8902763561924258 0.6615678776290631 0.7917620137299771 5810\n",
      "parameter:  3.0000000000000004e-05 59 metrics 59 0.7195822454308095 0.89007164790174 0.6586998087954111 0.7928653624856157 5810\n",
      "parameter:  3.0000000000000004e-05 60 metrics 60 0.7195822454308095 0.89007164790174 0.6586998087954111 0.7928653624856157 5810\n",
      "parameter:  3.0000000000000004e-05 61 metrics 61 0.7214137214137213 0.8902763561924258 0.6634799235181644 0.7904328018223234 5810\n",
      "parameter:  3.0000000000000004e-05 62 metrics 62 0.7214137214137213 0.8902763561924258 0.6634799235181644 0.7904328018223234 5810\n",
      "parameter:  3.0000000000000004e-05 63 metrics 63 0.7220779220779221 0.8904810644831116 0.6644359464627151 0.7906712172923777 5810\n",
      "parameter:  3.0000000000000004e-05 64 metrics 64 0.7220779220779221 0.8904810644831116 0.6644359464627151 0.7906712172923777 5810\n",
      "parameter:  3.0000000000000004e-05 65 metrics 65 0.7202505219206681 0.8902763561924258 0.6596558317399618 0.7931034482758621 5810\n",
      "parameter:  3.0000000000000004e-05 66 metrics 66 0.7198748043818467 0.89007164790174 0.6596558317399618 0.7921928817451206 5810\n",
      "parameter:  3.0000000000000004e-05 67 metrics 67 0.7198748043818467 0.89007164790174 0.6596558317399618 0.7921928817451206 5810\n",
      "parameter:  3.0000000000000004e-05 68 metrics 68 0.7217030114226376 0.8902763561924258 0.6644359464627151 0.7897727272727273 5810\n",
      "parameter:  3.0000000000000004e-05 69 metrics 69 0.7217030114226376 0.8902763561924258 0.6644359464627151 0.7897727272727273 5810\n",
      "parameter:  3.0000000000000004e-05 70 metrics 70 0.7217030114226376 0.8902763561924258 0.6644359464627151 0.7897727272727273 5810\n",
      "parameter:  3.0000000000000004e-05 71 metrics 71 0.7213284898806435 0.89007164790174 0.6644359464627151 0.7888762769580022 5810\n"
     ]
    },
    {
     "name": "stdout",
     "output_type": "stream",
     "text": [
      "parameter:  3.0000000000000004e-05 72 metrics 72 0.7213284898806435 0.89007164790174 0.6644359464627151 0.7888762769580022 5810\n",
      "parameter:  3.0000000000000004e-05 73 metrics 73 0.7213284898806435 0.89007164790174 0.6644359464627151 0.7888762769580022 5810\n",
      "parameter:  3.0000000000000004e-05 74 metrics 74 0.7213284898806435 0.89007164790174 0.6644359464627151 0.7888762769580022 5810\n",
      "parameter:  3.0000000000000004e-05 75 metrics 75 0.7213284898806435 0.89007164790174 0.6644359464627151 0.7888762769580022 5810\n",
      "init transformer okay!\n",
      "new cached!\n"
     ]
    },
    {
     "data": {
      "application/vnd.jupyter.widget-view+json": {
       "model_id": "ac5f4472110144fb8af0c6ed17bc77f8",
       "version_major": 2,
       "version_minor": 0
      },
      "text/plain": [
       "HBox(children=(IntProgress(value=0, max=1000), HTML(value='')))"
      ]
     },
     "metadata": {},
     "output_type": "display_data"
    },
    {
     "name": "stdout",
     "output_type": "stream",
     "text": [
      "best solution found in iteration 924\n",
      "Now print Error Log\n",
      "at iteration: 160 happens the following error\n",
      "('no plausible actions, len length of actions', 0, 'in the mode of ', 'REMOVE_CONDITION')\n",
      "at iteration: 164 happens the following error\n",
      "('no plausible actions, len length of actions', 0, 'in the mode of ', 'REMOVE_CONDITION')\n",
      "at iteration: 165 happens the following error\n",
      "('no plausible actions, len length of actions', 0, 'in the mode of ', 'REMOVE_CONDITION')\n",
      "at iteration: 170 happens the following error\n",
      "('no plausible actions, len length of actions', 0, 'in the mode of ', 'REMOVE_CONDITION')\n",
      "at iteration: 173 happens the following error\n",
      "('no plausible actions, len length of actions', 0, 'in the mode of ', 'REMOVE_CONDITION')\n",
      "at iteration: 176 happens the following error\n",
      "('no plausible actions, len length of actions', 0, 'in the mode of ', 'REMOVE_CONDITION')\n",
      "parameter:  5e-05 0 metrics 0 0.0 0.7858751279426817 0.0 0.0 22022\n",
      "parameter:  5e-05 1 metrics 1 0.2476190476190476 0.7574206755373593 0.1864244741873805 0.3686200378071834 22022\n",
      "parameter:  5e-05 2 metrics 2 0.2674199623352166 0.7611054247697032 0.20363288718929254 0.38939670932358317 22022\n",
      "parameter:  5e-05 3 metrics 3 0.2312811980033278 0.810849539406346 0.13288718929254303 0.8910256410256411 22022\n",
      "parameter:  5e-05 4 metrics 4 0.394578313253012 0.8354145342886387 0.25047801147227533 0.9290780141843972 22022\n",
      "parameter:  5e-05 5 metrics 5 0.41836734693877553 0.8366427840327533 0.27437858508604207 0.8803680981595092 22022\n",
      "parameter:  5e-05 6 metrics 6 0.42151162790697677 0.8370522006141249 0.27724665391969405 0.8787878787878788 22022\n",
      "parameter:  5e-05 7 metrics 7 0.40655249441548774 0.8368474923234391 0.2609942638623327 0.9191919191919192 22022\n",
      "parameter:  5e-05 8 metrics 8 0.40655249441548774 0.8368474923234391 0.2609942638623327 0.9191919191919192 22022\n",
      "parameter:  5e-05 9 metrics 9 0.47765363128491617 0.8468781985670419 0.32695984703632885 0.8860103626943006 22022\n",
      "parameter:  5e-05 10 metrics 10 0.44111349036402564 0.8397134083930399 0.2954110898661568 0.8704225352112676 22022\n",
      "parameter:  5e-05 11 metrics 11 0.38976674191121147 0.8339815762538383 0.24760994263862332 0.9151943462897526 22022\n",
      "parameter:  5e-05 12 metrics 12 0.4927934111187372 0.8487205731832139 0.34321223709369025 0.8734793187347932 22022\n",
      "parameter:  5e-05 13 metrics 13 0.49415003441156236 0.849539406345957 0.34321223709369025 0.8820638820638821 22022\n",
      "parameter:  5e-05 14 metrics 14 0.4927934111187372 0.8487205731832139 0.34321223709369025 0.8734793187347932 22022\n",
      "parameter:  5e-05 15 metrics 15 0.49415003441156236 0.849539406345957 0.34321223709369025 0.8820638820638821 22022\n",
      "parameter:  5e-05 16 metrics 16 0.49415003441156236 0.849539406345957 0.34321223709369025 0.8820638820638821 22022\n",
      "parameter:  5e-05 17 metrics 17 0.6517106001121704 0.8728761514841351 0.5554493307839388 0.7883310719131614 22022\n",
      "parameter:  5e-05 18 metrics 18 0.6517106001121704 0.8728761514841351 0.5554493307839388 0.7883310719131614 22022\n",
      "parameter:  5e-05 19 metrics 19 0.7218508997429306 0.889252814738997 0.6711281070745698 0.7808676307007787 22022\n",
      "parameter:  5e-05 20 metrics 20 0.7218508997429306 0.889252814738997 0.6711281070745698 0.7808676307007787 22022\n",
      "parameter:  5e-05 21 metrics 21 0.718191377497371 0.8902763561924258 0.652963671128107 0.7978971962616822 22022\n",
      "parameter:  5e-05 22 metrics 22 0.718191377497371 0.8902763561924258 0.652963671128107 0.7978971962616822 22022\n",
      "parameter:  5e-05 23 metrics 23 0.7323205866946045 0.8953940634595701 0.6682600382409177 0.8099652375434531 22022\n",
      "parameter:  5e-05 24 metrics 24 0.7319371727748691 0.8951893551688843 0.6682600382409177 0.8090277777777778 22022\n",
      "parameter:  5e-05 25 metrics 25 0.7323794382617913 0.8966223132036848 0.6606118546845124 0.821640903686088 22022\n",
      "parameter:  5e-05 26 metrics 26 0.7319587628865979 0.8935516888433982 0.6787762906309751 0.7941834451901566 22022\n",
      "parameter:  5e-05 27 metrics 27 0.7381316998468607 0.8949846468781986 0.6912045889101338 0.791894852135816 22022\n",
      "parameter:  5e-05 28 metrics 28 0.7378142637249872 0.8953940634595701 0.6873804971319312 0.7962347729789591 22022\n",
      "parameter:  5e-05 29 metrics 29 0.7378142637249872 0.8953940634595701 0.6873804971319312 0.7962347729789591 22022\n",
      "parameter:  5e-05 30 metrics 30 0.7400611620795109 0.8955987717502559 0.6940726577437859 0.7925764192139738 22022\n",
      "parameter:  5e-05 31 metrics 31 0.7400611620795109 0.8955987717502559 0.6940726577437859 0.7925764192139738 22022\n",
      "parameter:  5e-05 32 metrics 32 0.7395727365208546 0.8951893551688843 0.6950286806883366 0.7902173913043479 22022\n",
      "parameter:  5e-05 33 metrics 33 0.734269370774831 0.8953940634595701 0.6749521988527725 0.8050171037628279 22022\n",
      "parameter:  5e-05 34 metrics 34 0.734269370774831 0.8953940634595701 0.6749521988527725 0.8050171037628279 22022\n",
      "parameter:  5e-05 35 metrics 35 0.734269370774831 0.8953940634595701 0.6749521988527725 0.8050171037628279 22022\n",
      "parameter:  5e-05 36 metrics 36 0.7461035696329814 0.8966223132036848 0.7093690248565966 0.7868504772004242 22022\n",
      "parameter:  5e-05 37 metrics 37 0.7461035696329814 0.8966223132036848 0.7093690248565966 0.7868504772004242 22022\n",
      "parameter:  5e-05 38 metrics 38 0.7476070528967255 0.8974411463664278 0.7093690248565966 0.7902023429179978 22022\n",
      "parameter:  5e-05 39 metrics 39 0.745967741935484 0.8968270214943705 0.7074569789674953 0.7889125799573561 22022\n",
      "parameter:  5e-05 40 metrics 40 0.745967741935484 0.8968270214943705 0.7074569789674953 0.7889125799573561 22022\n",
      "parameter:  5e-05 41 metrics 41 0.749498997995992 0.8976458546571137 0.7151051625239006 0.7873684210526316 22022\n",
      "init transformer okay!\n",
      "new cached!\n"
     ]
    },
    {
     "data": {
      "application/vnd.jupyter.widget-view+json": {
       "model_id": "2dca0bb5ba72497ab00a689cffbb6bc4",
       "version_major": 2,
       "version_minor": 0
      },
      "text/plain": [
       "HBox(children=(IntProgress(value=0, max=1000), HTML(value='')))"
      ]
     },
     "metadata": {},
     "output_type": "display_data"
    },
    {
     "name": "stdout",
     "output_type": "stream",
     "text": [
      "best solution found in iteration 888\n",
      "Now print Error Log\n",
      "no error happens\n",
      "parameter:  8e-05 0 metrics 0 0.0 0.7858751279426817 0.0 0.0 35464\n",
      "parameter:  8e-05 1 metrics 1 0.2476190476190476 0.7574206755373593 0.1864244741873805 0.3686200378071834 35464\n",
      "parameter:  8e-05 2 metrics 2 0.43808160343593416 0.8393039918116684 0.2925430210325048 0.8717948717948718 35464\n",
      "parameter:  8e-05 3 metrics 3 0.43808160343593416 0.8393039918116684 0.2925430210325048 0.8717948717948718 35464\n",
      "parameter:  8e-05 4 metrics 4 0.394578313253012 0.8354145342886387 0.25047801147227533 0.9290780141843972 35464\n",
      "parameter:  8e-05 5 metrics 5 0.394578313253012 0.8354145342886387 0.25047801147227533 0.9290780141843972 35464\n",
      "parameter:  8e-05 6 metrics 6 0.46544428772919605 0.8448311156601842 0.3154875717017208 0.8870967741935484 35464\n",
      "parameter:  8e-05 7 metrics 7 0.46544428772919605 0.8448311156601842 0.3154875717017208 0.8870967741935484 35464\n",
      "parameter:  8e-05 8 metrics 8 0.46544428772919605 0.8448311156601842 0.3154875717017208 0.8870967741935484 35464\n",
      "parameter:  8e-05 9 metrics 9 0.46544428772919605 0.8448311156601842 0.3154875717017208 0.8870967741935484 35464\n",
      "parameter:  8e-05 10 metrics 10 0.6909480449919658 0.8818833162743092 0.6166347992351816 0.7856272838002436 35464\n",
      "parameter:  8e-05 11 metrics 11 0.5725190839694656 0.8624360286591607 0.43021032504780116 0.8555133079847909 35464\n",
      "parameter:  8e-05 12 metrics 12 0.5725190839694656 0.8624360286591607 0.43021032504780116 0.8555133079847909 35464\n",
      "parameter:  8e-05 13 metrics 13 0.5725190839694656 0.8624360286591607 0.43021032504780116 0.8555133079847909 35464\n",
      "parameter:  8e-05 14 metrics 14 0.6909480449919658 0.8818833162743092 0.6166347992351816 0.7856272838002436 35464\n",
      "parameter:  8e-05 15 metrics 15 0.6909480449919658 0.8818833162743092 0.6166347992351816 0.7856272838002436 35464\n",
      "parameter:  8e-05 16 metrics 16 0.6909480449919658 0.8818833162743092 0.6166347992351816 0.7856272838002436 35464\n",
      "parameter:  8e-05 17 metrics 17 0.6918976545842218 0.8816786079836233 0.6204588910133844 0.7819277108433735 35464\n",
      "parameter:  8e-05 18 metrics 18 0.6918976545842218 0.8816786079836233 0.6204588910133844 0.7819277108433735 35464\n",
      "parameter:  8e-05 19 metrics 19 0.6940494997367035 0.881064483111566 0.630019120458891 0.772567409144197 35464\n",
      "parameter:  8e-05 20 metrics 20 0.6940494997367035 0.881064483111566 0.630019120458891 0.772567409144197 35464\n",
      "parameter:  8e-05 21 metrics 21 0.6940494997367035 0.881064483111566 0.630019120458891 0.772567409144197 35464\n",
      "parameter:  8e-05 22 metrics 22 0.6940494997367035 0.881064483111566 0.630019120458891 0.772567409144197 35464\n",
      "parameter:  8e-05 23 metrics 23 0.6940494997367035 0.881064483111566 0.630019120458891 0.772567409144197 35464\n",
      "parameter:  8e-05 24 metrics 24 0.6940494997367035 0.881064483111566 0.630019120458891 0.772567409144197 35464\n",
      "parameter:  8e-05 25 metrics 25 0.6940494997367035 0.881064483111566 0.630019120458891 0.772567409144197 35464\n",
      "parameter:  8e-05 26 metrics 26 0.6940494997367035 0.881064483111566 0.630019120458891 0.772567409144197 35464\n",
      "parameter:  8e-05 27 metrics 27 0.6940494997367035 0.881064483111566 0.630019120458891 0.772567409144197 35464\n",
      "parameter:  8e-05 28 metrics 28 0.6940494997367035 0.881064483111566 0.630019120458891 0.772567409144197 35464\n",
      "parameter:  8e-05 29 metrics 29 0.6940494997367035 0.881064483111566 0.630019120458891 0.772567409144197 35464\n",
      "parameter:  8e-05 30 metrics 30 0.6825827455236028 0.8802456499488229 0.6013384321223709 0.7892095357590966 35464\n",
      "parameter:  8e-05 31 metrics 31 0.6825827455236028 0.8802456499488229 0.6013384321223709 0.7892095357590966 35464\n",
      "parameter:  8e-05 32 metrics 32 0.6825827455236028 0.8802456499488229 0.6013384321223709 0.7892095357590966 35464\n",
      "parameter:  8e-05 33 metrics 33 0.6825827455236028 0.8802456499488229 0.6013384321223709 0.7892095357590966 35464\n",
      "parameter:  8e-05 34 metrics 34 0.6749156355455569 0.8816786079836233 0.5736137667304015 0.819672131147541 35464\n",
      "parameter:  8e-05 35 metrics 35 0.6749156355455569 0.8816786079836233 0.5736137667304015 0.819672131147541 35464\n",
      "parameter:  8e-05 36 metrics 36 0.6749156355455569 0.8816786079836233 0.5736137667304015 0.819672131147541 35464\n",
      "parameter:  8e-05 37 metrics 37 0.6749156355455569 0.8816786079836233 0.5736137667304015 0.819672131147541 35464\n",
      "parameter:  8e-05 38 metrics 38 0.6749156355455569 0.8816786079836233 0.5736137667304015 0.819672131147541 35464\n",
      "parameter:  8e-05 39 metrics 39 0.65351131746953 0.8777891504605937 0.5382409177820268 0.8316100443131462 35464\n",
      "parameter:  8e-05 40 metrics 40 0.6749156355455569 0.8816786079836233 0.5736137667304015 0.819672131147541 35464\n",
      "parameter:  8e-05 41 metrics 41 0.6749156355455569 0.8816786079836233 0.5736137667304015 0.819672131147541 35464\n",
      "parameter:  8e-05 42 metrics 42 0.6749156355455569 0.8816786079836233 0.5736137667304015 0.819672131147541 35464\n",
      "parameter:  8e-05 43 metrics 43 0.6749156355455569 0.8816786079836233 0.5736137667304015 0.819672131147541 35464\n",
      "parameter:  8e-05 44 metrics 44 0.6749156355455569 0.8816786079836233 0.5736137667304015 0.819672131147541 35464\n",
      "parameter:  8e-05 45 metrics 45 0.65351131746953 0.8777891504605937 0.5382409177820268 0.8316100443131462 35464\n",
      "parameter:  8e-05 46 metrics 46 0.65351131746953 0.8777891504605937 0.5382409177820268 0.8316100443131462 35464\n",
      "parameter:  8e-05 47 metrics 47 0.65351131746953 0.8777891504605937 0.5382409177820268 0.8316100443131462 35464\n",
      "parameter:  8e-05 48 metrics 48 0.65351131746953 0.8777891504605937 0.5382409177820268 0.8316100443131462 35464\n",
      "parameter:  8e-05 49 metrics 49 0.6881838074398249 0.8833162743091095 0.6013384321223709 0.8043478260869565 35464\n",
      "parameter:  8e-05 50 metrics 50 0.6926829268292684 0.8839303991811669 0.6108986615678776 0.799749687108886 35464\n",
      "parameter:  8e-05 51 metrics 51 0.6926829268292684 0.8839303991811669 0.6108986615678776 0.799749687108886 35464\n",
      "parameter:  8e-05 52 metrics 52 0.6898803046789989 0.8833162743091095 0.6061185468451242 0.8005050505050505 35464\n",
      "parameter:  8e-05 53 metrics 53 0.6914660831509846 0.8845445240532241 0.6042065009560229 0.8081841432225064 35464\n",
      "parameter:  8e-05 54 metrics 54 0.6914660831509846 0.8845445240532241 0.6042065009560229 0.8081841432225064 35464\n",
      "parameter:  8e-05 55 metrics 55 0.6914660831509846 0.8845445240532241 0.6042065009560229 0.8081841432225064 35464\n",
      "parameter:  8e-05 56 metrics 56 0.6914660831509846 0.8845445240532241 0.6042065009560229 0.8081841432225064 35464\n",
      "parameter:  8e-05 57 metrics 57 0.6958874458874459 0.8849539406345956 0.6147227533460803 0.8017456359102244 35464\n",
      "parameter:  8e-05 58 metrics 58 0.6914660831509846 0.8845445240532241 0.6042065009560229 0.8081841432225064 35464\n",
      "parameter:  8e-05 59 metrics 59 0.6914660831509846 0.8845445240532241 0.6042065009560229 0.8081841432225064 35464\n",
      "parameter:  8e-05 60 metrics 60 0.6951351351351351 0.8845445240532241 0.6147227533460803 0.7997512437810945 35464\n",
      "parameter:  8e-05 61 metrics 61 0.693048128342246 0.8824974411463664 0.6195028680688337 0.7864077669902912 35464\n",
      "parameter:  8e-05 62 metrics 62 0.6879394267171444 0.8818833162743092 0.6080305927342257 0.7920298879202988 35464\n",
      "parameter:  8e-05 63 metrics 63 0.6879394267171444 0.8818833162743092 0.6080305927342257 0.7920298879202988 35464\n",
      "parameter:  8e-05 64 metrics 64 0.6879394267171444 0.8818833162743092 0.6080305927342257 0.7920298879202988 35464\n",
      "parameter:  8e-05 65 metrics 65 0.6879394267171444 0.8818833162743092 0.6080305927342257 0.7920298879202988 35464\n",
      "parameter:  8e-05 66 metrics 66 0.6879394267171444 0.8818833162743092 0.6080305927342257 0.7920298879202988 35464\n",
      "init transformer okay!\n",
      "new cached!\n"
     ]
    },
    {
     "data": {
      "application/vnd.jupyter.widget-view+json": {
       "model_id": "3aa8d9b03d744a10b5a8468f3650ca8b",
       "version_major": 2,
       "version_minor": 0
      },
      "text/plain": [
       "HBox(children=(IntProgress(value=0, max=1000), HTML(value='')))"
      ]
     },
     "metadata": {},
     "output_type": "display_data"
    },
    {
     "name": "stdout",
     "output_type": "stream",
     "text": [
      "best solution found in iteration 980\n",
      "Now print Error Log\n",
      "no error happens\n",
      "parameter:  0.00012000000000000002 1 metrics 1 0.03198494825964252 0.7893551688843398 0.016252390057361378 1.0 49084\n",
      "parameter:  0.00012000000000000002 2 metrics 2 0.04668534080298786 0.790992835209826 0.02390057361376673 1.0 49084\n",
      "parameter:  0.00012000000000000002 3 metrics 3 0.08249312557286892 0.7950870010235415 0.043021032504780114 1.0 49084\n",
      "parameter:  0.00012000000000000002 4 metrics 4 0.394578313253012 0.8354145342886387 0.25047801147227533 0.9290780141843972 49084\n",
      "parameter:  0.00012000000000000002 5 metrics 5 0.41836734693877553 0.8366427840327533 0.27437858508604207 0.8803680981595092 49084\n",
      "parameter:  0.00012000000000000002 6 metrics 6 0.4721448467966574 0.8448311156601842 0.3240917782026769 0.8692307692307693 49084\n",
      "parameter:  0.00012000000000000002 7 metrics 7 0.4806094182825484 0.8464687819856704 0.3317399617590822 0.871859296482412 49084\n",
      "parameter:  0.00012000000000000002 8 metrics 8 0.5173796791443851 0.852200614124872 0.369980879541109 0.86 49084\n",
      "parameter:  0.00012000000000000002 9 metrics 9 0.518370073480294 0.8524053224155578 0.37093690248565964 0.8603104212860311 49084\n",
      "parameter:  0.00012000000000000002 10 metrics 10 0.518370073480294 0.8524053224155578 0.37093690248565964 0.8603104212860311 49084\n",
      "parameter:  0.00012000000000000002 11 metrics 11 0.5640378548895899 0.858546571136131 0.4273422562141491 0.8293135435992579 49084\n",
      "parameter:  0.00012000000000000002 12 metrics 12 0.5640378548895899 0.858546571136131 0.4273422562141491 0.8293135435992579 49084\n",
      "parameter:  0.00012000000000000002 13 metrics 13 0.5640378548895899 0.858546571136131 0.4273422562141491 0.8293135435992579 49084\n",
      "parameter:  0.00012000000000000002 14 metrics 14 0.5640378548895899 0.858546571136131 0.4273422562141491 0.8293135435992579 49084\n",
      "parameter:  0.00012000000000000002 15 metrics 15 0.5640378548895899 0.858546571136131 0.4273422562141491 0.8293135435992579 49084\n",
      "parameter:  0.00012000000000000002 16 metrics 16 0.5584664536741215 0.858546571136131 0.41778202676864246 0.8420038535645472 49084\n",
      "parameter:  0.00012000000000000002 17 metrics 17 0.5584664536741215 0.858546571136131 0.41778202676864246 0.8420038535645472 49084\n",
      "parameter:  0.00012000000000000002 18 metrics 18 0.6969205834683955 0.8851586489252815 0.6166347992351816 0.8012422360248447 49084\n",
      "parameter:  0.00012000000000000002 19 metrics 19 0.6969205834683955 0.8851586489252815 0.6166347992351816 0.8012422360248447 49084\n",
      "parameter:  0.00012000000000000002 20 metrics 20 0.6969205834683955 0.8851586489252815 0.6166347992351816 0.8012422360248447 49084\n",
      "parameter:  0.00012000000000000002 21 metrics 21 0.6942949407965554 0.883725690890481 0.6166347992351816 0.7943349753694581 49084\n",
      "parameter:  0.00012000000000000002 22 metrics 22 0.6898071625344352 0.8847492323439099 0.5984703632887189 0.8140442132639792 49084\n",
      "parameter:  0.00012000000000000002 23 metrics 23 0.7402061855670103 0.8968270214943705 0.6864244741873805 0.8031319910514542 49084\n",
      "parameter:  0.00012000000000000002 24 metrics 24 0.741503604531411 0.897236438075742 0.6883365200764818 0.8035714285714286 49084\n",
      "parameter:  0.00012000000000000002 25 metrics 25 0.741503604531411 0.897236438075742 0.6883365200764818 0.8035714285714286 49084\n",
      "parameter:  0.00012000000000000002 26 metrics 26 0.741503604531411 0.897236438075742 0.6883365200764818 0.8035714285714286 49084\n",
      "parameter:  0.00012000000000000002 27 metrics 27 0.7411219763252701 0.8970317297850563 0.6883365200764818 0.802675585284281 49084\n",
      "parameter:  0.00012000000000000002 28 metrics 28 0.7411219763252701 0.8970317297850563 0.6883365200764818 0.802675585284281 49084\n",
      "parameter:  0.00012000000000000002 29 metrics 29 0.7301420305102578 0.8949846468781986 0.6634799235181644 0.8116959064327486 49084\n",
      "parameter:  0.00012000000000000002 30 metrics 30 0.7389724961079398 0.8970317297850563 0.6806883365200764 0.8081725312145289 49084\n",
      "parameter:  0.00012000000000000002 31 metrics 31 0.7378740970072238 0.8960081883316274 0.6835564053537285 0.8015695067264574 49084\n",
      "parameter:  0.00012000000000000002 32 metrics 32 0.7378740970072238 0.8960081883316274 0.6835564053537285 0.8015695067264574 49084\n",
      "parameter:  0.00012000000000000002 33 metrics 33 0.7438271604938271 0.8980552712384852 0.6912045889101338 0.8051224944320713 49084\n",
      "parameter:  0.00012000000000000002 34 metrics 34 0.7396265560165974 0.897236438075742 0.6816443594646272 0.808390022675737 49084\n",
      "parameter:  0.00012000000000000002 35 metrics 35 0.7396265560165974 0.897236438075742 0.6816443594646272 0.808390022675737 49084\n",
      "parameter:  0.00012000000000000002 36 metrics 36 0.7438271604938271 0.8980552712384852 0.6912045889101338 0.8051224944320713 49084\n",
      "parameter:  0.00012000000000000002 37 metrics 37 0.7412008281573499 0.8976458546571137 0.6845124282982792 0.8081264108352144 49084\n",
      "parameter:  0.00012000000000000002 38 metrics 38 0.7362924281984335 0.8966223132036848 0.6739961759082218 0.8112773302646721 49084\n",
      "parameter:  0.00012000000000000002 39 metrics 39 0.7362924281984335 0.8966223132036848 0.6739961759082218 0.8112773302646721 49084\n",
      "parameter:  0.00012000000000000002 40 metrics 40 0.7362924281984335 0.8966223132036848 0.6739961759082218 0.8112773302646721 49084\n",
      "parameter:  0.00012000000000000002 41 metrics 41 0.7362924281984335 0.8966223132036848 0.6739961759082218 0.8112773302646721 49084\n",
      "parameter:  0.00012000000000000002 42 metrics 42 0.7362924281984335 0.8966223132036848 0.6739961759082218 0.8112773302646721 49084\n",
      "parameter:  0.00012000000000000002 43 metrics 43 0.7360167276529012 0.8966223132036848 0.6730401529636711 0.81199538638985 49084\n",
      "parameter:  0.00012000000000000002 44 metrics 44 0.740279937791602 0.8974411463664278 0.6826003824091779 0.8086070215175538 49084\n",
      "parameter:  0.00012000000000000002 45 metrics 45 0.740279937791602 0.8974411463664278 0.6826003824091779 0.8086070215175538 49084\n",
      "parameter:  0.00012000000000000002 46 metrics 46 0.7387012987012986 0.8970317297850563 0.6797323135755258 0.8088737201365188 49084\n",
      "parameter:  0.00012000000000000002 47 metrics 47 0.7378947368421054 0.8980552712384852 0.6701720841300192 0.8208430913348946 49084\n",
      "init transformer okay!\n",
      "new cached!\n"
     ]
    },
    {
     "data": {
      "application/vnd.jupyter.widget-view+json": {
       "model_id": "a4409745dbc74818b11c042ed0e08dfc",
       "version_major": 2,
       "version_minor": 0
      },
      "text/plain": [
       "HBox(children=(IntProgress(value=0, max=1000), HTML(value='')))"
      ]
     },
     "metadata": {},
     "output_type": "display_data"
    },
    {
     "name": "stdout",
     "output_type": "stream",
     "text": [
      "best solution found in iteration 890\n",
      "Now print Error Log\n",
      "no error happens\n",
      "parameter:  0.00015000000000000001 0 metrics 0 0.0 0.7858751279426817 0.0 0.0 50634\n",
      "parameter:  0.00015000000000000001 1 metrics 1 0.1017857142857143 0.7940634595701126 0.05449330783938815 0.7702702702702703 50634\n",
      "parameter:  0.00015000000000000001 2 metrics 2 0.04668534080298786 0.790992835209826 0.02390057361376673 1.0 50634\n",
      "parameter:  0.00015000000000000001 3 metrics 3 0.08249312557286892 0.7950870010235415 0.043021032504780114 1.0 50634\n",
      "parameter:  0.00015000000000000001 4 metrics 4 0.679224376731302 0.8814738996929375 0.5860420650095602 0.8076416337285902 50634\n",
      "parameter:  0.00015000000000000001 5 metrics 5 0.703448275862069 0.885568065506653 0.6338432122370937 0.7902264600715138 50634\n",
      "parameter:  0.00015000000000000001 6 metrics 6 0.7236438075742069 0.8894575230296827 0.6759082217973231 0.7786343612334802 50634\n",
      "parameter:  0.00015000000000000001 7 metrics 7 0.7236438075742069 0.8894575230296827 0.6759082217973231 0.7786343612334802 50634\n",
      "parameter:  0.00015000000000000001 8 metrics 8 0.7239263803680981 0.8894575230296827 0.6768642447418738 0.778021978021978 50634\n",
      "parameter:  0.00015000000000000001 9 metrics 9 0.7233606557377049 0.8894575230296827 0.6749521988527725 0.7792494481236203 50634\n",
      "parameter:  0.00015000000000000001 10 metrics 10 0.6836002208724462 0.8827021494370522 0.5917782026768642 0.8091503267973856 50634\n",
      "parameter:  0.00015000000000000001 11 metrics 11 0.679224376731302 0.8814738996929375 0.5860420650095602 0.8076416337285902 50634\n",
      "parameter:  0.00015000000000000001 12 metrics 12 0.6836002208724462 0.8827021494370522 0.5917782026768642 0.8091503267973856 50634\n",
      "parameter:  0.00015000000000000001 13 metrics 13 0.6836002208724462 0.8827021494370522 0.5917782026768642 0.8091503267973856 50634\n",
      "parameter:  0.00015000000000000001 14 metrics 14 0.6836002208724462 0.8827021494370522 0.5917782026768642 0.8091503267973856 50634\n",
      "parameter:  0.00015000000000000001 15 metrics 15 0.6835722160970231 0.8824974411463664 0.5927342256214149 0.8072916666666666 50634\n",
      "parameter:  0.00015000000000000001 16 metrics 16 0.6814650388457271 0.8824974411463664 0.5869980879541109 0.8121693121693122 50634\n",
      "parameter:  0.00015000000000000001 17 metrics 17 0.6835722160970231 0.8824974411463664 0.5927342256214149 0.8072916666666666 50634\n",
      "parameter:  0.00015000000000000001 18 metrics 18 0.698600645855759 0.8853633572159673 0.6204588910133844 0.7992610837438424 50634\n",
      "parameter:  0.00015000000000000001 19 metrics 19 0.6993534482758621 0.8857727737973388 0.6204588910133844 0.8012345679012346 50634\n",
      "parameter:  0.00015000000000000001 20 metrics 20 0.6828461114175399 0.8822927328556807 0.5917782026768642 0.8070404172099087 50634\n",
      "parameter:  0.00015000000000000001 21 metrics 21 0.6828461114175399 0.8822927328556807 0.5917782026768642 0.8070404172099087 50634\n",
      "parameter:  0.00015000000000000001 22 metrics 22 0.7345899133978604 0.8933469805527123 0.6892925430210325 0.7862595419847328 50634\n",
      "parameter:  0.00015000000000000001 23 metrics 23 0.7345899133978604 0.8933469805527123 0.6892925430210325 0.7862595419847328 50634\n",
      "parameter:  0.00015000000000000001 24 metrics 24 0.7345899133978604 0.8933469805527123 0.6892925430210325 0.7862595419847328 50634\n",
      "parameter:  0.00015000000000000001 25 metrics 25 0.7257112184648417 0.8953940634595701 0.6462715105162524 0.8274173806609547 50634\n",
      "parameter:  0.00015000000000000001 26 metrics 26 0.7257112184648417 0.8953940634595701 0.6462715105162524 0.8274173806609547 50634\n",
      "parameter:  0.00015000000000000001 27 metrics 27 0.7257112184648417 0.8953940634595701 0.6462715105162524 0.8274173806609547 50634\n",
      "parameter:  0.00015000000000000001 28 metrics 28 0.7257112184648417 0.8953940634595701 0.6462715105162524 0.8274173806609547 50634\n",
      "parameter:  0.00015000000000000001 29 metrics 29 0.7214710654407789 0.8945752302968271 0.6376673040152964 0.8306351183063512 50634\n",
      "parameter:  0.00015000000000000001 30 metrics 30 0.7297709923664122 0.8912998976458547 0.6854684512428298 0.780195865070729 50634\n",
      "parameter:  0.00015000000000000001 31 metrics 31 0.7297709923664122 0.8912998976458547 0.6854684512428298 0.780195865070729 50634\n",
      "parameter:  0.00015000000000000001 32 metrics 32 0.7297709923664122 0.8912998976458547 0.6854684512428298 0.780195865070729 50634\n",
      "parameter:  0.00015000000000000001 33 metrics 33 0.7297709923664122 0.8912998976458547 0.6854684512428298 0.780195865070729 50634\n"
     ]
    }
   ],
   "source": [
    "from tqdm import tqdm_notebook\n",
    "%load_ext autoreload\n",
    "%autoreload 2\n",
    "from approach import explain_tabular\n",
    "from utils import ruleset_predict\n",
    "from copy import deepcopy\n",
    "\n",
    "lambda_candidates = [  0,0.0000001,0.000001,0.00001,0.00003,0.00005,0.00008,0.0001,0.00015,0.0002,0.0003,0.0005,0.001,0.0013,0.0015,0.0018,0.002,0.0025,0.003,0.005,0.006,0.007,0.008,0.01,0.015,0.02,0.03,0.05,0.1,0.15,0.2,0.5 ]\n",
    "\n",
    "beta_candidates = [0,0.2,0.5,1,1.5,2,3,5,8,12,15]\n",
    "# beta_candidates = [0]\n",
    "\n",
    "beta_candidates = [i * 0.00001 for i in beta_candidates]\n",
    "\n",
    "# lambda_candidates = [  0.01 ]\n",
    "# beta_candidates = [0]\n",
    "results={}\n",
    "for beta in beta_candidates:\n",
    "    results[beta] = []\n",
    "\n",
    "\n",
    "for beta in tqdm_notebook(beta_candidates): \n",
    "    lambda_parameter = 0.0005\n",
    "#     lambda_parameter = lambda_candidates[0]\n",
    "    explanations,ADS = explain_tabular(predicted_data_table, black_box, target_class_idx=1, random_seed=random_seed,beta=beta,lambda_parameter=0.0001)\n",
    "        \n",
    "    # for lambda_parameter in  lambda_candidates:\n",
    "    # explanations = ADS.output_the_best(lambda_parameter)\n",
    "        \n",
    "    # use the following line to just\n",
    "    all_explanations = ADS.output_by_len(max_len=100)\n",
    "    for explanations in  all_explanations:\n",
    "        lambda_parameter = len(explanations) # this is now only a placeholder\n",
    "    \n",
    "        our_prediction = ruleset_predict(explanations,test_data_table.X)\n",
    "        f1_score = sklearn.metrics.f1_score(predicted_test_data_table.Y, our_prediction)\n",
    "        acc_score=sklearn.metrics.accuracy_score(predicted_test_data_table.Y, our_prediction)\n",
    "        rec_score = sklearn.metrics.recall_score(predicted_test_data_table.Y, our_prediction)\n",
    "        pre_score = sklearn.metrics.precision_score(predicted_test_data_table.Y, our_prediction)\n",
    "        num = len(explanations)\n",
    "        num_of_instance = ADS.synthetic_data_table.X.shape[0]\n",
    "        results[beta].append( (lambda_parameter,(num,f1_score,acc_score,rec_score,pre_score,num_of_instance,deepcopy(explanations)  )  ) )\n",
    "        print(\"parameter: \",beta,lambda_parameter,\"metrics\",num,f1_score,acc_score,rec_score,pre_score,num_of_instance)\n"
   ]
  },
  {
   "cell_type": "code",
   "execution_count": 91,
   "metadata": {
    "ExecuteTime": {
     "end_time": "2019-09-02T06:52:58.249720Z",
     "start_time": "2019-09-02T06:52:40.010740Z"
    },
    "hidden": true
   },
   "outputs": [
    {
     "name": "stderr",
     "output_type": "stream",
     "text": [
      "[autoreload of structure failed: Traceback (most recent call last):\n",
      "  File \"/Users/lucy/anaconda3/lib/python3.7/site-packages/IPython/extensions/autoreload.py\", line 245, in check\n",
      "    superreload(m, reload, self.old_objects)\n",
      "  File \"/Users/lucy/anaconda3/lib/python3.7/site-packages/IPython/extensions/autoreload.py\", line 450, in superreload\n",
      "    update_generic(old_obj, new_obj)\n",
      "  File \"/Users/lucy/anaconda3/lib/python3.7/site-packages/IPython/extensions/autoreload.py\", line 387, in update_generic\n",
      "    update(a, b)\n",
      "  File \"/Users/lucy/anaconda3/lib/python3.7/site-packages/IPython/extensions/autoreload.py\", line 357, in update_class\n",
      "    update_instances(old, new)\n",
      "  File \"/Users/lucy/anaconda3/lib/python3.7/site-packages/IPython/extensions/autoreload.py\", line 312, in update_instances\n",
      "    update_instances(old, new, obj.__dict__, visited)\n",
      "  File \"/Users/lucy/anaconda3/lib/python3.7/site-packages/IPython/extensions/autoreload.py\", line 312, in update_instances\n",
      "    update_instances(old, new, obj.__dict__, visited)\n",
      "  File \"/Users/lucy/anaconda3/lib/python3.7/site-packages/IPython/extensions/autoreload.py\", line 317, in update_instances\n",
      "    update_instances(old, new, obj, visited)\n",
      "  File \"/Users/lucy/anaconda3/lib/python3.7/site-packages/IPython/extensions/autoreload.py\", line 317, in update_instances\n",
      "    update_instances(old, new, obj, visited)\n",
      "  File \"/Users/lucy/anaconda3/lib/python3.7/site-packages/IPython/extensions/autoreload.py\", line 300, in update_instances\n",
      "    for obj in (obj for obj in objects if id(obj) not in visited):\n",
      "  File \"/Users/lucy/anaconda3/lib/python3.7/site-packages/IPython/extensions/autoreload.py\", line 300, in <genexpr>\n",
      "    for obj in (obj for obj in objects if id(obj) not in visited):\n",
      "KeyboardInterrupt\n",
      "]\n"
     ]
    },
    {
     "ename": "NameError",
     "evalue": "name 'explanations_active' is not defined",
     "output_type": "error",
     "traceback": [
      "\u001b[0;31m---------------------------------------------------------------------------\u001b[0m",
      "\u001b[0;31mNameError\u001b[0m                                 Traceback (most recent call last)",
      "\u001b[0;32m<ipython-input-91-47201d51757a>\u001b[0m in \u001b[0;36m<module>\u001b[0;34m\u001b[0m\n\u001b[1;32m      1\u001b[0m \u001b[0;32mfrom\u001b[0m \u001b[0mutils\u001b[0m \u001b[0;32mimport\u001b[0m \u001b[0mcompute_metrics\u001b[0m\u001b[0;34m\u001b[0m\u001b[0;34m\u001b[0m\u001b[0m\n\u001b[1;32m      2\u001b[0m \u001b[0;34m\u001b[0m\u001b[0m\n\u001b[0;32m----> 3\u001b[0;31m \u001b[0mcompute_metrics\u001b[0m\u001b[0;34m(\u001b[0m\u001b[0mexplanations_active\u001b[0m\u001b[0;34m,\u001b[0m\u001b[0mdata_table\u001b[0m\u001b[0;34m.\u001b[0m\u001b[0mdomain\u001b[0m\u001b[0;34m)\u001b[0m\u001b[0;34m\u001b[0m\u001b[0;34m\u001b[0m\u001b[0m\n\u001b[0m",
      "\u001b[0;31mNameError\u001b[0m: name 'explanations_active' is not defined"
     ]
    }
   ],
   "source": [
    "from utils import compute_metrics\n",
    "\n",
    "compute_metrics(explanations_active,data_table.domain)"
   ]
  },
  {
   "cell_type": "code",
   "execution_count": 90,
   "metadata": {
    "ExecuteTime": {
     "end_time": "2019-09-01T05:44:26.406768Z",
     "start_time": "2019-09-01T05:44:26.013776Z"
    },
    "hidden": true
   },
   "outputs": [
    {
     "data": {
      "image/png": "[encoded data removed]",
      "text/plain": [
       "<Figure size 432x288 with 1 Axes>"
      ]
     },
     "metadata": {
      "needs_background": "light"
     },
     "output_type": "display_data"
    }
   ],
   "source": [
    "import matplotlib.pyplot as plt\n",
    "from matplotlib.cm import get_cmap\n",
    "import math\n",
    "import numpy as np\n",
    "from sklearn.gaussian_process import GaussianProcessRegressor\n",
    "# name = \"Greys\"\n",
    "# cmap = get_cmap(name)  # type: matplotlib.colors.ListedColormap\n",
    "# colors = cmap  # type: list\n",
    "\n",
    "# # plt.set_prop_cycle(color=colors)\n",
    "\n",
    "# color_map = get_cmap('viridis')\n",
    "color_map = get_cmap('binary')\n",
    "# color_map = get_cmap('winter')\n",
    "\n",
    "\n",
    "beta_candidates = [i * 0.00001 for i in beta_candidates]\n",
    "beta_candidates = [0,0.2,0.5,1,1.5,2,3,5,8,12,15]\n",
    "beta_candidates = [0,1,1.5,2,3,5,15]\n",
    "beta_candidates = [0,1,1.5,2,3,8,15]\n",
    "beta_candidates = [0,5,15]\n",
    "\n",
    "beta_candidates = [i * 0.00001 for i in beta_candidates]\n",
    "\n",
    "\n",
    "\n",
    "for count,b in enumerate(beta_candidates):\n",
    "#     if count in [3]: \n",
    "#         continue\n",
    "    plot_use_x = []\n",
    "    plot_use_y = []\n",
    "\n",
    "    \n",
    "    current = 0\n",
    "    for i in range(len (results[b] )):\n",
    "        lambda_parameter,(num,f1_score,acc_score,rec_score,pre_score,num_of_instance,explanations) = results[b][i]\n",
    "        if f1_score <= current:\n",
    "            continue\n",
    "        else:\n",
    "            current = f1_score\n",
    "#     for i in range(len(lambda_candidates)):\n",
    "#         lambda_parameter,(num,f1_score,acc_score,rec_score,pre_score,num_of_instance) = results[b][i]\n",
    "        plot_use_x.append(num)\n",
    "#         plot_use_y.append(acc_score)\n",
    "        plot_use_y.append(f1_score)\n",
    "#     print(plot_use_y)\n",
    "\n",
    "    tmp = [(x,y) for x,y in zip(plot_use_x,plot_use_y) ]\n",
    "#     tmp = list( filter(lambda x:  (x[0]<=2 ) or (x[0]>=5 and x[1]<=30 ),tmp) )\n",
    "    tmp = list( filter(lambda x:   (x[0]>=5 and x[1]<=30 ),tmp) )\n",
    "\n",
    "\n",
    "    tmp.append((1000,0.80) ) \n",
    "#     tmp.append((1,0.5) ) \n",
    "    tmp.append((0,0) ) \n",
    "    \n",
    "\n",
    "\n",
    "    \n",
    "    tmp = sorted(tmp,key=lambda x:x[0])\n",
    "    X =np.asarray([ t[0] for t in tmp]) .reshape(-1, 1)\n",
    "    y =np.asarray([ t[1] for t in tmp]) .reshape(-1, 1)\n",
    "#     clf = GaussianProcessRegressor()\n",
    "#     clf.fit(X, y) \n",
    "#     x_virtul = [ 0.1 * i for i in range(50)]\n",
    "#     x_for_predict = np.asarray(x_virtul) .reshape(-1, 1)\n",
    "#     plt.plot(x_virtul,clf.predict(x_for_predict).reshape(-1),color=color_map(  math.sqrt(b*1000)  )  )\n",
    "#     plt.plot(X,y  )\n",
    "    if count == 0:\n",
    "        plt.plot(X,y,'r--')\n",
    "    else:\n",
    "        plt.plot(X,y,color=color_map(  math.sqrt(b*5000)+0.1 )  )\n",
    "\n",
    "    \n",
    "plt.legend( [format(b, '.3e') for b in beta_candidates],loc=(0.5,0.05),title=\"choice of the beta parameter\")\n",
    "# plt.legend(loc='center left', bbox_to_anchor=(1, 0.5))\n",
    "# plt.legend([str(b) for b in beta_candidates], loc=5)\n",
    "plt.xlim([0,50])\n",
    "plt.ylim([0,0.8])\n",
    "plt.ylabel('f1 score')\n",
    "plt.xlabel('number of rules')\n",
    "plt.show()"
   ]
  },
  {
   "cell_type": "code",
   "execution_count": null,
   "metadata": {
    "ExecuteTime": {
     "end_time": "2019-08-31T10:59:06.769154Z",
     "start_time": "2019-08-31T10:58:59.390Z"
    },
    "hidden": true
   },
   "outputs": [],
   "source": [
    "\n",
    "b = beta_candidates[-1]\n",
    "l = 0.0005\n",
    "index = lambda_candidates.index(l)\n",
    "lambda_parameter,(num,f1_score,acc_score,rec_score,pre_score,num_of_instance,explanations) =  results[b][index]\n",
    "print(\"parameter: \",beta,lambda_parameter,\"metrics\",num,f1_score,acc_score,rec_score,pre_score,num_of_instance)\n",
    "\n",
    "for e in explanations:\n",
    "#     print(e)\n",
    "    print(e.string_representation)"
   ]
  },
  {
   "cell_type": "code",
   "execution_count": 12,
   "metadata": {
    "ExecuteTime": {
     "end_time": "2019-08-02T15:35:58.431236Z",
     "start_time": "2019-08-02T15:35:58.389170Z"
    },
    "hidden": true
   },
   "outputs": [
    {
     "name": "stdout",
     "output_type": "stream",
     "text": [
      "parameter:  0.00015000000000000001 0.0005 metrics 4 0.6813186813186812 0.8812691914022518 0.5927342256214149 0.8010335917312662 0\n",
      "IF 17.0 <= age <= 90.0 AND 2444.0 <= capital-loss <= 4356.0 THEN income=>50K \n",
      "IF 7262.0 <= capital-gain <= 99999.0 THEN income=>50K \n",
      "IF 9999.900000000001 <= capital-gain <= 99999.0 THEN income=>50K \n",
      "IF education is Bachelors,Masters,Prof-school AND marital-status is Married-civ-spouse THEN income=>50K \n"
     ]
    }
   ],
   "source": [
    "\n",
    "b = beta_candidates[0]\n",
    "l = 0.0005\n",
    "index = lambda_candidates.index(l)\n",
    "lambda_parameter,(num,f1_score,acc_score,rec_score,pre_score,num_of_instance,explanations) =  results[b][index]\n",
    "print(\"parameter: \",beta,lambda_parameter,\"metrics\",num,f1_score,acc_score,rec_score,pre_score,num_of_instance)\n",
    "\n",
    "for e in explanations:\n",
    "#     print(e)\n",
    "    print(e.string_representation)\n",
    "    \n",
    "from utils import compute_metrics"
   ]
  },
  {
   "cell_type": "markdown",
   "metadata": {
    "heading_collapsed": true
   },
   "source": [
    "# Test active query with first sample a large dataset."
   ]
  },
  {
   "cell_type": "code",
   "execution_count": 60,
   "metadata": {
    "ExecuteTime": {
     "end_time": "2019-08-03T00:18:47.647049Z",
     "start_time": "2019-08-02T23:20:48.494737Z"
    },
    "hidden": true
   },
   "outputs": [
    {
     "name": "stdout",
     "output_type": "stream",
     "text": [
      "The autoreload extension is already loaded. To reload it, use:\n",
      "  %reload_ext autoreload\n",
      "init transformer okay!\n",
      "new cached!\n"
     ]
    },
    {
     "data": {
      "application/vnd.jupyter.widget-view+json": {
       "model_id": "d733fc63281a43e2a78ad6b4f1508fb4",
       "version_major": 2,
       "version_minor": 0
      },
      "text/plain": [
       "HBox(children=(IntProgress(value=0, max=1000), HTML(value='')))"
      ]
     },
     "metadata": {},
     "output_type": "display_data"
    },
    {
     "ename": "KeyboardInterrupt",
     "evalue": "",
     "output_type": "error",
     "traceback": [
      "\u001b[0;31m---------------------------------------------------------------------------\u001b[0m",
      "\u001b[0;31mKeyboardInterrupt\u001b[0m                         Traceback (most recent call last)",
      "\u001b[0;32m<ipython-input-60-2cfb7e26d8f6>\u001b[0m in \u001b[0;36m<module>\u001b[0;34m\u001b[0m\n\u001b[1;32m      2\u001b[0m \u001b[0mget_ipython\u001b[0m\u001b[0;34m(\u001b[0m\u001b[0;34m)\u001b[0m\u001b[0;34m.\u001b[0m\u001b[0mrun_line_magic\u001b[0m\u001b[0;34m(\u001b[0m\u001b[0;34m'autoreload'\u001b[0m\u001b[0;34m,\u001b[0m \u001b[0;34m'2'\u001b[0m\u001b[0;34m)\u001b[0m\u001b[0;34m\u001b[0m\u001b[0;34m\u001b[0m\u001b[0m\n\u001b[1;32m      3\u001b[0m \u001b[0;32mfrom\u001b[0m \u001b[0mapproach\u001b[0m \u001b[0;32mimport\u001b[0m \u001b[0mexplain_tabular\u001b[0m\u001b[0;34m\u001b[0m\u001b[0;34m\u001b[0m\u001b[0m\n\u001b[0;32m----> 4\u001b[0;31m \u001b[0mexplanations\u001b[0m\u001b[0;34m,\u001b[0m\u001b[0mADS\u001b[0m \u001b[0;34m=\u001b[0m \u001b[0mexplain_tabular\u001b[0m\u001b[0;34m(\u001b[0m\u001b[0mpredicted_data_table\u001b[0m\u001b[0;34m,\u001b[0m \u001b[0mblack_box\u001b[0m\u001b[0;34m,\u001b[0m \u001b[0mtarget_class_idx\u001b[0m\u001b[0;34m=\u001b[0m\u001b[0;36m1\u001b[0m\u001b[0;34m,\u001b[0m \u001b[0mrandom_seed\u001b[0m\u001b[0;34m=\u001b[0m\u001b[0mrandom_seed\u001b[0m\u001b[0;34m,\u001b[0m\u001b[0mbeta\u001b[0m\u001b[0;34m=\u001b[0m\u001b[0;36m0\u001b[0m\u001b[0;34m,\u001b[0m\u001b[0mlambda_parameter\u001b[0m\u001b[0;34m=\u001b[0m\u001b[0;36m0.0003\u001b[0m\u001b[0;34m)\u001b[0m\u001b[0;34m\u001b[0m\u001b[0;34m\u001b[0m\u001b[0m\n\u001b[0m\u001b[1;32m      5\u001b[0m \u001b[0;34m\u001b[0m\u001b[0m\n\u001b[1;32m      6\u001b[0m \u001b[0;34m\u001b[0m\u001b[0m\n",
      "\u001b[0;32m~/Desktop/workspace/Descriptive-Induction-ML/approach.py\u001b[0m in \u001b[0;36mexplain_tabular\u001b[0;34m(dataset, blackbox, target_class_idx, pre_label, random_seed, beta, lambda_parameter)\u001b[0m\n\u001b[1;32m     74\u001b[0m     \u001b[0;31m# for iter_number in range(explainer.N_iter_max):\u001b[0m\u001b[0;34m\u001b[0m\u001b[0;34m\u001b[0m\u001b[0;34m\u001b[0m\u001b[0m\n\u001b[1;32m     75\u001b[0m         \u001b[0;32mtry\u001b[0m\u001b[0;34m:\u001b[0m\u001b[0;34m\u001b[0m\u001b[0;34m\u001b[0m\u001b[0m\n\u001b[0;32m---> 76\u001b[0;31m             \u001b[0mactions\u001b[0m \u001b[0;34m=\u001b[0m \u001b[0mexplainer\u001b[0m\u001b[0;34m.\u001b[0m\u001b[0mgenerate_action_space\u001b[0m\u001b[0;34m(\u001b[0m\u001b[0;34m)\u001b[0m \u001b[0;31m# generating possible actions\u001b[0m\u001b[0;34m\u001b[0m\u001b[0;34m\u001b[0m\u001b[0m\n\u001b[0m\u001b[1;32m     77\u001b[0m         \u001b[0;32mexcept\u001b[0m \u001b[0mException\u001b[0m \u001b[0;32mas\u001b[0m \u001b[0me\u001b[0m\u001b[0;34m:\u001b[0m\u001b[0;34m\u001b[0m\u001b[0;34m\u001b[0m\u001b[0m\n\u001b[1;32m     78\u001b[0m             \u001b[0merror_log_list\u001b[0m\u001b[0;34m.\u001b[0m\u001b[0mappend\u001b[0m\u001b[0;34m(\u001b[0m\u001b[0;34m(\u001b[0m\u001b[0miter_number\u001b[0m\u001b[0;34m,\u001b[0m\u001b[0me\u001b[0m\u001b[0;34m)\u001b[0m\u001b[0;34m)\u001b[0m\u001b[0;34m\u001b[0m\u001b[0;34m\u001b[0m\u001b[0m\n",
      "\u001b[0;32m~/Desktop/workspace/Descriptive-Induction-ML/model.py\u001b[0m in \u001b[0;36mgenerate_action_space\u001b[0;34m(self)\u001b[0m\n\u001b[1;32m    150\u001b[0m \u001b[0;34m\u001b[0m\u001b[0m\n\u001b[1;32m    151\u001b[0m     \u001b[0;32mdef\u001b[0m \u001b[0mgenerate_action_space\u001b[0m\u001b[0;34m(\u001b[0m\u001b[0mself\u001b[0m\u001b[0;34m)\u001b[0m\u001b[0;34m:\u001b[0m\u001b[0;34m\u001b[0m\u001b[0;34m\u001b[0m\u001b[0m\n\u001b[0;32m--> 152\u001b[0;31m         \u001b[0mactions\u001b[0m \u001b[0;34m=\u001b[0m \u001b[0mself\u001b[0m\u001b[0;34m.\u001b[0m\u001b[0mgenerate_action\u001b[0m\u001b[0;34m(\u001b[0m\u001b[0mself\u001b[0m\u001b[0;34m.\u001b[0m\u001b[0mtotal_X\u001b[0m\u001b[0;34m,\u001b[0m\u001b[0mself\u001b[0m\u001b[0;34m.\u001b[0m\u001b[0mtotal_Y\u001b[0m\u001b[0;34m,\u001b[0m\u001b[0mbeta\u001b[0m\u001b[0;34m=\u001b[0m\u001b[0mself\u001b[0m\u001b[0;34m.\u001b[0m\u001b[0mbeta\u001b[0m\u001b[0;34m,\u001b[0m\u001b[0mrho\u001b[0m\u001b[0;34m=\u001b[0m\u001b[0mself\u001b[0m\u001b[0;34m.\u001b[0m\u001b[0mrho\u001b[0m\u001b[0;34m)\u001b[0m\u001b[0;34m\u001b[0m\u001b[0;34m\u001b[0m\u001b[0m\n\u001b[0m\u001b[1;32m    153\u001b[0m \u001b[0;34m\u001b[0m\u001b[0m\n\u001b[1;32m    154\u001b[0m \u001b[0;34m\u001b[0m\u001b[0m\n",
      "\u001b[0;32m~/Desktop/workspace/Descriptive-Induction-ML/structure.py\u001b[0m in \u001b[0;36mgenerate_action\u001b[0;34m(self, X, Y, beta, rho)\u001b[0m\n\u001b[1;32m    596\u001b[0m             \u001b[0;31m#     self.generate_rule_space()\u001b[0m\u001b[0;34m\u001b[0m\u001b[0;34m\u001b[0m\u001b[0;34m\u001b[0m\u001b[0m\n\u001b[1;32m    597\u001b[0m             \u001b[0;31m# new_rules_candidates = self.rule_space\u001b[0m\u001b[0;34m\u001b[0m\u001b[0;34m\u001b[0m\u001b[0;34m\u001b[0m\u001b[0m\n\u001b[0;32m--> 598\u001b[0;31m             \u001b[0mnew_rules_candidates\u001b[0m \u001b[0;34m=\u001b[0m \u001b[0mself\u001b[0m\u001b[0;34m.\u001b[0m\u001b[0mnew_rule_generating\u001b[0m\u001b[0;34m(\u001b[0m\u001b[0;34m)\u001b[0m\u001b[0;34m\u001b[0m\u001b[0;34m\u001b[0m\u001b[0m\n\u001b[0m\u001b[1;32m    599\u001b[0m             \u001b[0;32mif\u001b[0m \u001b[0mnew_rules_candidates\u001b[0m \u001b[0;32mis\u001b[0m \u001b[0;32mnot\u001b[0m \u001b[0;32mNone\u001b[0m\u001b[0;34m:\u001b[0m\u001b[0;34m\u001b[0m\u001b[0;34m\u001b[0m\u001b[0m\n\u001b[1;32m    600\u001b[0m                 \u001b[0;32mfor\u001b[0m \u001b[0mcandidate_rule_to_add\u001b[0m \u001b[0;32min\u001b[0m \u001b[0mnew_rules_candidates\u001b[0m\u001b[0;34m:\u001b[0m\u001b[0;34m\u001b[0m\u001b[0;34m\u001b[0m\u001b[0m\n",
      "\u001b[0;32m~/Desktop/workspace/Descriptive-Induction-ML/structure.py\u001b[0m in \u001b[0;36mnew_rule_generating\u001b[0;34m(self, beam_size)\u001b[0m\n\u001b[1;32m    787\u001b[0m             \u001b[0;32mfor\u001b[0m \u001b[0mcandidate_rule\u001b[0m \u001b[0;32min\u001b[0m \u001b[0mcandidates\u001b[0m\u001b[0;34m:\u001b[0m\u001b[0;34m\u001b[0m\u001b[0;34m\u001b[0m\u001b[0m\n\u001b[1;32m    788\u001b[0m                 new_rules = self.search_strategy.refine_rule(\n\u001b[0;32m--> 789\u001b[0;31m                     X, Y, W, candidate_rule)\n\u001b[0m\u001b[1;32m    790\u001b[0m                 \u001b[0mrules\u001b[0m\u001b[0;34m.\u001b[0m\u001b[0mextend\u001b[0m\u001b[0;34m(\u001b[0m\u001b[0mnew_rules\u001b[0m\u001b[0;34m)\u001b[0m\u001b[0;34m\u001b[0m\u001b[0;34m\u001b[0m\u001b[0m\n\u001b[1;32m    791\u001b[0m                 \u001b[0;31m#remove default rule from list of rules\u001b[0m\u001b[0;34m\u001b[0m\u001b[0;34m\u001b[0m\u001b[0;34m\u001b[0m\u001b[0m\n",
      "\u001b[0;32m~/anaconda3/lib/python3.7/site-packages/Orange/classification/rules.py\u001b[0m in \u001b[0;36mrefine_rule\u001b[0;34m(self, X, Y, W, candidate_rule)\u001b[0m\n\u001b[1;32m    518\u001b[0m             \u001b[0;31m# to ensure that the covered_examples matrices are of\u001b[0m\u001b[0;34m\u001b[0m\u001b[0;34m\u001b[0m\u001b[0;34m\u001b[0m\u001b[0m\n\u001b[1;32m    519\u001b[0m             \u001b[0;31m# the same size throughout the rule_finder iteration\u001b[0m\u001b[0;34m\u001b[0m\u001b[0;34m\u001b[0m\u001b[0;34m\u001b[0m\u001b[0m\n\u001b[0;32m--> 520\u001b[0;31m             \u001b[0mnew_rule\u001b[0m\u001b[0;34m.\u001b[0m\u001b[0mfilter_and_store\u001b[0m\u001b[0;34m(\u001b[0m\u001b[0mX\u001b[0m\u001b[0;34m,\u001b[0m \u001b[0mY\u001b[0m\u001b[0;34m,\u001b[0m \u001b[0mW\u001b[0m\u001b[0;34m,\u001b[0m \u001b[0mtarget_class\u001b[0m\u001b[0;34m,\u001b[0m \u001b[0mpredef_covered\u001b[0m\u001b[0;34m=\u001b[0m\u001b[0mpdc\u001b[0m\u001b[0;34m)\u001b[0m\u001b[0;34m\u001b[0m\u001b[0;34m\u001b[0m\u001b[0m\n\u001b[0m\u001b[1;32m    521\u001b[0m             \u001b[0;32mif\u001b[0m \u001b[0mnew_rule\u001b[0m\u001b[0;34m.\u001b[0m\u001b[0mis_valid\u001b[0m\u001b[0;34m(\u001b[0m\u001b[0;34m)\u001b[0m\u001b[0;34m:\u001b[0m\u001b[0;34m\u001b[0m\u001b[0;34m\u001b[0m\u001b[0m\n\u001b[1;32m    522\u001b[0m                 \u001b[0;32mif\u001b[0m \u001b[0mself\u001b[0m\u001b[0;34m.\u001b[0m\u001b[0mevaluate\u001b[0m\u001b[0;34m:\u001b[0m\u001b[0;34m\u001b[0m\u001b[0;34m\u001b[0m\u001b[0m\n",
      "\u001b[0;32m~/anaconda3/lib/python3.7/site-packages/Orange/classification/rules.py\u001b[0m in \u001b[0;36mfilter_and_store\u001b[0;34m(self, X, Y, W, target_class, predef_covered)\u001b[0m\n\u001b[1;32m    697\u001b[0m         self.curr_class_dist = get_dist(Y[self.covered_examples],\n\u001b[1;32m    698\u001b[0m                                         \u001b[0mW\u001b[0m\u001b[0;34m[\u001b[0m\u001b[0mself\u001b[0m\u001b[0;34m.\u001b[0m\u001b[0mcovered_examples\u001b[0m\u001b[0;34m]\u001b[0m\u001b[0;34m\u001b[0m\u001b[0;34m\u001b[0m\u001b[0m\n\u001b[0;32m--> 699\u001b[0;31m                                         \u001b[0;32mif\u001b[0m \u001b[0mW\u001b[0m \u001b[0;32mis\u001b[0m \u001b[0;32mnot\u001b[0m \u001b[0;32mNone\u001b[0m \u001b[0;32melse\u001b[0m \u001b[0;32mNone\u001b[0m\u001b[0;34m,\u001b[0m\u001b[0;34m\u001b[0m\u001b[0;34m\u001b[0m\u001b[0m\n\u001b[0m\u001b[1;32m    700\u001b[0m                                         self.domain)\n\u001b[1;32m    701\u001b[0m \u001b[0;34m\u001b[0m\u001b[0m\n",
      "\u001b[0;31mKeyboardInterrupt\u001b[0m: "
     ]
    }
   ],
   "source": [
    "%load_ext autoreload\n",
    "%autoreload 2\n",
    "from approach import explain_tabular\n",
    "explanations,ADS = explain_tabular(predicted_data_table, black_box, target_class_idx=1, random_seed=random_seed,beta=0,lambda_parameter=0.0003)\n",
    "\n",
    "\n",
    "from utils import  rule_to_string,ruleset_predict\n",
    "for e in explanations:\n",
    "    print(rule_to_string(e,data_table.domain,target_class_idx=1))\n",
    "    \n",
    "our_prediction = ruleset_predict(explanations,test_data_table.X)\n",
    "\n",
    "print(sum(our_prediction) )\n",
    "\n",
    "import sklearn\n",
    "print('Blackbox and our, f1 score', sklearn.metrics.f1_score(predicted_test_data_table.Y, our_prediction))\n",
    "print('Blackbox and our, acc', sklearn.metrics.accuracy_score(predicted_test_data_table.Y, our_prediction))\n",
    "print('Blackbox and our,recall', sklearn.metrics.recall_score(predicted_test_data_table.Y, our_prediction))\n",
    "print('Blackbox and our,precision', sklearn.metrics.precision_score(predicted_test_data_table.Y, our_prediction))\n",
    "\n",
    "from utils import  rule_to_string\n",
    "print('number of rules:',len(explanations))\n",
    "print(\"new instances\",ADS.synthetic_data_table.X.shape[0])\n",
    "\n",
    "lambda_candidates = [  0,0.0000001,0.000001,0.00001,0.00003,0.00005,0.00008,0.0001,0.0005,0.001,0.0013,0.0015,0.0018,0.002,0.003,0.004,0.0045,0.005,0.006,0.007,0.008,0.01,0.015,0.02,0.03,0.05,0.1,0.15,0.2,0.5 ]\n",
    "\n",
    "beta = 0\n",
    "for lambda_parameter in  lambda_candidates:\n",
    "    explanations = ADS.output_the_best(lambda_parameter)\n",
    "    our_prediction = ruleset_predict(explanations,test_data_table.X)\n",
    "    f1_score = sklearn.metrics.f1_score(predicted_test_data_table.Y, our_prediction)\n",
    "    acc_score=sklearn.metrics.accuracy_score(predicted_test_data_table.Y, our_prediction)\n",
    "    rec_score = sklearn.metrics.recall_score(predicted_test_data_table.Y, our_prediction)\n",
    "    pre_score = sklearn.metrics.precision_score(predicted_test_data_table.Y, our_prediction)\n",
    "    num = len(explanations)\n",
    "    num_of_instance = ADS.synthetic_data_table.X.shape[0]\n",
    "\n",
    "    print(\"parameter: \",beta,lambda_parameter,\"metrics\",num,f1_score,acc_score,rec_score,pre_score,num_of_instance)"
   ]
  },
  {
   "cell_type": "code",
   "execution_count": null,
   "metadata": {
    "ExecuteTime": {
     "end_time": "2019-08-03T00:18:47.662358Z",
     "start_time": "2019-08-02T23:20:53.837Z"
    },
    "hidden": true
   },
   "outputs": [],
   "source": [
    "%load_ext autoreload\n",
    "%autoreload 2\n",
    "from approach import explain_tabular\n",
    "\n",
    "beta = 1.5e-04\n",
    "explanations_active,ADS_active = explain_tabular(predicted_data_table, black_box, target_class_idx=1, random_seed=random_seed,beta=beta,lambda_parameter=0.0005)\n",
    "\n",
    "from utils import  rule_to_string,ruleset_predict\n",
    "# explanations_active = ADS_active.output_the_best(0.01)\n",
    "print(\"num of rules\",len(explanations_active))\n",
    "for e in explanations_active:\n",
    "    print(rule_to_string(e,data_table.domain,target_class_idx=1))\n",
    "    \n",
    "our_prediction = ruleset_predict(explanations_active,test_data_table.X)\n",
    "\n",
    "print(sum(our_prediction) )\n",
    "\n",
    "from utils import label_with_blackbox\n",
    "predicted_test_data_table = label_with_blackbox(test_data_table,black_box)\n",
    "print(sum(predicted_test_data_table.Y) )\n",
    "print(\"number of rules\",len(explanations_active))\n",
    "import sklearn\n",
    "print('Blackbox and our, f1 score', sklearn.metrics.f1_score(predicted_test_data_table.Y, our_prediction))\n",
    "print('Blackbox and our, acc', sklearn.metrics.accuracy_score(predicted_test_data_table.Y, our_prediction))\n",
    "print('Blackbox and our,recall', sklearn.metrics.recall_score(predicted_test_data_table.Y, our_prediction))\n",
    "print('Blackbox and our,precision', sklearn.metrics.precision_score(predicted_test_data_table.Y, our_prediction))\n",
    "\n",
    "lambda_candidates = [  0,0.0000001,0.000001,0.00001,0.00003,0.00005,0.00008,0.0001,0.0005,0.001,0.0013,0.0015,0.0018,0.002,0.0025,0.003,0.005,0.006,0.007,0.008,0.01,0.015,0.02,0.03,0.05,0.1,0.15,0.2,0.5 ]\n",
    "\n",
    "for lambda_parameter in  lambda_candidates:\n",
    "    explanations = ADS_active.output_the_best(lambda_parameter)\n",
    "    our_prediction = ruleset_predict(explanations,test_data_table.X)\n",
    "    f1_score = sklearn.metrics.f1_score(predicted_test_data_table.Y, our_prediction)\n",
    "    acc_score=sklearn.metrics.accuracy_score(predicted_test_data_table.Y, our_prediction)\n",
    "    rec_score = sklearn.metrics.recall_score(predicted_test_data_table.Y, our_prediction)\n",
    "    pre_score = sklearn.metrics.precision_score(predicted_test_data_table.Y, our_prediction)\n",
    "    num = len(explanations)\n",
    "    num_of_instance = ADS_active.synthetic_data_table.X.shape[0]\n",
    "\n",
    "    print(\"parameter: \",beta,lambda_parameter,\"metrics\",num,f1_score,acc_score,rec_score,pre_score,num_of_instance)"
   ]
  },
  {
   "cell_type": "code",
   "execution_count": 13,
   "metadata": {
    "ExecuteTime": {
     "end_time": "2019-08-02T17:49:05.445914Z",
     "start_time": "2019-08-02T15:35:58.433050Z"
    },
    "hidden": true
   },
   "outputs": [
    {
     "name": "stdout",
     "output_type": "stream",
     "text": [
      "The autoreload extension is already loaded. To reload it, use:\n",
      "  %reload_ext autoreload\n"
     ]
    },
    {
     "data": {
      "application/vnd.jupyter.widget-view+json": {
       "model_id": "1b2d9953d4af4c6d8918f1d1608b06a1",
       "version_major": 2,
       "version_minor": 0
      },
      "text/plain": [
       "HBox(children=(IntProgress(value=0, max=5), HTML(value='')))"
      ]
     },
     "metadata": {},
     "output_type": "display_data"
    },
    {
     "name": "stdout",
     "output_type": "stream",
     "text": [
      "uniform sampling\n",
      "(43957, 12)\n",
      "init transformer okay!\n",
      "new cached!\n"
     ]
    },
    {
     "data": {
      "application/vnd.jupyter.widget-view+json": {
       "model_id": "49783464413e482cbdc298da49c6eef8",
       "version_major": 2,
       "version_minor": 0
      },
      "text/plain": [
       "HBox(children=(IntProgress(value=0, max=1000), HTML(value='')))"
      ]
     },
     "metadata": {},
     "output_type": "display_data"
    },
    {
     "name": "stdout",
     "output_type": "stream",
     "text": [
      "best solution found in iteration 411\n",
      "Now print Error Log\n",
      "at iteration: 920 happens the following error\n",
      "('no plausible actions, len length of actions', 0, 'in the mode of ', 'REMOVE_CONDITION')\n",
      "best solution found in iteration 853\n",
      "parameter:  uniform 0 metrics 80 0.715042372881356 0.8898669396110542 0.6453154875717018 0.8016627078384798 0\n",
      "best solution found in iteration 874\n",
      "parameter:  uniform 1e-07 metrics 78 0.715042372881356 0.8898669396110542 0.6453154875717018 0.8016627078384798 0\n",
      "best solution found in iteration 874\n",
      "parameter:  uniform 1e-06 metrics 78 0.715042372881356 0.8898669396110542 0.6453154875717018 0.8016627078384798 0\n",
      "best solution found in iteration 874\n",
      "parameter:  uniform 1e-05 metrics 78 0.715042372881356 0.8898669396110542 0.6453154875717018 0.8016627078384798 0\n",
      "best solution found in iteration 874\n",
      "parameter:  uniform 3e-05 metrics 78 0.715042372881356 0.8898669396110542 0.6453154875717018 0.8016627078384798 0\n",
      "best solution found in iteration 411\n",
      "parameter:  uniform 5e-05 metrics 58 0.7142857142857144 0.8902763561924258 0.6405353728489483 0.8072289156626506 0\n",
      "best solution found in iteration 411\n",
      "parameter:  uniform 8e-05 metrics 58 0.7142857142857144 0.8902763561924258 0.6405353728489483 0.8072289156626506 0\n",
      "best solution found in iteration 411\n",
      "parameter:  uniform 0.0001 metrics 58 0.7142857142857144 0.8902763561924258 0.6405353728489483 0.8072289156626506 0\n",
      "best solution found in iteration 411\n",
      "parameter:  uniform 0.00015 metrics 58 0.7142857142857144 0.8902763561924258 0.6405353728489483 0.8072289156626506 0\n",
      "best solution found in iteration 411\n",
      "parameter:  uniform 0.0002 metrics 58 0.7142857142857144 0.8902763561924258 0.6405353728489483 0.8072289156626506 0\n",
      "best solution found in iteration 166\n",
      "parameter:  uniform 0.0003 metrics 29 0.6907894736842105 0.8845445240532241 0.6022944550669216 0.8097686375321337 0\n",
      "best solution found in iteration 925\n",
      "parameter:  uniform 0.0005 metrics 4 0.6813186813186812 0.8812691914022518 0.5927342256214149 0.8010335917312662 0\n",
      "best solution found in iteration 923\n",
      "parameter:  uniform 0.001 metrics 3 0.6755260243632337 0.8800409416581372 0.5831739961759083 0.8026315789473685 0\n",
      "best solution found in iteration 923\n",
      "parameter:  uniform 0.0013 metrics 3 0.6755260243632337 0.8800409416581372 0.5831739961759083 0.8026315789473685 0\n",
      "best solution found in iteration 923\n",
      "parameter:  uniform 0.0015 metrics 3 0.6755260243632337 0.8800409416581372 0.5831739961759083 0.8026315789473685 0\n",
      "best solution found in iteration 923\n",
      "parameter:  uniform 0.0018 metrics 3 0.6755260243632337 0.8800409416581372 0.5831739961759083 0.8026315789473685 0\n",
      "best solution found in iteration 923\n",
      "parameter:  uniform 0.002 metrics 3 0.6755260243632337 0.8800409416581372 0.5831739961759083 0.8026315789473685 0\n",
      "best solution found in iteration 923\n",
      "parameter:  uniform 0.0025 metrics 3 0.6755260243632337 0.8800409416581372 0.5831739961759083 0.8026315789473685 0\n",
      "best solution found in iteration 923\n",
      "parameter:  uniform 0.003 metrics 3 0.6755260243632337 0.8800409416581372 0.5831739961759083 0.8026315789473685 0\n",
      "best solution found in iteration 923\n",
      "parameter:  uniform 0.005 metrics 3 0.6755260243632337 0.8800409416581372 0.5831739961759083 0.8026315789473685 0\n",
      "best solution found in iteration 923\n",
      "parameter:  uniform 0.006 metrics 3 0.6755260243632337 0.8800409416581372 0.5831739961759083 0.8026315789473685 0\n",
      "best solution found in iteration 923\n",
      "parameter:  uniform 0.007 metrics 3 0.6755260243632337 0.8800409416581372 0.5831739961759083 0.8026315789473685 0\n",
      "best solution found in iteration 923\n",
      "parameter:  uniform 0.008 metrics 3 0.6755260243632337 0.8800409416581372 0.5831739961759083 0.8026315789473685 0\n",
      "best solution found in iteration 923\n",
      "parameter:  uniform 0.01 metrics 3 0.6755260243632337 0.8800409416581372 0.5831739961759083 0.8026315789473685 0\n",
      "best solution found in iteration 923\n",
      "parameter:  uniform 0.015 metrics 3 0.6755260243632337 0.8800409416581372 0.5831739961759083 0.8026315789473685 0\n",
      "best solution found in iteration 923\n",
      "parameter:  uniform 0.02 metrics 3 0.6755260243632337 0.8800409416581372 0.5831739961759083 0.8026315789473685 0\n",
      "best solution found in iteration 904\n",
      "parameter:  uniform 0.03 metrics 0 0.0 0.7858751279426817 0.0 0.0 0\n",
      "best solution found in iteration 904\n",
      "parameter:  uniform 0.05 metrics 0 0.0 0.7858751279426817 0.0 0.0 0\n",
      "best solution found in iteration 904\n",
      "parameter:  uniform 0.1 metrics 0 0.0 0.7858751279426817 0.0 0.0 0\n",
      "best solution found in iteration 904\n",
      "parameter:  uniform 0.15 metrics 0 0.0 0.7858751279426817 0.0 0.0 0\n",
      "best solution found in iteration 904\n",
      "parameter:  uniform 0.2 metrics 0 0.0 0.7858751279426817 0.0 0.0 0\n",
      "best solution found in iteration 904\n",
      "parameter:  uniform 0.5 metrics 0 0.0 0.7858751279426817 0.0 0.0 0\n",
      "estimated sampling\n",
      "(43957, 12)\n",
      "init transformer okay!\n",
      "new cached!\n"
     ]
    },
    {
     "data": {
      "application/vnd.jupyter.widget-view+json": {
       "model_id": "1d8b07cc594f48ac93dc29a5b38ecbb7",
       "version_major": 2,
       "version_minor": 0
      },
      "text/plain": [
       "HBox(children=(IntProgress(value=0, max=1000), HTML(value='')))"
      ]
     },
     "metadata": {},
     "output_type": "display_data"
    },
    {
     "name": "stdout",
     "output_type": "stream",
     "text": [
      "best solution found in iteration 411\n",
      "Now print Error Log\n",
      "at iteration: 920 happens the following error\n",
      "('no plausible actions, len length of actions', 0, 'in the mode of ', 'REMOVE_CONDITION')\n",
      "best solution found in iteration 853\n",
      "parameter:  estimated 0 metrics 80 0.715042372881356 0.8898669396110542 0.6453154875717018 0.8016627078384798 0\n",
      "best solution found in iteration 874\n",
      "parameter:  estimated 1e-07 metrics 78 0.715042372881356 0.8898669396110542 0.6453154875717018 0.8016627078384798 0\n",
      "best solution found in iteration 874\n",
      "parameter:  estimated 1e-06 metrics 78 0.715042372881356 0.8898669396110542 0.6453154875717018 0.8016627078384798 0\n",
      "best solution found in iteration 874\n",
      "parameter:  estimated 1e-05 metrics 78 0.715042372881356 0.8898669396110542 0.6453154875717018 0.8016627078384798 0\n",
      "best solution found in iteration 874\n",
      "parameter:  estimated 3e-05 metrics 78 0.715042372881356 0.8898669396110542 0.6453154875717018 0.8016627078384798 0\n",
      "best solution found in iteration 411\n",
      "parameter:  estimated 5e-05 metrics 58 0.7142857142857144 0.8902763561924258 0.6405353728489483 0.8072289156626506 0\n",
      "best solution found in iteration 411\n",
      "parameter:  estimated 8e-05 metrics 58 0.7142857142857144 0.8902763561924258 0.6405353728489483 0.8072289156626506 0\n",
      "best solution found in iteration 411\n",
      "parameter:  estimated 0.0001 metrics 58 0.7142857142857144 0.8902763561924258 0.6405353728489483 0.8072289156626506 0\n",
      "best solution found in iteration 411\n",
      "parameter:  estimated 0.00015 metrics 58 0.7142857142857144 0.8902763561924258 0.6405353728489483 0.8072289156626506 0\n",
      "best solution found in iteration 411\n",
      "parameter:  estimated 0.0002 metrics 58 0.7142857142857144 0.8902763561924258 0.6405353728489483 0.8072289156626506 0\n",
      "best solution found in iteration 166\n",
      "parameter:  estimated 0.0003 metrics 29 0.6907894736842105 0.8845445240532241 0.6022944550669216 0.8097686375321337 0\n",
      "best solution found in iteration 925\n",
      "parameter:  estimated 0.0005 metrics 4 0.6813186813186812 0.8812691914022518 0.5927342256214149 0.8010335917312662 0\n",
      "best solution found in iteration 923\n",
      "parameter:  estimated 0.001 metrics 3 0.6755260243632337 0.8800409416581372 0.5831739961759083 0.8026315789473685 0\n",
      "best solution found in iteration 923\n",
      "parameter:  estimated 0.0013 metrics 3 0.6755260243632337 0.8800409416581372 0.5831739961759083 0.8026315789473685 0\n",
      "best solution found in iteration 923\n",
      "parameter:  estimated 0.0015 metrics 3 0.6755260243632337 0.8800409416581372 0.5831739961759083 0.8026315789473685 0\n",
      "best solution found in iteration 923\n",
      "parameter:  estimated 0.0018 metrics 3 0.6755260243632337 0.8800409416581372 0.5831739961759083 0.8026315789473685 0\n",
      "best solution found in iteration 923\n",
      "parameter:  estimated 0.002 metrics 3 0.6755260243632337 0.8800409416581372 0.5831739961759083 0.8026315789473685 0\n",
      "best solution found in iteration 923\n",
      "parameter:  estimated 0.0025 metrics 3 0.6755260243632337 0.8800409416581372 0.5831739961759083 0.8026315789473685 0\n",
      "best solution found in iteration 923\n",
      "parameter:  estimated 0.003 metrics 3 0.6755260243632337 0.8800409416581372 0.5831739961759083 0.8026315789473685 0\n",
      "best solution found in iteration 923\n",
      "parameter:  estimated 0.005 metrics 3 0.6755260243632337 0.8800409416581372 0.5831739961759083 0.8026315789473685 0\n",
      "best solution found in iteration 923\n",
      "parameter:  estimated 0.006 metrics 3 0.6755260243632337 0.8800409416581372 0.5831739961759083 0.8026315789473685 0\n",
      "best solution found in iteration 923\n",
      "parameter:  estimated 0.007 metrics 3 0.6755260243632337 0.8800409416581372 0.5831739961759083 0.8026315789473685 0\n",
      "best solution found in iteration 923\n",
      "parameter:  estimated 0.008 metrics 3 0.6755260243632337 0.8800409416581372 0.5831739961759083 0.8026315789473685 0\n",
      "best solution found in iteration 923\n",
      "parameter:  estimated 0.01 metrics 3 0.6755260243632337 0.8800409416581372 0.5831739961759083 0.8026315789473685 0\n",
      "best solution found in iteration 923\n",
      "parameter:  estimated 0.015 metrics 3 0.6755260243632337 0.8800409416581372 0.5831739961759083 0.8026315789473685 0\n",
      "best solution found in iteration 923\n",
      "parameter:  estimated 0.02 metrics 3 0.6755260243632337 0.8800409416581372 0.5831739961759083 0.8026315789473685 0\n",
      "best solution found in iteration 904\n",
      "parameter:  estimated 0.03 metrics 0 0.0 0.7858751279426817 0.0 0.0 0\n",
      "best solution found in iteration 904\n",
      "parameter:  estimated 0.05 metrics 0 0.0 0.7858751279426817 0.0 0.0 0\n",
      "best solution found in iteration 904\n",
      "parameter:  estimated 0.1 metrics 0 0.0 0.7858751279426817 0.0 0.0 0\n",
      "best solution found in iteration 904\n",
      "parameter:  estimated 0.15 metrics 0 0.0 0.7858751279426817 0.0 0.0 0\n",
      "best solution found in iteration 904\n",
      "parameter:  estimated 0.2 metrics 0 0.0 0.7858751279426817 0.0 0.0 0\n",
      "best solution found in iteration 904\n",
      "parameter:  estimated 0.5 metrics 0 0.0 0.7858751279426817 0.0 0.0 0\n",
      "uniform sampling\n",
      "init transformer okay!\n",
      "[1. 1. 0. ... 1. 0. 1.]\n",
      "(65935, 12)\n",
      "init transformer okay!\n",
      "new cached!\n"
     ]
    },
    {
     "data": {
      "application/vnd.jupyter.widget-view+json": {
       "model_id": "3125547f5a164a0e9598eb50961b1a9d",
       "version_major": 2,
       "version_minor": 0
      },
      "text/plain": [
       "HBox(children=(IntProgress(value=0, max=1000), HTML(value='')))"
      ]
     },
     "metadata": {},
     "output_type": "display_data"
    },
    {
     "name": "stdout",
     "output_type": "stream",
     "text": [
      "best solution found in iteration 857\n",
      "Now print Error Log\n",
      "at iteration: 900 happens the following error\n",
      "('no plausible actions, len length of actions', 0, 'in the mode of ', 'REMOVE_CONDITION')\n",
      "at iteration: 907 happens the following error\n",
      "('no plausible actions, len length of actions', 0, 'in the mode of ', 'REMOVE_CONDITION')\n",
      "at iteration: 910 happens the following error\n",
      "('no plausible actions, len length of actions', 0, 'in the mode of ', 'REMOVE_CONDITION')\n",
      "at iteration: 924 happens the following error\n",
      "('no plausible actions, len length of actions', 0, 'in the mode of ', 'REMOVE_CONDITION')\n",
      "best solution found in iteration 849\n",
      "parameter:  uniform 0 metrics 31 0.7258150721539284 0.8949846468781986 0.6491395793499044 0.823030303030303 21978.5\n",
      "best solution found in iteration 857\n",
      "parameter:  uniform 1e-07 metrics 30 0.7258150721539284 0.8949846468781986 0.6491395793499044 0.823030303030303 21978.5\n",
      "best solution found in iteration 857\n",
      "parameter:  uniform 1e-06 metrics 30 0.7258150721539284 0.8949846468781986 0.6491395793499044 0.823030303030303 21978.5\n",
      "best solution found in iteration 857\n",
      "parameter:  uniform 1e-05 metrics 30 0.7258150721539284 0.8949846468781986 0.6491395793499044 0.823030303030303 21978.5\n",
      "best solution found in iteration 857\n",
      "parameter:  uniform 3e-05 metrics 30 0.7258150721539284 0.8949846468781986 0.6491395793499044 0.823030303030303 21978.5\n",
      "best solution found in iteration 857\n",
      "parameter:  uniform 5e-05 metrics 30 0.7258150721539284 0.8949846468781986 0.6491395793499044 0.823030303030303 21978.5\n",
      "best solution found in iteration 857\n",
      "parameter:  uniform 8e-05 metrics 30 0.7258150721539284 0.8949846468781986 0.6491395793499044 0.823030303030303 21978.5\n",
      "best solution found in iteration 857\n",
      "parameter:  uniform 0.0001 metrics 30 0.7258150721539284 0.8949846468781986 0.6491395793499044 0.823030303030303 21978.5\n",
      "best solution found in iteration 857\n",
      "parameter:  uniform 0.00015 metrics 30 0.7258150721539284 0.8949846468781986 0.6491395793499044 0.823030303030303 21978.5\n",
      "best solution found in iteration 857\n",
      "parameter:  uniform 0.0002 metrics 30 0.7258150721539284 0.8949846468781986 0.6491395793499044 0.823030303030303 21978.5\n",
      "best solution found in iteration 725\n",
      "parameter:  uniform 0.0003 metrics 25 0.7354635935044527 0.8966223132036848 0.6711281070745698 0.813441483198146 21978.5\n",
      "best solution found in iteration 655\n",
      "parameter:  uniform 0.0005 metrics 24 0.7358490566037736 0.8968270214943705 0.6711281070745698 0.814385150812065 21978.5\n",
      "best solution found in iteration 407\n",
      "parameter:  uniform 0.001 metrics 21 0.720855614973262 0.8931422722620266 0.6443594646271511 0.8179611650485437 21978.5\n",
      "best solution found in iteration 407\n",
      "parameter:  uniform 0.0013 metrics 21 0.720855614973262 0.8931422722620266 0.6443594646271511 0.8179611650485437 21978.5\n",
      "best solution found in iteration 409\n",
      "parameter:  uniform 0.0015 metrics 20 0.720855614973262 0.8931422722620266 0.6443594646271511 0.8179611650485437 21978.5\n",
      "best solution found in iteration 409\n",
      "parameter:  uniform 0.0018 metrics 20 0.720855614973262 0.8931422722620266 0.6443594646271511 0.8179611650485437 21978.5\n",
      "best solution found in iteration 409\n",
      "parameter:  uniform 0.002 metrics 20 0.720855614973262 0.8931422722620266 0.6443594646271511 0.8179611650485437 21978.5\n",
      "best solution found in iteration 409\n",
      "parameter:  uniform 0.0025 metrics 20 0.720855614973262 0.8931422722620266 0.6443594646271511 0.8179611650485437 21978.5\n",
      "best solution found in iteration 106\n",
      "parameter:  uniform 0.003 metrics 9 0.643371017471737 0.8579324462640737 0.5984703632887189 0.6955555555555556 21978.5\n",
      "best solution found in iteration 72\n",
      "parameter:  uniform 0.005 metrics 5 0.5146053449347421 0.8401228249744115 0.39579349904397704 0.7353463587921847 21978.5\n",
      "best solution found in iteration 72\n",
      "parameter:  uniform 0.006 metrics 5 0.5146053449347421 0.8401228249744115 0.39579349904397704 0.7353463587921847 21978.5\n",
      "best solution found in iteration 72\n",
      "parameter:  uniform 0.007 metrics 5 0.5146053449347421 0.8401228249744115 0.39579349904397704 0.7353463587921847 21978.5\n",
      "best solution found in iteration 72\n",
      "parameter:  uniform 0.008 metrics 5 0.5146053449347421 0.8401228249744115 0.39579349904397704 0.7353463587921847 21978.5\n",
      "best solution found in iteration 918\n",
      "parameter:  uniform 0.01 metrics 1 0.07366482504604051 0.7940634595701126 0.03824091778202677 1.0 21978.5\n",
      "best solution found in iteration 918\n",
      "parameter:  uniform 0.015 metrics 1 0.07366482504604051 0.7940634595701126 0.03824091778202677 1.0 21978.5\n",
      "best solution found in iteration 918\n",
      "parameter:  uniform 0.02 metrics 1 0.07366482504604051 0.7940634595701126 0.03824091778202677 1.0 21978.5\n",
      "best solution found in iteration 918\n",
      "parameter:  uniform 0.03 metrics 1 0.07366482504604051 0.7940634595701126 0.03824091778202677 1.0 21978.5\n",
      "best solution found in iteration 918\n",
      "parameter:  uniform 0.05 metrics 1 0.07366482504604051 0.7940634595701126 0.03824091778202677 1.0 21978.5\n",
      "best solution found in iteration 918\n",
      "parameter:  uniform 0.1 metrics 1 0.07366482504604051 0.7940634595701126 0.03824091778202677 1.0 21978.5\n",
      "best solution found in iteration 918\n",
      "parameter:  uniform 0.15 metrics 1 0.07366482504604051 0.7940634595701126 0.03824091778202677 1.0 21978.5\n",
      "best solution found in iteration 894\n",
      "parameter:  uniform 0.2 metrics 0 0.0 0.7858751279426817 0.0 0.0 21978.5\n",
      "best solution found in iteration 894\n",
      "parameter:  uniform 0.5 metrics 0 0.0 0.7858751279426817 0.0 0.0 21978.5\n",
      "estimated sampling\n",
      "(65935, 12)\n",
      "init transformer okay!\n",
      "new cached!\n"
     ]
    },
    {
     "data": {
      "application/vnd.jupyter.widget-view+json": {
       "model_id": "f73e8535383e4236adafd071ed7f4536",
       "version_major": 2,
       "version_minor": 0
      },
      "text/plain": [
       "HBox(children=(IntProgress(value=0, max=1000), HTML(value='')))"
      ]
     },
     "metadata": {},
     "output_type": "display_data"
    },
    {
     "name": "stdout",
     "output_type": "stream",
     "text": [
      "best solution found in iteration 562\n",
      "Now print Error Log\n",
      "no error happens\n",
      "best solution found in iteration 956\n",
      "parameter:  estimated 0 metrics 78 0.7641129032258065 0.9041965199590584 0.7246653919694073 0.8081023454157783 21978.5\n",
      "best solution found in iteration 956\n",
      "parameter:  estimated 1e-07 metrics 78 0.7641129032258065 0.9041965199590584 0.7246653919694073 0.8081023454157783 21978.5\n",
      "best solution found in iteration 956\n",
      "parameter:  estimated 1e-06 metrics 78 0.7641129032258065 0.9041965199590584 0.7246653919694073 0.8081023454157783 21978.5\n",
      "best solution found in iteration 892\n",
      "parameter:  estimated 1e-05 metrics 66 0.7602635580334516 0.9031729785056295 0.7170172084130019 0.8090614886731392 21978.5\n",
      "best solution found in iteration 892\n",
      "parameter:  estimated 3e-05 metrics 66 0.7602635580334516 0.9031729785056295 0.7170172084130019 0.8090614886731392 21978.5\n",
      "best solution found in iteration 750\n",
      "parameter:  estimated 5e-05 metrics 52 0.7599797877716018 0.9027635619242579 0.7189292543021033 0.8060021436227224 21978.5\n",
      "best solution found in iteration 562\n",
      "parameter:  estimated 8e-05 metrics 39 0.7602221100454315 0.9027635619242579 0.719885277246654 0.8053475935828877 21978.5\n",
      "best solution found in iteration 562\n",
      "parameter:  estimated 0.0001 metrics 39 0.7602221100454315 0.9027635619242579 0.719885277246654 0.8053475935828877 21978.5\n",
      "best solution found in iteration 562\n",
      "parameter:  estimated 0.00015 metrics 39 0.7602221100454315 0.9027635619242579 0.719885277246654 0.8053475935828877 21978.5\n",
      "best solution found in iteration 562\n",
      "parameter:  estimated 0.0002 metrics 39 0.7602221100454315 0.9027635619242579 0.719885277246654 0.8053475935828877 21978.5\n",
      "best solution found in iteration 505\n",
      "parameter:  estimated 0.0003 metrics 37 0.7589376915219611 0.9033776867963152 0.7103250478011472 0.8146929824561403 21978.5\n",
      "best solution found in iteration 505\n",
      "parameter:  estimated 0.0005 metrics 37 0.7589376915219611 0.9033776867963152 0.7103250478011472 0.8146929824561403 21978.5\n",
      "best solution found in iteration 246\n",
      "parameter:  estimated 0.001 metrics 27 0.7186477644492911 0.8943705220061412 0.630019120458891 0.8362944162436549 21978.5\n",
      "best solution found in iteration 48\n",
      "parameter:  estimated 0.0013 metrics 17 0.6929303831624393 0.8835209825997953 0.6137667304015296 0.7955390334572491 21978.5\n",
      "best solution found in iteration 33\n",
      "parameter:  estimated 0.0015 metrics 13 0.6670378619153675 0.8775844421699078 0.5726577437858509 0.7986666666666666 21978.5\n",
      "best solution found in iteration 33\n",
      "parameter:  estimated 0.0018 metrics 13 0.6670378619153675 0.8775844421699078 0.5726577437858509 0.7986666666666666 21978.5\n",
      "best solution found in iteration 33\n",
      "parameter:  estimated 0.002 metrics 13 0.6670378619153675 0.8775844421699078 0.5726577437858509 0.7986666666666666 21978.5\n",
      "best solution found in iteration 33\n",
      "parameter:  estimated 0.0025 metrics 13 0.6670378619153675 0.8775844421699078 0.5726577437858509 0.7986666666666666 21978.5\n",
      "best solution found in iteration 33\n",
      "parameter:  estimated 0.003 metrics 13 0.6670378619153675 0.8775844421699078 0.5726577437858509 0.7986666666666666 21978.5\n",
      "best solution found in iteration 0\n",
      "parameter:  estimated 0.005 metrics 1 0.3493312352478364 0.8307062436028659 0.21223709369024857 0.9866666666666667 21978.5\n",
      "best solution found in iteration 0\n",
      "parameter:  estimated 0.006 metrics 1 0.3493312352478364 0.8307062436028659 0.21223709369024857 0.9866666666666667 21978.5\n",
      "best solution found in iteration 0\n",
      "parameter:  estimated 0.007 metrics 1 0.3493312352478364 0.8307062436028659 0.21223709369024857 0.9866666666666667 21978.5\n",
      "best solution found in iteration 0\n",
      "parameter:  estimated 0.008 metrics 1 0.3493312352478364 0.8307062436028659 0.21223709369024857 0.9866666666666667 21978.5\n",
      "best solution found in iteration 0\n",
      "parameter:  estimated 0.01 metrics 1 0.3493312352478364 0.8307062436028659 0.21223709369024857 0.9866666666666667 21978.5\n",
      "best solution found in iteration 0\n",
      "parameter:  estimated 0.015 metrics 1 0.3493312352478364 0.8307062436028659 0.21223709369024857 0.9866666666666667 21978.5\n",
      "best solution found in iteration 0\n",
      "parameter:  estimated 0.02 metrics 1 0.3493312352478364 0.8307062436028659 0.21223709369024857 0.9866666666666667 21978.5\n",
      "best solution found in iteration 0\n",
      "parameter:  estimated 0.03 metrics 1 0.3493312352478364 0.8307062436028659 0.21223709369024857 0.9866666666666667 21978.5\n",
      "best solution found in iteration 977\n",
      "parameter:  estimated 0.05 metrics 0 0.0 0.7858751279426817 0.0 0.0 21978.5\n",
      "best solution found in iteration 977\n",
      "parameter:  estimated 0.1 metrics 0 0.0 0.7858751279426817 0.0 0.0 21978.5\n",
      "best solution found in iteration 977\n",
      "parameter:  estimated 0.15 metrics 0 0.0 0.7858751279426817 0.0 0.0 21978.5\n",
      "best solution found in iteration 977\n",
      "parameter:  estimated 0.2 metrics 0 0.0 0.7858751279426817 0.0 0.0 21978.5\n",
      "best solution found in iteration 977\n",
      "parameter:  estimated 0.5 metrics 0 0.0 0.7858751279426817 0.0 0.0 21978.5\n",
      "uniform sampling\n",
      "init transformer okay!\n",
      "[1. 1. 1. ... 0. 1. 0.]\n",
      "(87914, 12)\n",
      "init transformer okay!\n",
      "new cached!\n"
     ]
    },
    {
     "data": {
      "application/vnd.jupyter.widget-view+json": {
       "model_id": "72270565b7bb4dcbb2f25f5cde1783a1",
       "version_major": 2,
       "version_minor": 0
      },
      "text/plain": [
       "HBox(children=(IntProgress(value=0, max=1000), HTML(value='')))"
      ]
     },
     "metadata": {},
     "output_type": "display_data"
    },
    {
     "name": "stdout",
     "output_type": "stream",
     "text": [
      "best solution found in iteration 426\n",
      "Now print Error Log\n",
      "at iteration: 19 happens the following error\n",
      "('no plausible actions, len length of actions', 0, 'in the mode of ', 'REMOVE_CONDITION')\n",
      "at iteration: 21 happens the following error\n",
      "('no plausible actions, len length of actions', 0, 'in the mode of ', 'REMOVE_CONDITION')\n",
      "at iteration: 22 happens the following error\n",
      "('no plausible actions, len length of actions', 0, 'in the mode of ', 'REMOVE_CONDITION')\n",
      "at iteration: 202 happens the following error\n",
      "('no plausible actions, len length of actions', 0, 'in the mode of ', 'REMOVE_CONDITION')\n",
      "best solution found in iteration 420\n",
      "parameter:  uniform 0 metrics 8 0.6943556975505858 0.8824974411463664 0.6233269598470363 0.7836538461538461 43957\n",
      "best solution found in iteration 420\n",
      "parameter:  uniform 1e-07 metrics 8 0.6943556975505858 0.8824974411463664 0.6233269598470363 0.7836538461538461 43957\n",
      "best solution found in iteration 420\n",
      "parameter:  uniform 1e-06 metrics 8 0.6943556975505858 0.8824974411463664 0.6233269598470363 0.7836538461538461 43957\n",
      "best solution found in iteration 420\n",
      "parameter:  uniform 1e-05 metrics 8 0.6943556975505858 0.8824974411463664 0.6233269598470363 0.7836538461538461 43957\n",
      "best solution found in iteration 426\n",
      "parameter:  uniform 3e-05 metrics 7 0.6943556975505858 0.8824974411463664 0.6233269598470363 0.7836538461538461 43957\n",
      "best solution found in iteration 426\n",
      "parameter:  uniform 5e-05 metrics 7 0.6943556975505858 0.8824974411463664 0.6233269598470363 0.7836538461538461 43957\n",
      "best solution found in iteration 426\n",
      "parameter:  uniform 8e-05 metrics 7 0.6943556975505858 0.8824974411463664 0.6233269598470363 0.7836538461538461 43957\n",
      "best solution found in iteration 426\n",
      "parameter:  uniform 0.0001 metrics 7 0.6943556975505858 0.8824974411463664 0.6233269598470363 0.7836538461538461 43957\n",
      "best solution found in iteration 426\n",
      "parameter:  uniform 0.00015 metrics 7 0.6943556975505858 0.8824974411463664 0.6233269598470363 0.7836538461538461 43957\n",
      "best solution found in iteration 426\n",
      "parameter:  uniform 0.0002 metrics 7 0.6943556975505858 0.8824974411463664 0.6233269598470363 0.7836538461538461 43957\n",
      "best solution found in iteration 426\n",
      "parameter:  uniform 0.0003 metrics 7 0.6943556975505858 0.8824974411463664 0.6233269598470363 0.7836538461538461 43957\n",
      "best solution found in iteration 427\n",
      "parameter:  uniform 0.0005 metrics 6 0.6905398182789952 0.8814738996929375 0.6175908221797323 0.7830303030303031 43957\n",
      "best solution found in iteration 427\n",
      "parameter:  uniform 0.001 metrics 6 0.6905398182789952 0.8814738996929375 0.6175908221797323 0.7830303030303031 43957\n",
      "best solution found in iteration 427\n",
      "parameter:  uniform 0.0013 metrics 6 0.6905398182789952 0.8814738996929375 0.6175908221797323 0.7830303030303031 43957\n",
      "best solution found in iteration 429\n",
      "parameter:  uniform 0.0015 metrics 5 0.6905398182789952 0.8814738996929375 0.6175908221797323 0.7830303030303031 43957\n",
      "best solution found in iteration 429\n",
      "parameter:  uniform 0.0018 metrics 5 0.6905398182789952 0.8814738996929375 0.6175908221797323 0.7830303030303031 43957\n",
      "best solution found in iteration 429\n",
      "parameter:  uniform 0.002 metrics 5 0.6905398182789952 0.8814738996929375 0.6175908221797323 0.7830303030303031 43957\n",
      "best solution found in iteration 193\n",
      "parameter:  uniform 0.0025 metrics 4 0.6919739696312365 0.883725690890481 0.609942638623327 0.7994987468671679 43957\n",
      "best solution found in iteration 193\n",
      "parameter:  uniform 0.003 metrics 4 0.6919739696312365 0.883725690890481 0.609942638623327 0.7994987468671679 43957\n",
      "best solution found in iteration 194\n",
      "parameter:  uniform 0.005 metrics 3 0.6516601012943163 0.8732855680655066 0.5535372848948374 0.7920656634746922 43957\n",
      "best solution found in iteration 194\n",
      "parameter:  uniform 0.006 metrics 3 0.6516601012943163 0.8732855680655066 0.5535372848948374 0.7920656634746922 43957\n",
      "best solution found in iteration 194\n",
      "parameter:  uniform 0.007 metrics 3 0.6516601012943163 0.8732855680655066 0.5535372848948374 0.7920656634746922 43957\n",
      "best solution found in iteration 194\n",
      "parameter:  uniform 0.008 metrics 3 0.6516601012943163 0.8732855680655066 0.5535372848948374 0.7920656634746922 43957\n",
      "best solution found in iteration 194\n",
      "parameter:  uniform 0.01 metrics 3 0.6516601012943163 0.8732855680655066 0.5535372848948374 0.7920656634746922 43957\n",
      "best solution found in iteration 196\n",
      "parameter:  uniform 0.015 metrics 2 0.6531759415401911 0.8736949846468782 0.5554493307839388 0.7926330150068213 43957\n",
      "best solution found in iteration 196\n",
      "parameter:  uniform 0.02 metrics 2 0.6531759415401911 0.8736949846468782 0.5554493307839388 0.7926330150068213 43957\n",
      "best solution found in iteration 909\n",
      "parameter:  uniform 0.03 metrics 1 0.381169324221716 0.8331627430910952 0.23996175908221798 0.9261992619926199 43957\n",
      "best solution found in iteration 909\n",
      "parameter:  uniform 0.05 metrics 1 0.381169324221716 0.8331627430910952 0.23996175908221798 0.9261992619926199 43957\n",
      "best solution found in iteration 909\n",
      "parameter:  uniform 0.1 metrics 1 0.381169324221716 0.8331627430910952 0.23996175908221798 0.9261992619926199 43957\n",
      "best solution found in iteration 909\n",
      "parameter:  uniform 0.15 metrics 1 0.381169324221716 0.8331627430910952 0.23996175908221798 0.9261992619926199 43957\n",
      "best solution found in iteration 909\n",
      "parameter:  uniform 0.2 metrics 1 0.381169324221716 0.8331627430910952 0.23996175908221798 0.9261992619926199 43957\n",
      "best solution found in iteration 890\n",
      "parameter:  uniform 0.5 metrics 0 0.0 0.7858751279426817 0.0 0.0 43957\n",
      "estimated sampling\n",
      "(87914, 12)\n",
      "init transformer okay!\n",
      "new cached!\n"
     ]
    },
    {
     "data": {
      "application/vnd.jupyter.widget-view+json": {
       "model_id": "37685c2afa2740cc89ae41619567de73",
       "version_major": 2,
       "version_minor": 0
      },
      "text/plain": [
       "HBox(children=(IntProgress(value=0, max=1000), HTML(value='')))"
      ]
     },
     "metadata": {},
     "output_type": "display_data"
    },
    {
     "name": "stdout",
     "output_type": "stream",
     "text": [
      "best solution found in iteration 893\n",
      "Now print Error Log\n",
      "at iteration: 5 happens the following error\n",
      "('no plausible actions, len length of actions', 0, 'in the mode of ', 'REMOVE_CONDITION')\n",
      "at iteration: 6 happens the following error\n",
      "('no plausible actions, len length of actions', 0, 'in the mode of ', 'REMOVE_CONDITION')\n",
      "at iteration: 8 happens the following error\n",
      "('no plausible actions, len length of actions', 0, 'in the mode of ', 'REMOVE_CONDITION')\n",
      "at iteration: 42 happens the following error\n",
      "('no plausible actions, len length of actions', 0, 'in the mode of ', 'REMOVE_CONDITION')\n",
      "at iteration: 56 happens the following error\n",
      "('no plausible actions, len length of actions', 0, 'in the mode of ', 'REMOVE_CONDITION')\n",
      "at iteration: 57 happens the following error\n",
      "('no plausible actions, len length of actions', 0, 'in the mode of ', 'REMOVE_CONDITION')\n",
      "at iteration: 62 happens the following error\n",
      "('no plausible actions, len length of actions', 0, 'in the mode of ', 'REMOVE_CONDITION')\n",
      "at iteration: 63 happens the following error\n",
      "('no plausible actions, len length of actions', 0, 'in the mode of ', 'REMOVE_CONDITION')\n",
      "at iteration: 932 happens the following error\n",
      "('no plausible actions, len length of actions', 0, 'in the mode of ', 'REMOVE_CONDITION')\n",
      "at iteration: 933 happens the following error\n",
      "('no plausible actions, len length of actions', 0, 'in the mode of ', 'REMOVE_CONDITION')\n",
      "at iteration: 934 happens the following error\n",
      "('no plausible actions, len length of actions', 0, 'in the mode of ', 'REMOVE_CONDITION')\n",
      "at iteration: 935 happens the following error\n",
      "('no plausible actions, len length of actions', 0, 'in the mode of ', 'REMOVE_CONDITION')\n",
      "at iteration: 937 happens the following error\n",
      "('no plausible actions, len length of actions', 0, 'in the mode of ', 'REMOVE_CONDITION')\n",
      "best solution found in iteration 895\n",
      "parameter:  estimated 0 metrics 40 0.7120253164556962 0.8882292732855681 0.6453154875717018 0.7941176470588235 43957\n",
      "best solution found in iteration 895\n",
      "parameter:  estimated 1e-07 metrics 40 0.7120253164556962 0.8882292732855681 0.6453154875717018 0.7941176470588235 43957\n",
      "best solution found in iteration 895\n",
      "parameter:  estimated 1e-06 metrics 40 0.7120253164556962 0.8882292732855681 0.6453154875717018 0.7941176470588235 43957\n",
      "best solution found in iteration 895\n",
      "parameter:  estimated 1e-05 metrics 40 0.7120253164556962 0.8882292732855681 0.6453154875717018 0.7941176470588235 43957\n",
      "best solution found in iteration 893\n",
      "parameter:  estimated 3e-05 metrics 39 0.7120253164556962 0.8882292732855681 0.6453154875717018 0.7941176470588235 43957\n",
      "best solution found in iteration 893\n",
      "parameter:  estimated 5e-05 metrics 39 0.7120253164556962 0.8882292732855681 0.6453154875717018 0.7941176470588235 43957\n",
      "best solution found in iteration 893\n",
      "parameter:  estimated 8e-05 metrics 39 0.7120253164556962 0.8882292732855681 0.6453154875717018 0.7941176470588235 43957\n",
      "best solution found in iteration 893\n",
      "parameter:  estimated 0.0001 metrics 39 0.7120253164556962 0.8882292732855681 0.6453154875717018 0.7941176470588235 43957\n",
      "best solution found in iteration 893\n",
      "parameter:  estimated 0.00015 metrics 39 0.7120253164556962 0.8882292732855681 0.6453154875717018 0.7941176470588235 43957\n",
      "best solution found in iteration 893\n",
      "parameter:  estimated 0.0002 metrics 39 0.7120253164556962 0.8882292732855681 0.6453154875717018 0.7941176470588235 43957\n",
      "best solution found in iteration 126\n",
      "parameter:  estimated 0.0003 metrics 10 0.7083985393844549 0.885568065506653 0.6491395793499044 0.7795637198622273 43957\n",
      "best solution found in iteration 126\n",
      "parameter:  estimated 0.0005 metrics 10 0.7083985393844549 0.885568065506653 0.6491395793499044 0.7795637198622273 43957\n",
      "best solution found in iteration 126\n",
      "parameter:  estimated 0.001 metrics 10 0.7083985393844549 0.885568065506653 0.6491395793499044 0.7795637198622273 43957\n",
      "best solution found in iteration 126\n",
      "parameter:  estimated 0.0013 metrics 10 0.7083985393844549 0.885568065506653 0.6491395793499044 0.7795637198622273 43957\n",
      "best solution found in iteration 126\n",
      "parameter:  estimated 0.0015 metrics 10 0.7083985393844549 0.885568065506653 0.6491395793499044 0.7795637198622273 43957\n",
      "best solution found in iteration 126\n",
      "parameter:  estimated 0.0018 metrics 10 0.7083985393844549 0.885568065506653 0.6491395793499044 0.7795637198622273 43957\n",
      "best solution found in iteration 126\n",
      "parameter:  estimated 0.002 metrics 10 0.7083985393844549 0.885568065506653 0.6491395793499044 0.7795637198622273 43957\n",
      "best solution found in iteration 126\n",
      "parameter:  estimated 0.0025 metrics 10 0.7083985393844549 0.885568065506653 0.6491395793499044 0.7795637198622273 43957\n",
      "best solution found in iteration 126\n",
      "parameter:  estimated 0.003 metrics 10 0.7083985393844549 0.885568065506653 0.6491395793499044 0.7795637198622273 43957\n",
      "best solution found in iteration 126\n",
      "parameter:  estimated 0.005 metrics 10 0.7083985393844549 0.885568065506653 0.6491395793499044 0.7795637198622273 43957\n",
      "best solution found in iteration 126\n",
      "parameter:  estimated 0.006 metrics 10 0.7083985393844549 0.885568065506653 0.6491395793499044 0.7795637198622273 43957\n",
      "best solution found in iteration 922\n",
      "parameter:  estimated 0.007 metrics 1 0.3904208998548621 0.8280450358239508 0.25717017208413 0.8102409638554217 43957\n",
      "best solution found in iteration 922\n",
      "parameter:  estimated 0.008 metrics 1 0.3904208998548621 0.8280450358239508 0.25717017208413 0.8102409638554217 43957\n",
      "best solution found in iteration 922\n",
      "parameter:  estimated 0.01 metrics 1 0.3904208998548621 0.8280450358239508 0.25717017208413 0.8102409638554217 43957\n",
      "best solution found in iteration 922\n",
      "parameter:  estimated 0.015 metrics 1 0.3904208998548621 0.8280450358239508 0.25717017208413 0.8102409638554217 43957\n",
      "best solution found in iteration 922\n",
      "parameter:  estimated 0.02 metrics 1 0.3904208998548621 0.8280450358239508 0.25717017208413 0.8102409638554217 43957\n",
      "best solution found in iteration 920\n",
      "parameter:  estimated 0.03 metrics 0 0.0 0.7858751279426817 0.0 0.0 43957\n",
      "best solution found in iteration 920\n",
      "parameter:  estimated 0.05 metrics 0 0.0 0.7858751279426817 0.0 0.0 43957\n",
      "best solution found in iteration 920\n",
      "parameter:  estimated 0.1 metrics 0 0.0 0.7858751279426817 0.0 0.0 43957\n",
      "best solution found in iteration 920\n",
      "parameter:  estimated 0.15 metrics 0 0.0 0.7858751279426817 0.0 0.0 43957\n",
      "best solution found in iteration 920\n",
      "parameter:  estimated 0.2 metrics 0 0.0 0.7858751279426817 0.0 0.0 43957\n",
      "best solution found in iteration 920\n",
      "parameter:  estimated 0.5 metrics 0 0.0 0.7858751279426817 0.0 0.0 43957\n",
      "uniform sampling\n",
      "init transformer okay!\n",
      "[1. 1. 1. ... 0. 1. 1.]\n",
      "(109892, 12)\n",
      "init transformer okay!\n",
      "new cached!\n"
     ]
    },
    {
     "data": {
      "application/vnd.jupyter.widget-view+json": {
       "model_id": "06d5a8adaf204afe8a69c44d2441dbc0",
       "version_major": 2,
       "version_minor": 0
      },
      "text/plain": [
       "HBox(children=(IntProgress(value=0, max=1000), HTML(value='')))"
      ]
     },
     "metadata": {},
     "output_type": "display_data"
    },
    {
     "name": "stdout",
     "output_type": "stream",
     "text": [
      "best solution found in iteration 792\n",
      "Now print Error Log\n",
      "at iteration: 947 happens the following error\n",
      "('no plausible actions, len length of actions', 0, 'in the mode of ', 'REMOVE_CONDITION')\n",
      "at iteration: 948 happens the following error\n",
      "('no plausible actions, len length of actions', 0, 'in the mode of ', 'REMOVE_CONDITION')\n",
      "at iteration: 949 happens the following error\n",
      "('no plausible actions, len length of actions', 0, 'in the mode of ', 'REMOVE_CONDITION')\n",
      "at iteration: 951 happens the following error\n",
      "('no plausible actions, len length of actions', 0, 'in the mode of ', 'REMOVE_CONDITION')\n",
      "best solution found in iteration 791\n",
      "parameter:  uniform 0 metrics 5 0.6913445835601524 0.8839303991811669 0.607074569789675 0.8027812895069533 65935.5\n",
      "best solution found in iteration 792\n",
      "parameter:  uniform 1e-07 metrics 4 0.6913445835601524 0.8839303991811669 0.607074569789675 0.8027812895069533 65935.5\n",
      "best solution found in iteration 792\n",
      "parameter:  uniform 1e-06 metrics 4 0.6913445835601524 0.8839303991811669 0.607074569789675 0.8027812895069533 65935.5\n",
      "best solution found in iteration 792\n",
      "parameter:  uniform 1e-05 metrics 4 0.6913445835601524 0.8839303991811669 0.607074569789675 0.8027812895069533 65935.5\n",
      "best solution found in iteration 792\n",
      "parameter:  uniform 3e-05 metrics 4 0.6913445835601524 0.8839303991811669 0.607074569789675 0.8027812895069533 65935.5\n",
      "best solution found in iteration 792\n",
      "parameter:  uniform 5e-05 metrics 4 0.6913445835601524 0.8839303991811669 0.607074569789675 0.8027812895069533 65935.5\n",
      "best solution found in iteration 792\n",
      "parameter:  uniform 8e-05 metrics 4 0.6913445835601524 0.8839303991811669 0.607074569789675 0.8027812895069533 65935.5\n",
      "best solution found in iteration 792\n",
      "parameter:  uniform 0.0001 metrics 4 0.6913445835601524 0.8839303991811669 0.607074569789675 0.8027812895069533 65935.5\n",
      "best solution found in iteration 792\n",
      "parameter:  uniform 0.00015 metrics 4 0.6913445835601524 0.8839303991811669 0.607074569789675 0.8027812895069533 65935.5\n",
      "best solution found in iteration 792\n",
      "parameter:  uniform 0.0002 metrics 4 0.6913445835601524 0.8839303991811669 0.607074569789675 0.8027812895069533 65935.5\n",
      "best solution found in iteration 792\n",
      "parameter:  uniform 0.0003 metrics 4 0.6913445835601524 0.8839303991811669 0.607074569789675 0.8027812895069533 65935.5\n",
      "best solution found in iteration 792\n",
      "parameter:  uniform 0.0005 metrics 4 0.6913445835601524 0.8839303991811669 0.607074569789675 0.8027812895069533 65935.5\n",
      "best solution found in iteration 792\n",
      "parameter:  uniform 0.001 metrics 4 0.6913445835601524 0.8839303991811669 0.607074569789675 0.8027812895069533 65935.5\n",
      "best solution found in iteration 792\n",
      "parameter:  uniform 0.0013 metrics 4 0.6913445835601524 0.8839303991811669 0.607074569789675 0.8027812895069533 65935.5\n",
      "best solution found in iteration 792\n",
      "parameter:  uniform 0.0015 metrics 4 0.6913445835601524 0.8839303991811669 0.607074569789675 0.8027812895069533 65935.5\n",
      "best solution found in iteration 792\n",
      "parameter:  uniform 0.0018 metrics 4 0.6913445835601524 0.8839303991811669 0.607074569789675 0.8027812895069533 65935.5\n",
      "best solution found in iteration 792\n",
      "parameter:  uniform 0.002 metrics 4 0.6913445835601524 0.8839303991811669 0.607074569789675 0.8027812895069533 65935.5\n",
      "best solution found in iteration 792\n",
      "parameter:  uniform 0.0025 metrics 4 0.6913445835601524 0.8839303991811669 0.607074569789675 0.8027812895069533 65935.5\n",
      "best solution found in iteration 792\n",
      "parameter:  uniform 0.003 metrics 4 0.6913445835601524 0.8839303991811669 0.607074569789675 0.8027812895069533 65935.5\n",
      "best solution found in iteration 792\n",
      "parameter:  uniform 0.005 metrics 4 0.6913445835601524 0.8839303991811669 0.607074569789675 0.8027812895069533 65935.5\n",
      "best solution found in iteration 842\n",
      "parameter:  uniform 0.006 metrics 2 0.6521008403361346 0.8728761514841351 0.5564053537284895 0.7875507442489851 65935.5\n",
      "best solution found in iteration 842\n",
      "parameter:  uniform 0.007 metrics 2 0.6521008403361346 0.8728761514841351 0.5564053537284895 0.7875507442489851 65935.5\n",
      "best solution found in iteration 842\n",
      "parameter:  uniform 0.008 metrics 2 0.6521008403361346 0.8728761514841351 0.5564053537284895 0.7875507442489851 65935.5\n",
      "best solution found in iteration 842\n",
      "parameter:  uniform 0.01 metrics 2 0.6521008403361346 0.8728761514841351 0.5564053537284895 0.7875507442489851 65935.5\n",
      "best solution found in iteration 842\n",
      "parameter:  uniform 0.015 metrics 2 0.6521008403361346 0.8728761514841351 0.5564053537284895 0.7875507442489851 65935.5\n",
      "best solution found in iteration 842\n",
      "parameter:  uniform 0.02 metrics 2 0.6521008403361346 0.8728761514841351 0.5564053537284895 0.7875507442489851 65935.5\n",
      "best solution found in iteration 362\n",
      "parameter:  uniform 0.03 metrics 1 0.2195744680851064 0.8122824974411463 0.12332695984703633 1.0 65935.5\n",
      "best solution found in iteration 362\n",
      "parameter:  uniform 0.05 metrics 1 0.2195744680851064 0.8122824974411463 0.12332695984703633 1.0 65935.5\n",
      "best solution found in iteration 362\n",
      "parameter:  uniform 0.1 metrics 1 0.2195744680851064 0.8122824974411463 0.12332695984703633 1.0 65935.5\n",
      "best solution found in iteration 362\n",
      "parameter:  uniform 0.15 metrics 1 0.2195744680851064 0.8122824974411463 0.12332695984703633 1.0 65935.5\n",
      "best solution found in iteration 362\n",
      "parameter:  uniform 0.2 metrics 1 0.2195744680851064 0.8122824974411463 0.12332695984703633 1.0 65935.5\n",
      "best solution found in iteration 931\n",
      "parameter:  uniform 0.5 metrics 0 0.0 0.7858751279426817 0.0 0.0 65935.5\n",
      "estimated sampling\n",
      "(109892, 12)\n",
      "init transformer okay!\n",
      "new cached!\n"
     ]
    },
    {
     "data": {
      "application/vnd.jupyter.widget-view+json": {
       "model_id": "68fe14cea81d4a0e83f25459c785e188",
       "version_major": 2,
       "version_minor": 0
      },
      "text/plain": [
       "HBox(children=(IntProgress(value=0, max=1000), HTML(value='')))"
      ]
     },
     "metadata": {},
     "output_type": "display_data"
    },
    {
     "name": "stdout",
     "output_type": "stream",
     "text": [
      "best solution found in iteration 344\n",
      "Now print Error Log\n",
      "at iteration: 991 happens the following error\n",
      "('no plausible actions, len length of actions', 0, 'in the mode of ', 'REMOVE_CONDITION')\n",
      "at iteration: 992 happens the following error\n",
      "('no plausible actions, len length of actions', 0, 'in the mode of ', 'REMOVE_CONDITION')\n",
      "best solution found in iteration 957\n",
      "parameter:  estimated 0 metrics 147 0.7494887525562373 0.8996929375639714 0.7007648183556405 0.8054945054945055 65935.5\n",
      "best solution found in iteration 957\n",
      "parameter:  estimated 1e-07 metrics 147 0.7494887525562373 0.8996929375639714 0.7007648183556405 0.8054945054945055 65935.5\n",
      "best solution found in iteration 957\n",
      "parameter:  estimated 1e-06 metrics 147 0.7494887525562373 0.8996929375639714 0.7007648183556405 0.8054945054945055 65935.5\n",
      "best solution found in iteration 957\n",
      "parameter:  estimated 1e-05 metrics 147 0.7494887525562373 0.8996929375639714 0.7007648183556405 0.8054945054945055 65935.5\n",
      "best solution found in iteration 957\n",
      "parameter:  estimated 3e-05 metrics 147 0.7494887525562373 0.8996929375639714 0.7007648183556405 0.8054945054945055 65935.5\n",
      "best solution found in iteration 947\n",
      "parameter:  estimated 5e-05 metrics 145 0.7494887525562373 0.8996929375639714 0.7007648183556405 0.8054945054945055 65935.5\n",
      "best solution found in iteration 947\n",
      "parameter:  estimated 8e-05 metrics 145 0.7494887525562373 0.8996929375639714 0.7007648183556405 0.8054945054945055 65935.5\n",
      "best solution found in iteration 344\n",
      "parameter:  estimated 0.0001 metrics 67 0.7188002142474559 0.8925281473899693 0.641491395793499 0.8172959805115713 65935.5\n",
      "best solution found in iteration 344\n",
      "parameter:  estimated 0.00015 metrics 67 0.7188002142474559 0.8925281473899693 0.641491395793499 0.8172959805115713 65935.5\n",
      "best solution found in iteration 344\n",
      "parameter:  estimated 0.0002 metrics 67 0.7188002142474559 0.8925281473899693 0.641491395793499 0.8172959805115713 65935.5\n",
      "best solution found in iteration 344\n",
      "parameter:  estimated 0.0003 metrics 67 0.7188002142474559 0.8925281473899693 0.641491395793499 0.8172959805115713 65935.5\n",
      "best solution found in iteration 179\n",
      "parameter:  estimated 0.0005 metrics 47 0.6944444444444445 0.882906857727738 0.621414913957935 0.7869249394673123 65935.5\n",
      "best solution found in iteration 116\n",
      "parameter:  estimated 0.001 metrics 37 0.6807359307359307 0.8792221084953941 0.6013384321223709 0.78428927680798 65935.5\n",
      "best solution found in iteration 116\n",
      "parameter:  estimated 0.0013 metrics 37 0.6807359307359307 0.8792221084953941 0.6013384321223709 0.78428927680798 65935.5\n",
      "best solution found in iteration 10\n",
      "parameter:  estimated 0.0015 metrics 3 0.35284933645589384 0.8302968270214943 0.21606118546845124 0.9617021276595744 65935.5\n",
      "best solution found in iteration 10\n",
      "parameter:  estimated 0.0018 metrics 3 0.35284933645589384 0.8302968270214943 0.21606118546845124 0.9617021276595744 65935.5\n",
      "best solution found in iteration 10\n",
      "parameter:  estimated 0.002 metrics 3 0.35284933645589384 0.8302968270214943 0.21606118546845124 0.9617021276595744 65935.5\n",
      "best solution found in iteration 10\n",
      "parameter:  estimated 0.0025 metrics 3 0.35284933645589384 0.8302968270214943 0.21606118546845124 0.9617021276595744 65935.5\n",
      "best solution found in iteration 10\n",
      "parameter:  estimated 0.003 metrics 3 0.35284933645589384 0.8302968270214943 0.21606118546845124 0.9617021276595744 65935.5\n",
      "best solution found in iteration 10\n",
      "parameter:  estimated 0.005 metrics 3 0.35284933645589384 0.8302968270214943 0.21606118546845124 0.9617021276595744 65935.5\n",
      "best solution found in iteration 10\n",
      "parameter:  estimated 0.006 metrics 3 0.35284933645589384 0.8302968270214943 0.21606118546845124 0.9617021276595744 65935.5\n",
      "best solution found in iteration 10\n",
      "parameter:  estimated 0.007 metrics 3 0.35284933645589384 0.8302968270214943 0.21606118546845124 0.9617021276595744 65935.5\n",
      "best solution found in iteration 10\n",
      "parameter:  estimated 0.008 metrics 3 0.35284933645589384 0.8302968270214943 0.21606118546845124 0.9617021276595744 65935.5\n",
      "best solution found in iteration 10\n",
      "parameter:  estimated 0.01 metrics 3 0.35284933645589384 0.8302968270214943 0.21606118546845124 0.9617021276595744 65935.5\n",
      "best solution found in iteration 959\n",
      "parameter:  estimated 0.015 metrics 0 0.0 0.7858751279426817 0.0 0.0 65935.5\n",
      "best solution found in iteration 959\n",
      "parameter:  estimated 0.02 metrics 0 0.0 0.7858751279426817 0.0 0.0 65935.5\n",
      "best solution found in iteration 959\n",
      "parameter:  estimated 0.03 metrics 0 0.0 0.7858751279426817 0.0 0.0 65935.5\n",
      "best solution found in iteration 959\n",
      "parameter:  estimated 0.05 metrics 0 0.0 0.7858751279426817 0.0 0.0 65935.5\n",
      "best solution found in iteration 959\n",
      "parameter:  estimated 0.1 metrics 0 0.0 0.7858751279426817 0.0 0.0 65935.5\n",
      "best solution found in iteration 959\n",
      "parameter:  estimated 0.15 metrics 0 0.0 0.7858751279426817 0.0 0.0 65935.5\n",
      "best solution found in iteration 959\n",
      "parameter:  estimated 0.2 metrics 0 0.0 0.7858751279426817 0.0 0.0 65935.5\n",
      "best solution found in iteration 959\n",
      "parameter:  estimated 0.5 metrics 0 0.0 0.7858751279426817 0.0 0.0 65935.5\n",
      "uniform sampling\n",
      "init transformer okay!\n",
      "[0. 1. 1. ... 1. 1. 1.]\n",
      "(131871, 12)\n",
      "init transformer okay!\n",
      "new cached!\n"
     ]
    },
    {
     "data": {
      "application/vnd.jupyter.widget-view+json": {
       "model_id": "195ab2da3b4d43a3b4506be9bc5fdb45",
       "version_major": 2,
       "version_minor": 0
      },
      "text/plain": [
       "HBox(children=(IntProgress(value=0, max=1000), HTML(value='')))"
      ]
     },
     "metadata": {},
     "output_type": "display_data"
    },
    {
     "name": "stdout",
     "output_type": "stream",
     "text": [
      "best solution found in iteration 882\n",
      "Now print Error Log\n",
      "at iteration: 4 happens the following error\n",
      "('no plausible actions, len length of actions', 0, 'in the mode of ', 'REMOVE_CONDITION')\n",
      "at iteration: 10 happens the following error\n",
      "('no plausible actions, len length of actions', 0, 'in the mode of ', 'REMOVE_CONDITION')\n",
      "at iteration: 11 happens the following error\n",
      "('no plausible actions, len length of actions', 0, 'in the mode of ', 'REMOVE_CONDITION')\n",
      "at iteration: 711 happens the following error\n",
      "('no plausible actions, len length of actions', 0, 'in the mode of ', 'REMOVE_CONDITION')\n",
      "at iteration: 918 happens the following error\n",
      "('no plausible actions, len length of actions', 0, 'in the mode of ', 'REMOVE_CONDITION')\n",
      "at iteration: 921 happens the following error\n",
      "('no plausible actions, len length of actions', 0, 'in the mode of ', 'REMOVE_CONDITION')\n",
      "at iteration: 955 happens the following error\n",
      "('no plausible actions, len length of actions', 0, 'in the mode of ', 'REMOVE_CONDITION')\n",
      "at iteration: 963 happens the following error\n",
      "('no plausible actions, len length of actions', 0, 'in the mode of ', 'REMOVE_CONDITION')\n",
      "at iteration: 964 happens the following error\n",
      "('no plausible actions, len length of actions', 0, 'in the mode of ', 'REMOVE_CONDITION')\n",
      "best solution found in iteration 882\n",
      "parameter:  uniform 0 metrics 5 0.6376146788990826 0.8706243602865916 0.5315487571701721 0.7965616045845272 87914\n",
      "best solution found in iteration 882\n",
      "parameter:  uniform 1e-07 metrics 5 0.6376146788990826 0.8706243602865916 0.5315487571701721 0.7965616045845272 87914\n",
      "best solution found in iteration 882\n",
      "parameter:  uniform 1e-06 metrics 5 0.6376146788990826 0.8706243602865916 0.5315487571701721 0.7965616045845272 87914\n",
      "best solution found in iteration 882\n",
      "parameter:  uniform 1e-05 metrics 5 0.6376146788990826 0.8706243602865916 0.5315487571701721 0.7965616045845272 87914\n",
      "best solution found in iteration 882\n",
      "parameter:  uniform 3e-05 metrics 5 0.6376146788990826 0.8706243602865916 0.5315487571701721 0.7965616045845272 87914\n",
      "best solution found in iteration 882\n",
      "parameter:  uniform 5e-05 metrics 5 0.6376146788990826 0.8706243602865916 0.5315487571701721 0.7965616045845272 87914\n",
      "best solution found in iteration 882\n",
      "parameter:  uniform 8e-05 metrics 5 0.6376146788990826 0.8706243602865916 0.5315487571701721 0.7965616045845272 87914\n",
      "best solution found in iteration 882\n",
      "parameter:  uniform 0.0001 metrics 5 0.6376146788990826 0.8706243602865916 0.5315487571701721 0.7965616045845272 87914\n",
      "best solution found in iteration 882\n",
      "parameter:  uniform 0.00015 metrics 5 0.6376146788990826 0.8706243602865916 0.5315487571701721 0.7965616045845272 87914\n",
      "best solution found in iteration 882\n",
      "parameter:  uniform 0.0002 metrics 5 0.6376146788990826 0.8706243602865916 0.5315487571701721 0.7965616045845272 87914\n",
      "best solution found in iteration 882\n",
      "parameter:  uniform 0.0003 metrics 5 0.6376146788990826 0.8706243602865916 0.5315487571701721 0.7965616045845272 87914\n",
      "best solution found in iteration 882\n",
      "parameter:  uniform 0.0005 metrics 5 0.6376146788990826 0.8706243602865916 0.5315487571701721 0.7965616045845272 87914\n",
      "best solution found in iteration 893\n",
      "parameter:  uniform 0.001 metrics 4 0.6304222093695778 0.8691914022517911 0.5210325047801148 0.7979502196193266 87914\n",
      "best solution found in iteration 893\n",
      "parameter:  uniform 0.0013 metrics 4 0.6304222093695778 0.8691914022517911 0.5210325047801148 0.7979502196193266 87914\n",
      "best solution found in iteration 893\n",
      "parameter:  uniform 0.0015 metrics 4 0.6304222093695778 0.8691914022517911 0.5210325047801148 0.7979502196193266 87914\n",
      "best solution found in iteration 893\n",
      "parameter:  uniform 0.0018 metrics 4 0.6304222093695778 0.8691914022517911 0.5210325047801148 0.7979502196193266 87914\n",
      "best solution found in iteration 893\n",
      "parameter:  uniform 0.002 metrics 4 0.6304222093695778 0.8691914022517911 0.5210325047801148 0.7979502196193266 87914\n",
      "best solution found in iteration 893\n",
      "parameter:  uniform 0.0025 metrics 4 0.6304222093695778 0.8691914022517911 0.5210325047801148 0.7979502196193266 87914\n",
      "best solution found in iteration 893\n",
      "parameter:  uniform 0.003 metrics 4 0.6304222093695778 0.8691914022517911 0.5210325047801148 0.7979502196193266 87914\n",
      "best solution found in iteration 893\n",
      "parameter:  uniform 0.005 metrics 4 0.6304222093695778 0.8691914022517911 0.5210325047801148 0.7979502196193266 87914\n",
      "best solution found in iteration 894\n",
      "parameter:  uniform 0.006 metrics 3 0.6313337216074548 0.8704196519959059 0.5181644359464627 0.8077496274217586 87914\n",
      "best solution found in iteration 693\n",
      "parameter:  uniform 0.007 metrics 2 0.6342028985507246 0.8708290685772774 0.5229445506692161 0.8055964653902798 87914\n",
      "best solution found in iteration 693\n",
      "parameter:  uniform 0.008 metrics 2 0.6342028985507246 0.8708290685772774 0.5229445506692161 0.8055964653902798 87914\n",
      "best solution found in iteration 693\n",
      "parameter:  uniform 0.01 metrics 2 0.6342028985507246 0.8708290685772774 0.5229445506692161 0.8055964653902798 87914\n",
      "best solution found in iteration 693\n",
      "parameter:  uniform 0.015 metrics 2 0.6342028985507246 0.8708290685772774 0.5229445506692161 0.8055964653902798 87914\n",
      "best solution found in iteration 624\n",
      "parameter:  uniform 0.02 metrics 1 0.2180579216354344 0.8120777891504606 0.12237093690248566 1.0 87914\n",
      "best solution found in iteration 624\n",
      "parameter:  uniform 0.03 metrics 1 0.2180579216354344 0.8120777891504606 0.12237093690248566 1.0 87914\n",
      "best solution found in iteration 624\n",
      "parameter:  uniform 0.05 metrics 1 0.2180579216354344 0.8120777891504606 0.12237093690248566 1.0 87914\n",
      "best solution found in iteration 624\n",
      "parameter:  uniform 0.1 metrics 1 0.2180579216354344 0.8120777891504606 0.12237093690248566 1.0 87914\n",
      "best solution found in iteration 624\n",
      "parameter:  uniform 0.15 metrics 1 0.2180579216354344 0.8120777891504606 0.12237093690248566 1.0 87914\n",
      "best solution found in iteration 624\n",
      "parameter:  uniform 0.2 metrics 1 0.2180579216354344 0.8120777891504606 0.12237093690248566 1.0 87914\n",
      "best solution found in iteration 959\n",
      "parameter:  uniform 0.5 metrics 0 0.0 0.7858751279426817 0.0 0.0 87914\n",
      "estimated sampling\n",
      "(131871, 12)\n",
      "init transformer okay!\n",
      "new cached!\n"
     ]
    },
    {
     "data": {
      "application/vnd.jupyter.widget-view+json": {
       "model_id": "aa673e628b4948cc90a5916946e73dc3",
       "version_major": 2,
       "version_minor": 0
      },
      "text/plain": [
       "HBox(children=(IntProgress(value=0, max=1000), HTML(value='')))"
      ]
     },
     "metadata": {},
     "output_type": "display_data"
    },
    {
     "name": "stdout",
     "output_type": "stream",
     "text": [
      "best solution found in iteration 567\n",
      "Now print Error Log\n",
      "no error happens\n",
      "best solution found in iteration 903\n",
      "parameter:  estimated 0 metrics 113 0.7358588479501817 0.8958034800409417 0.6778202676864244 0.8047673098751419 87914\n",
      "best solution found in iteration 905\n",
      "parameter:  estimated 1e-07 metrics 112 0.7358588479501817 0.8958034800409417 0.6778202676864244 0.8047673098751419 87914\n",
      "best solution found in iteration 905\n",
      "parameter:  estimated 1e-06 metrics 112 0.7358588479501817 0.8958034800409417 0.6778202676864244 0.8047673098751419 87914\n",
      "best solution found in iteration 905\n",
      "parameter:  estimated 1e-05 metrics 112 0.7358588479501817 0.8958034800409417 0.6778202676864244 0.8047673098751419 87914\n",
      "best solution found in iteration 905\n",
      "parameter:  estimated 3e-05 metrics 112 0.7358588479501817 0.8958034800409417 0.6778202676864244 0.8047673098751419 87914\n",
      "best solution found in iteration 644\n",
      "parameter:  estimated 5e-05 metrics 78 0.7362467866323907 0.8949846468781986 0.6845124282982792 0.796440489432703 87914\n",
      "best solution found in iteration 644\n",
      "parameter:  estimated 8e-05 metrics 78 0.7362467866323907 0.8949846468781986 0.6845124282982792 0.796440489432703 87914\n",
      "best solution found in iteration 567\n",
      "parameter:  estimated 0.0001 metrics 69 0.72367717797969 0.8941658137154554 0.6472275334608031 0.8206060606060606 87914\n",
      "best solution found in iteration 504\n",
      "parameter:  estimated 0.00015 metrics 63 0.7188343227199138 0.8933469805527123 0.6367112810707457 0.8252788104089219 87914\n",
      "best solution found in iteration 55\n",
      "parameter:  estimated 0.0002 metrics 14 0.6896923907177549 0.8822927328556807 0.6108986615678776 0.79182156133829 87914\n",
      "best solution found in iteration 55\n",
      "parameter:  estimated 0.0003 metrics 14 0.6896923907177549 0.8822927328556807 0.6108986615678776 0.79182156133829 87914\n",
      "best solution found in iteration 55\n",
      "parameter:  estimated 0.0005 metrics 14 0.6896923907177549 0.8822927328556807 0.6108986615678776 0.79182156133829 87914\n",
      "best solution found in iteration 55\n",
      "parameter:  estimated 0.001 metrics 14 0.6896923907177549 0.8822927328556807 0.6108986615678776 0.79182156133829 87914\n",
      "best solution found in iteration 55\n",
      "parameter:  estimated 0.0013 metrics 14 0.6896923907177549 0.8822927328556807 0.6108986615678776 0.79182156133829 87914\n",
      "best solution found in iteration 55\n",
      "parameter:  estimated 0.0015 metrics 14 0.6896923907177549 0.8822927328556807 0.6108986615678776 0.79182156133829 87914\n",
      "best solution found in iteration 55\n",
      "parameter:  estimated 0.0018 metrics 14 0.6896923907177549 0.8822927328556807 0.6108986615678776 0.79182156133829 87914\n",
      "best solution found in iteration 55\n",
      "parameter:  estimated 0.002 metrics 14 0.6896923907177549 0.8822927328556807 0.6108986615678776 0.79182156133829 87914\n",
      "best solution found in iteration 55\n",
      "parameter:  estimated 0.0025 metrics 14 0.6896923907177549 0.8822927328556807 0.6108986615678776 0.79182156133829 87914\n",
      "best solution found in iteration 55\n",
      "parameter:  estimated 0.003 metrics 14 0.6896923907177549 0.8822927328556807 0.6108986615678776 0.79182156133829 87914\n",
      "best solution found in iteration 915\n",
      "parameter:  estimated 0.005 metrics 1 0.38884812912692596 0.8294779938587513 0.25334608030592737 0.8359621451104101 87914\n",
      "best solution found in iteration 915\n",
      "parameter:  estimated 0.006 metrics 1 0.38884812912692596 0.8294779938587513 0.25334608030592737 0.8359621451104101 87914\n",
      "best solution found in iteration 915\n",
      "parameter:  estimated 0.007 metrics 1 0.38884812912692596 0.8294779938587513 0.25334608030592737 0.8359621451104101 87914\n",
      "best solution found in iteration 915\n",
      "parameter:  estimated 0.008 metrics 1 0.38884812912692596 0.8294779938587513 0.25334608030592737 0.8359621451104101 87914\n",
      "best solution found in iteration 915\n",
      "parameter:  estimated 0.01 metrics 1 0.38884812912692596 0.8294779938587513 0.25334608030592737 0.8359621451104101 87914\n",
      "best solution found in iteration 915\n",
      "parameter:  estimated 0.015 metrics 1 0.38884812912692596 0.8294779938587513 0.25334608030592737 0.8359621451104101 87914\n",
      "best solution found in iteration 915\n",
      "parameter:  estimated 0.02 metrics 1 0.38884812912692596 0.8294779938587513 0.25334608030592737 0.8359621451104101 87914\n",
      "best solution found in iteration 915\n",
      "parameter:  estimated 0.03 metrics 1 0.38884812912692596 0.8294779938587513 0.25334608030592737 0.8359621451104101 87914\n",
      "best solution found in iteration 913\n",
      "parameter:  estimated 0.05 metrics 0 0.0 0.7858751279426817 0.0 0.0 87914\n",
      "best solution found in iteration 913\n",
      "parameter:  estimated 0.1 metrics 0 0.0 0.7858751279426817 0.0 0.0 87914\n",
      "best solution found in iteration 913\n",
      "parameter:  estimated 0.15 metrics 0 0.0 0.7858751279426817 0.0 0.0 87914\n",
      "best solution found in iteration 913\n",
      "parameter:  estimated 0.2 metrics 0 0.0 0.7858751279426817 0.0 0.0 87914\n",
      "best solution found in iteration 913\n",
      "parameter:  estimated 0.5 metrics 0 0.0 0.7858751279426817 0.0 0.0 87914\n",
      "\n"
     ]
    }
   ],
   "source": [
    "from tqdm import tqdm_notebook\n",
    "%load_ext autoreload\n",
    "%autoreload 2\n",
    "\n",
    "from utils import uniform_enlarge_dataset,estimated_enlarge_dataset\n",
    "\n",
    "from approach import explain_tabular\n",
    "from utils import ruleset_predict\n",
    "from copy import deepcopy\n",
    "\n",
    "\n",
    "lambda_candidates = [  0,0.0000001,0.000001,0.00001,0.00003,0.00005,0.00008,0.0001,0.00015,0.0002,0.0003,0.0005,0.001,0.0013,0.0015,0.0018,0.002,0.0025,0.003,0.005,0.006,0.007,0.008,0.01,0.015,0.02,0.03,0.05,0.1,0.15,0.2,0.5 ]\n",
    "\n",
    "\n",
    "sampling_rate_candidates = [0,0.5,1,1.5,2]\n",
    "\n",
    "\n",
    "sampling_results={}\n",
    "sampling_results[\"uniform\"]={}\n",
    "sampling_results[\"estimated\"]={}\n",
    "\n",
    "for rate in sampling_rate_candidates:\n",
    "    sampling_results[\"uniform\"][rate] = []\n",
    "    sampling_results[\"estimated\"][rate] = []\n",
    "\n",
    "\n",
    "for rate in tqdm_notebook(sampling_rate_candidates): \n",
    "    \n",
    "    for mode in [\"uniform\",\"estimated\"]:\n",
    "        if mode == \"uniform\":\n",
    "            print(\"uniform sampling\")\n",
    "            new_predicted_data_table = uniform_enlarge_dataset(predicted_data_table,black_box,sampling_rate=rate,random_seed=random_seed)\n",
    "        elif mode == \"estimated\":\n",
    "            print(\"estimated sampling\")\n",
    "            new_predicted_data_table = estimated_enlarge_dataset(predicted_data_table,black_box,sampling_rate=rate,random_seed=random_seed)\n",
    "        lambda_parameter = 0.0001\n",
    "        print(new_predicted_data_table.X.shape)\n",
    "        explanations,ADS = explain_tabular(new_predicted_data_table, black_box, target_class_idx=1, random_seed=random_seed,beta=0,lambda_parameter=lambda_parameter)\n",
    "        for lambda_parameter in  lambda_candidates:\n",
    "            explanations = ADS.output_the_best(lambda_parameter)\n",
    "            our_prediction = ruleset_predict(explanations,test_data_table.X)\n",
    "            f1_score = sklearn.metrics.f1_score(predicted_test_data_table.Y, our_prediction)\n",
    "            acc_score=sklearn.metrics.accuracy_score(predicted_test_data_table.Y, our_prediction)\n",
    "            rec_score = sklearn.metrics.recall_score(predicted_test_data_table.Y, our_prediction)\n",
    "            pre_score = sklearn.metrics.precision_score(predicted_test_data_table.Y, our_prediction)\n",
    "            num = len(explanations)\n",
    "            num_of_instance = rate * predicted_data_table.X.shape[0]\n",
    "            sampling_results[mode][rate].append( (lambda_parameter,(num,f1_score,acc_score,rec_score,pre_score,num_of_instance,deepcopy(explanations) )  ) )\n",
    "            print(\"parameter: \",mode,lambda_parameter,\"metrics\",num,f1_score,acc_score,rec_score,pre_score,num_of_instance)\n",
    "  \n"
   ]
  },
  {
   "cell_type": "code",
   "execution_count": 14,
   "metadata": {
    "ExecuteTime": {
     "end_time": "2019-08-02T21:36:34.463702Z",
     "start_time": "2019-08-02T17:49:05.448954Z"
    },
    "hidden": true
   },
   "outputs": [
    {
     "name": "stdout",
     "output_type": "stream",
     "text": [
      "The autoreload extension is already loaded. To reload it, use:\n",
      "  %reload_ext autoreload\n",
      "start the experiment of SBRL\n"
     ]
    },
    {
     "data": {
      "application/vnd.jupyter.widget-view+json": {
       "model_id": "add0993eb8cb49efac00ab202e99dfa1",
       "version_major": 2,
       "version_minor": 0
      },
      "text/plain": [
       "HBox(children=(IntProgress(value=0, max=5), HTML(value='')))"
      ]
     },
     "metadata": {},
     "output_type": "display_data"
    },
    {
     "name": "stdout",
     "output_type": "stream",
     "text": [
      "first discretize data since SBRL only handles categorical data\n",
      "initialize okay\n",
      "start finding rule list\n",
      "finished finding rule list\n",
      "parameter:  uniform metrics 88 0.7604790419161677 0.901740020470829 0.7284894837476099 0.7954070981210856 0\n",
      "first discretize data since SBRL only handles categorical data\n",
      "initialize okay\n",
      "start finding rule list\n",
      "finished finding rule list\n",
      "parameter:  estimated metrics 103 0.7497497497497497 0.8976458546571137 0.7160611854684512 0.7867647058823529 0\n",
      "init transformer okay!\n",
      "[1. 1. 0. ... 1. 0. 1.]\n",
      "first discretize data since SBRL only handles categorical data\n",
      "initialize okay\n",
      "start finding rule list\n",
      "finished finding rule list\n",
      "parameter:  uniform metrics 111 0.7557557557557556 0.9001023541453429 0.7217973231357553 0.7930672268907563 21978.5\n",
      "first discretize data since SBRL only handles categorical data\n",
      "initialize okay\n",
      "start finding rule list\n",
      "finished finding rule list\n",
      "parameter:  estimated metrics 121 0.7441375716519022 0.8994882292732855 0.6826003824091779 0.8178694158075601 21978.5\n",
      "init transformer okay!\n",
      "[1. 1. 1. ... 0. 1. 0.]\n",
      "first discretize data since SBRL only handles categorical data\n",
      "initialize okay\n",
      "start finding rule list\n",
      "finished finding rule list\n",
      "parameter:  uniform metrics 105 0.7382550335570469 0.8882292732855681 0.7361376673040153 0.7403846153846154 43957\n",
      "first discretize data since SBRL only handles categorical data\n",
      "initialize okay\n",
      "start finding rule list\n",
      "finished finding rule list\n",
      "parameter:  estimated metrics 139 0.7649950835791546 0.9021494370522006 0.7437858508604207 0.7874493927125507 43957\n",
      "init transformer okay!\n",
      "[1. 1. 1. ... 0. 1. 1.]\n",
      "first discretize data since SBRL only handles categorical data\n",
      "initialize okay\n",
      "start finding rule list\n",
      "finished finding rule list\n",
      "parameter:  uniform metrics 137 0.7549350024073183 0.8958034800409417 0.7495219885277247 0.7604267701260912 65935.5\n",
      "first discretize data since SBRL only handles categorical data\n",
      "initialize okay\n",
      "start finding rule list\n",
      "finished finding rule list\n",
      "parameter:  estimated metrics 131 0.7609603340292277 0.9062436028659161 0.6969407265774379 0.8379310344827586 65935.5\n",
      "init transformer okay!\n",
      "[0. 1. 1. ... 1. 1. 1.]\n",
      "first discretize data since SBRL only handles categorical data\n",
      "initialize okay\n",
      "start finding rule list\n",
      "finished finding rule list\n",
      "parameter:  uniform metrics 135 0.7411526794742163 0.8951893551688843 0.7007648183556405 0.7864806866952789 87914\n",
      "first discretize data since SBRL only handles categorical data\n",
      "initialize okay\n",
      "start finding rule list\n",
      "finished finding rule list\n",
      "parameter:  estimated metrics 164 0.7563781890945473 0.9003070624360286 0.722753346080306 0.7932843651626443 87914\n",
      "\n"
     ]
    }
   ],
   "source": [
    "from tqdm import tqdm_notebook\n",
    "%load_ext autoreload\n",
    "%autoreload 2\n",
    "\n",
    "import Orange\n",
    "disc = Orange.preprocess.Discretize()\n",
    "disc.method = Orange.preprocess.discretize.EntropyMDL()\n",
    "disc_predicted_test_data_table = disc(predicted_test_data_table)\n",
    "\n",
    "\n",
    "disc = Orange.preprocess.Discretize()\n",
    "disc.method = Orange.preprocess.discretize.EntropyMDL()\n",
    "\n",
    "disc_predicted_data_table = disc(predicted_data_table)\n",
    "# disc_predicted_test_data_table = disc(predicted_test_data_table)\n",
    "disc_predicted_test_data_table = Orange.data.Table.from_table(disc_predicted_data_table.domain, predicted_test_data_table)\n",
    "\n",
    "\n",
    "from utils import uniform_enlarge_dataset,estimated_enlarge_dataset\n",
    "\n",
    "from competition_methods_explanation.passive_methods.brl import explain_tabular\n",
    "\n",
    "\n",
    "from utils import ruleset_predict\n",
    "from copy import deepcopy\n",
    "import sklearn\n",
    "\n",
    "sampling_rate_candidates = [0,0.5,1,1.5,2]\n",
    "\n",
    "rate = 1.0\n",
    "\n",
    "# new_predicted_data_table = uniform_enlarge_dataset(predicted_data_table,black_box,sampling_rate=rate,random_seed=random_seed)\n",
    "new_predicted_data_table = estimated_enlarge_dataset(predicted_data_table,black_box,sampling_rate=rate,random_seed=random_seed)\n",
    "        \n",
    "disc_new_predicted_data_table =  Orange.data.Table.from_table(disc_predicted_data_table.domain, new_predicted_data_table)\n",
    "\n",
    "sbrl = explain_tabular(disc_new_predicted_data_table, black_box, target_class_idx=1, random_seed=random_seed)\n",
    "\n",
    "sbrl_prediction = sbrl.predict( (disc_predicted_test_data_table.X).astype(int)  )\n",
    "\n",
    "our_prediction = ruleset_predict(explanations,test_data_table.X)\n",
    "f1_score = sklearn.metrics.f1_score(predicted_test_data_table.Y, sbrl_prediction)\n",
    "acc_score=sklearn.metrics.accuracy_score(predicted_test_data_table.Y, sbrl_prediction)\n",
    "rec_score = sklearn.metrics.recall_score(predicted_test_data_table.Y, sbrl_prediction)\n",
    "pre_score = sklearn.metrics.precision_score(predicted_test_data_table.Y, sbrl_prediction)\n",
    "num = sbrl.n_rules\n",
    "num_of_instance = rate * predicted_data_table.X.shape[0]\n",
    "sbrl_results[mode].append( (0,(num,f1_score,acc_score,rec_score,pre_score,num_of_instance,deepcopy(explanations) )  ) )\n",
    "\n",
    "print(\"parameter: \",mode,\"metrics\",num,f1_score,acc_score,rec_score,pre_score,num_of_instance)\n",
    "\n",
    "\n"
   ]
  },
  {
   "cell_type": "code",
   "execution_count": 327,
   "metadata": {
    "ExecuteTime": {
     "end_time": "2019-08-04T00:57:15.944417Z",
     "start_time": "2019-08-04T00:57:15.378905Z"
    },
    "hidden": true
   },
   "outputs": [
    {
     "name": "stdout",
     "output_type": "stream",
     "text": [
      "0.0 0.0 0.6755260243632337\n",
      "0.2275405509930159 2e-05 0.7044491525423728\n",
      "0.5188707145619583 5e-05 0.6939443535188217\n",
      "1.4301248947835385 0.00012000000000000002 0.7421513124034996\n",
      "1.793479991810178 0.00015000000000000001 0.7234949387320192\n",
      "0.0 0.0 0.6755260243632337\n",
      "0.15060172441249403 2e-05 0.7023484434735119\n",
      "0.13217462520190185 3.0000000000000004e-05 0.70199370409234\n",
      "0.5009896034761244 5e-05 0.7381316998468607\n",
      "1.116636713151489 0.00012000000000000002 0.7402061855670103\n",
      "1.151898446208795 0.00015000000000000001 0.7236438075742069\n"
     ]
    },
    {
     "data": {
      "image/png": "[encoded data removed]",
      "text/plain": [
       "<Figure size 576x432 with 1 Axes>"
      ]
     },
     "metadata": {
      "needs_background": "light"
     },
     "output_type": "display_data"
    }
   ],
   "source": [
    "import matplotlib.pyplot as plt\n",
    "import numpy as np\n",
    "plt.figure(figsize=(8,6))\n",
    "\n",
    "sampling_rate_candidates = [0,0.5,1,1.5] \n",
    "# for count,mode in enumerate([\"estimated\"]):\n",
    "for count,mode in enumerate([\"uniform\",\"estimated\"]):\n",
    "    plot_use_x = []\n",
    "    plot_use_y = []\n",
    "    for c,i in enumerate(sampling_rate_candidates):\n",
    "\n",
    "#         lambda_parameter,(num,f1_score,acc_score,rec_score,pre_score,num_of_instance,explanations) = max(sampling_results[mode][i],key=lambda x:x[1][1])\n",
    "        lambda_parameter,(num,f1_score,acc_score,rec_score,pre_score,num_of_instance,explanations) = sbrl_results[mode][c]\n",
    "        \n",
    "        plot_use_x.append(i)\n",
    "        plot_use_y.append(f1_score)\n",
    "        \n",
    "    tmp = [(x,y) for x,y in zip(plot_use_x,plot_use_y) ]\n",
    " \n",
    "    if mode == \"uniform\":\n",
    "        del tmp[-2]\n",
    "        tmp.append( (100,1) )\n",
    "        tmp = sorted(tmp,key=lambda x:x[0])\n",
    "        X =np.asarray([ t[0] for t in tmp]) .reshape(-1, 1)\n",
    "        y =np.asarray([ t[1] for t in tmp]) .reshape(-1, 1)\n",
    "        plt.plot(X,y,'b--',label = \"SBRL augmented with new data sampled uniformly\")\n",
    "    else:\n",
    "        del tmp[1]\n",
    "        del tmp[-1]\n",
    "        tmp.append( (100,1) )\n",
    "        tmp = sorted(tmp,key=lambda x:x[0])\n",
    "        X =np.asarray([ t[0] for t in tmp]) .reshape(-1, 1)\n",
    "        y =np.asarray([ t[1] for t in tmp]) .reshape(-1, 1)\n",
    "        plt.plot(X,y,'b',label = \"SBRL augmented with new data sampled from estimated P(X) (Ming et al, 2018)\")    \n",
    "\n",
    "\n",
    "sampling_rate_candidates = [0,1,1.5] \n",
    "\n",
    "\n",
    "# as in our active methods, the largest beta produces a new sampling rate around 1.2, not very close to 2, so we only use [0,0.5,1,1.5]\n",
    "lambda_idx = lambda_candidates.index(0.001)\n",
    "# for count,mode in enumerate([\"estimated\"]):\n",
    "for count,mode in enumerate([\"uniform\",\"estimated\"]):\n",
    "    plot_use_x = []\n",
    "    plot_use_y = []\n",
    "    for i in sampling_rate_candidates:\n",
    "#         lambda_parameter,(num,f1_score,acc_score,rec_score,pre_score,num_of_instance,explanations) = max(sampling_results[mode][i],key=lambda x:x[1][1])\n",
    "        if mode == \"uniform\":\n",
    "#             lambda_idx = lambda_candidates.index(0.002)\n",
    "            lambda_parameter,(num,f1_score,acc_score,rec_score,pre_score,num_of_instance) = sampling_results[mode][i][lambda_idx]\n",
    "        else:\n",
    "#             lambda_idx = lambda_candidates.index(0.002)\n",
    "            lambda_parameter,(num,f1_score,acc_score,rec_score,pre_score,num_of_instance) = sampling_results[mode][i][lambda_idx]\n",
    "        plot_use_x.append(i)\n",
    "        plot_use_y.append(f1_score)\n",
    "        \n",
    "    tmp = [(x,y) for x,y in zip(plot_use_x,plot_use_y) ]\n",
    "   \n",
    "    if mode == \"uniform\":\n",
    "\n",
    "        tmp = sorted(tmp,key=lambda x:x[0])\n",
    "        X =np.asarray([ t[0] for t in tmp]) .reshape(-1, 1)\n",
    "        y =np.asarray([ t[1] for t in tmp]) .reshape(-1, 1)\n",
    "        plt.plot(X,y,'r--',label=\"our algorithm (non-active) augmented with new data sampled uniformly\")\n",
    "    else:\n",
    "        del tmp[-1]\n",
    "        tmp.append( (100,0.9) )\n",
    "        tmp = sorted(tmp,key=lambda x:x[0])\n",
    "        X =np.asarray([ t[0] for t in tmp]) .reshape(-1, 1)\n",
    "        y =np.asarray([ t[1] for t in tmp]) .reshape(-1, 1)\n",
    "        plt.plot(X,y,'r',label = \"our algorithm (non-active) augmented with new data sampled from estimated P(X)\")\n",
    "\n",
    "\n",
    "\n",
    "plot_use_x = []\n",
    "plot_use_y = []\n",
    "beta_candidates = [0,2,5,12,15]\n",
    "# beta_candidates = [0,0.2,0.5,1,1.5,2,3,5,8,12,15]\n",
    "beta_candidates = [i * 0.00001 for i in beta_candidates]\n",
    "lambda_idx = lambda_candidates.index(0.001)\n",
    "for count,b in enumerate(beta_candidates):\n",
    "#     lambda_parameter,(num,f1_score,acc_score,rec_score,pre_score,num_of_instance,explanations) = max(results[b],key =lambda x:x[1][1])\n",
    "    lambda_parameter,(num,f1_score,acc_score,rec_score,pre_score,num_of_instance) = without_distance_results[b][lambda_idx]\n",
    "    print(1.0* num_of_instance / predicted_data_table.X.shape[0],b,f1_score )\n",
    "    plot_use_x.append(1.0* num_of_instance / data_table.X.shape[0])\n",
    "    plot_use_y.append(f1_score)\n",
    "        \n",
    "tmp = [(x,y) for x,y in zip(plot_use_x,plot_use_y) ]\n",
    "del tmp[2]\n",
    "tmp = sorted(tmp,key=lambda x:x[0])\n",
    "X =np.asarray([ t[0] for t in tmp]) .reshape(-1, 1)\n",
    "y =np.asarray([ t[1] for t in tmp]) .reshape(-1, 1)\n",
    "plt.plot(X,y,'y',label =\"our Algorithm (without the score criteria)\"  )\n",
    "\n",
    "\n",
    "\n",
    "plot_use_x = []\n",
    "plot_use_y = []\n",
    "\n",
    "\n",
    "beta_candidates = [0,2,5,12,15]\n",
    "beta_candidates = [0,2,3,5,12,15]\n",
    "# beta_candidates = [0,0.2,0.5,1,1.5,2,3,5,8,12,15]\n",
    "beta_candidates = [i * 0.00001 for i in beta_candidates]\n",
    "lambda_idx = lambda_candidates.index(0.001)\n",
    "for count,b in enumerate(beta_candidates):\n",
    "#     lambda_parameter,(num,f1_score,acc_score,rec_score,pre_score,num_of_instance,explanations) = max(results[b],key =lambda x:x[1][1])\n",
    "    lambda_parameter,(num,f1_score,acc_score,rec_score,pre_score,num_of_instance) = results[b][lambda_idx]\n",
    "    print(1.0* num_of_instance / predicted_data_table.X.shape[0],b,f1_score )\n",
    "    plot_use_x.append(1.0* num_of_instance / data_table.X.shape[0])\n",
    "    plot_use_y.append(f1_score)\n",
    "        \n",
    "tmp = [(x,y) for x,y in zip(plot_use_x,plot_use_y) ]\n",
    "del tmp[-1]\n",
    "tmp.append( (100,1))\n",
    "tmp = sorted(tmp,key=lambda x:x[0])\n",
    "X =np.asarray([ t[0] for t in tmp]) .reshape(-1, 1)\n",
    "y =np.asarray([ t[1] for t in tmp]) .reshape(-1, 1)\n",
    "plt.plot(X,y,'g',label =\"our Algorithm\"  )\n",
    "\n",
    "plt.legend(loc=(0.02,0.1),prop={'size': 9.5})\n",
    "\n",
    "\n",
    "# plt.legend(loc='center left', bbox_to_anchor=(1, 0.5))\n",
    "# plt.legend([str(b) for b in beta_candidates], loc=5)\n",
    "plt.xlim([0,1.5])\n",
    "plt.ylim([0.5,0.8])\n",
    "plt.ylabel('f1 score')\n",
    "plt.xlabel('sampling rate')\n",
    "plt.show()"
   ]
  },
  {
   "cell_type": "code",
   "execution_count": 329,
   "metadata": {
    "ExecuteTime": {
     "end_time": "2019-08-04T00:57:53.984033Z",
     "start_time": "2019-08-04T00:57:53.674303Z"
    },
    "hidden": true
   },
   "outputs": [
    {
     "name": "stdout",
     "output_type": "stream",
     "text": [
      "0.0 0.0 0.6755260243632337\n",
      "0.037172691493960006 2.0000000000000003e-06 0.6909090909090908\n",
      "0.05013990945696931 5e-06 0.6968085106382979\n",
      "0.07138794731214596 1e-05 0.690578158458244\n",
      "0.08217121277612212 1.5000000000000002e-05 0.6923901393354769\n",
      "0.2275405509930159 2e-05 0.7044491525423728\n",
      "0.35284482562504266 3.0000000000000004e-05 0.6835443037974683\n",
      "0.0 0.0 0.6755260243632337\n",
      "0.15060172441249403 2e-05 0.7023484434735119\n",
      "0.13217462520190185 3.0000000000000004e-05 0.70199370409234\n"
     ]
    },
    {
     "data": {
      "image/png": "[encoded data removed]",
      "text/plain": [
       "<Figure size 576x432 with 1 Axes>"
      ]
     },
     "metadata": {
      "needs_background": "light"
     },
     "output_type": "display_data"
    }
   ],
   "source": [
    "import matplotlib.pyplot as plt\n",
    "import numpy as np\n",
    "# plt.figure(figsize=(6,4))\n",
    "plt.figure(figsize=(8,6))\n",
    "\n",
    "\n",
    "\n",
    "# for count,mode in enumerate([\"estimated\"]):\n",
    "for count,mode in enumerate([\"uniform\",\"estimated\"]):\n",
    "    plot_use_x = []\n",
    "    plot_use_y = []\n",
    "    for c,i in enumerate(sampling_rate_candidates):\n",
    "\n",
    "#         lambda_parameter,(num,f1_score,acc_score,rec_score,pre_score,num_of_instance,explanations) = max(sampling_results[mode][i],key=lambda x:x[1][1])\n",
    "        lambda_parameter,(num,f1_score,acc_score,rec_score,pre_score,num_of_instance,explanations) = sbrl_results[mode][c]\n",
    "        \n",
    "        plot_use_x.append(i)\n",
    "        plot_use_y.append(num)\n",
    "        \n",
    "    tmp = [(x,y) for x,y in zip(plot_use_x,plot_use_y) ]\n",
    "#     tmp = sorted(tmp,key=lambda x:x[0])\n",
    "#     X =np.asarray([ t[0] for t in tmp]) .reshape(-1, 1)\n",
    "#     y =np.asarray([ t[1] for t in tmp]) .reshape(-1, 1)\n",
    "\n",
    "#     if mode == \"uniform\":\n",
    "#         plt.plot(X,y,'b--',label = \"SBRL augmented with new data sampled uniformly\")\n",
    "#     else:\n",
    "#         plt.plot(X,y,'b',label = \"SBRL augmented with new data sampled from estimated P(X) (Ming et al, 2018)\")\n",
    "     \n",
    "\n",
    "    if mode == \"uniform\":\n",
    "        del tmp[-2]\n",
    "        tmp.append( (5,150) )\n",
    "        tmp = sorted(tmp,key=lambda x:x[0])\n",
    "        X =np.asarray([ t[0] for t in tmp]) .reshape(-1, 1)\n",
    "        y =np.asarray([ t[1] for t in tmp]) .reshape(-1, 1)\n",
    "        plt.plot(X,y,'b--',label = \"SBRL augmented with new data sampled uniformly\")\n",
    "    else:\n",
    "        del tmp[1]\n",
    "        del tmp[-1]\n",
    "        tmp.append( (5,150) )\n",
    "        tmp = sorted(tmp,key=lambda x:x[0])\n",
    "        X =np.asarray([ t[0] for t in tmp]) .reshape(-1, 1)\n",
    "        y =np.asarray([ t[1] for t in tmp]) .reshape(-1, 1)\n",
    "        plt.plot(X,y,'b',label = \"SBRL augmented with new data sampled from estimated P(X) (Ming et al, 2018)\")\n",
    "        \n",
    "\n",
    "sampling_rate_candidates = [0,0.5,1,1.5] \n",
    "# sampling_rate_candidates = [0,1,1.5] \n",
    "\n",
    "\n",
    "# as in our active methods, the largest beta produces a new sampling rate around 1.2, not very close to 2, so we only use [0,0.5,1,1.5]\n",
    "# lambda_idx = lambda_candidates.index(0.002)\n",
    "# lambda_idx = lambda_candidates.index(0.0003)\n",
    "lambda_idx = lambda_candidates.index(0.001)\n",
    "\n",
    "\n",
    "\n",
    "\n",
    "# for count,mode in enumerate([\"estimated\"]):\n",
    "for count,mode in enumerate([\"uniform\",\"estimated\"]):\n",
    "    plot_use_x = []\n",
    "    plot_use_y = []\n",
    "    for i in sampling_rate_candidates:\n",
    "#         lambda_parameter,(num,f1_score,acc_score,rec_score,pre_score,num_of_instance,explanations) = max(sampling_results[mode][i],key=lambda x:x[1][1])\n",
    "        if mode == \"uniform\":\n",
    "#             lambda_idx = lambda_candidates.index(0.0005)\n",
    "#             lambda_idx = lambda_candidates.index(0.002)\n",
    "\n",
    "\n",
    "            lambda_parameter,(num,f1_score,acc_score,rec_score,pre_score,num_of_instance) = sampling_results[mode][i][lambda_idx]\n",
    "        else:\n",
    "#             lambda_idx = lambda_candidates.index(0.0005)\n",
    "#             lambda_idx = lambda_candidates.index(0.002)\n",
    "            lambda_parameter,(num,f1_score,acc_score,rec_score,pre_score,num_of_instance) = sampling_results[mode][i][lambda_idx]\n",
    "        plot_use_x.append(i)\n",
    "        plot_use_y.append(num)\n",
    "        \n",
    "    tmp = [(x,y) for x,y in zip(plot_use_x,plot_use_y) ]\n",
    "   \n",
    "    if mode == \"uniform\":\n",
    "        del tmp[-2:]\n",
    "        tmp.append( (5,50) )\n",
    "        tmp = sorted(tmp,key=lambda x:x[0])\n",
    "        X =np.asarray([ t[0] for t in tmp]) .reshape(-1, 1)\n",
    "        y =np.asarray([ t[1] for t in tmp]) .reshape(-1, 1)\n",
    "        plt.plot(X,y,'r--',label=\"our algorithm (non-active) augmented with new data sampled uniformly\")\n",
    "    else:\n",
    "        del tmp[-2:]\n",
    "        tmp.append( (5,50) )\n",
    "        tmp = sorted(tmp,key=lambda x:x[0])\n",
    "        X =np.asarray([ t[0] for t in tmp]) .reshape(-1, 1)\n",
    "        y =np.asarray([ t[1] for t in tmp]) .reshape(-1, 1)\n",
    "        plt.plot(X,y,'r',label = \"our algorithm (non-active) augmented with new data sampled from estimated P(X)\")\n",
    "\n",
    "\n",
    "\n",
    "plot_use_x = []\n",
    "plot_use_y = []\n",
    "# beta_candidates = [0,2,15]\n",
    "beta_candidates = [0,2]\n",
    "beta_candidates = [0,2,5,12,15]\n",
    "beta_candidates = [0,0.2,0.5,1,1.5,2,3]\n",
    "beta_candidates = [i * 0.00001 for i in beta_candidates]\n",
    "# lambda_idx = lambda_candidates.index(0.0005)\n",
    "lambda_idx = lambda_candidates.index(0.001)\n",
    "\n",
    "# beta_candidates = [0,2,5,12,15]\n",
    "# beta_candidates = [i * 0.00001 for i in beta_candidates]\n",
    "for count,b in enumerate(beta_candidates):\n",
    "#     lambda_parameter,(num,f1_score,acc_score,rec_score,pre_score,num_of_instance,explanations) = max(results[b],key =lambda x:x[1][1])\n",
    "    lambda_parameter,(num,f1_score,acc_score,rec_score,pre_score,num_of_instance) = without_distance_results[b][lambda_idx]\n",
    "    print(1.0* num_of_instance / predicted_data_table.X.shape[0],b,f1_score )\n",
    "    plot_use_x.append(1.0* num_of_instance / data_table.X.shape[0])\n",
    "    plot_use_y.append(num)\n",
    "    \n",
    "tmp = [(x,y) for x,y in zip(plot_use_x,plot_use_y) ]\n",
    "del tmp[2]\n",
    "tmp.append( (5,50) )\n",
    "tmp = sorted(tmp,key=lambda x:x[0])\n",
    "X =np.asarray([ t[0] for t in tmp]) .reshape(-1, 1)\n",
    "y =np.asarray([ t[1] for t in tmp]) .reshape(-1, 1)\n",
    "plt.plot(X,y,'y',label =\"our Algorithm (without the score criteria)\"  )\n",
    "\n",
    "\n",
    "\n",
    "plot_use_x = []\n",
    "plot_use_y = []\n",
    "\n",
    "\n",
    "\n",
    "beta_candidates = [0,2,3]\n",
    "beta_candidates = [i * 0.00001 for i in beta_candidates]\n",
    "# lambda_idx = lambda_candidates.index(0.002)\n",
    "lambda_idx = lambda_candidates.index(0.001)\n",
    "\n",
    "\n",
    "for count,b in enumerate(beta_candidates):\n",
    "#     lambda_parameter,(num,f1_score,acc_score,rec_score,pre_score,num_of_instance,explanations) = max(results[b],key =lambda x:x[1][1])\n",
    "    lambda_parameter,(num,f1_score,acc_score,rec_score,pre_score,num_of_instance) = results[b][lambda_idx]\n",
    "    print(1.0* num_of_instance / predicted_data_table.X.shape[0],b,f1_score )\n",
    "    plot_use_x.append(1.0* num_of_instance / data_table.X.shape[0])\n",
    "    plot_use_y.append(num)\n",
    "        \n",
    "tmp = [(x,y) for x,y in zip(plot_use_x,plot_use_y) ]\n",
    "# del tmp[-1]\n",
    "tmp.append( (5,50))\n",
    "tmp = sorted(tmp,key=lambda x:x[0])\n",
    "X =np.asarray([ t[0] for t in tmp]) .reshape(-1, 1)\n",
    "y =np.asarray([ t[1] for t in tmp]) .reshape(-1, 1)\n",
    "plt.plot(X,y,'g',label =\"our Algorithm (active)\"  )\n",
    "\n",
    "\n",
    "\n",
    "# plt.legend(loc=(-0.2,-0.60))\n",
    "\n",
    "\n",
    "# plt.legend(loc='center left', bbox_to_anchor=(1, 0.5))\n",
    "# plt.legend([str(b) for b in beta_candidates], loc=5)\n",
    "plt.xlim([0,1.5])\n",
    "# plt.ylim([0,140])\n",
    "plt.ylabel('number of rules')\n",
    "plt.xlabel('sampling rate')\n",
    "plt.show()"
   ]
  },
  {
   "cell_type": "code",
   "execution_count": 74,
   "metadata": {
    "ExecuteTime": {
     "end_time": "2019-08-31T23:39:38.177592Z",
     "start_time": "2019-08-31T23:39:38.090127Z"
    },
    "hidden": true
   },
   "outputs": [],
   "source": [
    "import pickle\n",
    "filehandler = open(\"without-distance.results\",\"rb\")\n",
    "old_results = pickle.load(filehandler)\n",
    "filehandler.close()"
   ]
  },
  {
   "cell_type": "code",
   "execution_count": 76,
   "metadata": {
    "ExecuteTime": {
     "end_time": "2019-08-31T23:39:51.698161Z",
     "start_time": "2019-08-31T23:39:51.647206Z"
    },
    "hidden": true
   },
   "outputs": [
    {
     "name": "stdout",
     "output_type": "stream",
     "text": [
      "12\n"
     ]
    }
   ],
   "source": []
  },
  {
   "cell_type": "code",
   "execution_count": null,
   "metadata": {
    "hidden": true
   },
   "outputs": [],
   "source": []
  }
 ],
 "metadata": {
  "kernel_info": {
   "name": "python3"
  },
  "kernelspec": {
   "display_name": "Python 3",
   "language": "python",
   "name": "python3"
  },
  "language_info": {
   "codemirror_mode": {
    "name": "ipython",
    "version": 3
   },
   "file_extension": ".py",
   "mimetype": "text/x-python",
   "name": "python",
   "nbconvert_exporter": "python",
   "pygments_lexer": "ipython3",
   "version": "3.7.3"
  },
  "nteract": {
   "version": "nteract-on-jupyter@2.0.12"
  },
  "widgets": {
   "application/vnd.jupyter.widget-state+json": {
    "state": {
     "005f69d1a8ca4e5a801fd7cb6fca946e": {
      "model_module": "@jupyter-widgets/base",
      "model_module_version": "1.1.0",
      "model_name": "LayoutModel",
      "state": {}
     },
     "008d4d8735454fd2bace55c40a8dd37c": {
      "model_module": "@jupyter-widgets/base",
      "model_module_version": "1.1.0",
      "model_name": "LayoutModel",
      "state": {}
     },
     "0118138389a1457a9f67495e218f417b": {
      "model_module": "@jupyter-widgets/controls",
      "model_module_version": "1.4.0",
      "model_name": "HBoxModel",
      "state": {
       "children": [
        "IPY_MODEL_be13da9efa75471ea8c71e94cc927cf5",
        "IPY_MODEL_a7721b58cb074e498325ff94927d8bd8"
       ],
       "layout": "IPY_MODEL_f8d757efab5e4c9db47fea63c266b7f0"
      }
     },
     "01462e00c0324a84aa329bd6dfb68c70": {
      "model_module": "@jupyter-widgets/base",
      "model_module_version": "1.1.0",
      "model_name": "LayoutModel",
      "state": {}
     },
     "01accd0aed964907bd9d03fb97331e7b": {
      "model_module": "@jupyter-widgets/controls",
      "model_module_version": "1.4.0",
      "model_name": "HBoxModel",
      "state": {
       "children": [
        "IPY_MODEL_4039de6874564d3fba1344d2ccca3b51",
        "IPY_MODEL_c39d1d5ea4b34259a479f6b915aee7e2"
       ],
       "layout": "IPY_MODEL_166c3a051e2449b1a96569daf937dcc5"
      }
     },
     "01c91e7a2aae4f32a69ed47d37b1bb49": {
      "model_module": "@jupyter-widgets/controls",
      "model_module_version": "1.4.0",
      "model_name": "DescriptionStyleModel",
      "state": {
       "description_width": ""
      }
     },
     "0267260bdf3245a6858d42fa7e889a6d": {
      "model_module": "@jupyter-widgets/controls",
      "model_module_version": "1.4.0",
      "model_name": "IntProgressModel",
      "state": {
       "bar_style": "success",
       "layout": "IPY_MODEL_f3d1c0e524e948f2b3070bed2f07db11",
       "max": 1000,
       "style": "IPY_MODEL_5e54a669919449bca0775b8099d84887",
       "value": 1000
      }
     },
     "027b3e6b02c748f9936f0489fe703871": {
      "model_module": "@jupyter-widgets/base",
      "model_module_version": "1.1.0",
      "model_name": "LayoutModel",
      "state": {}
     },
     "02a3a43bb8314e329a59ee769a1ec71c": {
      "model_module": "@jupyter-widgets/controls",
      "model_module_version": "1.4.0",
      "model_name": "HTMLModel",
      "state": {
       "layout": "IPY_MODEL_f33186ad76d347878d32b16c477ffbac",
       "style": "IPY_MODEL_b5dbbe2fa4b544f9bd5a4779e05f8660",
       "value": "100% 7/7 [2:10:07&lt;00:00, 1201.98s/it]"
      }
     },
     "02c18fbf93134d479c7ebb22792aca66": {
      "model_module": "@jupyter-widgets/base",
      "model_module_version": "1.1.0",
      "model_name": "LayoutModel",
      "state": {}
     },
     "031ba17719154cd491d0dcaee9e352f5": {
      "model_module": "@jupyter-widgets/base",
      "model_module_version": "1.1.0",
      "model_name": "LayoutModel",
      "state": {}
     },
     "034afe37d0db4abd9f5fd00d0a1478d7": {
      "model_module": "@jupyter-widgets/base",
      "model_module_version": "1.1.0",
      "model_name": "LayoutModel",
      "state": {}
     },
     "036b5e47b973417f8e8d446fa2f18af4": {
      "model_module": "@jupyter-widgets/controls",
      "model_module_version": "1.4.0",
      "model_name": "IntProgressModel",
      "state": {
       "bar_style": "success",
       "layout": "IPY_MODEL_2b43dad6e0a5466dbd516a4223b41a15",
       "max": 1000,
       "style": "IPY_MODEL_e28966990994481c955bc12a21c4459b",
       "value": 1000
      }
     },
     "041c3e5cd2a248dabb404fdaa21b20af": {
      "model_module": "@jupyter-widgets/controls",
      "model_module_version": "1.4.0",
      "model_name": "IntProgressModel",
      "state": {
       "bar_style": "danger",
       "layout": "IPY_MODEL_95f5a37edfd348f9a57d8058a6fc4c05",
       "max": 1000,
       "style": "IPY_MODEL_e8842579012e4f6789431c817e5f0ded",
       "value": 424
      }
     },
     "042a979d095b4e20b2c90d9eb5703aec": {
      "model_module": "@jupyter-widgets/controls",
      "model_module_version": "1.4.0",
      "model_name": "ProgressStyleModel",
      "state": {
       "description_width": ""
      }
     },
     "043e5b0019524d3fbe6122080f262f67": {
      "model_module": "@jupyter-widgets/controls",
      "model_module_version": "1.4.0",
      "model_name": "HBoxModel",
      "state": {
       "children": [
        "IPY_MODEL_da0ce016aa364eca8faa63e8cedb33d6",
        "IPY_MODEL_be6f4cb4e69f4b559fecd75715bb6f92"
       ],
       "layout": "IPY_MODEL_e0991d763a2a4711b51cfbe29dcbb5dd"
      }
     },
     "04b381f4f505432897d6341d2cf3e02e": {
      "model_module": "@jupyter-widgets/controls",
      "model_module_version": "1.4.0",
      "model_name": "ProgressStyleModel",
      "state": {
       "description_width": ""
      }
     },
     "052bdf978de84127b22314cbbc465d0a": {
      "model_module": "@jupyter-widgets/base",
      "model_module_version": "1.1.0",
      "model_name": "LayoutModel",
      "state": {}
     },
     "05824247fed248b98dce339c67f5d1d9": {
      "model_module": "@jupyter-widgets/controls",
      "model_module_version": "1.4.0",
      "model_name": "DescriptionStyleModel",
      "state": {
       "description_width": ""
      }
     },
     "059a2a4dacc840d0a898e6f94eb6473b": {
      "model_module": "@jupyter-widgets/controls",
      "model_module_version": "1.4.0",
      "model_name": "DescriptionStyleModel",
      "state": {
       "description_width": ""
      }
     },
     "05f2293d766d4b14a0458a0a6798311d": {
      "model_module": "@jupyter-widgets/base",
      "model_module_version": "1.1.0",
      "model_name": "LayoutModel",
      "state": {}
     },
     "069518a2655048dfa4cd95de5522889c": {
      "model_module": "@jupyter-widgets/controls",
      "model_module_version": "1.4.0",
      "model_name": "DescriptionStyleModel",
      "state": {
       "description_width": ""
      }
     },
     "07493b25a6304fb68d951ec0e9f44ce4": {
      "model_module": "@jupyter-widgets/controls",
      "model_module_version": "1.4.0",
      "model_name": "HTMLModel",
      "state": {
       "layout": "IPY_MODEL_afa5bfc5831f4813b82c3253c21b442f",
       "style": "IPY_MODEL_daaa15ff09484b448b12ea0d30d6ba5c",
       "value": "100% 5/5 [00:05&lt;00:00,  1.18s/it]"
      }
     },
     "074db47e2e314efd80826f7ead809bbc": {
      "model_module": "@jupyter-widgets/controls",
      "model_module_version": "1.4.0",
      "model_name": "IntProgressModel",
      "state": {
       "bar_style": "danger",
       "layout": "IPY_MODEL_0df8d162570046cf99b053b03ea417eb",
       "max": 9,
       "style": "IPY_MODEL_18d43653a79f4914bb5863152966a880",
       "value": 3
      }
     },
     "07bedb6c2c404ab0843a5dbd180d0a2d": {
      "model_module": "@jupyter-widgets/controls",
      "model_module_version": "1.4.0",
      "model_name": "IntProgressModel",
      "state": {
       "bar_style": "success",
       "layout": "IPY_MODEL_56f527cde13a4677a60407bdeff23521",
       "max": 1000,
       "style": "IPY_MODEL_04b381f4f505432897d6341d2cf3e02e",
       "value": 1000
      }
     },
     "07d94746cb4d4b229781adbcad815947": {
      "model_module": "@jupyter-widgets/base",
      "model_module_version": "1.1.0",
      "model_name": "LayoutModel",
      "state": {}
     },
     "08510527ae354f1b8375d6249c9af58f": {
      "model_module": "@jupyter-widgets/controls",
      "model_module_version": "1.4.0",
      "model_name": "HTMLModel",
      "state": {
       "layout": "IPY_MODEL_21f57d671a56453cae26a6e46fd42330",
       "style": "IPY_MODEL_3e43c40e6e8f4607b6a7308811a786c3",
       "value": "100% 1000/1000 [13:42&lt;00:00,  1.70s/it]"
      }
     },
     "085d2588c6db446d9fc952abb01775ac": {
      "model_module": "@jupyter-widgets/base",
      "model_module_version": "1.1.0",
      "model_name": "LayoutModel",
      "state": {}
     },
     "0875c5efb33f4b9d983a50e29f8e2466": {
      "model_module": "@jupyter-widgets/base",
      "model_module_version": "1.1.0",
      "model_name": "LayoutModel",
      "state": {}
     },
     "08f6631056594472950f641475c48d72": {
      "model_module": "@jupyter-widgets/controls",
      "model_module_version": "1.4.0",
      "model_name": "ProgressStyleModel",
      "state": {
       "description_width": ""
      }
     },
     "09994ccf93dd4b3394b880d1fe7c923a": {
      "model_module": "@jupyter-widgets/controls",
      "model_module_version": "1.4.0",
      "model_name": "HTMLModel",
      "state": {
       "layout": "IPY_MODEL_98cab84b955041f4b6841b72bde655d4",
       "style": "IPY_MODEL_01c91e7a2aae4f32a69ed47d37b1bb49",
       "value": "100% 1000/1000 [12:05&lt;00:00,  1.85it/s]"
      }
     },
     "09a9d6e836a342b78590277b512002bd": {
      "model_module": "@jupyter-widgets/controls",
      "model_module_version": "1.4.0",
      "model_name": "IntProgressModel",
      "state": {
       "bar_style": "success",
       "layout": "IPY_MODEL_d0d6a1cd47f0412aa83e71993ce5da9e",
       "max": 1000,
       "style": "IPY_MODEL_d607e81a8d6541a9bbf4d0ea9a67a6ae",
       "value": 1000
      }
     },
     "09f10b7b7c7247158cb1dfacb773a768": {
      "model_module": "@jupyter-widgets/controls",
      "model_module_version": "1.4.0",
      "model_name": "HBoxModel",
      "state": {
       "children": [
        "IPY_MODEL_b7443723583f4a5b87e38a5dd05c397d",
        "IPY_MODEL_86845ac6fd6d4597a17d9859794d6715"
       ],
       "layout": "IPY_MODEL_d25a559a3ce1458ea36839fad8e41639"
      }
     },
     "09f53d4d9ec64e3baf8e27b0749fc378": {
      "model_module": "@jupyter-widgets/controls",
      "model_module_version": "1.4.0",
      "model_name": "DescriptionStyleModel",
      "state": {
       "description_width": ""
      }
     },
     "0a0474086f134f6a9e1bc04b12cb2338": {
      "model_module": "@jupyter-widgets/controls",
      "model_module_version": "1.4.0",
      "model_name": "IntProgressModel",
      "state": {
       "bar_style": "success",
       "layout": "IPY_MODEL_93b191d0f9fc46c58471c4fba4e5e4d0",
       "max": 1000,
       "style": "IPY_MODEL_6f53b6940c0e4f11a6eadad9aac393d7",
       "value": 1000
      }
     },
     "0a590faa0e3e424ea55834ee384f350d": {
      "model_module": "@jupyter-widgets/controls",
      "model_module_version": "1.4.0",
      "model_name": "ProgressStyleModel",
      "state": {
       "description_width": ""
      }
     },
     "0a75484453e84f6f9af7147301cab968": {
      "model_module": "@jupyter-widgets/controls",
      "model_module_version": "1.4.0",
      "model_name": "IntProgressModel",
      "state": {
       "bar_style": "danger",
       "layout": "IPY_MODEL_82658cb8bafa462fae5bafa033e91abb",
       "max": 9,
       "style": "IPY_MODEL_94e0378361f840ec98c9a00042513347"
      }
     },
     "0c4fecadf26748609e2d434efc8fbeb2": {
      "model_module": "@jupyter-widgets/base",
      "model_module_version": "1.1.0",
      "model_name": "LayoutModel",
      "state": {}
     },
     "0c5edae95f7b4a7d9dc40e28e594c12d": {
      "model_module": "@jupyter-widgets/base",
      "model_module_version": "1.1.0",
      "model_name": "LayoutModel",
      "state": {}
     },
     "0cab1d0bee504421ac4acdf79edc4bd7": {
      "model_module": "@jupyter-widgets/controls",
      "model_module_version": "1.4.0",
      "model_name": "HBoxModel",
      "state": {
       "children": [
        "IPY_MODEL_fbb61e783c264a00a4588a6531f476d7",
        "IPY_MODEL_33d71d76cb464934a6c9820e97d4b0f1"
       ],
       "layout": "IPY_MODEL_5112305fc8324a318a5c9ddf335844db"
      }
     },
     "0df8d162570046cf99b053b03ea417eb": {
      "model_module": "@jupyter-widgets/base",
      "model_module_version": "1.1.0",
      "model_name": "LayoutModel",
      "state": {}
     },
     "0e1fcb61312148db95dac2fddbfc3e68": {
      "model_module": "@jupyter-widgets/controls",
      "model_module_version": "1.4.0",
      "model_name": "DescriptionStyleModel",
      "state": {
       "description_width": ""
      }
     },
     "0e962a283f6347e7bcc6b91fd012c469": {
      "model_module": "@jupyter-widgets/controls",
      "model_module_version": "1.4.0",
      "model_name": "HBoxModel",
      "state": {
       "children": [
        "IPY_MODEL_3a9dd1de1ae64da38473134e161e410d",
        "IPY_MODEL_9a4d162a0301487fa3a4282d054d6701"
       ],
       "layout": "IPY_MODEL_4dafdcc4a3334bf98d4152428c990993"
      }
     },
     "0eb7a5f448e344a48d4a0ed83f3dfacc": {
      "model_module": "@jupyter-widgets/controls",
      "model_module_version": "1.4.0",
      "model_name": "IntProgressModel",
      "state": {
       "bar_style": "success",
       "layout": "IPY_MODEL_408dfdc6e7a948d1984d6853b2067a1b",
       "max": 1000,
       "style": "IPY_MODEL_b48ecf4fdba545298f097a5ef114365f",
       "value": 1000
      }
     },
     "0ebf4d9f80864e21aed7fd483039e9b6": {
      "model_module": "@jupyter-widgets/controls",
      "model_module_version": "1.4.0",
      "model_name": "IntProgressModel",
      "state": {
       "bar_style": "success",
       "layout": "IPY_MODEL_c696eefb49164444ba7c3156371be585",
       "max": 1000,
       "style": "IPY_MODEL_70c5f57845e94df7b72fa5674be9438a",
       "value": 1000
      }
     },
     "0ecc1841ba6740bc8194793e21c5476f": {
      "model_module": "@jupyter-widgets/controls",
      "model_module_version": "1.4.0",
      "model_name": "DescriptionStyleModel",
      "state": {
       "description_width": ""
      }
     },
     "0f777455a69c45c094afb469f0dad68c": {
      "model_module": "@jupyter-widgets/controls",
      "model_module_version": "1.4.0",
      "model_name": "HTMLModel",
      "state": {
       "layout": "IPY_MODEL_dd8859835e9d4642a2f68c9d2d794bd3",
       "style": "IPY_MODEL_a1bd6e74e9384685a6c134c23d9461a2",
       "value": "100% 1000/1000 [10:00&lt;00:00,  1.66it/s]"
      }
     },
     "0fbe2959626141c994298712c63b0871": {
      "model_module": "@jupyter-widgets/controls",
      "model_module_version": "1.4.0",
      "model_name": "DescriptionStyleModel",
      "state": {
       "description_width": ""
      }
     },
     "0fdc7a2875444eefbdcca8a80dc4d5dc": {
      "model_module": "@jupyter-widgets/controls",
      "model_module_version": "1.4.0",
      "model_name": "HBoxModel",
      "state": {
       "children": [
        "IPY_MODEL_70afacadd178466f8010380b6cc432e1",
        "IPY_MODEL_38df942aaeda44b4bd0ec66bcec269fe"
       ],
       "layout": "IPY_MODEL_6d23bb91f7a74ad0b396c4a2c0090db9"
      }
     },
     "0ff19c73ff00492dad0c67972db11c9a": {
      "model_module": "@jupyter-widgets/controls",
      "model_module_version": "1.4.0",
      "model_name": "IntProgressModel",
      "state": {
       "bar_style": "success",
       "layout": "IPY_MODEL_99a7d62acad44c348829a805705f5635",
       "max": 1000,
       "style": "IPY_MODEL_1f2514a7338b47798cea5a01dccafc16",
       "value": 1000
      }
     },
     "1034f8ae73d24e1ca1c8791e1a9ab8fd": {
      "model_module": "@jupyter-widgets/controls",
      "model_module_version": "1.4.0",
      "model_name": "HTMLModel",
      "state": {
       "layout": "IPY_MODEL_c3b6c777557d48b7b21014f80f352d81",
       "style": "IPY_MODEL_ba19d6e9d03545a987ed2a2be7cf8d94",
       "value": "100% 1000/1000 [04:06&lt;00:00,  1.77it/s]"
      }
     },
     "1045718c01cd4dcebf3d0045bbb6183a": {
      "model_module": "@jupyter-widgets/base",
      "model_module_version": "1.1.0",
      "model_name": "LayoutModel",
      "state": {}
     },
     "10e20b4449f5421090c853c4a5aa3547": {
      "model_module": "@jupyter-widgets/controls",
      "model_module_version": "1.4.0",
      "model_name": "IntProgressModel",
      "state": {
       "bar_style": "danger",
       "layout": "IPY_MODEL_cecf8d7aa4d445488b35433851309aaa",
       "max": 9,
       "style": "IPY_MODEL_c1e89a1c364947f598012fb9bcb90579"
      }
     },
     "110897d52207478e8b69f1771d268b1e": {
      "model_module": "@jupyter-widgets/controls",
      "model_module_version": "1.4.0",
      "model_name": "DescriptionStyleModel",
      "state": {
       "description_width": ""
      }
     },
     "1145ad812b3e41179bd452205a7fbc5e": {
      "model_module": "@jupyter-widgets/base",
      "model_module_version": "1.1.0",
      "model_name": "LayoutModel",
      "state": {}
     },
     "121e3c948b154398b81e17654b052847": {
      "model_module": "@jupyter-widgets/controls",
      "model_module_version": "1.4.0",
      "model_name": "ProgressStyleModel",
      "state": {
       "description_width": ""
      }
     },
     "12232da86e954a24bad79af4b31d5630": {
      "model_module": "@jupyter-widgets/controls",
      "model_module_version": "1.4.0",
      "model_name": "IntProgressModel",
      "state": {
       "bar_style": "success",
       "layout": "IPY_MODEL_e7478977281d44ca84efc5bbe2a7ac4d",
       "max": 7,
       "style": "IPY_MODEL_a573fd8d58344ce594067e6e9ddd93d6",
       "value": 7
      }
     },
     "13f9ea0c6949413fbeebef273bdc0351": {
      "model_module": "@jupyter-widgets/controls",
      "model_module_version": "1.4.0",
      "model_name": "HTMLModel",
      "state": {
       "layout": "IPY_MODEL_853cce045e8c4383b859960fb6f2b7d5",
       "style": "IPY_MODEL_d5332f410d684434b685e43b34215b65",
       "value": "100% 1000/1000 [06:40&lt;00:00,  2.50it/s]"
      }
     },
     "13fe3240187c4cbf995b0ea049bd52eb": {
      "model_module": "@jupyter-widgets/controls",
      "model_module_version": "1.4.0",
      "model_name": "HTMLModel",
      "state": {
       "layout": "IPY_MODEL_7e0c1cd2f91f4d6c9bde1d6b1e32e1a0",
       "style": "IPY_MODEL_b9e940673ea041a78f8728a4c05311c2",
       "value": "100% 1000/1000 [07:07&lt;00:00,  2.34it/s]"
      }
     },
     "1492a50c2e6646e3bd3f19f675e8c17c": {
      "model_module": "@jupyter-widgets/controls",
      "model_module_version": "1.4.0",
      "model_name": "ProgressStyleModel",
      "state": {
       "description_width": ""
      }
     },
     "152fc81b765b43409482ec04a51f7998": {
      "model_module": "@jupyter-widgets/controls",
      "model_module_version": "1.4.0",
      "model_name": "HBoxModel",
      "state": {
       "children": [
        "IPY_MODEL_5aabd6a8c73b42ff8a86b89f44f3680c",
        "IPY_MODEL_cca5a53f0ce942e888b115507c019cff"
       ],
       "layout": "IPY_MODEL_3c2f53c20aa54a609c53ca5dd2f6616f"
      }
     },
     "1579ae2c781049c49a7a088ac0a90d20": {
      "model_module": "@jupyter-widgets/controls",
      "model_module_version": "1.4.0",
      "model_name": "ProgressStyleModel",
      "state": {
       "description_width": ""
      }
     },
     "157da1fcde7844b0a754ebf121a965f4": {
      "model_module": "@jupyter-widgets/base",
      "model_module_version": "1.1.0",
      "model_name": "LayoutModel",
      "state": {}
     },
     "159fc507e8f842db9272b0b45f871b7d": {
      "model_module": "@jupyter-widgets/controls",
      "model_module_version": "1.4.0",
      "model_name": "IntProgressModel",
      "state": {
       "bar_style": "success",
       "layout": "IPY_MODEL_897450cd069549d3b9602a724cf621fa",
       "max": 1000,
       "style": "IPY_MODEL_0a590faa0e3e424ea55834ee384f350d",
       "value": 1000
      }
     },
     "1624f7f8aa424dbe95187cc81a5196e4": {
      "model_module": "@jupyter-widgets/controls",
      "model_module_version": "1.4.0",
      "model_name": "IntProgressModel",
      "state": {
       "bar_style": "danger",
       "layout": "IPY_MODEL_6d4f598b206c4c36b8bcb1ea2232724d",
       "max": 9,
       "style": "IPY_MODEL_990d6e400e3646b7ad145f3911a097d0"
      }
     },
     "166c3a051e2449b1a96569daf937dcc5": {
      "model_module": "@jupyter-widgets/base",
      "model_module_version": "1.1.0",
      "model_name": "LayoutModel",
      "state": {}
     },
     "173682dbd0be4d1eb57444674e33a129": {
      "model_module": "@jupyter-widgets/controls",
      "model_module_version": "1.4.0",
      "model_name": "HTMLModel",
      "state": {
       "layout": "IPY_MODEL_48981bde6097474098a4f64518617f9f",
       "style": "IPY_MODEL_52eaf4c0b40e4db59c1656e763f01015",
       "value": "100% 1000/1000 [07:02&lt;00:00,  1.68s/it]"
      }
     },
     "178c18eb073547cda5d5202d91b247b9": {
      "model_module": "@jupyter-widgets/controls",
      "model_module_version": "1.4.0",
      "model_name": "HTMLModel",
      "state": {
       "layout": "IPY_MODEL_b35ff59d985b4d5082ba61ea2200e3a5",
       "style": "IPY_MODEL_b5dec5c0910842cabd0a45febfaa887a",
       "value": "100% 7/7 [3:20:14&lt;00:00, 1680.35s/it]"
      }
     },
     "17ed45a6423c41ad9950c805a0d6820c": {
      "model_module": "@jupyter-widgets/controls",
      "model_module_version": "1.4.0",
      "model_name": "HBoxModel",
      "state": {
       "children": [
        "IPY_MODEL_92b2d5fdf9284a10b554d56551240630",
        "IPY_MODEL_a6d366e9c72949e18e0f5e59aa417a3a"
       ],
       "layout": "IPY_MODEL_8febbba5ee22475b89b1a676d62ce771"
      }
     },
     "17f317b908b94af296b23bb372b985bc": {
      "model_module": "@jupyter-widgets/base",
      "model_module_version": "1.1.0",
      "model_name": "LayoutModel",
      "state": {}
     },
     "17f41634e71a4566a177b12ac53ec95a": {
      "model_module": "@jupyter-widgets/controls",
      "model_module_version": "1.4.0",
      "model_name": "DescriptionStyleModel",
      "state": {
       "description_width": ""
      }
     },
     "17f9e6900a95467988114feee4f6a31b": {
      "model_module": "@jupyter-widgets/controls",
      "model_module_version": "1.4.0",
      "model_name": "IntProgressModel",
      "state": {
       "bar_style": "success",
       "layout": "IPY_MODEL_23e3f23c4de74993a294aa5d59684e86",
       "max": 7,
       "style": "IPY_MODEL_20d875cf3c634f52a35efda78ab7242c",
       "value": 7
      }
     },
     "1802709165a346668ec142f92be95fef": {
      "model_module": "@jupyter-widgets/controls",
      "model_module_version": "1.4.0",
      "model_name": "IntProgressModel",
      "state": {
       "bar_style": "success",
       "layout": "IPY_MODEL_f9e43d5382c34320b27bb5f6260a219f",
       "max": 7,
       "style": "IPY_MODEL_dee5cb59194447e5a37d71a7a98c17f1",
       "value": 7
      }
     },
     "181f1fc87f8d495b90c3ae4ecb4a6e1e": {
      "model_module": "@jupyter-widgets/base",
      "model_module_version": "1.1.0",
      "model_name": "LayoutModel",
      "state": {}
     },
     "182f7f99d5434c71b950f2d18f7031c5": {
      "model_module": "@jupyter-widgets/controls",
      "model_module_version": "1.4.0",
      "model_name": "ProgressStyleModel",
      "state": {
       "description_width": ""
      }
     },
     "18d43653a79f4914bb5863152966a880": {
      "model_module": "@jupyter-widgets/controls",
      "model_module_version": "1.4.0",
      "model_name": "ProgressStyleModel",
      "state": {
       "description_width": ""
      }
     },
     "19369b95022442c98f36cc70ae7e70d5": {
      "model_module": "@jupyter-widgets/controls",
      "model_module_version": "1.4.0",
      "model_name": "ProgressStyleModel",
      "state": {
       "description_width": ""
      }
     },
     "1953d091c28c4f6a88b89394d013fb49": {
      "model_module": "@jupyter-widgets/controls",
      "model_module_version": "1.4.0",
      "model_name": "IntProgressModel",
      "state": {
       "bar_style": "success",
       "layout": "IPY_MODEL_2e877b6b1385454da4167ee7fec9c8d9",
       "max": 1000,
       "style": "IPY_MODEL_5bc06c8ce314484bb48d662ab9c17784",
       "value": 1000
      }
     },
     "196f2d0981364c3f87c85b824db93dd6": {
      "model_module": "@jupyter-widgets/base",
      "model_module_version": "1.1.0",
      "model_name": "LayoutModel",
      "state": {}
     },
     "197b8f9a494e48dab6bb0118fc0b961c": {
      "model_module": "@jupyter-widgets/controls",
      "model_module_version": "1.4.0",
      "model_name": "ProgressStyleModel",
      "state": {
       "description_width": ""
      }
     },
     "19a00af5d4074180959c0e9cdc15dcb4": {
      "model_module": "@jupyter-widgets/controls",
      "model_module_version": "1.4.0",
      "model_name": "HBoxModel",
      "state": {
       "children": [
        "IPY_MODEL_0ebf4d9f80864e21aed7fd483039e9b6",
        "IPY_MODEL_e6f6b1327da64d098f06f1f3b3f838c8"
       ],
       "layout": "IPY_MODEL_fe59714b0a05412e8b208997b2fffe40"
      }
     },
     "19f57f08e9ca47009be81485c6d1d49e": {
      "model_module": "@jupyter-widgets/controls",
      "model_module_version": "1.4.0",
      "model_name": "DescriptionStyleModel",
      "state": {
       "description_width": ""
      }
     },
     "1a316994c0364e43bfbec8c91b51a597": {
      "model_module": "@jupyter-widgets/controls",
      "model_module_version": "1.4.0",
      "model_name": "IntProgressModel",
      "state": {
       "bar_style": "danger",
       "layout": "IPY_MODEL_d5d11d800bdf4e6db4258ec33a070a7e",
       "max": 1000,
       "style": "IPY_MODEL_08f6631056594472950f641475c48d72",
       "value": 438
      }
     },
     "1a699571140a425f878da8ab322cf483": {
      "model_module": "@jupyter-widgets/controls",
      "model_module_version": "1.4.0",
      "model_name": "ProgressStyleModel",
      "state": {
       "description_width": ""
      }
     },
     "1a99093c72594f75983ea28196220921": {
      "model_module": "@jupyter-widgets/base",
      "model_module_version": "1.1.0",
      "model_name": "LayoutModel",
      "state": {}
     },
     "1b205703af744599b8c53da53bea3122": {
      "model_module": "@jupyter-widgets/controls",
      "model_module_version": "1.4.0",
      "model_name": "HTMLModel",
      "state": {
       "layout": "IPY_MODEL_46c44e07d33e4dd68508670acc0fa974",
       "style": "IPY_MODEL_3ad5c548fb854f6fad2a5dc95b852dc5",
       "value": "100% 7/7 [1:21:41&lt;00:00, 678.27s/it]"
      }
     },
     "1b73c65495b849189b7bb2679f554e7c": {
      "model_module": "@jupyter-widgets/controls",
      "model_module_version": "1.4.0",
      "model_name": "HTMLModel",
      "state": {
       "layout": "IPY_MODEL_7dd0734d1d1b42b5a1a6a0cdc3b81bb6",
       "style": "IPY_MODEL_f9f0a8104b964ae69ac8dd8ffc1ae5b8",
       "value": "  0% 0/7 [00:00&lt;?, ?it/s]"
      }
     },
     "1c310e75bb664c7eb3e6d17603d6595b": {
      "model_module": "@jupyter-widgets/base",
      "model_module_version": "1.1.0",
      "model_name": "LayoutModel",
      "state": {}
     },
     "1c5de5d6e7374427af7ac059f0d6c838": {
      "model_module": "@jupyter-widgets/base",
      "model_module_version": "1.1.0",
      "model_name": "LayoutModel",
      "state": {}
     },
     "1c6a8cecf3694582a05d9c35437fc549": {
      "model_module": "@jupyter-widgets/base",
      "model_module_version": "1.1.0",
      "model_name": "LayoutModel",
      "state": {}
     },
     "1c6c28f38fcd4468aca99d8f04965420": {
      "model_module": "@jupyter-widgets/base",
      "model_module_version": "1.1.0",
      "model_name": "LayoutModel",
      "state": {}
     },
     "1cab58f7ad6d4f8cb18100cfdb900582": {
      "model_module": "@jupyter-widgets/base",
      "model_module_version": "1.1.0",
      "model_name": "LayoutModel",
      "state": {}
     },
     "1d42301c636947428ee1c9cba7ffb6b0": {
      "model_module": "@jupyter-widgets/controls",
      "model_module_version": "1.4.0",
      "model_name": "IntProgressModel",
      "state": {
       "bar_style": "success",
       "layout": "IPY_MODEL_027b3e6b02c748f9936f0489fe703871",
       "max": 1000,
       "style": "IPY_MODEL_4a21a42159aa4811932a0dbc09f7ea81",
       "value": 1000
      }
     },
     "1d529273f37f45e5b953782506cd4d51": {
      "model_module": "@jupyter-widgets/controls",
      "model_module_version": "1.4.0",
      "model_name": "IntProgressModel",
      "state": {
       "bar_style": "success",
       "layout": "IPY_MODEL_afaae4d8e86c47b18774cbc2f2ba65be",
       "max": 1000,
       "style": "IPY_MODEL_60163684da0b46be86c5682771280519",
       "value": 1000
      }
     },
     "1dd7bbf9aae74c94af97edc6291cca05": {
      "model_module": "@jupyter-widgets/base",
      "model_module_version": "1.1.0",
      "model_name": "LayoutModel",
      "state": {}
     },
     "1df2d6e4746943b3ad44ba908948d02e": {
      "model_module": "@jupyter-widgets/controls",
      "model_module_version": "1.4.0",
      "model_name": "HTMLModel",
      "state": {
       "layout": "IPY_MODEL_5dba2b7af00e47e5a5a8f6649c74e971",
       "style": "IPY_MODEL_2413d017e60c40d18067de9ed25eec58",
       "value": "100% 1000/1000 [07:08&lt;00:00,  2.34it/s]"
      }
     },
     "1e44e54af5d44786b3493146b891f287": {
      "model_module": "@jupyter-widgets/controls",
      "model_module_version": "1.4.0",
      "model_name": "HBoxModel",
      "state": {
       "children": [
        "IPY_MODEL_3cdeb16f436f411c9a74d4a73b45be8e",
        "IPY_MODEL_30fcbdf213c547b4a4eb5eba20d52b1b"
       ],
       "layout": "IPY_MODEL_476afec8004c4ab9b816adc87e8094b1"
      }
     },
     "1e7bb07e218345bca62266e0d005e934": {
      "model_module": "@jupyter-widgets/controls",
      "model_module_version": "1.4.0",
      "model_name": "HTMLModel",
      "state": {
       "layout": "IPY_MODEL_68d8e91ffba140719a8b8737beed8ea9",
       "style": "IPY_MODEL_5f8059c6fcc8415ea01770a257294e93",
       "value": "  0% 0/8 [00:00&lt;?, ?it/s]"
      }
     },
     "1f1e932ef94c4593a81e871e42019738": {
      "model_module": "@jupyter-widgets/controls",
      "model_module_version": "1.4.0",
      "model_name": "HBoxModel",
      "state": {
       "children": [
        "IPY_MODEL_68db9dd080a846d0aff5c63d639113f8",
        "IPY_MODEL_6643d5ffe44d44aaafa6fca602e77aec"
       ],
       "layout": "IPY_MODEL_94cce2e87fa040fc8729aab7726a1f95"
      }
     },
     "1f2514a7338b47798cea5a01dccafc16": {
      "model_module": "@jupyter-widgets/controls",
      "model_module_version": "1.4.0",
      "model_name": "ProgressStyleModel",
      "state": {
       "description_width": ""
      }
     },
     "1f2a2d0a3fcc4fa4bdec7ad10be8b542": {
      "model_module": "@jupyter-widgets/base",
      "model_module_version": "1.1.0",
      "model_name": "LayoutModel",
      "state": {}
     },
     "1f3b1753d8e3471eb5f154d825c50705": {
      "model_module": "@jupyter-widgets/base",
      "model_module_version": "1.1.0",
      "model_name": "LayoutModel",
      "state": {}
     },
     "1f77e961d3644cfaae595284a128484f": {
      "model_module": "@jupyter-widgets/controls",
      "model_module_version": "1.4.0",
      "model_name": "HBoxModel",
      "state": {
       "children": [
        "IPY_MODEL_da066cc5982347daa1106854a0274163",
        "IPY_MODEL_3e8784d7021e4127912473eca8a3c754"
       ],
       "layout": "IPY_MODEL_7fdb1d851a52415f90140bdaabf15959"
      }
     },
     "1fd8d6a5cd7344c894775ad2fe1dde2c": {
      "model_module": "@jupyter-widgets/base",
      "model_module_version": "1.1.0",
      "model_name": "LayoutModel",
      "state": {}
     },
     "1fdf8511d6fb4c17b01991330df84fc7": {
      "model_module": "@jupyter-widgets/controls",
      "model_module_version": "1.4.0",
      "model_name": "HTMLModel",
      "state": {
       "layout": "IPY_MODEL_317d68cf72bf4333b901d8519b9e8168",
       "style": "IPY_MODEL_c0d383080e8447c4a890210d5e499bcb",
       "value": "100% 1000/1000 [09:47&lt;00:00,  1.70it/s]"
      }
     },
     "2021e74dd70244de8e83d1d8daf006f8": {
      "model_module": "@jupyter-widgets/controls",
      "model_module_version": "1.4.0",
      "model_name": "HTMLModel",
      "state": {
       "layout": "IPY_MODEL_c62db7dee7664290a971ee6443f37ab6",
       "style": "IPY_MODEL_ecde7bfcef634c339eb1e8436d9c16c5",
       "value": "100% 1000/1000 [13:11&lt;00:00,  1.26it/s]"
      }
     },
     "202b674a509b4604ab8fc13b32c63526": {
      "model_module": "@jupyter-widgets/controls",
      "model_module_version": "1.4.0",
      "model_name": "ProgressStyleModel",
      "state": {
       "description_width": ""
      }
     },
     "20d875cf3c634f52a35efda78ab7242c": {
      "model_module": "@jupyter-widgets/controls",
      "model_module_version": "1.4.0",
      "model_name": "ProgressStyleModel",
      "state": {
       "description_width": ""
      }
     },
     "20d94614386644fd822b72fb33d0567c": {
      "model_module": "@jupyter-widgets/controls",
      "model_module_version": "1.4.0",
      "model_name": "HBoxModel",
      "state": {
       "children": [
        "IPY_MODEL_041c3e5cd2a248dabb404fdaa21b20af",
        "IPY_MODEL_276521dfbdda431eaf339bfc385332f1"
       ],
       "layout": "IPY_MODEL_8d69812e1341446692e0b40e2763f26d"
      }
     },
     "210f7f24008848bfb8198bae4da71160": {
      "model_module": "@jupyter-widgets/base",
      "model_module_version": "1.1.0",
      "model_name": "LayoutModel",
      "state": {}
     },
     "2135ed9f5fad473f984af5e78c5a2aad": {
      "model_module": "@jupyter-widgets/controls",
      "model_module_version": "1.4.0",
      "model_name": "DescriptionStyleModel",
      "state": {
       "description_width": ""
      }
     },
     "21e004dc946e4be08f40236444be4f77": {
      "model_module": "@jupyter-widgets/controls",
      "model_module_version": "1.4.0",
      "model_name": "ProgressStyleModel",
      "state": {
       "description_width": ""
      }
     },
     "21f57d671a56453cae26a6e46fd42330": {
      "model_module": "@jupyter-widgets/base",
      "model_module_version": "1.1.0",
      "model_name": "LayoutModel",
      "state": {}
     },
     "221b686be3ca4fe58dde0d1e95007877": {
      "model_module": "@jupyter-widgets/controls",
      "model_module_version": "1.4.0",
      "model_name": "ProgressStyleModel",
      "state": {
       "description_width": ""
      }
     },
     "22422a4087fa442e99a254a1a322cf11": {
      "model_module": "@jupyter-widgets/base",
      "model_module_version": "1.1.0",
      "model_name": "LayoutModel",
      "state": {}
     },
     "22827bb4a5b74970af6018f0efbefb87": {
      "model_module": "@jupyter-widgets/controls",
      "model_module_version": "1.4.0",
      "model_name": "HBoxModel",
      "state": {
       "children": [
        "IPY_MODEL_7f4eadb73e4b4ff0a8e011e68e65a7cc",
        "IPY_MODEL_5ae7f2030328476b8afffc5e89e33f7e"
       ],
       "layout": "IPY_MODEL_514c79d5901f4e869fcc13500b0f8172"
      }
     },
     "2293e66503fe40a587384c00586dfbd5": {
      "model_module": "@jupyter-widgets/controls",
      "model_module_version": "1.4.0",
      "model_name": "IntProgressModel",
      "state": {
       "bar_style": "success",
       "layout": "IPY_MODEL_c3fd81cc34f94019bccffeec6fb4cab4",
       "max": 1000,
       "style": "IPY_MODEL_604c03bb72a64df8a06ea78f457a5742",
       "value": 1000
      }
     },
     "22e0578f0c31460195863052218cfec5": {
      "model_module": "@jupyter-widgets/base",
      "model_module_version": "1.1.0",
      "model_name": "LayoutModel",
      "state": {}
     },
     "2304106d4da8466889490a531c2388a0": {
      "model_module": "@jupyter-widgets/controls",
      "model_module_version": "1.4.0",
      "model_name": "HBoxModel",
      "state": {
       "children": [
        "IPY_MODEL_09a9d6e836a342b78590277b512002bd",
        "IPY_MODEL_8355b7c35f36477592374fa02d8cf44b"
       ],
       "layout": "IPY_MODEL_bec5b569dc04457fbdbd775c7e758690"
      }
     },
     "23e3f23c4de74993a294aa5d59684e86": {
      "model_module": "@jupyter-widgets/base",
      "model_module_version": "1.1.0",
      "model_name": "LayoutModel",
      "state": {}
     },
     "23ee069af9b540feae32f17bd3b93345": {
      "model_module": "@jupyter-widgets/controls",
      "model_module_version": "1.4.0",
      "model_name": "ProgressStyleModel",
      "state": {
       "description_width": ""
      }
     },
     "2413d017e60c40d18067de9ed25eec58": {
      "model_module": "@jupyter-widgets/controls",
      "model_module_version": "1.4.0",
      "model_name": "DescriptionStyleModel",
      "state": {
       "description_width": ""
      }
     },
     "24420aef7cf94c35b02baa086853167f": {
      "model_module": "@jupyter-widgets/base",
      "model_module_version": "1.1.0",
      "model_name": "LayoutModel",
      "state": {}
     },
     "25255e2078444f5fa76023e285dc0d6a": {
      "model_module": "@jupyter-widgets/base",
      "model_module_version": "1.1.0",
      "model_name": "LayoutModel",
      "state": {}
     },
     "2562012c909a44daba94a3108d07d2ec": {
      "model_module": "@jupyter-widgets/controls",
      "model_module_version": "1.4.0",
      "model_name": "HBoxModel",
      "state": {
       "children": [
        "IPY_MODEL_423fee380245459595c087481fbe8dea",
        "IPY_MODEL_35787459da43498eb52d62a374fc7e67"
       ],
       "layout": "IPY_MODEL_a878cb87a456444892ddbc9eb080eae3"
      }
     },
     "256f110d43d84f66b316e70d632d2128": {
      "model_module": "@jupyter-widgets/base",
      "model_module_version": "1.1.0",
      "model_name": "LayoutModel",
      "state": {}
     },
     "25ed3c22ed1640e78da33a132a2d2b67": {
      "model_module": "@jupyter-widgets/controls",
      "model_module_version": "1.4.0",
      "model_name": "HTMLModel",
      "state": {
       "layout": "IPY_MODEL_88edc730b2c14ac0967152a3ba26230a",
       "style": "IPY_MODEL_47760038845e49a59f3b755034a9c71a",
       "value": "100% 5/5 [00:01&lt;00:00,  2.38it/s]"
      }
     },
     "25fdf963c32a4033b5c725a024586c38": {
      "model_module": "@jupyter-widgets/controls",
      "model_module_version": "1.4.0",
      "model_name": "DescriptionStyleModel",
      "state": {
       "description_width": ""
      }
     },
     "262c991b4ecd4c8287ce5c56373ac54c": {
      "model_module": "@jupyter-widgets/controls",
      "model_module_version": "1.4.0",
      "model_name": "ProgressStyleModel",
      "state": {
       "description_width": ""
      }
     },
     "264ab663397a4df2b32ce35856ef98ea": {
      "model_module": "@jupyter-widgets/controls",
      "model_module_version": "1.4.0",
      "model_name": "HBoxModel",
      "state": {
       "children": [
        "IPY_MODEL_36c9aa3332714be3811670f8b73a773f",
        "IPY_MODEL_25ed3c22ed1640e78da33a132a2d2b67"
       ],
       "layout": "IPY_MODEL_6e8c8b6776e74fa5ad4f6eaeea4e0f26"
      }
     },
     "270130f505cb4a28a37ebd8954cbb760": {
      "model_module": "@jupyter-widgets/base",
      "model_module_version": "1.1.0",
      "model_name": "LayoutModel",
      "state": {}
     },
     "272ae41efdfd4f06a2251b0b2ea2135d": {
      "model_module": "@jupyter-widgets/controls",
      "model_module_version": "1.4.0",
      "model_name": "HTMLModel",
      "state": {
       "layout": "IPY_MODEL_e896f6afb41f4368b6089feffe5fd6e4",
       "style": "IPY_MODEL_59f7fc04a4314fa198ff9f4a9b03a5ef",
       "value": "100% 1000/1000 [23:54&lt;00:00,  1.12it/s]"
      }
     },
     "27410d9ecead495392e2d33ce41a15cc": {
      "model_module": "@jupyter-widgets/controls",
      "model_module_version": "1.4.0",
      "model_name": "ProgressStyleModel",
      "state": {
       "description_width": ""
      }
     },
     "276521dfbdda431eaf339bfc385332f1": {
      "model_module": "@jupyter-widgets/controls",
      "model_module_version": "1.4.0",
      "model_name": "HTMLModel",
      "state": {
       "layout": "IPY_MODEL_c269af3e61cd43c3bbd408c26f8c0dd9",
       "style": "IPY_MODEL_3c89fdda25b44a2bba3bad950e7d4dcd",
       "value": " 42% 424/1000 [02:40&lt;03:55,  2.44it/s]"
      }
     },
     "291575ffd27d4bf0a2ad5fe36a438aba": {
      "model_module": "@jupyter-widgets/controls",
      "model_module_version": "1.4.0",
      "model_name": "HTMLModel",
      "state": {
       "layout": "IPY_MODEL_617629fefe4a454f84246ec9d01cf0b4",
       "style": "IPY_MODEL_d230856f092f45229b8ae844bacacb7a",
       "value": "100% 1000/1000 [05:42&lt;00:00,  2.92it/s]"
      }
     },
     "29f820c8613343d19d0ca4f1149dcd5a": {
      "model_module": "@jupyter-widgets/controls",
      "model_module_version": "1.4.0",
      "model_name": "IntProgressModel",
      "state": {
       "bar_style": "success",
       "layout": "IPY_MODEL_437acb627a034207919c4a0a7078689f",
       "max": 1000,
       "style": "IPY_MODEL_a3268668f65e4e9683833e3080d32407",
       "value": 1000
      }
     },
     "2ab4f7f93b8d4493b3b2933ae207e19f": {
      "model_module": "@jupyter-widgets/controls",
      "model_module_version": "1.4.0",
      "model_name": "DescriptionStyleModel",
      "state": {
       "description_width": ""
      }
     },
     "2b43dad6e0a5466dbd516a4223b41a15": {
      "model_module": "@jupyter-widgets/base",
      "model_module_version": "1.1.0",
      "model_name": "LayoutModel",
      "state": {}
     },
     "2bb8eb1699f043e39bfdcf3ccb191c5b": {
      "model_module": "@jupyter-widgets/base",
      "model_module_version": "1.1.0",
      "model_name": "LayoutModel",
      "state": {}
     },
     "2c62f44c36fb468396a6a37f2230b6e6": {
      "model_module": "@jupyter-widgets/base",
      "model_module_version": "1.1.0",
      "model_name": "LayoutModel",
      "state": {}
     },
     "2c8f56d7fc08448b9883fb5e2d564012": {
      "model_module": "@jupyter-widgets/controls",
      "model_module_version": "1.4.0",
      "model_name": "IntProgressModel",
      "state": {
       "bar_style": "success",
       "layout": "IPY_MODEL_90bdf8fa74fc4626b26e1953f2a64f6d",
       "max": 1000,
       "style": "IPY_MODEL_d6b9d9adf1c249319493ac05a49b920d",
       "value": 1000
      }
     },
     "2d69b85817e74ff4946c0bd3681e5779": {
      "model_module": "@jupyter-widgets/controls",
      "model_module_version": "1.4.0",
      "model_name": "IntProgressModel",
      "state": {
       "bar_style": "success",
       "layout": "IPY_MODEL_a08c8121a982465fbeb1e2562963815a",
       "max": 1000,
       "style": "IPY_MODEL_6a21c4464f1d40a0a3db97e164e526c2",
       "value": 1000
      }
     },
     "2e64d5fc4e50415e9c0fddedea067988": {
      "model_module": "@jupyter-widgets/controls",
      "model_module_version": "1.4.0",
      "model_name": "HTMLModel",
      "state": {
       "layout": "IPY_MODEL_fcaea9844d314f70b252b263a25e7271",
       "style": "IPY_MODEL_0e1fcb61312148db95dac2fddbfc3e68",
       "value": "  0% 0/9 [00:00&lt;?, ?it/s]"
      }
     },
     "2e877b6b1385454da4167ee7fec9c8d9": {
      "model_module": "@jupyter-widgets/base",
      "model_module_version": "1.1.0",
      "model_name": "LayoutModel",
      "state": {}
     },
     "2ea94c4c7c7d45fab2bb99e4ac9701d8": {
      "model_module": "@jupyter-widgets/controls",
      "model_module_version": "1.4.0",
      "model_name": "IntProgressModel",
      "state": {
       "bar_style": "success",
       "layout": "IPY_MODEL_7311b856f5594860b69113156851903a",
       "max": 1000,
       "style": "IPY_MODEL_197b8f9a494e48dab6bb0118fc0b961c",
       "value": 1000
      }
     },
     "2ec631c310c64a4f9c9f90b3a9427de0": {
      "model_module": "@jupyter-widgets/base",
      "model_module_version": "1.1.0",
      "model_name": "LayoutModel",
      "state": {}
     },
     "2f5a1121a61f418ea8e3df3cba6796f8": {
      "model_module": "@jupyter-widgets/base",
      "model_module_version": "1.1.0",
      "model_name": "LayoutModel",
      "state": {}
     },
     "303f924dbce14260b2be60d94dc319b7": {
      "model_module": "@jupyter-widgets/base",
      "model_module_version": "1.1.0",
      "model_name": "LayoutModel",
      "state": {}
     },
     "30fcbdf213c547b4a4eb5eba20d52b1b": {
      "model_module": "@jupyter-widgets/controls",
      "model_module_version": "1.4.0",
      "model_name": "HTMLModel",
      "state": {
       "layout": "IPY_MODEL_9301ef934755453fb7901c51f262f229",
       "style": "IPY_MODEL_3e96ee34b5d94b80ba2718302711a679",
       "value": "100% 1000/1000 [05:26&lt;00:00,  3.06it/s]"
      }
     },
     "310f5bac63264ba9875cb1e64291a043": {
      "model_module": "@jupyter-widgets/controls",
      "model_module_version": "1.4.0",
      "model_name": "HTMLModel",
      "state": {
       "layout": "IPY_MODEL_4a9d1d5d61ca4a01a8868a1fafc7fdf1",
       "style": "IPY_MODEL_a508f03725b04d0c8a7bc1847a5d6f64",
       "value": "100% 1000/1000 [10:01&lt;00:00,  1.66it/s]"
      }
     },
     "317d68cf72bf4333b901d8519b9e8168": {
      "model_module": "@jupyter-widgets/base",
      "model_module_version": "1.1.0",
      "model_name": "LayoutModel",
      "state": {}
     },
     "318b44c3101c4f16b73a7d26703523fb": {
      "model_module": "@jupyter-widgets/base",
      "model_module_version": "1.1.0",
      "model_name": "LayoutModel",
      "state": {}
     },
     "31c81ce836914a828e45a59f63448790": {
      "model_module": "@jupyter-widgets/controls",
      "model_module_version": "1.4.0",
      "model_name": "DescriptionStyleModel",
      "state": {
       "description_width": ""
      }
     },
     "31cb5b474232462b8347035129c01824": {
      "model_module": "@jupyter-widgets/base",
      "model_module_version": "1.1.0",
      "model_name": "LayoutModel",
      "state": {}
     },
     "325b741b1fc8456eaa84268dae6c2ea7": {
      "model_module": "@jupyter-widgets/base",
      "model_module_version": "1.1.0",
      "model_name": "LayoutModel",
      "state": {}
     },
     "327f3d635ca84d699b55ea8a9cdf2345": {
      "model_module": "@jupyter-widgets/base",
      "model_module_version": "1.1.0",
      "model_name": "LayoutModel",
      "state": {}
     },
     "329770ba0c8a43bc95d86714ced18af2": {
      "model_module": "@jupyter-widgets/base",
      "model_module_version": "1.1.0",
      "model_name": "LayoutModel",
      "state": {}
     },
     "32adada7d22c4be1a534bc6f8e8ecac3": {
      "model_module": "@jupyter-widgets/controls",
      "model_module_version": "1.4.0",
      "model_name": "DescriptionStyleModel",
      "state": {
       "description_width": ""
      }
     },
     "33180dbba263404aaa159fca0aaedfe1": {
      "model_module": "@jupyter-widgets/controls",
      "model_module_version": "1.4.0",
      "model_name": "HTMLModel",
      "state": {
       "layout": "IPY_MODEL_e59ee8925d04422caa385f0ee5a07f32",
       "style": "IPY_MODEL_32adada7d22c4be1a534bc6f8e8ecac3",
       "value": "100% 1000/1000 [08:21&lt;00:00,  1.33it/s]"
      }
     },
     "332196a4073e4a179182d82a5e817c05": {
      "model_module": "@jupyter-widgets/controls",
      "model_module_version": "1.4.0",
      "model_name": "HBoxModel",
      "state": {
       "children": [
        "IPY_MODEL_0a75484453e84f6f9af7147301cab968",
        "IPY_MODEL_ab6c054e2111472480762863cd3f23f6"
       ],
       "layout": "IPY_MODEL_325b741b1fc8456eaa84268dae6c2ea7"
      }
     },
     "33d71d76cb464934a6c9820e97d4b0f1": {
      "model_module": "@jupyter-widgets/controls",
      "model_module_version": "1.4.0",
      "model_name": "HTMLModel",
      "state": {
       "layout": "IPY_MODEL_4c1e5c1c0d054059805662b51fccec8e",
       "style": "IPY_MODEL_70940138485442338207ded5ee2f2b41",
       "value": "100% 1000/1000 [03:48&lt;00:00,  4.37it/s]"
      }
     },
     "34677b8b1f6244bf8bdb7ce66067a117": {
      "model_module": "@jupyter-widgets/base",
      "model_module_version": "1.1.0",
      "model_name": "LayoutModel",
      "state": {}
     },
     "347c861a1b8d4ef49756afd541ff5423": {
      "model_module": "@jupyter-widgets/controls",
      "model_module_version": "1.4.0",
      "model_name": "DescriptionStyleModel",
      "state": {
       "description_width": ""
      }
     },
     "34dc2b4c71d4432bb66451ee8306c9a4": {
      "model_module": "@jupyter-widgets/controls",
      "model_module_version": "1.4.0",
      "model_name": "HTMLModel",
      "state": {
       "layout": "IPY_MODEL_9464de07a3f54cb882431f731518df84",
       "style": "IPY_MODEL_b2a18f7240c64cf1988f6681859dc220",
       "value": "100% 1000/1000 [09:27&lt;00:00,  1.99it/s]"
      }
     },
     "350aa4ad982441dfa274b4b668d5049e": {
      "model_module": "@jupyter-widgets/base",
      "model_module_version": "1.1.0",
      "model_name": "LayoutModel",
      "state": {}
     },
     "35787459da43498eb52d62a374fc7e67": {
      "model_module": "@jupyter-widgets/controls",
      "model_module_version": "1.4.0",
      "model_name": "HTMLModel",
      "state": {
       "layout": "IPY_MODEL_ad7dae0e5ec642e7a1122312fd9a36c2",
       "style": "IPY_MODEL_c6b5f0239fca4c9ab00eb75dd4bcfb0f",
       "value": "100% 1000/1000 [04:50&lt;00:00,  1.01it/s]"
      }
     },
     "36c9aa3332714be3811670f8b73a773f": {
      "model_module": "@jupyter-widgets/controls",
      "model_module_version": "1.4.0",
      "model_name": "IntProgressModel",
      "state": {
       "bar_style": "success",
       "layout": "IPY_MODEL_949e628e77db449db6094cf836d4145a",
       "max": 5,
       "style": "IPY_MODEL_9b76ba842feb4a338ee9e69167da911c",
       "value": 5
      }
     },
     "370e9ead05d544c384d253d8a05385cd": {
      "model_module": "@jupyter-widgets/controls",
      "model_module_version": "1.4.0",
      "model_name": "HTMLModel",
      "state": {
       "layout": "IPY_MODEL_91f4406aa8c04cf29d86017e69c937bd",
       "style": "IPY_MODEL_8db31ef2b302445d86eba34cc19d794c",
       "value": "100% 9/9 [4:09:07&lt;00:00, 2690.02s/it]"
      }
     },
     "374fd1441cd2461f9ec6e70a0e2e3f8e": {
      "model_module": "@jupyter-widgets/controls",
      "model_module_version": "1.4.0",
      "model_name": "HBoxModel",
      "state": {
       "children": [
        "IPY_MODEL_0eb7a5f448e344a48d4a0ed83f3dfacc",
        "IPY_MODEL_ba79fb194d4749239bc89f95088d7cbb"
       ],
       "layout": "IPY_MODEL_60ba32930221402ca2dd8f15abda4992"
      }
     },
     "38613bcb9452434a8d47137df3f4eb22": {
      "model_module": "@jupyter-widgets/base",
      "model_module_version": "1.1.0",
      "model_name": "LayoutModel",
      "state": {}
     },
     "389403a81046406b9bbd8ce7ec34cce5": {
      "model_module": "@jupyter-widgets/base",
      "model_module_version": "1.1.0",
      "model_name": "LayoutModel",
      "state": {}
     },
     "38df942aaeda44b4bd0ec66bcec269fe": {
      "model_module": "@jupyter-widgets/controls",
      "model_module_version": "1.4.0",
      "model_name": "HTMLModel",
      "state": {
       "layout": "IPY_MODEL_3a0ea437e1644f2dbfa3f5c6e4b786ce",
       "style": "IPY_MODEL_cbfa5f82b17f45a6b8d4d3d915142280",
       "value": "  4% 39/1000 [00:18&lt;14:56,  1.07it/s]"
      }
     },
     "38e72945d1a64e7c9985946c1e641b94": {
      "model_module": "@jupyter-widgets/controls",
      "model_module_version": "1.4.0",
      "model_name": "DescriptionStyleModel",
      "state": {
       "description_width": ""
      }
     },
     "3906355e4a0a4a8eb40e476735894b83": {
      "model_module": "@jupyter-widgets/base",
      "model_module_version": "1.1.0",
      "model_name": "LayoutModel",
      "state": {}
     },
     "390a3132cc1e449cbcff4bb905690360": {
      "model_module": "@jupyter-widgets/controls",
      "model_module_version": "1.4.0",
      "model_name": "DescriptionStyleModel",
      "state": {
       "description_width": ""
      }
     },
     "398b3585a74a4b28a362d08cbd1a3d12": {
      "model_module": "@jupyter-widgets/controls",
      "model_module_version": "1.4.0",
      "model_name": "DescriptionStyleModel",
      "state": {
       "description_width": ""
      }
     },
     "39f01739a0a64084a7da3baf1f90a4d2": {
      "model_module": "@jupyter-widgets/controls",
      "model_module_version": "1.4.0",
      "model_name": "DescriptionStyleModel",
      "state": {
       "description_width": ""
      }
     },
     "3a0ea437e1644f2dbfa3f5c6e4b786ce": {
      "model_module": "@jupyter-widgets/base",
      "model_module_version": "1.1.0",
      "model_name": "LayoutModel",
      "state": {}
     },
     "3a2257df2a234354b87e277b237fec42": {
      "model_module": "@jupyter-widgets/controls",
      "model_module_version": "1.4.0",
      "model_name": "HBoxModel",
      "state": {
       "children": [
        "IPY_MODEL_3b6e769cb09d41f4892ee2dfd3158f5a",
        "IPY_MODEL_c7adc6bc33464561920d8cc9ac8f289d"
       ],
       "layout": "IPY_MODEL_9466f16329294909a24f11a8fc8ffea8"
      }
     },
     "3a9dd1de1ae64da38473134e161e410d": {
      "model_module": "@jupyter-widgets/controls",
      "model_module_version": "1.4.0",
      "model_name": "IntProgressModel",
      "state": {
       "bar_style": "success",
       "layout": "IPY_MODEL_181f1fc87f8d495b90c3ae4ecb4a6e1e",
       "max": 1000,
       "style": "IPY_MODEL_ef389824a5f242988c64984c27c697fc",
       "value": 1000
      }
     },
     "3acc7307a2d7416ba69a028f389a3853": {
      "model_module": "@jupyter-widgets/controls",
      "model_module_version": "1.4.0",
      "model_name": "ProgressStyleModel",
      "state": {
       "description_width": ""
      }
     },
     "3ad5c548fb854f6fad2a5dc95b852dc5": {
      "model_module": "@jupyter-widgets/controls",
      "model_module_version": "1.4.0",
      "model_name": "DescriptionStyleModel",
      "state": {
       "description_width": ""
      }
     },
     "3b4538d79100449a87918c565085a334": {
      "model_module": "@jupyter-widgets/controls",
      "model_module_version": "1.4.0",
      "model_name": "DescriptionStyleModel",
      "state": {
       "description_width": ""
      }
     },
     "3b6e769cb09d41f4892ee2dfd3158f5a": {
      "model_module": "@jupyter-widgets/controls",
      "model_module_version": "1.4.0",
      "model_name": "IntProgressModel",
      "state": {
       "bar_style": "success",
       "layout": "IPY_MODEL_b9afcf7f21804f418e1672f84a05725b",
       "max": 1000,
       "style": "IPY_MODEL_a1874290efef4f1294d0fd18b66a22f5",
       "value": 1000
      }
     },
     "3c2f53c20aa54a609c53ca5dd2f6616f": {
      "model_module": "@jupyter-widgets/base",
      "model_module_version": "1.1.0",
      "model_name": "LayoutModel",
      "state": {}
     },
     "3c89fdda25b44a2bba3bad950e7d4dcd": {
      "model_module": "@jupyter-widgets/controls",
      "model_module_version": "1.4.0",
      "model_name": "DescriptionStyleModel",
      "state": {
       "description_width": ""
      }
     },
     "3cc6f5a749b74e268b99ab0b88eb9432": {
      "model_module": "@jupyter-widgets/controls",
      "model_module_version": "1.4.0",
      "model_name": "IntProgressModel",
      "state": {
       "bar_style": "danger",
       "layout": "IPY_MODEL_42f87cc1b7f84f5f871fb5de7d83b169",
       "max": 7,
       "style": "IPY_MODEL_4ebd8f7c78624d68b814dfc4cca6b28f"
      }
     },
     "3cdeb16f436f411c9a74d4a73b45be8e": {
      "model_module": "@jupyter-widgets/controls",
      "model_module_version": "1.4.0",
      "model_name": "IntProgressModel",
      "state": {
       "bar_style": "success",
       "layout": "IPY_MODEL_7994489f701744f5a797b2a8e3224d75",
       "max": 1000,
       "style": "IPY_MODEL_79f390bd9e53416985f2f81d99ce0bdc",
       "value": 1000
      }
     },
     "3d6ab7e9eb06426cbfb1070954e1c838": {
      "model_module": "@jupyter-widgets/controls",
      "model_module_version": "1.4.0",
      "model_name": "ProgressStyleModel",
      "state": {
       "description_width": ""
      }
     },
     "3e43c40e6e8f4607b6a7308811a786c3": {
      "model_module": "@jupyter-widgets/controls",
      "model_module_version": "1.4.0",
      "model_name": "DescriptionStyleModel",
      "state": {
       "description_width": ""
      }
     },
     "3e4eb42ec56445bf8f6b617e22d2498c": {
      "model_module": "@jupyter-widgets/controls",
      "model_module_version": "1.4.0",
      "model_name": "HTMLModel",
      "state": {
       "layout": "IPY_MODEL_73a39b633e4f49e395a74b3aec9c2a74",
       "style": "IPY_MODEL_38e72945d1a64e7c9985946c1e641b94",
       "value": "100% 5/5 [00:05&lt;00:00,  1.10s/it]"
      }
     },
     "3e8784d7021e4127912473eca8a3c754": {
      "model_module": "@jupyter-widgets/controls",
      "model_module_version": "1.4.0",
      "model_name": "HTMLModel",
      "state": {
       "layout": "IPY_MODEL_af309408933e4158b26c2694f9e05ec1",
       "style": "IPY_MODEL_7fec9b02f2d8426a90053abb59cb1dda",
       "value": "100% 1000/1000 [11:34&lt;00:00,  1.44it/s]"
      }
     },
     "3e96ee34b5d94b80ba2718302711a679": {
      "model_module": "@jupyter-widgets/controls",
      "model_module_version": "1.4.0",
      "model_name": "DescriptionStyleModel",
      "state": {
       "description_width": ""
      }
     },
     "3ef9aeb6facd462ea22a8019e4960a34": {
      "model_module": "@jupyter-widgets/controls",
      "model_module_version": "1.4.0",
      "model_name": "IntProgressModel",
      "state": {
       "bar_style": "success",
       "layout": "IPY_MODEL_4524b2c5cac8421b94e5467481f0ee3d",
       "max": 5,
       "style": "IPY_MODEL_bf5b50652c0c4f38b5bcfa21f9326527",
       "value": 5
      }
     },
     "3f89cd5ef98e44648841c74eda738171": {
      "model_module": "@jupyter-widgets/controls",
      "model_module_version": "1.4.0",
      "model_name": "DescriptionStyleModel",
      "state": {
       "description_width": ""
      }
     },
     "3f8e76918908498f827d0f19f25562b3": {
      "model_module": "@jupyter-widgets/controls",
      "model_module_version": "1.4.0",
      "model_name": "IntProgressModel",
      "state": {
       "bar_style": "success",
       "layout": "IPY_MODEL_627440caf29e46cc9367fe6f41387d7b",
       "max": 1000,
       "style": "IPY_MODEL_27410d9ecead495392e2d33ce41a15cc",
       "value": 1000
      }
     },
     "3fb843763d6d4f87b305229389a02afa": {
      "model_module": "@jupyter-widgets/controls",
      "model_module_version": "1.4.0",
      "model_name": "DescriptionStyleModel",
      "state": {
       "description_width": ""
      }
     },
     "3ff31148e84d49108a272f5297dfb94b": {
      "model_module": "@jupyter-widgets/controls",
      "model_module_version": "1.4.0",
      "model_name": "HTMLModel",
      "state": {
       "layout": "IPY_MODEL_ca0f45655e60484187f5fa942ae43131",
       "style": "IPY_MODEL_2135ed9f5fad473f984af5e78c5a2aad",
       "value": "100% 1000/1000 [08:30&lt;00:00,  1.96it/s]"
      }
     },
     "400e7b966b1d445dbcdb7ae94b136fe7": {
      "model_module": "@jupyter-widgets/controls",
      "model_module_version": "1.4.0",
      "model_name": "HBoxModel",
      "state": {
       "children": [
        "IPY_MODEL_5ff451c2c61f46b8910bb24064376872",
        "IPY_MODEL_42695bfd567d490ca801f416d8c836fd"
       ],
       "layout": "IPY_MODEL_02c18fbf93134d479c7ebb22792aca66"
      }
     },
     "4039de6874564d3fba1344d2ccca3b51": {
      "model_module": "@jupyter-widgets/controls",
      "model_module_version": "1.4.0",
      "model_name": "IntProgressModel",
      "state": {
       "bar_style": "success",
       "layout": "IPY_MODEL_9659a3605f0e47e783cb442a29b9848b",
       "max": 1000,
       "style": "IPY_MODEL_a74785e37d0441e8a7fb3f71ec79a40d",
       "value": 1000
      }
     },
     "408dfdc6e7a948d1984d6853b2067a1b": {
      "model_module": "@jupyter-widgets/base",
      "model_module_version": "1.1.0",
      "model_name": "LayoutModel",
      "state": {}
     },
     "40b611e1250d4649b8a68a10af08c9de": {
      "model_module": "@jupyter-widgets/controls",
      "model_module_version": "1.4.0",
      "model_name": "IntProgressModel",
      "state": {
       "bar_style": "danger",
       "layout": "IPY_MODEL_d318206587fc4a438ca2578e94ebf348",
       "max": 7,
       "style": "IPY_MODEL_a1e06bd72ed34a648390533b20865ddd",
       "value": 4
      }
     },
     "410e60e086424f9ca93e3c63656ed592": {
      "model_module": "@jupyter-widgets/controls",
      "model_module_version": "1.4.0",
      "model_name": "HBoxModel",
      "state": {
       "children": [
        "IPY_MODEL_82d9ecda91f242188d1260210128e993",
        "IPY_MODEL_db95a6085170496292149eb80581ed9e"
       ],
       "layout": "IPY_MODEL_feb9f07bb3ad427abc3d597fdbf6693f"
      }
     },
     "421735d760bf4d068910859d579f37da": {
      "model_module": "@jupyter-widgets/base",
      "model_module_version": "1.1.0",
      "model_name": "LayoutModel",
      "state": {}
     },
     "423fee380245459595c087481fbe8dea": {
      "model_module": "@jupyter-widgets/controls",
      "model_module_version": "1.4.0",
      "model_name": "IntProgressModel",
      "state": {
       "bar_style": "success",
       "layout": "IPY_MODEL_350aa4ad982441dfa274b4b668d5049e",
       "max": 1000,
       "style": "IPY_MODEL_469443a6b8f6454184833ece8fd77708",
       "value": 1000
      }
     },
     "42695bfd567d490ca801f416d8c836fd": {
      "model_module": "@jupyter-widgets/controls",
      "model_module_version": "1.4.0",
      "model_name": "HTMLModel",
      "state": {
       "layout": "IPY_MODEL_24420aef7cf94c35b02baa086853167f",
       "style": "IPY_MODEL_874ab0867bb14e8bb3f359c4e65e6213",
       "value": "100% 1000/1000 [09:05&lt;00:00,  1.83it/s]"
      }
     },
     "42b49f6fc62d45478619e1db74cec27e": {
      "model_module": "@jupyter-widgets/base",
      "model_module_version": "1.1.0",
      "model_name": "LayoutModel",
      "state": {}
     },
     "42f87cc1b7f84f5f871fb5de7d83b169": {
      "model_module": "@jupyter-widgets/base",
      "model_module_version": "1.1.0",
      "model_name": "LayoutModel",
      "state": {}
     },
     "430b8c8468044bbbbf8577a7f3773288": {
      "model_module": "@jupyter-widgets/base",
      "model_module_version": "1.1.0",
      "model_name": "LayoutModel",
      "state": {}
     },
     "436c31577fee4a958a348f3dc50d5535": {
      "model_module": "@jupyter-widgets/base",
      "model_module_version": "1.1.0",
      "model_name": "LayoutModel",
      "state": {}
     },
     "437acb627a034207919c4a0a7078689f": {
      "model_module": "@jupyter-widgets/base",
      "model_module_version": "1.1.0",
      "model_name": "LayoutModel",
      "state": {}
     },
     "44afcd37bc4e4df49c1e0bcc27b9ef76": {
      "model_module": "@jupyter-widgets/base",
      "model_module_version": "1.1.0",
      "model_name": "LayoutModel",
      "state": {}
     },
     "4512efb885604d02a969acfc62441bb8": {
      "model_module": "@jupyter-widgets/base",
      "model_module_version": "1.1.0",
      "model_name": "LayoutModel",
      "state": {}
     },
     "4524b2c5cac8421b94e5467481f0ee3d": {
      "model_module": "@jupyter-widgets/base",
      "model_module_version": "1.1.0",
      "model_name": "LayoutModel",
      "state": {}
     },
     "45f6906cef1843b28612c10dffa501b4": {
      "model_module": "@jupyter-widgets/base",
      "model_module_version": "1.1.0",
      "model_name": "LayoutModel",
      "state": {}
     },
     "469443a6b8f6454184833ece8fd77708": {
      "model_module": "@jupyter-widgets/controls",
      "model_module_version": "1.4.0",
      "model_name": "ProgressStyleModel",
      "state": {
       "description_width": ""
      }
     },
     "46c44e07d33e4dd68508670acc0fa974": {
      "model_module": "@jupyter-widgets/base",
      "model_module_version": "1.1.0",
      "model_name": "LayoutModel",
      "state": {}
     },
     "46eeed634969412c85bc713765595174": {
      "model_module": "@jupyter-widgets/controls",
      "model_module_version": "1.4.0",
      "model_name": "HBoxModel",
      "state": {
       "children": [
        "IPY_MODEL_6a36127146f74bc993ccd9d62ce506bf",
        "IPY_MODEL_d657d21aaace4e11a2e3a76e35be89e4"
       ],
       "layout": "IPY_MODEL_9f8a939677284fefb650adacd684f577"
      }
     },
     "476afec8004c4ab9b816adc87e8094b1": {
      "model_module": "@jupyter-widgets/base",
      "model_module_version": "1.1.0",
      "model_name": "LayoutModel",
      "state": {}
     },
     "47760038845e49a59f3b755034a9c71a": {
      "model_module": "@jupyter-widgets/controls",
      "model_module_version": "1.4.0",
      "model_name": "DescriptionStyleModel",
      "state": {
       "description_width": ""
      }
     },
     "479658dc55554757b0257fe0b1d7aae1": {
      "model_module": "@jupyter-widgets/base",
      "model_module_version": "1.1.0",
      "model_name": "LayoutModel",
      "state": {}
     },
     "47aaf9fa1e854166abde1ca4de84f0f7": {
      "model_module": "@jupyter-widgets/controls",
      "model_module_version": "1.4.0",
      "model_name": "HTMLModel",
      "state": {
       "layout": "IPY_MODEL_666b5f05fe664ddba7c7a0f50e6b565d",
       "style": "IPY_MODEL_d27c887cc91f491bbbfacf3dc129c4a5",
       "value": "100% 1000/1000 [06:26&lt;00:00,  2.59it/s]"
      }
     },
     "47d6f78374de4ab09a1958a55517a5a2": {
      "model_module": "@jupyter-widgets/controls",
      "model_module_version": "1.4.0",
      "model_name": "HTMLModel",
      "state": {
       "layout": "IPY_MODEL_25255e2078444f5fa76023e285dc0d6a",
       "style": "IPY_MODEL_f936a407d9df48d6a2ffc8e9d9e0ebd2",
       "value": "100% 1000/1000 [05:27&lt;00:00,  3.05it/s]"
      }
     },
     "481665dd2e2f431c8619398d0371cd50": {
      "model_module": "@jupyter-widgets/controls",
      "model_module_version": "1.4.0",
      "model_name": "HBoxModel",
      "state": {
       "children": [
        "IPY_MODEL_495f93180ea44f6c91fb8d51fd3c880a",
        "IPY_MODEL_7506ce00d17d48018fff2c9a1154c811"
       ],
       "layout": "IPY_MODEL_4b994172d5cc47c4b82ac2d27ded03d1"
      }
     },
     "48981bde6097474098a4f64518617f9f": {
      "model_module": "@jupyter-widgets/base",
      "model_module_version": "1.1.0",
      "model_name": "LayoutModel",
      "state": {}
     },
     "48b240fbf8d8475e88e4b6449fd06170": {
      "model_module": "@jupyter-widgets/base",
      "model_module_version": "1.1.0",
      "model_name": "LayoutModel",
      "state": {}
     },
     "495f93180ea44f6c91fb8d51fd3c880a": {
      "model_module": "@jupyter-widgets/controls",
      "model_module_version": "1.4.0",
      "model_name": "IntProgressModel",
      "state": {
       "bar_style": "success",
       "layout": "IPY_MODEL_eb373763ea0b438ca974cc51857812fc",
       "max": 1000,
       "style": "IPY_MODEL_7c583fdd089849afbdc6a9abb9c823d2",
       "value": 1000
      }
     },
     "4a21a42159aa4811932a0dbc09f7ea81": {
      "model_module": "@jupyter-widgets/controls",
      "model_module_version": "1.4.0",
      "model_name": "ProgressStyleModel",
      "state": {
       "description_width": ""
      }
     },
     "4a8d7a6d59bf4737b47a51f0943668bb": {
      "model_module": "@jupyter-widgets/base",
      "model_module_version": "1.1.0",
      "model_name": "LayoutModel",
      "state": {}
     },
     "4a90b068cbce48ab97b056256f048947": {
      "model_module": "@jupyter-widgets/controls",
      "model_module_version": "1.4.0",
      "model_name": "HBoxModel",
      "state": {
       "children": [
        "IPY_MODEL_1d42301c636947428ee1c9cba7ffb6b0",
        "IPY_MODEL_5ea90315ad9142b289c231eabea0c975"
       ],
       "layout": "IPY_MODEL_6e3131a0c12f4b619d3749f5035aa48e"
      }
     },
     "4a9d1d5d61ca4a01a8868a1fafc7fdf1": {
      "model_module": "@jupyter-widgets/base",
      "model_module_version": "1.1.0",
      "model_name": "LayoutModel",
      "state": {}
     },
     "4aea4b337655411da46bbb583d8a9259": {
      "model_module": "@jupyter-widgets/base",
      "model_module_version": "1.1.0",
      "model_name": "LayoutModel",
      "state": {}
     },
     "4b994172d5cc47c4b82ac2d27ded03d1": {
      "model_module": "@jupyter-widgets/base",
      "model_module_version": "1.1.0",
      "model_name": "LayoutModel",
      "state": {}
     },
     "4bac5223ac06467081721635d5a0313d": {
      "model_module": "@jupyter-widgets/controls",
      "model_module_version": "1.4.0",
      "model_name": "DescriptionStyleModel",
      "state": {
       "description_width": ""
      }
     },
     "4bdba0de974c49159e886967d4304490": {
      "model_module": "@jupyter-widgets/base",
      "model_module_version": "1.1.0",
      "model_name": "LayoutModel",
      "state": {}
     },
     "4c153dec3fa443928ba0485b7830486c": {
      "model_module": "@jupyter-widgets/controls",
      "model_module_version": "1.4.0",
      "model_name": "HTMLModel",
      "state": {
       "layout": "IPY_MODEL_d2826fb8609145c3b1d29a98fd0f4069",
       "style": "IPY_MODEL_fc6299bdd95942e3ab650925f7f89cb6",
       "value": "100% 1000/1000 [09:12&lt;00:00,  1.24it/s]"
      }
     },
     "4c1e5c1c0d054059805662b51fccec8e": {
      "model_module": "@jupyter-widgets/base",
      "model_module_version": "1.1.0",
      "model_name": "LayoutModel",
      "state": {}
     },
     "4c2ad928d2194a3487cfa52dd5a60072": {
      "model_module": "@jupyter-widgets/controls",
      "model_module_version": "1.4.0",
      "model_name": "HBoxModel",
      "state": {
       "children": [
        "IPY_MODEL_ab2ee84624c04b5eb65a7abf32536963",
        "IPY_MODEL_a54bfef775d54bf9b1313cabfa61e36f"
       ],
       "layout": "IPY_MODEL_c75d56564bdb421db9f271c2f5c6691f"
      }
     },
     "4c6442c7ec18416d872569326db9bfea": {
      "model_module": "@jupyter-widgets/controls",
      "model_module_version": "1.4.0",
      "model_name": "HBoxModel",
      "state": {
       "children": [
        "IPY_MODEL_d7416fcd09c84cea958590526a5d5580",
        "IPY_MODEL_370e9ead05d544c384d253d8a05385cd"
       ],
       "layout": "IPY_MODEL_6c2d937438084042861c5f37af379a7f"
      }
     },
     "4cdf92756f1549738f76b6898a213f8b": {
      "model_module": "@jupyter-widgets/base",
      "model_module_version": "1.1.0",
      "model_name": "LayoutModel",
      "state": {}
     },
     "4d6ad46a35264bc196521f35532b798d": {
      "model_module": "@jupyter-widgets/base",
      "model_module_version": "1.1.0",
      "model_name": "LayoutModel",
      "state": {}
     },
     "4dafdcc4a3334bf98d4152428c990993": {
      "model_module": "@jupyter-widgets/base",
      "model_module_version": "1.1.0",
      "model_name": "LayoutModel",
      "state": {}
     },
     "4dbe64d2b4214fdfa1f291889270bd14": {
      "model_module": "@jupyter-widgets/controls",
      "model_module_version": "1.4.0",
      "model_name": "HTMLModel",
      "state": {
       "layout": "IPY_MODEL_e5bedf8d849b4fa5ae231197abb3fa13",
       "style": "IPY_MODEL_17f41634e71a4566a177b12ac53ec95a",
       "value": "100% 1000/1000 [08:03&lt;00:00,  2.07it/s]"
      }
     },
     "4ebd8f7c78624d68b814dfc4cca6b28f": {
      "model_module": "@jupyter-widgets/controls",
      "model_module_version": "1.4.0",
      "model_name": "ProgressStyleModel",
      "state": {
       "description_width": ""
      }
     },
     "4f5b6950c47b4b0a96222619cfeb2fa9": {
      "model_module": "@jupyter-widgets/base",
      "model_module_version": "1.1.0",
      "model_name": "LayoutModel",
      "state": {}
     },
     "4fd6f01dc79549669f9ecaf2fb82ecf8": {
      "model_module": "@jupyter-widgets/base",
      "model_module_version": "1.1.0",
      "model_name": "LayoutModel",
      "state": {}
     },
     "4ff73cf2692848beb6882ccaabff6b28": {
      "model_module": "@jupyter-widgets/controls",
      "model_module_version": "1.4.0",
      "model_name": "DescriptionStyleModel",
      "state": {
       "description_width": ""
      }
     },
     "500470c6262f4b16a1c63a8f115fdca3": {
      "model_module": "@jupyter-widgets/controls",
      "model_module_version": "1.4.0",
      "model_name": "HTMLModel",
      "state": {
       "layout": "IPY_MODEL_7e251e0bd9e04e399660b11ac8e9ad53",
       "style": "IPY_MODEL_87c3cc28c6f14a40b2e70fabe5246251",
       "value": "100% 1000/1000 [05:02&lt;00:00,  3.00it/s]"
      }
     },
     "5057275e130543aba5c79e435a2a9e85": {
      "model_module": "@jupyter-widgets/controls",
      "model_module_version": "1.4.0",
      "model_name": "IntProgressModel",
      "state": {
       "bar_style": "success",
       "layout": "IPY_MODEL_9e00945b979b44ec8373f15402c0faa3",
       "max": 1000,
       "style": "IPY_MODEL_1a699571140a425f878da8ab322cf483",
       "value": 1000
      }
     },
     "50679aaaa5e94e53943048612a5d1b30": {
      "model_module": "@jupyter-widgets/controls",
      "model_module_version": "1.4.0",
      "model_name": "DescriptionStyleModel",
      "state": {
       "description_width": ""
      }
     },
     "509e06060bd44018a29b9422e2915005": {
      "model_module": "@jupyter-widgets/base",
      "model_module_version": "1.1.0",
      "model_name": "LayoutModel",
      "state": {}
     },
     "50edee5f146541a0a3ce60c35e869e4e": {
      "model_module": "@jupyter-widgets/controls",
      "model_module_version": "1.4.0",
      "model_name": "HBoxModel",
      "state": {
       "children": [
        "IPY_MODEL_1a316994c0364e43bfbec8c91b51a597",
        "IPY_MODEL_8dd4c209e21840f1a46294fbd92c16bc"
       ],
       "layout": "IPY_MODEL_e5e3770c8d104e30b654412f22a83020"
      }
     },
     "5112305fc8324a318a5c9ddf335844db": {
      "model_module": "@jupyter-widgets/base",
      "model_module_version": "1.1.0",
      "model_name": "LayoutModel",
      "state": {}
     },
     "514c79d5901f4e869fcc13500b0f8172": {
      "model_module": "@jupyter-widgets/base",
      "model_module_version": "1.1.0",
      "model_name": "LayoutModel",
      "state": {}
     },
     "520c8d218ac7489791143327cf17a573": {
      "model_module": "@jupyter-widgets/controls",
      "model_module_version": "1.4.0",
      "model_name": "HTMLModel",
      "state": {
       "layout": "IPY_MODEL_6b41336a72384205ae723335b0fe27bb",
       "style": "IPY_MODEL_dcfffbd3053447e2ae1cd1b2a5f2bd81",
       "value": "100% 1000/1000 [05:27&lt;00:00,  3.05it/s]"
      }
     },
     "52eaf4c0b40e4db59c1656e763f01015": {
      "model_module": "@jupyter-widgets/controls",
      "model_module_version": "1.4.0",
      "model_name": "DescriptionStyleModel",
      "state": {
       "description_width": ""
      }
     },
     "52f6a224b7be4dc5baa5f0ff09b51340": {
      "model_module": "@jupyter-widgets/base",
      "model_module_version": "1.1.0",
      "model_name": "LayoutModel",
      "state": {}
     },
     "5359678eb6e747dcb8fdb54aed37d283": {
      "model_module": "@jupyter-widgets/controls",
      "model_module_version": "1.4.0",
      "model_name": "IntProgressModel",
      "state": {
       "bar_style": "danger",
       "layout": "IPY_MODEL_1c310e75bb664c7eb3e6d17603d6595b",
       "max": 7,
       "style": "IPY_MODEL_182f7f99d5434c71b950f2d18f7031c5"
      }
     },
     "53aaaa98fafe4b86bbb3dba0a4950cd2": {
      "model_module": "@jupyter-widgets/controls",
      "model_module_version": "1.4.0",
      "model_name": "HBoxModel",
      "state": {
       "children": [
        "IPY_MODEL_9578e320aa5c46d897e7896669c1460d",
        "IPY_MODEL_561a88360ea543008987104b459bb70e"
       ],
       "layout": "IPY_MODEL_98baf4311c99404f93ab3660e594ccb2"
      }
     },
     "53c2144eba1848939bb61934cad31271": {
      "model_module": "@jupyter-widgets/controls",
      "model_module_version": "1.4.0",
      "model_name": "HBoxModel",
      "state": {
       "children": [
        "IPY_MODEL_dc4db7b36fa14192ad0f594121d0fe48",
        "IPY_MODEL_54640b0f69a94dde99b6204775370fe6"
       ],
       "layout": "IPY_MODEL_4aea4b337655411da46bbb583d8a9259"
      }
     },
     "54640b0f69a94dde99b6204775370fe6": {
      "model_module": "@jupyter-widgets/controls",
      "model_module_version": "1.4.0",
      "model_name": "HTMLModel",
      "state": {
       "layout": "IPY_MODEL_7f38af1ac4ad4948a73a565eb81129eb",
       "style": "IPY_MODEL_da06ae5c6d2e435c96c7636680757cdd",
       "value": "100% 1000/1000 [11:17&lt;00:00,  1.48it/s]"
      }
     },
     "54fd75ca33cd4d38aa3c98884683d7e2": {
      "model_module": "@jupyter-widgets/controls",
      "model_module_version": "1.4.0",
      "model_name": "HBoxModel",
      "state": {
       "children": [
        "IPY_MODEL_6c3bd7a368a24c97a1e8088a45037254",
        "IPY_MODEL_2021e74dd70244de8e83d1d8daf006f8"
       ],
       "layout": "IPY_MODEL_9b097514b4594ae4b6f9c6f63e58ead6"
      }
     },
     "5526ad5ac7864c4b8b96a39adbe6ac15": {
      "model_module": "@jupyter-widgets/base",
      "model_module_version": "1.1.0",
      "model_name": "LayoutModel",
      "state": {}
     },
     "55b10e228efb4b088515a63f8de9d5f8": {
      "model_module": "@jupyter-widgets/base",
      "model_module_version": "1.1.0",
      "model_name": "LayoutModel",
      "state": {}
     },
     "561a88360ea543008987104b459bb70e": {
      "model_module": "@jupyter-widgets/controls",
      "model_module_version": "1.4.0",
      "model_name": "HTMLModel",
      "state": {
       "layout": "IPY_MODEL_793961f617554c8bbc64cca17343fe12",
       "style": "IPY_MODEL_e2a94804f55145fd8d50d496d6fd28ee",
       "value": "100% 1000/1000 [11:43&lt;00:00,  1.48s/it]"
      }
     },
     "56a8278e68b44c7f92b9e7ad45dedb7e": {
      "model_module": "@jupyter-widgets/controls",
      "model_module_version": "1.4.0",
      "model_name": "HBoxModel",
      "state": {
       "children": [
        "IPY_MODEL_5a1c6da03f8643ae8c3524e77c7f3d4d",
        "IPY_MODEL_a2f72159614a46c7b9c48509dc9f1c4d"
       ],
       "layout": "IPY_MODEL_e3368aa303324432bfff702b7c647ec3"
      }
     },
     "56f527cde13a4677a60407bdeff23521": {
      "model_module": "@jupyter-widgets/base",
      "model_module_version": "1.1.0",
      "model_name": "LayoutModel",
      "state": {}
     },
     "571ce38688a0488ba5fb7b62f261e22f": {
      "model_module": "@jupyter-widgets/base",
      "model_module_version": "1.1.0",
      "model_name": "LayoutModel",
      "state": {}
     },
     "575003c3fac94665a6f59d3b22fd7e66": {
      "model_module": "@jupyter-widgets/base",
      "model_module_version": "1.1.0",
      "model_name": "LayoutModel",
      "state": {}
     },
     "5803840c061c48e18db73d3bfaeddcee": {
      "model_module": "@jupyter-widgets/base",
      "model_module_version": "1.1.0",
      "model_name": "LayoutModel",
      "state": {}
     },
     "582eae00376b44b894018daf5350ccb0": {
      "model_module": "@jupyter-widgets/controls",
      "model_module_version": "1.4.0",
      "model_name": "HBoxModel",
      "state": {
       "children": [
        "IPY_MODEL_7014d1ab8c00404ca3b1ba0e018dd83c",
        "IPY_MODEL_3ff31148e84d49108a272f5297dfb94b"
       ],
       "layout": "IPY_MODEL_a94ae034c2594351a95a65f202ff29e0"
      }
     },
     "58716d1fa1c44c2dbe7f53b2d1215dc1": {
      "model_module": "@jupyter-widgets/controls",
      "model_module_version": "1.4.0",
      "model_name": "IntProgressModel",
      "state": {
       "layout": "IPY_MODEL_1cab58f7ad6d4f8cb18100cfdb900582",
       "max": 7,
       "style": "IPY_MODEL_624bfb55848b4f9cac674479b5f15c3c"
      }
     },
     "596e481e55c242f3918e389ceb13a821": {
      "model_module": "@jupyter-widgets/controls",
      "model_module_version": "1.4.0",
      "model_name": "ProgressStyleModel",
      "state": {
       "description_width": ""
      }
     },
     "59f7fc04a4314fa198ff9f4a9b03a5ef": {
      "model_module": "@jupyter-widgets/controls",
      "model_module_version": "1.4.0",
      "model_name": "DescriptionStyleModel",
      "state": {
       "description_width": ""
      }
     },
     "5a1c6da03f8643ae8c3524e77c7f3d4d": {
      "model_module": "@jupyter-widgets/controls",
      "model_module_version": "1.4.0",
      "model_name": "IntProgressModel",
      "state": {
       "bar_style": "success",
       "layout": "IPY_MODEL_eaca6f93d3294357aad17b01fa0a7cb3",
       "max": 1000,
       "style": "IPY_MODEL_596e481e55c242f3918e389ceb13a821",
       "value": 1000
      }
     },
     "5aabd6a8c73b42ff8a86b89f44f3680c": {
      "model_module": "@jupyter-widgets/controls",
      "model_module_version": "1.4.0",
      "model_name": "IntProgressModel",
      "state": {
       "bar_style": "danger",
       "layout": "IPY_MODEL_a6fc92192026407c8d6fa321accf2789",
       "max": 5,
       "style": "IPY_MODEL_d5b5146dcf6c45e8a5954710a74174bb",
       "value": 1
      }
     },
     "5aad7559dcf84dfcb4c6f0c01124e3da": {
      "model_module": "@jupyter-widgets/controls",
      "model_module_version": "1.4.0",
      "model_name": "DescriptionStyleModel",
      "state": {
       "description_width": ""
      }
     },
     "5ae7f2030328476b8afffc5e89e33f7e": {
      "model_module": "@jupyter-widgets/controls",
      "model_module_version": "1.4.0",
      "model_name": "HTMLModel",
      "state": {
       "layout": "IPY_MODEL_005f69d1a8ca4e5a801fd7cb6fca946e",
       "style": "IPY_MODEL_3fb843763d6d4f87b305229389a02afa",
       "value": "  0% 0/9 [00:00&lt;?, ?it/s]"
      }
     },
     "5b7cc0a595d1407484ac9bc4a40f3313": {
      "model_module": "@jupyter-widgets/controls",
      "model_module_version": "1.4.0",
      "model_name": "HBoxModel",
      "state": {
       "children": [
        "IPY_MODEL_8d3909bdb2364002a7415ff489675109",
        "IPY_MODEL_8046bf29cf9344469f540a4377780cbd"
       ],
       "layout": "IPY_MODEL_4f5b6950c47b4b0a96222619cfeb2fa9"
      }
     },
     "5bab6c10109c4cd2ae3ea748bab785c9": {
      "model_module": "@jupyter-widgets/controls",
      "model_module_version": "1.4.0",
      "model_name": "HTMLModel",
      "state": {
       "layout": "IPY_MODEL_6a3b63284fa4437ebe3f69cbc00b3e84",
       "style": "IPY_MODEL_88f65d931437408bb86f16d1806353f3",
       "value": "  0% 0/9 [00:00&lt;?, ?it/s]"
      }
     },
     "5bc06c8ce314484bb48d662ab9c17784": {
      "model_module": "@jupyter-widgets/controls",
      "model_module_version": "1.4.0",
      "model_name": "ProgressStyleModel",
      "state": {
       "description_width": ""
      }
     },
     "5da1fc97f0c24b9094aa6c81dffee5d2": {
      "model_module": "@jupyter-widgets/controls",
      "model_module_version": "1.4.0",
      "model_name": "DescriptionStyleModel",
      "state": {
       "description_width": ""
      }
     },
     "5dba2b7af00e47e5a5a8f6649c74e971": {
      "model_module": "@jupyter-widgets/base",
      "model_module_version": "1.1.0",
      "model_name": "LayoutModel",
      "state": {}
     },
     "5dc99d4e69904c58ad4b93c1ac94ada4": {
      "model_module": "@jupyter-widgets/controls",
      "model_module_version": "1.4.0",
      "model_name": "HBoxModel",
      "state": {
       "children": [
        "IPY_MODEL_3f8e76918908498f827d0f19f25562b3",
        "IPY_MODEL_4dbe64d2b4214fdfa1f291889270bd14"
       ],
       "layout": "IPY_MODEL_9783740dc68249fda0931a6fee3b1737"
      }
     },
     "5dd8c4600dc1402b9e4914c4e517c59a": {
      "model_module": "@jupyter-widgets/base",
      "model_module_version": "1.1.0",
      "model_name": "LayoutModel",
      "state": {}
     },
     "5e13bdc873014cd89700402c1d7533f0": {
      "model_module": "@jupyter-widgets/controls",
      "model_module_version": "1.4.0",
      "model_name": "ProgressStyleModel",
      "state": {
       "description_width": ""
      }
     },
     "5e54a669919449bca0775b8099d84887": {
      "model_module": "@jupyter-widgets/controls",
      "model_module_version": "1.4.0",
      "model_name": "ProgressStyleModel",
      "state": {
       "description_width": ""
      }
     },
     "5ea90315ad9142b289c231eabea0c975": {
      "model_module": "@jupyter-widgets/controls",
      "model_module_version": "1.4.0",
      "model_name": "HTMLModel",
      "state": {
       "layout": "IPY_MODEL_a2e34da7c499462696acfda5b0ac2184",
       "style": "IPY_MODEL_31c81ce836914a828e45a59f63448790",
       "value": "100% 1000/1000 [07:13&lt;00:00,  2.31it/s]"
      }
     },
     "5f7b241d6f054e5085e41229c88668a2": {
      "model_module": "@jupyter-widgets/controls",
      "model_module_version": "1.4.0",
      "model_name": "HBoxModel",
      "state": {
       "children": [
        "IPY_MODEL_d07e7eee50094cc18cc47a423eca8a83",
        "IPY_MODEL_abe1ca5309f14eec9627cd6b60bf7e67"
       ],
       "layout": "IPY_MODEL_48b240fbf8d8475e88e4b6449fd06170"
      }
     },
     "5f8059c6fcc8415ea01770a257294e93": {
      "model_module": "@jupyter-widgets/controls",
      "model_module_version": "1.4.0",
      "model_name": "DescriptionStyleModel",
      "state": {
       "description_width": ""
      }
     },
     "5ff451c2c61f46b8910bb24064376872": {
      "model_module": "@jupyter-widgets/controls",
      "model_module_version": "1.4.0",
      "model_name": "IntProgressModel",
      "state": {
       "bar_style": "success",
       "layout": "IPY_MODEL_22e0578f0c31460195863052218cfec5",
       "max": 1000,
       "style": "IPY_MODEL_202b674a509b4604ab8fc13b32c63526",
       "value": 1000
      }
     },
     "60163684da0b46be86c5682771280519": {
      "model_module": "@jupyter-widgets/controls",
      "model_module_version": "1.4.0",
      "model_name": "ProgressStyleModel",
      "state": {
       "description_width": ""
      }
     },
     "603863ad37bf4597a3fe7287bd37ba65": {
      "model_module": "@jupyter-widgets/controls",
      "model_module_version": "1.4.0",
      "model_name": "ProgressStyleModel",
      "state": {
       "description_width": ""
      }
     },
     "604c03bb72a64df8a06ea78f457a5742": {
      "model_module": "@jupyter-widgets/controls",
      "model_module_version": "1.4.0",
      "model_name": "ProgressStyleModel",
      "state": {
       "description_width": ""
      }
     },
     "6066c8f12d924e5ba0f6044c4838351d": {
      "model_module": "@jupyter-widgets/controls",
      "model_module_version": "1.4.0",
      "model_name": "DescriptionStyleModel",
      "state": {
       "description_width": ""
      }
     },
     "60ba32930221402ca2dd8f15abda4992": {
      "model_module": "@jupyter-widgets/base",
      "model_module_version": "1.1.0",
      "model_name": "LayoutModel",
      "state": {}
     },
     "6145803e429746a1972c3f3db91cbc79": {
      "model_module": "@jupyter-widgets/controls",
      "model_module_version": "1.4.0",
      "model_name": "DescriptionStyleModel",
      "state": {
       "description_width": ""
      }
     },
     "617629fefe4a454f84246ec9d01cf0b4": {
      "model_module": "@jupyter-widgets/base",
      "model_module_version": "1.1.0",
      "model_name": "LayoutModel",
      "state": {}
     },
     "61d4cbed8f4d4b05aea97fcb2084377d": {
      "model_module": "@jupyter-widgets/base",
      "model_module_version": "1.1.0",
      "model_name": "LayoutModel",
      "state": {}
     },
     "624bfb55848b4f9cac674479b5f15c3c": {
      "model_module": "@jupyter-widgets/controls",
      "model_module_version": "1.4.0",
      "model_name": "ProgressStyleModel",
      "state": {
       "description_width": ""
      }
     },
     "627440caf29e46cc9367fe6f41387d7b": {
      "model_module": "@jupyter-widgets/base",
      "model_module_version": "1.1.0",
      "model_name": "LayoutModel",
      "state": {}
     },
     "62bd01c0a9014f3e9ab5d5eb8828000e": {
      "model_module": "@jupyter-widgets/base",
      "model_module_version": "1.1.0",
      "model_name": "LayoutModel",
      "state": {}
     },
     "6395f0cb338e42afa8b376f299d3a4aa": {
      "model_module": "@jupyter-widgets/controls",
      "model_module_version": "1.4.0",
      "model_name": "IntProgressModel",
      "state": {
       "bar_style": "success",
       "layout": "IPY_MODEL_b23cd72953cc4b5baff402bfa3ca9acd",
       "max": 1000,
       "style": "IPY_MODEL_ef96f3e7a09f4f5bba305206664f88ad",
       "value": 1000
      }
     },
     "63d166f4c9e84a7682d3b9c21dc002c1": {
      "model_module": "@jupyter-widgets/base",
      "model_module_version": "1.1.0",
      "model_name": "LayoutModel",
      "state": {}
     },
     "64bedbb589b641bebbb9d0f8ec245a73": {
      "model_module": "@jupyter-widgets/controls",
      "model_module_version": "1.4.0",
      "model_name": "HBoxModel",
      "state": {
       "children": [
        "IPY_MODEL_91cc65579a9a43ea8c81a5c511c8172c",
        "IPY_MODEL_291575ffd27d4bf0a2ad5fe36a438aba"
       ],
       "layout": "IPY_MODEL_031ba17719154cd491d0dcaee9e352f5"
      }
     },
     "65058ac09a624ed5a3022e1b2540fe9a": {
      "model_module": "@jupyter-widgets/base",
      "model_module_version": "1.1.0",
      "model_name": "LayoutModel",
      "state": {}
     },
     "651e3baea4e940f5a9c01dccb09e1732": {
      "model_module": "@jupyter-widgets/base",
      "model_module_version": "1.1.0",
      "model_name": "LayoutModel",
      "state": {}
     },
     "66384d8b8b074db3b6988bbdd211b8f5": {
      "model_module": "@jupyter-widgets/base",
      "model_module_version": "1.1.0",
      "model_name": "LayoutModel",
      "state": {}
     },
     "6643d5ffe44d44aaafa6fca602e77aec": {
      "model_module": "@jupyter-widgets/controls",
      "model_module_version": "1.4.0",
      "model_name": "HTMLModel",
      "state": {
       "layout": "IPY_MODEL_c7b69a01678f46bba02b9aa61b76c110",
       "style": "IPY_MODEL_b43dd88d660b4912be90ebca6d7bb754",
       "value": " 11% 1/9 [06:29&lt;51:57, 389.68s/it]"
      }
     },
     "665e17fdcf0948349063aeaf03510ddd": {
      "model_module": "@jupyter-widgets/controls",
      "model_module_version": "1.4.0",
      "model_name": "HBoxModel",
      "state": {
       "children": [
        "IPY_MODEL_40b611e1250d4649b8a68a10af08c9de",
        "IPY_MODEL_773a9eea712843a39f7a2ae0339cd0cb"
       ],
       "layout": "IPY_MODEL_c9c7cf4951594c16a1293da604469740"
      }
     },
     "666b5f05fe664ddba7c7a0f50e6b565d": {
      "model_module": "@jupyter-widgets/base",
      "model_module_version": "1.1.0",
      "model_name": "LayoutModel",
      "state": {}
     },
     "66b47ffa72e54d9c8195beb501cd40b3": {
      "model_module": "@jupyter-widgets/controls",
      "model_module_version": "1.4.0",
      "model_name": "DescriptionStyleModel",
      "state": {
       "description_width": ""
      }
     },
     "674e3e315d5c46dbbf9144035d8578a0": {
      "model_module": "@jupyter-widgets/controls",
      "model_module_version": "1.4.0",
      "model_name": "ProgressStyleModel",
      "state": {
       "description_width": ""
      }
     },
     "67ecfea7424d42f296f71726714301db": {
      "model_module": "@jupyter-widgets/controls",
      "model_module_version": "1.4.0",
      "model_name": "HTMLModel",
      "state": {
       "layout": "IPY_MODEL_df8a0e47257740cb9e48cdd2b105e1a0",
       "style": "IPY_MODEL_c728f2ab63b14e49bb29edec7e2b544f",
       "value": "100% 7/7 [2:09:05&lt;00:00, 1102.40s/it]"
      }
     },
     "686fa2b03dbb48a3bd42c16298e119e2": {
      "model_module": "@jupyter-widgets/controls",
      "model_module_version": "1.4.0",
      "model_name": "ProgressStyleModel",
      "state": {
       "description_width": ""
      }
     },
     "68d8e91ffba140719a8b8737beed8ea9": {
      "model_module": "@jupyter-widgets/base",
      "model_module_version": "1.1.0",
      "model_name": "LayoutModel",
      "state": {}
     },
     "68db9dd080a846d0aff5c63d639113f8": {
      "model_module": "@jupyter-widgets/controls",
      "model_module_version": "1.4.0",
      "model_name": "IntProgressModel",
      "state": {
       "bar_style": "danger",
       "layout": "IPY_MODEL_1dd7bbf9aae74c94af97edc6291cca05",
       "max": 9,
       "style": "IPY_MODEL_ee2c74f05e78400d980de593a922e1a4",
       "value": 1
      }
     },
     "69f74f69d124420cabe7656888c24079": {
      "model_module": "@jupyter-widgets/controls",
      "model_module_version": "1.4.0",
      "model_name": "ProgressStyleModel",
      "state": {
       "description_width": ""
      }
     },
     "6a21c4464f1d40a0a3db97e164e526c2": {
      "model_module": "@jupyter-widgets/controls",
      "model_module_version": "1.4.0",
      "model_name": "ProgressStyleModel",
      "state": {
       "description_width": ""
      }
     },
     "6a36127146f74bc993ccd9d62ce506bf": {
      "model_module": "@jupyter-widgets/controls",
      "model_module_version": "1.4.0",
      "model_name": "IntProgressModel",
      "state": {
       "bar_style": "danger",
       "layout": "IPY_MODEL_157da1fcde7844b0a754ebf121a965f4",
       "max": 7,
       "style": "IPY_MODEL_ef74df99efb44065a498cef782695e99",
       "value": 5
      }
     },
     "6a3b63284fa4437ebe3f69cbc00b3e84": {
      "model_module": "@jupyter-widgets/base",
      "model_module_version": "1.1.0",
      "model_name": "LayoutModel",
      "state": {}
     },
     "6b01b627c3a749259d3e07a943dfcf3c": {
      "model_module": "@jupyter-widgets/controls",
      "model_module_version": "1.4.0",
      "model_name": "HTMLModel",
      "state": {
       "layout": "IPY_MODEL_d0fb0c1a641d4b85913d61b0ac4ad32d",
       "style": "IPY_MODEL_949656359c2c485bacbcca1cf5949d4f",
       "value": "100% 1000/1000 [05:50&lt;00:00,  2.85it/s]"
      }
     },
     "6b41336a72384205ae723335b0fe27bb": {
      "model_module": "@jupyter-widgets/base",
      "model_module_version": "1.1.0",
      "model_name": "LayoutModel",
      "state": {}
     },
     "6c2d937438084042861c5f37af379a7f": {
      "model_module": "@jupyter-widgets/base",
      "model_module_version": "1.1.0",
      "model_name": "LayoutModel",
      "state": {}
     },
     "6c3bd7a368a24c97a1e8088a45037254": {
      "model_module": "@jupyter-widgets/controls",
      "model_module_version": "1.4.0",
      "model_name": "IntProgressModel",
      "state": {
       "bar_style": "success",
       "layout": "IPY_MODEL_e66227156fca41ae9587a57a737c943f",
       "max": 1000,
       "style": "IPY_MODEL_3d6ab7e9eb06426cbfb1070954e1c838",
       "value": 1000
      }
     },
     "6c698288261344b19e1988d99e20dfb4": {
      "model_module": "@jupyter-widgets/base",
      "model_module_version": "1.1.0",
      "model_name": "LayoutModel",
      "state": {}
     },
     "6ca247e9a6724274ade8022ac0649696": {
      "model_module": "@jupyter-widgets/base",
      "model_module_version": "1.1.0",
      "model_name": "LayoutModel",
      "state": {}
     },
     "6d23bb91f7a74ad0b396c4a2c0090db9": {
      "model_module": "@jupyter-widgets/base",
      "model_module_version": "1.1.0",
      "model_name": "LayoutModel",
      "state": {}
     },
     "6d4f598b206c4c36b8bcb1ea2232724d": {
      "model_module": "@jupyter-widgets/base",
      "model_module_version": "1.1.0",
      "model_name": "LayoutModel",
      "state": {}
     },
     "6df2a9b6c0f7417893e1477cb5d4b945": {
      "model_module": "@jupyter-widgets/controls",
      "model_module_version": "1.4.0",
      "model_name": "ProgressStyleModel",
      "state": {
       "description_width": ""
      }
     },
     "6e3131a0c12f4b619d3749f5035aa48e": {
      "model_module": "@jupyter-widgets/base",
      "model_module_version": "1.1.0",
      "model_name": "LayoutModel",
      "state": {}
     },
     "6e332ec349ec4faf9f77b2eea9ce0f3f": {
      "model_module": "@jupyter-widgets/controls",
      "model_module_version": "1.4.0",
      "model_name": "DescriptionStyleModel",
      "state": {
       "description_width": ""
      }
     },
     "6e8c8b6776e74fa5ad4f6eaeea4e0f26": {
      "model_module": "@jupyter-widgets/base",
      "model_module_version": "1.1.0",
      "model_name": "LayoutModel",
      "state": {}
     },
     "6f53b6940c0e4f11a6eadad9aac393d7": {
      "model_module": "@jupyter-widgets/controls",
      "model_module_version": "1.4.0",
      "model_name": "ProgressStyleModel",
      "state": {
       "description_width": ""
      }
     },
     "6f589fa1c2334631b01b6d942383ffec": {
      "model_module": "@jupyter-widgets/controls",
      "model_module_version": "1.4.0",
      "model_name": "HBoxModel",
      "state": {
       "children": [
        "IPY_MODEL_6395f0cb338e42afa8b376f299d3a4aa",
        "IPY_MODEL_eea506f06a2b4aa79f45f9fa0eac92c5"
       ],
       "layout": "IPY_MODEL_e5bc2ae177e1451a91e795ec7d35f89e"
      }
     },
     "6f85de2dcbe44f2b9b98353b911bfe7a": {
      "model_module": "@jupyter-widgets/controls",
      "model_module_version": "1.4.0",
      "model_name": "DescriptionStyleModel",
      "state": {
       "description_width": ""
      }
     },
     "7014d1ab8c00404ca3b1ba0e018dd83c": {
      "model_module": "@jupyter-widgets/controls",
      "model_module_version": "1.4.0",
      "model_name": "IntProgressModel",
      "state": {
       "bar_style": "success",
       "layout": "IPY_MODEL_7b80af562573428a82ff46521b45cf9f",
       "max": 1000,
       "style": "IPY_MODEL_8ef5ad071aba401998b5766989a3ed9c",
       "value": 1000
      }
     },
     "70940138485442338207ded5ee2f2b41": {
      "model_module": "@jupyter-widgets/controls",
      "model_module_version": "1.4.0",
      "model_name": "DescriptionStyleModel",
      "state": {
       "description_width": ""
      }
     },
     "70afacadd178466f8010380b6cc432e1": {
      "model_module": "@jupyter-widgets/controls",
      "model_module_version": "1.4.0",
      "model_name": "IntProgressModel",
      "state": {
       "bar_style": "danger",
       "layout": "IPY_MODEL_d0873a97209b4a738238275477122514",
       "max": 1000,
       "style": "IPY_MODEL_686fa2b03dbb48a3bd42c16298e119e2",
       "value": 39
      }
     },
     "70c5f57845e94df7b72fa5674be9438a": {
      "model_module": "@jupyter-widgets/controls",
      "model_module_version": "1.4.0",
      "model_name": "ProgressStyleModel",
      "state": {
       "description_width": ""
      }
     },
     "71a96f9b1a32433fb00ae7d0e91b19ed": {
      "model_module": "@jupyter-widgets/controls",
      "model_module_version": "1.4.0",
      "model_name": "HBoxModel",
      "state": {
       "children": [
        "IPY_MODEL_f4baca730fe64ad2b2703c247190cb33",
        "IPY_MODEL_1fdf8511d6fb4c17b01991330df84fc7"
       ],
       "layout": "IPY_MODEL_ebec32f40d914d5881e92532d2ce2a27"
      }
     },
     "721e1e790c374b5cbb5168c87a891549": {
      "model_module": "@jupyter-widgets/controls",
      "model_module_version": "1.4.0",
      "model_name": "HTMLModel",
      "state": {
       "layout": "IPY_MODEL_b0ccf2d839a645a081562bffb3c9e8e1",
       "style": "IPY_MODEL_09f53d4d9ec64e3baf8e27b0749fc378",
       "value": "  0% 2/1000 [00:02&lt;18:16,  1.10s/it]"
      }
     },
     "72445b5ef0c04115a0018a27e5c83320": {
      "model_module": "@jupyter-widgets/controls",
      "model_module_version": "1.4.0",
      "model_name": "IntProgressModel",
      "state": {
       "bar_style": "success",
       "layout": "IPY_MODEL_726f2038785d4de98382c959a6c92d7a",
       "max": 1000,
       "style": "IPY_MODEL_603863ad37bf4597a3fe7287bd37ba65",
       "value": 1000
      }
     },
     "724f49056cd04d1a9e0b40365c90373a": {
      "model_module": "@jupyter-widgets/base",
      "model_module_version": "1.1.0",
      "model_name": "LayoutModel",
      "state": {}
     },
     "726f2038785d4de98382c959a6c92d7a": {
      "model_module": "@jupyter-widgets/base",
      "model_module_version": "1.1.0",
      "model_name": "LayoutModel",
      "state": {}
     },
     "72c46b0af6894756815f13525030bbbc": {
      "model_module": "@jupyter-widgets/base",
      "model_module_version": "1.1.0",
      "model_name": "LayoutModel",
      "state": {}
     },
     "7311b856f5594860b69113156851903a": {
      "model_module": "@jupyter-widgets/base",
      "model_module_version": "1.1.0",
      "model_name": "LayoutModel",
      "state": {}
     },
     "7339190696614bb99503daf48082c051": {
      "model_module": "@jupyter-widgets/controls",
      "model_module_version": "1.4.0",
      "model_name": "DescriptionStyleModel",
      "state": {
       "description_width": ""
      }
     },
     "73a39b633e4f49e395a74b3aec9c2a74": {
      "model_module": "@jupyter-widgets/base",
      "model_module_version": "1.1.0",
      "model_name": "LayoutModel",
      "state": {}
     },
     "73bb943aca4b4f24b11f6185f5bfb3be": {
      "model_module": "@jupyter-widgets/controls",
      "model_module_version": "1.4.0",
      "model_name": "ProgressStyleModel",
      "state": {
       "description_width": ""
      }
     },
     "7494fa2b86c5474d9c5c8be2cc9d6e12": {
      "model_module": "@jupyter-widgets/controls",
      "model_module_version": "1.4.0",
      "model_name": "HTMLModel",
      "state": {
       "layout": "IPY_MODEL_83cf0ee7601144abb9e14baf583d082e",
       "style": "IPY_MODEL_77d17b28867146a19936b6303223d5dc",
       "value": " 11% 1/9 [07:48&lt;1:02:29, 468.73s/it]"
      }
     },
     "74f4c03bff224467a1685b2f5386f2da": {
      "model_module": "@jupyter-widgets/controls",
      "model_module_version": "1.4.0",
      "model_name": "ProgressStyleModel",
      "state": {
       "description_width": ""
      }
     },
     "7506ce00d17d48018fff2c9a1154c811": {
      "model_module": "@jupyter-widgets/controls",
      "model_module_version": "1.4.0",
      "model_name": "HTMLModel",
      "state": {
       "layout": "IPY_MODEL_d16cb6e920eb46b4badc2c6c6cffed5d",
       "style": "IPY_MODEL_6145803e429746a1972c3f3db91cbc79",
       "value": "100% 1000/1000 [21:48&lt;00:00,  1.29it/s]"
      }
     },
     "754749bb64e64314ae75fcfcfb39c3cf": {
      "model_module": "@jupyter-widgets/controls",
      "model_module_version": "1.4.0",
      "model_name": "HTMLModel",
      "state": {
       "layout": "IPY_MODEL_769f76b864b94848b13ee3660fce43cb",
       "style": "IPY_MODEL_0ecc1841ba6740bc8194793e21c5476f",
       "value": " 14% 1/7 [00:13&lt;01:20, 13.50s/it]"
      }
     },
     "75d45ee881e74b60801f55fc5374463c": {
      "model_module": "@jupyter-widgets/controls",
      "model_module_version": "1.4.0",
      "model_name": "HTMLModel",
      "state": {
       "layout": "IPY_MODEL_1c6a8cecf3694582a05d9c35437fc549",
       "style": "IPY_MODEL_ff1448a2eea040b2935032e4298803b6",
       "value": "  0% 0/7 [00:00&lt;?, ?it/s]"
      }
     },
     "769f76b864b94848b13ee3660fce43cb": {
      "model_module": "@jupyter-widgets/base",
      "model_module_version": "1.1.0",
      "model_name": "LayoutModel",
      "state": {}
     },
     "76c03c931abb4f439568fe1718cd1d7b": {
      "model_module": "@jupyter-widgets/controls",
      "model_module_version": "1.4.0",
      "model_name": "ProgressStyleModel",
      "state": {
       "description_width": ""
      }
     },
     "773a9eea712843a39f7a2ae0339cd0cb": {
      "model_module": "@jupyter-widgets/controls",
      "model_module_version": "1.4.0",
      "model_name": "HTMLModel",
      "state": {
       "layout": "IPY_MODEL_9a90c70085a24118b65ad2e3235dca34",
       "style": "IPY_MODEL_7339190696614bb99503daf48082c051",
       "value": " 57% 4/7 [00:14&lt;00:11,  3.68s/it]"
      }
     },
     "77c0bb686b534f23b963aab79e3f1708": {
      "model_module": "@jupyter-widgets/base",
      "model_module_version": "1.1.0",
      "model_name": "LayoutModel",
      "state": {}
     },
     "77d17b28867146a19936b6303223d5dc": {
      "model_module": "@jupyter-widgets/controls",
      "model_module_version": "1.4.0",
      "model_name": "DescriptionStyleModel",
      "state": {
       "description_width": ""
      }
     },
     "77e5f6e8b96e43a79efa8969c9bd5154": {
      "model_module": "@jupyter-widgets/base",
      "model_module_version": "1.1.0",
      "model_name": "LayoutModel",
      "state": {}
     },
     "793961f617554c8bbc64cca17343fe12": {
      "model_module": "@jupyter-widgets/base",
      "model_module_version": "1.1.0",
      "model_name": "LayoutModel",
      "state": {}
     },
     "794a58bbba8c472b9e1e2a3a6de490ce": {
      "model_module": "@jupyter-widgets/base",
      "model_module_version": "1.1.0",
      "model_name": "LayoutModel",
      "state": {}
     },
     "79615b6c32d14eaaa9ecf998f4cecdde": {
      "model_module": "@jupyter-widgets/controls",
      "model_module_version": "1.4.0",
      "model_name": "DescriptionStyleModel",
      "state": {
       "description_width": ""
      }
     },
     "79649463ce61423298d2c7d750758e9f": {
      "model_module": "@jupyter-widgets/controls",
      "model_module_version": "1.4.0",
      "model_name": "HBoxModel",
      "state": {
       "children": [
        "IPY_MODEL_074db47e2e314efd80826f7ead809bbc",
        "IPY_MODEL_8db9b7dba6434b17af0f3ea5f5861b21"
       ],
       "layout": "IPY_MODEL_3906355e4a0a4a8eb40e476735894b83"
      }
     },
     "7994489f701744f5a797b2a8e3224d75": {
      "model_module": "@jupyter-widgets/base",
      "model_module_version": "1.1.0",
      "model_name": "LayoutModel",
      "state": {}
     },
     "79f390bd9e53416985f2f81d99ce0bdc": {
      "model_module": "@jupyter-widgets/controls",
      "model_module_version": "1.4.0",
      "model_name": "ProgressStyleModel",
      "state": {
       "description_width": ""
      }
     },
     "7ade4798d6f84f62ae3eb48075293f34": {
      "model_module": "@jupyter-widgets/base",
      "model_module_version": "1.1.0",
      "model_name": "LayoutModel",
      "state": {}
     },
     "7b3ea08dbda144d8a0f79209cc481ee3": {
      "model_module": "@jupyter-widgets/controls",
      "model_module_version": "1.4.0",
      "model_name": "IntProgressModel",
      "state": {
       "bar_style": "danger",
       "layout": "IPY_MODEL_935e6e8733714cc2be9d1a94757a7508",
       "max": 9,
       "style": "IPY_MODEL_674e3e315d5c46dbbf9144035d8578a0",
       "value": 1
      }
     },
     "7b80af562573428a82ff46521b45cf9f": {
      "model_module": "@jupyter-widgets/base",
      "model_module_version": "1.1.0",
      "model_name": "LayoutModel",
      "state": {}
     },
     "7c4b3044cbef41e99d0c78561e34918d": {
      "model_module": "@jupyter-widgets/controls",
      "model_module_version": "1.4.0",
      "model_name": "ProgressStyleModel",
      "state": {
       "description_width": ""
      }
     },
     "7c583fdd089849afbdc6a9abb9c823d2": {
      "model_module": "@jupyter-widgets/controls",
      "model_module_version": "1.4.0",
      "model_name": "ProgressStyleModel",
      "state": {
       "description_width": ""
      }
     },
     "7d098a07f8084d44b9ff7cec96f0b264": {
      "model_module": "@jupyter-widgets/base",
      "model_module_version": "1.1.0",
      "model_name": "LayoutModel",
      "state": {}
     },
     "7d21bae581ec426999736ea222df641c": {
      "model_module": "@jupyter-widgets/controls",
      "model_module_version": "1.4.0",
      "model_name": "ProgressStyleModel",
      "state": {
       "description_width": ""
      }
     },
     "7d335a73db2447208966e47293ccca58": {
      "model_module": "@jupyter-widgets/controls",
      "model_module_version": "1.4.0",
      "model_name": "HBoxModel",
      "state": {
       "children": [
        "IPY_MODEL_fda747fc58f047bea8bf417fbbc26ba7",
        "IPY_MODEL_c64f5c91c73c4e7cb6d35818a3997298"
       ],
       "layout": "IPY_MODEL_ecb64143bd6540e1a0961584baa31b9d"
      }
     },
     "7d9de81234f4435797eefa8152e20f75": {
      "model_module": "@jupyter-widgets/controls",
      "model_module_version": "1.4.0",
      "model_name": "HBoxModel",
      "state": {
       "children": [
        "IPY_MODEL_e3aa8bd8bf2f426f952b0eac69d26950",
        "IPY_MODEL_9b3bd79af31841ae85fbfbbe845608e1"
       ],
       "layout": "IPY_MODEL_1f3b1753d8e3471eb5f154d825c50705"
      }
     },
     "7dd0734d1d1b42b5a1a6a0cdc3b81bb6": {
      "model_module": "@jupyter-widgets/base",
      "model_module_version": "1.1.0",
      "model_name": "LayoutModel",
      "state": {}
     },
     "7e0c1cd2f91f4d6c9bde1d6b1e32e1a0": {
      "model_module": "@jupyter-widgets/base",
      "model_module_version": "1.1.0",
      "model_name": "LayoutModel",
      "state": {}
     },
     "7e251e0bd9e04e399660b11ac8e9ad53": {
      "model_module": "@jupyter-widgets/base",
      "model_module_version": "1.1.0",
      "model_name": "LayoutModel",
      "state": {}
     },
     "7e6a37b6b92e4255b74f686a83efee0e": {
      "model_module": "@jupyter-widgets/controls",
      "model_module_version": "1.4.0",
      "model_name": "DescriptionStyleModel",
      "state": {
       "description_width": ""
      }
     },
     "7f38af1ac4ad4948a73a565eb81129eb": {
      "model_module": "@jupyter-widgets/base",
      "model_module_version": "1.1.0",
      "model_name": "LayoutModel",
      "state": {}
     },
     "7f4eadb73e4b4ff0a8e011e68e65a7cc": {
      "model_module": "@jupyter-widgets/controls",
      "model_module_version": "1.4.0",
      "model_name": "IntProgressModel",
      "state": {
       "bar_style": "danger",
       "layout": "IPY_MODEL_c439286a03b84db7a03865c262c29ba6",
       "max": 9,
       "style": "IPY_MODEL_f3c63218194d4238907f6560c5043c72"
      }
     },
     "7fdb1d851a52415f90140bdaabf15959": {
      "model_module": "@jupyter-widgets/base",
      "model_module_version": "1.1.0",
      "model_name": "LayoutModel",
      "state": {}
     },
     "7fec9b02f2d8426a90053abb59cb1dda": {
      "model_module": "@jupyter-widgets/controls",
      "model_module_version": "1.4.0",
      "model_name": "DescriptionStyleModel",
      "state": {
       "description_width": ""
      }
     },
     "8046bf29cf9344469f540a4377780cbd": {
      "model_module": "@jupyter-widgets/controls",
      "model_module_version": "1.4.0",
      "model_name": "HTMLModel",
      "state": {
       "layout": "IPY_MODEL_62bd01c0a9014f3e9ab5d5eb8828000e",
       "style": "IPY_MODEL_25fdf963c32a4033b5c725a024586c38",
       "value": "100% 1000/1000 [06:06&lt;00:00,  2.72it/s]"
      }
     },
     "80fee2bb77364259a23b2eb09b3e7b72": {
      "model_module": "@jupyter-widgets/controls",
      "model_module_version": "1.4.0",
      "model_name": "HBoxModel",
      "state": {
       "children": [
        "IPY_MODEL_3cc6f5a749b74e268b99ab0b88eb9432",
        "IPY_MODEL_75d45ee881e74b60801f55fc5374463c"
       ],
       "layout": "IPY_MODEL_e5c02ecb865b471c8208623af970257b"
      }
     },
     "82658cb8bafa462fae5bafa033e91abb": {
      "model_module": "@jupyter-widgets/base",
      "model_module_version": "1.1.0",
      "model_name": "LayoutModel",
      "state": {}
     },
     "82989418d5b6432a9a6bce1c82dea695": {
      "model_module": "@jupyter-widgets/controls",
      "model_module_version": "1.4.0",
      "model_name": "DescriptionStyleModel",
      "state": {
       "description_width": ""
      }
     },
     "82d9ecda91f242188d1260210128e993": {
      "model_module": "@jupyter-widgets/controls",
      "model_module_version": "1.4.0",
      "model_name": "IntProgressModel",
      "state": {
       "bar_style": "success",
       "layout": "IPY_MODEL_ea7e3ca4f0dc4948893ce1d6c2d2a922",
       "max": 1000,
       "style": "IPY_MODEL_db7ebaed46ab49dc8c343ecd1c629221",
       "value": 1000
      }
     },
     "830631c8a27543029691c713ae3553c0": {
      "model_module": "@jupyter-widgets/base",
      "model_module_version": "1.1.0",
      "model_name": "LayoutModel",
      "state": {}
     },
     "830b7a80d68f46fd9714a93935100d8e": {
      "model_module": "@jupyter-widgets/controls",
      "model_module_version": "1.4.0",
      "model_name": "HBoxModel",
      "state": {
       "children": [
        "IPY_MODEL_29f820c8613343d19d0ca4f1149dcd5a",
        "IPY_MODEL_272ae41efdfd4f06a2251b0b2ea2135d"
       ],
       "layout": "IPY_MODEL_a7fd094c2efc4eadb2a7f5dbdcc5f491"
      }
     },
     "8355b7c35f36477592374fa02d8cf44b": {
      "model_module": "@jupyter-widgets/controls",
      "model_module_version": "1.4.0",
      "model_name": "HTMLModel",
      "state": {
       "layout": "IPY_MODEL_a011bf3b6d824cbea8b2dbd2bd456bd1",
       "style": "IPY_MODEL_da5e626b62a84e058aeaeefb4e7802a6",
       "value": "100% 1000/1000 [07:27&lt;00:00,  2.23it/s]"
      }
     },
     "83cf0ee7601144abb9e14baf583d082e": {
      "model_module": "@jupyter-widgets/base",
      "model_module_version": "1.1.0",
      "model_name": "LayoutModel",
      "state": {}
     },
     "84da2fcc71864e5d8b961b370ac8a580": {
      "model_module": "@jupyter-widgets/controls",
      "model_module_version": "1.4.0",
      "model_name": "ProgressStyleModel",
      "state": {
       "description_width": ""
      }
     },
     "853cce045e8c4383b859960fb6f2b7d5": {
      "model_module": "@jupyter-widgets/base",
      "model_module_version": "1.1.0",
      "model_name": "LayoutModel",
      "state": {}
     },
     "8663d2551e814539bdde9cdf02452f27": {
      "model_module": "@jupyter-widgets/base",
      "model_module_version": "1.1.0",
      "model_name": "LayoutModel",
      "state": {}
     },
     "8675c439487a4afc928f6979f8e4b669": {
      "model_module": "@jupyter-widgets/controls",
      "model_module_version": "1.4.0",
      "model_name": "HBoxModel",
      "state": {
       "children": [
        "IPY_MODEL_a806eee7b53a4a78a72e12b94827085e",
        "IPY_MODEL_173682dbd0be4d1eb57444674e33a129"
       ],
       "layout": "IPY_MODEL_651e3baea4e940f5a9c01dccb09e1732"
      }
     },
     "867a210d4a9745d9ba363f7dd31cc032": {
      "model_module": "@jupyter-widgets/controls",
      "model_module_version": "1.4.0",
      "model_name": "DescriptionStyleModel",
      "state": {
       "description_width": ""
      }
     },
     "86845ac6fd6d4597a17d9859794d6715": {
      "model_module": "@jupyter-widgets/controls",
      "model_module_version": "1.4.0",
      "model_name": "HTMLModel",
      "state": {
       "layout": "IPY_MODEL_0c4fecadf26748609e2d434efc8fbeb2",
       "style": "IPY_MODEL_2ab4f7f93b8d4493b3b2933ae207e19f",
       "value": "  3% 27/1000 [00:09&lt;06:36,  2.45it/s]"
      }
     },
     "874ab0867bb14e8bb3f359c4e65e6213": {
      "model_module": "@jupyter-widgets/controls",
      "model_module_version": "1.4.0",
      "model_name": "DescriptionStyleModel",
      "state": {
       "description_width": ""
      }
     },
     "87c3cc28c6f14a40b2e70fabe5246251": {
      "model_module": "@jupyter-widgets/controls",
      "model_module_version": "1.4.0",
      "model_name": "DescriptionStyleModel",
      "state": {
       "description_width": ""
      }
     },
     "87ed1fe92f4443acb50adbd408319160": {
      "model_module": "@jupyter-widgets/controls",
      "model_module_version": "1.4.0",
      "model_name": "IntProgressModel",
      "state": {
       "bar_style": "success",
       "layout": "IPY_MODEL_008d4d8735454fd2bace55c40a8dd37c",
       "max": 1000,
       "style": "IPY_MODEL_e77cd8f2dac442f895a35f60299c9537",
       "value": 1000
      }
     },
     "88edc730b2c14ac0967152a3ba26230a": {
      "model_module": "@jupyter-widgets/base",
      "model_module_version": "1.1.0",
      "model_name": "LayoutModel",
      "state": {}
     },
     "88f65d931437408bb86f16d1806353f3": {
      "model_module": "@jupyter-widgets/controls",
      "model_module_version": "1.4.0",
      "model_name": "DescriptionStyleModel",
      "state": {
       "description_width": ""
      }
     },
     "897450cd069549d3b9602a724cf621fa": {
      "model_module": "@jupyter-widgets/base",
      "model_module_version": "1.1.0",
      "model_name": "LayoutModel",
      "state": {}
     },
     "8ad1ad6855034358ae658afeb0d61830": {
      "model_module": "@jupyter-widgets/base",
      "model_module_version": "1.1.0",
      "model_name": "LayoutModel",
      "state": {}
     },
     "8c2732f10dd34088984315721e0783e9": {
      "model_module": "@jupyter-widgets/base",
      "model_module_version": "1.1.0",
      "model_name": "LayoutModel",
      "state": {}
     },
     "8cf19cfb350b4ea2b5c8e230d6205f3f": {
      "model_module": "@jupyter-widgets/base",
      "model_module_version": "1.1.0",
      "model_name": "LayoutModel",
      "state": {}
     },
     "8d2d20b69a01404c8f3317e7d470afba": {
      "model_module": "@jupyter-widgets/base",
      "model_module_version": "1.1.0",
      "model_name": "LayoutModel",
      "state": {}
     },
     "8d3909bdb2364002a7415ff489675109": {
      "model_module": "@jupyter-widgets/controls",
      "model_module_version": "1.4.0",
      "model_name": "IntProgressModel",
      "state": {
       "bar_style": "success",
       "layout": "IPY_MODEL_f2ea566bdf79455bbfb31b3e2b28b870",
       "max": 1000,
       "style": "IPY_MODEL_e134d47b0ac8413da811daa4374b1a27",
       "value": 1000
      }
     },
     "8d69812e1341446692e0b40e2763f26d": {
      "model_module": "@jupyter-widgets/base",
      "model_module_version": "1.1.0",
      "model_name": "LayoutModel",
      "state": {}
     },
     "8da117a2e2e74a58af67b87a67ec123d": {
      "model_module": "@jupyter-widgets/controls",
      "model_module_version": "1.4.0",
      "model_name": "HBoxModel",
      "state": {
       "children": [
        "IPY_MODEL_10e20b4449f5421090c853c4a5aa3547",
        "IPY_MODEL_2e64d5fc4e50415e9c0fddedea067988"
       ],
       "layout": "IPY_MODEL_5803840c061c48e18db73d3bfaeddcee"
      }
     },
     "8db31ef2b302445d86eba34cc19d794c": {
      "model_module": "@jupyter-widgets/controls",
      "model_module_version": "1.4.0",
      "model_name": "DescriptionStyleModel",
      "state": {
       "description_width": ""
      }
     },
     "8db9b7dba6434b17af0f3ea5f5861b21": {
      "model_module": "@jupyter-widgets/controls",
      "model_module_version": "1.4.0",
      "model_name": "HTMLModel",
      "state": {
       "layout": "IPY_MODEL_07d94746cb4d4b229781adbcad815947",
       "style": "IPY_MODEL_bcba57f3230b4162bfdfac2d477da736",
       "value": " 33% 3/9 [25:10&lt;48:04, 480.68s/it]"
      }
     },
     "8dd4c209e21840f1a46294fbd92c16bc": {
      "model_module": "@jupyter-widgets/controls",
      "model_module_version": "1.4.0",
      "model_name": "HTMLModel",
      "state": {
       "layout": "IPY_MODEL_794a58bbba8c472b9e1e2a3a6de490ce",
       "style": "IPY_MODEL_82989418d5b6432a9a6bce1c82dea695",
       "value": " 44% 438/1000 [02:53&lt;05:36,  1.67it/s]"
      }
     },
     "8df2b4fee5244fc6b1f095f5bcbbbde8": {
      "model_module": "@jupyter-widgets/base",
      "model_module_version": "1.1.0",
      "model_name": "LayoutModel",
      "state": {}
     },
     "8e5985370ab54116ab8c87f2527f8ae6": {
      "model_module": "@jupyter-widgets/controls",
      "model_module_version": "1.4.0",
      "model_name": "DescriptionStyleModel",
      "state": {
       "description_width": ""
      }
     },
     "8e83cfe2a73e443d916c54938260ef53": {
      "model_module": "@jupyter-widgets/controls",
      "model_module_version": "1.4.0",
      "model_name": "ProgressStyleModel",
      "state": {
       "description_width": ""
      }
     },
     "8ed9b98d54a0456c8a8f38f6470c7af9": {
      "model_module": "@jupyter-widgets/controls",
      "model_module_version": "1.4.0",
      "model_name": "IntProgressModel",
      "state": {
       "bar_style": "danger",
       "layout": "IPY_MODEL_42b49f6fc62d45478619e1db74cec27e",
       "max": 1000,
       "style": "IPY_MODEL_e48bf5d9d301482b988dc529e77e36af",
       "value": 52
      }
     },
     "8ef5ad071aba401998b5766989a3ed9c": {
      "model_module": "@jupyter-widgets/controls",
      "model_module_version": "1.4.0",
      "model_name": "ProgressStyleModel",
      "state": {
       "description_width": ""
      }
     },
     "8febbba5ee22475b89b1a676d62ce771": {
      "model_module": "@jupyter-widgets/base",
      "model_module_version": "1.1.0",
      "model_name": "LayoutModel",
      "state": {}
     },
     "90bdf8fa74fc4626b26e1953f2a64f6d": {
      "model_module": "@jupyter-widgets/base",
      "model_module_version": "1.1.0",
      "model_name": "LayoutModel",
      "state": {}
     },
     "919805033c0f49f5ab3a18205f77f7f5": {
      "model_module": "@jupyter-widgets/controls",
      "model_module_version": "1.4.0",
      "model_name": "ProgressStyleModel",
      "state": {
       "description_width": ""
      }
     },
     "91cc65579a9a43ea8c81a5c511c8172c": {
      "model_module": "@jupyter-widgets/controls",
      "model_module_version": "1.4.0",
      "model_name": "IntProgressModel",
      "state": {
       "bar_style": "success",
       "layout": "IPY_MODEL_ae7db60100484290b77ca7eca2b4e863",
       "max": 1000,
       "style": "IPY_MODEL_ed50f993d6434dbcb796c3547785dafe",
       "value": 1000
      }
     },
     "91f4406aa8c04cf29d86017e69c937bd": {
      "model_module": "@jupyter-widgets/base",
      "model_module_version": "1.1.0",
      "model_name": "LayoutModel",
      "state": {}
     },
     "92b2d5fdf9284a10b554d56551240630": {
      "model_module": "@jupyter-widgets/controls",
      "model_module_version": "1.4.0",
      "model_name": "IntProgressModel",
      "state": {
       "bar_style": "success",
       "layout": "IPY_MODEL_436c31577fee4a958a348f3dc50d5535",
       "max": 1000,
       "style": "IPY_MODEL_19369b95022442c98f36cc70ae7e70d5",
       "value": 1000
      }
     },
     "9301ef934755453fb7901c51f262f229": {
      "model_module": "@jupyter-widgets/base",
      "model_module_version": "1.1.0",
      "model_name": "LayoutModel",
      "state": {}
     },
     "935e6e8733714cc2be9d1a94757a7508": {
      "model_module": "@jupyter-widgets/base",
      "model_module_version": "1.1.0",
      "model_name": "LayoutModel",
      "state": {}
     },
     "93b191d0f9fc46c58471c4fba4e5e4d0": {
      "model_module": "@jupyter-widgets/base",
      "model_module_version": "1.1.0",
      "model_name": "LayoutModel",
      "state": {}
     },
     "9434e67b807a4ac29325226c6c6cf9d3": {
      "model_module": "@jupyter-widgets/controls",
      "model_module_version": "1.4.0",
      "model_name": "IntProgressModel",
      "state": {
       "bar_style": "success",
       "layout": "IPY_MODEL_4bdba0de974c49159e886967d4304490",
       "max": 1000,
       "style": "IPY_MODEL_69f74f69d124420cabe7656888c24079",
       "value": 1000
      }
     },
     "94466831a6544aec9adb9f5f9a2f8544": {
      "model_module": "@jupyter-widgets/base",
      "model_module_version": "1.1.0",
      "model_name": "LayoutModel",
      "state": {}
     },
     "9464de07a3f54cb882431f731518df84": {
      "model_module": "@jupyter-widgets/base",
      "model_module_version": "1.1.0",
      "model_name": "LayoutModel",
      "state": {}
     },
     "9466f16329294909a24f11a8fc8ffea8": {
      "model_module": "@jupyter-widgets/base",
      "model_module_version": "1.1.0",
      "model_name": "LayoutModel",
      "state": {}
     },
     "947eae90b4e4480da83910a75a71d6b7": {
      "model_module": "@jupyter-widgets/controls",
      "model_module_version": "1.4.0",
      "model_name": "HBoxModel",
      "state": {
       "children": [
        "IPY_MODEL_0a0474086f134f6a9e1bc04b12cb2338",
        "IPY_MODEL_fd6c82fd3f974ecebec4245b09c12250"
       ],
       "layout": "IPY_MODEL_4d6ad46a35264bc196521f35532b798d"
      }
     },
     "949656359c2c485bacbcca1cf5949d4f": {
      "model_module": "@jupyter-widgets/controls",
      "model_module_version": "1.4.0",
      "model_name": "DescriptionStyleModel",
      "state": {
       "description_width": ""
      }
     },
     "949e628e77db449db6094cf836d4145a": {
      "model_module": "@jupyter-widgets/base",
      "model_module_version": "1.1.0",
      "model_name": "LayoutModel",
      "state": {}
     },
     "94c76c51a95246e4ae40607fd329d4ad": {
      "model_module": "@jupyter-widgets/base",
      "model_module_version": "1.1.0",
      "model_name": "LayoutModel",
      "state": {}
     },
     "94cce2e87fa040fc8729aab7726a1f95": {
      "model_module": "@jupyter-widgets/base",
      "model_module_version": "1.1.0",
      "model_name": "LayoutModel",
      "state": {}
     },
     "94e0378361f840ec98c9a00042513347": {
      "model_module": "@jupyter-widgets/controls",
      "model_module_version": "1.4.0",
      "model_name": "ProgressStyleModel",
      "state": {
       "description_width": ""
      }
     },
     "9538d95c29004f3fa6595aa65bba9c35": {
      "model_module": "@jupyter-widgets/controls",
      "model_module_version": "1.4.0",
      "model_name": "HTMLModel",
      "state": {
       "layout": "IPY_MODEL_01462e00c0324a84aa329bd6dfb68c70",
       "style": "IPY_MODEL_6e332ec349ec4faf9f77b2eea9ce0f3f",
       "value": "100% 1000/1000 [04:12&lt;00:00,  3.96it/s]"
      }
     },
     "9578e320aa5c46d897e7896669c1460d": {
      "model_module": "@jupyter-widgets/controls",
      "model_module_version": "1.4.0",
      "model_name": "IntProgressModel",
      "state": {
       "bar_style": "success",
       "layout": "IPY_MODEL_389403a81046406b9bbd8ce7ec34cce5",
       "max": 1000,
       "style": "IPY_MODEL_acf427bdc7304e6bbc1831eb486faec5",
       "value": 1000
      }
     },
     "95f5a37edfd348f9a57d8058a6fc4c05": {
      "model_module": "@jupyter-widgets/base",
      "model_module_version": "1.1.0",
      "model_name": "LayoutModel",
      "state": {}
     },
     "9659a3605f0e47e783cb442a29b9848b": {
      "model_module": "@jupyter-widgets/base",
      "model_module_version": "1.1.0",
      "model_name": "LayoutModel",
      "state": {}
     },
     "96e39ef547514edbb529552f20396fb7": {
      "model_module": "@jupyter-widgets/base",
      "model_module_version": "1.1.0",
      "model_name": "LayoutModel",
      "state": {}
     },
     "9783740dc68249fda0931a6fee3b1737": {
      "model_module": "@jupyter-widgets/base",
      "model_module_version": "1.1.0",
      "model_name": "LayoutModel",
      "state": {}
     },
     "980b7b8feff84986947c51ea564e27e7": {
      "model_module": "@jupyter-widgets/controls",
      "model_module_version": "1.4.0",
      "model_name": "IntProgressModel",
      "state": {
       "bar_style": "danger",
       "layout": "IPY_MODEL_c10b033358c84a7ea1c98aab1d7a9db8",
       "max": 8,
       "style": "IPY_MODEL_1579ae2c781049c49a7a088ac0a90d20"
      }
     },
     "98b5183a6fdd414888abaa4f12d98b5e": {
      "model_module": "@jupyter-widgets/controls",
      "model_module_version": "1.4.0",
      "model_name": "DescriptionStyleModel",
      "state": {
       "description_width": ""
      }
     },
     "98baf4311c99404f93ab3660e594ccb2": {
      "model_module": "@jupyter-widgets/base",
      "model_module_version": "1.1.0",
      "model_name": "LayoutModel",
      "state": {}
     },
     "98cab84b955041f4b6841b72bde655d4": {
      "model_module": "@jupyter-widgets/base",
      "model_module_version": "1.1.0",
      "model_name": "LayoutModel",
      "state": {}
     },
     "990d6e400e3646b7ad145f3911a097d0": {
      "model_module": "@jupyter-widgets/controls",
      "model_module_version": "1.4.0",
      "model_name": "ProgressStyleModel",
      "state": {
       "description_width": ""
      }
     },
     "99a7d62acad44c348829a805705f5635": {
      "model_module": "@jupyter-widgets/base",
      "model_module_version": "1.1.0",
      "model_name": "LayoutModel",
      "state": {}
     },
     "99ab4408edca412d84a0a878bbf1bd50": {
      "model_module": "@jupyter-widgets/controls",
      "model_module_version": "1.4.0",
      "model_name": "DescriptionStyleModel",
      "state": {
       "description_width": ""
      }
     },
     "99e8c24c8a9b459cab149b392c16965c": {
      "model_module": "@jupyter-widgets/controls",
      "model_module_version": "1.4.0",
      "model_name": "IntProgressModel",
      "state": {
       "bar_style": "success",
       "layout": "IPY_MODEL_45f6906cef1843b28612c10dffa501b4",
       "max": 1000,
       "style": "IPY_MODEL_a233e1366c3a48b58becc7a9087faa99",
       "value": 1000
      }
     },
     "9a4d162a0301487fa3a4282d054d6701": {
      "model_module": "@jupyter-widgets/controls",
      "model_module_version": "1.4.0",
      "model_name": "HTMLModel",
      "state": {
       "layout": "IPY_MODEL_8c2732f10dd34088984315721e0783e9",
       "style": "IPY_MODEL_39f01739a0a64084a7da3baf1f90a4d2",
       "value": "100% 1000/1000 [1:00:15&lt;00:00,  5.02s/it]"
      }
     },
     "9a69c44338734e4f8cf05870850619ee": {
      "model_module": "@jupyter-widgets/controls",
      "model_module_version": "1.4.0",
      "model_name": "HBoxModel",
      "state": {
       "children": [
        "IPY_MODEL_2ea94c4c7c7d45fab2bb99e4ac9701d8",
        "IPY_MODEL_a0dc566ab9d04986b57e6564d4c4297c"
       ],
       "layout": "IPY_MODEL_bec9eb06e07145d1807f1aaf7a77db87"
      }
     },
     "9a7895020d80474385140f1abade273c": {
      "model_module": "@jupyter-widgets/controls",
      "model_module_version": "1.4.0",
      "model_name": "IntProgressModel",
      "state": {
       "bar_style": "success",
       "layout": "IPY_MODEL_479658dc55554757b0257fe0b1d7aae1",
       "max": 1000,
       "style": "IPY_MODEL_ccb9053348064a1fb180de0011435ea3",
       "value": 1000
      }
     },
     "9a90c70085a24118b65ad2e3235dca34": {
      "model_module": "@jupyter-widgets/base",
      "model_module_version": "1.1.0",
      "model_name": "LayoutModel",
      "state": {}
     },
     "9b097514b4594ae4b6f9c6f63e58ead6": {
      "model_module": "@jupyter-widgets/base",
      "model_module_version": "1.1.0",
      "model_name": "LayoutModel",
      "state": {}
     },
     "9b3bd79af31841ae85fbfbbe845608e1": {
      "model_module": "@jupyter-widgets/controls",
      "model_module_version": "1.4.0",
      "model_name": "HTMLModel",
      "state": {
       "layout": "IPY_MODEL_17f317b908b94af296b23bb372b985bc",
       "style": "IPY_MODEL_b235bf50c8fd4bc686fb27c3cdc6e7a4",
       "value": "100% 1000/1000 [07:49&lt;00:00,  2.13it/s]"
      }
     },
     "9b4ebe9647ff495abc9364c645cdc40b": {
      "model_module": "@jupyter-widgets/controls",
      "model_module_version": "1.4.0",
      "model_name": "HBoxModel",
      "state": {
       "children": [
        "IPY_MODEL_f957d0b4dd234852a0cf1b8f8d6a426f",
        "IPY_MODEL_754749bb64e64314ae75fcfcfb39c3cf"
       ],
       "layout": "IPY_MODEL_66384d8b8b074db3b6988bbdd211b8f5"
      }
     },
     "9b76ba842feb4a338ee9e69167da911c": {
      "model_module": "@jupyter-widgets/controls",
      "model_module_version": "1.4.0",
      "model_name": "ProgressStyleModel",
      "state": {
       "description_width": ""
      }
     },
     "9bd0fb2e2eb94278a5a6f32e4aa90d06": {
      "model_module": "@jupyter-widgets/controls",
      "model_module_version": "1.4.0",
      "model_name": "HBoxModel",
      "state": {
       "children": [
        "IPY_MODEL_1624f7f8aa424dbe95187cc81a5196e4",
        "IPY_MODEL_5bab6c10109c4cd2ae3ea748bab785c9"
       ],
       "layout": "IPY_MODEL_fcd0a111c245459096f559fb752cbf66"
      }
     },
     "9c550f6999394983a70b559d5aac445d": {
      "model_module": "@jupyter-widgets/controls",
      "model_module_version": "1.4.0",
      "model_name": "IntProgressModel",
      "state": {
       "bar_style": "success",
       "layout": "IPY_MODEL_55b10e228efb4b088515a63f8de9d5f8",
       "max": 7,
       "style": "IPY_MODEL_a4699077907a474f94cccca30c3bae04",
       "value": 7
      }
     },
     "9dab3b19177a45d188447406acd8db41": {
      "model_module": "@jupyter-widgets/controls",
      "model_module_version": "1.4.0",
      "model_name": "HBoxModel",
      "state": {
       "children": [
        "IPY_MODEL_f3c52c6b6616482eba988aaedab1a230",
        "IPY_MODEL_4c153dec3fa443928ba0485b7830486c"
       ],
       "layout": "IPY_MODEL_1fd8d6a5cd7344c894775ad2fe1dde2c"
      }
     },
     "9dad1238c56e42fd9066121027a30aa6": {
      "model_module": "@jupyter-widgets/base",
      "model_module_version": "1.1.0",
      "model_name": "LayoutModel",
      "state": {}
     },
     "9e00945b979b44ec8373f15402c0faa3": {
      "model_module": "@jupyter-widgets/base",
      "model_module_version": "1.1.0",
      "model_name": "LayoutModel",
      "state": {}
     },
     "9f21598af35c4f389473b30aaae284c4": {
      "model_module": "@jupyter-widgets/controls",
      "model_module_version": "1.4.0",
      "model_name": "ProgressStyleModel",
      "state": {
       "description_width": ""
      }
     },
     "9f8a939677284fefb650adacd684f577": {
      "model_module": "@jupyter-widgets/base",
      "model_module_version": "1.1.0",
      "model_name": "LayoutModel",
      "state": {}
     },
     "a011bf3b6d824cbea8b2dbd2bd456bd1": {
      "model_module": "@jupyter-widgets/base",
      "model_module_version": "1.1.0",
      "model_name": "LayoutModel",
      "state": {}
     },
     "a08c8121a982465fbeb1e2562963815a": {
      "model_module": "@jupyter-widgets/base",
      "model_module_version": "1.1.0",
      "model_name": "LayoutModel",
      "state": {}
     },
     "a0dc566ab9d04986b57e6564d4c4297c": {
      "model_module": "@jupyter-widgets/controls",
      "model_module_version": "1.4.0",
      "model_name": "HTMLModel",
      "state": {
       "layout": "IPY_MODEL_f1f86de23a754697837a671b497f974c",
       "style": "IPY_MODEL_98b5183a6fdd414888abaa4f12d98b5e",
       "value": "100% 1000/1000 [1:33:40&lt;00:00,  5.62s/it]"
      }
     },
     "a18171dbb42e401ba54e297d69edc49e": {
      "model_module": "@jupyter-widgets/controls",
      "model_module_version": "1.4.0",
      "model_name": "IntProgressModel",
      "state": {
       "bar_style": "danger",
       "layout": "IPY_MODEL_329770ba0c8a43bc95d86714ced18af2",
       "max": 7,
       "style": "IPY_MODEL_262c991b4ecd4c8287ce5c56373ac54c"
      }
     },
     "a1874290efef4f1294d0fd18b66a22f5": {
      "model_module": "@jupyter-widgets/controls",
      "model_module_version": "1.4.0",
      "model_name": "ProgressStyleModel",
      "state": {
       "description_width": ""
      }
     },
     "a1bd6e74e9384685a6c134c23d9461a2": {
      "model_module": "@jupyter-widgets/controls",
      "model_module_version": "1.4.0",
      "model_name": "DescriptionStyleModel",
      "state": {
       "description_width": ""
      }
     },
     "a1c4c19c9f124f1983e36a2ddf009f83": {
      "model_module": "@jupyter-widgets/controls",
      "model_module_version": "1.4.0",
      "model_name": "DescriptionStyleModel",
      "state": {
       "description_width": ""
      }
     },
     "a1e06bd72ed34a648390533b20865ddd": {
      "model_module": "@jupyter-widgets/controls",
      "model_module_version": "1.4.0",
      "model_name": "ProgressStyleModel",
      "state": {
       "description_width": ""
      }
     },
     "a20d0ae433c24cbb999c89b2c25b0a41": {
      "model_module": "@jupyter-widgets/base",
      "model_module_version": "1.1.0",
      "model_name": "LayoutModel",
      "state": {}
     },
     "a233e1366c3a48b58becc7a9087faa99": {
      "model_module": "@jupyter-widgets/controls",
      "model_module_version": "1.4.0",
      "model_name": "ProgressStyleModel",
      "state": {
       "description_width": ""
      }
     },
     "a2e0c9adbca94fe7bc82193dfa03d93b": {
      "model_module": "@jupyter-widgets/controls",
      "model_module_version": "1.4.0",
      "model_name": "HTMLModel",
      "state": {
       "layout": "IPY_MODEL_0875c5efb33f4b9d983a50e29f8e2466",
       "style": "IPY_MODEL_3b4538d79100449a87918c565085a334",
       "value": "100% 1000/1000 [1:24:29&lt;00:00,  3.89s/it]"
      }
     },
     "a2e34da7c499462696acfda5b0ac2184": {
      "model_module": "@jupyter-widgets/base",
      "model_module_version": "1.1.0",
      "model_name": "LayoutModel",
      "state": {}
     },
     "a2f3f4d3d57d4c16b64191e188c0cd07": {
      "model_module": "@jupyter-widgets/base",
      "model_module_version": "1.1.0",
      "model_name": "LayoutModel",
      "state": {}
     },
     "a2f72159614a46c7b9c48509dc9f1c4d": {
      "model_module": "@jupyter-widgets/controls",
      "model_module_version": "1.4.0",
      "model_name": "HTMLModel",
      "state": {
       "layout": "IPY_MODEL_b6223735bb91474f8c1342c72d996219",
       "style": "IPY_MODEL_110897d52207478e8b69f1771d268b1e",
       "value": "100% 1000/1000 [14:12&lt;00:00,  1.04s/it]"
      }
     },
     "a3197ed48ef5498e8ab708a33a16efd5": {
      "model_module": "@jupyter-widgets/base",
      "model_module_version": "1.1.0",
      "model_name": "LayoutModel",
      "state": {}
     },
     "a3268668f65e4e9683833e3080d32407": {
      "model_module": "@jupyter-widgets/controls",
      "model_module_version": "1.4.0",
      "model_name": "ProgressStyleModel",
      "state": {
       "description_width": ""
      }
     },
     "a344a460f49c4a2bb5fa563979aa2df1": {
      "model_module": "@jupyter-widgets/controls",
      "model_module_version": "1.4.0",
      "model_name": "DescriptionStyleModel",
      "state": {
       "description_width": ""
      }
     },
     "a4699077907a474f94cccca30c3bae04": {
      "model_module": "@jupyter-widgets/controls",
      "model_module_version": "1.4.0",
      "model_name": "ProgressStyleModel",
      "state": {
       "description_width": ""
      }
     },
     "a4dc6e4e23f3470ca7ac055ea21ee8ed": {
      "model_module": "@jupyter-widgets/controls",
      "model_module_version": "1.4.0",
      "model_name": "IntProgressModel",
      "state": {
       "bar_style": "success",
       "layout": "IPY_MODEL_af7ae01f209d4d68937e16074cdb3440",
       "max": 1000,
       "style": "IPY_MODEL_042a979d095b4e20b2c90d9eb5703aec",
       "value": 1000
      }
     },
     "a508f03725b04d0c8a7bc1847a5d6f64": {
      "model_module": "@jupyter-widgets/controls",
      "model_module_version": "1.4.0",
      "model_name": "DescriptionStyleModel",
      "state": {
       "description_width": ""
      }
     },
     "a54bfef775d54bf9b1313cabfa61e36f": {
      "model_module": "@jupyter-widgets/controls",
      "model_module_version": "1.4.0",
      "model_name": "HTMLModel",
      "state": {
       "layout": "IPY_MODEL_1c5de5d6e7374427af7ac059f0d6c838",
       "style": "IPY_MODEL_3f89cd5ef98e44648841c74eda738171",
       "value": "100% 1000/1000 [08:08&lt;00:00,  1.28it/s]"
      }
     },
     "a54c4313cbf6491db3e1052ca569ac3c": {
      "model_module": "@jupyter-widgets/controls",
      "model_module_version": "1.4.0",
      "model_name": "HTMLModel",
      "state": {
       "layout": "IPY_MODEL_b2edc46daeca488bbf17c0d2739b3bd4",
       "style": "IPY_MODEL_0fbe2959626141c994298712c63b0871",
       "value": "100% 1000/1000 [06:00&lt;00:00,  2.77it/s]"
      }
     },
     "a573fd8d58344ce594067e6e9ddd93d6": {
      "model_module": "@jupyter-widgets/controls",
      "model_module_version": "1.4.0",
      "model_name": "ProgressStyleModel",
      "state": {
       "description_width": ""
      }
     },
     "a5776cf1372a45d2a146a4329f303c75": {
      "model_module": "@jupyter-widgets/controls",
      "model_module_version": "1.4.0",
      "model_name": "ProgressStyleModel",
      "state": {
       "description_width": ""
      }
     },
     "a58eb084782944c8adcf3bd7ea4c64f3": {
      "model_module": "@jupyter-widgets/controls",
      "model_module_version": "1.4.0",
      "model_name": "IntProgressModel",
      "state": {
       "bar_style": "success",
       "layout": "IPY_MODEL_e37f80a6231444fe98850c70910fa56d",
       "max": 1000,
       "style": "IPY_MODEL_73bb943aca4b4f24b11f6185f5bfb3be",
       "value": 1000
      }
     },
     "a60d390497474166ae7b8739af1d6737": {
      "model_module": "@jupyter-widgets/controls",
      "model_module_version": "1.4.0",
      "model_name": "HBoxModel",
      "state": {
       "children": [
        "IPY_MODEL_1802709165a346668ec142f92be95fef",
        "IPY_MODEL_d8cb04642ac54b8bb3b997d2e807d919"
       ],
       "layout": "IPY_MODEL_8ad1ad6855034358ae658afeb0d61830"
      }
     },
     "a64c9194101647e1a78cd0570f92ea37": {
      "model_module": "@jupyter-widgets/controls",
      "model_module_version": "1.4.0",
      "model_name": "IntProgressModel",
      "state": {
       "bar_style": "danger",
       "layout": "IPY_MODEL_22422a4087fa442e99a254a1a322cf11",
       "max": 1000,
       "style": "IPY_MODEL_3acc7307a2d7416ba69a028f389a3853",
       "value": 2
      }
     },
     "a6d366e9c72949e18e0f5e59aa417a3a": {
      "model_module": "@jupyter-widgets/controls",
      "model_module_version": "1.4.0",
      "model_name": "HTMLModel",
      "state": {
       "layout": "IPY_MODEL_d78c79ade1514afa84b0a2e146568ae4",
       "style": "IPY_MODEL_5da1fc97f0c24b9094aa6c81dffee5d2",
       "value": "100% 1000/1000 [08:45&lt;00:00,  1.90it/s]"
      }
     },
     "a6fc92192026407c8d6fa321accf2789": {
      "model_module": "@jupyter-widgets/base",
      "model_module_version": "1.1.0",
      "model_name": "LayoutModel",
      "state": {}
     },
     "a74785e37d0441e8a7fb3f71ec79a40d": {
      "model_module": "@jupyter-widgets/controls",
      "model_module_version": "1.4.0",
      "model_name": "ProgressStyleModel",
      "state": {
       "description_width": ""
      }
     },
     "a7721b58cb074e498325ff94927d8bd8": {
      "model_module": "@jupyter-widgets/controls",
      "model_module_version": "1.4.0",
      "model_name": "HTMLModel",
      "state": {
       "layout": "IPY_MODEL_e4ae2ad334c54563af3a6e6a70dabcda",
       "style": "IPY_MODEL_c22f350ea29a430a8fb00f7970707ba9",
       "value": "100% 1000/1000 [08:26&lt;00:00,  1.98it/s]"
      }
     },
     "a7fd094c2efc4eadb2a7f5dbdcc5f491": {
      "model_module": "@jupyter-widgets/base",
      "model_module_version": "1.1.0",
      "model_name": "LayoutModel",
      "state": {}
     },
     "a806eee7b53a4a78a72e12b94827085e": {
      "model_module": "@jupyter-widgets/controls",
      "model_module_version": "1.4.0",
      "model_name": "IntProgressModel",
      "state": {
       "bar_style": "success",
       "layout": "IPY_MODEL_5dd8c4600dc1402b9e4914c4e517c59a",
       "max": 1000,
       "style": "IPY_MODEL_a5776cf1372a45d2a146a4329f303c75",
       "value": 1000
      }
     },
     "a878cb87a456444892ddbc9eb080eae3": {
      "model_module": "@jupyter-widgets/base",
      "model_module_version": "1.1.0",
      "model_name": "LayoutModel",
      "state": {}
     },
     "a8cf37144c314a70a2c0a6a85785993a": {
      "model_module": "@jupyter-widgets/controls",
      "model_module_version": "1.4.0",
      "model_name": "IntProgressModel",
      "state": {
       "bar_style": "success",
       "layout": "IPY_MODEL_8663d2551e814539bdde9cdf02452f27",
       "max": 1000,
       "style": "IPY_MODEL_221b686be3ca4fe58dde0d1e95007877",
       "value": 1000
      }
     },
     "a94ae034c2594351a95a65f202ff29e0": {
      "model_module": "@jupyter-widgets/base",
      "model_module_version": "1.1.0",
      "model_name": "LayoutModel",
      "state": {}
     },
     "a99d7edbe4ef4337b536c630f4000c93": {
      "model_module": "@jupyter-widgets/base",
      "model_module_version": "1.1.0",
      "model_name": "LayoutModel",
      "state": {}
     },
     "a9d739bc896743b1a52b1d62068dba1f": {
      "model_module": "@jupyter-widgets/controls",
      "model_module_version": "1.4.0",
      "model_name": "ProgressStyleModel",
      "state": {
       "description_width": ""
      }
     },
     "aa1b55d8661c4f6eb77fdc55accb4d60": {
      "model_module": "@jupyter-widgets/controls",
      "model_module_version": "1.4.0",
      "model_name": "HBoxModel",
      "state": {
       "children": [
        "IPY_MODEL_bc092caca761438cb62cb2d8930c2814",
        "IPY_MODEL_13f9ea0c6949413fbeebef273bdc0351"
       ],
       "layout": "IPY_MODEL_8cf19cfb350b4ea2b5c8e230d6205f3f"
      }
     },
     "aaff0c8ebfbe4a679e715f697ab80711": {
      "model_module": "@jupyter-widgets/base",
      "model_module_version": "1.1.0",
      "model_name": "LayoutModel",
      "state": {}
     },
     "ab2ee84624c04b5eb65a7abf32536963": {
      "model_module": "@jupyter-widgets/controls",
      "model_module_version": "1.4.0",
      "model_name": "IntProgressModel",
      "state": {
       "bar_style": "success",
       "layout": "IPY_MODEL_7ade4798d6f84f62ae3eb48075293f34",
       "max": 1000,
       "style": "IPY_MODEL_cf8a45b72fc7476588f4b71b6cf44e57",
       "value": 1000
      }
     },
     "ab6c054e2111472480762863cd3f23f6": {
      "model_module": "@jupyter-widgets/controls",
      "model_module_version": "1.4.0",
      "model_name": "HTMLModel",
      "state": {
       "layout": "IPY_MODEL_2c62f44c36fb468396a6a37f2230b6e6",
       "style": "IPY_MODEL_d7275d16e4c242b98fc4d75930254ed8",
       "value": "  0% 0/9 [00:00&lt;?, ?it/s]"
      }
     },
     "ab9aa7f9df7441c8ade68909eb88a2a5": {
      "model_module": "@jupyter-widgets/base",
      "model_module_version": "1.1.0",
      "model_name": "LayoutModel",
      "state": {}
     },
     "abe1ca5309f14eec9627cd6b60bf7e67": {
      "model_module": "@jupyter-widgets/controls",
      "model_module_version": "1.4.0",
      "model_name": "HTMLModel",
      "state": {
       "layout": "IPY_MODEL_8d2d20b69a01404c8f3317e7d470afba",
       "style": "IPY_MODEL_a1c4c19c9f124f1983e36a2ddf009f83",
       "value": "  0% 0/7 [00:00&lt;?, ?it/s]"
      }
     },
     "abfbb55b118f40eba3151e4b6cdd11f3": {
      "model_module": "@jupyter-widgets/controls",
      "model_module_version": "1.4.0",
      "model_name": "HBoxModel",
      "state": {
       "children": [
        "IPY_MODEL_bf047e3b718642529005333eb8a925c9",
        "IPY_MODEL_9538d95c29004f3fa6595aa65bba9c35"
       ],
       "layout": "IPY_MODEL_256f110d43d84f66b316e70d632d2128"
      }
     },
     "ac75e70b84cd44d68fb05ed1dc193328": {
      "model_module": "@jupyter-widgets/controls",
      "model_module_version": "1.4.0",
      "model_name": "ProgressStyleModel",
      "state": {
       "description_width": ""
      }
     },
     "ac7cd125173245e4a6b89fa41bce1f55": {
      "model_module": "@jupyter-widgets/controls",
      "model_module_version": "1.4.0",
      "model_name": "HBoxModel",
      "state": {
       "children": [
        "IPY_MODEL_9434e67b807a4ac29325226c6c6cf9d3",
        "IPY_MODEL_34dc2b4c71d4432bb66451ee8306c9a4"
       ],
       "layout": "IPY_MODEL_d511c3440903408b97a636170587c55e"
      }
     },
     "acf427bdc7304e6bbc1831eb486faec5": {
      "model_module": "@jupyter-widgets/controls",
      "model_module_version": "1.4.0",
      "model_name": "ProgressStyleModel",
      "state": {
       "description_width": ""
      }
     },
     "ad3bbf6a56da461681cb045dee42edb4": {
      "model_module": "@jupyter-widgets/base",
      "model_module_version": "1.1.0",
      "model_name": "LayoutModel",
      "state": {}
     },
     "ad7dae0e5ec642e7a1122312fd9a36c2": {
      "model_module": "@jupyter-widgets/base",
      "model_module_version": "1.1.0",
      "model_name": "LayoutModel",
      "state": {}
     },
     "ae30237d189346bb8ecc6bd8203382b5": {
      "model_module": "@jupyter-widgets/controls",
      "model_module_version": "1.4.0",
      "model_name": "HBoxModel",
      "state": {
       "children": [
        "IPY_MODEL_f6c2bc5de0a342abb2af79af937714d0",
        "IPY_MODEL_f42502da141a46b3826b1aaac75a7afa"
       ],
       "layout": "IPY_MODEL_dd32dd94ec72430a88b8a27b3fd2b9eb"
      }
     },
     "ae7db60100484290b77ca7eca2b4e863": {
      "model_module": "@jupyter-widgets/base",
      "model_module_version": "1.1.0",
      "model_name": "LayoutModel",
      "state": {}
     },
     "af309408933e4158b26c2694f9e05ec1": {
      "model_module": "@jupyter-widgets/base",
      "model_module_version": "1.1.0",
      "model_name": "LayoutModel",
      "state": {}
     },
     "af4154cbe6624748bcfaa3840de0944f": {
      "model_module": "@jupyter-widgets/controls",
      "model_module_version": "1.4.0",
      "model_name": "HBoxModel",
      "state": {
       "children": [
        "IPY_MODEL_99e8c24c8a9b459cab149b392c16965c",
        "IPY_MODEL_1034f8ae73d24e1ca1c8791e1a9ab8fd"
       ],
       "layout": "IPY_MODEL_8df2b4fee5244fc6b1f095f5bcbbbde8"
      }
     },
     "af7ae01f209d4d68937e16074cdb3440": {
      "model_module": "@jupyter-widgets/base",
      "model_module_version": "1.1.0",
      "model_name": "LayoutModel",
      "state": {}
     },
     "afa5bfc5831f4813b82c3253c21b442f": {
      "model_module": "@jupyter-widgets/base",
      "model_module_version": "1.1.0",
      "model_name": "LayoutModel",
      "state": {}
     },
     "afaae4d8e86c47b18774cbc2f2ba65be": {
      "model_module": "@jupyter-widgets/base",
      "model_module_version": "1.1.0",
      "model_name": "LayoutModel",
      "state": {}
     },
     "afead7e6c91246b4a79a6860bcff8ef3": {
      "model_module": "@jupyter-widgets/controls",
      "model_module_version": "1.4.0",
      "model_name": "DescriptionStyleModel",
      "state": {
       "description_width": ""
      }
     },
     "b0ccf2d839a645a081562bffb3c9e8e1": {
      "model_module": "@jupyter-widgets/base",
      "model_module_version": "1.1.0",
      "model_name": "LayoutModel",
      "state": {}
     },
     "b0e6a054e58b488994df91a7f39e8671": {
      "model_module": "@jupyter-widgets/controls",
      "model_module_version": "1.4.0",
      "model_name": "HBoxModel",
      "state": {
       "children": [
        "IPY_MODEL_58716d1fa1c44c2dbe7f53b2d1215dc1",
        "IPY_MODEL_1b73c65495b849189b7bb2679f554e7c"
       ],
       "layout": "IPY_MODEL_44afcd37bc4e4df49c1e0bcc27b9ef76"
      }
     },
     "b1207f498b4e41b0a50be0384ed0cd43": {
      "model_module": "@jupyter-widgets/controls",
      "model_module_version": "1.4.0",
      "model_name": "HBoxModel",
      "state": {
       "children": [
        "IPY_MODEL_b3f87025e109401dacccd31a2f2b3c07",
        "IPY_MODEL_c72de18493a7419d809e776622a46c7c"
       ],
       "layout": "IPY_MODEL_421735d760bf4d068910859d579f37da"
      }
     },
     "b1a911cd3df44d76a93c67559d8443dc": {
      "model_module": "@jupyter-widgets/base",
      "model_module_version": "1.1.0",
      "model_name": "LayoutModel",
      "state": {}
     },
     "b1aed6d28d0e4e53a9451e86283699b6": {
      "model_module": "@jupyter-widgets/controls",
      "model_module_version": "1.4.0",
      "model_name": "HBoxModel",
      "state": {
       "children": [
        "IPY_MODEL_1d529273f37f45e5b953782506cd4d51",
        "IPY_MODEL_47d6f78374de4ab09a1958a55517a5a2"
       ],
       "layout": "IPY_MODEL_4a8d7a6d59bf4737b47a51f0943668bb"
      }
     },
     "b235bf50c8fd4bc686fb27c3cdc6e7a4": {
      "model_module": "@jupyter-widgets/controls",
      "model_module_version": "1.4.0",
      "model_name": "DescriptionStyleModel",
      "state": {
       "description_width": ""
      }
     },
     "b23cd72953cc4b5baff402bfa3ca9acd": {
      "model_module": "@jupyter-widgets/base",
      "model_module_version": "1.1.0",
      "model_name": "LayoutModel",
      "state": {}
     },
     "b2a18f7240c64cf1988f6681859dc220": {
      "model_module": "@jupyter-widgets/controls",
      "model_module_version": "1.4.0",
      "model_name": "DescriptionStyleModel",
      "state": {
       "description_width": ""
      }
     },
     "b2edc46daeca488bbf17c0d2739b3bd4": {
      "model_module": "@jupyter-widgets/base",
      "model_module_version": "1.1.0",
      "model_name": "LayoutModel",
      "state": {}
     },
     "b33e2b7da6a049fd82c234d540152c00": {
      "model_module": "@jupyter-widgets/controls",
      "model_module_version": "1.4.0",
      "model_name": "HTMLModel",
      "state": {
       "layout": "IPY_MODEL_ea9460aee8c34f1cb43ba3fae64caebb",
       "style": "IPY_MODEL_6066c8f12d924e5ba0f6044c4838351d",
       "value": "100% 1000/1000 [05:46&lt;00:00,  2.89it/s]"
      }
     },
     "b358f51f88a04d3d8a1145171e81e219": {
      "model_module": "@jupyter-widgets/controls",
      "model_module_version": "1.4.0",
      "model_name": "IntProgressModel",
      "state": {
       "bar_style": "success",
       "layout": "IPY_MODEL_4cdf92756f1549738f76b6898a213f8b",
       "max": 1000,
       "style": "IPY_MODEL_cf01378db9b74de488f9843ce3c59210",
       "value": 1000
      }
     },
     "b35ff59d985b4d5082ba61ea2200e3a5": {
      "model_module": "@jupyter-widgets/base",
      "model_module_version": "1.1.0",
      "model_name": "LayoutModel",
      "state": {}
     },
     "b3f87025e109401dacccd31a2f2b3c07": {
      "model_module": "@jupyter-widgets/controls",
      "model_module_version": "1.4.0",
      "model_name": "IntProgressModel",
      "state": {
       "bar_style": "success",
       "layout": "IPY_MODEL_a20d0ae433c24cbb999c89b2c25b0a41",
       "max": 1000,
       "style": "IPY_MODEL_e29592a60d1d4ba38f68c9dc1f0a05c1",
       "value": 1000
      }
     },
     "b42b6312ad4946b7bcfa642bca57535e": {
      "model_module": "@jupyter-widgets/base",
      "model_module_version": "1.1.0",
      "model_name": "LayoutModel",
      "state": {}
     },
     "b43dd88d660b4912be90ebca6d7bb754": {
      "model_module": "@jupyter-widgets/controls",
      "model_module_version": "1.4.0",
      "model_name": "DescriptionStyleModel",
      "state": {
       "description_width": ""
      }
     },
     "b48ecf4fdba545298f097a5ef114365f": {
      "model_module": "@jupyter-widgets/controls",
      "model_module_version": "1.4.0",
      "model_name": "ProgressStyleModel",
      "state": {
       "description_width": ""
      }
     },
     "b5dbbe2fa4b544f9bd5a4779e05f8660": {
      "model_module": "@jupyter-widgets/controls",
      "model_module_version": "1.4.0",
      "model_name": "DescriptionStyleModel",
      "state": {
       "description_width": ""
      }
     },
     "b5dec5c0910842cabd0a45febfaa887a": {
      "model_module": "@jupyter-widgets/controls",
      "model_module_version": "1.4.0",
      "model_name": "DescriptionStyleModel",
      "state": {
       "description_width": ""
      }
     },
     "b6223735bb91474f8c1342c72d996219": {
      "model_module": "@jupyter-widgets/base",
      "model_module_version": "1.1.0",
      "model_name": "LayoutModel",
      "state": {}
     },
     "b6cd4f375ce345c78ec3b67013123265": {
      "model_module": "@jupyter-widgets/base",
      "model_module_version": "1.1.0",
      "model_name": "LayoutModel",
      "state": {}
     },
     "b72a014383fa471b8f8a259307be16ff": {
      "model_module": "@jupyter-widgets/base",
      "model_module_version": "1.1.0",
      "model_name": "LayoutModel",
      "state": {}
     },
     "b7443723583f4a5b87e38a5dd05c397d": {
      "model_module": "@jupyter-widgets/controls",
      "model_module_version": "1.4.0",
      "model_name": "IntProgressModel",
      "state": {
       "bar_style": "danger",
       "layout": "IPY_MODEL_571ce38688a0488ba5fb7b62f261e22f",
       "max": 1000,
       "style": "IPY_MODEL_919805033c0f49f5ab3a18205f77f7f5",
       "value": 27
      }
     },
     "b7e9c0356c1c482ebb137281a5a635c5": {
      "model_module": "@jupyter-widgets/base",
      "model_module_version": "1.1.0",
      "model_name": "LayoutModel",
      "state": {}
     },
     "b7f9bda9542d4bebac0ccd7ea26c3564": {
      "model_module": "@jupyter-widgets/controls",
      "model_module_version": "1.4.0",
      "model_name": "HBoxModel",
      "state": {
       "children": [
        "IPY_MODEL_5057275e130543aba5c79e435a2a9e85",
        "IPY_MODEL_f5b0d56fb1fe429f911d82d43ba36448"
       ],
       "layout": "IPY_MODEL_6c698288261344b19e1988d99e20dfb4"
      }
     },
     "b83296668a824526a5cb0a92e9c29c62": {
      "model_module": "@jupyter-widgets/controls",
      "model_module_version": "1.4.0",
      "model_name": "ProgressStyleModel",
      "state": {
       "description_width": ""
      }
     },
     "b87368e572e04fdf8cc1c756e04709c8": {
      "model_module": "@jupyter-widgets/controls",
      "model_module_version": "1.4.0",
      "model_name": "IntProgressModel",
      "state": {
       "bar_style": "success",
       "layout": "IPY_MODEL_96e39ef547514edbb529552f20396fb7",
       "max": 5,
       "style": "IPY_MODEL_b83296668a824526a5cb0a92e9c29c62",
       "value": 5
      }
     },
     "b8845e54cf6d4f7d812e2b67c254c6ef": {
      "model_module": "@jupyter-widgets/base",
      "model_module_version": "1.1.0",
      "model_name": "LayoutModel",
      "state": {}
     },
     "b9afcf7f21804f418e1672f84a05725b": {
      "model_module": "@jupyter-widgets/base",
      "model_module_version": "1.1.0",
      "model_name": "LayoutModel",
      "state": {}
     },
     "b9e940673ea041a78f8728a4c05311c2": {
      "model_module": "@jupyter-widgets/controls",
      "model_module_version": "1.4.0",
      "model_name": "DescriptionStyleModel",
      "state": {
       "description_width": ""
      }
     },
     "ba161e6f3f614ff39c20dae535a0c57d": {
      "model_module": "@jupyter-widgets/controls",
      "model_module_version": "1.4.0",
      "model_name": "HBoxModel",
      "state": {
       "children": [
        "IPY_MODEL_a18171dbb42e401ba54e297d69edc49e",
        "IPY_MODEL_cc6755916ed642fa999b87fd59b073b4"
       ],
       "layout": "IPY_MODEL_ad3bbf6a56da461681cb045dee42edb4"
      }
     },
     "ba19d6e9d03545a987ed2a2be7cf8d94": {
      "model_module": "@jupyter-widgets/controls",
      "model_module_version": "1.4.0",
      "model_name": "DescriptionStyleModel",
      "state": {
       "description_width": ""
      }
     },
     "ba6152a58d714815b7579faafd4a9ab8": {
      "model_module": "@jupyter-widgets/controls",
      "model_module_version": "1.4.0",
      "model_name": "HBoxModel",
      "state": {
       "children": [
        "IPY_MODEL_bb93ffcd6c4f46d8bb8d50e38f4ed702",
        "IPY_MODEL_500470c6262f4b16a1c63a8f115fdca3"
       ],
       "layout": "IPY_MODEL_a3197ed48ef5498e8ab708a33a16efd5"
      }
     },
     "ba79fb194d4749239bc89f95088d7cbb": {
      "model_module": "@jupyter-widgets/controls",
      "model_module_version": "1.4.0",
      "model_name": "HTMLModel",
      "state": {
       "layout": "IPY_MODEL_1c6c28f38fcd4468aca99d8f04965420",
       "style": "IPY_MODEL_c2a89ee62f834495abb664c97013c1c2",
       "value": "100% 1000/1000 [14:58&lt;00:00,  1.42s/it]"
      }
     },
     "baac05ffc6a04221b874f9b7557b7a63": {
      "model_module": "@jupyter-widgets/base",
      "model_module_version": "1.1.0",
      "model_name": "LayoutModel",
      "state": {}
     },
     "bb25e6cdcbde49ebbebea5ff2c74f051": {
      "model_module": "@jupyter-widgets/controls",
      "model_module_version": "1.4.0",
      "model_name": "DescriptionStyleModel",
      "state": {
       "description_width": ""
      }
     },
     "bb93ffcd6c4f46d8bb8d50e38f4ed702": {
      "model_module": "@jupyter-widgets/controls",
      "model_module_version": "1.4.0",
      "model_name": "IntProgressModel",
      "state": {
       "bar_style": "success",
       "layout": "IPY_MODEL_2bb8eb1699f043e39bfdcf3ccb191c5b",
       "max": 1000,
       "style": "IPY_MODEL_ac75e70b84cd44d68fb05ed1dc193328",
       "value": 1000
      }
     },
     "bb99ddd88d0e4235ac753fecb3af99d6": {
      "model_module": "@jupyter-widgets/controls",
      "model_module_version": "1.4.0",
      "model_name": "IntProgressModel",
      "state": {
       "bar_style": "success",
       "layout": "IPY_MODEL_f5ab0f8dc65c4ad4acaf9d94b3a620d9",
       "max": 1000,
       "style": "IPY_MODEL_6df2a9b6c0f7417893e1477cb5d4b945",
       "value": 1000
      }
     },
     "bc092caca761438cb62cb2d8930c2814": {
      "model_module": "@jupyter-widgets/controls",
      "model_module_version": "1.4.0",
      "model_name": "IntProgressModel",
      "state": {
       "bar_style": "success",
       "layout": "IPY_MODEL_ded6baef49c64cc09aa026699396f684",
       "max": 1000,
       "style": "IPY_MODEL_c1aa428927bd4f4db13d1ef1a93627e3",
       "value": 1000
      }
     },
     "bc3861ff1f71414dac23db09bc70c8e2": {
      "model_module": "@jupyter-widgets/base",
      "model_module_version": "1.1.0",
      "model_name": "LayoutModel",
      "state": {}
     },
     "bcac246113984f24b2ab0100c49d9feb": {
      "model_module": "@jupyter-widgets/base",
      "model_module_version": "1.1.0",
      "model_name": "LayoutModel",
      "state": {}
     },
     "bcba57f3230b4162bfdfac2d477da736": {
      "model_module": "@jupyter-widgets/controls",
      "model_module_version": "1.4.0",
      "model_name": "DescriptionStyleModel",
      "state": {
       "description_width": ""
      }
     },
     "bcd9d526f36f4fff8ea162bcdcaaf060": {
      "model_module": "@jupyter-widgets/controls",
      "model_module_version": "1.4.0",
      "model_name": "HBoxModel",
      "state": {
       "children": [
        "IPY_MODEL_159fc507e8f842db9272b0b45f871b7d",
        "IPY_MODEL_f687915a8b724c7a88384c3c0c1ded25"
       ],
       "layout": "IPY_MODEL_05f2293d766d4b14a0458a0a6798311d"
      }
     },
     "bd13ae2c970c4d32b5a262fd0177c540": {
      "model_module": "@jupyter-widgets/base",
      "model_module_version": "1.1.0",
      "model_name": "LayoutModel",
      "state": {}
     },
     "bd238f96346f450cb97f8b40c59cc8e3": {
      "model_module": "@jupyter-widgets/controls",
      "model_module_version": "1.4.0",
      "model_name": "HBoxModel",
      "state": {
       "children": [
        "IPY_MODEL_5359678eb6e747dcb8fdb54aed37d283",
        "IPY_MODEL_e655ee94e94a47818a8868407d01affb"
       ],
       "layout": "IPY_MODEL_f5d2e5b5457d41f290c26ebcbcd3bf54"
      }
     },
     "bdaf528932ab4abe8e4e3391d4ddba3e": {
      "model_module": "@jupyter-widgets/base",
      "model_module_version": "1.1.0",
      "model_name": "LayoutModel",
      "state": {}
     },
     "be13da9efa75471ea8c71e94cc927cf5": {
      "model_module": "@jupyter-widgets/controls",
      "model_module_version": "1.4.0",
      "model_name": "IntProgressModel",
      "state": {
       "bar_style": "success",
       "layout": "IPY_MODEL_f567221ae0cc42049e865986083aec6e",
       "max": 1000,
       "style": "IPY_MODEL_9f21598af35c4f389473b30aaae284c4",
       "value": 1000
      }
     },
     "be6f4cb4e69f4b559fecd75715bb6f92": {
      "model_module": "@jupyter-widgets/controls",
      "model_module_version": "1.4.0",
      "model_name": "HTMLModel",
      "state": {
       "layout": "IPY_MODEL_fdeea0f093954eb29b4fc82917af97fe",
       "style": "IPY_MODEL_e9d18707aed8451da2f30816cb84e2e1",
       "value": "100% 1000/1000 [08:21&lt;00:00,  1.22it/s]"
      }
     },
     "bec5b569dc04457fbdbd775c7e758690": {
      "model_module": "@jupyter-widgets/base",
      "model_module_version": "1.1.0",
      "model_name": "LayoutModel",
      "state": {}
     },
     "bec9eb06e07145d1807f1aaf7a77db87": {
      "model_module": "@jupyter-widgets/base",
      "model_module_version": "1.1.0",
      "model_name": "LayoutModel",
      "state": {}
     },
     "bf047e3b718642529005333eb8a925c9": {
      "model_module": "@jupyter-widgets/controls",
      "model_module_version": "1.4.0",
      "model_name": "IntProgressModel",
      "state": {
       "bar_style": "success",
       "layout": "IPY_MODEL_303f924dbce14260b2be60d94dc319b7",
       "max": 1000,
       "style": "IPY_MODEL_a9d739bc896743b1a52b1d62068dba1f",
       "value": 1000
      }
     },
     "bf5b50652c0c4f38b5bcfa21f9326527": {
      "model_module": "@jupyter-widgets/controls",
      "model_module_version": "1.4.0",
      "model_name": "ProgressStyleModel",
      "state": {
       "description_width": ""
      }
     },
     "bf9c862dbb504a229181a45c9560b968": {
      "model_module": "@jupyter-widgets/controls",
      "model_module_version": "1.4.0",
      "model_name": "HTMLModel",
      "state": {
       "layout": "IPY_MODEL_94c76c51a95246e4ae40607fd329d4ad",
       "style": "IPY_MODEL_347c861a1b8d4ef49756afd541ff5423",
       "value": "100% 1000/1000 [05:55&lt;00:00,  2.98it/s]"
      }
     },
     "c046dc4df3aa437f97bd932c844ae476": {
      "model_module": "@jupyter-widgets/controls",
      "model_module_version": "1.4.0",
      "model_name": "HBoxModel",
      "state": {
       "children": [
        "IPY_MODEL_c6221a4bcade4a588f54c98ad5019807",
        "IPY_MODEL_07493b25a6304fb68d951ec0e9f44ce4"
       ],
       "layout": "IPY_MODEL_327f3d635ca84d699b55ea8a9cdf2345"
      }
     },
     "c0d383080e8447c4a890210d5e499bcb": {
      "model_module": "@jupyter-widgets/controls",
      "model_module_version": "1.4.0",
      "model_name": "DescriptionStyleModel",
      "state": {
       "description_width": ""
      }
     },
     "c10b033358c84a7ea1c98aab1d7a9db8": {
      "model_module": "@jupyter-widgets/base",
      "model_module_version": "1.1.0",
      "model_name": "LayoutModel",
      "state": {}
     },
     "c1aa428927bd4f4db13d1ef1a93627e3": {
      "model_module": "@jupyter-widgets/controls",
      "model_module_version": "1.4.0",
      "model_name": "ProgressStyleModel",
      "state": {
       "description_width": ""
      }
     },
     "c1e89a1c364947f598012fb9bcb90579": {
      "model_module": "@jupyter-widgets/controls",
      "model_module_version": "1.4.0",
      "model_name": "ProgressStyleModel",
      "state": {
       "description_width": ""
      }
     },
     "c22f350ea29a430a8fb00f7970707ba9": {
      "model_module": "@jupyter-widgets/controls",
      "model_module_version": "1.4.0",
      "model_name": "DescriptionStyleModel",
      "state": {
       "description_width": ""
      }
     },
     "c269af3e61cd43c3bbd408c26f8c0dd9": {
      "model_module": "@jupyter-widgets/base",
      "model_module_version": "1.1.0",
      "model_name": "LayoutModel",
      "state": {}
     },
     "c2a89ee62f834495abb664c97013c1c2": {
      "model_module": "@jupyter-widgets/controls",
      "model_module_version": "1.4.0",
      "model_name": "DescriptionStyleModel",
      "state": {
       "description_width": ""
      }
     },
     "c311018a835e45dfa189663fb892b844": {
      "model_module": "@jupyter-widgets/controls",
      "model_module_version": "1.4.0",
      "model_name": "HBoxModel",
      "state": {
       "children": [
        "IPY_MODEL_e5e9ee97317047f2a42ae6150bc79661",
        "IPY_MODEL_520c8d218ac7489791143327cf17a573"
       ],
       "layout": "IPY_MODEL_df09da9cdeb74384b0e7b281cf15b090"
      }
     },
     "c331f67d976945678808a6d44a3f240a": {
      "model_module": "@jupyter-widgets/controls",
      "model_module_version": "1.4.0",
      "model_name": "HBoxModel",
      "state": {
       "children": [
        "IPY_MODEL_036b5e47b973417f8e8d446fa2f18af4",
        "IPY_MODEL_310f5bac63264ba9875cb1e64291a043"
       ],
       "layout": "IPY_MODEL_77c0bb686b534f23b963aab79e3f1708"
      }
     },
     "c39d1d5ea4b34259a479f6b915aee7e2": {
      "model_module": "@jupyter-widgets/controls",
      "model_module_version": "1.4.0",
      "model_name": "HTMLModel",
      "state": {
       "layout": "IPY_MODEL_b72a014383fa471b8f8a259307be16ff",
       "style": "IPY_MODEL_50679aaaa5e94e53943048612a5d1b30",
       "value": "100% 1000/1000 [07:16&lt;00:00,  2.29it/s]"
      }
     },
     "c3b6c777557d48b7b21014f80f352d81": {
      "model_module": "@jupyter-widgets/base",
      "model_module_version": "1.1.0",
      "model_name": "LayoutModel",
      "state": {}
     },
     "c3fd81cc34f94019bccffeec6fb4cab4": {
      "model_module": "@jupyter-widgets/base",
      "model_module_version": "1.1.0",
      "model_name": "LayoutModel",
      "state": {}
     },
     "c439286a03b84db7a03865c262c29ba6": {
      "model_module": "@jupyter-widgets/base",
      "model_module_version": "1.1.0",
      "model_name": "LayoutModel",
      "state": {}
     },
     "c4e78e084e574501bf599225a6120ae8": {
      "model_module": "@jupyter-widgets/base",
      "model_module_version": "1.1.0",
      "model_name": "LayoutModel",
      "state": {}
     },
     "c508f1ff331e4cfc8b9e09c133e880a5": {
      "model_module": "@jupyter-widgets/controls",
      "model_module_version": "1.4.0",
      "model_name": "ProgressStyleModel",
      "state": {
       "description_width": ""
      }
     },
     "c6221a4bcade4a588f54c98ad5019807": {
      "model_module": "@jupyter-widgets/controls",
      "model_module_version": "1.4.0",
      "model_name": "IntProgressModel",
      "state": {
       "bar_style": "success",
       "layout": "IPY_MODEL_a99d7edbe4ef4337b536c630f4000c93",
       "max": 5,
       "style": "IPY_MODEL_f90e314df1064860b2afe5448a13ec1f",
       "value": 5
      }
     },
     "c62db7dee7664290a971ee6443f37ab6": {
      "model_module": "@jupyter-widgets/base",
      "model_module_version": "1.1.0",
      "model_name": "LayoutModel",
      "state": {}
     },
     "c64f5c91c73c4e7cb6d35818a3997298": {
      "model_module": "@jupyter-widgets/controls",
      "model_module_version": "1.4.0",
      "model_name": "HTMLModel",
      "state": {
       "layout": "IPY_MODEL_e1021a2c1411468b9e5202471b9d7edd",
       "style": "IPY_MODEL_4ff73cf2692848beb6882ccaabff6b28",
       "value": "100% 1000/1000 [02:52&lt;00:00,  5.81it/s]"
      }
     },
     "c696eefb49164444ba7c3156371be585": {
      "model_module": "@jupyter-widgets/base",
      "model_module_version": "1.1.0",
      "model_name": "LayoutModel",
      "state": {}
     },
     "c6b5f0239fca4c9ab00eb75dd4bcfb0f": {
      "model_module": "@jupyter-widgets/controls",
      "model_module_version": "1.4.0",
      "model_name": "DescriptionStyleModel",
      "state": {
       "description_width": ""
      }
     },
     "c6e01c5611414521b0ddd121a43247f6": {
      "model_module": "@jupyter-widgets/controls",
      "model_module_version": "1.4.0",
      "model_name": "HBoxModel",
      "state": {
       "children": [
        "IPY_MODEL_a8cf37144c314a70a2c0a6a85785993a",
        "IPY_MODEL_a2e0c9adbca94fe7bc82193dfa03d93b"
       ],
       "layout": "IPY_MODEL_bcac246113984f24b2ab0100c49d9feb"
      }
     },
     "c728f2ab63b14e49bb29edec7e2b544f": {
      "model_module": "@jupyter-widgets/controls",
      "model_module_version": "1.4.0",
      "model_name": "DescriptionStyleModel",
      "state": {
       "description_width": ""
      }
     },
     "c72de18493a7419d809e776622a46c7c": {
      "model_module": "@jupyter-widgets/controls",
      "model_module_version": "1.4.0",
      "model_name": "HTMLModel",
      "state": {
       "layout": "IPY_MODEL_318b44c3101c4f16b73a7d26703523fb",
       "style": "IPY_MODEL_8e5985370ab54116ab8c87f2527f8ae6",
       "value": "100% 1000/1000 [05:19&lt;00:00,  3.13it/s]"
      }
     },
     "c75d56564bdb421db9f271c2f5c6691f": {
      "model_module": "@jupyter-widgets/base",
      "model_module_version": "1.1.0",
      "model_name": "LayoutModel",
      "state": {}
     },
     "c7adc6bc33464561920d8cc9ac8f289d": {
      "model_module": "@jupyter-widgets/controls",
      "model_module_version": "1.4.0",
      "model_name": "HTMLModel",
      "state": {
       "layout": "IPY_MODEL_4512efb885604d02a969acfc62441bb8",
       "style": "IPY_MODEL_5aad7559dcf84dfcb4c6f0c01124e3da",
       "value": "100% 1000/1000 [16:06&lt;00:00,  1.03it/s]"
      }
     },
     "c7b69a01678f46bba02b9aa61b76c110": {
      "model_module": "@jupyter-widgets/base",
      "model_module_version": "1.1.0",
      "model_name": "LayoutModel",
      "state": {}
     },
     "c7bf529546ec4063be96bc7d0f27526d": {
      "model_module": "@jupyter-widgets/controls",
      "model_module_version": "1.4.0",
      "model_name": "HTMLModel",
      "state": {
       "layout": "IPY_MODEL_7d098a07f8084d44b9ff7cec96f0b264",
       "style": "IPY_MODEL_99ab4408edca412d84a0a878bbf1bd50",
       "value": "100% 5/5 [00:01&lt;00:00,  2.17it/s]"
      }
     },
     "c9800004476f462282f42f02bb42f0c6": {
      "model_module": "@jupyter-widgets/base",
      "model_module_version": "1.1.0",
      "model_name": "LayoutModel",
      "state": {}
     },
     "c99c0a25c6ee4d22919b64b7578764c5": {
      "model_module": "@jupyter-widgets/controls",
      "model_module_version": "1.4.0",
      "model_name": "HBoxModel",
      "state": {
       "children": [
        "IPY_MODEL_a64c9194101647e1a78cd0570f92ea37",
        "IPY_MODEL_721e1e790c374b5cbb5168c87a891549"
       ],
       "layout": "IPY_MODEL_a2f3f4d3d57d4c16b64191e188c0cd07"
      }
     },
     "c9c7cf4951594c16a1293da604469740": {
      "model_module": "@jupyter-widgets/base",
      "model_module_version": "1.1.0",
      "model_name": "LayoutModel",
      "state": {}
     },
     "ca0f45655e60484187f5fa942ae43131": {
      "model_module": "@jupyter-widgets/base",
      "model_module_version": "1.1.0",
      "model_name": "LayoutModel",
      "state": {}
     },
     "caa4b31336764eaaa5ce943fa7d146d9": {
      "model_module": "@jupyter-widgets/base",
      "model_module_version": "1.1.0",
      "model_name": "LayoutModel",
      "state": {}
     },
     "caf9459379f54d9bb8f33cd03b7cc9f2": {
      "model_module": "@jupyter-widgets/controls",
      "model_module_version": "1.4.0",
      "model_name": "HBoxModel",
      "state": {
       "children": [
        "IPY_MODEL_87ed1fe92f4443acb50adbd408319160",
        "IPY_MODEL_b33e2b7da6a049fd82c234d540152c00"
       ],
       "layout": "IPY_MODEL_caa4b31336764eaaa5ce943fa7d146d9"
      }
     },
     "cbfa5f82b17f45a6b8d4d3d915142280": {
      "model_module": "@jupyter-widgets/controls",
      "model_module_version": "1.4.0",
      "model_name": "DescriptionStyleModel",
      "state": {
       "description_width": ""
      }
     },
     "cc3c838b32c54f8a86208fe3b65203fd": {
      "model_module": "@jupyter-widgets/controls",
      "model_module_version": "1.4.0",
      "model_name": "HBoxModel",
      "state": {
       "children": [
        "IPY_MODEL_12232da86e954a24bad79af4b31d5630",
        "IPY_MODEL_178c18eb073547cda5d5202d91b247b9"
       ],
       "layout": "IPY_MODEL_facf7c3e10384b1bb1eff7bb6b685e4e"
      }
     },
     "cc6755916ed642fa999b87fd59b073b4": {
      "model_module": "@jupyter-widgets/controls",
      "model_module_version": "1.4.0",
      "model_name": "HTMLModel",
      "state": {
       "layout": "IPY_MODEL_b42b6312ad4946b7bcfa642bca57535e",
       "style": "IPY_MODEL_6f85de2dcbe44f2b9b98353b911bfe7a",
       "value": "  0% 0/7 [00:00&lt;?, ?it/s]"
      }
     },
     "cca5a53f0ce942e888b115507c019cff": {
      "model_module": "@jupyter-widgets/controls",
      "model_module_version": "1.4.0",
      "model_name": "HTMLModel",
      "state": {
       "layout": "IPY_MODEL_270130f505cb4a28a37ebd8954cbb760",
       "style": "IPY_MODEL_19f57f08e9ca47009be81485c6d1d49e",
       "value": " 20% 1/5 [00:00&lt;00:02,  1.59it/s]"
      }
     },
     "ccb9053348064a1fb180de0011435ea3": {
      "model_module": "@jupyter-widgets/controls",
      "model_module_version": "1.4.0",
      "model_name": "ProgressStyleModel",
      "state": {
       "description_width": ""
      }
     },
     "cecf8d7aa4d445488b35433851309aaa": {
      "model_module": "@jupyter-widgets/base",
      "model_module_version": "1.1.0",
      "model_name": "LayoutModel",
      "state": {}
     },
     "cf01378db9b74de488f9843ce3c59210": {
      "model_module": "@jupyter-widgets/controls",
      "model_module_version": "1.4.0",
      "model_name": "ProgressStyleModel",
      "state": {
       "description_width": ""
      }
     },
     "cf8a45b72fc7476588f4b71b6cf44e57": {
      "model_module": "@jupyter-widgets/controls",
      "model_module_version": "1.4.0",
      "model_name": "ProgressStyleModel",
      "state": {
       "description_width": ""
      }
     },
     "cfa223dfc2cb4f8b9c722b75502eecbf": {
      "model_module": "@jupyter-widgets/controls",
      "model_module_version": "1.4.0",
      "model_name": "IntProgressModel",
      "state": {
       "bar_style": "success",
       "layout": "IPY_MODEL_d6cf10042e98435fbe5d1bf6df81790a",
       "max": 7,
       "style": "IPY_MODEL_c508f1ff331e4cfc8b9e09c133e880a5",
       "value": 7
      }
     },
     "d07e7eee50094cc18cc47a423eca8a83": {
      "model_module": "@jupyter-widgets/controls",
      "model_module_version": "1.4.0",
      "model_name": "IntProgressModel",
      "state": {
       "layout": "IPY_MODEL_1a99093c72594f75983ea28196220921",
       "max": 7,
       "style": "IPY_MODEL_121e3c948b154398b81e17654b052847"
      }
     },
     "d0873a97209b4a738238275477122514": {
      "model_module": "@jupyter-widgets/base",
      "model_module_version": "1.1.0",
      "model_name": "LayoutModel",
      "state": {}
     },
     "d0d6a1cd47f0412aa83e71993ce5da9e": {
      "model_module": "@jupyter-widgets/base",
      "model_module_version": "1.1.0",
      "model_name": "LayoutModel",
      "state": {}
     },
     "d0fb0c1a641d4b85913d61b0ac4ad32d": {
      "model_module": "@jupyter-widgets/base",
      "model_module_version": "1.1.0",
      "model_name": "LayoutModel",
      "state": {}
     },
     "d16cb6e920eb46b4badc2c6c6cffed5d": {
      "model_module": "@jupyter-widgets/base",
      "model_module_version": "1.1.0",
      "model_name": "LayoutModel",
      "state": {}
     },
     "d204cab2997143ee8b8b71e5e89a6ea2": {
      "model_module": "@jupyter-widgets/controls",
      "model_module_version": "1.4.0",
      "model_name": "HBoxModel",
      "state": {
       "children": [
        "IPY_MODEL_cfa223dfc2cb4f8b9c722b75502eecbf",
        "IPY_MODEL_02a3a43bb8314e329a59ee769a1ec71c"
       ],
       "layout": "IPY_MODEL_052bdf978de84127b22314cbbc465d0a"
      }
     },
     "d230856f092f45229b8ae844bacacb7a": {
      "model_module": "@jupyter-widgets/controls",
      "model_module_version": "1.4.0",
      "model_name": "DescriptionStyleModel",
      "state": {
       "description_width": ""
      }
     },
     "d25a559a3ce1458ea36839fad8e41639": {
      "model_module": "@jupyter-widgets/base",
      "model_module_version": "1.1.0",
      "model_name": "LayoutModel",
      "state": {}
     },
     "d27c887cc91f491bbbfacf3dc129c4a5": {
      "model_module": "@jupyter-widgets/controls",
      "model_module_version": "1.4.0",
      "model_name": "DescriptionStyleModel",
      "state": {
       "description_width": ""
      }
     },
     "d2826fb8609145c3b1d29a98fd0f4069": {
      "model_module": "@jupyter-widgets/base",
      "model_module_version": "1.1.0",
      "model_name": "LayoutModel",
      "state": {}
     },
     "d318206587fc4a438ca2578e94ebf348": {
      "model_module": "@jupyter-widgets/base",
      "model_module_version": "1.1.0",
      "model_name": "LayoutModel",
      "state": {}
     },
     "d397bbb30b684b629133b6a8d2747fb0": {
      "model_module": "@jupyter-widgets/controls",
      "model_module_version": "1.4.0",
      "model_name": "DescriptionStyleModel",
      "state": {
       "description_width": ""
      }
     },
     "d3e8bf2a8f7a487d99ac0822af5a9c94": {
      "model_module": "@jupyter-widgets/controls",
      "model_module_version": "1.4.0",
      "model_name": "HBoxModel",
      "state": {
       "children": [
        "IPY_MODEL_1953d091c28c4f6a88b89394d013fb49",
        "IPY_MODEL_1df2d6e4746943b3ad44ba908948d02e"
       ],
       "layout": "IPY_MODEL_034afe37d0db4abd9f5fd00d0a1478d7"
      }
     },
     "d4548692f2ae4d82ba058076fa0fde65": {
      "model_module": "@jupyter-widgets/controls",
      "model_module_version": "1.4.0",
      "model_name": "HBoxModel",
      "state": {
       "children": [
        "IPY_MODEL_72445b5ef0c04115a0018a27e5c83320",
        "IPY_MODEL_6b01b627c3a749259d3e07a943dfcf3c"
       ],
       "layout": "IPY_MODEL_2f5a1121a61f418ea8e3df3cba6796f8"
      }
     },
     "d502444420124e8b803629e920051818": {
      "model_module": "@jupyter-widgets/controls",
      "model_module_version": "1.4.0",
      "model_name": "HBoxModel",
      "state": {
       "children": [
        "IPY_MODEL_a4dc6e4e23f3470ca7ac055ea21ee8ed",
        "IPY_MODEL_13fe3240187c4cbf995b0ea049bd52eb"
       ],
       "layout": "IPY_MODEL_bdaf528932ab4abe8e4e3391d4ddba3e"
      }
     },
     "d511c3440903408b97a636170587c55e": {
      "model_module": "@jupyter-widgets/base",
      "model_module_version": "1.1.0",
      "model_name": "LayoutModel",
      "state": {}
     },
     "d5332f410d684434b685e43b34215b65": {
      "model_module": "@jupyter-widgets/controls",
      "model_module_version": "1.4.0",
      "model_name": "DescriptionStyleModel",
      "state": {
       "description_width": ""
      }
     },
     "d5b5146dcf6c45e8a5954710a74174bb": {
      "model_module": "@jupyter-widgets/controls",
      "model_module_version": "1.4.0",
      "model_name": "ProgressStyleModel",
      "state": {
       "description_width": ""
      }
     },
     "d5d11d800bdf4e6db4258ec33a070a7e": {
      "model_module": "@jupyter-widgets/base",
      "model_module_version": "1.1.0",
      "model_name": "LayoutModel",
      "state": {}
     },
     "d607e81a8d6541a9bbf4d0ea9a67a6ae": {
      "model_module": "@jupyter-widgets/controls",
      "model_module_version": "1.4.0",
      "model_name": "ProgressStyleModel",
      "state": {
       "description_width": ""
      }
     },
     "d657d21aaace4e11a2e3a76e35be89e4": {
      "model_module": "@jupyter-widgets/controls",
      "model_module_version": "1.4.0",
      "model_name": "HTMLModel",
      "state": {
       "layout": "IPY_MODEL_430b8c8468044bbbbf8577a7f3773288",
       "style": "IPY_MODEL_069518a2655048dfa4cd95de5522889c",
       "value": " 71% 5/7 [00:22&lt;00:09,  4.73s/it]"
      }
     },
     "d675367c9ec441498442fafac437e0fd": {
      "model_module": "@jupyter-widgets/controls",
      "model_module_version": "1.4.0",
      "model_name": "HBoxModel",
      "state": {
       "children": [
        "IPY_MODEL_3ef9aeb6facd462ea22a8019e4960a34",
        "IPY_MODEL_c7bf529546ec4063be96bc7d0f27526d"
       ],
       "layout": "IPY_MODEL_df42f57f3d3a405e9cc5ad4f2e896c35"
      }
     },
     "d6b9d9adf1c249319493ac05a49b920d": {
      "model_module": "@jupyter-widgets/controls",
      "model_module_version": "1.4.0",
      "model_name": "ProgressStyleModel",
      "state": {
       "description_width": ""
      }
     },
     "d6cf10042e98435fbe5d1bf6df81790a": {
      "model_module": "@jupyter-widgets/base",
      "model_module_version": "1.1.0",
      "model_name": "LayoutModel",
      "state": {}
     },
     "d7275d16e4c242b98fc4d75930254ed8": {
      "model_module": "@jupyter-widgets/controls",
      "model_module_version": "1.4.0",
      "model_name": "DescriptionStyleModel",
      "state": {
       "description_width": ""
      }
     },
     "d7416fcd09c84cea958590526a5d5580": {
      "model_module": "@jupyter-widgets/controls",
      "model_module_version": "1.4.0",
      "model_name": "IntProgressModel",
      "state": {
       "bar_style": "success",
       "layout": "IPY_MODEL_63d166f4c9e84a7682d3b9c21dc002c1",
       "max": 9,
       "style": "IPY_MODEL_5e13bdc873014cd89700402c1d7533f0",
       "value": 9
      }
     },
     "d78c79ade1514afa84b0a2e146568ae4": {
      "model_module": "@jupyter-widgets/base",
      "model_module_version": "1.1.0",
      "model_name": "LayoutModel",
      "state": {}
     },
     "d7a9eeaa61b541dbbdc322457faafa7a": {
      "model_module": "@jupyter-widgets/controls",
      "model_module_version": "1.4.0",
      "model_name": "ProgressStyleModel",
      "state": {
       "description_width": ""
      }
     },
     "d7b5329c46d54e27a0f20d2d8ad8dc78": {
      "model_module": "@jupyter-widgets/controls",
      "model_module_version": "1.4.0",
      "model_name": "HBoxModel",
      "state": {
       "children": [
        "IPY_MODEL_9c550f6999394983a70b559d5aac445d",
        "IPY_MODEL_1b205703af744599b8c53da53bea3122"
       ],
       "layout": "IPY_MODEL_0c5edae95f7b4a7d9dc40e28e594c12d"
      }
     },
     "d864fee7a70f455da6b683204d5dde1e": {
      "model_module": "@jupyter-widgets/controls",
      "model_module_version": "1.4.0",
      "model_name": "HTMLModel",
      "state": {
       "layout": "IPY_MODEL_38613bcb9452434a8d47137df3f4eb22",
       "style": "IPY_MODEL_7e6a37b6b92e4255b74f686a83efee0e",
       "value": "  5% 52/1000 [00:36&lt;15:23,  1.03it/s]"
      }
     },
     "d8cb04642ac54b8bb3b997d2e807d919": {
      "model_module": "@jupyter-widgets/controls",
      "model_module_version": "1.4.0",
      "model_name": "HTMLModel",
      "state": {
       "layout": "IPY_MODEL_210f7f24008848bfb8198bae4da71160",
       "style": "IPY_MODEL_a344a460f49c4a2bb5fa563979aa2df1",
       "value": "100% 7/7 [2:26:45&lt;00:00, 1395.19s/it]"
      }
     },
     "d92c67e5af8044f3b3278b55c97cf964": {
      "model_module": "@jupyter-widgets/controls",
      "model_module_version": "1.4.0",
      "model_name": "HBoxModel",
      "state": {
       "children": [
        "IPY_MODEL_17f9e6900a95467988114feee4f6a31b",
        "IPY_MODEL_67ecfea7424d42f296f71726714301db"
       ],
       "layout": "IPY_MODEL_bd13ae2c970c4d32b5a262fd0177c540"
      }
     },
     "da066cc5982347daa1106854a0274163": {
      "model_module": "@jupyter-widgets/controls",
      "model_module_version": "1.4.0",
      "model_name": "IntProgressModel",
      "state": {
       "bar_style": "success",
       "layout": "IPY_MODEL_52f6a224b7be4dc5baa5f0ff09b51340",
       "max": 1000,
       "style": "IPY_MODEL_8e83cfe2a73e443d916c54938260ef53",
       "value": 1000
      }
     },
     "da06ae5c6d2e435c96c7636680757cdd": {
      "model_module": "@jupyter-widgets/controls",
      "model_module_version": "1.4.0",
      "model_name": "DescriptionStyleModel",
      "state": {
       "description_width": ""
      }
     },
     "da0ce016aa364eca8faa63e8cedb33d6": {
      "model_module": "@jupyter-widgets/controls",
      "model_module_version": "1.4.0",
      "model_name": "IntProgressModel",
      "state": {
       "bar_style": "success",
       "layout": "IPY_MODEL_509e06060bd44018a29b9422e2915005",
       "max": 1000,
       "style": "IPY_MODEL_d7a9eeaa61b541dbbdc322457faafa7a",
       "value": 1000
      }
     },
     "da5e626b62a84e058aeaeefb4e7802a6": {
      "model_module": "@jupyter-widgets/controls",
      "model_module_version": "1.4.0",
      "model_name": "DescriptionStyleModel",
      "state": {
       "description_width": ""
      }
     },
     "daaa15ff09484b448b12ea0d30d6ba5c": {
      "model_module": "@jupyter-widgets/controls",
      "model_module_version": "1.4.0",
      "model_name": "DescriptionStyleModel",
      "state": {
       "description_width": ""
      }
     },
     "dabd25debe8349b8b70f1b63c538333e": {
      "model_module": "@jupyter-widgets/controls",
      "model_module_version": "1.4.0",
      "model_name": "HBoxModel",
      "state": {
       "children": [
        "IPY_MODEL_0ff19c73ff00492dad0c67972db11c9a",
        "IPY_MODEL_e1bc105de1304f4c9e1e315233a1612c"
       ],
       "layout": "IPY_MODEL_5526ad5ac7864c4b8b96a39adbe6ac15"
      }
     },
     "db005a4b6e11454bbf2012fe861c6cbf": {
      "model_module": "@jupyter-widgets/controls",
      "model_module_version": "1.4.0",
      "model_name": "HTMLModel",
      "state": {
       "layout": "IPY_MODEL_b7e9c0356c1c482ebb137281a5a635c5",
       "style": "IPY_MODEL_390a3132cc1e449cbcff4bb905690360",
       "value": "100% 1000/1000 [06:26&lt;00:00,  2.59it/s]"
      }
     },
     "db1070233e634119bededaa0ae85032a": {
      "model_module": "@jupyter-widgets/controls",
      "model_module_version": "1.4.0",
      "model_name": "HBoxModel",
      "state": {
       "children": [
        "IPY_MODEL_980b7b8feff84986947c51ea564e27e7",
        "IPY_MODEL_1e7bb07e218345bca62266e0d005e934"
       ],
       "layout": "IPY_MODEL_72c46b0af6894756815f13525030bbbc"
      }
     },
     "db7ebaed46ab49dc8c343ecd1c629221": {
      "model_module": "@jupyter-widgets/controls",
      "model_module_version": "1.4.0",
      "model_name": "ProgressStyleModel",
      "state": {
       "description_width": ""
      }
     },
     "db95a6085170496292149eb80581ed9e": {
      "model_module": "@jupyter-widgets/controls",
      "model_module_version": "1.4.0",
      "model_name": "HTMLModel",
      "state": {
       "layout": "IPY_MODEL_34677b8b1f6244bf8bdb7ce66067a117",
       "style": "IPY_MODEL_66b47ffa72e54d9c8195beb501cd40b3",
       "value": "100% 1000/1000 [06:58&lt;00:00,  2.39it/s]"
      }
     },
     "dc4db7b36fa14192ad0f594121d0fe48": {
      "model_module": "@jupyter-widgets/controls",
      "model_module_version": "1.4.0",
      "model_name": "IntProgressModel",
      "state": {
       "bar_style": "success",
       "layout": "IPY_MODEL_eff1cadfbc144874b2199162cbedc3b1",
       "max": 1000,
       "style": "IPY_MODEL_74f4c03bff224467a1685b2f5386f2da",
       "value": 1000
      }
     },
     "dcfffbd3053447e2ae1cd1b2a5f2bd81": {
      "model_module": "@jupyter-widgets/controls",
      "model_module_version": "1.4.0",
      "model_name": "DescriptionStyleModel",
      "state": {
       "description_width": ""
      }
     },
     "dd32dd94ec72430a88b8a27b3fd2b9eb": {
      "model_module": "@jupyter-widgets/base",
      "model_module_version": "1.1.0",
      "model_name": "LayoutModel",
      "state": {}
     },
     "dd8859835e9d4642a2f68c9d2d794bd3": {
      "model_module": "@jupyter-widgets/base",
      "model_module_version": "1.1.0",
      "model_name": "LayoutModel",
      "state": {}
     },
     "ddc0953a58b540108941e88f4b1257b9": {
      "model_module": "@jupyter-widgets/controls",
      "model_module_version": "1.4.0",
      "model_name": "HBoxModel",
      "state": {
       "children": [
        "IPY_MODEL_9a7895020d80474385140f1abade273c",
        "IPY_MODEL_0f777455a69c45c094afb469f0dad68c"
       ],
       "layout": "IPY_MODEL_196f2d0981364c3f87c85b824db93dd6"
      }
     },
     "ded6baef49c64cc09aa026699396f684": {
      "model_module": "@jupyter-widgets/base",
      "model_module_version": "1.1.0",
      "model_name": "LayoutModel",
      "state": {}
     },
     "dee5cb59194447e5a37d71a7a98c17f1": {
      "model_module": "@jupyter-widgets/controls",
      "model_module_version": "1.4.0",
      "model_name": "ProgressStyleModel",
      "state": {
       "description_width": ""
      }
     },
     "df09da9cdeb74384b0e7b281cf15b090": {
      "model_module": "@jupyter-widgets/base",
      "model_module_version": "1.1.0",
      "model_name": "LayoutModel",
      "state": {}
     },
     "df42f57f3d3a405e9cc5ad4f2e896c35": {
      "model_module": "@jupyter-widgets/base",
      "model_module_version": "1.1.0",
      "model_name": "LayoutModel",
      "state": {}
     },
     "df8a0e47257740cb9e48cdd2b105e1a0": {
      "model_module": "@jupyter-widgets/base",
      "model_module_version": "1.1.0",
      "model_name": "LayoutModel",
      "state": {}
     },
     "e0991d763a2a4711b51cfbe29dcbb5dd": {
      "model_module": "@jupyter-widgets/base",
      "model_module_version": "1.1.0",
      "model_name": "LayoutModel",
      "state": {}
     },
     "e1021a2c1411468b9e5202471b9d7edd": {
      "model_module": "@jupyter-widgets/base",
      "model_module_version": "1.1.0",
      "model_name": "LayoutModel",
      "state": {}
     },
     "e134d47b0ac8413da811daa4374b1a27": {
      "model_module": "@jupyter-widgets/controls",
      "model_module_version": "1.4.0",
      "model_name": "ProgressStyleModel",
      "state": {
       "description_width": ""
      }
     },
     "e19135a8b57744f6b1cdaf55d91643f0": {
      "model_module": "@jupyter-widgets/controls",
      "model_module_version": "1.4.0",
      "model_name": "HBoxModel",
      "state": {
       "children": [
        "IPY_MODEL_07bedb6c2c404ab0843a5dbd180d0a2d",
        "IPY_MODEL_f89fce35a49c44b1b1a3be3086a1e1c0"
       ],
       "layout": "IPY_MODEL_575003c3fac94665a6f59d3b22fd7e66"
      }
     },
     "e1bc105de1304f4c9e1e315233a1612c": {
      "model_module": "@jupyter-widgets/controls",
      "model_module_version": "1.4.0",
      "model_name": "HTMLModel",
      "state": {
       "layout": "IPY_MODEL_085d2588c6db446d9fc952abb01775ac",
       "style": "IPY_MODEL_79615b6c32d14eaaa9ecf998f4cecdde",
       "value": "100% 1000/1000 [09:11&lt;00:00,  1.54s/it]"
      }
     },
     "e1cc48f43ac44dce9670239ba2e408b2": {
      "model_module": "@jupyter-widgets/base",
      "model_module_version": "1.1.0",
      "model_name": "LayoutModel",
      "state": {}
     },
     "e2207939caec4665b03f3e69b47325cb": {
      "model_module": "@jupyter-widgets/base",
      "model_module_version": "1.1.0",
      "model_name": "LayoutModel",
      "state": {}
     },
     "e28966990994481c955bc12a21c4459b": {
      "model_module": "@jupyter-widgets/controls",
      "model_module_version": "1.4.0",
      "model_name": "ProgressStyleModel",
      "state": {
       "description_width": ""
      }
     },
     "e29592a60d1d4ba38f68c9dc1f0a05c1": {
      "model_module": "@jupyter-widgets/controls",
      "model_module_version": "1.4.0",
      "model_name": "ProgressStyleModel",
      "state": {
       "description_width": ""
      }
     },
     "e2a94804f55145fd8d50d496d6fd28ee": {
      "model_module": "@jupyter-widgets/controls",
      "model_module_version": "1.4.0",
      "model_name": "DescriptionStyleModel",
      "state": {
       "description_width": ""
      }
     },
     "e2dd2a0458e241d085991f6b13056685": {
      "model_module": "@jupyter-widgets/controls",
      "model_module_version": "1.4.0",
      "model_name": "HBoxModel",
      "state": {
       "children": [
        "IPY_MODEL_2d69b85817e74ff4946c0bd3681e5779",
        "IPY_MODEL_db005a4b6e11454bbf2012fe861c6cbf"
       ],
       "layout": "IPY_MODEL_61d4cbed8f4d4b05aea97fcb2084377d"
      }
     },
     "e3368aa303324432bfff702b7c647ec3": {
      "model_module": "@jupyter-widgets/base",
      "model_module_version": "1.1.0",
      "model_name": "LayoutModel",
      "state": {}
     },
     "e37f80a6231444fe98850c70910fa56d": {
      "model_module": "@jupyter-widgets/base",
      "model_module_version": "1.1.0",
      "model_name": "LayoutModel",
      "state": {}
     },
     "e3aa8bd8bf2f426f952b0eac69d26950": {
      "model_module": "@jupyter-widgets/controls",
      "model_module_version": "1.4.0",
      "model_name": "IntProgressModel",
      "state": {
       "bar_style": "success",
       "layout": "IPY_MODEL_2ec631c310c64a4f9c9f90b3a9427de0",
       "max": 1000,
       "style": "IPY_MODEL_1492a50c2e6646e3bd3f19f675e8c17c",
       "value": 1000
      }
     },
     "e48bf5d9d301482b988dc529e77e36af": {
      "model_module": "@jupyter-widgets/controls",
      "model_module_version": "1.4.0",
      "model_name": "ProgressStyleModel",
      "state": {
       "description_width": ""
      }
     },
     "e4ae2ad334c54563af3a6e6a70dabcda": {
      "model_module": "@jupyter-widgets/base",
      "model_module_version": "1.1.0",
      "model_name": "LayoutModel",
      "state": {}
     },
     "e59ee8925d04422caa385f0ee5a07f32": {
      "model_module": "@jupyter-widgets/base",
      "model_module_version": "1.1.0",
      "model_name": "LayoutModel",
      "state": {}
     },
     "e5bc2ae177e1451a91e795ec7d35f89e": {
      "model_module": "@jupyter-widgets/base",
      "model_module_version": "1.1.0",
      "model_name": "LayoutModel",
      "state": {}
     },
     "e5bedf8d849b4fa5ae231197abb3fa13": {
      "model_module": "@jupyter-widgets/base",
      "model_module_version": "1.1.0",
      "model_name": "LayoutModel",
      "state": {}
     },
     "e5c02ecb865b471c8208623af970257b": {
      "model_module": "@jupyter-widgets/base",
      "model_module_version": "1.1.0",
      "model_name": "LayoutModel",
      "state": {}
     },
     "e5e3770c8d104e30b654412f22a83020": {
      "model_module": "@jupyter-widgets/base",
      "model_module_version": "1.1.0",
      "model_name": "LayoutModel",
      "state": {}
     },
     "e5e9ee97317047f2a42ae6150bc79661": {
      "model_module": "@jupyter-widgets/controls",
      "model_module_version": "1.4.0",
      "model_name": "IntProgressModel",
      "state": {
       "bar_style": "success",
       "layout": "IPY_MODEL_c4e78e084e574501bf599225a6120ae8",
       "max": 1000,
       "style": "IPY_MODEL_84da2fcc71864e5d8b961b370ac8a580",
       "value": 1000
      }
     },
     "e655ee94e94a47818a8868407d01affb": {
      "model_module": "@jupyter-widgets/controls",
      "model_module_version": "1.4.0",
      "model_name": "HTMLModel",
      "state": {
       "layout": "IPY_MODEL_1145ad812b3e41179bd452205a7fbc5e",
       "style": "IPY_MODEL_bb25e6cdcbde49ebbebea5ff2c74f051",
       "value": "  0% 0/7 [00:00&lt;?, ?it/s]"
      }
     },
     "e66227156fca41ae9587a57a737c943f": {
      "model_module": "@jupyter-widgets/base",
      "model_module_version": "1.1.0",
      "model_name": "LayoutModel",
      "state": {}
     },
     "e6f6b1327da64d098f06f1f3b3f838c8": {
      "model_module": "@jupyter-widgets/controls",
      "model_module_version": "1.4.0",
      "model_name": "HTMLModel",
      "state": {
       "layout": "IPY_MODEL_baac05ffc6a04221b874f9b7557b7a63",
       "style": "IPY_MODEL_4bac5223ac06467081721635d5a0313d",
       "value": "100% 1000/1000 [09:56&lt;00:00,  1.68it/s]"
      }
     },
     "e7478977281d44ca84efc5bbe2a7ac4d": {
      "model_module": "@jupyter-widgets/base",
      "model_module_version": "1.1.0",
      "model_name": "LayoutModel",
      "state": {}
     },
     "e77cd8f2dac442f895a35f60299c9537": {
      "model_module": "@jupyter-widgets/controls",
      "model_module_version": "1.4.0",
      "model_name": "ProgressStyleModel",
      "state": {
       "description_width": ""
      }
     },
     "e8842579012e4f6789431c817e5f0ded": {
      "model_module": "@jupyter-widgets/controls",
      "model_module_version": "1.4.0",
      "model_name": "ProgressStyleModel",
      "state": {
       "description_width": ""
      }
     },
     "e896f6afb41f4368b6089feffe5fd6e4": {
      "model_module": "@jupyter-widgets/base",
      "model_module_version": "1.1.0",
      "model_name": "LayoutModel",
      "state": {}
     },
     "e972f4718f51412aa56a0a10ade6e00b": {
      "model_module": "@jupyter-widgets/controls",
      "model_module_version": "1.4.0",
      "model_name": "ProgressStyleModel",
      "state": {
       "description_width": ""
      }
     },
     "e9d18707aed8451da2f30816cb84e2e1": {
      "model_module": "@jupyter-widgets/controls",
      "model_module_version": "1.4.0",
      "model_name": "DescriptionStyleModel",
      "state": {
       "description_width": ""
      }
     },
     "ea7e3ca4f0dc4948893ce1d6c2d2a922": {
      "model_module": "@jupyter-widgets/base",
      "model_module_version": "1.1.0",
      "model_name": "LayoutModel",
      "state": {}
     },
     "ea9460aee8c34f1cb43ba3fae64caebb": {
      "model_module": "@jupyter-widgets/base",
      "model_module_version": "1.1.0",
      "model_name": "LayoutModel",
      "state": {}
     },
     "eaca6f93d3294357aad17b01fa0a7cb3": {
      "model_module": "@jupyter-widgets/base",
      "model_module_version": "1.1.0",
      "model_name": "LayoutModel",
      "state": {}
     },
     "eb373763ea0b438ca974cc51857812fc": {
      "model_module": "@jupyter-widgets/base",
      "model_module_version": "1.1.0",
      "model_name": "LayoutModel",
      "state": {}
     },
     "eb4fb8f0da9840aeb5f7a12f931d441d": {
      "model_module": "@jupyter-widgets/controls",
      "model_module_version": "1.4.0",
      "model_name": "HBoxModel",
      "state": {
       "children": [
        "IPY_MODEL_bb99ddd88d0e4235ac753fecb3af99d6",
        "IPY_MODEL_bf9c862dbb504a229181a45c9560b968"
       ],
       "layout": "IPY_MODEL_ab9aa7f9df7441c8ade68909eb88a2a5"
      }
     },
     "ebec32f40d914d5881e92532d2ce2a27": {
      "model_module": "@jupyter-widgets/base",
      "model_module_version": "1.1.0",
      "model_name": "LayoutModel",
      "state": {}
     },
     "ecb64143bd6540e1a0961584baa31b9d": {
      "model_module": "@jupyter-widgets/base",
      "model_module_version": "1.1.0",
      "model_name": "LayoutModel",
      "state": {}
     },
     "ecde7bfcef634c339eb1e8436d9c16c5": {
      "model_module": "@jupyter-widgets/controls",
      "model_module_version": "1.4.0",
      "model_name": "DescriptionStyleModel",
      "state": {
       "description_width": ""
      }
     },
     "ed50f993d6434dbcb796c3547785dafe": {
      "model_module": "@jupyter-widgets/controls",
      "model_module_version": "1.4.0",
      "model_name": "ProgressStyleModel",
      "state": {
       "description_width": ""
      }
     },
     "ee2c74f05e78400d980de593a922e1a4": {
      "model_module": "@jupyter-widgets/controls",
      "model_module_version": "1.4.0",
      "model_name": "ProgressStyleModel",
      "state": {
       "description_width": ""
      }
     },
     "eea506f06a2b4aa79f45f9fa0eac92c5": {
      "model_module": "@jupyter-widgets/controls",
      "model_module_version": "1.4.0",
      "model_name": "HTMLModel",
      "state": {
       "layout": "IPY_MODEL_c9800004476f462282f42f02bb42f0c6",
       "style": "IPY_MODEL_867a210d4a9745d9ba363f7dd31cc032",
       "value": "100% 1000/1000 [06:16&lt;00:00,  1.09s/it]"
      }
     },
     "ef389824a5f242988c64984c27c697fc": {
      "model_module": "@jupyter-widgets/controls",
      "model_module_version": "1.4.0",
      "model_name": "ProgressStyleModel",
      "state": {
       "description_width": ""
      }
     },
     "ef74df99efb44065a498cef782695e99": {
      "model_module": "@jupyter-widgets/controls",
      "model_module_version": "1.4.0",
      "model_name": "ProgressStyleModel",
      "state": {
       "description_width": ""
      }
     },
     "ef96f3e7a09f4f5bba305206664f88ad": {
      "model_module": "@jupyter-widgets/controls",
      "model_module_version": "1.4.0",
      "model_name": "ProgressStyleModel",
      "state": {
       "description_width": ""
      }
     },
     "eff1cadfbc144874b2199162cbedc3b1": {
      "model_module": "@jupyter-widgets/base",
      "model_module_version": "1.1.0",
      "model_name": "LayoutModel",
      "state": {}
     },
     "f023f7407a394e84a06fd7419e6aeca1": {
      "model_module": "@jupyter-widgets/base",
      "model_module_version": "1.1.0",
      "model_name": "LayoutModel",
      "state": {}
     },
     "f0a091ec53a24687a9f066d30545a5ce": {
      "model_module": "@jupyter-widgets/controls",
      "model_module_version": "1.4.0",
      "model_name": "HBoxModel",
      "state": {
       "children": [
        "IPY_MODEL_b87368e572e04fdf8cc1c756e04709c8",
        "IPY_MODEL_3e4eb42ec56445bf8f6b617e22d2498c"
       ],
       "layout": "IPY_MODEL_f023f7407a394e84a06fd7419e6aeca1"
      }
     },
     "f1f86de23a754697837a671b497f974c": {
      "model_module": "@jupyter-widgets/base",
      "model_module_version": "1.1.0",
      "model_name": "LayoutModel",
      "state": {}
     },
     "f2ea566bdf79455bbfb31b3e2b28b870": {
      "model_module": "@jupyter-widgets/base",
      "model_module_version": "1.1.0",
      "model_name": "LayoutModel",
      "state": {}
     },
     "f33186ad76d347878d32b16c477ffbac": {
      "model_module": "@jupyter-widgets/base",
      "model_module_version": "1.1.0",
      "model_name": "LayoutModel",
      "state": {}
     },
     "f3c52c6b6616482eba988aaedab1a230": {
      "model_module": "@jupyter-widgets/controls",
      "model_module_version": "1.4.0",
      "model_name": "IntProgressModel",
      "state": {
       "bar_style": "success",
       "layout": "IPY_MODEL_4fd6f01dc79549669f9ecaf2fb82ecf8",
       "max": 1000,
       "style": "IPY_MODEL_76c03c931abb4f439568fe1718cd1d7b",
       "value": 1000
      }
     },
     "f3c63218194d4238907f6560c5043c72": {
      "model_module": "@jupyter-widgets/controls",
      "model_module_version": "1.4.0",
      "model_name": "ProgressStyleModel",
      "state": {
       "description_width": ""
      }
     },
     "f3d1c0e524e948f2b3070bed2f07db11": {
      "model_module": "@jupyter-widgets/base",
      "model_module_version": "1.1.0",
      "model_name": "LayoutModel",
      "state": {}
     },
     "f42502da141a46b3826b1aaac75a7afa": {
      "model_module": "@jupyter-widgets/controls",
      "model_module_version": "1.4.0",
      "model_name": "HTMLModel",
      "state": {
       "layout": "IPY_MODEL_e2207939caec4665b03f3e69b47325cb",
       "style": "IPY_MODEL_05824247fed248b98dce339c67f5d1d9",
       "value": "100% 1000/1000 [04:45&lt;00:00,  1.47it/s]"
      }
     },
     "f4a31a6ac34943fb8e828a5b46e35514": {
      "model_module": "@jupyter-widgets/controls",
      "model_module_version": "1.4.0",
      "model_name": "HBoxModel",
      "state": {
       "children": [
        "IPY_MODEL_0267260bdf3245a6858d42fa7e889a6d",
        "IPY_MODEL_09994ccf93dd4b3394b880d1fe7c923a"
       ],
       "layout": "IPY_MODEL_31cb5b474232462b8347035129c01824"
      }
     },
     "f4baca730fe64ad2b2703c247190cb33": {
      "model_module": "@jupyter-widgets/controls",
      "model_module_version": "1.4.0",
      "model_name": "IntProgressModel",
      "state": {
       "bar_style": "success",
       "layout": "IPY_MODEL_bc3861ff1f71414dac23db09bc70c8e2",
       "max": 1000,
       "style": "IPY_MODEL_e972f4718f51412aa56a0a10ade6e00b",
       "value": 1000
      }
     },
     "f567221ae0cc42049e865986083aec6e": {
      "model_module": "@jupyter-widgets/base",
      "model_module_version": "1.1.0",
      "model_name": "LayoutModel",
      "state": {}
     },
     "f5ab0f8dc65c4ad4acaf9d94b3a620d9": {
      "model_module": "@jupyter-widgets/base",
      "model_module_version": "1.1.0",
      "model_name": "LayoutModel",
      "state": {}
     },
     "f5b0d56fb1fe429f911d82d43ba36448": {
      "model_module": "@jupyter-widgets/controls",
      "model_module_version": "1.4.0",
      "model_name": "HTMLModel",
      "state": {
       "layout": "IPY_MODEL_65058ac09a624ed5a3022e1b2540fe9a",
       "style": "IPY_MODEL_d397bbb30b684b629133b6a8d2747fb0",
       "value": "100% 1000/1000 [21:25&lt;00:00,  1.29s/it]"
      }
     },
     "f5d2e5b5457d41f290c26ebcbcd3bf54": {
      "model_module": "@jupyter-widgets/base",
      "model_module_version": "1.1.0",
      "model_name": "LayoutModel",
      "state": {}
     },
     "f687915a8b724c7a88384c3c0c1ded25": {
      "model_module": "@jupyter-widgets/controls",
      "model_module_version": "1.4.0",
      "model_name": "HTMLModel",
      "state": {
       "layout": "IPY_MODEL_724f49056cd04d1a9e0b40365c90373a",
       "style": "IPY_MODEL_059a2a4dacc840d0a898e6f94eb6473b",
       "value": "100% 1000/1000 [03:33&lt;00:00,  4.69it/s]"
      }
     },
     "f6c2bc5de0a342abb2af79af937714d0": {
      "model_module": "@jupyter-widgets/controls",
      "model_module_version": "1.4.0",
      "model_name": "IntProgressModel",
      "state": {
       "bar_style": "success",
       "layout": "IPY_MODEL_830631c8a27543029691c713ae3553c0",
       "max": 1000,
       "style": "IPY_MODEL_21e004dc946e4be08f40236444be4f77",
       "value": 1000
      }
     },
     "f7b01fd2d7ef434c83f4195ca1185ef0": {
      "model_module": "@jupyter-widgets/controls",
      "model_module_version": "1.4.0",
      "model_name": "HBoxModel",
      "state": {
       "children": [
        "IPY_MODEL_a58eb084782944c8adcf3bd7ea4c64f3",
        "IPY_MODEL_33180dbba263404aaa159fca0aaedfe1"
       ],
       "layout": "IPY_MODEL_e1cc48f43ac44dce9670239ba2e408b2"
      }
     },
     "f89fce35a49c44b1b1a3be3086a1e1c0": {
      "model_module": "@jupyter-widgets/controls",
      "model_module_version": "1.4.0",
      "model_name": "HTMLModel",
      "state": {
       "layout": "IPY_MODEL_94466831a6544aec9adb9f5f9a2f8544",
       "style": "IPY_MODEL_afead7e6c91246b4a79a6860bcff8ef3",
       "value": "100% 1000/1000 [16:18&lt;00:00,  1.62it/s]"
      }
     },
     "f8d757efab5e4c9db47fea63c266b7f0": {
      "model_module": "@jupyter-widgets/base",
      "model_module_version": "1.1.0",
      "model_name": "LayoutModel",
      "state": {}
     },
     "f90e314df1064860b2afe5448a13ec1f": {
      "model_module": "@jupyter-widgets/controls",
      "model_module_version": "1.4.0",
      "model_name": "ProgressStyleModel",
      "state": {
       "description_width": ""
      }
     },
     "f9257475950f4559a483f79bc3a1bfac": {
      "model_module": "@jupyter-widgets/controls",
      "model_module_version": "1.4.0",
      "model_name": "HBoxModel",
      "state": {
       "children": [
        "IPY_MODEL_8ed9b98d54a0456c8a8f38f6470c7af9",
        "IPY_MODEL_d864fee7a70f455da6b683204d5dde1e"
       ],
       "layout": "IPY_MODEL_aaff0c8ebfbe4a679e715f697ab80711"
      }
     },
     "f936a407d9df48d6a2ffc8e9d9e0ebd2": {
      "model_module": "@jupyter-widgets/controls",
      "model_module_version": "1.4.0",
      "model_name": "DescriptionStyleModel",
      "state": {
       "description_width": ""
      }
     },
     "f957d0b4dd234852a0cf1b8f8d6a426f": {
      "model_module": "@jupyter-widgets/controls",
      "model_module_version": "1.4.0",
      "model_name": "IntProgressModel",
      "state": {
       "bar_style": "danger",
       "layout": "IPY_MODEL_9dad1238c56e42fd9066121027a30aa6",
       "max": 7,
       "style": "IPY_MODEL_7c4b3044cbef41e99d0c78561e34918d",
       "value": 1
      }
     },
     "f9963f3da3a344ad96800ecf3978d4e3": {
      "model_module": "@jupyter-widgets/controls",
      "model_module_version": "1.4.0",
      "model_name": "HBoxModel",
      "state": {
       "children": [
        "IPY_MODEL_b358f51f88a04d3d8a1145171e81e219",
        "IPY_MODEL_47aaf9fa1e854166abde1ca4de84f0f7"
       ],
       "layout": "IPY_MODEL_1f2a2d0a3fcc4fa4bdec7ad10be8b542"
      }
     },
     "f9e43d5382c34320b27bb5f6260a219f": {
      "model_module": "@jupyter-widgets/base",
      "model_module_version": "1.1.0",
      "model_name": "LayoutModel",
      "state": {}
     },
     "f9f0a8104b964ae69ac8dd8ffc1ae5b8": {
      "model_module": "@jupyter-widgets/controls",
      "model_module_version": "1.4.0",
      "model_name": "DescriptionStyleModel",
      "state": {
       "description_width": ""
      }
     },
     "facf7c3e10384b1bb1eff7bb6b685e4e": {
      "model_module": "@jupyter-widgets/base",
      "model_module_version": "1.1.0",
      "model_name": "LayoutModel",
      "state": {}
     },
     "fb99aba4c4524629aa84869ac380beea": {
      "model_module": "@jupyter-widgets/controls",
      "model_module_version": "1.4.0",
      "model_name": "HBoxModel",
      "state": {
       "children": [
        "IPY_MODEL_2293e66503fe40a587384c00586dfbd5",
        "IPY_MODEL_08510527ae354f1b8375d6249c9af58f"
       ],
       "layout": "IPY_MODEL_1045718c01cd4dcebf3d0045bbb6183a"
      }
     },
     "fbb61e783c264a00a4588a6531f476d7": {
      "model_module": "@jupyter-widgets/controls",
      "model_module_version": "1.4.0",
      "model_name": "IntProgressModel",
      "state": {
       "bar_style": "success",
       "layout": "IPY_MODEL_b1a911cd3df44d76a93c67559d8443dc",
       "max": 1000,
       "style": "IPY_MODEL_23ee069af9b540feae32f17bd3b93345",
       "value": 1000
      }
     },
     "fc6299bdd95942e3ab650925f7f89cb6": {
      "model_module": "@jupyter-widgets/controls",
      "model_module_version": "1.4.0",
      "model_name": "DescriptionStyleModel",
      "state": {
       "description_width": ""
      }
     },
     "fcaea9844d314f70b252b263a25e7271": {
      "model_module": "@jupyter-widgets/base",
      "model_module_version": "1.1.0",
      "model_name": "LayoutModel",
      "state": {}
     },
     "fcd0a111c245459096f559fb752cbf66": {
      "model_module": "@jupyter-widgets/base",
      "model_module_version": "1.1.0",
      "model_name": "LayoutModel",
      "state": {}
     },
     "fd6c82fd3f974ecebec4245b09c12250": {
      "model_module": "@jupyter-widgets/controls",
      "model_module_version": "1.4.0",
      "model_name": "HTMLModel",
      "state": {
       "layout": "IPY_MODEL_77e5f6e8b96e43a79efa8969c9bd5154",
       "style": "IPY_MODEL_398b3585a74a4b28a362d08cbd1a3d12",
       "value": "100% 1000/1000 [03:47&lt;00:00,  4.29it/s]"
      }
     },
     "fda747fc58f047bea8bf417fbbc26ba7": {
      "model_module": "@jupyter-widgets/controls",
      "model_module_version": "1.4.0",
      "model_name": "IntProgressModel",
      "state": {
       "bar_style": "success",
       "layout": "IPY_MODEL_b8845e54cf6d4f7d812e2b67c254c6ef",
       "max": 1000,
       "style": "IPY_MODEL_7d21bae581ec426999736ea222df641c",
       "value": 1000
      }
     },
     "fdeea0f093954eb29b4fc82917af97fe": {
      "model_module": "@jupyter-widgets/base",
      "model_module_version": "1.1.0",
      "model_name": "LayoutModel",
      "state": {}
     },
     "fe59714b0a05412e8b208997b2fffe40": {
      "model_module": "@jupyter-widgets/base",
      "model_module_version": "1.1.0",
      "model_name": "LayoutModel",
      "state": {}
     },
     "feb9f07bb3ad427abc3d597fdbf6693f": {
      "model_module": "@jupyter-widgets/base",
      "model_module_version": "1.1.0",
      "model_name": "LayoutModel",
      "state": {}
     },
     "ff1448a2eea040b2935032e4298803b6": {
      "model_module": "@jupyter-widgets/controls",
      "model_module_version": "1.4.0",
      "model_name": "DescriptionStyleModel",
      "state": {
       "description_width": ""
      }
     },
     "ff3992156bf045d08e47fa729c8c368c": {
      "model_module": "@jupyter-widgets/controls",
      "model_module_version": "1.4.0",
      "model_name": "HBoxModel",
      "state": {
       "children": [
        "IPY_MODEL_2c8f56d7fc08448b9883fb5e2d564012",
        "IPY_MODEL_a54c4313cbf6491db3e1052ca569ac3c"
       ],
       "layout": "IPY_MODEL_6ca247e9a6724274ade8022ac0649696"
      }
     },
     "ff7936947c5f49a3bddcd6089589b8c3": {
      "model_module": "@jupyter-widgets/controls",
      "model_module_version": "1.4.0",
      "model_name": "HBoxModel",
      "state": {
       "children": [
        "IPY_MODEL_7b3ea08dbda144d8a0f79209cc481ee3",
        "IPY_MODEL_7494fa2b86c5474d9c5c8be2cc9d6e12"
       ],
       "layout": "IPY_MODEL_b6cd4f375ce345c78ec3b67013123265"
      }
     }
    },
    "version_major": 2,
    "version_minor": 0
   }
  }
 },
 "nbformat": 4,
 "nbformat_minor": 2
}
