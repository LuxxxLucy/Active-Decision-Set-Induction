{
 "cells": [
  {
   "cell_type": "markdown",
   "metadata": {},
   "source": [
    "# Prepare input and Sanity Check"
   ]
  },
  {
   "cell_type": "code",
   "execution_count": 1,
   "metadata": {
    "ExecuteTime": {
     "end_time": "2019-07-22T08:32:34.884535Z",
     "start_time": "2019-07-22T08:32:34.764838Z"
    }
   },
   "outputs": [],
   "source": [
    "# for reproducibility\n",
    "import numpy as np\n",
    "random_seed=42\n",
    "np.random.seed(random_seed)"
   ]
  },
  {
   "cell_type": "markdown",
   "metadata": {
    "ExecuteTime": {
     "end_time": "2019-05-05T21:14:49.104379Z",
     "start_time": "2019-05-05T21:14:48.015227Z"
    }
   },
   "source": [
    "## Preparing data (In Orange framework, it is simple and good)\n",
    "\n",
    "we first prepare the data set"
   ]
  },
  {
   "cell_type": "code",
   "execution_count": 2,
   "metadata": {
    "ExecuteTime": {
     "end_time": "2019-07-22T08:32:40.202975Z",
     "start_time": "2019-07-22T08:32:36.946583Z"
    },
    "scrolled": true
   },
   "outputs": [
    {
     "name": "stderr",
     "output_type": "stream",
     "text": [
      "/Users/lucy/Desktop/workspace/Descriptive-Induction-ML/prepare_dataset.py:152: FutureWarning: elementwise comparison failed; returning scalar instead, but in the future will perform elementwise comparison\n",
      "  if '?' in df[col].unique():\n",
      "/Users/lucy/Desktop/workspace/Descriptive-Induction-ML/prepare_dataset.py:153: SettingWithCopyWarning: \n",
      "A value is trying to be set on a copy of a slice from a DataFrame\n",
      "\n",
      "See the caveats in the documentation: http://pandas.pydata.org/pandas-docs/stable/indexing.html#indexing-view-versus-copy\n",
      "  df[col][df[col] == '?'] = df[col].value_counts().index[0]\n"
     ]
    },
    {
     "name": "stdout",
     "output_type": "stream",
     "text": [
      "(21815, 12)\n",
      "now start sanity-check\n",
      "the first row of the dataset is (orginal form):\n",
      " [51.000, Private, Masters, Married-civ-spouse, Exec-managerial, Husband, White, Male, 0.000, 0.000, 50.000, United-States | >50K]\n",
      "the first row of the dataset is (only X data):\n",
      " [51.  3. 12.  2.  3.  0.  4.  1.  0.  0. 50. 38.]\n",
      "the first row of the dataset is (only y data):\n",
      " 1.0\n"
     ]
    }
   ],
   "source": [
    "%load_ext autoreload\n",
    "%autoreload 2\n",
    "from prepare_dataset import prepare_adult_dataset,prepare_pima_dataset,prepare_diabetes_risk_dataset,prepare_compas_dataset\n",
    "from utils import encoder_from_datatable\n",
    "\n",
    "\n",
    "# data_table,test_data_table = prepare_compas_dataset()\n",
    "data_table,test_data_table = prepare_adult_dataset()\n",
    "\n",
    "print(data_table.X.shape)\n",
    "print(\"now start sanity-check\")\n",
    "print(\"the first row of the dataset is (orginal form):\\n\", data_table[0] )\n",
    "print(\"the first row of the dataset is (only X data):\\n\", data_table.X[0])\n",
    "print(\"the first row of the dataset is (only y data):\\n\", data_table.Y[0])"
   ]
  },
  {
   "cell_type": "markdown",
   "metadata": {},
   "source": [
    "## Prepare the blackbox"
   ]
  },
  {
   "cell_type": "code",
   "execution_count": 3,
   "metadata": {
    "ExecuteTime": {
     "end_time": "2019-07-22T08:33:57.306723Z",
     "start_time": "2019-07-22T08:32:45.653417Z"
    }
   },
   "outputs": [
    {
     "name": "stdout",
     "output_type": "stream",
     "text": [
      "The autoreload extension is already loaded. To reload it, use:\n",
      "  %reload_ext autoreload\n",
      "Iteration 1, loss = inf\n",
      "Iteration 2, loss = inf\n",
      "Iteration 3, loss = inf\n",
      "Iteration 4, loss = inf\n",
      "Iteration 5, loss = inf\n",
      "Iteration 6, loss = inf\n",
      "Iteration 7, loss = inf\n",
      "Iteration 8, loss = inf\n",
      "Iteration 9, loss = inf\n",
      "Iteration 10, loss = inf\n",
      "Iteration 11, loss = 0.34209765\n",
      "Iteration 12, loss = 0.33666717\n",
      "Iteration 13, loss = 0.33249846\n",
      "Iteration 14, loss = 0.33583157\n",
      "Iteration 15, loss = 0.34121604\n",
      "Iteration 16, loss = 0.33347475\n",
      "Iteration 17, loss = 0.33353829\n",
      "Iteration 18, loss = 0.33278725\n",
      "Iteration 19, loss = 0.33656214\n",
      "Iteration 20, loss = 0.33564903\n",
      "Iteration 21, loss = 0.32861201\n",
      "Iteration 22, loss = 0.33309575\n",
      "Iteration 23, loss = 0.32922019\n",
      "Iteration 24, loss = 0.33399863\n",
      "Iteration 25, loss = 0.32578678\n",
      "Iteration 26, loss = 0.32775973\n",
      "Iteration 27, loss = 0.32386613\n",
      "Iteration 28, loss = 0.32438017\n",
      "Iteration 29, loss = 0.32307141\n",
      "Iteration 30, loss = 0.32352079\n",
      "Iteration 31, loss = 0.32659585\n",
      "Iteration 32, loss = 0.32633928\n",
      "Iteration 33, loss = 0.32094642\n",
      "Iteration 34, loss = 0.32731266\n",
      "Iteration 35, loss = 0.32174179\n",
      "Iteration 36, loss = 0.32038804\n",
      "Iteration 37, loss = 0.32317220\n",
      "Iteration 38, loss = 0.31537690\n",
      "Iteration 39, loss = 0.31915304\n",
      "Iteration 40, loss = 0.32092586\n",
      "Iteration 41, loss = 0.34539848\n",
      "Iteration 42, loss = inf\n",
      "Iteration 43, loss = inf\n",
      "Iteration 44, loss = inf\n",
      "Iteration 45, loss = 0.31325962\n",
      "Iteration 46, loss = 0.32381243\n",
      "Iteration 47, loss = 0.31578594\n",
      "Iteration 48, loss = 0.31344441\n",
      "Iteration 49, loss = 0.31036283\n",
      "Iteration 50, loss = 0.31015224\n",
      "Iteration 51, loss = 0.30869440\n",
      "Iteration 52, loss = 0.31006035\n",
      "Iteration 53, loss = 0.30908909\n",
      "Iteration 54, loss = 0.31090401\n",
      "Iteration 55, loss = 0.30898115\n",
      "Iteration 56, loss = 0.30624427\n",
      "Iteration 57, loss = 0.30752653\n",
      "Iteration 58, loss = 0.30869959\n",
      "Iteration 59, loss = 0.30662100\n",
      "Iteration 60, loss = 0.30600785\n",
      "Iteration 61, loss = 0.30358146\n",
      "Iteration 62, loss = 0.30465267\n",
      "Iteration 63, loss = 0.30400146\n",
      "Iteration 64, loss = 0.30487045\n",
      "Iteration 65, loss = 0.30311018\n",
      "Iteration 66, loss = 0.30528991\n",
      "Iteration 67, loss = 0.30343231\n",
      "Iteration 68, loss = 0.30136248\n",
      "Iteration 69, loss = 0.30665320\n",
      "Iteration 70, loss = 0.30168787\n",
      "Iteration 71, loss = 0.30288314\n",
      "Iteration 72, loss = 0.29982862\n",
      "Iteration 73, loss = 0.29986468\n",
      "Iteration 74, loss = 0.30431537\n",
      "Iteration 75, loss = 0.30053954\n",
      "Iteration 76, loss = 0.30022442\n",
      "Iteration 77, loss = inf\n",
      "Iteration 78, loss = 0.31165843\n",
      "Iteration 79, loss = 0.30389489\n",
      "Iteration 80, loss = 0.30270775\n",
      "Iteration 81, loss = 0.30106309\n",
      "Iteration 82, loss = 0.29970784\n",
      "Iteration 83, loss = 0.30015067\n",
      "Iteration 84, loss = 0.29783048\n",
      "Iteration 85, loss = 0.29682111\n",
      "Iteration 86, loss = 0.29669571\n",
      "Iteration 87, loss = 0.29432917\n",
      "Iteration 88, loss = 0.29827162\n",
      "Iteration 89, loss = 0.29536764\n",
      "Iteration 90, loss = 0.29279108\n",
      "Iteration 91, loss = 0.29429323\n",
      "Iteration 92, loss = 0.29213352\n",
      "Iteration 93, loss = 0.29286452\n",
      "Iteration 94, loss = 0.29303174\n",
      "Iteration 95, loss = 0.29206607\n",
      "Iteration 96, loss = 0.29071956\n",
      "Iteration 97, loss = 0.28818928\n",
      "Iteration 98, loss = 0.29381092\n",
      "Iteration 99, loss = 0.29072077\n",
      "Iteration 100, loss = 0.29278049\n",
      "Iteration 101, loss = 0.29873957\n",
      "Iteration 102, loss = inf\n",
      "Iteration 103, loss = 0.29687160\n",
      "Iteration 104, loss = 0.28934496\n",
      "Iteration 105, loss = 0.28875895\n",
      "Iteration 106, loss = 0.28880160\n",
      "Iteration 107, loss = 0.28814664\n",
      "Iteration 108, loss = 0.28641042\n",
      "Iteration 109, loss = 0.28708606\n",
      "Iteration 110, loss = 0.28569358\n",
      "Iteration 111, loss = 0.28596493\n",
      "Iteration 112, loss = 0.28296858\n",
      "Iteration 113, loss = 0.28148120\n",
      "Iteration 114, loss = 0.28184138\n",
      "Iteration 115, loss = 0.28310490\n",
      "Iteration 116, loss = 0.28433672\n",
      "Iteration 117, loss = 0.28070230\n",
      "Iteration 118, loss = 0.28134260\n",
      "Iteration 119, loss = 0.27868197\n",
      "Iteration 120, loss = 0.28011388\n",
      "Iteration 121, loss = 0.28118480\n",
      "Iteration 122, loss = 0.27981794\n",
      "Iteration 123, loss = 0.27662420\n",
      "Iteration 124, loss = 0.27649689\n",
      "Iteration 125, loss = 0.27534171\n",
      "Iteration 126, loss = 0.27846717\n",
      "Iteration 127, loss = 0.27355472\n",
      "Iteration 128, loss = 0.27391474\n",
      "Iteration 129, loss = 0.27393154\n",
      "Iteration 130, loss = 0.27372139\n",
      "Iteration 131, loss = 0.27566357\n",
      "Iteration 132, loss = 0.27357677\n",
      "Iteration 133, loss = 0.26987474\n",
      "Iteration 134, loss = 0.27083089\n",
      "Iteration 135, loss = 0.27304747\n",
      "Iteration 136, loss = 0.27087471\n",
      "Iteration 137, loss = 0.26516404\n",
      "Iteration 138, loss = 0.26845272\n",
      "Iteration 139, loss = 0.27301748\n",
      "Iteration 140, loss = 0.26473765\n",
      "Iteration 141, loss = 0.26374054\n",
      "Iteration 142, loss = 0.26241134\n",
      "Iteration 143, loss = 0.26365781\n",
      "Iteration 144, loss = 0.26022084\n",
      "Iteration 145, loss = 0.26518220\n",
      "Iteration 146, loss = 0.25975275\n",
      "Iteration 147, loss = 0.26046050\n",
      "Iteration 148, loss = 0.25733975\n",
      "Iteration 149, loss = 0.25645098\n",
      "Iteration 150, loss = 0.25658779\n",
      "Iteration 151, loss = 0.25271282\n",
      "Iteration 152, loss = 0.25314595\n",
      "Iteration 153, loss = 0.25597781\n",
      "Iteration 154, loss = 0.25821717\n",
      "Iteration 155, loss = 0.25362863\n",
      "Iteration 156, loss = 0.24964983\n",
      "Iteration 157, loss = inf\n",
      "Iteration 158, loss = 0.25187067\n",
      "Iteration 159, loss = 0.25181511\n",
      "Iteration 160, loss = 0.24840600\n",
      "Iteration 161, loss = 0.24588047\n",
      "Iteration 162, loss = 0.24360997\n",
      "Iteration 163, loss = 0.25029226\n",
      "Iteration 164, loss = 0.24758186\n",
      "Iteration 165, loss = 0.24069200\n",
      "Iteration 166, loss = 0.24473610\n",
      "Iteration 167, loss = 0.25128244\n",
      "Iteration 168, loss = 0.24272819\n",
      "Iteration 169, loss = 0.24095298\n",
      "Iteration 170, loss = 0.24380413\n",
      "Iteration 171, loss = 0.24246212\n",
      "Iteration 172, loss = 0.24193996\n",
      "Iteration 173, loss = 0.23933307\n",
      "Iteration 174, loss = 0.23504315\n",
      "Iteration 175, loss = 0.23696202\n",
      "Iteration 176, loss = 0.23845472\n",
      "Iteration 177, loss = 0.23448827\n",
      "Iteration 178, loss = 0.23740830\n",
      "Iteration 179, loss = 0.23595909\n",
      "Iteration 180, loss = 0.23849081\n",
      "Iteration 181, loss = 0.23344455\n",
      "Iteration 182, loss = 0.23142513\n",
      "Iteration 183, loss = 0.22983042\n",
      "Iteration 184, loss = 0.23404999\n",
      "Iteration 185, loss = 0.23394646\n",
      "Iteration 186, loss = 0.23197421\n",
      "Iteration 187, loss = 0.22887330\n",
      "Iteration 188, loss = 0.23145318\n",
      "Iteration 189, loss = 0.22811358\n",
      "Iteration 190, loss = 0.22454078\n",
      "Iteration 191, loss = 0.22613698\n",
      "Iteration 192, loss = 0.22071567\n",
      "Iteration 193, loss = 0.22297039\n",
      "Iteration 194, loss = 0.23012761\n",
      "Iteration 195, loss = 0.22870807\n",
      "Iteration 196, loss = 0.22215625\n",
      "Iteration 197, loss = 0.22379185\n",
      "Iteration 198, loss = 0.22223694\n",
      "Iteration 199, loss = 0.23111727\n",
      "Iteration 200, loss = 0.22264071\n"
     ]
    },
    {
     "name": "stderr",
     "output_type": "stream",
     "text": [
      "/Users/lucy/anaconda3/lib/python3.5/site-packages/sklearn/neural_network/multilayer_perceptron.py:566: ConvergenceWarning: Stochastic Optimizer: Maximum iterations (200) reached and the optimization hasn't converged yet.\n",
      "  % self.max_iter, ConvergenceWarning)\n"
     ]
    },
    {
     "data": {
      "text/plain": [
       "MLPClassifier(activation='relu', alpha=1e-05, batch_size='auto', beta_1=0.9,\n",
       "              beta_2=0.999, early_stopping=False, epsilon=1e-08,\n",
       "              hidden_layer_sizes=(100, 100, 50, 50, 10),\n",
       "              learning_rate='constant', learning_rate_init=0.001, max_iter=200,\n",
       "              momentum=0.9, n_iter_no_change=10, nesterovs_momentum=True,\n",
       "              power_t=0.5, random_state=42, shuffle=True, solver='adam',\n",
       "              tol=0.0001, validation_fraction=0.1, verbose=True,\n",
       "              warm_start=False)"
      ]
     },
     "execution_count": 3,
     "metadata": {},
     "output_type": "execute_result"
    }
   ],
   "source": [
    "%load_ext autoreload\n",
    "%autoreload 2\n",
    "\n",
    "import sklearn\n",
    "from sklearn.preprocessing import OneHotEncoder\n",
    "from sklearn.compose import make_column_transformer\n",
    "\n",
    "\n",
    "categorical_features_idx = [i for i,a in enumerate(data_table.domain.attributes) if a.is_discrete]\n",
    "\n",
    "scikit_encoder = make_column_transformer(\n",
    "                            ( OneHotEncoder(categories='auto',sparse=False),categorical_features_idx),\n",
    "                            remainder = 'passthrough'\n",
    "                            )\n",
    "scikit_encoder.fit(data_table.X)\n",
    "\n",
    "from sklearn.ensemble import  RandomForestClassifier\n",
    "from sklearn import svm\n",
    "# c =RandomForestClassifier(n_estimators=15, n_jobs=5)\n",
    "# c =RandomForestClassifier(n_estimators=15, n_jobs=5,random_state=random_seed)\n",
    "# c= svm.SVC(gamma='scale')\n",
    "from sklearn.neural_network import MLPClassifier\n",
    "c = MLPClassifier(solver='adam', alpha=1e-5,  hidden_layer_sizes=(100, 100,50,50,10), random_state=random_seed,verbose=True)\n",
    "\n",
    "# c = xgb.XGBRegressor(objective ='reg:linear', colsample_bytree = 0.3, learning_rate = 0.1, max_depth = 5, alpha = 10, n_estimators = 10)\n",
    "c.fit(scikit_encoder.transform(data_table.X), data_table.Y)\n",
    "\n",
    "\n",
    "# black_box = predict_fn"
   ]
  },
  {
   "cell_type": "code",
   "execution_count": null,
   "metadata": {
    "ExecuteTime": {
     "start_time": "2019-07-24T06:12:58.092Z"
    }
   },
   "outputs": [],
   "source": [
    "print(data_table.X.shape)\n",
    "print(test_data_table.X.shape)"
   ]
  },
  {
   "cell_type": "code",
   "execution_count": 5,
   "metadata": {
    "ExecuteTime": {
     "end_time": "2019-07-22T08:33:58.643373Z",
     "start_time": "2019-07-22T08:33:57.385344Z"
    }
   },
   "outputs": [
    {
     "name": "stdout",
     "output_type": "stream",
     "text": [
      "Train acc 0.8973641989456795\n",
      "Test acc 0.8421738321235809\n",
      "acc on training set 0.8973641989456795\n",
      "f1 on training set 0.7720655604194239\n",
      "recall on training set 0.7166887166887167\n",
      "precision on training set 0.8367166813768756\n",
      "acc on test set 0.8421738321235809\n",
      "f1 on test set 0.6372968349016254\n",
      "recall on test set 0.5843137254901961\n",
      "precision on test set 0.7008466603951082\n"
     ]
    }
   ],
   "source": [
    "\n",
    "from sklearn.metrics import accuracy_score,f1_score,precision_score,recall_score\n",
    "import sklearn\n",
    "# predict_fn = lambda x: aml.predict(H2OFrame(x)).as_data_frame().iloc[:,0].to_numpy()\n",
    "\n",
    "predict_fn = lambda x: c.predict(scikit_encoder.transform(x))\n",
    "\n",
    "print('Train acc', accuracy_score(data_table.Y, predict_fn(data_table.X)))\n",
    "print('Test acc', accuracy_score(test_data_table.Y, predict_fn(test_data_table.X)))\n",
    "\n",
    "print('acc on training set', sklearn.metrics.accuracy_score(data_table.Y, predict_fn(data_table.X)))\n",
    "print('f1 on training set', sklearn.metrics.f1_score(data_table.Y, predict_fn(data_table.X)))\n",
    "print('recall on training set', sklearn.metrics.recall_score(data_table.Y, predict_fn(data_table.X)))\n",
    "print('precision on training set', sklearn.metrics.precision_score(data_table.Y, predict_fn(data_table.X)))\n",
    "\n",
    "print('acc on test set', sklearn.metrics.accuracy_score(test_data_table.Y, predict_fn(test_data_table.X)))\n",
    "print('f1 on test set', sklearn.metrics.f1_score(test_data_table.Y, predict_fn(test_data_table.X)))\n",
    "print('recall on test set', sklearn.metrics.recall_score(test_data_table.Y, predict_fn(test_data_table.X)))\n",
    "print('precision on test set', sklearn.metrics.precision_score(test_data_table.Y, predict_fn(test_data_table.X)))\n"
   ]
  },
  {
   "cell_type": "code",
   "execution_count": 6,
   "metadata": {
    "ExecuteTime": {
     "end_time": "2019-07-22T08:33:59.105090Z",
     "start_time": "2019-07-22T08:33:58.647268Z"
    }
   },
   "outputs": [
    {
     "name": "stdout",
     "output_type": "stream",
     "text": [
      "[[51.000, Private, Masters, Married-civ-spouse, Exec-managerial, Husband, White, Male, 0.000, 0.000, 50.000, United-States | >50K],\n",
      " [46.000, Private, HS-grad, Married-spouse-absent, Prof-specialty, Not-in-family, Asian-Pac-Islander, Male, 0.000, 0.000, 40.000, Philippines | <=50K],\n",
      " [25.000, Private, Bachelors, Never-married, Prof-specialty, Own-child, Black, Female, 0.000, 0.000, 55.000, United-States | <=50K],\n",
      " [27.000, Private, Assoc-acdm, Never-married, Other-service, Not-in-family, White, Male, 0.000, 0.000, 40.000, United-States | <=50K],\n",
      " [47.000, Local-gov, Masters, Married-civ-spouse, Prof-specialty, Husband, White, Male, 7688.000, 0.000, 45.000, United-States | >50K]]\n",
      "21815\n",
      "10746\n",
      "sanity check, of acc,should be 100 1.0\n"
     ]
    }
   ],
   "source": [
    "black_box = predict_fn\n",
    "\n",
    "from utils import label_with_blackbox\n",
    "\n",
    "predicted_data_table = label_with_blackbox(data_table,black_box)\n",
    "\n",
    "predicted_test_data_table = label_with_blackbox(test_data_table,black_box)\n",
    "\n",
    "\n",
    "print(predicted_data_table[:5])\n",
    "print(predicted_data_table.X.shape[0])\n",
    "print(predicted_test_data_table.X.shape[0])\n",
    "\n",
    "print('sanity check, of acc,should be 100', accuracy_score(predicted_data_table.Y, predict_fn(predicted_data_table.X)))"
   ]
  },
  {
   "cell_type": "markdown",
   "metadata": {},
   "source": [
    "prepare the dataset and the data encoder"
   ]
  },
  {
   "cell_type": "markdown",
   "metadata": {
    "heading_collapsed": true
   },
   "source": [
    "## IDS"
   ]
  },
  {
   "cell_type": "code",
   "execution_count": 7,
   "metadata": {
    "ExecuteTime": {
     "end_time": "2019-07-21T09:46:15.938275Z",
     "start_time": "2019-07-21T09:45:53.231575Z"
    },
    "hidden": true
   },
   "outputs": [
    {
     "name": "stdout",
     "output_type": "stream",
     "text": [
      "The autoreload extension is already loaded. To reload it, use:\n",
      "  %reload_ext autoreload\n",
      "['age', 'workclass', 'education', 'marital-status', 'occupation', 'relationship', 'race', 'sex', 'capital-gain', 'capital-loss', 'hours-per-week', 'native-country']\n",
      "defaultdict(<class 'int'>, {'education': 16, 'age': 7, 'relationship': 6, 'occupation': 14, 'marital-status': 7, 'capital-loss': 12, 'workclass': 8, 'race': 5, 'native-country': 41, 'sex': 2, 'capital-gain': 15, 'hours-per-week': 6})\n"
     ]
    },
    {
     "ename": "KeyboardInterrupt",
     "evalue": "",
     "output_type": "error",
     "traceback": [
      "\u001b[0;31m---------------------------------------------------------------------------\u001b[0m",
      "\u001b[0;31mKeyboardInterrupt\u001b[0m                         Traceback (most recent call last)",
      "\u001b[0;32m<ipython-input-7-a20a2825199e>\u001b[0m in \u001b[0;36m<module>\u001b[0;34m()\u001b[0m\n\u001b[1;32m      5\u001b[0m \u001b[0;34m\u001b[0m\u001b[0m\n\u001b[1;32m      6\u001b[0m \u001b[0miter_max\u001b[0m \u001b[0;34m=\u001b[0m \u001b[0;36m1000\u001b[0m\u001b[0;34m\u001b[0m\u001b[0m\n\u001b[0;32m----> 7\u001b[0;31m \u001b[0mexplanations\u001b[0m\u001b[0;34m=\u001b[0m \u001b[0mexplain_tabular\u001b[0m\u001b[0;34m(\u001b[0m\u001b[0mpredicted_data_table\u001b[0m\u001b[0;34m,\u001b[0m \u001b[0mblack_box\u001b[0m\u001b[0;34m,\u001b[0m \u001b[0mtarget_class_idx\u001b[0m\u001b[0;34m=\u001b[0m\u001b[0;36m1\u001b[0m\u001b[0;34m,\u001b[0m \u001b[0mrandom_seed\u001b[0m\u001b[0;34m=\u001b[0m\u001b[0;36m42\u001b[0m\u001b[0;34m)\u001b[0m\u001b[0;34m\u001b[0m\u001b[0m\n\u001b[0m\u001b[1;32m      8\u001b[0m \u001b[0;34m\u001b[0m\u001b[0m\n\u001b[1;32m      9\u001b[0m \u001b[0;31m# from competition_methods_explanation.passive_methods.cn2 import cn2_tabular\u001b[0m\u001b[0;34m\u001b[0m\u001b[0;34m\u001b[0m\u001b[0m\n",
      "\u001b[0;32m~/Desktop/workspace/Descriptive-Induction-ML/competition_methods_explanation/passive_methods/brs.py\u001b[0m in \u001b[0;36mexplain_tabular\u001b[0;34m(dataset, blackbox, target_class_idx, pre_label, random_seed)\u001b[0m\n\u001b[1;32m     31\u001b[0m     \u001b[0mtarget_class\u001b[0m \u001b[0;34m=\u001b[0m \u001b[0mdataset\u001b[0m\u001b[0;34m.\u001b[0m\u001b[0mdomain\u001b[0m\u001b[0;34m.\u001b[0m\u001b[0mclass_var\u001b[0m\u001b[0;34m.\u001b[0m\u001b[0mvalues\u001b[0m\u001b[0;34m[\u001b[0m\u001b[0mtarget_class_idx\u001b[0m\u001b[0;34m]\u001b[0m\u001b[0;34m\u001b[0m\u001b[0m\n\u001b[1;32m     32\u001b[0m     \u001b[0mexplainer\u001b[0m \u001b[0;34m=\u001b[0m \u001b[0mBRS\u001b[0m\u001b[0;34m(\u001b[0m\u001b[0mdataset\u001b[0m\u001b[0;34m,\u001b[0m \u001b[0mblackbox\u001b[0m\u001b[0;34m)\u001b[0m\u001b[0;34m\u001b[0m\u001b[0m\n\u001b[0;32m---> 33\u001b[0;31m     \u001b[0mrule_set\u001b[0m \u001b[0;34m=\u001b[0m \u001b[0mexplainer\u001b[0m\u001b[0;34m.\u001b[0m\u001b[0mfit\u001b[0m\u001b[0;34m(\u001b[0m\u001b[0mdataset\u001b[0m\u001b[0;34m.\u001b[0m\u001b[0mdomain\u001b[0m\u001b[0;34m,\u001b[0m\u001b[0mdataset\u001b[0m\u001b[0;34m.\u001b[0m\u001b[0mX\u001b[0m\u001b[0;34m,\u001b[0m\u001b[0mdataset\u001b[0m\u001b[0;34m.\u001b[0m\u001b[0mY\u001b[0m\u001b[0;34m,\u001b[0m\u001b[0mtarget_class\u001b[0m\u001b[0;34m=\u001b[0m\u001b[0mtarget_class\u001b[0m\u001b[0;34m)\u001b[0m\u001b[0;34m\u001b[0m\u001b[0m\n\u001b[0m\u001b[1;32m     34\u001b[0m \u001b[0;34m\u001b[0m\u001b[0m\n\u001b[1;32m     35\u001b[0m     \u001b[0;31m# convert the rule representation\u001b[0m\u001b[0;34m\u001b[0m\u001b[0;34m\u001b[0m\u001b[0m\n",
      "\u001b[0;32m~/Desktop/workspace/Descriptive-Induction-ML/competition_methods_explanation/passive_methods/BRS/model.py\u001b[0m in \u001b[0;36mfit\u001b[0;34m(self, domain, X, Y, target_class, Niteration)\u001b[0m\n\u001b[1;32m     58\u001b[0m         \u001b[0msupp_num\u001b[0m \u001b[0;34m=\u001b[0m \u001b[0mint\u001b[0m\u001b[0;34m(\u001b[0m\u001b[0mX\u001b[0m\u001b[0;34m.\u001b[0m\u001b[0mshape\u001b[0m\u001b[0;34m[\u001b[0m\u001b[0;36m0\u001b[0m\u001b[0;34m]\u001b[0m\u001b[0;34m*\u001b[0m\u001b[0msupp\u001b[0m\u001b[0;34m)\u001b[0m\u001b[0;34m\u001b[0m\u001b[0m\n\u001b[1;32m     59\u001b[0m \u001b[0;34m\u001b[0m\u001b[0m\n\u001b[0;32m---> 60\u001b[0;31m         \u001b[0mself\u001b[0m\u001b[0;34m.\u001b[0m\u001b[0mgenerate_rules\u001b[0m\u001b[0;34m(\u001b[0m\u001b[0msupp_num\u001b[0m\u001b[0;34m,\u001b[0m\u001b[0mmaxlen\u001b[0m\u001b[0;34m,\u001b[0m\u001b[0mN\u001b[0m\u001b[0;34m,\u001b[0m\u001b[0mmethod\u001b[0m\u001b[0;34m=\u001b[0m\u001b[0;34m'fpgrowth'\u001b[0m\u001b[0;34m)\u001b[0m\u001b[0;34m\u001b[0m\u001b[0m\n\u001b[0m\u001b[1;32m     61\u001b[0m         \u001b[0mself\u001b[0m\u001b[0;34m.\u001b[0m\u001b[0mset_parameters\u001b[0m\u001b[0;34m(\u001b[0m\u001b[0malpha_1\u001b[0m\u001b[0;34m,\u001b[0m\u001b[0mbeta_1\u001b[0m\u001b[0;34m,\u001b[0m\u001b[0malpha_2\u001b[0m\u001b[0;34m,\u001b[0m\u001b[0mbeta_2\u001b[0m\u001b[0;34m,\u001b[0m\u001b[0;32mNone\u001b[0m\u001b[0;34m,\u001b[0m\u001b[0;32mNone\u001b[0m\u001b[0;34m)\u001b[0m\u001b[0;34m\u001b[0m\u001b[0m\n\u001b[1;32m     62\u001b[0m         \u001b[0mrules\u001b[0m \u001b[0;34m=\u001b[0m \u001b[0mself\u001b[0m\u001b[0;34m.\u001b[0m\u001b[0mSA_patternbased\u001b[0m\u001b[0;34m(\u001b[0m\u001b[0mNiteration\u001b[0m\u001b[0;34m,\u001b[0m\u001b[0mNchain\u001b[0m\u001b[0;34m,\u001b[0m\u001b[0mprint_message\u001b[0m\u001b[0;34m=\u001b[0m\u001b[0;32mFalse\u001b[0m\u001b[0;34m)\u001b[0m\u001b[0;34m\u001b[0m\u001b[0m\n",
      "\u001b[0;32m~/Desktop/workspace/Descriptive-Induction-ML/competition_methods_explanation/passive_methods/BRS/model.py\u001b[0m in \u001b[0;36mgenerate_rules\u001b[0;34m(self, supp, maxlen, N, method)\u001b[0m\n\u001b[1;32m     91\u001b[0m         \u001b[0mdf\u001b[0m \u001b[0;34m=\u001b[0m \u001b[0mpd\u001b[0m\u001b[0;34m.\u001b[0m\u001b[0mconcat\u001b[0m\u001b[0;34m(\u001b[0m\u001b[0;34m[\u001b[0m\u001b[0mself\u001b[0m\u001b[0;34m.\u001b[0m\u001b[0mdf\u001b[0m\u001b[0;34m,\u001b[0m\u001b[0mdf\u001b[0m\u001b[0;34m]\u001b[0m\u001b[0;34m,\u001b[0m\u001b[0maxis\u001b[0m \u001b[0;34m=\u001b[0m \u001b[0;36m1\u001b[0m\u001b[0;34m)\u001b[0m\u001b[0;34m\u001b[0m\u001b[0m\n\u001b[1;32m     92\u001b[0m         \u001b[0;32mif\u001b[0m \u001b[0mmethod\u001b[0m \u001b[0;34m==\u001b[0m\u001b[0;34m'fpgrowth'\u001b[0m \u001b[0;32mand\u001b[0m \u001b[0mmaxlen\u001b[0m\u001b[0;34m<=\u001b[0m\u001b[0;36m3\u001b[0m\u001b[0;34m:\u001b[0m\u001b[0;34m\u001b[0m\u001b[0m\n\u001b[0;32m---> 93\u001b[0;31m             \u001b[0mitemMatrix\u001b[0m \u001b[0;34m=\u001b[0m \u001b[0;34m[\u001b[0m\u001b[0;34m[\u001b[0m\u001b[0mitem\u001b[0m \u001b[0;32mfor\u001b[0m \u001b[0mitem\u001b[0m \u001b[0;32min\u001b[0m \u001b[0mdf\u001b[0m\u001b[0;34m.\u001b[0m\u001b[0mcolumns\u001b[0m \u001b[0;32mif\u001b[0m \u001b[0mrow\u001b[0m\u001b[0;34m[\u001b[0m\u001b[0mitem\u001b[0m\u001b[0;34m]\u001b[0m \u001b[0;34m==\u001b[0m\u001b[0;36m1\u001b[0m\u001b[0;34m]\u001b[0m \u001b[0;32mfor\u001b[0m \u001b[0mi\u001b[0m\u001b[0;34m,\u001b[0m\u001b[0mrow\u001b[0m \u001b[0;32min\u001b[0m \u001b[0mdf\u001b[0m\u001b[0;34m.\u001b[0m\u001b[0miterrows\u001b[0m\u001b[0;34m(\u001b[0m\u001b[0;34m)\u001b[0m \u001b[0;34m]\u001b[0m\u001b[0;34m\u001b[0m\u001b[0m\n\u001b[0m\u001b[1;32m     94\u001b[0m             \u001b[0mpindex\u001b[0m \u001b[0;34m=\u001b[0m \u001b[0mnp\u001b[0m\u001b[0;34m.\u001b[0m\u001b[0mwhere\u001b[0m\u001b[0;34m(\u001b[0m\u001b[0mself\u001b[0m\u001b[0;34m.\u001b[0m\u001b[0mY\u001b[0m\u001b[0;34m==\u001b[0m\u001b[0;36m1\u001b[0m\u001b[0;34m)\u001b[0m\u001b[0;34m[\u001b[0m\u001b[0;36m0\u001b[0m\u001b[0;34m]\u001b[0m\u001b[0;34m\u001b[0m\u001b[0m\n\u001b[1;32m     95\u001b[0m             \u001b[0mnindex\u001b[0m \u001b[0;34m=\u001b[0m \u001b[0mnp\u001b[0m\u001b[0;34m.\u001b[0m\u001b[0mwhere\u001b[0m\u001b[0;34m(\u001b[0m\u001b[0mself\u001b[0m\u001b[0;34m.\u001b[0m\u001b[0mY\u001b[0m\u001b[0;34m!=\u001b[0m\u001b[0;36m1\u001b[0m\u001b[0;34m)\u001b[0m\u001b[0;34m[\u001b[0m\u001b[0;36m0\u001b[0m\u001b[0;34m]\u001b[0m\u001b[0;34m\u001b[0m\u001b[0m\n",
      "\u001b[0;32m~/Desktop/workspace/Descriptive-Induction-ML/competition_methods_explanation/passive_methods/BRS/model.py\u001b[0m in \u001b[0;36m<listcomp>\u001b[0;34m(.0)\u001b[0m\n\u001b[1;32m     91\u001b[0m         \u001b[0mdf\u001b[0m \u001b[0;34m=\u001b[0m \u001b[0mpd\u001b[0m\u001b[0;34m.\u001b[0m\u001b[0mconcat\u001b[0m\u001b[0;34m(\u001b[0m\u001b[0;34m[\u001b[0m\u001b[0mself\u001b[0m\u001b[0;34m.\u001b[0m\u001b[0mdf\u001b[0m\u001b[0;34m,\u001b[0m\u001b[0mdf\u001b[0m\u001b[0;34m]\u001b[0m\u001b[0;34m,\u001b[0m\u001b[0maxis\u001b[0m \u001b[0;34m=\u001b[0m \u001b[0;36m1\u001b[0m\u001b[0;34m)\u001b[0m\u001b[0;34m\u001b[0m\u001b[0m\n\u001b[1;32m     92\u001b[0m         \u001b[0;32mif\u001b[0m \u001b[0mmethod\u001b[0m \u001b[0;34m==\u001b[0m\u001b[0;34m'fpgrowth'\u001b[0m \u001b[0;32mand\u001b[0m \u001b[0mmaxlen\u001b[0m\u001b[0;34m<=\u001b[0m\u001b[0;36m3\u001b[0m\u001b[0;34m:\u001b[0m\u001b[0;34m\u001b[0m\u001b[0m\n\u001b[0;32m---> 93\u001b[0;31m             \u001b[0mitemMatrix\u001b[0m \u001b[0;34m=\u001b[0m \u001b[0;34m[\u001b[0m\u001b[0;34m[\u001b[0m\u001b[0mitem\u001b[0m \u001b[0;32mfor\u001b[0m \u001b[0mitem\u001b[0m \u001b[0;32min\u001b[0m \u001b[0mdf\u001b[0m\u001b[0;34m.\u001b[0m\u001b[0mcolumns\u001b[0m \u001b[0;32mif\u001b[0m \u001b[0mrow\u001b[0m\u001b[0;34m[\u001b[0m\u001b[0mitem\u001b[0m\u001b[0;34m]\u001b[0m \u001b[0;34m==\u001b[0m\u001b[0;36m1\u001b[0m\u001b[0;34m]\u001b[0m \u001b[0;32mfor\u001b[0m \u001b[0mi\u001b[0m\u001b[0;34m,\u001b[0m\u001b[0mrow\u001b[0m \u001b[0;32min\u001b[0m \u001b[0mdf\u001b[0m\u001b[0;34m.\u001b[0m\u001b[0miterrows\u001b[0m\u001b[0;34m(\u001b[0m\u001b[0;34m)\u001b[0m \u001b[0;34m]\u001b[0m\u001b[0;34m\u001b[0m\u001b[0m\n\u001b[0m\u001b[1;32m     94\u001b[0m             \u001b[0mpindex\u001b[0m \u001b[0;34m=\u001b[0m \u001b[0mnp\u001b[0m\u001b[0;34m.\u001b[0m\u001b[0mwhere\u001b[0m\u001b[0;34m(\u001b[0m\u001b[0mself\u001b[0m\u001b[0;34m.\u001b[0m\u001b[0mY\u001b[0m\u001b[0;34m==\u001b[0m\u001b[0;36m1\u001b[0m\u001b[0;34m)\u001b[0m\u001b[0;34m[\u001b[0m\u001b[0;36m0\u001b[0m\u001b[0;34m]\u001b[0m\u001b[0;34m\u001b[0m\u001b[0m\n\u001b[1;32m     95\u001b[0m             \u001b[0mnindex\u001b[0m \u001b[0;34m=\u001b[0m \u001b[0mnp\u001b[0m\u001b[0;34m.\u001b[0m\u001b[0mwhere\u001b[0m\u001b[0;34m(\u001b[0m\u001b[0mself\u001b[0m\u001b[0;34m.\u001b[0m\u001b[0mY\u001b[0m\u001b[0;34m!=\u001b[0m\u001b[0;36m1\u001b[0m\u001b[0;34m)\u001b[0m\u001b[0;34m[\u001b[0m\u001b[0;36m0\u001b[0m\u001b[0;34m]\u001b[0m\u001b[0;34m\u001b[0m\u001b[0m\n",
      "\u001b[0;32m~/Desktop/workspace/Descriptive-Induction-ML/competition_methods_explanation/passive_methods/BRS/model.py\u001b[0m in \u001b[0;36m<listcomp>\u001b[0;34m(.0)\u001b[0m\n\u001b[1;32m     91\u001b[0m         \u001b[0mdf\u001b[0m \u001b[0;34m=\u001b[0m \u001b[0mpd\u001b[0m\u001b[0;34m.\u001b[0m\u001b[0mconcat\u001b[0m\u001b[0;34m(\u001b[0m\u001b[0;34m[\u001b[0m\u001b[0mself\u001b[0m\u001b[0;34m.\u001b[0m\u001b[0mdf\u001b[0m\u001b[0;34m,\u001b[0m\u001b[0mdf\u001b[0m\u001b[0;34m]\u001b[0m\u001b[0;34m,\u001b[0m\u001b[0maxis\u001b[0m \u001b[0;34m=\u001b[0m \u001b[0;36m1\u001b[0m\u001b[0;34m)\u001b[0m\u001b[0;34m\u001b[0m\u001b[0m\n\u001b[1;32m     92\u001b[0m         \u001b[0;32mif\u001b[0m \u001b[0mmethod\u001b[0m \u001b[0;34m==\u001b[0m\u001b[0;34m'fpgrowth'\u001b[0m \u001b[0;32mand\u001b[0m \u001b[0mmaxlen\u001b[0m\u001b[0;34m<=\u001b[0m\u001b[0;36m3\u001b[0m\u001b[0;34m:\u001b[0m\u001b[0;34m\u001b[0m\u001b[0m\n\u001b[0;32m---> 93\u001b[0;31m             \u001b[0mitemMatrix\u001b[0m \u001b[0;34m=\u001b[0m \u001b[0;34m[\u001b[0m\u001b[0;34m[\u001b[0m\u001b[0mitem\u001b[0m \u001b[0;32mfor\u001b[0m \u001b[0mitem\u001b[0m \u001b[0;32min\u001b[0m \u001b[0mdf\u001b[0m\u001b[0;34m.\u001b[0m\u001b[0mcolumns\u001b[0m \u001b[0;32mif\u001b[0m \u001b[0mrow\u001b[0m\u001b[0;34m[\u001b[0m\u001b[0mitem\u001b[0m\u001b[0;34m]\u001b[0m \u001b[0;34m==\u001b[0m\u001b[0;36m1\u001b[0m\u001b[0;34m]\u001b[0m \u001b[0;32mfor\u001b[0m \u001b[0mi\u001b[0m\u001b[0;34m,\u001b[0m\u001b[0mrow\u001b[0m \u001b[0;32min\u001b[0m \u001b[0mdf\u001b[0m\u001b[0;34m.\u001b[0m\u001b[0miterrows\u001b[0m\u001b[0;34m(\u001b[0m\u001b[0;34m)\u001b[0m \u001b[0;34m]\u001b[0m\u001b[0;34m\u001b[0m\u001b[0m\n\u001b[0m\u001b[1;32m     94\u001b[0m             \u001b[0mpindex\u001b[0m \u001b[0;34m=\u001b[0m \u001b[0mnp\u001b[0m\u001b[0;34m.\u001b[0m\u001b[0mwhere\u001b[0m\u001b[0;34m(\u001b[0m\u001b[0mself\u001b[0m\u001b[0;34m.\u001b[0m\u001b[0mY\u001b[0m\u001b[0;34m==\u001b[0m\u001b[0;36m1\u001b[0m\u001b[0;34m)\u001b[0m\u001b[0;34m[\u001b[0m\u001b[0;36m0\u001b[0m\u001b[0;34m]\u001b[0m\u001b[0;34m\u001b[0m\u001b[0m\n\u001b[1;32m     95\u001b[0m             \u001b[0mnindex\u001b[0m \u001b[0;34m=\u001b[0m \u001b[0mnp\u001b[0m\u001b[0;34m.\u001b[0m\u001b[0mwhere\u001b[0m\u001b[0;34m(\u001b[0m\u001b[0mself\u001b[0m\u001b[0;34m.\u001b[0m\u001b[0mY\u001b[0m\u001b[0;34m!=\u001b[0m\u001b[0;36m1\u001b[0m\u001b[0;34m)\u001b[0m\u001b[0;34m[\u001b[0m\u001b[0;36m0\u001b[0m\u001b[0;34m]\u001b[0m\u001b[0;34m\u001b[0m\u001b[0m\n",
      "\u001b[0;32m~/anaconda3/lib/python3.5/site-packages/pandas/core/series.py\u001b[0m in \u001b[0;36m__getitem__\u001b[0;34m(self, key)\u001b[0m\n\u001b[1;32m    866\u001b[0m         \u001b[0mkey\u001b[0m \u001b[0;34m=\u001b[0m \u001b[0mcom\u001b[0m\u001b[0;34m.\u001b[0m\u001b[0mapply_if_callable\u001b[0m\u001b[0;34m(\u001b[0m\u001b[0mkey\u001b[0m\u001b[0;34m,\u001b[0m \u001b[0mself\u001b[0m\u001b[0;34m)\u001b[0m\u001b[0;34m\u001b[0m\u001b[0m\n\u001b[1;32m    867\u001b[0m         \u001b[0;32mtry\u001b[0m\u001b[0;34m:\u001b[0m\u001b[0;34m\u001b[0m\u001b[0m\n\u001b[0;32m--> 868\u001b[0;31m             \u001b[0mresult\u001b[0m \u001b[0;34m=\u001b[0m \u001b[0mself\u001b[0m\u001b[0;34m.\u001b[0m\u001b[0mindex\u001b[0m\u001b[0;34m.\u001b[0m\u001b[0mget_value\u001b[0m\u001b[0;34m(\u001b[0m\u001b[0mself\u001b[0m\u001b[0;34m,\u001b[0m \u001b[0mkey\u001b[0m\u001b[0;34m)\u001b[0m\u001b[0;34m\u001b[0m\u001b[0m\n\u001b[0m\u001b[1;32m    869\u001b[0m \u001b[0;34m\u001b[0m\u001b[0m\n\u001b[1;32m    870\u001b[0m             \u001b[0;32mif\u001b[0m \u001b[0;32mnot\u001b[0m \u001b[0mis_scalar\u001b[0m\u001b[0;34m(\u001b[0m\u001b[0mresult\u001b[0m\u001b[0;34m)\u001b[0m\u001b[0;34m:\u001b[0m\u001b[0;34m\u001b[0m\u001b[0m\n",
      "\u001b[0;31mKeyboardInterrupt\u001b[0m: "
     ]
    }
   ],
   "source": [
    "%load_ext autoreload\n",
    "%autoreload 2\n",
    "# from competition_methods_explanation.passive_methods.ids import explain_tabular\n",
    "from competition_methods_explanation.passive_methods.brs import explain_tabular\n",
    "\n",
    "iter_max = 1000\n",
    "explanations= explain_tabular(predicted_data_table, black_box, target_class_idx=1, random_seed=42)\n",
    "\n",
    "# from competition_methods_explanation.passive_methods.cn2 import cn2_tabular\n",
    "# explanations = cn2_tabular(data_table,  black_box, target_class_idx = 1, random_seed=42)"
   ]
  },
  {
   "cell_type": "code",
   "execution_count": null,
   "metadata": {
    "ExecuteTime": {
     "end_time": "2019-07-21T09:46:15.941504Z",
     "start_time": "2019-07-21T09:45:46.389Z"
    },
    "hidden": true
   },
   "outputs": [],
   "source": [
    "\n",
    "\n",
    "from utils import  rule_to_string_BRS_compat,bds_ruleset_predict\n",
    "for e in explanations:\n",
    "    print(rule_to_string_BRS_compat(e,data_table.domain,target_class_idx=1))\n",
    "    \n",
    "our_prediction = bds_ruleset_predict(explanations,test_data_table.X,domain=test_data_table.domain)\n",
    "print(sum(our_prediction) )\n",
    "\n",
    "\n",
    "import sklearn\n",
    "print('Blackbox and our, f1 score', sklearn.metrics.f1_score(predicted_test_data_table.Y, our_prediction))\n",
    "print('Blackbox and our, acc', sklearn.metrics.accuracy_score(predicted_test_data_table.Y, our_prediction))\n",
    "print('Blackbox and our,recall', sklearn.metrics.recall_score(predicted_test_data_table.Y, our_prediction))\n",
    "print('Blackbox and our,precision', sklearn.metrics.precision_score(predicted_test_data_table.Y, our_prediction))\n",
    "\n",
    "from utils import  rule_to_string\n",
    "print('number of rules:',len(explanations))\n",
    "# print(\"new instances\",ADS.synthetic_data_table.X.shape[0])\n"
   ]
  },
  {
   "cell_type": "code",
   "execution_count": null,
   "metadata": {
    "ExecuteTime": {
     "end_time": "2019-07-21T09:46:15.945956Z",
     "start_time": "2019-07-21T09:45:46.391Z"
    },
    "hidden": true
   },
   "outputs": [],
   "source": [
    "data_table.domain.class_var"
   ]
  },
  {
   "cell_type": "markdown",
   "metadata": {},
   "source": [
    "## SBRL"
   ]
  },
  {
   "cell_type": "code",
   "execution_count": null,
   "metadata": {},
   "outputs": [],
   "source": []
  },
  {
   "cell_type": "code",
   "execution_count": null,
   "metadata": {},
   "outputs": [],
   "source": []
  },
  {
   "cell_type": "markdown",
   "metadata": {},
   "source": [
    "## Non-active ours"
   ]
  },
  {
   "cell_type": "code",
   "execution_count": 7,
   "metadata": {
    "ExecuteTime": {
     "end_time": "2019-07-22T10:05:13.988146Z",
     "start_time": "2019-07-22T08:33:59.109180Z"
    }
   },
   "outputs": [
    {
     "name": "stdout",
     "output_type": "stream",
     "text": [
      "The autoreload extension is already loaded. To reload it, use:\n",
      "  %reload_ext autoreload\n",
      "using Cache\n",
      "new cached!\n"
     ]
    },
    {
     "data": {
      "application/vnd.jupyter.widget-view+json": {
       "model_id": "bf3763004ca44420b24388861b38d633",
       "version_major": 2,
       "version_minor": 0
      },
      "text/plain": [
       "HBox(children=(IntProgress(value=0, max=1000), HTML(value='')))"
      ]
     },
     "metadata": {},
     "output_type": "display_data"
    },
    {
     "name": "stdout",
     "output_type": "stream",
     "text": [
      "\n",
      "Now print Error Log\n",
      "no error happens\n"
     ]
    }
   ],
   "source": [
    "%load_ext autoreload\n",
    "%autoreload 2\n",
    "from approach import explain_tabular\n",
    "iter_max = 1000\n",
    "non_active_explanations,ADS = explain_tabular(predicted_data_table,black_box, target_class_idx=1, random_seed=42,beta=0,lambda_parameter=0.001)"
   ]
  },
  {
   "cell_type": "code",
   "execution_count": 8,
   "metadata": {
    "ExecuteTime": {
     "end_time": "2019-07-22T10:05:19.583233Z",
     "start_time": "2019-07-22T10:05:13.991047Z"
    }
   },
   "outputs": [
    {
     "name": "stdout",
     "output_type": "stream",
     "text": [
      "number of rules 41\n",
      "IF 17.0 <= age <= 24.0 AND education is Doctorate,HS-grad AND marital-status is Never-married AND native-country is Cambodia THEN class=>50K \n",
      "IF occupation is Armed-Forces AND 1.0 <= hours-per-week <= 45.0 AND native-country is Cambodia THEN class=>50K \n",
      "IF 17.0 <= age <= 25.0 AND occupation is Armed-Forces AND 1.0 <= hours-per-week <= 45.0 AND native-country is Honduras THEN class=>50K \n",
      "IF education is Bachelors,Masters,Prof-school AND marital-status is Married-civ-spouse THEN class=>50K \n",
      "IF 17.0 <= age <= 57.150000000000006 AND education is Doctorate AND marital-status is Married-civ-spouse,Never-married AND native-country is Japan THEN class=>50K \n",
      "IF workclass is Local-gov,State-gov AND native-country is Columbia THEN class=>50K \n",
      "IF 17.0 <= age <= 49.85 AND workclass is Self-emp-not-inc,Without-pay AND native-country is Cambodia THEN class=>50K \n",
      "IF 17.0 <= age <= 24.0 AND education is Doctorate AND marital-status is Married-civ-spouse,Never-married AND native-country is Cambodia,United-States THEN class=>50K \n",
      "IF education is 11th,Masters AND native-country is Greece THEN class=>50K \n",
      "IF marital-status is Never-married AND occupation is Armed-Forces,Sales AND native-country is Hungary THEN class=>50K \n",
      "IF 17.0 <= age <= 24.0 AND education is Doctorate AND marital-status is Never-married AND native-country is Hungary THEN class=>50K \n",
      "IF 5013.0 <= capital-gain <= 99999.0 THEN class=>50K \n",
      "IF 17.0 <= age <= 25.0 AND marital-status is Never-married AND occupation is Armed-Forces AND 1.0 <= hours-per-week <= 45.0 AND native-country is Honduras THEN class=>50K \n",
      "IF 17.0 <= age <= 25.0 AND workclass is Without-pay AND marital-status is Never-married AND 1.0 <= hours-per-week <= 45.0 AND native-country is Cambodia THEN class=>50K \n",
      "IF education is Prof-school AND marital-status is Never-married AND 1.0 <= hours-per-week <= 45.0 AND native-country is Laos THEN class=>50K \n",
      "IF workclass is Without-pay AND marital-status is Married-civ-spouse,Never-married AND 1.0 <= hours-per-week <= 50.0 AND native-country is Hungary THEN class=>50K \n",
      "IF workclass is Without-pay AND native-country is Hungary THEN class=>50K \n",
      "IF education is Doctorate AND marital-status is Married-civ-spouse,Never-married AND native-country is Hungary THEN class=>50K \n",
      "IF relationship is Husband,Unmarried,Wife AND native-country is France THEN class=>50K \n",
      "IF 17.0 <= age <= 25.0 AND workclass is Without-pay AND native-country is Ecuador THEN class=>50K \n",
      "IF education is Doctorate AND relationship is Husband,Own-child,Wife THEN class=>50K \n",
      "IF 17.0 <= age <= 24.0 AND education is Doctorate AND native-country is Cambodia THEN class=>50K \n",
      "IF education is Prof-school AND marital-status is Never-married AND 1.0 <= hours-per-week <= 45.0 AND native-country is Cambodia THEN class=>50K \n",
      "IF 17.0 <= age <= 24.0 AND education is Doctorate,HS-grad AND marital-status is Never-married AND native-country is Laos THEN class=>50K \n",
      "IF 17.0 <= age <= 24.0 AND education is Bachelors,Doctorate AND marital-status is Married-civ-spouse,Never-married AND native-country is Honduras THEN class=>50K \n",
      "IF 17.0 <= age <= 24.0 AND education is Doctorate AND marital-status is Married-civ-spouse,Never-married AND native-country is Laos,United-States THEN class=>50K \n",
      "IF education is 10th,Assoc-acdm,Masters AND native-country is Japan THEN class=>50K \n",
      "IF 17.0 <= age <= 24.0 AND education is Doctorate,HS-grad AND marital-status is Married-civ-spouse,Never-married AND native-country is Japan THEN class=>50K \n",
      "IF 17.0 <= age <= 25.0 AND education is Prof-school AND marital-status is Never-married AND 1.0 <= hours-per-week <= 45.0 AND native-country is Honduras THEN class=>50K \n",
      "IF relationship is Other-relative AND 2444.0 <= capital-loss <= 4356.0 THEN class=>50K \n",
      "IF relationship is Other-relative AND native-country is Canada THEN class=>50K \n",
      "IF education is 10th AND native-country is Cuba THEN class=>50K \n",
      "IF occupation is Exec-managerial,Other-service,Tech-support AND native-country is India THEN class=>50K \n",
      "IF 17.0 <= age <= 28.0 AND native-country is Trinadad&Tobago THEN class=>50K \n",
      "IF occupation is Exec-managerial,Tech-support AND native-country is Guatemala THEN class=>50K \n",
      "IF occupation is Armed-Forces,Sales AND 1.0 <= hours-per-week <= 45.0 AND native-country is Cambodia THEN class=>50K \n",
      "IF workclass is Without-pay AND native-country is Ecuador THEN class=>50K \n",
      "IF 17.0 <= age <= 25.0 AND occupation is Armed-Forces,Exec-managerial AND 1.0 <= hours-per-week <= 45.0 AND native-country is Hungary THEN class=>50K \n",
      "IF 17.0 <= age <= 64.45 AND workclass is Without-pay AND marital-status is Never-married AND 1.0 <= hours-per-week <= 45.0 AND native-country is Cambodia THEN class=>50K \n",
      "IF 17.0 <= age <= 25.0 AND workclass is Without-pay AND marital-status is Never-married AND 1.0 <= hours-per-week <= 45.0 AND native-country is Ecuador THEN class=>50K \n",
      "IF workclass is Self-emp-not-inc AND native-country is Dominican-Republic THEN class=>50K \n",
      "1743\n",
      "2550.0\n",
      "(10746, 12)\n",
      "Blackbox and our, acc 0.8962404615670947\n",
      "Blackbox and our, f1 score 0.7118118376841561\n",
      "Blackbox and our,recall 0.647695202257761\n",
      "Blackbox and our,precision 0.7900172117039587\n"
     ]
    }
   ],
   "source": [
    "from utils import  rule_to_string,ruleset_predict\n",
    "\n",
    "print(\"number of rules\",len(non_active_explanations))\n",
    "explanations = ADS.output_the_best(0.01)\n",
    "for e in non_active_explanations:\n",
    "    print(rule_to_string(e,data_table.domain,target_class_idx=1))\n",
    "    \n",
    "our_prediction = ruleset_predict(non_active_explanations,predicted_test_data_table.X)\n",
    "\n",
    "print(sum(our_prediction) )\n",
    "print(sum(test_data_table.Y) )\n",
    "print(test_data_table.X.shape )\n",
    "\n",
    "import sklearn\n",
    "print('Blackbox and our, acc', sklearn.metrics.accuracy_score(predicted_test_data_table.Y, our_prediction))\n",
    "print('Blackbox and our, f1 score', sklearn.metrics.f1_score(predicted_test_data_table.Y, our_prediction))\n",
    "print('Blackbox and our,recall', sklearn.metrics.recall_score(predicted_test_data_table.Y, our_prediction))\n",
    "print('Blackbox and our,precision', sklearn.metrics.precision_score(predicted_test_data_table.Y, our_prediction))"
   ]
  },
  {
   "cell_type": "code",
   "execution_count": 9,
   "metadata": {
    "ExecuteTime": {
     "end_time": "2019-07-22T10:07:26.657744Z",
     "start_time": "2019-07-22T10:05:19.586704Z"
    }
   },
   "outputs": [
    {
     "name": "stdout",
     "output_type": "stream",
     "text": [
      "parameter:  0 0 metrics 113 0.784147557328016 0.9194118741857435 0.7398871119473189 0.8340402969247084 0\n",
      "parameter:  0 1e-07 metrics 111 0.784147557328016 0.9194118741857435 0.7398871119473189 0.8340402969247084 0\n",
      "parameter:  0 1e-06 metrics 111 0.784147557328016 0.9194118741857435 0.7398871119473189 0.8340402969247084 0\n",
      "parameter:  0 1e-05 metrics 111 0.784147557328016 0.9194118741857435 0.7398871119473189 0.8340402969247084 0\n",
      "parameter:  0 0.0001 metrics 87 0.7824795842613214 0.9182021217197096 0.7436500470366886 0.8255874673629243 0\n",
      "parameter:  0 0.0005 metrics 66 0.772252610641472 0.9147589800856133 0.7304797742238947 0.8190928270042194 0\n",
      "parameter:  0 0.001 metrics 41 0.7118118376841561 0.8962404615670947 0.647695202257761 0.7900172117039587 0\n",
      "parameter:  0 0.002 metrics 3 0.396855110445526 0.8500837520938024 0.24929444967074318 0.9724770642201835 0\n",
      "parameter:  0 0.0025 metrics 3 0.396855110445526 0.8500837520938024 0.24929444967074318 0.9724770642201835 0\n",
      "parameter:  0 0.003 metrics 1 0.35830115830115833 0.8453378001116695 0.21825023518344308 1.0 0\n",
      "parameter:  0 0.005 metrics 1 0.35830115830115833 0.8453378001116695 0.21825023518344308 1.0 0\n",
      "parameter:  0 0.006 metrics 1 0.35830115830115833 0.8453378001116695 0.21825023518344308 1.0 0\n",
      "parameter:  0 0.007 metrics 1 0.35830115830115833 0.8453378001116695 0.21825023518344308 1.0 0\n",
      "parameter:  0 0.008 metrics 1 0.35830115830115833 0.8453378001116695 0.21825023518344308 1.0 0\n",
      "parameter:  0 0.01 metrics 1 0.35830115830115833 0.8453378001116695 0.21825023518344308 1.0 0\n",
      "parameter:  0 0.015 metrics 1 0.35830115830115833 0.8453378001116695 0.21825023518344308 1.0 0\n",
      "parameter:  0 0.02 metrics 1 0.35830115830115833 0.8453378001116695 0.21825023518344308 1.0 0\n",
      "parameter:  0 0.03 metrics 1 0.35830115830115833 0.8453378001116695 0.21825023518344308 1.0 0\n",
      "parameter:  0 0.05 metrics 1 0.35830115830115833 0.8453378001116695 0.21825023518344308 1.0 0\n",
      "parameter:  0 0.1 metrics 1 0.35830115830115833 0.8453378001116695 0.21825023518344308 1.0 0\n",
      "parameter:  0 0.15 metrics 1 0.35830115830115833 0.8453378001116695 0.21825023518344308 1.0 0\n",
      "parameter:  0 0.2 metrics 1 0.35830115830115833 0.8453378001116695 0.21825023518344308 1.0 0\n",
      "parameter:  0 0.5 metrics 1 0.35830115830115833 0.8453378001116695 0.21825023518344308 1.0 0\n"
     ]
    }
   ],
   "source": [
    "lambda_candidates = [  0,0.0000001,0.000001,0.00001,0.0001,0.0005,0.001,0.002,0.0025,0.003,0.005,0.006,0.007,0.008,0.01,0.015,0.02,0.03,0.05,0.1,0.15,0.2,0.5 ]\n",
    "\n",
    "beta = 0\n",
    "for lambda_parameter in  lambda_candidates:\n",
    "    explanations = ADS.output_the_best(lambda_parameter)\n",
    "    our_prediction = ruleset_predict(explanations,predicted_test_data_table.X)\n",
    "    f1_score = sklearn.metrics.f1_score(predicted_test_data_table.Y, our_prediction)\n",
    "    acc_score=sklearn.metrics.accuracy_score(predicted_test_data_table.Y, our_prediction)\n",
    "    rec_score = sklearn.metrics.recall_score(predicted_test_data_table.Y, our_prediction)\n",
    "    pre_score = sklearn.metrics.precision_score(predicted_test_data_table.Y, our_prediction)\n",
    "    num = len(explanations)\n",
    "    num_of_instance = ADS.synthetic_data_table.X.shape[0]\n",
    "\n",
    "    print(\"parameter: \",beta,lambda_parameter,\"metrics\",num,f1_score,acc_score,rec_score,pre_score,num_of_instance)"
   ]
  },
  {
   "cell_type": "code",
   "execution_count": 10,
   "metadata": {
    "ExecuteTime": {
     "end_time": "2019-07-22T10:07:57.779501Z",
     "start_time": "2019-07-22T10:07:26.660748Z"
    }
   },
   "outputs": [
    {
     "name": "stdout",
     "output_type": "stream",
     "text": [
      "2126.0\n",
      "(10746, 12)\n",
      "traning a blackbox to approximate a blackbox, with original dataset\n",
      "Blackbox and our, f1 score 0.46812683883622097\n",
      "Blackbox and our, acc 0.8485948259817606\n",
      "Blackbox and our,recall 0.3367826904985889\n",
      "Blackbox and our,precision 0.767416934619507\n"
     ]
    }
   ],
   "source": [
    "\n",
    "from sklearn.ensemble import  RandomForestClassifier\n",
    "from sklearn.svm import SVC\n",
    "from sklearn.neural_network import MLPClassifier\n",
    "c_passive= SVC(gamma='scale')\n",
    "# c_passive = MLPClassifier(solver='adam', alpha=1e-5,  hidden_layer_sizes=(100, 100,50,50,10), random_state=random_seed,verbose=False)\n",
    "# c_passive =RandomForestClassifier(n_estimators=15, n_jobs=5)\n",
    "\n",
    "# c = xgb.XGBRegressor(objective ='reg:linear', colsample_bytree = 0.3, learning_rate = 0.1, max_depth = 5, alpha = 10, n_estimators = 10)\n",
    "c_passive.fit(scikit_encoder.transform(predicted_data_table.X), predicted_data_table.Y)\n",
    "\n",
    "black_prediction = c_passive.predict(scikit_encoder.transform(predicted_test_data_table.X))\n",
    "\n",
    "print(sum(predicted_test_data_table.Y) )\n",
    "print(test_data_table.X.shape )\n",
    "import sklearn\n",
    "print(\"traning a blackbox to approximate a blackbox, with original dataset\")\n",
    "print('Blackbox and our, f1 score', sklearn.metrics.f1_score(predicted_test_data_table.Y, black_prediction))\n",
    "print('Blackbox and our, acc', sklearn.metrics.accuracy_score(predicted_test_data_table.Y, black_prediction))\n",
    "print('Blackbox and our,recall', sklearn.metrics.recall_score(predicted_test_data_table.Y, black_prediction))\n",
    "print('Blackbox and our,precision', sklearn.metrics.precision_score(predicted_test_data_table.Y, black_prediction))"
   ]
  },
  {
   "cell_type": "markdown",
   "metadata": {},
   "source": [
    "## Ours"
   ]
  },
  {
   "cell_type": "code",
   "execution_count": 11,
   "metadata": {
    "ExecuteTime": {
     "end_time": "2019-07-22T20:34:27.993615Z",
     "start_time": "2019-07-22T10:07:57.781910Z"
    }
   },
   "outputs": [
    {
     "name": "stdout",
     "output_type": "stream",
     "text": [
      "The autoreload extension is already loaded. To reload it, use:\n",
      "  %reload_ext autoreload\n",
      "using Cache\n",
      "new cached!\n"
     ]
    },
    {
     "data": {
      "application/vnd.jupyter.widget-view+json": {
       "model_id": "b97f37667f9c4ebbb2738e904ee4d4da",
       "version_major": 2,
       "version_minor": 0
      },
      "text/plain": [
       "HBox(children=(IntProgress(value=0, max=1000), HTML(value='')))"
      ]
     },
     "metadata": {},
     "output_type": "display_data"
    },
    {
     "name": "stdout",
     "output_type": "stream",
     "text": [
      "generating new instance for a batch :  4\n",
      "generating new instance for a batch :  8\n",
      "generating new instance for a batch :  39\n",
      "generating new instance for a batch :  16\n",
      "generating new instance for a batch :  2\n",
      "generating new instance for a batch :  17\n",
      "generating new instance for a batch :  1\n",
      "generating new instance for a batch :  4\n",
      "generating new instance for a batch :  1\n",
      "generating new instance for a batch :  11\n",
      "generating new instance for a batch :  13\n",
      "generating new instance for a batch :  1\n",
      "generating new instance for a batch :  1\n",
      "generating new instance for a batch :  8\n",
      "generating new instance for a batch :  1\n",
      "generating new instance for a batch :  3\n",
      "generating new instance for a batch :  10\n",
      "generating new instance for a batch :  1\n",
      "generating new instance for a batch :  2\n",
      "generating new instance for a batch :  17\n",
      "generating new instance for a batch :  4\n",
      "generating new instance for a batch :  24\n",
      "generating new instance for a batch :  2\n",
      "generating new instance for a batch :  19\n",
      "generating new instance for a batch :  2\n",
      "generating new instance for a batch :  1\n",
      "generating new instance for a batch :  1\n",
      "generating new instance for a batch :  8\n",
      "generating new instance for a batch :  3\n",
      "generating new instance for a batch :  1\n",
      "generating new instance for a batch :  7\n",
      "generating new instance for a batch :  1\n",
      "generating new instance for a batch :  9\n",
      "generating new instance for a batch :  6\n",
      "generating new instance for a batch :  28\n",
      "generating new instance for a batch :  1\n",
      "generating new instance for a batch :  17\n",
      "generating new instance for a batch :  1\n",
      "generating new instance for a batch :  1\n",
      "generating new instance for a batch :  1\n",
      "generating new instance for a batch :  4\n",
      "generating new instance for a batch :  1\n",
      "generating new instance for a batch :  16\n",
      "generating new instance for a batch :  6\n",
      "generating new instance for a batch :  1\n",
      "generating new instance for a batch :  100\n",
      "generating new instance for a batch :  75\n",
      "generating new instance for a batch :  12\n",
      "generating new instance for a batch :  3\n",
      "generating new instance for a batch :  19\n",
      "generating new instance for a batch :  7\n",
      "generating new instance for a batch :  6\n",
      "generating new instance for a batch :  3\n",
      "generating new instance for a batch :  1\n",
      "generating new instance for a batch :  17\n",
      "generating new instance for a batch :  1\n",
      "generating new instance for a batch :  1\n",
      "generating new instance for a batch :  4\n",
      "generating new instance for a batch :  18\n",
      "generating new instance for a batch :  3\n",
      "generating new instance for a batch :  8\n",
      "generating new instance for a batch :  1\n",
      "generating new instance for a batch :  6\n",
      "generating new instance for a batch :  13\n",
      "generating new instance for a batch :  22\n",
      "generating new instance for a batch :  9\n",
      "generating new instance for a batch :  18\n",
      "generating new instance for a batch :  1\n",
      "generating new instance for a batch :  2\n",
      "generating new instance for a batch :  3\n",
      "generating new instance for a batch :  1\n",
      "generating new instance for a batch :  1\n",
      "generating new instance for a batch :  2\n",
      "generating new instance for a batch :  1\n",
      "generating new instance for a batch :  7\n",
      "generating new instance for a batch :  16\n",
      "generating new instance for a batch :  2\n",
      "generating new instance for a batch :  9\n",
      "generating new instance for a batch :  1\n",
      "generating new instance for a batch :  1\n",
      "generating new instance for a batch :  3\n",
      "generating new instance for a batch :  12\n",
      "generating new instance for a batch :  2\n",
      "generating new instance for a batch :  1\n",
      "generating new instance for a batch :  14\n",
      "generating new instance for a batch :  5\n",
      "generating new instance for a batch :  1\n",
      "generating new instance for a batch :  14\n",
      "generating new instance for a batch :  1\n",
      "generating new instance for a batch :  1\n",
      "generating new instance for a batch :  4\n",
      "generating new instance for a batch :  2\n",
      "generating new instance for a batch :  1\n",
      "generating new instance for a batch :  12\n",
      "generating new instance for a batch :  1\n",
      "generating new instance for a batch :  1\n",
      "generating new instance for a batch :  2\n",
      "generating new instance for a batch :  4\n",
      "generating new instance for a batch :  1\n",
      "generating new instance for a batch :  1\n",
      "generating new instance for a batch :  3\n",
      "generating new instance for a batch :  4\n",
      "generating new instance for a batch :  17\n",
      "generating new instance for a batch :  15\n",
      "generating new instance for a batch :  1\n",
      "generating new instance for a batch :  3\n",
      "generating new instance for a batch :  2\n",
      "generating new instance for a batch :  1\n",
      "generating new instance for a batch :  2\n",
      "generating new instance for a batch :  2\n",
      "generating new instance for a batch :  1\n",
      "generating new instance for a batch :  2\n",
      "\n",
      "Now print Error Log\n",
      "no error happens\n"
     ]
    }
   ],
   "source": [
    "%load_ext autoreload\n",
    "%autoreload 2\n",
    "from approach import explain_tabular\n",
    "iter_max = 1000\n",
    "explanations,ADS = explain_tabular(data_table,  black_box, target_class_idx=1, random_seed=42,beta=0.00001,lambda_parameter=0.001)\n",
    "# explanations,ADS = explain_tabular(data_table,  black_box, target_class=\"1\", random_seed=42,beta=0)"
   ]
  },
  {
   "cell_type": "code",
   "execution_count": 12,
   "metadata": {
    "ExecuteTime": {
     "end_time": "2019-07-22T20:34:28.211603Z",
     "start_time": "2019-07-22T20:34:27.997553Z"
    }
   },
   "outputs": [
    {
     "name": "stdout",
     "output_type": "stream",
     "text": [
      "number of rules 11\n",
      "1609\n",
      "2550.0\n",
      "(10746, 12)\n",
      "Blackbox and our, f1 score 0.6918340026773763\n",
      "Blackbox and our, acc 0.8928903778150009\n",
      "Blackbox and our,recall 0.6077140169332079\n",
      "Blackbox and our,precision 0.8029832193909261\n"
     ]
    }
   ],
   "source": [
    "from utils import  rule_to_string,ruleset_predict\n",
    "\n",
    "print(\"number of rules\",len(explanations))\n",
    "# for e in non_active_explanations:\n",
    "#     print(rule_to_string(e,data_table.domain,target_class_idx=1))\n",
    "    \n",
    "our_prediction = ruleset_predict(explanations,predicted_test_data_table.X)\n",
    "\n",
    "print(sum(our_prediction) )\n",
    "print(sum(test_data_table.Y) )\n",
    "print(test_data_table.X.shape )\n",
    "\n",
    "import sklearn\n",
    "print('Blackbox and our, f1 score', sklearn.metrics.f1_score(predicted_test_data_table.Y, our_prediction))\n",
    "print('Blackbox and our, acc', sklearn.metrics.accuracy_score(predicted_test_data_table.Y, our_prediction))\n",
    "print('Blackbox and our,recall', sklearn.metrics.recall_score(predicted_test_data_table.Y, our_prediction))\n",
    "print('Blackbox and our,precision', sklearn.metrics.precision_score(predicted_test_data_table.Y, our_prediction))"
   ]
  },
  {
   "cell_type": "code",
   "execution_count": 13,
   "metadata": {
    "ExecuteTime": {
     "end_time": "2019-07-22T20:45:35.234716Z",
     "start_time": "2019-07-22T20:34:28.215364Z"
    }
   },
   "outputs": [
    {
     "name": "stdout",
     "output_type": "stream",
     "text": [
      "parameter:  0 0 metrics 71 0.7603550295857988 0.9095477386934674 0.7253057384760113 0.7989637305699482 1710\n",
      "parameter:  0 1e-07 metrics 70 0.7603550295857988 0.9095477386934674 0.7253057384760113 0.7989637305699482 1710\n",
      "parameter:  0 1e-06 metrics 70 0.7603550295857988 0.9095477386934674 0.7253057384760113 0.7989637305699482 1710\n",
      "parameter:  0 1e-05 metrics 70 0.7603550295857988 0.9095477386934674 0.7253057384760113 0.7989637305699482 1710\n",
      "parameter:  0 0.0001 metrics 70 0.7603550295857988 0.9095477386934674 0.7253057384760113 0.7989637305699482 1710\n",
      "parameter:  0 0.0005 metrics 11 0.6918340026773763 0.8928903778150009 0.6077140169332079 0.8029832193909261 1710\n",
      "parameter:  0 0.001 metrics 11 0.6918340026773763 0.8928903778150009 0.6077140169332079 0.8029832193909261 1710\n",
      "parameter:  0 0.002 metrics 11 0.6918340026773763 0.8928903778150009 0.6077140169332079 0.8029832193909261 1710\n",
      "parameter:  0 0.0025 metrics 11 0.6918340026773763 0.8928903778150009 0.6077140169332079 0.8029832193909261 1710\n",
      "parameter:  0 0.003 metrics 11 0.6918340026773763 0.8928903778150009 0.6077140169332079 0.8029832193909261 1710\n",
      "parameter:  0 0.005 metrics 1 0.35830115830115833 0.8453378001116695 0.21825023518344308 1.0 1710\n",
      "parameter:  0 0.006 metrics 1 0.35830115830115833 0.8453378001116695 0.21825023518344308 1.0 1710\n",
      "parameter:  0 0.007 metrics 1 0.35830115830115833 0.8453378001116695 0.21825023518344308 1.0 1710\n",
      "parameter:  0 0.008 metrics 1 0.35830115830115833 0.8453378001116695 0.21825023518344308 1.0 1710\n",
      "parameter:  0 0.01 metrics 1 0.35830115830115833 0.8453378001116695 0.21825023518344308 1.0 1710\n",
      "parameter:  0 0.015 metrics 1 0.35830115830115833 0.8453378001116695 0.21825023518344308 1.0 1710\n",
      "parameter:  0 0.02 metrics 1 0.35830115830115833 0.8453378001116695 0.21825023518344308 1.0 1710\n",
      "parameter:  0 0.03 metrics 1 0.35830115830115833 0.8453378001116695 0.21825023518344308 1.0 1710\n",
      "parameter:  0 0.05 metrics 1 0.35830115830115833 0.8453378001116695 0.21825023518344308 1.0 1710\n"
     ]
    },
    {
     "name": "stderr",
     "output_type": "stream",
     "text": [
      "/Users/lucy/anaconda3/lib/python3.5/site-packages/sklearn/metrics/classification.py:1437: UndefinedMetricWarning: F-score is ill-defined and being set to 0.0 due to no predicted samples.\n",
      "  'precision', 'predicted', average, warn_for)\n",
      "/Users/lucy/anaconda3/lib/python3.5/site-packages/sklearn/metrics/classification.py:1437: UndefinedMetricWarning: Precision is ill-defined and being set to 0.0 due to no predicted samples.\n",
      "  'precision', 'predicted', average, warn_for)\n"
     ]
    },
    {
     "name": "stdout",
     "output_type": "stream",
     "text": [
      "parameter:  0 0.1 metrics 0 0.0 0.8021589428624605 0.0 0.0 1710\n",
      "parameter:  0 0.15 metrics 0 0.0 0.8021589428624605 0.0 0.0 1710\n",
      "parameter:  0 0.2 metrics 0 0.0 0.8021589428624605 0.0 0.0 1710\n",
      "parameter:  0 0.5 metrics 0 0.0 0.8021589428624605 0.0 0.0 1710\n"
     ]
    }
   ],
   "source": [
    "lambda_candidates = [  0,0.0000001,0.000001,0.00001,0.0001,0.0005,0.001,0.002,0.0025,0.003,0.005,0.006,0.007,0.008,0.01,0.015,0.02,0.03,0.05,0.1,0.15,0.2,0.5 ]\n",
    "\n",
    "beta = 0\n",
    "for lambda_parameter in  lambda_candidates:\n",
    "    explanations = ADS.output_the_best(lambda_parameter)\n",
    "    our_prediction = ruleset_predict(explanations,predicted_test_data_table.X)\n",
    "    f1_score = sklearn.metrics.f1_score(predicted_test_data_table.Y, our_prediction)\n",
    "    acc_score=sklearn.metrics.accuracy_score(predicted_test_data_table.Y, our_prediction)\n",
    "    rec_score = sklearn.metrics.recall_score(predicted_test_data_table.Y, our_prediction)\n",
    "    pre_score = sklearn.metrics.precision_score(predicted_test_data_table.Y, our_prediction)\n",
    "    num = len(explanations)\n",
    "    num_of_instance = ADS.synthetic_data_table.X.shape[0]\n",
    "\n",
    "    print(\"parameter: \",beta,lambda_parameter,\"metrics\",num,f1_score,acc_score,rec_score,pre_score,num_of_instance)"
   ]
  },
  {
   "cell_type": "markdown",
   "metadata": {
    "ExecuteTime": {
     "end_time": "2019-06-20T03:42:29.044424Z",
     "start_time": "2019-06-20T03:33:13.273Z"
    }
   },
   "source": [
    "Now in order to test if the approximation is faithful. We generate a huge dataset, and see the agreement of the rules with the blackbox\n",
    "\n"
   ]
  },
  {
   "cell_type": "code",
   "execution_count": null,
   "metadata": {
    "ExecuteTime": {
     "end_time": "2019-07-21T09:46:15.961810Z",
     "start_time": "2019-07-21T09:45:46.412Z"
    }
   },
   "outputs": [],
   "source": [
    "import numpy as np\n",
    "def sample_uniform_whole_space(domain,batch_num=1000,population_size=10000):\n",
    "    ''' the true sampling procedure\n",
    "        1. we first extend the specfic region we wish to sampling\n",
    "                in order to sample, first extend the rule\n",
    "                for example, if the rule is 1<x<10 -> yes and the domain is 0<x<100,0<y<100\n",
    "                then the extended rule is 1<x<10,0<y<100 -> yes\n",
    "                in other words, the un-specified conditions are made to be specific\n",
    "        2. then we sample one new synthetic at a time and we do it for `batch_size` times\n",
    "    '''\n",
    "    from structure import Condition,Rule\n",
    "    def uniform_sampling(rule_to_uniform_sample):\n",
    "        ''' uniform sampling. used as the basic procedure'''\n",
    "        raw_X_columns = [ s.sample(batch_size=population_size) for s in rule_to_uniform_sample.conditions]\n",
    "        raw_X = np.column_stack(raw_X_columns)\n",
    "        return raw_X\n",
    "\n",
    "    conditions = []\n",
    "\n",
    "    for attri_col, attribute in enumerate(domain.attributes):\n",
    "        \n",
    "        if attribute.is_discrete:\n",
    "            new_condition = Condition(column=attri_col,values= [ i for i in range(len(attribute.values)) ],type='categorical')\n",
    "        else:\n",
    "            new_condition = Condition(column=attri_col,max_value=attribute.max,min_value=attribute.min,type='continuous')\n",
    "        conditions.append(new_condition)\n",
    "    conditions = sorted(conditions,key=lambda x:x.column )\n",
    "    rule_whole_space = Rule(conditions,domain,\"1\")\n",
    "\n",
    "    synthetic_rows = []\n",
    "\n",
    "    for _ in range(batch_num):\n",
    "        population = uniform_sampling(rule_whole_space)\n",
    "\n",
    "        synthetic_rows.extend(population)\n",
    "    \n",
    "    synthetic_instances = np.row_stack(synthetic_rows)\n",
    "\n",
    "    return synthetic_instances\n",
    "\n",
    "\n",
    "huge_dataset_X = sample_uniform_whole_space(data_table.domain)\n"
   ]
  },
  {
   "cell_type": "code",
   "execution_count": null,
   "metadata": {
    "ExecuteTime": {
     "end_time": "2019-07-21T09:46:15.963770Z",
     "start_time": "2019-07-21T09:45:46.414Z"
    }
   },
   "outputs": [],
   "source": [
    "# print(len(huge_dataset_X))\n",
    "\n",
    "\n",
    "predict_fn = lambda x: c.predict(scikit_encoder.transform(x))\n",
    "\n",
    "blackbox_prediction = predict_fn(huge_dataset_X)\n",
    "\n",
    "def ruleset_predict(ruleset,X):\n",
    "\n",
    "    curr_covered_or_not = np.zeros(X.shape[0], dtype=np.bool)\n",
    "    for r in ruleset:\n",
    "        curr_covered_or_not |= r.evaluate_data(X)\n",
    "    return curr_covered_or_not\n",
    "\n"
   ]
  },
  {
   "cell_type": "code",
   "execution_count": null,
   "metadata": {
    "ExecuteTime": {
     "end_time": "2019-07-21T09:46:15.967631Z",
     "start_time": "2019-07-21T09:45:46.417Z"
    }
   },
   "outputs": [],
   "source": [
    "import operator\n",
    "def bds_ruleset_predict(ruleset,X,domain):\n",
    "\n",
    "    curr_covered_or_not = np.zeros(X.shape[0], dtype=np.bool)\n",
    "    for r in ruleset:\n",
    "        \n",
    "        curr_covered = np.ones(X.shape[0], dtype=bool)\n",
    "        for condition in r.selectors:\n",
    "            if condition.type == 'categorical':\n",
    "                tmp = np.logical_or.reduce(\n",
    "                [np.equal(X[:,condition.column], domain.attributes[condition.column].values.index(v)  ) for v in condition.values ]\n",
    "                )\n",
    "            elif condition.type == 'continuous':\n",
    "                tmp = np.logical_and(\n",
    "                operator.lt(X[:,condition.column], condition.max),\n",
    "                operator.gt(X[:,condition.column], condition.min)\n",
    "                )\n",
    "                \n",
    "            curr_covered &= tmp\n",
    "\n",
    "        curr_covered_or_not |=  curr_covered\n",
    "    return curr_covered_or_not\n",
    "\n",
    "\n",
    "BDS_prediction = bds_ruleset_predict(explanations_BDS,huge_dataset_X,data_table.domain)\n",
    "from utils import rule_to_string_BDS_compat\n",
    "\n",
    "print(len(explanations_BDS) )\n",
    "\n",
    "for e in explanations_BDS:\n",
    "    print(rule_to_string_BDS_compat(e,data_table.domain,1))\n",
    "\n",
    "print('Blackbox and Bayesian rule list acc', sklearn.metrics.accuracy_score(blackbox_prediction, BDS_prediction) )\n",
    "print('Blackbox and Bayesian rule list f1 score', sklearn.metrics.f1_score(blackbox_prediction, BDS_prediction) )\n",
    "print('Blackbox and Bayesian rule list recall', sklearn.metrics.recall_score(blackbox_prediction, BDS_prediction) )\n",
    "print('Blackbox and Bayesian rule list precision', sklearn.metrics.precision_score(blackbox_prediction, BDS_prediction) )\n",
    "\n",
    "BDS_prediction = bds_ruleset_predict(explanations_BDS,X_test,data_table.domain)\n",
    "\n",
    "print('truth and Bayesian rule list acc', sklearn.metrics.accuracy_score(y_test, BDS_prediction) )\n",
    "print('truth and Bayesian rule list f1 score', sklearn.metrics.f1_score(y_test, BDS_prediction) )\n",
    "print('truth and Bayesian rule list recall', sklearn.metrics.recall_score(y_test, BDS_prediction) )\n",
    "print('truth and Bayesian rule list precision', sklearn.metrics.precision_score(y_test, BDS_prediction) )\n",
    "\n",
    "# print(blackbox_prediction[:5])\n",
    "# print(BDS_prediction[:5])\n",
    "# print(our_prediction[:5])"
   ]
  }
 ],
 "metadata": {
  "kernel_info": {
   "name": "python3"
  },
  "kernelspec": {
   "display_name": "Python 3",
   "language": "python",
   "name": "python3"
  },
  "language_info": {
   "codemirror_mode": {
    "name": "ipython",
    "version": 3
   },
   "file_extension": ".py",
   "mimetype": "text/x-python",
   "name": "python",
   "nbconvert_exporter": "python",
   "pygments_lexer": "ipython3",
   "version": "3.7.3"
  },
  "nteract": {
   "version": "nteract-on-jupyter@2.0.12"
  }
 },
 "nbformat": 4,
 "nbformat_minor": 2
}
