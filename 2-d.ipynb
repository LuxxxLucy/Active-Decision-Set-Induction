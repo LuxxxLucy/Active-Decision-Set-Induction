{
 "cells": [
  {
   "cell_type": "markdown",
   "metadata": {},
   "source": [
    "# Sanity Check"
   ]
  },
  {
   "cell_type": "code",
   "execution_count": 1,
   "metadata": {
    "ExecuteTime": {
     "end_time": "2019-07-02T07:29:49.020345Z",
     "start_time": "2019-07-02T07:29:49.013241Z"
    }
   },
   "outputs": [],
   "source": [
    "random_seed=42"
   ]
  },
  {
   "cell_type": "markdown",
   "metadata": {
    "ExecuteTime": {
     "end_time": "2019-05-05T21:14:49.104379Z",
     "start_time": "2019-05-05T21:14:48.015227Z"
    },
    "heading_collapsed": true
   },
   "source": [
    "## Preparing data and black (In Orange framework, it is simple and good)"
   ]
  },
  {
   "cell_type": "code",
   "execution_count": 2,
   "metadata": {
    "ExecuteTime": {
     "end_time": "2019-07-02T07:29:50.445708Z",
     "start_time": "2019-07-02T07:29:50.279359Z"
    },
    "hidden": true
   },
   "outputs": [],
   "source": [
    "%load_ext autoreload\n",
    "%autoreload 2\n",
    "\n",
    "import numpy as np\n",
    "\n",
    "def f(x,y):\n",
    "        return np.sin(10 * x) + np.cos(4 * y)  - np.cos(3*x*y) \n",
    "\n",
    "def predict(X):\n",
    "    def f_binary(x):\n",
    "        return int(1) if np.sin(10 * x[0]) + np.cos(4 * x[1])  - np.cos(3*x[0]*x[1]) >= 0 else int(0)\n",
    "  \n",
    "    X = np.array(X)\n",
    "    if X.ndim == 1:\n",
    "        y = f_binary(X)\n",
    "    elif X.ndim==2:\n",
    "        y = np.array(list(map(f_binary, X )) )\n",
    "    else:\n",
    "        print(\"error, blackbox function\")\n",
    "    return y\n",
    "\n",
    "black_box= predict"
   ]
  },
  {
   "cell_type": "markdown",
   "metadata": {
    "hidden": true
   },
   "source": [
    "prepare the dataset and the data encoder"
   ]
  },
  {
   "cell_type": "code",
   "execution_count": 3,
   "metadata": {
    "ExecuteTime": {
     "end_time": "2019-07-02T07:29:53.410752Z",
     "start_time": "2019-07-02T07:29:51.241729Z"
    },
    "hidden": true,
    "scrolled": true
   },
   "outputs": [
    {
     "name": "stdout",
     "output_type": "stream",
     "text": [
      "The autoreload extension is already loaded. To reload it, use:\n",
      "  %reload_ext autoreload\n",
      "now start sanity-check\n",
      "the first row of the dataset is (orginal form):\n",
      " [0.075, 0.700 | no]\n",
      "the first row of the dataset is (only X data):\n",
      " [0.075 0.7  ]\n",
      "the first row of the dataset is (transformed by the encoder, it should not change since the encoder is void):\n",
      "  [[0.07500000000000001 0.7000000000000001]]\n",
      "the predition of blackbox on the first row:\n",
      " [0]\n"
     ]
    }
   ],
   "source": [
    "%load_ext autoreload\n",
    "%autoreload 2\n",
    "from prepare_dataset import prepare_2d_sinusoidal_dataset\n",
    "from utils import encoder_from_datatable\n",
    "\n",
    "\n",
    "data_table = prepare_2d_sinusoidal_dataset(number=200)\n",
    "\n",
    "\n",
    "from sklearn.model_selection import train_test_split\n",
    "X_train,X_test,y_train,y_test = train_test_split(data_table.X,data_table.Y,test_size=0.5,random_state=random_seed)\n",
    "\n",
    "from Orange.data import Table\n",
    "data_table = Table.from_numpy(X=X_train,Y=y_train,domain=data_table.domain)\n",
    "test_data_table = Table.from_numpy(X=X_test,Y=y_test,domain=data_table.domain)\n",
    "\n",
    "from sklearn.preprocessing import OneHotEncoder\n",
    "from sklearn.compose import make_column_transformer\n",
    "\n",
    "# in this case the encoder is only a void passing, nothing is changed since 2-d dataset is simple two continuous variable\n",
    "\n",
    "categorical_features_idx = [i for i,a in enumerate(data_table.domain.attributes) if a.is_discrete]\n",
    "\n",
    "scikit_encoder = make_column_transformer(\n",
    "                            ( OneHotEncoder(categories='auto'),categorical_features_idx),\n",
    "                            remainder = 'passthrough'\n",
    "                            )\n",
    "scikit_encoder.fit(data_table.X)\n",
    "\n",
    "\n",
    "black_box = lambda x:  predict(scikit_encoder.transform(x))\n",
    "\n",
    "\n",
    "print(\"now start sanity-check\")\n",
    "print(\"the first row of the dataset is (orginal form):\\n\", data_table[0] )\n",
    "print(\"the first row of the dataset is (only X data):\\n\", data_table.X[0])\n",
    "print(\"the first row of the dataset is (transformed by the encoder, it should not change since the encoder is void):\\n \",scikit_encoder.transform([data_table.X[0]] ))\n",
    "print(\"the predition of blackbox on the first row:\\n\", black_box( [data_table.X[0]]  )   )"
   ]
  },
  {
   "cell_type": "markdown",
   "metadata": {},
   "source": [
    "# Methods\n",
    "\n",
    "run each implemented method one time. on the simple dataset\n",
    "\n"
   ]
  },
  {
   "cell_type": "markdown",
   "metadata": {
    "ExecuteTime": {
     "end_time": "2019-05-31T21:22:11.643494Z",
     "start_time": "2019-05-31T21:22:11.602270Z"
    }
   },
   "source": [
    "## Passive algorithm"
   ]
  },
  {
   "cell_type": "markdown",
   "metadata": {
    "heading_collapsed": true
   },
   "source": [
    "###  Interpretable decision set"
   ]
  },
  {
   "cell_type": "code",
   "execution_count": 4,
   "metadata": {
    "ExecuteTime": {
     "end_time": "2019-06-28T06:02:13.311806Z",
     "start_time": "2019-06-28T06:01:49.605006Z"
    },
    "hidden": true
   },
   "outputs": [
    {
     "name": "stdout",
     "output_type": "stream",
     "text": [
      "The autoreload extension is already loaded. To reload it, use:\n",
      "  %reload_ext autoreload\n",
      "----------------------\n",
      "If x-axis == 0.213 - 0.388, then 0.0\n",
      "If x-axis == 0.213 - 0.388, then 1.0\n",
      "If x-axis == 0.388 - 0.562, then 0.0\n",
      "If x-axis == 0.388 - 0.562, then 1.0\n",
      "If x-axis == 0.562 - 0.738, then 0.0\n",
      "If x-axis == 0.562 - 0.738, then 1.0\n",
      "If x-axis == ≥ 0.738, then 0.0\n",
      "If x-axis == ≥ 0.738, then 1.0\n",
      "If y-axis == 0.475 - 0.875, then 0.0\n",
      "If y-axis == 0.475 - 0.875, then 1.0\n",
      "If y-axis == 0.875 - 1.325, then 0.0\n",
      "If y-axis == 0.875 - 1.325, then 1.0\n",
      "If y-axis == < 0.475, then 0.0\n",
      "If y-axis == < 0.475, then 1.0\n",
      "If y-axis == ≥ 1.65, then 0.0\n",
      "If y-axis == ≥ 1.65, then 1.0\n",
      "2/n*n OPT value is 411.5546875\n",
      "Estimating omega for rule 0\n",
      "Standard Error 19.116197320597003\n",
      "Omega estimate is -43.900000000001455\n",
      "Estimating omega for rule 1\n",
      "Standard Error 26.46856626264445\n",
      "Omega estimate is 9.700000000004366\n",
      "Estimating omega for rule 2\n",
      "Standard Error 16.776680243719255\n",
      "Omega estimate is 10.5\n",
      "Estimating omega for rule 3\n",
      "Standard Error 17.000294115102832\n",
      "Omega estimate is -43.0\n",
      "Estimating omega for rule 4\n",
      "Standard Error 17.88588829217045\n",
      "Omega estimate is -43.700000000004366\n",
      "Estimating omega for rule 5\n",
      "Standard Error 22.458405998645585\n",
      "Omega estimate is -31.200000000004366\n",
      "Estimating omega for rule 6\n",
      "Standard Error 20.524132137559434\n",
      "Omega estimate is -66.20000000000437\n",
      "Estimating omega for rule 7\n",
      "Standard Error 17.20944508111752\n",
      "Omega estimate is 6.099999999998545\n",
      "Estimating omega for rule 8\n",
      "Standard Error 22.63291850380768\n",
      "Omega estimate is -36.900000000001455\n",
      "Estimating omega for rule 9\n",
      "Standard Error 26.1547318854543\n",
      "Omega estimate is -26.799999999995634\n",
      "Estimating omega for rule 10\n",
      "Standard Error 23.507466898838764\n",
      "Omega estimate is -20.30000000000291\n",
      "Estimating omega for rule 11\n",
      "Standard Error 15.894810473862215\n",
      "Omega estimate is -40.700000000004366\n",
      "Estimating omega for rule 12\n",
      "Standard Error 21.594675269612182\n",
      "Omega estimate is -5.400000000001455\n",
      "Estimating omega for rule 13\n",
      "Standard Error 17.981796350754284\n",
      "Omega estimate is -12.700000000004366\n",
      "Estimating omega for rule 14\n"
     ]
    },
    {
     "ename": "KeyboardInterrupt",
     "evalue": "",
     "output_type": "error",
     "traceback": [
      "\u001b[0;31m---------------------------------------------------------------------------\u001b[0m",
      "\u001b[0;31mKeyboardInterrupt\u001b[0m                         Traceback (most recent call last)",
      "\u001b[0;32m<ipython-input-4-8e5c86fda55a>\u001b[0m in \u001b[0;36m<module>\u001b[0;34m()\u001b[0m\n\u001b[1;32m      3\u001b[0m \u001b[0;32mfrom\u001b[0m \u001b[0mcompetition_methods_explanation\u001b[0m\u001b[0;34m.\u001b[0m\u001b[0mpassive_methods\u001b[0m\u001b[0;34m.\u001b[0m\u001b[0mids\u001b[0m \u001b[0;32mimport\u001b[0m \u001b[0mexplain_tabular\u001b[0m\u001b[0;34m\u001b[0m\u001b[0m\n\u001b[1;32m      4\u001b[0m \u001b[0miter_max\u001b[0m \u001b[0;34m=\u001b[0m \u001b[0;36m1000\u001b[0m\u001b[0;34m\u001b[0m\u001b[0m\n\u001b[0;32m----> 5\u001b[0;31m \u001b[0mexplanations\u001b[0m \u001b[0;34m=\u001b[0m \u001b[0mexplain_tabular\u001b[0m\u001b[0;34m(\u001b[0m\u001b[0mdata_table\u001b[0m\u001b[0;34m,\u001b[0m \u001b[0mblack_box\u001b[0m\u001b[0;34m,\u001b[0m \u001b[0mtarget_class\u001b[0m\u001b[0;34m=\u001b[0m\u001b[0;34m\"yes\"\u001b[0m\u001b[0;34m,\u001b[0m \u001b[0mrandom_seed\u001b[0m\u001b[0;34m=\u001b[0m\u001b[0;36m42\u001b[0m\u001b[0;34m)\u001b[0m\u001b[0;34m\u001b[0m\u001b[0m\n\u001b[0m",
      "\u001b[0;32m~/Desktop/workspace/Descriptive-Induction-ML/competition_methods_explanation/passive_methods/ids.py\u001b[0m in \u001b[0;36mexplain_tabular\u001b[0;34m(dataset, blackbox, target_class, pre_label, random_seed)\u001b[0m\n\u001b[1;32m     59\u001b[0m \u001b[0;34m\u001b[0m\u001b[0m\n\u001b[1;32m     60\u001b[0m     \u001b[0mlambda_array\u001b[0m \u001b[0;34m=\u001b[0m \u001b[0;34m[\u001b[0m\u001b[0;36m1.0\u001b[0m\u001b[0;34m]\u001b[0m\u001b[0;34m*\u001b[0m\u001b[0;36m7\u001b[0m     \u001b[0;31m# use separate hyperparamter search routine\u001b[0m\u001b[0;34m\u001b[0m\u001b[0m\n\u001b[0;32m---> 61\u001b[0;31m     \u001b[0ms1\u001b[0m \u001b[0;34m=\u001b[0m \u001b[0msmooth_local_search\u001b[0m\u001b[0;34m(\u001b[0m\u001b[0mlist_of_rules\u001b[0m\u001b[0;34m,\u001b[0m \u001b[0mdf\u001b[0m\u001b[0;34m,\u001b[0m \u001b[0mY\u001b[0m\u001b[0;34m,\u001b[0m \u001b[0mlambda_array\u001b[0m\u001b[0;34m,\u001b[0m \u001b[0;36m0.33\u001b[0m\u001b[0;34m,\u001b[0m \u001b[0;36m0.33\u001b[0m\u001b[0;34m)\u001b[0m\u001b[0;34m\u001b[0m\u001b[0m\n\u001b[0m\u001b[1;32m     62\u001b[0m     \u001b[0ms2\u001b[0m \u001b[0;34m=\u001b[0m \u001b[0msmooth_local_search\u001b[0m\u001b[0;34m(\u001b[0m\u001b[0mlist_of_rules\u001b[0m\u001b[0;34m,\u001b[0m \u001b[0mdf\u001b[0m\u001b[0;34m,\u001b[0m \u001b[0mY\u001b[0m\u001b[0;34m,\u001b[0m \u001b[0mlambda_array\u001b[0m\u001b[0;34m,\u001b[0m \u001b[0;36m0.33\u001b[0m\u001b[0;34m,\u001b[0m \u001b[0;34m-\u001b[0m\u001b[0;36m1.0\u001b[0m\u001b[0;34m)\u001b[0m\u001b[0;34m\u001b[0m\u001b[0m\n\u001b[1;32m     63\u001b[0m     \u001b[0mf1\u001b[0m \u001b[0;34m=\u001b[0m \u001b[0mfunc_evaluation\u001b[0m\u001b[0;34m(\u001b[0m\u001b[0ms1\u001b[0m\u001b[0;34m,\u001b[0m \u001b[0mlist_of_rules\u001b[0m\u001b[0;34m,\u001b[0m \u001b[0mdf\u001b[0m\u001b[0;34m,\u001b[0m \u001b[0mY\u001b[0m\u001b[0;34m,\u001b[0m \u001b[0mlambda_array\u001b[0m\u001b[0;34m)\u001b[0m\u001b[0;34m\u001b[0m\u001b[0m\n",
      "\u001b[0;32m~/Desktop/workspace/Descriptive-Induction-ML/competition_methods_explanation/passive_methods/IDS/IDS_smooth_local.py\u001b[0m in \u001b[0;36msmooth_local_search\u001b[0;34m(list_rules, df, Y, lambda_array, delta, delta_prime)\u001b[0m\n\u001b[1;32m    286\u001b[0m \u001b[0;34m\u001b[0m\u001b[0m\n\u001b[1;32m    287\u001b[0m             \u001b[0mprint\u001b[0m\u001b[0;34m(\u001b[0m\u001b[0;34m\"Estimating omega for rule \"\u001b[0m\u001b[0;34m+\u001b[0m\u001b[0mstr\u001b[0m\u001b[0;34m(\u001b[0m\u001b[0mrule_x_index\u001b[0m\u001b[0;34m)\u001b[0m\u001b[0;34m)\u001b[0m\u001b[0;34m\u001b[0m\u001b[0m\n\u001b[0;32m--> 288\u001b[0;31m             \u001b[0momega_est\u001b[0m \u001b[0;34m=\u001b[0m \u001b[0mestimate_omega_for_element\u001b[0m\u001b[0;34m(\u001b[0m\u001b[0msoln_set\u001b[0m\u001b[0;34m,\u001b[0m \u001b[0mdelta\u001b[0m\u001b[0;34m,\u001b[0m \u001b[0mrule_x_index\u001b[0m\u001b[0;34m,\u001b[0m \u001b[0mlist_rules\u001b[0m\u001b[0;34m,\u001b[0m \u001b[0mdf\u001b[0m\u001b[0;34m,\u001b[0m \u001b[0mY\u001b[0m\u001b[0;34m,\u001b[0m \u001b[0mlambda_array\u001b[0m\u001b[0;34m,\u001b[0m \u001b[0;36m1.0\u001b[0m\u001b[0;34m/\u001b[0m\u001b[0;34m(\u001b[0m\u001b[0mn\u001b[0m\u001b[0;34m*\u001b[0m\u001b[0mn\u001b[0m\u001b[0;34m)\u001b[0m \u001b[0;34m*\u001b[0m \u001b[0mOPT\u001b[0m\u001b[0;34m)\u001b[0m\u001b[0;34m\u001b[0m\u001b[0m\n\u001b[0m\u001b[1;32m    289\u001b[0m             \u001b[0momega_estimates\u001b[0m\u001b[0;34m.\u001b[0m\u001b[0mappend\u001b[0m\u001b[0;34m(\u001b[0m\u001b[0momega_est\u001b[0m\u001b[0;34m)\u001b[0m\u001b[0;34m\u001b[0m\u001b[0m\n\u001b[1;32m    290\u001b[0m             \u001b[0mprint\u001b[0m\u001b[0;34m(\u001b[0m\u001b[0;34m\"Omega estimate is \"\u001b[0m\u001b[0;34m+\u001b[0m\u001b[0mstr\u001b[0m\u001b[0;34m(\u001b[0m\u001b[0momega_est\u001b[0m\u001b[0;34m)\u001b[0m\u001b[0;34m)\u001b[0m\u001b[0;34m\u001b[0m\u001b[0m\n",
      "\u001b[0;32m~/Desktop/workspace/Descriptive-Induction-ML/competition_methods_explanation/passive_methods/IDS/IDS_smooth_local.py\u001b[0m in \u001b[0;36mestimate_omega_for_element\u001b[0;34m(soln_set, delta, rule_x_index, list_rules, df, Y, lambda_array, error_threshold)\u001b[0m\n\u001b[1;32m    240\u001b[0m             \u001b[0;32mif\u001b[0m \u001b[0mrule_x_index\u001b[0m \u001b[0;32min\u001b[0m \u001b[0mtemp_soln_set\u001b[0m\u001b[0;34m:\u001b[0m\u001b[0;34m\u001b[0m\u001b[0m\n\u001b[1;32m    241\u001b[0m                 \u001b[0mtemp_soln_set\u001b[0m\u001b[0;34m.\u001b[0m\u001b[0mremove\u001b[0m\u001b[0;34m(\u001b[0m\u001b[0mrule_x_index\u001b[0m\u001b[0;34m)\u001b[0m\u001b[0;34m\u001b[0m\u001b[0m\n\u001b[0;32m--> 242\u001b[0;31m             \u001b[0mExp2_func_vals\u001b[0m\u001b[0;34m.\u001b[0m\u001b[0mappend\u001b[0m\u001b[0;34m(\u001b[0m\u001b[0mfunc_evaluation\u001b[0m\u001b[0;34m(\u001b[0m\u001b[0mtemp_soln_set\u001b[0m\u001b[0;34m,\u001b[0m \u001b[0mlist_rules\u001b[0m\u001b[0;34m,\u001b[0m \u001b[0mdf\u001b[0m\u001b[0;34m,\u001b[0m \u001b[0mY\u001b[0m\u001b[0;34m,\u001b[0m \u001b[0mlambda_array\u001b[0m\u001b[0;34m)\u001b[0m\u001b[0;34m)\u001b[0m\u001b[0;34m\u001b[0m\u001b[0m\n\u001b[0m\u001b[1;32m    243\u001b[0m \u001b[0;34m\u001b[0m\u001b[0m\n\u001b[1;32m    244\u001b[0m         \u001b[0;31m# compute standard error of mean difference\u001b[0m\u001b[0;34m\u001b[0m\u001b[0;34m\u001b[0m\u001b[0m\n",
      "\u001b[0;32m~/Desktop/workspace/Descriptive-Induction-ML/competition_methods_explanation/passive_methods/IDS/IDS_smooth_local.py\u001b[0m in \u001b[0;36mfunc_evaluation\u001b[0;34m(soln_set, list_rules, df, Y, lambda_array)\u001b[0m\n\u001b[1;32m    161\u001b[0m                 \u001b[0;32mcontinue\u001b[0m\u001b[0;34m\u001b[0m\u001b[0m\n\u001b[1;32m    162\u001b[0m             \u001b[0;32mif\u001b[0m \u001b[0mlist_rules\u001b[0m\u001b[0;34m[\u001b[0m\u001b[0mr1_index\u001b[0m\u001b[0;34m]\u001b[0m\u001b[0;34m.\u001b[0m\u001b[0mclass_label\u001b[0m \u001b[0;34m!=\u001b[0m \u001b[0mlist_rules\u001b[0m\u001b[0;34m[\u001b[0m\u001b[0mr2_index\u001b[0m\u001b[0;34m]\u001b[0m\u001b[0;34m.\u001b[0m\u001b[0mclass_label\u001b[0m\u001b[0;34m:\u001b[0m\u001b[0;34m\u001b[0m\u001b[0m\n\u001b[0;32m--> 163\u001b[0;31m                 \u001b[0msum_overlap_interclass\u001b[0m \u001b[0;34m+=\u001b[0m \u001b[0mlen\u001b[0m\u001b[0;34m(\u001b[0m\u001b[0moverlap\u001b[0m\u001b[0;34m(\u001b[0m\u001b[0mlist_rules\u001b[0m\u001b[0;34m[\u001b[0m\u001b[0mr1_index\u001b[0m\u001b[0;34m]\u001b[0m\u001b[0;34m,\u001b[0m \u001b[0mlist_rules\u001b[0m\u001b[0;34m[\u001b[0m\u001b[0mr2_index\u001b[0m\u001b[0;34m]\u001b[0m\u001b[0;34m,\u001b[0m\u001b[0mdf\u001b[0m\u001b[0;34m)\u001b[0m\u001b[0;34m)\u001b[0m\u001b[0;34m\u001b[0m\u001b[0m\n\u001b[0m\u001b[1;32m    164\u001b[0m     \u001b[0mf3\u001b[0m \u001b[0;34m=\u001b[0m \u001b[0mdf\u001b[0m\u001b[0;34m.\u001b[0m\u001b[0mshape\u001b[0m\u001b[0;34m[\u001b[0m\u001b[0;36m0\u001b[0m\u001b[0;34m]\u001b[0m \u001b[0;34m*\u001b[0m \u001b[0mlen\u001b[0m\u001b[0;34m(\u001b[0m\u001b[0mlist_rules\u001b[0m\u001b[0;34m)\u001b[0m \u001b[0;34m*\u001b[0m \u001b[0mlen\u001b[0m\u001b[0;34m(\u001b[0m\u001b[0mlist_rules\u001b[0m\u001b[0;34m)\u001b[0m \u001b[0;34m-\u001b[0m \u001b[0msum_overlap_interclass\u001b[0m\u001b[0;34m\u001b[0m\u001b[0m\n\u001b[1;32m    165\u001b[0m     \u001b[0mf\u001b[0m\u001b[0;34m.\u001b[0m\u001b[0mappend\u001b[0m\u001b[0;34m(\u001b[0m\u001b[0mf3\u001b[0m\u001b[0;34m)\u001b[0m\u001b[0;34m\u001b[0m\u001b[0m\n",
      "\u001b[0;32m~/Desktop/workspace/Descriptive-Induction-ML/competition_methods_explanation/passive_methods/IDS/IDS_smooth_local.py\u001b[0m in \u001b[0;36moverlap\u001b[0;34m(r1, r2, df)\u001b[0m\n\u001b[1;32m    120\u001b[0m \u001b[0;31m# compute the number of points which are covered both by r1 and r2 w.r.t. data frame df\u001b[0m\u001b[0;34m\u001b[0m\u001b[0;34m\u001b[0m\u001b[0m\n\u001b[1;32m    121\u001b[0m \u001b[0;32mdef\u001b[0m \u001b[0moverlap\u001b[0m\u001b[0;34m(\u001b[0m\u001b[0mr1\u001b[0m\u001b[0;34m,\u001b[0m \u001b[0mr2\u001b[0m\u001b[0;34m,\u001b[0m \u001b[0mdf\u001b[0m\u001b[0;34m)\u001b[0m\u001b[0;34m:\u001b[0m\u001b[0;34m\u001b[0m\u001b[0m\n\u001b[0;32m--> 122\u001b[0;31m     \u001b[0;32mreturn\u001b[0m \u001b[0msorted\u001b[0m\u001b[0;34m(\u001b[0m\u001b[0mlist\u001b[0m\u001b[0;34m(\u001b[0m\u001b[0mset\u001b[0m\u001b[0;34m(\u001b[0m\u001b[0mr1\u001b[0m\u001b[0;34m.\u001b[0m\u001b[0mget_cover\u001b[0m\u001b[0;34m(\u001b[0m\u001b[0mdf\u001b[0m\u001b[0;34m)\u001b[0m\u001b[0;34m)\u001b[0m\u001b[0;34m.\u001b[0m\u001b[0mintersection\u001b[0m\u001b[0;34m(\u001b[0m\u001b[0mset\u001b[0m\u001b[0;34m(\u001b[0m\u001b[0mr2\u001b[0m\u001b[0;34m.\u001b[0m\u001b[0mget_cover\u001b[0m\u001b[0;34m(\u001b[0m\u001b[0mdf\u001b[0m\u001b[0;34m)\u001b[0m\u001b[0;34m)\u001b[0m\u001b[0;34m)\u001b[0m\u001b[0;34m)\u001b[0m\u001b[0;34m)\u001b[0m\u001b[0;34m\u001b[0m\u001b[0m\n\u001b[0m\u001b[1;32m    123\u001b[0m \u001b[0;34m\u001b[0m\u001b[0m\n\u001b[1;32m    124\u001b[0m \u001b[0;34m\u001b[0m\u001b[0m\n",
      "\u001b[0;32m~/Desktop/workspace/Descriptive-Induction-ML/competition_methods_explanation/passive_methods/IDS/IDS_smooth_local.py\u001b[0m in \u001b[0;36mget_cover\u001b[0;34m(self, df)\u001b[0m\n\u001b[1;32m     51\u001b[0m         \u001b[0mdfnew\u001b[0m \u001b[0;34m=\u001b[0m \u001b[0mdf\u001b[0m\u001b[0;34m.\u001b[0m\u001b[0mcopy\u001b[0m\u001b[0;34m(\u001b[0m\u001b[0;34m)\u001b[0m\u001b[0;34m\u001b[0m\u001b[0m\n\u001b[1;32m     52\u001b[0m         \u001b[0;32mfor\u001b[0m \u001b[0mpattern\u001b[0m \u001b[0;32min\u001b[0m \u001b[0mself\u001b[0m\u001b[0;34m.\u001b[0m\u001b[0mitemset\u001b[0m\u001b[0;34m:\u001b[0m\u001b[0;34m\u001b[0m\u001b[0m\n\u001b[0;32m---> 53\u001b[0;31m             \u001b[0mdfnew\u001b[0m \u001b[0;34m=\u001b[0m \u001b[0mdfnew\u001b[0m\u001b[0;34m[\u001b[0m\u001b[0mdfnew\u001b[0m\u001b[0;34m[\u001b[0m\u001b[0mpattern\u001b[0m\u001b[0;34m[\u001b[0m\u001b[0;36m0\u001b[0m\u001b[0;34m]\u001b[0m\u001b[0;34m]\u001b[0m \u001b[0;34m==\u001b[0m \u001b[0mpattern\u001b[0m\u001b[0;34m[\u001b[0m\u001b[0;36m1\u001b[0m\u001b[0;34m]\u001b[0m\u001b[0;34m]\u001b[0m\u001b[0;34m\u001b[0m\u001b[0m\n\u001b[0m\u001b[1;32m     54\u001b[0m         \u001b[0;32mreturn\u001b[0m \u001b[0mlist\u001b[0m\u001b[0;34m(\u001b[0m\u001b[0mdfnew\u001b[0m\u001b[0;34m.\u001b[0m\u001b[0mindex\u001b[0m\u001b[0;34m.\u001b[0m\u001b[0mvalues\u001b[0m\u001b[0;34m)\u001b[0m\u001b[0;34m\u001b[0m\u001b[0m\n\u001b[1;32m     55\u001b[0m \u001b[0;34m\u001b[0m\u001b[0m\n",
      "\u001b[0;32m~/anaconda3/lib/python3.5/site-packages/pandas/core/frame.py\u001b[0m in \u001b[0;36m__getitem__\u001b[0;34m(self, key)\u001b[0m\n\u001b[1;32m   2916\u001b[0m         \u001b[0;31m# Do we have a (boolean) 1d indexer?\u001b[0m\u001b[0;34m\u001b[0m\u001b[0;34m\u001b[0m\u001b[0m\n\u001b[1;32m   2917\u001b[0m         \u001b[0;32mif\u001b[0m \u001b[0mcom\u001b[0m\u001b[0;34m.\u001b[0m\u001b[0mis_bool_indexer\u001b[0m\u001b[0;34m(\u001b[0m\u001b[0mkey\u001b[0m\u001b[0;34m)\u001b[0m\u001b[0;34m:\u001b[0m\u001b[0;34m\u001b[0m\u001b[0m\n\u001b[0;32m-> 2918\u001b[0;31m             \u001b[0;32mreturn\u001b[0m \u001b[0mself\u001b[0m\u001b[0;34m.\u001b[0m\u001b[0m_getitem_bool_array\u001b[0m\u001b[0;34m(\u001b[0m\u001b[0mkey\u001b[0m\u001b[0;34m)\u001b[0m\u001b[0;34m\u001b[0m\u001b[0m\n\u001b[0m\u001b[1;32m   2919\u001b[0m \u001b[0;34m\u001b[0m\u001b[0m\n\u001b[1;32m   2920\u001b[0m         \u001b[0;31m# We are left with two options: a single key, and a collection of keys,\u001b[0m\u001b[0;34m\u001b[0m\u001b[0;34m\u001b[0m\u001b[0m\n",
      "\u001b[0;32m~/anaconda3/lib/python3.5/site-packages/pandas/core/frame.py\u001b[0m in \u001b[0;36m_getitem_bool_array\u001b[0;34m(self, key)\u001b[0m\n\u001b[1;32m   2967\u001b[0m         \u001b[0mkey\u001b[0m \u001b[0;34m=\u001b[0m \u001b[0mcheck_bool_indexer\u001b[0m\u001b[0;34m(\u001b[0m\u001b[0mself\u001b[0m\u001b[0;34m.\u001b[0m\u001b[0mindex\u001b[0m\u001b[0;34m,\u001b[0m \u001b[0mkey\u001b[0m\u001b[0;34m)\u001b[0m\u001b[0;34m\u001b[0m\u001b[0m\n\u001b[1;32m   2968\u001b[0m         \u001b[0mindexer\u001b[0m \u001b[0;34m=\u001b[0m \u001b[0mkey\u001b[0m\u001b[0;34m.\u001b[0m\u001b[0mnonzero\u001b[0m\u001b[0;34m(\u001b[0m\u001b[0;34m)\u001b[0m\u001b[0;34m[\u001b[0m\u001b[0;36m0\u001b[0m\u001b[0;34m]\u001b[0m\u001b[0;34m\u001b[0m\u001b[0m\n\u001b[0;32m-> 2969\u001b[0;31m         \u001b[0;32mreturn\u001b[0m \u001b[0mself\u001b[0m\u001b[0;34m.\u001b[0m\u001b[0m_take\u001b[0m\u001b[0;34m(\u001b[0m\u001b[0mindexer\u001b[0m\u001b[0;34m,\u001b[0m \u001b[0maxis\u001b[0m\u001b[0;34m=\u001b[0m\u001b[0;36m0\u001b[0m\u001b[0;34m)\u001b[0m\u001b[0;34m\u001b[0m\u001b[0m\n\u001b[0m\u001b[1;32m   2970\u001b[0m \u001b[0;34m\u001b[0m\u001b[0m\n\u001b[1;32m   2971\u001b[0m     \u001b[0;32mdef\u001b[0m \u001b[0m_getitem_multilevel\u001b[0m\u001b[0;34m(\u001b[0m\u001b[0mself\u001b[0m\u001b[0;34m,\u001b[0m \u001b[0mkey\u001b[0m\u001b[0;34m)\u001b[0m\u001b[0;34m:\u001b[0m\u001b[0;34m\u001b[0m\u001b[0m\n",
      "\u001b[0;32m~/anaconda3/lib/python3.5/site-packages/pandas/core/generic.py\u001b[0m in \u001b[0;36m_take\u001b[0;34m(self, indices, axis, is_copy)\u001b[0m\n\u001b[1;32m   3357\u001b[0m         new_data = self._data.take(indices,\n\u001b[1;32m   3358\u001b[0m                                    \u001b[0maxis\u001b[0m\u001b[0;34m=\u001b[0m\u001b[0mself\u001b[0m\u001b[0;34m.\u001b[0m\u001b[0m_get_block_manager_axis\u001b[0m\u001b[0;34m(\u001b[0m\u001b[0maxis\u001b[0m\u001b[0;34m)\u001b[0m\u001b[0;34m,\u001b[0m\u001b[0;34m\u001b[0m\u001b[0m\n\u001b[0;32m-> 3359\u001b[0;31m                                    verify=True)\n\u001b[0m\u001b[1;32m   3360\u001b[0m         \u001b[0mresult\u001b[0m \u001b[0;34m=\u001b[0m \u001b[0mself\u001b[0m\u001b[0;34m.\u001b[0m\u001b[0m_constructor\u001b[0m\u001b[0;34m(\u001b[0m\u001b[0mnew_data\u001b[0m\u001b[0;34m)\u001b[0m\u001b[0;34m.\u001b[0m\u001b[0m__finalize__\u001b[0m\u001b[0;34m(\u001b[0m\u001b[0mself\u001b[0m\u001b[0;34m)\u001b[0m\u001b[0;34m\u001b[0m\u001b[0m\n\u001b[1;32m   3361\u001b[0m \u001b[0;34m\u001b[0m\u001b[0m\n",
      "\u001b[0;32m~/anaconda3/lib/python3.5/site-packages/pandas/core/internals/managers.py\u001b[0m in \u001b[0;36mtake\u001b[0;34m(self, indexer, axis, verify, convert)\u001b[0m\n\u001b[1;32m   1348\u001b[0m         \u001b[0mnew_labels\u001b[0m \u001b[0;34m=\u001b[0m \u001b[0mself\u001b[0m\u001b[0;34m.\u001b[0m\u001b[0maxes\u001b[0m\u001b[0;34m[\u001b[0m\u001b[0maxis\u001b[0m\u001b[0;34m]\u001b[0m\u001b[0;34m.\u001b[0m\u001b[0mtake\u001b[0m\u001b[0;34m(\u001b[0m\u001b[0mindexer\u001b[0m\u001b[0;34m)\u001b[0m\u001b[0;34m\u001b[0m\u001b[0m\n\u001b[1;32m   1349\u001b[0m         return self.reindex_indexer(new_axis=new_labels, indexer=indexer,\n\u001b[0;32m-> 1350\u001b[0;31m                                     axis=axis, allow_dups=True)\n\u001b[0m\u001b[1;32m   1351\u001b[0m \u001b[0;34m\u001b[0m\u001b[0m\n\u001b[1;32m   1352\u001b[0m     \u001b[0;32mdef\u001b[0m \u001b[0mmerge\u001b[0m\u001b[0;34m(\u001b[0m\u001b[0mself\u001b[0m\u001b[0;34m,\u001b[0m \u001b[0mother\u001b[0m\u001b[0;34m,\u001b[0m \u001b[0mlsuffix\u001b[0m\u001b[0;34m=\u001b[0m\u001b[0;34m''\u001b[0m\u001b[0;34m,\u001b[0m \u001b[0mrsuffix\u001b[0m\u001b[0;34m=\u001b[0m\u001b[0;34m''\u001b[0m\u001b[0;34m)\u001b[0m\u001b[0;34m:\u001b[0m\u001b[0;34m\u001b[0m\u001b[0m\n",
      "\u001b[0;32m~/anaconda3/lib/python3.5/site-packages/pandas/core/internals/managers.py\u001b[0m in \u001b[0;36mreindex_indexer\u001b[0;34m(self, new_axis, indexer, axis, fill_value, allow_dups, copy)\u001b[0m\n\u001b[1;32m   1233\u001b[0m             new_blocks = [blk.take_nd(indexer, axis=axis, fill_tuple=(\n\u001b[1;32m   1234\u001b[0m                 fill_value if fill_value is not None else blk.fill_value,))\n\u001b[0;32m-> 1235\u001b[0;31m                 for blk in self.blocks]\n\u001b[0m\u001b[1;32m   1236\u001b[0m \u001b[0;34m\u001b[0m\u001b[0m\n\u001b[1;32m   1237\u001b[0m         \u001b[0mnew_axes\u001b[0m \u001b[0;34m=\u001b[0m \u001b[0mlist\u001b[0m\u001b[0;34m(\u001b[0m\u001b[0mself\u001b[0m\u001b[0;34m.\u001b[0m\u001b[0maxes\u001b[0m\u001b[0;34m)\u001b[0m\u001b[0;34m\u001b[0m\u001b[0m\n",
      "\u001b[0;32m~/anaconda3/lib/python3.5/site-packages/pandas/core/internals/managers.py\u001b[0m in \u001b[0;36m<listcomp>\u001b[0;34m(.0)\u001b[0m\n\u001b[1;32m   1233\u001b[0m             new_blocks = [blk.take_nd(indexer, axis=axis, fill_tuple=(\n\u001b[1;32m   1234\u001b[0m                 fill_value if fill_value is not None else blk.fill_value,))\n\u001b[0;32m-> 1235\u001b[0;31m                 for blk in self.blocks]\n\u001b[0m\u001b[1;32m   1236\u001b[0m \u001b[0;34m\u001b[0m\u001b[0m\n\u001b[1;32m   1237\u001b[0m         \u001b[0mnew_axes\u001b[0m \u001b[0;34m=\u001b[0m \u001b[0mlist\u001b[0m\u001b[0;34m(\u001b[0m\u001b[0mself\u001b[0m\u001b[0;34m.\u001b[0m\u001b[0maxes\u001b[0m\u001b[0;34m)\u001b[0m\u001b[0;34m\u001b[0m\u001b[0m\n",
      "\u001b[0;32m~/anaconda3/lib/python3.5/site-packages/pandas/core/internals/blocks.py\u001b[0m in \u001b[0;36mtake_nd\u001b[0;34m(self, indexer, axis, new_mgr_locs, fill_tuple)\u001b[0m\n\u001b[1;32m   1776\u001b[0m         \u001b[0;31m# if its REALLY axis 0, then this will be a reindex and not a take\u001b[0m\u001b[0;34m\u001b[0m\u001b[0;34m\u001b[0m\u001b[0m\n\u001b[1;32m   1777\u001b[0m         new_values = self.values.take(indexer, fill_value=fill_value,\n\u001b[0;32m-> 1778\u001b[0;31m                                       allow_fill=True)\n\u001b[0m\u001b[1;32m   1779\u001b[0m \u001b[0;34m\u001b[0m\u001b[0m\n\u001b[1;32m   1780\u001b[0m         \u001b[0;32mif\u001b[0m \u001b[0mself\u001b[0m\u001b[0;34m.\u001b[0m\u001b[0mndim\u001b[0m \u001b[0;34m==\u001b[0m \u001b[0;36m1\u001b[0m \u001b[0;32mand\u001b[0m \u001b[0mnew_mgr_locs\u001b[0m \u001b[0;32mis\u001b[0m \u001b[0;32mNone\u001b[0m\u001b[0;34m:\u001b[0m\u001b[0;34m\u001b[0m\u001b[0m\n",
      "\u001b[0;32m~/anaconda3/lib/python3.5/site-packages/pandas/core/arrays/categorical.py\u001b[0m in \u001b[0;36mtake_nd\u001b[0;34m(self, indexer, allow_fill, fill_value)\u001b[0m\n\u001b[1;32m   1895\u001b[0m         codes = take(self._codes, indexer, allow_fill=allow_fill,\n\u001b[1;32m   1896\u001b[0m                      fill_value=fill_value)\n\u001b[0;32m-> 1897\u001b[0;31m         \u001b[0mresult\u001b[0m \u001b[0;34m=\u001b[0m \u001b[0mtype\u001b[0m\u001b[0;34m(\u001b[0m\u001b[0mself\u001b[0m\u001b[0;34m)\u001b[0m\u001b[0;34m.\u001b[0m\u001b[0mfrom_codes\u001b[0m\u001b[0;34m(\u001b[0m\u001b[0mcodes\u001b[0m\u001b[0;34m,\u001b[0m \u001b[0mdtype\u001b[0m\u001b[0;34m=\u001b[0m\u001b[0mdtype\u001b[0m\u001b[0;34m)\u001b[0m\u001b[0;34m\u001b[0m\u001b[0m\n\u001b[0m\u001b[1;32m   1898\u001b[0m         \u001b[0;32mreturn\u001b[0m \u001b[0mresult\u001b[0m\u001b[0;34m\u001b[0m\u001b[0m\n\u001b[1;32m   1899\u001b[0m \u001b[0;34m\u001b[0m\u001b[0m\n",
      "\u001b[0;32m~/anaconda3/lib/python3.5/site-packages/pandas/core/arrays/categorical.py\u001b[0m in \u001b[0;36mfrom_codes\u001b[0;34m(cls, codes, categories, ordered, dtype)\u001b[0m\n\u001b[1;32m    638\u001b[0m         dtype = CategoricalDtype._from_values_or_dtype(categories=categories,\n\u001b[1;32m    639\u001b[0m                                                        \u001b[0mordered\u001b[0m\u001b[0;34m=\u001b[0m\u001b[0mordered\u001b[0m\u001b[0;34m,\u001b[0m\u001b[0;34m\u001b[0m\u001b[0m\n\u001b[0;32m--> 640\u001b[0;31m                                                        dtype=dtype)\n\u001b[0m\u001b[1;32m    641\u001b[0m         \u001b[0;32mif\u001b[0m \u001b[0mdtype\u001b[0m\u001b[0;34m.\u001b[0m\u001b[0mcategories\u001b[0m \u001b[0;32mis\u001b[0m \u001b[0;32mNone\u001b[0m\u001b[0;34m:\u001b[0m\u001b[0;34m\u001b[0m\u001b[0m\n\u001b[1;32m    642\u001b[0m             msg = (\"The categories must be provided in 'categories' or \"\n",
      "\u001b[0;32m~/anaconda3/lib/python3.5/site-packages/pandas/core/dtypes/dtypes.py\u001b[0m in \u001b[0;36m_from_values_or_dtype\u001b[0;34m(cls, values, categories, ordered, dtype)\u001b[0m\n\u001b[1;32m    242\u001b[0m         \u001b[0;32mreturn\u001b[0m \u001b[0mcls\u001b[0m\u001b[0;34m(\u001b[0m\u001b[0mcategories\u001b[0m\u001b[0;34m,\u001b[0m \u001b[0mordered\u001b[0m\u001b[0;34m)\u001b[0m\u001b[0;34m\u001b[0m\u001b[0m\n\u001b[1;32m    243\u001b[0m \u001b[0;34m\u001b[0m\u001b[0m\n\u001b[0;32m--> 244\u001b[0;31m     \u001b[0;34m@\u001b[0m\u001b[0mclassmethod\u001b[0m\u001b[0;34m\u001b[0m\u001b[0m\n\u001b[0m\u001b[1;32m    245\u001b[0m     def _from_values_or_dtype(cls, values=None, categories=None, ordered=None,\n\u001b[1;32m    246\u001b[0m                               dtype=None):\n",
      "\u001b[0;31mKeyboardInterrupt\u001b[0m: "
     ]
    }
   ],
   "source": [
    "%load_ext autoreload\n",
    "%autoreload 2\n",
    "from competition_methods_explanation.passive_methods.ids import explain_tabular\n",
    "iter_max = 1000\n",
    "explanations = explain_tabular(data_table, black_box, target_class=\"yes\", random_seed=42)"
   ]
  },
  {
   "cell_type": "code",
   "execution_count": null,
   "metadata": {
    "ExecuteTime": {
     "end_time": "2019-06-28T06:02:13.314067Z",
     "start_time": "2019-06-28T06:01:46.683Z"
    },
    "hidden": true,
    "scrolled": true
   },
   "outputs": [],
   "source": [
    "from utils import  rule_to_string\n",
    "\n",
    "for e in explanations:\n",
    "    print(rule_to_string(e,data_table.domain,target_class_idx=1))\n",
    "\n",
    "%matplotlib inline\n",
    "import matplotlib.pyplot as plt\n",
    "import numpy as np\n",
    "fig, ax = plt.subplots()\n",
    "plt.ylim((0,2))\n",
    "plt.xlim((0,1))\n",
    "\n",
    "ax.scatter(data_table.X[:,0], data_table.X[:,1], c=data_table.Y , alpha=0.5)\n",
    "delta = 0.025\n",
    "x = np.arange(0, 1, delta)\n",
    "y = np.arange(0, 2, 2*delta)\n",
    "X, Y = np.meshgrid(x, y)\n",
    "F = f(X,Y)    \n",
    "levels=[0]\n",
    "fmt = {}\n",
    "levels = [0] # the decision threshold is zero\n",
    "CS = ax.contour(X, Y, F,levels=levels)\n",
    "strs = ['']\n",
    "for l, s in zip(CS.levels, strs):\n",
    "    fmt[l] = s\n",
    "ax.clabel(CS, inline=0, fontsize=80,fmt=fmt)\n",
    "\n",
    "\n",
    "# visualize the rule\n",
    "xx, yy = np.meshgrid(np.linspace(0, 1, 100), np.linspace(0, 2, 100))\n",
    "output_rules = explanations\n",
    "for output_rule in output_rules:\n",
    "    # Z = predict_by_rule(df_instances, output_rule)\n",
    "    Z =  output_rule.evaluate_data(np.c_[xx.ravel(), yy.ravel()])\n",
    "\n",
    "    Z = Z.reshape(xx.shape).astype(int)\n",
    "    CS2 = ax.contour(xx, yy, Z, cmap=plt.cm.Blues)\n",
    "\n",
    "# output_rule = output_rules[0]\n",
    "# Z =  output_rule.evaluate_data(np.c_[xx.ravel(), yy.ravel()])\n",
    "\n",
    "# Z = Z.reshape(xx.shape).astype(int)\n",
    "# CS2 = ax.contour(xx, yy, Z, cmap=plt.cm.Blues)\n",
    "\n",
    "\n",
    "# plt.title(\"CN2-Rules visualized value of the decision_function method\")\n",
    "\n",
    "plt.show()"
   ]
  },
  {
   "cell_type": "markdown",
   "metadata": {
    "heading_collapsed": true
   },
   "source": [
    "### BDS: bayesian decision set"
   ]
  },
  {
   "cell_type": "code",
   "execution_count": null,
   "metadata": {
    "ExecuteTime": {
     "end_time": "2019-06-28T06:02:13.318276Z",
     "start_time": "2019-06-28T06:01:46.686Z"
    },
    "hidden": true
   },
   "outputs": [],
   "source": [
    "%load_ext autoreload\n",
    "%autoreload 2\n",
    "from competition_methods_explanation.passive_methods.brs import explain_tabular\n",
    "iter_max = 1000\n",
    "explanations = explain_tabular(data_table, black_box, target_class=\"yes\", random_seed=42)"
   ]
  },
  {
   "cell_type": "code",
   "execution_count": null,
   "metadata": {
    "ExecuteTime": {
     "end_time": "2019-06-28T06:02:13.322455Z",
     "start_time": "2019-06-28T06:01:46.687Z"
    },
    "hidden": true
   },
   "outputs": [],
   "source": [
    "%matplotlib inline\n",
    "import matplotlib.pyplot as plt\n",
    "import numpy as np\n",
    "fig, ax = plt.subplots()\n",
    "plt.ylim((0,2))\n",
    "plt.xlim((0,1))\n",
    "\n",
    "ax.scatter(data_table.X[:,0], data_table.X[:,1], c=data_table.Y , alpha=0.5)\n",
    "delta = 0.025\n",
    "x = np.arange(0, 1, delta)\n",
    "y = np.arange(0, 2, 2*delta)\n",
    "X, Y = np.meshgrid(x, y)\n",
    "F = f(X,Y)    \n",
    "levels=[0]\n",
    "fmt = {}\n",
    "levels = [0] # the decision threshold is zero\n",
    "CS = ax.contour(X, Y, F,levels=levels)\n",
    "strs = ['']\n",
    "for l, s in zip(CS.levels, strs):\n",
    "    fmt[l] = s\n",
    "ax.clabel(CS, inline=0, fontsize=80,fmt=fmt)\n",
    "\n",
    "\n",
    "# visualize the rule\n",
    "xx, yy = np.meshgrid(np.linspace(0, 1, 100), np.linspace(0, 2, 100))\n",
    "output_rules = explanations\n",
    "for output_rule in output_rules:\n",
    "    # Z = predict_by_rule(df_instances, output_rule)\n",
    "    Z =  output_rule.evaluate_data(np.c_[xx.ravel(), yy.ravel()])\n",
    "\n",
    "    Z = Z.reshape(xx.shape).astype(int)\n",
    "    CS2 = ax.contour(xx, yy, Z, cmap=plt.cm.Blues)\n",
    "\n",
    "# output_rule = output_rules[0]\n",
    "# Z =  output_rule.evaluate_data(np.c_[xx.ravel(), yy.ravel()])\n",
    "\n",
    "# Z = Z.reshape(xx.shape).astype(int)\n",
    "# CS2 = ax.contour(xx, yy, Z, cmap=plt.cm.Blues)\n",
    "\n",
    "\n",
    "# plt.title(\"CN2-Rules visualized value of the decision_function method\")\n",
    "\n",
    "plt.show()"
   ]
  },
  {
   "cell_type": "markdown",
   "metadata": {
    "heading_collapsed": true
   },
   "source": [
    "### CN2 algorithm"
   ]
  },
  {
   "cell_type": "code",
   "execution_count": null,
   "metadata": {
    "ExecuteTime": {
     "end_time": "2019-06-28T06:02:13.330126Z",
     "start_time": "2019-06-28T06:01:46.691Z"
    },
    "hidden": true
   },
   "outputs": [],
   "source": [
    "%load_ext autoreload\n",
    "%autoreload 2\n",
    "from competition_methods_explanation.passive_methods.cn2 import cn2_tabular\n",
    "explanations = cn2_tabular(data_table,  black_box, target_class = \"yes\", random_seed=42)"
   ]
  },
  {
   "cell_type": "code",
   "execution_count": null,
   "metadata": {
    "ExecuteTime": {
     "end_time": "2019-06-28T06:02:13.335633Z",
     "start_time": "2019-06-28T06:01:46.693Z"
    },
    "hidden": true
   },
   "outputs": [],
   "source": [
    "%matplotlib inline\n",
    "import matplotlib.pyplot as plt\n",
    "import numpy as np\n",
    "fig, ax = plt.subplots()\n",
    "plt.ylim((0,2))\n",
    "plt.xlim((0,1))\n",
    "\n",
    "ax.scatter(data_table.X[:,0], data_table.X[:,1], c=data_table.Y , alpha=0.5)\n",
    "delta = 0.025\n",
    "x = np.arange(0, 1, delta)\n",
    "y = np.arange(0, 2, 2*delta)\n",
    "X, Y = np.meshgrid(x, y)\n",
    "F = f(X,Y)    \n",
    "levels=[0]\n",
    "fmt = {}\n",
    "levels = [0] # the decision threshold is zero\n",
    "CS = ax.contour(X, Y, F,levels=levels)\n",
    "strs = ['']\n",
    "for l, s in zip(CS.levels, strs):\n",
    "    fmt[l] = s\n",
    "ax.clabel(CS, inline=0, fontsize=80,fmt=fmt)\n",
    "\n",
    "\n",
    "# visualize the rule\n",
    "xx, yy = np.meshgrid(np.linspace(0, 1, 100), np.linspace(0, 2, 100))\n",
    "output_rules = explanations\n",
    "for output_rule in output_rules:\n",
    "    # Z = predict_by_rule(df_instances, output_rule)\n",
    "    Z =  output_rule.evaluate_data(np.c_[xx.ravel(), yy.ravel()])\n",
    "\n",
    "    Z = Z.reshape(xx.shape).astype(int)\n",
    "    CS2 = ax.contour(xx, yy, Z, cmap=plt.cm.Blues)\n",
    "\n",
    "# output_rule = output_rules[0]\n",
    "# Z =  output_rule.evaluate_data(np.c_[xx.ravel(), yy.ravel()])\n",
    "\n",
    "# Z = Z.reshape(xx.shape).astype(int)\n",
    "# CS2 = ax.contour(xx, yy, Z, cmap=plt.cm.Blues)\n",
    "\n",
    "\n",
    "# plt.title(\"CN2-Rules visualized value of the decision_function method\")\n",
    "\n",
    "plt.show()"
   ]
  },
  {
   "cell_type": "code",
   "execution_count": null,
   "metadata": {
    "ExecuteTime": {
     "end_time": "2019-06-28T06:02:13.340927Z",
     "start_time": "2019-06-28T06:01:46.695Z"
    },
    "hidden": true
   },
   "outputs": [],
   "source": [
    "r = output_rules[0]\n",
    "r.selectors\n",
    "\n",
    "data_table.domain.attributes[0].name\n",
    "\n",
    "print(r)"
   ]
  },
  {
   "cell_type": "markdown",
   "metadata": {
    "heading_collapsed": true
   },
   "source": [
    "### CN2-SD algorithm"
   ]
  },
  {
   "cell_type": "code",
   "execution_count": null,
   "metadata": {
    "ExecuteTime": {
     "end_time": "2019-06-28T06:02:13.344743Z",
     "start_time": "2019-06-28T06:01:46.697Z"
    },
    "hidden": true
   },
   "outputs": [],
   "source": [
    "%load_ext autoreload\n",
    "%autoreload 2\n",
    "from competition_methods_explanation.passive_methods.cn2 import cn2sd_tabular\n",
    "explanations = cn2sd_tabular(data_table, black_box, target_class = \"yes\", random_seed=42)"
   ]
  },
  {
   "cell_type": "code",
   "execution_count": null,
   "metadata": {
    "ExecuteTime": {
     "end_time": "2019-06-28T06:02:13.347201Z",
     "start_time": "2019-06-28T06:01:46.699Z"
    },
    "hidden": true,
    "inputHidden": true
   },
   "outputs": [],
   "source": [
    "import matplotlib.pyplot as plt\n",
    "import numpy as np\n",
    "fig, ax = plt.subplots()\n",
    "plt.ylim((0,2))\n",
    "plt.xlim((0,1))\n",
    "\n",
    "ax.scatter(data_table.X[:,0], data_table.X[:,1], c=data_table.Y , alpha=0.5)\n",
    "delta = 0.025\n",
    "x = np.arange(0, 1, delta)\n",
    "y = np.arange(0, 2, 2*delta)\n",
    "X, Y = np.meshgrid(x, y)\n",
    "F = f(X,Y)    \n",
    "levels=[0]\n",
    "fmt = {}\n",
    "levels = [0] # the decision threshold is zero\n",
    "CS = ax.contour(X, Y, F,levels=levels)\n",
    "strs = ['']\n",
    "for l, s in zip(CS.levels, strs):\n",
    "    fmt[l] = s\n",
    "ax.clabel(CS, inline=0, fontsize=80,fmt=fmt)\n",
    "\n",
    "\n",
    "# visualize the rule\n",
    "xx, yy = np.meshgrid(np.linspace(0, 1, 100), np.linspace(0, 2, 100))\n",
    "output_rules = explanations\n",
    "for output_rule in output_rules:\n",
    "    # Z = predict_by_rule(df_instances, output_rule)\n",
    "    Z =  output_rule.evaluate_data(np.c_[xx.ravel(), yy.ravel()])\n",
    "\n",
    "    Z = Z.reshape(xx.shape).astype(int)\n",
    "    CS2 = ax.contour(xx, yy, Z, cmap=plt.cm.Blues)\n",
    "\n",
    "# output_rule = output_rules[0]\n",
    "# Z =  output_rule.evaluate_data(np.c_[xx.ravel(), yy.ravel()])\n",
    "\n",
    "# Z = Z.reshape(xx.shape).astype(int)\n",
    "# CS2 = ax.contour(xx, yy, Z, cmap=plt.cm.Blues)\n",
    "\n",
    "\n",
    "# plt.title(\"CN2-Rules visualized value of the decision_function method\")\n",
    "\n",
    "plt.show()"
   ]
  },
  {
   "cell_type": "markdown",
   "metadata": {},
   "source": [
    "## Bottom-up approaches"
   ]
  },
  {
   "cell_type": "markdown",
   "metadata": {},
   "source": [
    "### CN2+Anchor\n",
    "\n",
    "adopts the orignal implementation of anchor"
   ]
  },
  {
   "cell_type": "code",
   "execution_count": null,
   "metadata": {
    "ExecuteTime": {
     "end_time": "2019-06-28T06:02:13.353092Z",
     "start_time": "2019-06-28T06:01:46.702Z"
    },
    "inputHidden": false,
    "outputHidden": true
   },
   "outputs": [],
   "source": [
    "%load_ext autoreload\n",
    "%autoreload 2\n",
    "from competition_methods_explanation.active_methods_bottom_up.cn2anchor import cn2anchor_tabular\n",
    "explanations = cn2anchor_tabular(data_table, black_box, target_class = \"yes\", random_seed=42)"
   ]
  },
  {
   "cell_type": "code",
   "execution_count": null,
   "metadata": {
    "ExecuteTime": {
     "end_time": "2019-06-28T06:02:13.363003Z",
     "start_time": "2019-06-28T06:01:46.705Z"
    },
    "inputHidden": true
   },
   "outputs": [],
   "source": [
    "import matplotlib.pyplot as plt\n",
    "import numpy as np\n",
    "fig, ax = plt.subplots()\n",
    "plt.ylim((0,2))\n",
    "plt.xlim((0,1))\n",
    "\n",
    "ax.scatter(data_table.X[:,0], data_table.X[:,1], c=data_table.Y , alpha=0.5)\n",
    "delta = 0.025\n",
    "x = np.arange(0, 1, delta)\n",
    "y = np.arange(0, 2, 2*delta)\n",
    "X, Y = np.meshgrid(x, y)\n",
    "F = f(X,Y)    \n",
    "levels=[0]\n",
    "fmt = {}\n",
    "levels = [0] # the decision threshold is zero\n",
    "CS = ax.contour(X, Y, F,levels=levels)\n",
    "strs = ['']\n",
    "for l, s in zip(CS.levels, strs):\n",
    "    fmt[l] = s\n",
    "ax.clabel(CS, inline=0, fontsize=80,fmt=fmt)\n",
    "\n",
    "\n",
    "# visualize the rule\n",
    "xx, yy = np.meshgrid(np.linspace(0, 1, 100), np.linspace(0, 2, 100))\n",
    "output_rules = explanations\n",
    "for output_rule in output_rules:\n",
    "    # Z = predict_by_rule(df_instances, output_rule)\n",
    "    Z =  output_rule.evaluate_data(np.c_[xx.ravel(), yy.ravel()])\n",
    "\n",
    "    Z = Z.reshape(xx.shape).astype(int)\n",
    "    CS2 = ax.contour(xx, yy, Z, cmap=plt.cm.Blues)\n",
    "\n",
    "# output_rule = output_rules[0]\n",
    "# Z =  output_rule.evaluate_data(np.c_[xx.ravel(), yy.ravel()])\n",
    "\n",
    "# Z = Z.reshape(xx.shape).astype(int)\n",
    "# CS2 = ax.contour(xx, yy, Z, cmap=plt.cm.Blues)\n",
    "\n",
    "\n",
    "# plt.title(\"CN2-Rules visualized value of the decision_function method\")\n",
    "\n",
    "plt.show()"
   ]
  },
  {
   "cell_type": "markdown",
   "metadata": {
    "heading_collapsed": true
   },
   "source": [
    "## Top-down approaches\n",
    "\n",
    "\n",
    "It also demonstrates that, actively querying the blackbox, can really induce from the blackbox, some good descriptive patterns.\n"
   ]
  },
  {
   "cell_type": "markdown",
   "metadata": {
    "heading_collapsed": true,
    "hidden": true
   },
   "source": [
    "### DTExtract-Original (only continuous)"
   ]
  },
  {
   "cell_type": "code",
   "execution_count": 5,
   "metadata": {
    "ExecuteTime": {
     "end_time": "2019-06-28T06:02:23.836128Z",
     "start_time": "2019-06-28T06:02:20.046558Z"
    },
    "hidden": true
   },
   "outputs": [
    {
     "name": "stdout",
     "output_type": "stream",
     "text": [
      "The autoreload extension is already loaded. To reload it, use:\n",
      "  %reload_ext autoreload\n",
      "Fitting Gaussian mixture with 10 components...\n",
      "Done!\n",
      "Sampling 20 points\n",
      "Done! Sampled 20 points\n",
      "Generating internal node with number of samples 20...\n",
      "Done!\n",
      "Generating leaf with number of samples 20...\n",
      "Done!\n",
      "Current mass: 0.9522262073954709\n",
      "Sampling 20 test points\n",
      "Done! Sampled 20 test points\n"
     ]
    },
    {
     "name": "stderr",
     "output_type": "stream",
     "text": [
      "/Users/lucy/anaconda3/lib/python3.5/site-packages/sklearn/tree/tree.py:297: DeprecationWarning: The min_impurity_split parameter is deprecated. Its default value will change from 1e-7 to 0 in version 0.23, and it will be removed in 0.25. Use the min_impurity_decrease parameter instead.\n",
      "  DeprecationWarning)\n",
      "/Users/lucy/anaconda3/lib/python3.5/site-packages/sklearn/tree/tree.py:297: DeprecationWarning: The min_impurity_split parameter is deprecated. Its default value will change from 1e-7 to 0 in version 0.23, and it will be removed in 0.25. Use the min_impurity_decrease parameter instead.\n",
      "  DeprecationWarning)\n"
     ]
    },
    {
     "name": "stdout",
     "output_type": "stream",
     "text": [
      "Computed internal score: 0.7617809659163768\n",
      "Computed leaf score: 0.5713357244372825\n",
      "Internal node index: 0\n",
      "Sampling 20 points\n",
      "Done! Sampled 20 points\n",
      "Generating internal node with number of samples 20...\n",
      "Done!\n",
      "Generating leaf with number of samples 20...\n",
      "Done!\n",
      "Current mass: 0.9522262073954709\n",
      "Sampling 20 test points\n",
      "Done! Sampled 20 test points\n",
      "Computed internal score: 0.8570035866559238\n",
      "Computed leaf score: 0.33327917258841483\n",
      "Sampling 20 points\n",
      "Done! Sampled 20 points\n",
      "Generating internal node with number of samples 20...\n",
      "Done!\n",
      "Generating leaf with number of samples 20...\n",
      "Done!\n",
      "Current mass: 0.9522262073954709\n",
      "Sampling 20 test points\n",
      "Done! Sampled 20 test points\n"
     ]
    },
    {
     "name": "stderr",
     "output_type": "stream",
     "text": [
      "/Users/lucy/anaconda3/lib/python3.5/site-packages/sklearn/tree/tree.py:297: DeprecationWarning: The min_impurity_split parameter is deprecated. Its default value will change from 1e-7 to 0 in version 0.23, and it will be removed in 0.25. Use the min_impurity_decrease parameter instead.\n",
      "  DeprecationWarning)\n",
      "/Users/lucy/anaconda3/lib/python3.5/site-packages/sklearn/tree/tree.py:297: DeprecationWarning: The min_impurity_split parameter is deprecated. Its default value will change from 1e-7 to 0 in version 0.23, and it will be removed in 0.25. Use the min_impurity_decrease parameter instead.\n",
      "  DeprecationWarning)\n",
      "/Users/lucy/anaconda3/lib/python3.5/site-packages/sklearn/tree/tree.py:297: DeprecationWarning: The min_impurity_split parameter is deprecated. Its default value will change from 1e-7 to 0 in version 0.23, and it will be removed in 0.25. Use the min_impurity_decrease parameter instead.\n",
      "  DeprecationWarning)\n"
     ]
    },
    {
     "name": "stdout",
     "output_type": "stream",
     "text": [
      "Computed internal score: 0.7617809659163768\n",
      "Computed leaf score: 0.523724414067509\n",
      "Current gain: 0.19044524147909425\n",
      "Current score: 0.7617809659163768\n",
      "Current size: 3\n",
      "Internal node index: 1\n",
      "Sampling 20 points\n",
      "Done! Sampled 20 points\n",
      "Generating internal node with number of samples 20...\n",
      "Done!\n",
      "Generating leaf with number of samples 20...\n",
      "Done!\n",
      "Current mass: 0.9522262073954709\n",
      "Sampling 20 test points\n",
      "Done! Sampled 20 test points\n",
      "Computed internal score: 0.7617809659163768\n",
      "Computed leaf score: 0.6189470348070562\n",
      "Sampling 20 points\n",
      "Done! Sampled 20 points\n",
      "Generating internal node with number of samples 20...\n",
      "Done!\n",
      "Generating leaf with number of samples 20...\n",
      "Done!\n",
      "Current mass: 0.9522262073954709\n",
      "Sampling 20 test points\n",
      "Done! Sampled 20 test points\n",
      "Computed internal score: 0.4285017933279619\n",
      "Computed leaf score: 0.6665583451768297\n",
      "Current gain: 0.523724414067509\n",
      "Current score: 1.2855053799838858\n",
      "Current size: 5\n",
      "Internal node index: 2\n",
      "Sampling 20 points\n",
      "Done! Sampled 20 points\n",
      "Generating internal node with number of samples 20...\n",
      "Done!\n",
      "Generating leaf with number of samples 20...\n",
      "Done!\n",
      "Current mass: 0.9522262073954709\n",
      "Sampling 20 test points\n",
      "Done! Sampled 20 test points\n",
      "Computed internal score: 0.7617809659163768\n",
      "Computed leaf score: 0.5713357244372825\n",
      "Sampling 20 points\n",
      "Done! Sampled 20 points\n",
      "Generating internal node with number of samples 20...\n",
      "Done!\n",
      "Generating leaf with number of samples 20...\n",
      "Done!\n",
      "Current mass: 0.9522262073954709"
     ]
    },
    {
     "name": "stderr",
     "output_type": "stream",
     "text": [
      "/Users/lucy/anaconda3/lib/python3.5/site-packages/sklearn/tree/tree.py:297: DeprecationWarning: The min_impurity_split parameter is deprecated. Its default value will change from 1e-7 to 0 in version 0.23, and it will be removed in 0.25. Use the min_impurity_decrease parameter instead.\n",
      "  DeprecationWarning)\n",
      "/Users/lucy/anaconda3/lib/python3.5/site-packages/sklearn/tree/tree.py:297: DeprecationWarning: The min_impurity_split parameter is deprecated. Its default value will change from 1e-7 to 0 in version 0.23, and it will be removed in 0.25. Use the min_impurity_decrease parameter instead.\n",
      "  DeprecationWarning)\n"
     ]
    },
    {
     "name": "stdout",
     "output_type": "stream",
     "text": [
      "\n",
      "Sampling 20 test points\n",
      "Done! Sampled 20 test points\n",
      "Computed internal score: 0.5713357244372825\n",
      "Computed leaf score: 0.28566786221864127\n",
      "Current gain: 0.23805655184886776\n",
      "Current score: 1.5235619318327536\n",
      "Current size: 7\n",
      "Internal node index: 6\n",
      "Sampling 20 points\n",
      "Done! Sampled 20 points\n",
      "Generating internal node with number of samples 20...\n",
      "Done!\n",
      "Generating leaf with number of samples 20...\n",
      "Done!\n",
      "Current mass: 0.9522262073954709\n",
      "Sampling 20 test points\n",
      "Done! Sampled 20 test points\n",
      "Computed internal score: 0.8093922762861503\n",
      "Computed leaf score: 0.28566786221864127\n",
      "Sampling 20 points\n",
      "Done! Sampled 20 points\n",
      "Generating internal node with number of samples 20...\n",
      "Done!\n",
      "Generating leaf with number of samples 20...\n",
      "Done!\n",
      "Current mass: 0.9522262073954709\n",
      "Sampling 20 test points\n"
     ]
    },
    {
     "name": "stderr",
     "output_type": "stream",
     "text": [
      "/Users/lucy/anaconda3/lib/python3.5/site-packages/sklearn/tree/tree.py:297: DeprecationWarning: The min_impurity_split parameter is deprecated. Its default value will change from 1e-7 to 0 in version 0.23, and it will be removed in 0.25. Use the min_impurity_decrease parameter instead.\n",
      "  DeprecationWarning)\n",
      "/Users/lucy/anaconda3/lib/python3.5/site-packages/sklearn/tree/tree.py:297: DeprecationWarning: The min_impurity_split parameter is deprecated. Its default value will change from 1e-7 to 0 in version 0.23, and it will be removed in 0.25. Use the min_impurity_decrease parameter instead.\n",
      "  DeprecationWarning)\n",
      "/Users/lucy/anaconda3/lib/python3.5/site-packages/sklearn/tree/tree.py:297: DeprecationWarning: The min_impurity_split parameter is deprecated. Its default value will change from 1e-7 to 0 in version 0.23, and it will be removed in 0.25. Use the min_impurity_decrease parameter instead.\n",
      "  DeprecationWarning)\n"
     ]
    },
    {
     "name": "stdout",
     "output_type": "stream",
     "text": [
      "Done! Sampled 20 test points\n",
      "Computed internal score: 0.8093922762861503\n",
      "Computed leaf score: 0.7141696555466032\n",
      "Current gain: 0.28566786221864127\n",
      "Current score: 1.8092297940513948\n",
      "Current size: 9\n",
      "Internal node index: 13\n",
      "Sampling 20 points\n",
      "Done! Sampled 20 points\n",
      "Generating internal node with number of samples 20...\n",
      "Done!\n",
      "Generating leaf with number of samples 20...\n",
      "Done!\n",
      "Current mass: 0.9522262073954709\n",
      "Sampling 20 test points\n",
      "Done! Sampled 20 test points\n",
      "Computed internal score: 0.7617809659163768\n",
      "Computed leaf score: 0.523724414067509\n",
      "Sampling 20 points\n",
      "Done! Sampled 20 points\n",
      "Generating internal node with number of samples 20...\n",
      "Done!\n",
      "Generating leaf with number of samples 20...\n",
      "Done!\n",
      "Current mass: 0.9522262073954709\n",
      "Sampling 20 test points\n"
     ]
    },
    {
     "name": "stderr",
     "output_type": "stream",
     "text": [
      "/Users/lucy/anaconda3/lib/python3.5/site-packages/sklearn/tree/tree.py:297: DeprecationWarning: The min_impurity_split parameter is deprecated. Its default value will change from 1e-7 to 0 in version 0.23, and it will be removed in 0.25. Use the min_impurity_decrease parameter instead.\n",
      "  DeprecationWarning)\n",
      "/Users/lucy/anaconda3/lib/python3.5/site-packages/sklearn/tree/tree.py:297: DeprecationWarning: The min_impurity_split parameter is deprecated. Its default value will change from 1e-7 to 0 in version 0.23, and it will be removed in 0.25. Use the min_impurity_decrease parameter instead.\n",
      "  DeprecationWarning)\n"
     ]
    },
    {
     "name": "stdout",
     "output_type": "stream",
     "text": [
      "Done! Sampled 20 test points\n",
      "Computed internal score: 0.8093922762861503\n",
      "Computed leaf score: 0.523724414067509\n",
      "Current gain: 0.523724414067509\n",
      "Current score: 2.332954208118904\n",
      "Current size: 11\n",
      "Internal node index: 28\n",
      "Sampling 20 points\n",
      "Done! Sampled 20 points\n",
      "Generating internal node with number of samples 20...\n",
      "Done!\n",
      "Generating leaf with number of samples 20...\n",
      "Done!\n",
      "Current mass: 0.9522262073954709\n",
      "Sampling 20 test points\n",
      "Done! Sampled 20 test points\n",
      "Computed internal score: 0.6665583451768297\n",
      "Computed leaf score: 0.3808904829581884\n",
      "Sampling 20 points\n",
      "Done! Sampled 20 points\n",
      "Generating internal node with number of samples 20...\n",
      "Done!\n",
      "Generating leaf with number of samples 20...\n",
      "Done!\n",
      "Current mass: 0.9522262073954709\n",
      "Sampling 20 test points\n"
     ]
    },
    {
     "name": "stderr",
     "output_type": "stream",
     "text": [
      "/Users/lucy/anaconda3/lib/python3.5/site-packages/sklearn/tree/tree.py:297: DeprecationWarning: The min_impurity_split parameter is deprecated. Its default value will change from 1e-7 to 0 in version 0.23, and it will be removed in 0.25. Use the min_impurity_decrease parameter instead.\n",
      "  DeprecationWarning)\n",
      "/Users/lucy/anaconda3/lib/python3.5/site-packages/sklearn/tree/tree.py:297: DeprecationWarning: The min_impurity_split parameter is deprecated. Its default value will change from 1e-7 to 0 in version 0.23, and it will be removed in 0.25. Use the min_impurity_decrease parameter instead.\n",
      "  DeprecationWarning)\n"
     ]
    },
    {
     "name": "stdout",
     "output_type": "stream",
     "text": [
      "Done! Sampled 20 test points\n",
      "Computed internal score: 0.8093922762861503\n",
      "Computed leaf score: 0.523724414067509\n",
      "Current gain: 0.28566786221864127\n",
      "Current score: 2.618622070337545\n",
      "Current size: 13\n",
      "Internal node index: 57\n",
      "Sampling 20 points\n",
      "Done! Sampled 20 points\n",
      "Generating internal node with number of samples 20...\n",
      "Done!\n",
      "Generating leaf with number of samples 20...\n",
      "Done!\n",
      "Current mass: 0.9522262073954709\n",
      "Sampling 20 test points\n",
      "Done! Sampled 20 test points\n",
      "Computed internal score: 0.6189470348070562\n",
      "Computed leaf score: 0.3808904829581884\n",
      "Sampling 20 points\n",
      "Done! Sampled 20 points\n",
      "Generating internal node with number of samples 20...\n",
      "Done!\n",
      "Generating leaf with number of samples 20...\n",
      "Done!\n"
     ]
    },
    {
     "name": "stderr",
     "output_type": "stream",
     "text": [
      "/Users/lucy/anaconda3/lib/python3.5/site-packages/sklearn/tree/tree.py:297: DeprecationWarning: The min_impurity_split parameter is deprecated. Its default value will change from 1e-7 to 0 in version 0.23, and it will be removed in 0.25. Use the min_impurity_decrease parameter instead.\n",
      "  DeprecationWarning)\n",
      "/Users/lucy/anaconda3/lib/python3.5/site-packages/sklearn/tree/tree.py:297: DeprecationWarning: The min_impurity_split parameter is deprecated. Its default value will change from 1e-7 to 0 in version 0.23, and it will be removed in 0.25. Use the min_impurity_decrease parameter instead.\n",
      "  DeprecationWarning)\n"
     ]
    },
    {
     "name": "stdout",
     "output_type": "stream",
     "text": [
      "Current mass: 0.9522262073954709\n",
      "Sampling 20 test points\n",
      "Done! Sampled 20 test points\n",
      "Computed internal score: 0.6665583451768297\n",
      "Computed leaf score: 0.4285017933279619\n",
      "Current gain: 0.28566786221864127\n",
      "Current score: 2.9042899325561864\n",
      "Current size: 15\n",
      "Internal node index: 58\n",
      "Sampling 20 points\n",
      "Done! Sampled 20 points\n",
      "Generating internal node with number of samples 20...\n",
      "Done!\n",
      "Generating leaf with number of samples 20...\n",
      "Done!\n",
      "Current mass: 0.9522262073954709\n",
      "Sampling 20 test points\n",
      "Done! Sampled 20 test points\n",
      "Computed internal score: 0.6665583451768297\n",
      "Computed leaf score: 0.23805655184886773\n",
      "Sampling 20 points\n",
      "Done! Sampled 20 points\n",
      "Generating internal node with number of samples 20...\n",
      "Done!\n",
      "Generating leaf with number of samples 20...\n",
      "Done!\n",
      "Current mass: 0.9522262073954709\n",
      "Sampling 20 test points\n"
     ]
    },
    {
     "name": "stderr",
     "output_type": "stream",
     "text": [
      "/Users/lucy/anaconda3/lib/python3.5/site-packages/sklearn/tree/tree.py:297: DeprecationWarning: The min_impurity_split parameter is deprecated. Its default value will change from 1e-7 to 0 in version 0.23, and it will be removed in 0.25. Use the min_impurity_decrease parameter instead.\n",
      "  DeprecationWarning)\n",
      "/Users/lucy/anaconda3/lib/python3.5/site-packages/sklearn/tree/tree.py:297: DeprecationWarning: The min_impurity_split parameter is deprecated. Its default value will change from 1e-7 to 0 in version 0.23, and it will be removed in 0.25. Use the min_impurity_decrease parameter instead.\n",
      "  DeprecationWarning)\n"
     ]
    },
    {
     "name": "stdout",
     "output_type": "stream",
     "text": [
      "Done! Sampled 20 test points\n",
      "Computed internal score: 0.523724414067509\n",
      "Computed leaf score: 0.523724414067509\n",
      "Current gain: 0.28566786221864127\n",
      "Current score: 3.189957794774828\n",
      "Current size: 17\n",
      "Internal node index: 117\n",
      "Sampling 20 points\n",
      "Done! Sampled 20 points\n",
      "Generating internal node with number of samples 20...\n",
      "Done!\n",
      "Generating leaf with number of samples 20...\n",
      "Done!\n",
      "Current mass: 0.9522262073954709\n",
      "Sampling 20 test points\n",
      "Done! Sampled 20 test points\n",
      "Computed internal score: 0.7617809659163768\n",
      "Computed leaf score: 0.6189470348070562\n",
      "Sampling 20 points\n",
      "Done! Sampled 20 points\n",
      "Generating internal node with number of samples 20...\n",
      "Done!\n",
      "Generating leaf with number of samples 20...\n",
      "Done!\n",
      "Current mass: 0.9522262073954709\n",
      "Sampling 20 test points\n",
      "Done! Sampled 20 test points\n",
      "Computed internal score: 0.7617809659163768\n",
      "Computed leaf score: 0.6665583451768297\n",
      "Current gain: 0.4285017933279619\n",
      "Current score: 3.6184595881027897\n",
      "Current size: 19\n",
      "Internal node index: 115\n",
      "Sampling 20 points\n",
      "Done! Sampled 20 points\n",
      "Generating internal node with number of samples 20...\n",
      "Done!\n",
      "Generating leaf with number of samples 20...\n",
      "Done!\n"
     ]
    },
    {
     "name": "stderr",
     "output_type": "stream",
     "text": [
      "/Users/lucy/anaconda3/lib/python3.5/site-packages/sklearn/tree/tree.py:297: DeprecationWarning: The min_impurity_split parameter is deprecated. Its default value will change from 1e-7 to 0 in version 0.23, and it will be removed in 0.25. Use the min_impurity_decrease parameter instead.\n",
      "  DeprecationWarning)\n",
      "/Users/lucy/anaconda3/lib/python3.5/site-packages/sklearn/tree/tree.py:297: DeprecationWarning: The min_impurity_split parameter is deprecated. Its default value will change from 1e-7 to 0 in version 0.23, and it will be removed in 0.25. Use the min_impurity_decrease parameter instead.\n",
      "  DeprecationWarning)\n"
     ]
    },
    {
     "name": "stdout",
     "output_type": "stream",
     "text": [
      "Current mass: 0.9522262073954709\n",
      "Sampling 20 test points\n",
      "Done! Sampled 20 test points\n",
      "Computed internal score: 0.6665583451768297\n",
      "Computed leaf score: 0.4285017933279619\n",
      "Sampling 20 points\n",
      "Done! Sampled 20 points\n",
      "Generating internal node with number of samples 20...\n",
      "Done!\n",
      "Generating leaf with number of samples 20...\n",
      "Done!\n",
      "Current mass: 0.9522262073954709\n",
      "Sampling 20 test points\n"
     ]
    },
    {
     "name": "stderr",
     "output_type": "stream",
     "text": [
      "/Users/lucy/anaconda3/lib/python3.5/site-packages/sklearn/tree/tree.py:297: DeprecationWarning: The min_impurity_split parameter is deprecated. Its default value will change from 1e-7 to 0 in version 0.23, and it will be removed in 0.25. Use the min_impurity_decrease parameter instead.\n",
      "  DeprecationWarning)\n",
      "/Users/lucy/anaconda3/lib/python3.5/site-packages/sklearn/tree/tree.py:297: DeprecationWarning: The min_impurity_split parameter is deprecated. Its default value will change from 1e-7 to 0 in version 0.23, and it will be removed in 0.25. Use the min_impurity_decrease parameter instead.\n",
      "  DeprecationWarning)\n",
      "/Users/lucy/anaconda3/lib/python3.5/site-packages/sklearn/tree/tree.py:297: DeprecationWarning: The min_impurity_split parameter is deprecated. Its default value will change from 1e-7 to 0 in version 0.23, and it will be removed in 0.25. Use the min_impurity_decrease parameter instead.\n",
      "  DeprecationWarning)\n"
     ]
    },
    {
     "name": "stdout",
     "output_type": "stream",
     "text": [
      "Done! Sampled 20 test points\n",
      "Computed internal score: 0.9046148970256973\n",
      "Computed leaf score: 0.3808904829581884\n",
      "Current gain: 0.23805655184886776\n",
      "Current score: 3.8565161399516574\n",
      "Current size: 21\n",
      "Internal node index: 232\n",
      "Sampling 20 points\n",
      "Done! Sampled 20 points\n",
      "Generating internal node with number of samples 20...\n",
      "Done!\n",
      "Generating leaf with number of samples 20...\n",
      "Done!\n",
      "Current mass: 0.9522262073954709\n",
      "Sampling 20 test points\n",
      "Done! Sampled 20 test points\n",
      "Computed internal score: 0.6189470348070562\n",
      "Computed leaf score: 0.4285017933279619\n",
      "Sampling 20 points\n",
      "Done! Sampled 20 points\n",
      "Generating internal node with number of samples 20...\n",
      "Done!\n",
      "Generating leaf with number of samples 20...\n",
      "Done!\n",
      "Current mass: 0.9522262073954709\n",
      "Sampling 20 test points\n",
      "Done! Sampled 20 test points\n",
      "Computed internal score: 0.6665583451768297\n",
      "Computed leaf score: 0.4285017933279619\n",
      "Current gain: 0.5237244140675089\n",
      "Current score: 4.380240554019166\n",
      "Current size: 23\n",
      "Internal node index: 27\n",
      "Sampling 20 points\n",
      "Done! Sampled 20 points\n",
      "Generating internal node with number of samples 20...\n",
      "Done!\n",
      "Generating leaf with number of samples 20...\n",
      "Done!\n",
      "Current mass: 0.9522262073954709\n",
      "Sampling 20 test points\n",
      "Done! Sampled 20 test points\n",
      "Computed internal score: 0.6665583451768297\n",
      "Computed leaf score: 0.523724414067509\n",
      "Sampling 20 points\n",
      "Done! Sampled 20 points\n",
      "Generating internal node with number of samples 20...\n",
      "Done!\n",
      "Generating leaf with number of samples 20...\n",
      "Done!\n",
      "Current mass: 0.9522262073954709\n",
      "Sampling 20 test points\n",
      "Done! Sampled 20 test points\n",
      "Computed internal score: 0.47611310369773546\n",
      "Computed leaf score: 0.28566786221864127\n",
      "Current gain: 0.23805655184886776\n",
      "Current score: 4.618297105868034\n",
      "Current size: 25\n",
      "Internal node index: 466\n",
      "Sampling 20 points\n",
      "Done! Sampled 20 points\n",
      "Generating internal node with number of samples 20...\n",
      "Done!\n",
      "Generating leaf with number of samples 20...\n",
      "Done!\n"
     ]
    },
    {
     "name": "stderr",
     "output_type": "stream",
     "text": [
      "/Users/lucy/anaconda3/lib/python3.5/site-packages/sklearn/tree/tree.py:297: DeprecationWarning: The min_impurity_split parameter is deprecated. Its default value will change from 1e-7 to 0 in version 0.23, and it will be removed in 0.25. Use the min_impurity_decrease parameter instead.\n",
      "  DeprecationWarning)\n",
      "/Users/lucy/anaconda3/lib/python3.5/site-packages/sklearn/tree/tree.py:297: DeprecationWarning: The min_impurity_split parameter is deprecated. Its default value will change from 1e-7 to 0 in version 0.23, and it will be removed in 0.25. Use the min_impurity_decrease parameter instead.\n",
      "  DeprecationWarning)\n",
      "/Users/lucy/anaconda3/lib/python3.5/site-packages/sklearn/tree/tree.py:297: DeprecationWarning: The min_impurity_split parameter is deprecated. Its default value will change from 1e-7 to 0 in version 0.23, and it will be removed in 0.25. Use the min_impurity_decrease parameter instead.\n",
      "  DeprecationWarning)\n"
     ]
    },
    {
     "name": "stdout",
     "output_type": "stream",
     "text": [
      "Current mass: 0.9522262073954709\n",
      "Sampling 20 test points\n",
      "Done! Sampled 20 test points\n",
      "Computed internal score: 0.8093922762861503\n",
      "Computed leaf score: 0.6189470348070562\n",
      "Sampling 20 points\n",
      "Done! Sampled 20 points\n",
      "Generating internal node with number of samples 20...\n",
      "Done!\n",
      "Generating leaf with number of samples 20...\n",
      "Done!\n",
      "Current mass: 0.9522262073954709\n",
      "Sampling 20 test points\n",
      "Done! Sampled 20 test points\n",
      "Computed internal score: 0.7617809659163768\n",
      "Computed leaf score: 0.47611310369773546\n",
      "Current gain: 0.23805655184886776\n",
      "Current score: 4.856353657716902\n",
      "Current size: 27\n",
      "Internal node index: 934\n",
      "Sampling 20 points\n",
      "Done! Sampled 20 points\n",
      "Generating internal node with number of samples 20...\n",
      "Done!\n",
      "Generating leaf with number of samples 20...\n",
      "Done!\n",
      "Current mass: 0.9522262073954709\n",
      "Sampling 20 test points\n",
      "Done! Sampled 20 test points"
     ]
    },
    {
     "name": "stderr",
     "output_type": "stream",
     "text": [
      "/Users/lucy/anaconda3/lib/python3.5/site-packages/sklearn/tree/tree.py:297: DeprecationWarning: The min_impurity_split parameter is deprecated. Its default value will change from 1e-7 to 0 in version 0.23, and it will be removed in 0.25. Use the min_impurity_decrease parameter instead.\n",
      "  DeprecationWarning)\n",
      "/Users/lucy/anaconda3/lib/python3.5/site-packages/sklearn/tree/tree.py:297: DeprecationWarning: The min_impurity_split parameter is deprecated. Its default value will change from 1e-7 to 0 in version 0.23, and it will be removed in 0.25. Use the min_impurity_decrease parameter instead.\n",
      "  DeprecationWarning)\n",
      "/Users/lucy/anaconda3/lib/python3.5/site-packages/sklearn/tree/tree.py:297: DeprecationWarning: The min_impurity_split parameter is deprecated. Its default value will change from 1e-7 to 0 in version 0.23, and it will be removed in 0.25. Use the min_impurity_decrease parameter instead.\n",
      "  DeprecationWarning)\n"
     ]
    },
    {
     "name": "stdout",
     "output_type": "stream",
     "text": [
      "\n",
      "Computed internal score: 0.8093922762861503\n",
      "Computed leaf score: 0.5713357244372825\n",
      "Sampling 20 points\n",
      "Done! Sampled 20 points\n",
      "Generating internal node with number of samples 20...\n",
      "Done!\n",
      "Generating leaf with number of samples 20...\n",
      "Done!\n",
      "Current mass: 0.9522262073954709\n",
      "Sampling 20 test points\n",
      "Done! Sampled 20 test points\n",
      "Computed internal score: 0.8093922762861503\n",
      "Computed leaf score: 0.5713357244372825\n",
      "Current gain: 0.2856678622186413\n",
      "Current score: 5.142021519935543\n",
      "Current size: 29\n",
      "Internal node index: 116\n",
      "Sampling 20 points\n",
      "Done! Sampled 20 points\n",
      "Generating internal node with number of samples 20...\n",
      "Done!\n",
      "Generating leaf with number of samples 20...\n",
      "Done!\n",
      "Current mass: 0.9522262073954709\n",
      "Sampling 20 test points\n",
      "Done! Sampled 20 test points\n",
      "Computed internal score: 0.7617809659163768\n",
      "Computed leaf score: 0.6665583451768297\n",
      "Sampling 20 points\n",
      "Done! Sampled 20 points\n",
      "Generating internal node with number of samples 20...\n",
      "Done!\n",
      "Generating leaf with number of samples 20...\n",
      "Done!\n",
      "Current mass: 0.9522262073954709\n",
      "Sampling 20 test points\n",
      "Done! Sampled 20 test points\n",
      "Computed internal score: 0.47611310369773546\n",
      "Computed leaf score: 0.47611310369773546\n",
      "Current gain: 0.23805655184886776\n",
      "Current score: 5.3800780717844106\n",
      "Current size: 31\n",
      "Reached maximum size, ending!\n",
      "Leaf node index: 1869\n",
      "Leaf node index: 1870\n",
      "Leaf node index: 231\n",
      "Leaf node index: 465\n",
      "Leaf node index: 5\n",
      "Leaf node index: 56\n",
      "Leaf node index: 933\n",
      "Leaf node index: 55\n",
      "Leaf node index: 3\n",
      "Leaf node index: 235\n",
      "Leaf node index: 233\n",
      "Leaf node index: 14\n",
      "Leaf node index: 236\n",
      "Leaf node index: 118\n",
      "Leaf node index: 234\n",
      "Leaf node index: 4\n"
     ]
    },
    {
     "name": "stderr",
     "output_type": "stream",
     "text": [
      "/Users/lucy/anaconda3/lib/python3.5/site-packages/sklearn/tree/tree.py:297: DeprecationWarning: The min_impurity_split parameter is deprecated. Its default value will change from 1e-7 to 0 in version 0.23, and it will be removed in 0.25. Use the min_impurity_decrease parameter instead.\n",
      "  DeprecationWarning)\n",
      "/Users/lucy/anaconda3/lib/python3.5/site-packages/sklearn/tree/tree.py:297: DeprecationWarning: The min_impurity_split parameter is deprecated. Its default value will change from 1e-7 to 0 in version 0.23, and it will be removed in 0.25. Use the min_impurity_decrease parameter instead.\n",
      "  DeprecationWarning)\n"
     ]
    }
   ],
   "source": [
    "%load_ext autoreload\n",
    "%autoreload 2\n",
    "from competition_methods_explanation.active_methods_top_down.dt import explain_tabular\n",
    "iter_max = 1000\n",
    "explanations= explain_tabular(data_table,  black_box, target_class=\"yes\", random_seed=42, termination_max=iter_max)"
   ]
  },
  {
   "cell_type": "code",
   "execution_count": 7,
   "metadata": {
    "ExecuteTime": {
     "end_time": "2019-06-28T06:02:34.449301Z",
     "start_time": "2019-06-28T06:02:34.007094Z"
    },
    "hidden": true
   },
   "outputs": [
    {
     "name": "stdout",
     "output_type": "stream",
     "text": [
      "IF 0.0 <= y-axis <= 1.0860159993171692 THEN hit=yes \n",
      "IF 0.0 <= y-axis <= 1.0860159993171692 THEN hit=yes \n",
      "IF 0.0 <= y-axis <= 1.0860159993171692 AND 1.0860159993171692 <= y-axis <= 1.9500000000000002 THEN hit=yes \n",
      "IF 1.1411309242248535 <= y-axis <= 1.0842593312263489 AND 1.1411309242248535 <= y-axis <= 1.0842593312263489 THEN hit=yes \n",
      "IF 1.1411309242248535 <= y-axis <= 1.0842593312263489 AND 1.1411309242248535 <= y-axis <= 1.0842593312263489 THEN hit=yes \n",
      "IF 1.0842593312263489 <= y-axis <= 1.2977166771888733 AND 1.0842593312263489 <= y-axis <= 1.2977166771888733 THEN hit=yes \n",
      "IF 1.3736247420310974 <= y-axis <= 1.2977166771888733 AND 1.3736247420310974 <= y-axis <= 1.2977166771888733 THEN hit=yes \n",
      "IF 1.1453442573547363 <= y-axis <= 1.2977166771888733 AND 1.1453442573547363 <= y-axis <= 1.2977166771888733 THEN hit=yes \n",
      "IF 1.2506234049797058 <= y-axis <= 1.2977166771888733 AND 1.2506234049797058 <= y-axis <= 1.2977166771888733 THEN hit=yes \n",
      "IF 1.2506234049797058 <= y-axis <= 1.2977166771888733 AND 1.2506234049797058 <= y-axis <= 1.2977166771888733 THEN hit=yes \n",
      "IF 1.2977166771888733 <= y-axis <= 1.2977166771888733 AND 1.2977166771888733 <= y-axis <= 1.2977166771888733 THEN hit=yes \n",
      "IF 1.2977166771888733 <= y-axis <= 1.2977166771888733 AND 1.2977166771888733 <= y-axis <= 1.2977166771888733 THEN hit=yes \n",
      "IF 1.1474561095237732 <= y-axis <= 1.2335887551307678 AND 1.1474561095237732 <= y-axis <= 1.2335887551307678 THEN hit=yes \n",
      "IF 1.1474561095237732 <= y-axis <= 1.2335887551307678 AND 1.1474561095237732 <= y-axis <= 1.2335887551307678 THEN hit=yes \n",
      "IF 1.1474561095237732 <= y-axis <= 1.1474561095237732 AND 1.1474561095237732 <= y-axis <= 1.1474561095237732 THEN hit=yes \n",
      "IF 1.1411309242248535 <= y-axis <= 1.0860159993171692 AND 1.1411309242248535 <= y-axis <= 1.9500000000000002 THEN hit=yes \n",
      "63\n",
      "50.0\n",
      "Blackbox and our, acc 0.23\n",
      "Blackbox and our, f1 score 0.3185840707964601\n",
      "Blackbox and our,recall 0.36\n",
      "Blackbox and our,precision 0.2857142857142857\n"
     ]
    },
    {
     "name": "stderr",
     "output_type": "stream",
     "text": [
      "/Users/lucy/anaconda3/lib/python3.5/site-packages/matplotlib/contour.py:1243: UserWarning: No contour levels were found within the data range.\n",
      "  warnings.warn(\"No contour levels were found\"\n"
     ]
    },
    {
     "data": {
      "image/png": "[encoded data removed]",
      "text/plain": [
       "<Figure size 432x288 with 1 Axes>"
      ]
     },
     "metadata": {
      "needs_background": "light"
     },
     "output_type": "display_data"
    }
   ],
   "source": [
    "%matplotlib inline\n",
    "\n",
    "from utils import  rule_to_string,ruleset_predict\n",
    "\n",
    "for e in explanations:\n",
    "    print(rule_to_string(e,data_table.domain,target_class_idx=1))\n",
    "    \n",
    "our_prediction = ruleset_predict(explanations,test_data_table.X)\n",
    "\n",
    "print(sum(our_prediction) )\n",
    "print(sum(test_data_table.Y) )\n",
    "\n",
    "import sklearn\n",
    "print('Blackbox and our, acc', sklearn.metrics.accuracy_score(test_data_table.Y, our_prediction))\n",
    "print('Blackbox and our, f1 score', sklearn.metrics.f1_score(test_data_table.Y, our_prediction))\n",
    "print('Blackbox and our,recall', sklearn.metrics.recall_score(test_data_table.Y, our_prediction))\n",
    "print('Blackbox and our,precision', sklearn.metrics.precision_score(test_data_table.Y, our_prediction))\n",
    "\n",
    "\n",
    "import matplotlib.pyplot as plt\n",
    "import numpy as np\n",
    "fig, ax = plt.subplots()\n",
    "plt.ylim((0,2))\n",
    "plt.xlim((0,1))\n",
    "\n",
    "ax.scatter(data_table.X[:,0], data_table.X[:,1], c=data_table.Y , alpha=0.5)\n",
    "\n",
    "delta = 0.025\n",
    "x = np.arange(0, 1, delta)\n",
    "y = np.arange(0, 2, 2*delta)\n",
    "X, Y = np.meshgrid(x, y)\n",
    "F = f(X,Y)    \n",
    "levels=[0]\n",
    "fmt = {}\n",
    "levels = [0] # the decision threshold is zero\n",
    "CS = ax.contour(X, Y, F,levels=levels)\n",
    "strs = ['']\n",
    "for l, s in zip(CS.levels, strs):\n",
    "    fmt[l] = s\n",
    "ax.clabel(CS, inline=0, fontsize=80,fmt=fmt)\n",
    "\n",
    "\n",
    "# visualize the rule\n",
    "xx, yy = np.meshgrid(np.linspace(0, 1, 100), np.linspace(0, 2, 100))\n",
    "output_rules = explanations\n",
    "for output_rule in output_rules:\n",
    "    # Z = predict_by_rule(df_instances, output_rule)\n",
    "    Z =  output_rule.evaluate_data(np.c_[xx.ravel(), yy.ravel()])\n",
    "\n",
    "    Z = Z.reshape(xx.shape).astype(int)\n",
    "    CS2 = ax.contour(xx, yy, Z, cmap=plt.cm.Blues)\n",
    "\n",
    "# output_rule = output_rules[0]\n",
    "# Z =  output_rule.evaluate_data(np.c_[xx.ravel(), yy.ravel()])\n",
    "\n",
    "# Z = Z.reshape(xx.shape).astype(int)\n",
    "# CS2 = ax.contour(xx, yy, Z, cmap=plt.cm.Blues)\n",
    "\n",
    "\n",
    "# plt.title(\"CN2-Rules visualized value of the decision_function method\")\n",
    "\n",
    "plt.show()"
   ]
  },
  {
   "cell_type": "markdown",
   "metadata": {
    "ExecuteTime": {
     "end_time": "2019-05-31T21:19:06.522890Z",
     "start_time": "2019-05-31T21:19:06.482214Z"
    },
    "hidden": true
   },
   "source": [
    "### DTExtract-UCT (Our modified implementation)\n",
    "\n",
    "We demonstrat by using a DTExtract algortithm (with a modification to utilize MCTS UCT to find node to split).\n"
   ]
  },
  {
   "cell_type": "code",
   "execution_count": 8,
   "metadata": {
    "ExecuteTime": {
     "end_time": "2019-06-28T06:02:43.982924Z",
     "start_time": "2019-06-28T06:02:40.435735Z"
    },
    "hidden": true,
    "hide_input": false
   },
   "outputs": [
    {
     "name": "stdout",
     "output_type": "stream",
     "text": [
      "The autoreload extension is already loaded. To reload it, use:\n",
      "  %reload_ext autoreload\n",
      "all space searched over\n",
      "current termination count: 51\n"
     ]
    }
   ],
   "source": [
    "%load_ext autoreload\n",
    "%autoreload 2\n",
    "from competition_methods_explanation.active_methods_top_down.uct import explain_tabular\n",
    "iter_max = 1000\n",
    "explanations, tree = explain_tabular(\n",
    "    data_table,  black_box, target_class=\"yes\", random_seed=42, termination_max=iter_max)"
   ]
  },
  {
   "cell_type": "code",
   "execution_count": 9,
   "metadata": {
    "ExecuteTime": {
     "end_time": "2019-06-28T06:02:46.561444Z",
     "start_time": "2019-06-28T06:02:46.502815Z"
    },
    "hidden": true
   },
   "outputs": [
    {
     "name": "stdout",
     "output_type": "stream",
     "text": [
      "IF 0.7058080808080809 <= x-axis <= 0.9750000000000001 AND 1.1621212121212123 <= y-axis <= 1.7032904805632079 THEN hit=yes \n",
      "IF 0.325 <= x-axis <= 0.5519462299765331 AND 1.353122130394858 <= y-axis <= 1.9500000000000002 THEN hit=yes \n",
      "IF 0.0 <= x-axis <= 0.25241502876948246 AND 0.0 <= y-axis <= 0.5051154334900892 THEN hit=yes \n",
      "IF 0.12584175084175087 <= x-axis <= 0.22651515151515153 AND 1.1621212121212123 <= y-axis <= 1.9500000000000002 THEN hit=yes \n",
      "IF 0.43333333333333335 <= x-axis <= 0.9750000000000001 AND 0.9023665526155997 <= y-axis <= 1.1621212121212123 THEN hit=yes \n",
      "IF 0.6265459152281926 <= x-axis <= 0.7058080808080809 AND 1.1621212121212123 <= y-axis <= 1.9500000000000002 THEN hit=yes \n",
      "IF 0.7028236914600552 <= x-axis <= 0.9750000000000001 AND 0.0 <= y-axis <= 0.2500066286971149 THEN hit=yes \n",
      "IF 0.0755101863789753 <= x-axis <= 0.12584175084175087 AND 1.1621212121212123 <= y-axis <= 1.9500000000000002 THEN hit=yes \n",
      "IF 0.7255050505050505 <= x-axis <= 0.9750000000000001 AND 0.2500066286971149 <= y-axis <= 0.5051154334900892 THEN hit=yes \n",
      "IF 0.0027633330963273495 <= x-axis <= 0.0755101863789753 AND 1.3053719008264464 <= y-axis <= 1.9500000000000002 THEN hit=yes \n",
      "IF 0.7058080808080809 <= x-axis <= 0.8254489337822672 AND 1.7032904805632079 <= y-axis <= 1.9500000000000002 THEN hit=yes \n",
      "IF 0.2518823599865091 <= x-axis <= 0.3001300887664524 AND 1.1621212121212123 <= y-axis <= 1.7032904805632079 THEN hit=yes \n",
      "IF 0.600172289129121 <= x-axis <= 0.6265459152281926 AND 1.1621212121212123 <= y-axis <= 1.9500000000000002 THEN hit=yes \n",
      "IF 0.5753285616868787 <= x-axis <= 0.600172289129121 AND 1.1621212121212123 <= y-axis <= 1.9500000000000002 THEN hit=yes \n",
      "IF 0.6007575757575758 <= x-axis <= 0.7028236914600552 AND 0.0 <= y-axis <= 0.2500066286971149 THEN hit=yes \n",
      "IF 0.0 <= x-axis <= 0.20134680134680133 AND 0.9023665526155997 <= y-axis <= 1.1621212121212123 THEN hit=yes \n",
      "IF 0.5547979797979798 <= x-axis <= 0.9750000000000001 AND 0.6520006157427202 <= y-axis <= 0.7043158861340681 THEN hit=yes \n"
     ]
    }
   ],
   "source": [
    "from utils import rule_to_string\n",
    "\n",
    "for e in explanations:\n",
    "    print(rule_to_string(e,data_table.domain,target_class_idx=1))"
   ]
  },
  {
   "cell_type": "code",
   "execution_count": 10,
   "metadata": {
    "ExecuteTime": {
     "end_time": "2019-06-28T06:02:48.041605Z",
     "start_time": "2019-06-28T06:02:47.709682Z"
    },
    "hidden": true,
    "hide_input": false
   },
   "outputs": [
    {
     "data": {
      "image/png": "[encoded data removed]",
      "text/plain": [
       "<Figure size 432x288 with 1 Axes>"
      ]
     },
     "metadata": {
      "needs_background": "light"
     },
     "output_type": "display_data"
    }
   ],
   "source": [
    "import matplotlib.pyplot as plt\n",
    "import numpy as np\n",
    "fig, ax = plt.subplots()\n",
    "plt.ylim((0,2))\n",
    "plt.xlim((0,1))\n",
    "\n",
    "ax.scatter(data_table.X[:,0], data_table.X[:,1], c=data_table.Y , alpha=0.5)\n",
    "delta = 0.0025\n",
    "x = np.arange(0, 1, delta)\n",
    "y = np.arange(0, 2, 2*delta)\n",
    "X, Y = np.meshgrid(x, y)\n",
    "F = f(X,Y)    \n",
    "levels=[0]\n",
    "fmt = {}\n",
    "levels = [0] # the decision threshold is zero\n",
    "CS = ax.contour(X, Y, F,levels=levels)\n",
    "strs = ['']\n",
    "for l, s in zip(CS.levels, strs):\n",
    "    fmt[l] = s\n",
    "ax.clabel(CS, inline=0, fontsize=80,fmt=fmt)\n",
    "\n",
    "\n",
    "# visualize the rule\n",
    "xx, yy = np.meshgrid(np.linspace(0, 1, 100), np.linspace(0, 2, 100))\n",
    "output_rules = explanations[0:5]\n",
    "for output_rule in output_rules:\n",
    "    # Z = predict_by_rule(df_instances, output_rule)\n",
    "    Z =  output_rule.evaluate_data(np.c_[xx.ravel(), yy.ravel()])\n",
    "\n",
    "    Z = Z.reshape(xx.shape).astype(int)\n",
    "    CS2 = ax.contour(xx, yy, Z, cmap=plt.cm.Blues)\n",
    "\n",
    "# idx=1\n",
    "# output_rule = output_rules[idx]\n",
    "\n",
    "# Z =  output_rule.evaluate_data(np.c_[xx.ravel(), yy.ravel()])\n",
    "\n",
    "# Z = Z.reshape(xx.shape).astype(int)\n",
    "# CS2 = ax.contour(xx, yy, Z, cmap=plt.cm.Blues)\n",
    "\n",
    "\n",
    "# plt.title(\"CN2-Rules visualized value of the decision_function method\")\n",
    "\n",
    "plt.show()"
   ]
  },
  {
   "cell_type": "markdown",
   "metadata": {
    "hidden": true
   },
   "source": [
    "#### we also show DTExtract-MCTS with no active query "
   ]
  },
  {
   "cell_type": "code",
   "execution_count": null,
   "metadata": {
    "ExecuteTime": {
     "end_time": "2019-06-28T06:02:13.429802Z",
     "start_time": "2019-06-28T06:01:46.727Z"
    },
    "hidden": true
   },
   "outputs": [],
   "source": [
    "%load_ext autoreload\n",
    "%autoreload 2\n",
    "from competition_methods_explanation.active_methods_top_down.uct import explain_tabular_no_query\n",
    "K = -1\n",
    "explanations, tree = explain_tabular_no_query(\n",
    "    data_table, black_box, target_class=\"yes\", K=K, random_seed=42, termination_max=10000000)"
   ]
  },
  {
   "cell_type": "code",
   "execution_count": null,
   "metadata": {
    "ExecuteTime": {
     "end_time": "2019-06-28T06:02:13.432264Z",
     "start_time": "2019-06-28T06:01:46.730Z"
    },
    "hidden": true,
    "hide_input": false
   },
   "outputs": [],
   "source": [
    "\n",
    "import matplotlib.pyplot as plt\n",
    "import numpy as np\n",
    "fig, ax = plt.subplots()\n",
    "plt.ylim((0,2))\n",
    "plt.xlim((0,1))\n",
    "\n",
    "ax.scatter(data_table.X[:,0], data_table.X[:,1], c=data_table.Y , alpha=0.5)\n",
    "delta = 0.025\n",
    "x = np.arange(0, 1, delta)\n",
    "y = np.arange(0, 2, 2*delta)\n",
    "X, Y = np.meshgrid(x, y)\n",
    "F = f(X,Y)    \n",
    "levels=[0]\n",
    "fmt = {}\n",
    "levels = [0] # the decision threshold is zero\n",
    "CS = ax.contour(X, Y, F,levels=levels)\n",
    "strs = ['']\n",
    "for l, s in zip(CS.levels, strs):\n",
    "    fmt[l] = s\n",
    "ax.clabel(CS, inline=0, fontsize=80,fmt=fmt)\n",
    "\n",
    "\n",
    "# visualize the rule\n",
    "xx, yy = np.meshgrid(np.linspace(0, 1, 100), np.linspace(0, 2, 100))\n",
    "output_rules = explanations[:6]\n",
    "for output_rule in output_rules:\n",
    "    # Z = predict_by_rule(df_instances, output_rule)\n",
    "    Z =  output_rule.evaluate_data(np.c_[xx.ravel(), yy.ravel()])\n",
    "\n",
    "    Z = Z.reshape(xx.shape).astype(int)\n",
    "    CS2 = ax.contour(xx, yy, Z, cmap=plt.cm.Blues)\n",
    "\n",
    "# idx=2\n",
    "# output_rule = output_rules[idx]\n",
    "\n",
    "# Z =  output_rule.evaluate_data(np.c_[xx.ravel(), yy.ravel()])\n",
    "\n",
    "# Z = Z.reshape(xx.shape).astype(int)\n",
    "# CS2 = ax.contour(xx, yy, Z, cmap=plt.cm.Blues)\n",
    "\n",
    "\n",
    "plt.title(\"run this on the labelled datasetonly without queriying\")\n",
    "\n",
    "plt.show()"
   ]
  },
  {
   "cell_type": "markdown",
   "metadata": {
    "heading_collapsed": true
   },
   "source": [
    "## new"
   ]
  },
  {
   "cell_type": "code",
   "execution_count": null,
   "metadata": {
    "ExecuteTime": {
     "end_time": "2019-06-28T06:02:13.436398Z",
     "start_time": "2019-06-28T06:01:46.733Z"
    },
    "hidden": true
   },
   "outputs": [],
   "source": [
    "%load_ext autoreload\n",
    "%autoreload 2\n",
    "from competition_methods_explanation.passive_methods.bds import explain_tabular\n",
    "iter_max = 1000\n",
    "explanations = explain_tabular(data_table, data_encoder, black_box, target_class=\"yes\", random_seed=42)"
   ]
  },
  {
   "cell_type": "code",
   "execution_count": null,
   "metadata": {
    "ExecuteTime": {
     "end_time": "2019-06-28T06:02:13.438623Z",
     "start_time": "2019-06-28T06:01:46.735Z"
    },
    "hidden": true
   },
   "outputs": [],
   "source": [
    "# [('y-axis_≥ 1.425',), ('x-axis_0.338 - 0.663_neg', 'x-axis_≥ 0.663')]\n",
    "\n",
    "%matplotlib inline\n",
    "import matplotlib.pyplot as plt\n",
    "import numpy as np\n",
    "fig, ax = plt.subplots()\n",
    "plt.ylim((0,2))\n",
    "plt.xlim((0,1))\n",
    "\n",
    "ax.scatter(data_table.X[:,0], data_table.X[:,1], c=data_table.Y , alpha=0.5)\n",
    "delta = 0.025\n",
    "x = np.arange(0, 1, delta)\n",
    "y = np.arange(0, 2, 2*delta)\n",
    "X, Y = np.meshgrid(x, y)\n",
    "F = f(X,Y)    \n",
    "levels=[0]\n",
    "fmt = {}\n",
    "levels = [0] # the decision threshold is zero\n",
    "CS = ax.contour(X, Y, F,levels=levels)\n",
    "strs = ['']\n",
    "for l, s in zip(CS.levels, strs):\n",
    "    fmt[l] = s\n",
    "ax.clabel(CS, inline=0, fontsize=80,fmt=fmt)\n",
    "\n",
    "\n",
    "# visualize the rule\n",
    "xx, yy = np.meshgrid(np.linspace(0, 1, 100), np.linspace(0, 2, 100))\n",
    "output_rules = explanations\n",
    "for output_rule in output_rules:\n",
    "    # Z = predict_by_rule(df_instances, output_rule)\n",
    "    Z =  output_rule.evaluate_data(np.c_[xx.ravel(), yy.ravel()])\n",
    "\n",
    "    Z = Z.reshape(xx.shape).astype(int)\n",
    "    CS2 = ax.contour(xx, yy, Z, cmap=plt.cm.Blues)\n",
    "\n",
    "# output_rule = output_rules[0]\n",
    "# Z =  output_rule.evaluate_data(np.c_[xx.ravel(), yy.ravel()])\n",
    "\n",
    "# Z = Z.reshape(xx.shape).astype(int)\n",
    "# CS2 = ax.contour(xx, yy, Z, cmap=plt.cm.Blues)\n",
    "\n",
    "\n",
    "# plt.title(\"CN2-Rules visualized value of the decision_function method\")\n",
    "\n",
    "plt.show()"
   ]
  },
  {
   "cell_type": "code",
   "execution_count": null,
   "metadata": {
    "ExecuteTime": {
     "end_time": "2019-06-28T06:02:13.449144Z",
     "start_time": "2019-06-28T06:01:46.738Z"
    },
    "hidden": true
   },
   "outputs": [],
   "source": [
    "%load_ext autoreload\n",
    "%autoreload 2\n",
    "from approach import explain_tabular\n",
    "iter_max = 1000\n",
    "explanations,ADS = explain_tabular(data_table, data_encoder, black_box, target_class=\"yes\", random_seed=42,beta=0)"
   ]
  },
  {
   "cell_type": "code",
   "execution_count": null,
   "metadata": {
    "ExecuteTime": {
     "end_time": "2019-06-28T06:02:13.451337Z",
     "start_time": "2019-06-28T06:01:46.743Z"
    },
    "hidden": true
   },
   "outputs": [],
   "source": [
    "%matplotlib inline\n",
    "import matplotlib.pyplot as plt\n",
    "import numpy as np\n",
    "fig, ax = plt.subplots()\n",
    "plt.ylim((0,2))\n",
    "plt.xlim((0,1))\n",
    "\n",
    "ax.scatter(data_table.X[:,0], data_table.X[:,1], c=data_table.Y , alpha=0.5)\n",
    "# ax.scatter(ADS.synthetic_data_table.X[:,0], ADS.synthetic_data_table.X[:,1], c=ADS.synthetic_data_table.Y , alpha=0.5)\n",
    "\n",
    "\n",
    "delta = 0.025\n",
    "x = np.arange(0, 1, delta)\n",
    "y = np.arange(0, 2, 2*delta)\n",
    "X, Y = np.meshgrid(x, y)\n",
    "F = f(X,Y)    \n",
    "levels=[0]\n",
    "fmt = {}\n",
    "levels = [0] # the decision threshold is zero\n",
    "CS = ax.contour(X, Y, F,levels=levels)\n",
    "strs = ['']\n",
    "for l, s in zip(CS.levels, strs):\n",
    "    fmt[l] = s\n",
    "ax.clabel(CS, inline=0, fontsize=80,fmt=fmt)\n",
    "\n",
    "\n",
    "# visualize the rule\n",
    "xx, yy = np.meshgrid(np.linspace(0, 1, 100), np.linspace(0, 2, 100))\n",
    "output_rules = explanations\n",
    "for output_rule in output_rules:\n",
    "    # Z = predict_by_rule(df_instances, output_rule)\n",
    "    Z =  output_rule.evaluate_data(np.c_[xx.ravel(), yy.ravel()])\n",
    "\n",
    "    Z = Z.reshape(xx.shape).astype(int)\n",
    "    CS2 = ax.contour(xx, yy, Z, cmap=plt.cm.Blues)\n",
    "\n",
    "# output_rule = output_rules[0]\n",
    "# Z =  output_rule.evaluate_data(np.c_[xx.ravel(), yy.ravel()])\n",
    "\n",
    "# Z = Z.reshape(xx.shape).astype(int)\n",
    "# CS2 = ax.contour(xx, yy, Z, cmap=plt.cm.Blues)\n",
    "\n",
    "\n",
    "# plt.title(\"CN2-Rules visualized value of the decision_function method\")\n",
    "\n",
    "plt.show()"
   ]
  },
  {
   "cell_type": "code",
   "execution_count": null,
   "metadata": {
    "ExecuteTime": {
     "end_time": "2019-06-28T06:02:13.499361Z",
     "start_time": "2019-06-28T06:01:46.748Z"
    },
    "hidden": true
   },
   "outputs": [],
   "source": [
    "%load_ext autoreload\n",
    "%autoreload 2\n",
    "from approach import explain_tabular\n",
    "iter_max = 1000\n",
    "explanations,ADS = explain_tabular(data_table, data_encoder, black_box, target_class=\"yes\", random_seed=42)"
   ]
  },
  {
   "cell_type": "code",
   "execution_count": null,
   "metadata": {
    "ExecuteTime": {
     "end_time": "2019-06-28T06:02:13.508025Z",
     "start_time": "2019-06-28T06:01:46.753Z"
    },
    "hidden": true
   },
   "outputs": [],
   "source": [
    "%matplotlib inline\n",
    "import matplotlib.pyplot as plt\n",
    "import numpy as np\n",
    "fig, ax = plt.subplots()\n",
    "plt.ylim((0,2))\n",
    "plt.xlim((0,1))\n",
    "\n",
    "ax.scatter(data_table.X[:,0], data_table.X[:,1], c=data_table.Y , alpha=0.5)\n",
    "# ax.scatter(ADS.synthetic_data_table.X[:,0], ADS.synthetic_data_table.X[:,1], c=ADS.synthetic_data_table.Y , alpha=0.5)\n",
    "\n",
    "\n",
    "delta = 0.025\n",
    "x = np.arange(0, 1, delta)\n",
    "y = np.arange(0, 2, 2*delta)\n",
    "X, Y = np.meshgrid(x, y)\n",
    "F = f(X,Y)    \n",
    "levels=[0]\n",
    "fmt = {}\n",
    "levels = [0] # the decision threshold is zero\n",
    "CS = ax.contour(X, Y, F,levels=levels)\n",
    "strs = ['']\n",
    "for l, s in zip(CS.levels, strs):\n",
    "    fmt[l] = s\n",
    "ax.clabel(CS, inline=0, fontsize=80,fmt=fmt)\n",
    "\n",
    "\n",
    "# visualize the rule\n",
    "xx, yy = np.meshgrid(np.linspace(0, 1, 100), np.linspace(0, 2, 100))\n",
    "output_rules = explanations\n",
    "for output_rule in output_rules:\n",
    "    # Z = predict_by_rule(df_instances, output_rule)\n",
    "    Z =  output_rule.evaluate_data(np.c_[xx.ravel(), yy.ravel()])\n",
    "\n",
    "    Z = Z.reshape(xx.shape).astype(int)\n",
    "    CS2 = ax.contour(xx, yy, Z, cmap=plt.cm.Blues)\n",
    "\n",
    "# output_rule = output_rules[0]\n",
    "# Z =  output_rule.evaluate_data(np.c_[xx.ravel(), yy.ravel()])\n",
    "\n",
    "# Z = Z.reshape(xx.shape).astype(int)\n",
    "# CS2 = ax.contour(xx, yy, Z, cmap=plt.cm.Blues)\n",
    "\n",
    "\n",
    "# plt.title(\"CN2-Rules visualized value of the decision_function method\")\n",
    "\n",
    "plt.show()"
   ]
  },
  {
   "cell_type": "code",
   "execution_count": null,
   "metadata": {
    "ExecuteTime": {
     "end_time": "2019-06-28T06:02:13.514326Z",
     "start_time": "2019-06-28T06:01:46.758Z"
    },
    "hidden": true
   },
   "outputs": [],
   "source": [
    "from random import sample \n",
    "  \n",
    "# Prints list of random items of given length \n",
    "list1 = [1, 2, 3, 4, 5]  \n",
    "  \n",
    "print(sample(list1,1)[0]) "
   ]
  },
  {
   "cell_type": "code",
   "execution_count": null,
   "metadata": {
    "ExecuteTime": {
     "end_time": "2019-06-28T06:02:13.540759Z",
     "start_time": "2019-06-28T06:01:46.761Z"
    },
    "hidden": true
   },
   "outputs": [],
   "source": [
    "print( t.index('no') )"
   ]
  },
  {
   "cell_type": "code",
   "execution_count": null,
   "metadata": {
    "ExecuteTime": {
     "end_time": "2019-06-28T06:02:13.543988Z",
     "start_time": "2019-06-28T06:01:46.764Z"
    },
    "hidden": true
   },
   "outputs": [],
   "source": [
    "i = np.where(data_table.Y == 1)[0]\n",
    "print(i)\n",
    "tmp = data_table[i]\n",
    "print(tmp)\n",
    "print(len(tmp))\n",
    "print(len(i))\n"
   ]
  },
  {
   "cell_type": "code",
   "execution_count": null,
   "metadata": {
    "ExecuteTime": {
     "end_time": "2019-06-28T06:02:13.546838Z",
     "start_time": "2019-06-28T06:01:46.766Z"
    },
    "hidden": true
   },
   "outputs": [],
   "source": [
    "print(data_table.domain)"
   ]
  },
  {
   "cell_type": "code",
   "execution_count": null,
   "metadata": {
    "ExecuteTime": {
     "end_time": "2019-06-28T06:02:13.549834Z",
     "start_time": "2019-06-28T06:01:46.768Z"
    },
    "hidden": true
   },
   "outputs": [],
   "source": [
    "import Orange\n",
    "d = Orange.statistics.basic.Domain(data_table)\n",
    "print(d)"
   ]
  },
  {
   "cell_type": "code",
   "execution_count": null,
   "metadata": {
    "ExecuteTime": {
     "end_time": "2019-06-28T06:02:13.552492Z",
     "start_time": "2019-06-28T06:01:46.770Z"
    },
    "hidden": true
   },
   "outputs": [],
   "source": [
    "import Orange\n",
    "iris = Orange.data.Table(\"iris.tab\")\n",
    "disc = Orange.preprocess.Discretize()\n",
    "disc.method = Orange.preprocess.discretize.EqualFreq(n=3)\n",
    "d_iris = disc(iris)"
   ]
  },
  {
   "cell_type": "code",
   "execution_count": null,
   "metadata": {
    "ExecuteTime": {
     "end_time": "2019-06-28T06:02:13.555423Z",
     "start_time": "2019-06-28T06:01:46.773Z"
    },
    "hidden": true
   },
   "outputs": [],
   "source": [
    "d_iris.domain.attributes[0].values"
   ]
  },
  {
   "cell_type": "code",
   "execution_count": null,
   "metadata": {
    "ExecuteTime": {
     "end_time": "2019-06-28T06:02:13.558054Z",
     "start_time": "2019-06-28T06:01:46.775Z"
    },
    "hidden": true
   },
   "outputs": [],
   "source": [
    "a = [True,True]\n",
    "print(np.sum(a))"
   ]
  },
  {
   "cell_type": "code",
   "execution_count": null,
   "metadata": {
    "hidden": true
   },
   "outputs": [],
   "source": []
  }
 ],
 "metadata": {
  "kernel_info": {
   "name": "python3"
  },
  "kernelspec": {
   "display_name": "Python 3",
   "language": "python",
   "name": "python3"
  },
  "language_info": {
   "codemirror_mode": {
    "name": "ipython",
    "version": 3
   },
   "file_extension": ".py",
   "mimetype": "text/x-python",
   "name": "python",
   "nbconvert_exporter": "python",
   "pygments_lexer": "ipython3",
   "version": "3.7.3"
  },
  "nteract": {
   "version": "nteract-on-jupyter@2.0.12"
  }
 },
 "nbformat": 4,
 "nbformat_minor": 2
}
